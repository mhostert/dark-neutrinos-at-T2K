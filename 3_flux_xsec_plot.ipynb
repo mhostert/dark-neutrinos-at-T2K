{
 "cells": [
  {
   "cell_type": "code",
   "execution_count": 1,
   "id": "disabled-twelve",
   "metadata": {},
   "outputs": [],
   "source": [
    "%load_ext autoreload\n",
    "%autoreload 2\n",
    "\n",
    "import numpy as np\n",
    "import vegas as vg\n",
    "import gvar as gv\n",
    "import random\n",
    "from scipy import interpolate\n",
    "import scipy.stats\n",
    "from scipy.integrate import quad\n",
    "\n",
    "import matplotlib.pyplot as plt\n",
    "from matplotlib import rc, rcParams\n",
    "from matplotlib.pyplot import *\n",
    "from matplotlib.legend_handler import HandlerLine2D"
   ]
  },
  {
   "cell_type": "code",
   "execution_count": 2,
   "id": "6dd22f2f-8b72-4e38-a420-03942bc03610",
   "metadata": {},
   "outputs": [],
   "source": [
    "fsize = 12\n",
    "\n",
    "rcParams['text.usetex'] = True\n",
    "rcParams['font.family'] = 'serif'\n",
    "rcParams['font.serif'] = ['computer modern roman', 'serif']\n",
    "# rcParams['figure.figsize'] = (1.2*3.7,1.2*2.3617)\n",
    "rcParams['hatch.linewidth'] = 0.3\n",
    "rcParams['axes.labelsize'] = fsize\n",
    "rcParams['xtick.labelsize'] = fsize\n",
    "rcParams['ytick.labelsize'] = fsize\n",
    "rcParams['axes.titlesize'] = 10\n",
    "rcParams['legend.frameon'] = False\n",
    "rcParams['legend.fontsize'] = 0.8*fsize\n",
    "rcParams['legend.loc'] = 'best'"
   ]
  },
  {
   "cell_type": "code",
   "execution_count": 3,
   "id": "partial-savings",
   "metadata": {},
   "outputs": [],
   "source": [
    "from dark_news import *"
   ]
  },
  {
   "cell_type": "code",
   "execution_count": 4,
   "id": "ae0058ed-dc44-4097-b7b2-4100f1c93129",
   "metadata": {},
   "outputs": [],
   "source": [
    "save_folder = (f'./fig/3_flux_xsec_plot/')\n",
    "!mkdir -p $save_folder"
   ]
  },
  {
   "cell_type": "code",
   "execution_count": 5,
   "id": "102fcde8-ebdc-4ec8-948c-a277b680fb32",
   "metadata": {},
   "outputs": [],
   "source": [
    "heavy_bp = {\n",
    "        'm4':0.1,\n",
    "        'mz':1.25,\n",
    "        'alpha_dark':0.4,\n",
    "        'epsilon':np.sqrt(4.6e-4),\n",
    "        'Umu4_2':2.2e-7,\n",
    "        'Ud4_2':1,\n",
    "    }"
   ]
  },
  {
   "cell_type": "code",
   "execution_count": 6,
   "id": "anticipated-string",
   "metadata": {},
   "outputs": [],
   "source": [
    "BSMparams = model.model_params()\n",
    "\n",
    "BSMparams.Ue4 = 0.0\n",
    "BSMparams.Umu4 = np.sqrt(heavy_bp['Umu4_2'])\n",
    "BSMparams.Utau4 = 0.0\n",
    "BSMparams.Ue5 = 0.0\n",
    "BSMparams.Umu5 = 0.0\n",
    "BSMparams.Utau5 = 0.0\n",
    "BSMparams.Ue6 = 0.0\n",
    "BSMparams.Umu6 = 0.0\n",
    "BSMparams.Utau6 = 0.0\n",
    "BSMparams.UD4 = np.sqrt(heavy_bp['Ud4_2'])\n",
    "BSMparams.UD5 = 0.0\n",
    "BSMparams.UD6 = 0.0\n",
    "BSMparams.m4 = heavy_bp['m4']\n",
    "BSMparams.m5 = 1e6\n",
    "BSMparams.m6 = 1e6\n",
    "BSMparams.Mzprime = heavy_bp['mz']\n",
    "BSMparams.D_or_M = 'majorana'\n",
    "BSMparams.epsilon = heavy_bp['epsilon']"
   ]
  },
  {
   "cell_type": "markdown",
   "id": "preceding-variation",
   "metadata": {},
   "source": [
    "### fluxes"
   ]
  },
  {
   "cell_type": "code",
   "execution_count": 7,
   "id": "f9837ff8-106a-4d62-a0c7-9e2abdf0e700",
   "metadata": {},
   "outputs": [],
   "source": [
    "material_mass_t2k = {'hydrogen': 0.5507270215029775,\n",
    "                 'carbon': 9.722023965952,\n",
    "                 'oxygen': 3.420920851265022,\n",
    "                 'copper': 0.8679,\n",
    "                 'zinc': 0.4471,\n",
    "                 'lead': 3.634,\n",
    "                 'argon': 0.01602}\n",
    "\n",
    "material_mass_mb = {'hydrogen': 818*2/14,\n",
    "                    'carbon': 818*12/14,}\n",
    "\n",
    "material_A = {'hydrogen': 1,\n",
    "              'carbon': 12,\n",
    "              'oxygen': 16,\n",
    "              'copper': 63.546,\n",
    "              'zinc': 65.38,\n",
    "              'lead': 207.2,\n",
    "              'argon': 40}\n",
    "\n",
    "material_Z = {'hydrogen': 1,\n",
    "              'carbon': 6,\n",
    "              'oxygen': 8,\n",
    "              'copper': 29,\n",
    "              'zinc': 30,\n",
    "              'lead': 82,\n",
    "              'argon': 18}"
   ]
  },
  {
   "cell_type": "code",
   "execution_count": 8,
   "id": "d4cda689-0821-4fe5-a2f3-b266ad38892f",
   "metadata": {},
   "outputs": [
    {
     "name": "stderr",
     "output_type": "stream",
     "text": [
      "/var/folders/my/7j7cn6f92_z66yvbb11lgt2r0000gn/T/ipykernel_12364/330967878.py:30: RuntimeWarning: invalid value encountered in true_divide\n",
      "  ratio_events = t2k_xsec_times_n_target/mb_xsec_times_n_target*ratio_flux*ratio_pot\n"
     ]
    }
   ],
   "source": [
    "EMAX=2\n",
    "EPOINTS=20\n",
    "HEL = -1 \n",
    "# E = np.linspace(0.1, EMAX, EPOINTS)\n",
    "E = np.geomspace(0.1, EMAX, EPOINTS)\n",
    "\n",
    "MB = exp.experiment('miniboone')\n",
    "MBflux = MB.get_flux_func()\n",
    "ND = exp.experiment('nd280_nu')\n",
    "NDflux = ND.get_flux_func()\n",
    "ratio_flux =  NDflux(E)/MBflux(E)\n",
    "\n",
    "t2k_pot = 12.34e20 + 6.29e20\n",
    "mb_pot = 18.75e20\n",
    "ratio_pot = t2k_pot/mb_pot\n",
    "\n",
    "\n",
    "t2k_xsec_times_n_target = np.zeros(len(E))\n",
    "mb_xsec_times_n_target = np.zeros(len(E))\n",
    "\n",
    "sigma_material = {}\n",
    "for material in material_mass_t2k.keys():\n",
    "    sigma_material[material] = np.array([xsecs.get_sigma_zprime(BSMparams, Enu, \n",
    "                                                                MA=material_A[material], Z=material_Z[material], \n",
    "                                                                nu_produced=pdg.neutrino4, h_upscattered=HEL) for Enu in E ])\n",
    "    t2k_xsec_times_n_target += sigma_material[material]*material_mass_t2k[material]/material_A[material]\n",
    "    if material in material_mass_mb.keys():\n",
    "        mb_xsec_times_n_target += sigma_material[material]*material_mass_mb[material]/material_A[material]\n",
    "\n",
    "ratio_events = t2k_xsec_times_n_target/mb_xsec_times_n_target*ratio_flux*ratio_pot"
   ]
  },
  {
   "cell_type": "code",
   "execution_count": 10,
   "id": "arbitrary-lounge",
   "metadata": {
    "tags": []
   },
   "outputs": [
    {
     "data": {
      "image/png": "[encoded data removed]",
      "text/plain": [
       "<Figure size 432x288 with 3 Axes>"
      ]
     },
     "metadata": {
      "needs_background": "light"
     },
     "output_type": "display_data"
    }
   ],
   "source": [
    "from matplotlib.legend_handler import HandlerTuple\n",
    "\n",
    "axes_form_upper_panel  = [0.14,0.13+0.23,0.73,0.6]\n",
    "axes_form_bottom_panel = [0.14,0.13,0.73,0.18]\n",
    "\n",
    "fig = plt.figure()\n",
    "ax2 = fig.add_axes(axes_form_upper_panel)\n",
    "ax = ax2.twinx()\n",
    "ax2.set_zorder(ax.get_zorder() + 1)\n",
    "ax2.patch.set_visible(False)\n",
    "\n",
    "\n",
    "carbon_qe, = ax2.plot(E, sigma_material['carbon']/material_A['carbon'], ls=':', c='deeppink', lw=1.5, zorder=10)\n",
    "lead_qe, = ax2.plot(E, sigma_material['lead']/material_A['lead'], c='deeppink', lw=1.5, zorder=10)\n",
    "\n",
    "e_ccqe, sigma_ccqe = np.loadtxt(\"./digitized/ccqe_cross_sections/quasielastic_electron_neutrino_cross_section.dat\", unpack=True)\n",
    "carbon_coh, = ax2.plot(np.append(0.0,e_ccqe), \n",
    "         np.append(1e-4,sigma_ccqe)*1e-38*(material_A['carbon']-material_Z['carbon'])/material_A['carbon'], \n",
    "         ls=':', c='black', lw=1.5, label = r'SM $\\nu_e$CCQE C')\n",
    "lead_coh, = ax2.plot(np.append(0.0,e_ccqe), \n",
    "         np.append(1e-4,sigma_ccqe)*1e-38*(material_A['lead']-material_Z['lead'])/material_A['lead'],\n",
    "         c='black', lw=1.5, label = r'SM $\\nu_e$CCQE Pb')\n",
    "    \n",
    "ax2.legend([(lead_qe, lead_coh), (carbon_qe, carbon_coh)],\n",
    "             ['lead', 'carbon'],\n",
    "             frameon=False, \n",
    "             # numpoints=4,\n",
    "             handler_map={tuple: HandlerTuple(ndivide=None)})\n",
    "\n",
    "###########################\n",
    "# FLUXES\n",
    "e_int = np.linspace(0.005,3,500)\n",
    "units = 1e4\n",
    "\n",
    "###### PLOT MINIBOONE\n",
    "s2 = ax.fill_between(e_int, np.zeros(np.size(e_int)), MBflux(e_int)*units, lw = 0.5, edgecolor=\"None\", facecolor=\"orange\", alpha=0.5, zorder=-1)\n",
    "s2 = ax.plot(e_int, MBflux(e_int)*units, lw = 0.5, color=\"darkorange\", zorder=5)\n",
    "###### PLOT T2K -- ND280\n",
    "fluxND = NDflux(e_int)*units\n",
    "s2 = ax.fill_between(e_int, MBflux(e_int)*units, fluxND, lw = 0.0, edgecolor=\"None\", facecolor=\"dodgerblue\", alpha=0.5, zorder=1)\n",
    "s2 = ax.plot(e_int, fluxND, lw = 0.5, color=\"dodgerblue\", zorder=5)\n",
    "\n",
    "## labels\n",
    "ax.set_ylabel(r'Flux [$\\nu/{\\rm m}^2/{\\rm GeV}/{\\rm \\textsc{pot}}$]')\n",
    "ax.set_yscale('log')\n",
    "ax.set_ylim(1e-7,1e-3)\n",
    "ax.set_xlim(left=0)\n",
    "ax.xaxis.set_visible(False)\n",
    "\n",
    "## labels\n",
    "ax2.set_ylabel(r'$\\sigma$/atomic mass unit [cm$^2$/u]')\n",
    "ax2.set_yscale(\"log\")\n",
    "ax2.set_ylim(1e-42, 5e-38)\n",
    "ax2.set_xlim(0.025, EMAX)\n",
    "ax2.xaxis.set_visible(False)\n",
    "ax2.set_xlim(left=0)\n",
    "\n",
    "ax2.annotate(r\"{$\\sigma$($\\nu_e$CCQE)}$\\times$(A-Z)/A\", fontsize=fsize*0.9, xy=(1, 1.1e-38), rotation=0., color=\"black\", rotation_mode='anchor')\n",
    "ax2.annotate(r\"$\\sigma^{\\rm coh}/A$\", fontsize=fsize, xy=(0.8, 0.7e-41), rotation=0, color=\"deeppink\", rotation_mode='anchor')\n",
    "# ax2.annotate(r\"$\\sigma_{\\rm Pb}^{\\rm coh}/207$\", fontsize=fsize, xy=(0.6, 2.5e-41), rotation=0, color=\"black\", rotation_mode='anchor')\n",
    "# ax2.annotate(r\"$\\sigma_{\\rm C}^{\\rm coh}/12$\", fontsize=fsize, xy=(0.8, 2e-42), rotation=0, color=\"black\", rotation_mode='anchor')\n",
    "ax2.annotate(r\"BNB @ MiniBooNE\", fontsize=fsize, xy=(0.4, 1e-40), rotation=0, color=\"gold\", rotation_mode='anchor')\n",
    "ax2.annotate(r\"J-PARC @ ND280\", fontsize=fsize, xy=(1.3, 6e-40), rotation=0, color=\"dodgerblue\", rotation_mode='anchor')\n",
    "\n",
    "ax3 = fig.add_axes(axes_form_bottom_panel)\n",
    "ax3.patch.set_visible(False)\n",
    "ax3.axhline(1, 0, EMAX, color='gray', ls='--')\n",
    "ax3.plot(E, ratio_events, c='black', lw=1) \n",
    "# ax3.set_xlim(0.025, EMAX)\n",
    "ax3.set_xlim(0, EMAX)\n",
    "ax3.set_ylim(0.0, 2.5)\n",
    "ax3.set_ylabel(r'${\\rm N}_{\\rm ND280} / {\\rm N}_{\\rm MB}$')\n",
    "ax3.set_xlabel(r'$E_\\nu$ [GeV]')\n",
    "\n",
    "# ax3.annotate(r\"N$_{\\rm ND280} = (2 \\times 10^{21}\\,{\\rm POT})(3.6~{\\rm tons} / m_{\\rm Pb})({\\rm Flux }\\times \\sigma)$\", \n",
    "# ax3.annotate(r\"N$_{\\rm ND280} = \\rm Flux \\sum(2 \\times 10^{21}\\,{\\rm POT})(3.6~{\\rm tons} / m_{\\rm Pb})({\\rm Flux }\\)$\", \n",
    "#              fontsize=fsize*0.9, xy=(0.09, 1.2), rotation=0, color=\"black\", rotation_mode='anchor')\n",
    "\n",
    "plt.savefig(save_folder+'xsec_flux_plot.pdf')"
   ]
  },
  {
   "cell_type": "code",
   "execution_count": null,
   "id": "a181920d-5df6-49c3-87af-ecf7e5df28ee",
   "metadata": {},
   "outputs": [],
   "source": []
  }
 ],
 "metadata": {
  "interpreter": {
   "hash": "aee8b7b246df8f9039afb4144a1f6fd8d2ca17a180786b69acc140d282b71a49"
  },
  "kernelspec": {
   "display_name": "Python [conda env:.conda-dark_nus]",
   "language": "python",
   "name": "python3"
  },
  "language_info": {
   "codemirror_mode": {
    "name": "ipython",
    "version": 3
   },
   "file_extension": ".py",
   "mimetype": "text/x-python",
   "name": "python",
   "nbconvert_exporter": "python",
   "pygments_lexer": "ipython3",
   "version": "3.9.13"
  }
 },
 "nbformat": 4,
 "nbformat_minor": 5
}
