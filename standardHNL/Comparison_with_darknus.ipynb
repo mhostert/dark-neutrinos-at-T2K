{
 "cells": [
  {
   "cell_type": "code",
   "execution_count": 1,
   "metadata": {},
   "outputs": [],
   "source": [
    "import matplotlib.pyplot as plt\n",
    "import numpy as np\n",
    "import pandas as pd\n",
    "from fourvec import *\n",
    "\n",
    "\n",
    "import matplotlib.pyplot as plt\n",
    "from matplotlib import rc, rcParams\n",
    "from matplotlib.pyplot import *\n",
    "from matplotlib.legend_handler import HandlerLine2D\n"
   ]
  },
  {
   "cell_type": "code",
   "execution_count": 2,
   "metadata": {},
   "outputs": [],
   "source": [
    "m4=0.150\n",
    "mzprime=0.030\n",
    "df_dark_l2 = pd.read_pickle(f'../data/nd280_nu/3plus1/m4_{m4}_mzprime_{mzprime}/MC_m4_{m4}_mzprime_{mzprime}.pckl')\n",
    "mzprime=1.25\n",
    "df_dark_h2 = pd.read_pickle(f'../data/nd280_nu/3plus1/m4_{m4}_mzprime_{mzprime}/MC_m4_{m4}_mzprime_{mzprime}.pckl')\n",
    "df_std = pd.read_pickle(f'data/MC_m4_{m4}_mzprime_{mzprime}.pckl')"
   ]
  },
  {
   "cell_type": "code",
   "execution_count": 3,
   "metadata": {},
   "outputs": [
    {
     "name": "stdout",
     "output_type": "stream",
     "text": [
      "380973\n",
      "338492\n",
      "10333\n"
     ]
    }
   ],
   "source": [
    "print(len(df_dark_l2))\n",
    "print(len(df_dark_h2))\n",
    "print(len(df_std))"
   ]
  },
  {
   "cell_type": "code",
   "execution_count": 4,
   "metadata": {},
   "outputs": [],
   "source": [
    "# compute useful variables\n",
    "for df in [df_dark_l2,df_dark_h2,df_std]:\n",
    "    for comp in ['t','x','y','z']:\n",
    "        df['pee', comp] = df['plm', comp] + df['plp', comp]\n",
    "        df['pdark', comp] = df['plm', comp] + df['plp', comp] + df['pnu', comp]\n",
    "    df['recoil_mass', ''] = inv_mass(df['pHad']).round(6)\n",
    "    df['ee_mass', ''] = inv_mass(df['pee'])\n",
    "    df['ee_costheta', ''] = costheta(df['plm'], df['plp'])\n",
    "    df['ee_beam_costheta', ''] = df['pee', 'z']/np.sqrt(dot3_df(df['pee'], df['pee']))\n",
    "    df['ee_momentum', ''] = np.sqrt(dot3_df(df['pee'], df['pee']))\n",
    "    df['experimental_t', ''] = (df['plm','t'] - df['plm','z'] + df['plp','t'] - df['plp','z'])**2 +\\\n",
    "                                   df['plm','x']**2 + df['plm','y']**2 + df['plp','x']**2 + df['plp','y']**2"
   ]
  },
  {
   "cell_type": "code",
   "execution_count": 5,
   "metadata": {},
   "outputs": [],
   "source": [
    "total_pot = 2e21\n",
    "\n",
    "tpc_length = 100 #cm\n",
    "fgd_length = 36.5 #cm\n",
    "p0d_length = 240 #cm\n",
    "\n",
    "p0d_dimensions = [210.3, 223.9, 240]\n",
    "detector_splitting = {0: [0, 30.5],\n",
    "                      1: [30.5, 209.6],\n",
    "                      2: [209.6, 240.0]}\n",
    "\n",
    "mol2natoms = 6.02214e23 # Avogadro's number\n",
    "ton2grams = 1e6\n",
    "geometry_material = {\n",
    "    'hydrogen': [0, 1, 2],\n",
    "    'oxygen': [1],\n",
    "    'carbon': [0, 1, 2],\n",
    "    'copper': [1],\n",
    "    'zinc': [1],\n",
    "    'lead': [0, 2],\n",
    "}\n",
    "\n",
    "material_dict = {\n",
    "    0.9385: 'hydrogen',\n",
    "    11.262: 'carbon',\n",
    "    15.016: 'oxygen',\n",
    "    59.637921: 'copper',\n",
    "    61.35913: 'zinc',\n",
    "    194.4572: 'lead'\n",
    "}\n",
    "\n",
    "gev_mass = dict(zip(material_dict.values(), material_dict.keys()))\n",
    "\n",
    "molar_mass = {\n",
    "    'hydrogen': 1.00784,\n",
    "    'carbon': 12.0107,\n",
    "    'oxygen': 15.999,\n",
    "    'copper': 63.546,\n",
    "    'zinc': 65.38,\n",
    "    'lead': 207.2\n",
    "}\n",
    "\n",
    "mass_material = {\n",
    "    'hydrogen': 3.3*2*molar_mass['hydrogen']/(2*molar_mass['hydrogen'] + molar_mass['oxygen']),\n",
    "    'oxygen': 3.3*molar_mass['oxygen']/(2*molar_mass['hydrogen'] + molar_mass['oxygen']),\n",
    "    'carbon': 8.221,\n",
    "    'copper': 1.315*0.66, # percentage of copper in typical brass\n",
    "    'zinc': 1.315*0.34, # percentage of zinc in typical brass\n",
    "    'lead': 3.634,\n",
    "}\n",
    "\n",
    "for df in [df_dark_l2,df_dark_h2]:\n",
    "    ntarget_material = {}\n",
    "    for material, mass in mass_material.items():\n",
    "        ntarget_material[material] = mass*ton2grams/molar_mass[material]*mol2natoms\n",
    "\n",
    "        material_mask = (df['recoil_mass'] == gev_mass[material])\n",
    "        df.loc[material_mask, ('actual_weight', '')] = df['weight', ''][material_mask] * ntarget_material[material] * total_pot\n"
   ]
  },
  {
   "cell_type": "code",
   "execution_count": 16,
   "metadata": {},
   "outputs": [
    {
     "data": {
      "text/plain": [
       "Text(0, 0.5, 'a.u.')"
      ]
     },
     "execution_count": 16,
     "metadata": {},
     "output_type": "execute_result"
    },
    {
     "data": {
      "image/png": "[encoded data removed]",
      "text/plain": [
       "<Figure size 319.68x238.059 with 1 Axes>"
      ]
     },
     "metadata": {
      "needs_background": "light"
     },
     "output_type": "display_data"
    }
   ],
   "source": [
    "fsize = 10\n",
    "rc('text', usetex=True)\n",
    "params={'axes.labelsize':fsize,'xtick.labelsize':fsize,'ytick.labelsize':fsize,\\\n",
    "\t\t\t\t'figure.figsize':(1.2*3.7,1.4*2.3617)\t}\n",
    "rc('font',**{'family':'serif', 'serif': ['computer modern roman']})\n",
    "rcParams.update(params)\n",
    "axes_form  = [0.15,0.15,0.78,0.74]\n",
    "fig = plt.figure()\n",
    "ax = fig.add_axes(axes_form)\n",
    "\n",
    "out = ax.hist(df_std['ee_costheta', ''].index, \n",
    "               bins=20, \n",
    "#                range=(0.5, 1),\n",
    "               weights=wstd, \n",
    "               label='standard decay-in-flight HNL',\n",
    "                facecolor='skyblue',\n",
    "              edgecolor='black',\n",
    "               histtype='bar')\n",
    "\n",
    "# out = ax.hist(df_dark_l2['ee_costheta', ''], \n",
    "#                bins=20, \n",
    "#                range=(0.5, 1),\n",
    "#                weights=wdark_l2, \n",
    "#                label=r'dark HNL ($m_{Z^\\prime} = 30$~MeV)',\n",
    "#                lw=1.0,\n",
    "#                edgecolor='red',\n",
    "#                histtype='step')\n",
    "\n",
    "# out = ax.hist(df_dark_h2['ee_costheta', ''], \n",
    "#                bins=20, \n",
    "#                range=(0.5, 1),\n",
    "#                weights=wdark_h2, \n",
    "#                label=r'dark HNL ($m_{Z^\\prime} = 1.25$~GeV)',\n",
    "#                lw=1.0,\n",
    "#                edgecolor='red',\n",
    "#               ls='--',\n",
    "#                histtype='step')\n",
    "\n",
    "\n",
    "ax.legend(loc='upper left',frameon=False)\n",
    "ax.set_xlabel(r\"Cosine of opening angle\")\n",
    "ax.set_ylabel(r\"a.u.\")\n",
    "# ax.set_xlim(0.5,1.0)\n",
    "# ax.set_title(r\"$m_4 = 150$ MeV -- all inclusive\",fontsize=fsize)\n",
    "# plt.savefig(\"cos_opening_angle.pdf\")"
   ]
  },
  {
   "cell_type": "code",
   "execution_count": null,
   "metadata": {},
   "outputs": [],
   "source": []
  },
  {
   "cell_type": "code",
   "execution_count": 8,
   "metadata": {},
   "outputs": [
    {
     "data": {
      "image/png": "[encoded data removed]",
      "text/plain": [
       "<Figure size 319.68x238.059 with 1 Axes>"
      ]
     },
     "metadata": {
      "needs_background": "light"
     },
     "output_type": "display_data"
    }
   ],
   "source": [
    "wdark_h2=df_dark_h2['weight', '']/np.sum(df_dark_h2['weight', ''])\n",
    "wdark_l2=df_dark_l2['weight', '']/np.sum(df_dark_l2['weight', ''])\n",
    "wstd=df_std['weight', '']/np.sum(df_std['weight', ''])\n",
    "\n",
    "\n",
    "\n",
    "\n",
    "fsize = 10\n",
    "rc('text', usetex=True)\n",
    "params={'axes.labelsize':fsize,'xtick.labelsize':fsize,'ytick.labelsize':fsize,\\\n",
    "\t\t\t\t'figure.figsize':(1.2*3.7,1.4*2.3617)\t}\n",
    "rc('font',**{'family':'serif', 'serif': ['computer modern roman']})\n",
    "rcParams.update(params)\n",
    "axes_form  = [0.15,0.15,0.78,0.74]\n",
    "fig = plt.figure()\n",
    "ax = fig.add_axes(axes_form)\n",
    "\n",
    "out = ax.hist(df_std['ee_costheta', ''], \n",
    "               bins=20, \n",
    "               range=(0.5, 1),\n",
    "               weights=wstd, \n",
    "               label='standard decay-in-flight HNL',\n",
    "                facecolor='skyblue',\n",
    "              edgecolor='black',\n",
    "               histtype='bar')\n",
    "\n",
    "out = ax.hist(df_dark_l2['ee_costheta', ''], \n",
    "               bins=20, \n",
    "               range=(0.5, 1),\n",
    "               weights=wdark_l2, \n",
    "               label=r'dark HNL ($m_{Z^\\prime} = 30$~MeV)',\n",
    "               lw=1.0,\n",
    "               edgecolor='red',\n",
    "               histtype='step')\n",
    "\n",
    "out = ax.hist(df_dark_h2['ee_costheta', ''], \n",
    "               bins=20, \n",
    "               range=(0.5, 1),\n",
    "               weights=wdark_h2, \n",
    "               label=r'dark HNL ($m_{Z^\\prime} = 1.25$~GeV)',\n",
    "               lw=1.0,\n",
    "               edgecolor='red',\n",
    "              ls='--',\n",
    "               histtype='step')\n",
    "\n",
    "\n",
    "\n",
    "ax.legend(loc='upper left',frameon=False)\n",
    "ax.set_xlabel(r\"Cosine of opening angle\")\n",
    "ax.set_ylabel(r\"a.u.\")\n",
    "ax.set_xlim(0.5,1.0)\n",
    "ax.set_title(r\"$m_4 = 150$ MeV -- all inclusive\",fontsize=fsize)\n",
    "plt.savefig(\"cos_opening_angle.pdf\")"
   ]
  },
  {
   "cell_type": "code",
   "execution_count": null,
   "metadata": {},
   "outputs": [],
   "source": []
  },
  {
   "cell_type": "code",
   "execution_count": 157,
   "metadata": {},
   "outputs": [
    {
     "data": {
      "image/png": "[encoded data removed]",
      "text/plain": [
       "<Figure size 319.68x238.059 with 1 Axes>"
      ]
     },
     "metadata": {
      "needs_background": "light"
     },
     "output_type": "display_data"
    }
   ],
   "source": [
    "\n",
    "fsize = 10\n",
    "rc('text', usetex=True)\n",
    "params={'axes.labelsize':fsize,'xtick.labelsize':fsize,'ytick.labelsize':fsize,\\\n",
    "\t\t\t\t'figure.figsize':(1.2*3.7,1.4*2.3617)\t}\n",
    "rc('font',**{'family':'serif', 'serif': ['computer modern roman']})\n",
    "rcParams.update(params)\n",
    "axes_form  = [0.15,0.15,0.78,0.74]\n",
    "fig = plt.figure()\n",
    "ax = fig.add_axes(axes_form)\n",
    "\n",
    "out = ax.hist(np.arccos(df_std['ee_costheta', ''])*180/np.pi, \n",
    "               bins=20, \n",
    "               range=(0.0, 90),\n",
    "               weights=wstd, \n",
    "               label='standard decay-in-flight HNL',\n",
    "                facecolor='skyblue',\n",
    "              edgecolor='black',\n",
    "               histtype='bar')\n",
    "\n",
    "out = ax.hist(np.arccos(df_dark_l2['ee_costheta', ''])*180/np.pi, \n",
    "               bins=20, \n",
    "               range=(0., 90),\n",
    "               weights=wdark_l2, \n",
    "               label=r'dark HNL ($m_{Z^\\prime} = 30$~MeV)',\n",
    "               lw=1.0,\n",
    "               edgecolor='red',\n",
    "               histtype='step')\n",
    "\n",
    "out = ax.hist(np.arccos(df_dark_h2['ee_costheta', ''])*180/np.pi, \n",
    "               bins=20, \n",
    "               range=(0.0, 90),\n",
    "               weights=wdark_h2, \n",
    "               label=r'dark HNL ($m_{Z^\\prime} = 1.25$~GeV)',\n",
    "               lw=1.0,\n",
    "               edgecolor='red',\n",
    "              ls='--',\n",
    "               histtype='step')\n",
    "\n",
    "ax.legend(loc='upper right',frameon=False)\n",
    "ax.set_xlabel(r\"opening angle ($^\\circ$)\")\n",
    "ax.set_ylabel(r\"a.u.\")\n",
    "ax.set_xlim(0.,90.0)\n",
    "ax.set_title(r\"$m_4 = 150$ MeV -- all inclusive\",fontsize=fsize)\n",
    "plt.savefig(\"opening_angle.pdf\")"
   ]
  },
  {
   "cell_type": "code",
   "execution_count": 166,
   "metadata": {},
   "outputs": [
    {
     "data": {
      "image/png": "[encoded data removed]",
      "text/plain": [
       "<Figure size 319.68x238.059 with 1 Axes>"
      ]
     },
     "metadata": {
      "needs_background": "light"
     },
     "output_type": "display_data"
    }
   ],
   "source": [
    "\n",
    "fsize = 10\n",
    "rc('text', usetex=True)\n",
    "params={'axes.labelsize':fsize,'xtick.labelsize':fsize,'ytick.labelsize':fsize,\\\n",
    "\t\t\t\t'figure.figsize':(1.2*3.7,1.4*2.3617)\t}\n",
    "rc('font',**{'family':'serif', 'serif': ['computer modern roman']})\n",
    "rcParams.update(params)\n",
    "axes_form  = [0.15,0.15,0.78,0.74]\n",
    "fig = plt.figure()\n",
    "ax = fig.add_axes(axes_form)\n",
    "\n",
    "EMAX=7.0\n",
    "out = ax.hist(df_std['ee_momentum', ''], \n",
    "               bins=20, \n",
    "               range=(0.0, EMAX),\n",
    "               weights=wstd, \n",
    "               label='standard decay-in-flight HNL',\n",
    "                facecolor='skyblue',\n",
    "              edgecolor='black',\n",
    "               histtype='bar')\n",
    "\n",
    "out = ax.hist(df_dark_l2['ee_momentum', ''], \n",
    "               bins=20, \n",
    "               range=(0., EMAX),\n",
    "               weights=wdark_l2, \n",
    "               label=r'dark HNL ($m_{Z^\\prime} = 30$~MeV)',\n",
    "               lw=1.0,\n",
    "               edgecolor='red',\n",
    "               histtype='step')\n",
    "\n",
    "out = ax.hist(df_dark_h2['ee_momentum', ''], \n",
    "               bins=20, \n",
    "               range=(0.0, EMAX),\n",
    "               weights=wdark_h2, \n",
    "               label=r'dark HNL ($m_{Z^\\prime} = 1.25$~GeV)',\n",
    "               lw=1.0,\n",
    "               edgecolor='red',\n",
    "              ls='--',\n",
    "               histtype='step')\n",
    "\n",
    "ax.legend(loc='upper right',frameon=False)\n",
    "ax.set_xlabel(r\"$|\\vec{p}_{e^+e^-}|$ (GeV)\")\n",
    "ax.set_ylabel(r\"a.u.\")\n",
    "ax.set_xlim(0.,EMAX)\n",
    "ax.set_title(r\"$m_4 = 150$ MeV -- all inclusive\",fontsize=fsize)\n",
    "plt.savefig(\"energy.pdf\")"
   ]
  },
  {
   "cell_type": "code",
   "execution_count": 192,
   "metadata": {},
   "outputs": [
    {
     "data": {
      "image/png": "[encoded data removed]",
      "text/plain": [
       "<Figure size 319.68x238.059 with 1 Axes>"
      ]
     },
     "metadata": {
      "needs_background": "light"
     },
     "output_type": "display_data"
    }
   ],
   "source": [
    "\n",
    "fsize = 10\n",
    "rc('text', usetex=True)\n",
    "params={'axes.labelsize':fsize,'xtick.labelsize':fsize,'ytick.labelsize':fsize,\\\n",
    "\t\t\t\t'figure.figsize':(1.2*3.7,1.4*2.3617)\t}\n",
    "rc('font',**{'family':'serif', 'serif': ['computer modern roman']})\n",
    "rcParams.update(params)\n",
    "axes_form  = [0.15,0.15,0.78,0.74]\n",
    "fig = plt.figure()\n",
    "ax = fig.add_axes(axes_form)\n",
    "\n",
    "EMAX=90\n",
    "out = ax.hist(np.arccos(df_std['ee_beam_costheta', ''])*180/np.pi, \n",
    "               bins=20, \n",
    "               range=(0.0, EMAX),\n",
    "               weights=wstd, \n",
    "               label='standard decay-in-flight HNL',\n",
    "                facecolor='skyblue',\n",
    "              edgecolor='black',\n",
    "               histtype='bar')\n",
    "\n",
    "out = ax.hist(np.arccos(df_dark_l2['ee_beam_costheta', ''])*180/np.pi, \n",
    "               bins=20, \n",
    "               range=(0., EMAX),\n",
    "               weights=wdark_l2, \n",
    "               label=r'dark HNL ($m_{Z^\\prime} = 30$~MeV)',\n",
    "               lw=1.0,\n",
    "               edgecolor='red',\n",
    "               histtype='step')\n",
    "\n",
    "out = ax.hist(np.arccos(df_dark_h2['ee_beam_costheta', ''])*180/np.pi, \n",
    "               bins=20, \n",
    "               range=(0.0, EMAX),\n",
    "               weights=wdark_h2, \n",
    "               label=r'dark HNL ($m_{Z^\\prime} = 1.25$~GeV)',\n",
    "               lw=1.0,\n",
    "               edgecolor='red',\n",
    "              ls='--',\n",
    "               histtype='step')\n",
    "\n",
    "ax.legend(loc='upper right',frameon=False)\n",
    "ax.set_xlabel(r\"$\\theta_{\\rm beam}$ ($^\\circ$)\")\n",
    "ax.set_ylabel(r\"a.u.\")\n",
    "ax.set_xlim(0.,EMAX)\n",
    "ax.set_title(r\"$m_4 = 150$ MeV -- all inclusive\",fontsize=fsize)\n",
    "plt.savefig(\"beam_angle.pdf\")"
   ]
  },
  {
   "cell_type": "code",
   "execution_count": 193,
   "metadata": {},
   "outputs": [
    {
     "data": {
      "image/png": "[encoded data removed]",
      "text/plain": [
       "<Figure size 319.68x238.059 with 1 Axes>"
      ]
     },
     "metadata": {
      "needs_background": "light"
     },
     "output_type": "display_data"
    }
   ],
   "source": [
    "\n",
    "fsize = 10\n",
    "rc('text', usetex=True)\n",
    "params={'axes.labelsize':fsize,'xtick.labelsize':fsize,'ytick.labelsize':fsize,\\\n",
    "\t\t\t\t'figure.figsize':(1.2*3.7,1.4*2.3617)\t}\n",
    "rc('font',**{'family':'serif', 'serif': ['computer modern roman']})\n",
    "rcParams.update(params)\n",
    "axes_form  = [0.15,0.15,0.78,0.74]\n",
    "fig = plt.figure()\n",
    "ax = fig.add_axes(axes_form)\n",
    "\n",
    "EMAX=0.150\n",
    "out = ax.hist((df_std['ee_mass', '']), \n",
    "               bins=22, \n",
    "               range=(0.0, EMAX),\n",
    "               weights=wstd, \n",
    "               label='standard decay-in-flight HNL',\n",
    "                facecolor='skyblue',\n",
    "              edgecolor='black',\n",
    "               histtype='bar')\n",
    "\n",
    "out = ax.hist((df_dark_l2['ee_mass', '']), \n",
    "               bins=22, \n",
    "               range=(0., EMAX),\n",
    "               weights=wdark_l2, \n",
    "               label=r'dark HNL ($m_{Z^\\prime} = 30$~MeV)',\n",
    "               lw=1.0,\n",
    "               edgecolor='red',\n",
    "               histtype='step')\n",
    "\n",
    "out = ax.hist((df_dark_h2['ee_mass', '']), \n",
    "               bins=22, \n",
    "               range=(0.0, EMAX),\n",
    "               weights=wdark_h2, \n",
    "               label=r'dark HNL ($m_{Z^\\prime} = 1.25$~GeV)',\n",
    "               lw=1.0,\n",
    "               edgecolor='red',\n",
    "              ls='--',\n",
    "               histtype='step')\n",
    "\n",
    "ax.legend(loc='upper right',frameon=False)\n",
    "ax.set_xlabel(r\"$m_{ee}$ (GeV)\")\n",
    "ax.set_ylabel(r\"a.u.\")\n",
    "ax.set_xlim(0.,EMAX)\n",
    "ax.set_title(r\"$m_4 = 150$ MeV -- all inclusive\",fontsize=fsize)\n",
    "plt.savefig(\"ee_inv_mass.pdf\")"
   ]
  },
  {
   "cell_type": "code",
   "execution_count": null,
   "metadata": {},
   "outputs": [],
   "source": [
    "selection = (df['ee_beam_costheta', ''] > 0.99) &\\\n",
    "            (df['ee_costheta', ''] > 0) &\\\n",
    "            (df['experimental_t', ''] < 0.03) &\\\n",
    "            (df['ee_momentum', ''] > 0.150)"
   ]
  },
  {
   "cell_type": "code",
   "execution_count": 7,
   "metadata": {},
   "outputs": [],
   "source": [
    "rg = np.random.default_rng()\n",
    "\n",
    "df['int_point', 't'] = 0\n",
    "df['int_point', 'x'] = rg.uniform(0, p0d_dimensions[0], len(df))\n",
    "df['int_point', 'y'] = rg.uniform(0, p0d_dimensions[1], len(df))\n",
    "\n",
    "for material_mass, material in material_dict.items():\n",
    "    material_mask = (df['recoil_mass', ''] == material_mass)\n",
    "    region = rg.choice(geometry_material[material], len(df))\n",
    "\n",
    "    for splitting, boundaries in detector_splitting.items():\n",
    "        region_mask = (region == splitting)\n",
    "        total_mask = material_mask & region_mask\n",
    "        df.loc[total_mask, ('int_point', 'z')] = rg.uniform(*boundaries, total_mask.sum())"
   ]
  },
  {
   "cell_type": "code",
   "execution_count": 9,
   "metadata": {},
   "outputs": [
    {
     "ename": "NameError",
     "evalue": "name 'ctaus' is not defined",
     "output_type": "error",
     "traceback": [
      "\u001b[0;31m---------------------------------------------------------------------------\u001b[0m",
      "\u001b[0;31mNameError\u001b[0m                                 Traceback (most recent call last)",
      "\u001b[0;32m<ipython-input-9-edfbcf17e890>\u001b[0m in \u001b[0;36m<module>\u001b[0;34m\u001b[0m\n\u001b[0;32m----> 1\u001b[0;31m \u001b[0;32mfor\u001b[0m \u001b[0mctau\u001b[0m \u001b[0;32min\u001b[0m \u001b[0mctaus\u001b[0m\u001b[0;34m:\u001b[0m\u001b[0;34m\u001b[0m\u001b[0;34m\u001b[0m\u001b[0m\n\u001b[0m\u001b[1;32m      2\u001b[0m     \u001b[0mtotal_selection\u001b[0m \u001b[0;34m=\u001b[0m \u001b[0mselection\u001b[0m \u001b[0;34m&\u001b[0m \u001b[0mdf\u001b[0m\u001b[0;34m[\u001b[0m\u001b[0;34mf'decay_in_tpc_{ctau}'\u001b[0m\u001b[0;34m]\u001b[0m\u001b[0;34m\u001b[0m\u001b[0;34m\u001b[0m\u001b[0m\n\u001b[1;32m      3\u001b[0m     out = plt.hist(df['pee', 't'][total_selection], \n\u001b[1;32m      4\u001b[0m                    \u001b[0mbins\u001b[0m\u001b[0;34m=\u001b[0m\u001b[0;36m20\u001b[0m\u001b[0;34m,\u001b[0m\u001b[0;34m\u001b[0m\u001b[0;34m\u001b[0m\u001b[0m\n\u001b[1;32m      5\u001b[0m                    \u001b[0mrange\u001b[0m\u001b[0;34m=\u001b[0m\u001b[0;34m(\u001b[0m\u001b[0;36m0\u001b[0m\u001b[0;34m,\u001b[0m \u001b[0;36m4\u001b[0m\u001b[0;34m)\u001b[0m\u001b[0;34m,\u001b[0m\u001b[0;34m\u001b[0m\u001b[0;34m\u001b[0m\u001b[0m\n",
      "\u001b[0;31mNameError\u001b[0m: name 'ctaus' is not defined"
     ]
    }
   ],
   "source": [
    "total_selection = selection & df[f'decay_in_tpc_{ctau}']\n",
    "out = plt.hist(df['pee', 't'][total_selection], \n",
    "               bins=20, \n",
    "               range=(0, 4),\n",
    "               weights=df.loc[total_selection, ('actual_weight', '')], \n",
    "               label=f\"ctau = {ctau} cm, nevt = {df.loc[total_selection, ('actual_weight', '')].sum():.0f}\", \n",
    "               histtype='step')\n",
    "\n",
    "plt.legend(frameon=False)\n",
    "plt.xlabel('e+e- deposited energy [GeV]')\n",
    "plt.title(f\"Best fit point {model}\")\n",
    "plt.savefig(save_folder+\"ee_energy.png\", dpi=250)"
   ]
  },
  {
   "cell_type": "code",
   "execution_count": null,
   "metadata": {},
   "outputs": [],
   "source": []
  }
 ],
 "metadata": {
  "kernelspec": {
   "display_name": "Python 3",
   "language": "python",
   "name": "python3"
  },
  "language_info": {
   "codemirror_mode": {
    "name": "ipython",
    "version": 3
   },
   "file_extension": ".py",
   "mimetype": "text/x-python",
   "name": "python",
   "nbconvert_exporter": "python",
   "pygments_lexer": "ipython3",
   "version": "3.9.2"
  }
 },
 "nbformat": 4,
 "nbformat_minor": 4
}
