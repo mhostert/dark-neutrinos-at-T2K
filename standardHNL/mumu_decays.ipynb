{
 "cells": [
  {
   "cell_type": "code",
   "execution_count": 197,
   "metadata": {},
   "outputs": [],
   "source": [
    "import matplotlib.pyplot as plt\n",
    "import numpy as np\n",
    "import pandas as pd\n",
    "from fourvec import *\n",
    "import const\n",
    "\n",
    "import matplotlib.pyplot as plt\n",
    "from matplotlib import rc, rcParams\n",
    "from matplotlib.pyplot import *\n",
    "from matplotlib.legend_handler import HandlerLine2D"
   ]
  },
  {
   "cell_type": "code",
   "execution_count": 250,
   "metadata": {},
   "outputs": [],
   "source": [
    "m5=5.0\n",
    "m4=0.0\n",
    "\n",
    "df_ee_LH_dir = pd.read_pickle(f'data/MC_m5_{m5:.8g}_m4_{m4:.8g}_mlepton_{const.Me:.8g}_hel_-1_dir.pckl')\n",
    "df_mumu_LH_dir = pd.read_pickle(f'data/MC_m5_{m5:.8g}_m4_{m4:.8g}_mlepton_{const.Mmu:.8g}_hel_-1_dir.pckl')\n",
    "df_ee_RH_dir = pd.read_pickle(f'data/MC_m5_{m5:.8g}_m4_{m4:.8g}_mlepton_{const.Me:.8g}_hel_1_dir.pckl')\n",
    "df_mumu_RH_dir = pd.read_pickle(f'data/MC_m5_{m5:.8g}_m4_{m4:.8g}_mlepton_{const.Mmu:.8g}_hel_1_dir.pckl')\n",
    "\n",
    "df_ee_LH_maj = pd.read_pickle(f'data/MC_m5_{m5:.8g}_m4_{m4:.8g}_mlepton_{const.Me:.8g}_hel_-1_maj.pckl')\n",
    "df_mumu_LH_maj = pd.read_pickle(f'data/MC_m5_{m5:.8g}_m4_{m4:.8g}_mlepton_{const.Mmu:.8g}_hel_-1_maj.pckl')\n",
    "df_ee_RH_maj = pd.read_pickle(f'data/MC_m5_{m5:.8g}_m4_{m4:.8g}_mlepton_{const.Me:.8g}_hel_1_maj.pckl')\n",
    "df_mumu_RH_maj = pd.read_pickle(f'data/MC_m5_{m5:.8g}_m4_{m4:.8g}_mlepton_{const.Mmu:.8g}_hel_1_maj.pckl')\n",
    "\n",
    "list_of_df=[df_ee_LH_dir,\n",
    "            df_mumu_LH_dir,\n",
    "            df_ee_RH_dir,\n",
    "            df_mumu_RH_dir,\n",
    "            df_ee_LH_maj,\n",
    "            df_mumu_LH_maj,\n",
    "            df_ee_RH_maj,\n",
    "            df_mumu_RH_maj]"
   ]
  },
  {
   "cell_type": "code",
   "execution_count": 273,
   "metadata": {},
   "outputs": [],
   "source": [
    "# compute useful variables\n",
    "for df in list_of_df:\n",
    "    for comp in ['t','x','y','z']:\n",
    "        df['pee', comp] = df['plm', comp] + df['plp', comp]\n",
    "        df['pdark', comp] = df['plm', comp] + df['plp', comp] + df['pnu', comp]\n",
    "    df['easy', ''] = (df['plp','t']-df['plm','t'])/(df['plm','t']+df['plp','t']-inv_mass(df['plm'])-inv_mass(df['plp']))\n",
    "    df['recoil_mass', ''] = inv_mass(df['pHad']).round(6)\n",
    "    df['eplus', ''] = df['plp','t']\n",
    "    df['eminus', ''] = df['plm','t']\n",
    "    df['miss_pt', ''] = np.sqrt(df['pnu','x']**2+df['pnu','y']**2)\n",
    "    df['ee_mass', ''] = inv_mass(df['pee'])\n",
    "    df['m_t', ''] = df['miss_pt','']+np.sqrt(df['miss_pt','']**2+df['ee_mass','']**2)\n",
    "    df['ee_costheta', ''] = costheta(df['plm'], df['plp'])\n",
    "    df['ee_beam_costheta', ''] = df['pee', 'z']/np.sqrt(dot3_df(df['pee'], df['pee']))\n",
    "    df['ee_momentum', ''] = np.sqrt(dot3_df(df['pee'], df['pee']))\n",
    "    df['experimental_t', ''] = (df['plm','t'] - df['plm','z'] + df['plp','t'] - df['plp','z'])**2 +\\\n",
    "                                   df['plm','x']**2 + df['plm','y']**2 + df['plp','x']**2 + df['plp','y']**2"
   ]
  },
  {
   "cell_type": "code",
   "execution_count": null,
   "metadata": {},
   "outputs": [],
   "source": []
  },
  {
   "cell_type": "code",
   "execution_count": 282,
   "metadata": {},
   "outputs": [
    {
     "name": "stderr",
     "output_type": "stream",
     "text": [
      "/usr/local/lib/python3.8/site-packages/IPython/core/interactiveshell.py:2922: PerformanceWarning: indexing past lexsort depth may impact performance.\n",
      "  return runner(coro)\n",
      "/usr/local/lib/python3.8/site-packages/IPython/core/interactiveshell.py:2922: PerformanceWarning: indexing past lexsort depth may impact performance.\n",
      "  return runner(coro)\n",
      "/usr/local/lib/python3.8/site-packages/IPython/core/interactiveshell.py:2922: PerformanceWarning: indexing past lexsort depth may impact performance.\n",
      "  return runner(coro)\n",
      "/usr/local/lib/python3.8/site-packages/IPython/core/interactiveshell.py:2922: PerformanceWarning: indexing past lexsort depth may impact performance.\n",
      "  return runner(coro)\n"
     ]
    },
    {
     "data": {
      "image/png": "[encoded data removed]",
      "text/plain": [
       "<Figure size 319.68x238.059 with 1 Axes>"
      ]
     },
     "metadata": {
      "needs_background": "light"
     },
     "output_type": "display_data"
    }
   ],
   "source": [
    "###########\n",
    "fsize = 10\n",
    "rc('text', usetex=True)\n",
    "params={'axes.labelsize':fsize,'xtick.labelsize':fsize,'ytick.labelsize':fsize,\\\n",
    "\t\t\t\t'figure.figsize':(1.2*3.7,1.4*2.3617)\t}\n",
    "rc('font',**{'family':'serif', 'serif': ['computer modern roman']})\n",
    "rcParams.update(params)\n",
    "axes_form  = [0.15,0.15,0.78,0.74]\n",
    "fig = plt.figure()\n",
    "ax = fig.add_axes(axes_form)\n",
    "MIN=-1.0\n",
    "MAX=1.0\n",
    "\n",
    "def ilovetoplot(df,var,condition = lambda x : x/x, color='black',label=r'new',density=True,ls='-'):\n",
    "    out = ax.hist(df[condition][var, ''], \n",
    "               bins=15, \n",
    "               range=(MIN, MAX),\n",
    "               weights=df[condition]['weight',], \n",
    "               label=label,\n",
    "                facecolor='None',\n",
    "              ls=ls,\n",
    "               edgecolor=color,\n",
    "               histtype='step',\n",
    "                density=DENSITY)\n",
    "    \n",
    "    \n",
    "cuts = lambda df : ((df['eplus']>2.2)&(df['eminus']>2.2)&(df['m_t']>2.2))\n",
    "# cuts = lambda df : ((df['eplus']>0)&(df['eminus']>0)&(df['m_t']>0))\n",
    "\n",
    "ilovetoplot(df_mumu_LH_dir,'easy', condition = cuts, label=r'LH $\\mu\\mu$ Dir', color='black',ls='-')\n",
    "ilovetoplot(df_mumu_RH_dir,'easy', condition = cuts, label=r'RH $\\mu\\mu$ Dir', color='grey',ls='-')\n",
    "ilovetoplot(df_mumu_LH_maj,'easy', condition = cuts, label=r'LH $\\mu\\mu$ Maj', color='red',ls='--')\n",
    "ilovetoplot(df_mumu_RH_maj,'easy', condition = cuts, label=r'RH $\\mu\\mu$ Maj', color='orange',ls='--')\n",
    "\n",
    "# ilovetoplot(df_ee_LH_dir,'easy', label=r'LH $ee$ Dir', color='black')\n",
    "# ilovetoplot(df_ee_RH_dir,'easy', label=r'RH $ee$ Dir', color='grey')\n",
    "# ilovetoplot(df_ee_LH_maj,'easy', label=r'LH $ee$ Maj', color='black')\n",
    "# ilovetoplot(df_ee_RH_maj,'easy', label=r'RH $ee$ Maj', color='grey')\n",
    "\n",
    "\n",
    "ax.legend(loc='lower left',frameon=False,ncol=2)\n",
    "ax.set_xlabel(r\"$(E_+ - E_-)/(E_++E_-)$\")\n",
    "ax.set_ylabel(r\"a.u.\")\n",
    "ax.set_xlim(MIN,MAX)\n",
    "ax.set_ylim(0.,)\n",
    "# ax.set_yscale('log')\n",
    "ax.set_title(r\"$m_{\\rm HNL} = 5$ GeV, $E_{\\rm HNL} = 70$ GeV -- cuts\",fontsize=fsize)\n",
    "plt.savefig(\"easy_cuts.pdf\")"
   ]
  },
  {
   "cell_type": "code",
   "execution_count": null,
   "metadata": {},
   "outputs": [],
   "source": [
    "###########\n",
    "fsize = 10\n",
    "rc('text', usetex=True)\n",
    "params={'axes.labelsize':fsize,'xtick.labelsize':fsize,'ytick.labelsize':fsize,\\\n",
    "\t\t\t\t'figure.figsize':(1.2*3.7,1.4*2.3617)\t}\n",
    "rc('font',**{'family':'serif', 'serif': ['computer modern roman']})\n",
    "rcParams.update(params)\n",
    "axes_form  = [0.15,0.15,0.78,0.74]\n",
    "fig = plt.figure()\n",
    "ax = fig.add_axes(axes_form)\n",
    "MIN=-1.0\n",
    "MAX=1.0\n",
    "\n",
    "def ilovetoplot(df,var,condition = lambda x : x/x, color='black',label=r'new',density=True,ls='-'):\n",
    "    out = ax.hist(df[condition][var, ''], \n",
    "               bins=15, \n",
    "               range=(MIN, MAX),\n",
    "               weights=df[condition]['weight',], \n",
    "               label=label,\n",
    "                facecolor='None',\n",
    "              ls=ls,\n",
    "               edgecolor=color,\n",
    "               histtype='step',\n",
    "                density=DENSITY)\n",
    "    \n",
    "    \n",
    "cuts = lambda df : ((df['eplus']>0)&(df['eminus']>0))\n",
    "\n",
    "ilovetoplot(df_mumu_LH_dir,'easy', condition = cuts, label=r'LH $\\mu\\mu$ Dir', color='black',ls='-')\n",
    "ilovetoplot(df_mumu_RH_dir,'easy', condition = cuts, label=r'RH $\\mu\\mu$ Dir', color='grey',ls='-')\n",
    "ilovetoplot(df_mumu_LH_maj,'easy', condition = cuts, label=r'LH $\\mu\\mu$ Maj', color='red',ls='--')\n",
    "ilovetoplot(df_mumu_RH_maj,'easy', condition = cuts, label=r'RH $\\mu\\mu$ Maj', color='orange',ls='--')\n",
    "\n",
    "# ilovetoplot(df_ee_LH_dir,'easy', label=r'LH $ee$ Dir', color='black')\n",
    "# ilovetoplot(df_ee_RH_dir,'easy', label=r'RH $ee$ Dir', color='grey')\n",
    "# ilovetoplot(df_ee_LH_maj,'easy', label=r'LH $ee$ Maj', color='black')\n",
    "# ilovetoplot(df_ee_RH_maj,'easy', label=r'RH $ee$ Maj', color='grey')\n",
    "\n",
    "\n",
    "ax.legend(loc='lower left',frameon=False,ncol=2)\n",
    "ax.set_xlabel(r\"$(E_+ - E_-)/(E_++E_-)$\")\n",
    "ax.set_ylabel(r\"a.u.\")\n",
    "ax.set_xlim(MIN,MAX)\n",
    "ax.set_ylim(0.,)\n",
    "# ax.set_yscale('log')\n",
    "ax.set_title(r\"$m_{\\rm HNL} = 5$ GeV, $E_{\\rm HNL} = 70$ GeV -- all inclusive\",fontsize=fsize)\n",
    "plt.savefig(\"easy.pdf\")"
   ]
  },
  {
   "cell_type": "code",
   "execution_count": 267,
   "metadata": {},
   "outputs": [
    {
     "name": "stderr",
     "output_type": "stream",
     "text": [
      "/usr/local/lib/python3.8/site-packages/IPython/core/interactiveshell.py:2922: PerformanceWarning: indexing past lexsort depth may impact performance.\n",
      "  return runner(coro)\n",
      "/usr/local/lib/python3.8/site-packages/IPython/core/interactiveshell.py:2922: PerformanceWarning: indexing past lexsort depth may impact performance.\n",
      "  return runner(coro)\n",
      "/usr/local/lib/python3.8/site-packages/IPython/core/interactiveshell.py:2922: PerformanceWarning: indexing past lexsort depth may impact performance.\n",
      "  return runner(coro)\n",
      "/usr/local/lib/python3.8/site-packages/IPython/core/interactiveshell.py:2922: PerformanceWarning: indexing past lexsort depth may impact performance.\n",
      "  return runner(coro)\n"
     ]
    },
    {
     "data": {
      "image/png": "[encoded data removed]",
      "text/plain": [
       "<Figure size 319.68x238.059 with 1 Axes>"
      ]
     },
     "metadata": {
      "needs_background": "light"
     },
     "output_type": "display_data"
    }
   ],
   "source": [
    "# ###########\n",
    "fsize = 10\n",
    "rc('text', usetex=True)\n",
    "params={'axes.labelsize':fsize,'xtick.labelsize':fsize,'ytick.labelsize':fsize,\\\n",
    "\t\t\t\t'figure.figsize':(1.2*3.7,1.4*2.3617)\t}\n",
    "rc('font',**{'family':'serif', 'serif': ['computer modern roman']})\n",
    "rcParams.update(params)\n",
    "axes_form  = [0.15,0.15,0.78,0.74]\n",
    "fig = plt.figure()\n",
    "ax = fig.add_axes(axes_form)\n",
    "MIN=0.0\n",
    "MAX=50\n",
    "\n",
    "def ilovetoplot(df,var,color='black',label=r'new',density=True,ls='-'):\n",
    "    out = ax.hist(df[var, ''], \n",
    "               bins=15, \n",
    "               range=(MIN, MAX),\n",
    "               weights=df['weight',], \n",
    "               label=label,\n",
    "                facecolor='None',\n",
    "              ls=ls,\n",
    "               edgecolor=color,\n",
    "               histtype='step',\n",
    "                density=DENSITY)\n",
    "    \n",
    "VAR='eplus'\n",
    "ilovetoplot(df_mumu_LH_dir,VAR,label=r'LH $\\mu\\mu$ Dir', color='black',ls='-')\n",
    "ilovetoplot(df_mumu_RH_dir,VAR,label=r'RH $\\mu\\mu$ Dir', color='grey',ls='-')\n",
    "ilovetoplot(df_mumu_LH_maj,VAR,label=r'LH $\\mu\\mu$ Maj', color='red',ls='--')\n",
    "ilovetoplot(df_mumu_RH_maj,VAR,label=r'RH $\\mu\\mu$ Maj', color='orange',ls='--')\n",
    "\n",
    "# ilovetoplot(df_ee_LH_dir,VAR, label=r'LH $ee$ Dir', color='black')\n",
    "# ilovetoplot(df_ee_RH_dir,VAR, label=r'RH $ee$ Dir', color='grey')\n",
    "# ilovetoplot(df_ee_LH_maj,VAR, label=r'LH $ee$ Maj', color='black')\n",
    "# ilovetoplot(df_ee_RH_maj,VAR, label=r'RH $ee$ Maj', color='grey')\n",
    "\n",
    "\n",
    "ax.legend(loc='lower left',frameon=False,ncol=2)\n",
    "ax.set_xlabel(r\"$E_+/$GeV\")\n",
    "ax.set_ylabel(r\"a.u.\")\n",
    "ax.set_xlim(MIN,MAX)\n",
    "ax.set_ylim(0.,)\n",
    "# ax.set_yscale('log')\n",
    "ax.set_title(r\"$m_{\\rm HNL} = 5$ GeV, $E_{\\rm HNL} = 70$ GeV -- all inclusive\",fontsize=fsize)\n",
    "plt.savefig(\"eplus.pdf\")"
   ]
  },
  {
   "cell_type": "code",
   "execution_count": 268,
   "metadata": {},
   "outputs": [
    {
     "name": "stderr",
     "output_type": "stream",
     "text": [
      "/usr/local/lib/python3.8/site-packages/IPython/core/interactiveshell.py:2922: PerformanceWarning: indexing past lexsort depth may impact performance.\n",
      "  return runner(coro)\n",
      "/usr/local/lib/python3.8/site-packages/IPython/core/interactiveshell.py:2922: PerformanceWarning: indexing past lexsort depth may impact performance.\n",
      "  return runner(coro)\n",
      "/usr/local/lib/python3.8/site-packages/IPython/core/interactiveshell.py:2922: PerformanceWarning: indexing past lexsort depth may impact performance.\n",
      "  return runner(coro)\n",
      "/usr/local/lib/python3.8/site-packages/IPython/core/interactiveshell.py:2922: PerformanceWarning: indexing past lexsort depth may impact performance.\n",
      "  return runner(coro)\n"
     ]
    },
    {
     "data": {
      "image/png": "[encoded data removed]",
      "text/plain": [
       "<Figure size 319.68x238.059 with 1 Axes>"
      ]
     },
     "metadata": {
      "needs_background": "light"
     },
     "output_type": "display_data"
    }
   ],
   "source": [
    "# ###########\n",
    "fsize = 10\n",
    "rc('text', usetex=True)\n",
    "params={'axes.labelsize':fsize,'xtick.labelsize':fsize,'ytick.labelsize':fsize,\\\n",
    "\t\t\t\t'figure.figsize':(1.2*3.7,1.4*2.3617)\t}\n",
    "rc('font',**{'family':'serif', 'serif': ['computer modern roman']})\n",
    "rcParams.update(params)\n",
    "axes_form  = [0.15,0.15,0.78,0.74]\n",
    "fig = plt.figure()\n",
    "ax = fig.add_axes(axes_form)\n",
    "MIN=0.0\n",
    "MAX=50\n",
    "\n",
    "def ilovetoplot(df,var,color='black',label=r'new',density=True,ls='-'):\n",
    "    out = ax.hist(df[var, ''], \n",
    "               bins=15, \n",
    "               range=(MIN, MAX),\n",
    "               weights=df['weight',], \n",
    "               label=label,\n",
    "                facecolor='None',\n",
    "              ls=ls,\n",
    "               edgecolor=color,\n",
    "               histtype='step',\n",
    "                density=DENSITY)\n",
    "    \n",
    "VAR='eminus'\n",
    "ilovetoplot(df_mumu_LH_dir,VAR,label=r'LH $\\mu\\mu$ Dir', color='black',ls='-')\n",
    "ilovetoplot(df_mumu_RH_dir,VAR,label=r'RH $\\mu\\mu$ Dir', color='grey',ls='-')\n",
    "ilovetoplot(df_mumu_LH_maj,VAR,label=r'LH $\\mu\\mu$ Maj', color='red',ls='--')\n",
    "ilovetoplot(df_mumu_RH_maj,VAR,label=r'RH $\\mu\\mu$ Maj', color='orange',ls='--')\n",
    "\n",
    "# ilovetoplot(df_ee_LH_dir,VAR, label=r'LH $ee$ Dir', color='black')\n",
    "# ilovetoplot(df_ee_RH_dir,VAR, label=r'RH $ee$ Dir', color='grey')\n",
    "# ilovetoplot(df_ee_LH_maj,VAR, label=r'LH $ee$ Maj', color='black')\n",
    "# ilovetoplot(df_ee_RH_maj,VAR, label=r'RH $ee$ Maj', color='grey')\n",
    "\n",
    "\n",
    "ax.legend(loc='lower left',frameon=False,ncol=2)\n",
    "ax.set_xlabel(r\"$E_+/$GeV\")\n",
    "ax.set_ylabel(r\"a.u.\")\n",
    "ax.set_xlim(MIN,MAX)\n",
    "ax.set_ylim(0.,)\n",
    "# ax.set_yscale('log')\n",
    "ax.set_title(r\"$m_{\\rm HNL} = 5$ GeV, $E_{\\rm HNL} = 70$ GeV -- all inclusive\",fontsize=fsize)\n",
    "plt.savefig(\"eminus.pdf\")"
   ]
  },
  {
   "cell_type": "code",
   "execution_count": null,
   "metadata": {},
   "outputs": [],
   "source": []
  },
  {
   "cell_type": "code",
   "execution_count": null,
   "metadata": {},
   "outputs": [],
   "source": []
  },
  {
   "cell_type": "code",
   "execution_count": 241,
   "metadata": {},
   "outputs": [
    {
     "name": "stderr",
     "output_type": "stream",
     "text": [
      "/usr/local/lib/python3.8/site-packages/IPython/core/interactiveshell.py:2922: PerformanceWarning: indexing past lexsort depth may impact performance.\n",
      "  return runner(coro)\n",
      "/usr/local/lib/python3.8/site-packages/IPython/core/interactiveshell.py:2922: PerformanceWarning: indexing past lexsort depth may impact performance.\n",
      "  return runner(coro)\n",
      "/usr/local/lib/python3.8/site-packages/IPython/core/interactiveshell.py:2922: PerformanceWarning: indexing past lexsort depth may impact performance.\n",
      "  return runner(coro)\n",
      "/usr/local/lib/python3.8/site-packages/IPython/core/interactiveshell.py:2922: PerformanceWarning: indexing past lexsort depth may impact performance.\n",
      "  return runner(coro)\n"
     ]
    },
    {
     "data": {
      "image/png": "[encoded data removed]",
      "text/plain": [
       "<Figure size 319.68x238.059 with 1 Axes>"
      ]
     },
     "metadata": {
      "needs_background": "light"
     },
     "output_type": "display_data"
    }
   ],
   "source": [
    "###########\n",
    "fsize = 10\n",
    "rc('text', usetex=True)\n",
    "params={'axes.labelsize':fsize,'xtick.labelsize':fsize,'ytick.labelsize':fsize,\\\n",
    "\t\t\t\t'figure.figsize':(1.2*3.7,1.4*2.3617)\t}\n",
    "rc('font',**{'family':'serif', 'serif': ['computer modern roman']})\n",
    "rcParams.update(params)\n",
    "axes_form  = [0.15,0.15,0.78,0.74]\n",
    "fig = plt.figure()\n",
    "ax = fig.add_axes(axes_form)\n",
    "MIN=0\n",
    "MAX=5.5\n",
    "\n",
    "def ilovetoplot(df,var,color='black',label=r'new',density=True,ls='-'):\n",
    "    out = ax.hist(df[var, ''], \n",
    "               bins=15, \n",
    "               range=(MIN, MAX),\n",
    "               weights=df['weight',], \n",
    "               label=label,\n",
    "                facecolor='None',\n",
    "              ls=ls,\n",
    "               edgecolor=color,\n",
    "               histtype='step',\n",
    "                density=DENSITY)\n",
    "    \n",
    "VAR = 'ee_mass'\n",
    "ilovetoplot(df_mumu_LH_dir,VAR,label=r'LH $\\mu\\mu$ Dir', color='black',ls='-')\n",
    "ilovetoplot(df_mumu_RH_dir,VAR,label=r'RH $\\mu\\mu$ Dir', color='grey',ls='-')\n",
    "ilovetoplot(df_mumu_LH_maj,VAR,label=r'LH $\\mu\\mu$ Maj', color='red',ls='--')\n",
    "ilovetoplot(df_mumu_RH_maj,VAR,label=r'RH $\\mu\\mu$ Maj', color='orange',ls='--')\n",
    "\n",
    "# ilovetoplot(df_ee_LH_dir,VAR, label=r'LH $ee$ Dir', color='black')\n",
    "# ilovetoplot(df_ee_RH_dir,VAR, label=r'RH $ee$ Dir', color='grey')\n",
    "# ilovetoplot(df_ee_LH_maj,VAR, label=r'LH $ee$ Maj', color='black')\n",
    "# ilovetoplot(df_ee_RH_maj,VAR, label=r'RH $ee$ Maj', color='grey')\n",
    "\n",
    "\n",
    "ax.legend(loc='lower center',frameon=False)\n",
    "ax.set_xlabel(r\"$m_{\\ell\\ell}/$GeV\")\n",
    "ax.set_ylabel(r\"a.u.\")\n",
    "ax.set_xlim(MIN,MAX)\n",
    "# ax.set_ylim(0.5,1.2)\n",
    "# ax.set_yscale('log')\n",
    "ax.set_title(r\"$m_{\\rm HNL} = 5$ GeV, $E_{\\rm HNL} = 70$ GeV -- all inclusive\",fontsize=fsize)\n",
    "plt.savefig(\"invmass.pdf\")"
   ]
  },
  {
   "cell_type": "code",
   "execution_count": 240,
   "metadata": {},
   "outputs": [
    {
     "name": "stderr",
     "output_type": "stream",
     "text": [
      "/usr/local/lib/python3.8/site-packages/IPython/core/interactiveshell.py:2922: PerformanceWarning: indexing past lexsort depth may impact performance.\n",
      "  return runner(coro)\n",
      "/usr/local/lib/python3.8/site-packages/IPython/core/interactiveshell.py:2922: PerformanceWarning: indexing past lexsort depth may impact performance.\n",
      "  return runner(coro)\n",
      "/usr/local/lib/python3.8/site-packages/IPython/core/interactiveshell.py:2922: PerformanceWarning: indexing past lexsort depth may impact performance.\n",
      "  return runner(coro)\n",
      "/usr/local/lib/python3.8/site-packages/IPython/core/interactiveshell.py:2922: PerformanceWarning: indexing past lexsort depth may impact performance.\n",
      "  return runner(coro)\n"
     ]
    },
    {
     "data": {
      "image/png": "[encoded data removed]",
      "text/plain": [
       "<Figure size 319.68x238.059 with 1 Axes>"
      ]
     },
     "metadata": {
      "needs_background": "light"
     },
     "output_type": "display_data"
    }
   ],
   "source": [
    "###########\n",
    "fsize = 10\n",
    "rc('text', usetex=True)\n",
    "params={'axes.labelsize':fsize,'xtick.labelsize':fsize,'ytick.labelsize':fsize,\\\n",
    "\t\t\t\t'figure.figsize':(1.2*3.7,1.4*2.3617)\t}\n",
    "rc('font',**{'family':'serif', 'serif': ['computer modern roman']})\n",
    "rcParams.update(params)\n",
    "axes_form  = [0.15,0.15,0.78,0.74]\n",
    "fig = plt.figure()\n",
    "ax = fig.add_axes(axes_form)\n",
    "MIN=0\n",
    "MAX=12.0\n",
    "def ilovetoplot(df,var,color='black',label=r'new',density=True,ls='-'):\n",
    "    out = ax.hist(np.arccos(df[var, ''])*180/np.pi, \n",
    "               bins=15, \n",
    "               range=(MIN, MAX),\n",
    "               weights=df['weight',], \n",
    "               label=label,\n",
    "                facecolor='None',\n",
    "              ls=ls,\n",
    "               edgecolor=color,\n",
    "               histtype='step',\n",
    "                density=DENSITY)\n",
    "VAR = 'ee_beam_costheta'\n",
    "ilovetoplot(df_mumu_LH_dir,VAR,label=r'LH $\\mu\\mu$ Dir', color='black',ls='-')\n",
    "ilovetoplot(df_mumu_RH_dir,VAR,label=r'RH $\\mu\\mu$ Dir', color='grey',ls='-')\n",
    "ilovetoplot(df_mumu_LH_maj,VAR,label=r'LH $\\mu\\mu$ Maj', color='red',ls='--')\n",
    "ilovetoplot(df_mumu_RH_maj,VAR,label=r'RH $\\mu\\mu$ Maj', color='orange',ls='--')\n",
    "\n",
    "# ilovetoplot(df_ee_LH_dir,VAR, label=r'LH $ee$ Dir', color='black')\n",
    "# ilovetoplot(df_ee_RH_dir,VAR, label=r'RH $ee$ Dir', color='grey')\n",
    "# ilovetoplot(df_ee_LH_maj,VAR, label=r'LH $ee$ Maj', color='black')\n",
    "# ilovetoplot(df_ee_RH_maj,VAR, label=r'RH $ee$ Maj', color='grey')\n",
    "\n",
    "\n",
    "ax.legend(loc='upper right',frameon=False)\n",
    "ax.set_xlabel(r\"angle of $\\ell\\ell$ cone wrt beam\")\n",
    "ax.set_ylabel(r\"a.u.\")\n",
    "ax.set_xlim(MIN,MAX)\n",
    "# ax.set_ylim(0.5,1.2)\n",
    "# ax.set_yscale('log')\n",
    "ax.set_title(r\"$m_{\\rm HNL} = 5$ GeV, $E_{\\rm HNL} = 70$ GeV -- all inclusive\",fontsize=fsize)\n",
    "plt.savefig(\"anglebeam.pdf\")"
   ]
  },
  {
   "cell_type": "code",
   "execution_count": null,
   "metadata": {},
   "outputs": [],
   "source": []
  },
  {
   "cell_type": "code",
   "execution_count": 239,
   "metadata": {},
   "outputs": [
    {
     "name": "stderr",
     "output_type": "stream",
     "text": [
      "/usr/local/lib/python3.8/site-packages/IPython/core/interactiveshell.py:2922: PerformanceWarning: indexing past lexsort depth may impact performance.\n",
      "  return runner(coro)\n",
      "/usr/local/lib/python3.8/site-packages/IPython/core/interactiveshell.py:2922: PerformanceWarning: indexing past lexsort depth may impact performance.\n",
      "  return runner(coro)\n",
      "/usr/local/lib/python3.8/site-packages/IPython/core/interactiveshell.py:2922: PerformanceWarning: indexing past lexsort depth may impact performance.\n",
      "  return runner(coro)\n",
      "/usr/local/lib/python3.8/site-packages/IPython/core/interactiveshell.py:2922: PerformanceWarning: indexing past lexsort depth may impact performance.\n",
      "  return runner(coro)\n"
     ]
    },
    {
     "data": {
      "image/png": "[encoded data removed]",
      "text/plain": [
       "<Figure size 319.68x238.059 with 1 Axes>"
      ]
     },
     "metadata": {
      "needs_background": "light"
     },
     "output_type": "display_data"
    }
   ],
   "source": [
    "###########\n",
    "fsize = 10\n",
    "rc('text', usetex=True)\n",
    "params={'axes.labelsize':fsize,'xtick.labelsize':fsize,'ytick.labelsize':fsize,\\\n",
    "\t\t\t\t'figure.figsize':(1.2*3.7,1.4*2.3617)\t}\n",
    "rc('font',**{'family':'serif', 'serif': ['computer modern roman']})\n",
    "rcParams.update(params)\n",
    "axes_form  = [0.15,0.15,0.78,0.74]\n",
    "fig = plt.figure()\n",
    "ax = fig.add_axes(axes_form)\n",
    "MIN=0\n",
    "MAX=30.0\n",
    "def ilovetoplot(df,var,color='black',label=r'new',density=True,ls='-'):\n",
    "    out = ax.hist(np.arccos(df[var, ''])*180/np.pi, \n",
    "               bins=15, \n",
    "               range=(MIN, MAX),\n",
    "               weights=df['weight',], \n",
    "               label=label,\n",
    "                facecolor='None',\n",
    "              ls=ls,\n",
    "               edgecolor=color,\n",
    "               histtype='step',\n",
    "                density=DENSITY)\n",
    "VAR = 'ee_costheta'\n",
    "ilovetoplot(df_mumu_LH_dir,VAR,label=r'LH $\\mu\\mu$ Dir', color='black',ls='-')\n",
    "ilovetoplot(df_mumu_RH_dir,VAR,label=r'RH $\\mu\\mu$ Dir', color='grey',ls='-')\n",
    "ilovetoplot(df_mumu_LH_maj,VAR,label=r'LH $\\mu\\mu$ Maj', color='red',ls='--')\n",
    "ilovetoplot(df_mumu_RH_maj,VAR,label=r'RH $\\mu\\mu$ Maj', color='orange',ls='--')\n",
    "\n",
    "# ilovetoplot(df_ee_LH_dir,VAR, label=r'LH $ee$ Dir', color='black')\n",
    "# ilovetoplot(df_ee_RH_dir,VAR, label=r'RH $ee$ Dir', color='grey')\n",
    "# ilovetoplot(df_ee_LH_maj,VAR, label=r'LH $ee$ Maj', color='black')\n",
    "# ilovetoplot(df_ee_RH_maj,VAR, label=r'RH $ee$ Maj', color='grey')\n",
    "\n",
    "\n",
    "ax.legend(loc='upper right',frameon=False)\n",
    "ax.set_xlabel(r\"opening angle of $\\ell\\ell$\")\n",
    "ax.set_ylabel(r\"a.u.\")\n",
    "ax.set_xlim(MIN,MAX)\n",
    "# ax.set_ylim(0.5,1.2)\n",
    "# ax.set_yscale('log')\n",
    "ax.set_title(r\"$m_{\\rm HNL} = 5$ GeV, $E_{\\rm HNL} = 70$ GeV -- all inclusive\",fontsize=fsize)\n",
    "plt.savefig(\"angle.pdf\")"
   ]
  },
  {
   "cell_type": "code",
   "execution_count": 279,
   "metadata": {},
   "outputs": [
    {
     "name": "stderr",
     "output_type": "stream",
     "text": [
      "/usr/local/lib/python3.8/site-packages/IPython/core/interactiveshell.py:2922: PerformanceWarning: indexing past lexsort depth may impact performance.\n",
      "  return runner(coro)\n",
      "/usr/local/lib/python3.8/site-packages/IPython/core/interactiveshell.py:2922: PerformanceWarning: indexing past lexsort depth may impact performance.\n",
      "  return runner(coro)\n",
      "/usr/local/lib/python3.8/site-packages/IPython/core/interactiveshell.py:2922: PerformanceWarning: indexing past lexsort depth may impact performance.\n",
      "  return runner(coro)\n",
      "/usr/local/lib/python3.8/site-packages/IPython/core/interactiveshell.py:2922: PerformanceWarning: indexing past lexsort depth may impact performance.\n",
      "  return runner(coro)\n"
     ]
    },
    {
     "data": {
      "image/png": "[encoded data removed]",
      "text/plain": [
       "<Figure size 319.68x238.059 with 1 Axes>"
      ]
     },
     "metadata": {
      "needs_background": "light"
     },
     "output_type": "display_data"
    }
   ],
   "source": [
    "###########\n",
    "fsize = 10\n",
    "rc('text', usetex=True)\n",
    "params={'axes.labelsize':fsize,'xtick.labelsize':fsize,'ytick.labelsize':fsize,\\\n",
    "\t\t\t\t'figure.figsize':(1.2*3.7,1.4*2.3617)\t}\n",
    "rc('font',**{'family':'serif', 'serif': ['computer modern roman']})\n",
    "rcParams.update(params)\n",
    "axes_form  = [0.15,0.15,0.78,0.74]\n",
    "fig = plt.figure()\n",
    "ax = fig.add_axes(axes_form)\n",
    "MIN=0\n",
    "MAX=5.5\n",
    "\n",
    "def ilovetoplot(df,var,color='black',label=r'new',density=True,ls='-'):\n",
    "    out = ax.hist(df[var, ''], \n",
    "               bins=15, \n",
    "               range=(MIN, MAX),\n",
    "               weights=df['weight',], \n",
    "               label=label,\n",
    "                facecolor='None',\n",
    "              ls=ls,\n",
    "               edgecolor=color,\n",
    "               histtype='step',\n",
    "                density=DENSITY)\n",
    "    \n",
    "VAR = 'miss_pt'\n",
    "ilovetoplot(df_mumu_LH_dir,VAR,label=r'LH $\\mu\\mu$ Dir', color='black',ls='-')\n",
    "ilovetoplot(df_mumu_RH_dir,VAR,label=r'RH $\\mu\\mu$ Dir', color='grey',ls='-')\n",
    "ilovetoplot(df_mumu_LH_maj,VAR,label=r'LH $\\mu\\mu$ Maj', color='red',ls='--')\n",
    "ilovetoplot(df_mumu_RH_maj,VAR,label=r'RH $\\mu\\mu$ Maj', color='orange',ls='--')\n",
    "\n",
    "# ilovetoplot(df_ee_LH_dir,VAR, label=r'LH $ee$ Dir', color='black')\n",
    "# ilovetoplot(df_ee_RH_dir,VAR, label=r'RH $ee$ Dir', color='grey')\n",
    "# ilovetoplot(df_ee_LH_maj,VAR, label=r'LH $ee$ Maj', color='black')\n",
    "# ilovetoplot(df_ee_RH_maj,VAR, label=r'RH $ee$ Maj', color='grey')\n",
    "\n",
    "\n",
    "ax.legend(loc='upper right',frameon=False)\n",
    "ax.set_xlabel(r\"$p_{\\rm miss}^{T}/$GeV\")\n",
    "ax.set_ylabel(r\"a.u.\")\n",
    "ax.set_xlim(MIN,MAX)\n",
    "# ax.set_ylim(0.5,1.2)\n",
    "# ax.set_yscale('log')\n",
    "ax.set_title(r\"$m_{\\rm HNL} = 5$ GeV, $E_{\\rm HNL} = 70$ GeV -- all inclusive\",fontsize=fsize)\n",
    "plt.savefig(\"misspt.pdf\")"
   ]
  },
  {
   "cell_type": "code",
   "execution_count": 278,
   "metadata": {},
   "outputs": [
    {
     "name": "stderr",
     "output_type": "stream",
     "text": [
      "/usr/local/lib/python3.8/site-packages/IPython/core/interactiveshell.py:2922: PerformanceWarning: indexing past lexsort depth may impact performance.\n",
      "  return runner(coro)\n",
      "/usr/local/lib/python3.8/site-packages/IPython/core/interactiveshell.py:2922: PerformanceWarning: indexing past lexsort depth may impact performance.\n",
      "  return runner(coro)\n",
      "/usr/local/lib/python3.8/site-packages/IPython/core/interactiveshell.py:2922: PerformanceWarning: indexing past lexsort depth may impact performance.\n",
      "  return runner(coro)\n",
      "/usr/local/lib/python3.8/site-packages/IPython/core/interactiveshell.py:2922: PerformanceWarning: indexing past lexsort depth may impact performance.\n",
      "  return runner(coro)\n"
     ]
    },
    {
     "data": {
      "image/png": "[encoded data removed]",
      "text/plain": [
       "<Figure size 319.68x238.059 with 1 Axes>"
      ]
     },
     "metadata": {
      "needs_background": "light"
     },
     "output_type": "display_data"
    }
   ],
   "source": [
    "###########\n",
    "fsize = 10\n",
    "rc('text', usetex=True)\n",
    "params={'axes.labelsize':fsize,'xtick.labelsize':fsize,'ytick.labelsize':fsize,\\\n",
    "\t\t\t\t'figure.figsize':(1.2*3.7,1.4*2.3617)\t}\n",
    "rc('font',**{'family':'serif', 'serif': ['computer modern roman']})\n",
    "rcParams.update(params)\n",
    "axes_form  = [0.15,0.15,0.78,0.74]\n",
    "fig = plt.figure()\n",
    "ax = fig.add_axes(axes_form)\n",
    "MIN=0\n",
    "MAX=5.5\n",
    "\n",
    "def ilovetoplot(df,var,color='black',label=r'new',density=True,ls='-'):\n",
    "    out = ax.hist(df[var, ''], \n",
    "               bins=15, \n",
    "               range=(MIN, MAX),\n",
    "               weights=df['weight',], \n",
    "               label=label,\n",
    "                facecolor='None',\n",
    "              ls=ls,\n",
    "               edgecolor=color,\n",
    "               histtype='step',\n",
    "                density=DENSITY)\n",
    "    \n",
    "VAR = 'm_t'\n",
    "ilovetoplot(df_mumu_LH_dir,VAR,label=r'LH $\\mu\\mu$ Dir', color='black',ls='-')\n",
    "ilovetoplot(df_mumu_RH_dir,VAR,label=r'RH $\\mu\\mu$ Dir', color='grey',ls='-')\n",
    "ilovetoplot(df_mumu_LH_maj,VAR,label=r'LH $\\mu\\mu$ Maj', color='red',ls='--')\n",
    "ilovetoplot(df_mumu_RH_maj,VAR,label=r'RH $\\mu\\mu$ Maj', color='orange',ls='--')\n",
    "\n",
    "ax.legend(loc='upper left',frameon=False)\n",
    "ax.set_xlabel(r\"$M_{T}/$GeV\")\n",
    "ax.set_ylabel(r\"a.u.\")\n",
    "ax.set_xlim(MIN,MAX)\n",
    "ax.set_title(r\"$m_{\\rm HNL} = 5$ GeV, $E_{\\rm HNL} = 70$ GeV -- all inclusive\",fontsize=fsize)\n",
    "plt.savefig(\"misspt.pdf\")"
   ]
  },
  {
   "cell_type": "code",
   "execution_count": null,
   "metadata": {},
   "outputs": [],
   "source": []
  }
 ],
 "metadata": {
  "kernelspec": {
   "display_name": "Python 3",
   "language": "python",
   "name": "python3"
  },
  "language_info": {
   "codemirror_mode": {
    "name": "ipython",
    "version": 3
   },
   "file_extension": ".py",
   "mimetype": "text/x-python",
   "name": "python",
   "nbconvert_exporter": "python",
   "pygments_lexer": "ipython3",
   "version": "3.8.7"
  }
 },
 "nbformat": 4,
 "nbformat_minor": 4
}
