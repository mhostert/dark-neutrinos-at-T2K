{
 "cells": [
  {
   "cell_type": "markdown",
   "metadata": {},
   "source": [
    "# Plot distributions with best fit points "
   ]
  },
  {
   "cell_type": "code",
   "execution_count": 1,
   "metadata": {},
   "outputs": [],
   "source": [
    "%load_ext autoreload\n",
    "%autoreload 2"
   ]
  },
  {
   "cell_type": "code",
   "execution_count": 2,
   "metadata": {},
   "outputs": [],
   "source": [
    "import matplotlib.pyplot as plt\n",
    "import numpy as np\n",
    "import pandas as pd\n",
    "from exp_analysis import *\n",
    "from fourvec import *"
   ]
  },
  {
   "cell_type": "code",
   "execution_count": 3,
   "metadata": {},
   "outputs": [],
   "source": [
    "m4_model = {\n",
    "    \"L1\": 0.42,\n",
    "    \"L2\": 0.1,\n",
    "    \"H1\": 0.12,\n",
    "}\n",
    "\n",
    "mzprime_model = {\n",
    "    \"L1\": 0.03,\n",
    "    \"L2\": 0.03,\n",
    "    \"H1\": 1.25,\n",
    "}\n",
    "\n",
    "ctau_model = {\n",
    "    \"L1\": [0.1, 1, 10, 100, 1000],\n",
    "    \"L2\": [0.1, 1, 10, 100, 1000],\n",
    "    \"H1\": [0.1, 2, 10, 100, 1000],\n",
    "}\n",
    "\n",
    "!mkdir -p ../../fig/best_points/bp_l1/\n",
    "!mkdir -p ../../fig/best_points/bp_l2/\n",
    "!mkdir -p ../../fig/best_points/bp_h1/\n",
    "\n",
    "save_folder_model = {\n",
    "    \"L1\": \"../../fig/best_points/bp_l1/\",\n",
    "    \"L2\": \"../../fig/best_points/bp_l2/\",\n",
    "    \"H1\": \"../../fig/best_points/bp_h1/\",\n",
    "}"
   ]
  },
  {
   "cell_type": "code",
   "execution_count": 4,
   "metadata": {},
   "outputs": [],
   "source": [
    "model = \"H1\""
   ]
  },
  {
   "cell_type": "code",
   "execution_count": 6,
   "metadata": {},
   "outputs": [],
   "source": [
    "m4 = m4_model[model]\n",
    "mzprime = mzprime_model[model]\n",
    "ctaus = ctau_model[model]\n",
    "save_folder = save_folder_model[model]\n",
    "df = pd.read_pickle(f'../data/nd280_nu/3plus1/m4_{m4}_mzprime_{mzprime}/MC_m4_{m4}_mzprime_{mzprime}.pckl')\n",
    "initialise_df(df, ctaus)"
   ]
  },
  {
   "cell_type": "code",
   "execution_count": 7,
   "metadata": {},
   "outputs": [
    {
     "data": {
      "text/plain": [
       "Text(0.5, 1.0, 'Best fit point H1')"
      ]
     },
     "execution_count": 7,
     "metadata": {},
     "output_type": "execute_result"
    },
    {
     "data": {
      "image/png": "[encoded data removed]",
      "text/plain": [
       "<Figure size 432x288 with 1 Axes>"
      ]
     },
     "metadata": {
      "needs_background": "light"
     },
     "output_type": "display_data"
    }
   ],
   "source": [
    "for ctau in ctaus:\n",
    "    total_selection = df[f'total_selected_{ctau}', '']\n",
    "    out = plt.hist(df['pee', 't'][total_selection], \n",
    "                   bins=20, \n",
    "                   range=(0, 4),\n",
    "                   weights=df['actual_weight', ''][total_selection], \n",
    "                   label=f\"ctau = {ctau} cm, nevt = {df['actual_weight', ''][total_selection].sum():.0f}\", \n",
    "                   histtype='step')\n",
    "\n",
    "plt.legend(frameon=False)\n",
    "plt.xlabel('e+e- deposited energy [GeV]')\n",
    "plt.title(f\"Best fit point {model}\")\n",
    "# plt.savefig(save_folder+\"ee_energy.png\", dpi=250)"
   ]
  },
  {
   "cell_type": "code",
   "execution_count": null,
   "metadata": {},
   "outputs": [],
   "source": []
  }
 ],
 "metadata": {
  "kernelspec": {
   "display_name": "Python 3",
   "language": "python",
   "name": "python3"
  },
  "language_info": {
   "codemirror_mode": {
    "name": "ipython",
    "version": 3
   },
   "file_extension": ".py",
   "mimetype": "text/x-python",
   "name": "python",
   "nbconvert_exporter": "python",
   "pygments_lexer": "ipython3",
   "version": "3.8.6"
  }
 },
 "nbformat": 4,
 "nbformat_minor": 4
}
