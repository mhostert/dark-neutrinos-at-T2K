{
 "cells": [
  {
   "cell_type": "markdown",
   "id": "2913a134-dd68-43d6-acc0-d921ead99da7",
   "metadata": {},
   "source": [
    "# Produce the various exclusion plots"
   ]
  },
  {
   "cell_type": "code",
   "execution_count": 1,
   "id": "f634f0da-411e-41fe-9490-85463a7ada33",
   "metadata": {},
   "outputs": [],
   "source": [
    "%load_ext autoreload\n",
    "%autoreload 2"
   ]
  },
  {
   "cell_type": "code",
   "execution_count": 2,
   "id": "eaeed139-9bcc-4552-a597-6cd17341c0c8",
   "metadata": {},
   "outputs": [],
   "source": [
    "%load_ext line_profiler"
   ]
  },
  {
   "cell_type": "code",
   "execution_count": 3,
   "id": "c27cd7a1-604c-43da-b1e2-56160993716b",
   "metadata": {},
   "outputs": [],
   "source": [
    "import matplotlib.pyplot as plt\n",
    "from matplotlib.colors import LogNorm\n",
    "import numpy as np\n",
    "import pandas as pd\n",
    "import pickle\n",
    "import gc\n",
    "\n",
    "from exp_analysis_class import full_likelihood, compute_likelihood_from_retrieved\n",
    "from dark_nus_utils import load_datasets\n",
    "from const import alphaQED\n",
    "from analyses_dict import analyses\n",
    "from parameters_dict import *\n",
    "from dark_nus_utils import store_events_weights, retrieve_events_weights\n",
    "\n",
    "from likelihood_contours_plot import *"
   ]
  },
  {
   "cell_type": "code",
   "execution_count": 4,
   "id": "fa3a372c-4355-4a2e-8ea7-98c9597d6241",
   "metadata": {},
   "outputs": [],
   "source": [
    "hierarchy = 'light'\n",
    "D_or_M = 'majorana'\n",
    "\n",
    "save_folder = f'../fig/6_limit_visualisation/{hierarchy}_{D_or_M}/'\n",
    "!mkdir -p $save_folder"
   ]
  },
  {
   "cell_type": "code",
   "execution_count": 5,
   "id": "2c58467a-78b8-46be-a76c-50b7643d39ce",
   "metadata": {},
   "outputs": [],
   "source": [
    "# my_exp_analyses = load_datasets(hierarchies=['heavy', 'light'],\n",
    "#                                   D_or_Ms=D_or_M,\n",
    "#                                   fluxes=['FHC', 'RHC'],\n",
    "#                                 timeit=True, \n",
    "#                                 direct_load_objects=False,\n",
    "#                                 load_grid=False,\n",
    "#                                 dump=True,\n",
    "#                                 nentries=1000000)"
   ]
  },
  {
   "cell_type": "code",
   "execution_count": 6,
   "id": "961b39c1-eb85-4941-a51e-db940ac0f75b",
   "metadata": {},
   "outputs": [
    {
     "name": "stdout",
     "output_type": "stream",
     "text": [
      "light majorana FHC\n",
      "Wall time: 4.531589508056641 s, CPU time: 0.4667719880000001\n",
      "light majorana RHC\n",
      "Wall time: 4.5213847160339355 s, CPU time: 0.45933431199999974\n"
     ]
    }
   ],
   "source": [
    "my_exp_analyses = load_datasets(\n",
    "                                hierarchies=hierarchy, \n",
    "                                D_or_Ms=D_or_M, \n",
    "                                fluxes=['FHC', 'RHC'],\n",
    "                                timeit=True, \n",
    "                                direct_load_objects=True,\n",
    "                                load_grid=False,\n",
    "                                dump=False,\n",
    "                                nentries=1000000)"
   ]
  },
  {
   "cell_type": "markdown",
   "id": "cb21781c-53be-4600-80f7-8c1d1e9a70f2",
   "metadata": {
    "jp-MarkdownHeadingCollapsed": true,
    "tags": []
   },
   "source": [
    "# $m_{Z^\\prime} - \\varepsilon$"
   ]
  },
  {
   "cell_type": "code",
   "execution_count": null,
   "id": "de9fb0d8-2d73-4b21-bc64-9d7d384f2fe0",
   "metadata": {},
   "outputs": [],
   "source": [
    "this_case = f'{hierarchy}_mz_epsilon'"
   ]
  },
  {
   "cell_type": "code",
   "execution_count": null,
   "id": "e61aba93-f2ba-4ee9-92a0-2bc3c658b93c",
   "metadata": {},
   "outputs": [],
   "source": [
    "retrieved = {}\n",
    "for nu_mode in analyses[likelihood_calculation_pars[this_case]['analysis_name']].keys():\n",
    "    retrieved[nu_mode] = retrieve_events_weights(this_case, \n",
    "                        analysis_name=likelihood_calculation_pars[this_case]['analysis_name'], \n",
    "                        nu_mode=nu_mode)"
   ]
  },
  {
   "cell_type": "code",
   "execution_count": null,
   "id": "597f45bc-68ef-4dcd-9f08-242bd2b3cc61",
   "metadata": {
    "tags": []
   },
   "outputs": [],
   "source": [
    "analysis_names = ['tpc_argon_only', 'tpc_pod_only', 'tpc', 'tpc_projection1', 'tpc_projection2']\n",
    "likes = {}\n",
    "mus = {}\n",
    "sigmas2s = {}\n",
    "for analysis_name in analysis_names:\n",
    "    likes[analysis_name] = 0\n",
    "    mus[analysis_name] = 0\n",
    "    sigmas2s[analysis_name] = 0\n",
    "    for nu_mode in analyses[analysis_name].keys():\n",
    "        print(analysis_name, nu_mode)\n",
    "        out = compute_likelihood_from_retrieved(retrieved[nu_mode], \n",
    "                                          my_exp_analyses[f'{hierarchy}_{D_or_M}_{nu_mode}'], \n",
    "                                          analyses[analysis_name][nu_mode], \n",
    "                                          like_normalized=True)\n",
    "        likes[analysis_name] += out[0]\n",
    "        mus[analysis_name] += out[1]\n",
    "        sigmas2s[analysis_name] += out[2]\n",
    "        del out\n",
    "        gc.collect()\n",
    "    likes[analysis_name] -= likes[analysis_name].min()"
   ]
  },
  {
   "cell_type": "code",
   "execution_count": null,
   "id": "265c44f5-df88-4bd1-bb7f-c00499991aa4",
   "metadata": {},
   "outputs": [],
   "source": [
    "likes['tpc_projection1_2'] = likes['tpc_projection1'] + likes['tpc_projection2']\n",
    "likes['tpc_projection1_2'] -= likes['tpc_projection1_2'].min()\n",
    "mus['tpc_projection1_2'] = mus['tpc_projection1'] + mus['tpc_projection2']\n",
    "sigmas2s['tpc_projection1_2'] = sigmas2s['tpc_projection1'] + sigmas2s['tpc_projection2']"
   ]
  },
  {
   "cell_type": "code",
   "execution_count": null,
   "id": "74b5e7ea-7954-4cac-8692-74442ccbe96d",
   "metadata": {
    "tags": []
   },
   "outputs": [],
   "source": [
    "colors = ['deepskyblue', 'blue', 'navy']\n",
    "contours = {}\n",
    "for i, analysis_name in enumerate(['tpc_argon_only', 'tpc_pod_only', 'tpc']):\n",
    "    contours[analysis_name] = plt.contour(retrieved['FHC']['pars']['mz'], \n",
    "                                            retrieved['FHC']['pars']['epsilon'], \n",
    "                                            likes[analysis_name].T, \n",
    "                                  levels=[likelihood_levels_2d[0.9]], colors=[colors[i]])\n",
    "plt.loglog()\n",
    "plt.legend([cntr.legend_elements()[0][0] for cntr in contours.values()], \n",
    "           contours.keys(),\n",
    "           frameon=False,\n",
    "           loc='lower right')\n",
    "plt.xlabel(r'$m_Z\\prime$')\n",
    "plt.ylabel(r'$\\epsilon$')"
   ]
  },
  {
   "cell_type": "code",
   "execution_count": null,
   "id": "44d5044d-2129-41f4-8cd8-00d2047e6d29",
   "metadata": {},
   "outputs": [],
   "source": [
    "colors = ['deepskyblue', 'blue', 'navy', 'black']\n",
    "contours = {}\n",
    "for i, analysis_name in enumerate(['tpc', 'tpc_projection1', 'tpc_projection2', 'tpc_projection1_2']):\n",
    "    contours[analysis_name] = plt.contour(retrieved['FHC']['pars']['mz'], \n",
    "                                            retrieved['FHC']['pars']['epsilon'], \n",
    "                                            likes[analysis_name].T, \n",
    "                                  levels=[likelihood_levels_2d[0.9], np.inf], colors=[colors[i]])\n",
    "plt.loglog()\n",
    "plt.legend([cntr.legend_elements()[0][0] for cntr in contours.values()], \n",
    "           contours.keys(),\n",
    "           frameon=False,\n",
    "           loc='lower right')\n",
    "plt.xlabel(r'$m_Z\\prime$')\n",
    "plt.ylabel(r'$\\epsilon$')"
   ]
  },
  {
   "cell_type": "code",
   "execution_count": null,
   "id": "2d9f7199-5051-46b1-b6bf-0bf3753d3ca2",
   "metadata": {},
   "outputs": [],
   "source": [
    "set_plot_style()"
   ]
  },
  {
   "cell_type": "code",
   "execution_count": null,
   "id": "74934e4c-a6a3-4d62-b05c-5961129d4b36",
   "metadata": {},
   "outputs": [],
   "source": [
    "ax = set_canvas('mz_epsilon')\n",
    "mz_epsilon_heavy_plot(ax, retrieved['FHC']['pars']['m4'], retrieved['FHC']['pars']['mz'])\n",
    "ax.set_ylim(1e-5, 1e-1)\n",
    "\n",
    "colors = ['orange', 'tomato']\n",
    "linestyles = ['-', '--']\n",
    "contours = {}\n",
    "for i, analysis_name in enumerate(['tpc', 'tpc_projection1_2']):\n",
    "    contours[analysis_name] = plt.contour(retrieved['FHC']['pars']['mz'], \n",
    "                                            retrieved['FHC']['pars']['epsilon'], \n",
    "                                            likes[analysis_name].T, \n",
    "                                  levels=[likelihood_levels_2d[0.9], np.inf], \n",
    "                                          colors=[colors[i]], linestyles=[linestyles[i]])\n",
    "    plt.contourf(retrieved['FHC']['pars']['mz'], \n",
    "                                            retrieved['FHC']['pars']['epsilon'], \n",
    "                                            likes[analysis_name].T, \n",
    "                                  levels=[likelihood_levels_2d[0.9], np.inf], \n",
    "                                          colors=[colors[i]], alpha=0.05)\n",
    "plt.legend([cntr.legend_elements()[0][0] for cntr in contours.values()], \n",
    "           contours.keys(),\n",
    "           frameon=False,\n",
    "           loc='lower right')\n",
    "plt.savefig(save_folder + this_case + '.pdf', bbox_inches='tight')"
   ]
  },
  {
   "cell_type": "markdown",
   "id": "d11e4a81-f134-4616-97d3-ac9e3a07e226",
   "metadata": {},
   "source": [
    "# $m_N - |U_{\\mu N}|^2$"
   ]
  },
  {
   "cell_type": "code",
   "execution_count": 7,
   "id": "0f5b4ead-e4f5-494a-b5ee-82053dd4a1ab",
   "metadata": {},
   "outputs": [],
   "source": [
    "this_case = f'{hierarchy}_m4_Umu4_2'"
   ]
  },
  {
   "cell_type": "code",
   "execution_count": 8,
   "id": "34d18f5f-bff3-4eeb-934f-945f78954114",
   "metadata": {},
   "outputs": [],
   "source": [
    "retrieved = {}\n",
    "for nu_mode in analyses[likelihood_calculation_pars[this_case]['analysis_name']].keys():\n",
    "    retrieved[nu_mode] = retrieve_events_weights(this_case, \n",
    "                        analysis_name=likelihood_calculation_pars[this_case]['analysis_name'], \n",
    "                        nu_mode=nu_mode)"
   ]
  },
  {
   "cell_type": "code",
   "execution_count": 11,
   "id": "f09f904e-dd5c-4916-aefa-08289959fe8e",
   "metadata": {},
   "outputs": [],
   "source": [
    "nu_mode = 'FHC'\n",
    "analysis_name = 'nueccqe_fgd'"
   ]
  },
  {
   "cell_type": "code",
   "execution_count": 8,
   "id": "3549370a-f37d-4bc3-867f-fbea7af54caa",
   "metadata": {
    "collapsed": true,
    "jupyter": {
     "outputs_hidden": true
    },
    "tags": []
   },
   "outputs": [
    {
     "name": "stdout",
     "output_type": "stream",
     "text": [
      "tpc_light FHC\n",
      "tpc_light RHC\n",
      "tpc_light_projection1 FHC\n",
      "tpc_light_projection1 RHC\n",
      "tpc_light_projection2 FHC\n",
      "tpc_light_projection2 RHC\n",
      "nueccqe_fgd FHC\n"
     ]
    },
    {
     "ename": "KeyboardInterrupt",
     "evalue": "",
     "output_type": "error",
     "traceback": [
      "\u001b[0;31m---------------------------------------------------------------------------\u001b[0m",
      "\u001b[0;31mKeyboardInterrupt\u001b[0m                         Traceback (most recent call last)",
      "\u001b[0;32m<ipython-input-8-2684e76d3e0b>\u001b[0m in \u001b[0;36m<module>\u001b[0;34m\u001b[0m\n\u001b[1;32m     19\u001b[0m     \u001b[0;32mfor\u001b[0m \u001b[0mnu_mode\u001b[0m \u001b[0;32min\u001b[0m \u001b[0manalyses\u001b[0m\u001b[0;34m[\u001b[0m\u001b[0manalysis_name\u001b[0m\u001b[0;34m]\u001b[0m\u001b[0;34m.\u001b[0m\u001b[0mkeys\u001b[0m\u001b[0;34m(\u001b[0m\u001b[0;34m)\u001b[0m\u001b[0;34m:\u001b[0m\u001b[0;34m\u001b[0m\u001b[0;34m\u001b[0m\u001b[0m\n\u001b[1;32m     20\u001b[0m         \u001b[0mprint\u001b[0m\u001b[0;34m(\u001b[0m\u001b[0manalysis_name\u001b[0m\u001b[0;34m,\u001b[0m \u001b[0mnu_mode\u001b[0m\u001b[0;34m)\u001b[0m\u001b[0;34m\u001b[0m\u001b[0;34m\u001b[0m\u001b[0m\n\u001b[0;32m---> 21\u001b[0;31m         out = compute_likelihood_from_retrieved(retrieved[nu_mode], \n\u001b[0m\u001b[1;32m     22\u001b[0m                                           \u001b[0mmy_exp_analyses\u001b[0m\u001b[0;34m[\u001b[0m\u001b[0;34mf'{hierarchy}_{D_or_M}_{nu_mode}'\u001b[0m\u001b[0;34m]\u001b[0m\u001b[0;34m,\u001b[0m\u001b[0;34m\u001b[0m\u001b[0;34m\u001b[0m\u001b[0m\n\u001b[1;32m     23\u001b[0m                                           \u001b[0manalyses\u001b[0m\u001b[0;34m[\u001b[0m\u001b[0manalysis_name\u001b[0m\u001b[0;34m]\u001b[0m\u001b[0;34m[\u001b[0m\u001b[0mnu_mode\u001b[0m\u001b[0;34m]\u001b[0m\u001b[0;34m,\u001b[0m\u001b[0;34m\u001b[0m\u001b[0;34m\u001b[0m\u001b[0m\n",
      "\u001b[0;32m~/projects/dark_nus/exp_analysis/exp_analysis_class.py\u001b[0m in \u001b[0;36mcompute_likelihood_from_retrieved\u001b[0;34m(out_events_weights, exp_analysis_obj, analysis, like_normalized)\u001b[0m\n\u001b[1;32m     33\u001b[0m                                                                        analysis['pot'])\n\u001b[1;32m     34\u001b[0m     \u001b[0mall_weights\u001b[0m \u001b[0;34m=\u001b[0m \u001b[0mall_weights\u001b[0m\u001b[0;34m.\u001b[0m\u001b[0mT\u001b[0m \u001b[0;34m*\u001b[0m \u001b[0mpot_ntarget_weights\u001b[0m \u001b[0;34m*\u001b[0m \u001b[0manalysis\u001b[0m\u001b[0;34m[\u001b[0m\u001b[0;34m'efficiency'\u001b[0m\u001b[0;34m]\u001b[0m\u001b[0;34m\u001b[0m\u001b[0;34m\u001b[0m\u001b[0m\n\u001b[0;32m---> 35\u001b[0;31m     \u001b[0;32mreturn\u001b[0m \u001b[0mexp_analysis_obj\u001b[0m\u001b[0;34m.\u001b[0m\u001b[0mcompute_likelihood\u001b[0m\u001b[0;34m(\u001b[0m\u001b[0maux_df\u001b[0m\u001b[0;34m,\u001b[0m \u001b[0mall_weights\u001b[0m\u001b[0;34m.\u001b[0m\u001b[0mT\u001b[0m\u001b[0;34m,\u001b[0m \u001b[0manalysis\u001b[0m\u001b[0;34m,\u001b[0m \u001b[0mlike_normalized\u001b[0m\u001b[0;34m)\u001b[0m\u001b[0;34m\u001b[0m\u001b[0;34m\u001b[0m\u001b[0m\n\u001b[0m\u001b[1;32m     36\u001b[0m \u001b[0;34m\u001b[0m\u001b[0m\n\u001b[1;32m     37\u001b[0m \u001b[0;32mdef\u001b[0m \u001b[0mfull_likelihood\u001b[0m\u001b[0;34m(\u001b[0m\u001b[0mm4\u001b[0m\u001b[0;34m,\u001b[0m \u001b[0mmz\u001b[0m\u001b[0;34m,\u001b[0m \u001b[0malpha_dark\u001b[0m\u001b[0;34m,\u001b[0m \u001b[0mepsilon\u001b[0m\u001b[0;34m,\u001b[0m \u001b[0mUmu4_2\u001b[0m\u001b[0;34m,\u001b[0m \u001b[0mUd4_2\u001b[0m\u001b[0;34m,\u001b[0m \u001b[0mexp_analyses_objects\u001b[0m\u001b[0;34m,\u001b[0m \u001b[0mhierarchy\u001b[0m\u001b[0;34m,\u001b[0m \u001b[0mD_or_M\u001b[0m\u001b[0;34m,\u001b[0m \u001b[0manalyses\u001b[0m\u001b[0;34m,\u001b[0m \u001b[0mlike_normalized\u001b[0m\u001b[0;34m=\u001b[0m\u001b[0;32mFalse\u001b[0m\u001b[0;34m)\u001b[0m\u001b[0;34m:\u001b[0m\u001b[0;34m\u001b[0m\u001b[0;34m\u001b[0m\u001b[0m\n",
      "\u001b[0;32m~/projects/dark_nus/exp_analysis/exp_analysis_class.py\u001b[0m in \u001b[0;36mcompute_likelihood\u001b[0;34m(self, aux_df, all_weights, analysis, like_normalized)\u001b[0m\n\u001b[1;32m    554\u001b[0m             \u001b[0;32mdef\u001b[0m \u001b[0mhist1d\u001b[0m\u001b[0;34m(\u001b[0m\u001b[0ma\u001b[0m\u001b[0;34m)\u001b[0m\u001b[0;34m:\u001b[0m\u001b[0;34m\u001b[0m\u001b[0;34m\u001b[0m\u001b[0m\n\u001b[1;32m    555\u001b[0m                 \u001b[0;32mreturn\u001b[0m \u001b[0mnp\u001b[0m\u001b[0;34m.\u001b[0m\u001b[0mhistogram\u001b[0m\u001b[0;34m(\u001b[0m\u001b[0ma\u001b[0m\u001b[0;34m[\u001b[0m\u001b[0;34m:\u001b[0m\u001b[0mn_entries\u001b[0m\u001b[0;34m]\u001b[0m\u001b[0;34m,\u001b[0m \u001b[0mbins\u001b[0m\u001b[0;34m=\u001b[0m\u001b[0manalysis\u001b[0m\u001b[0;34m[\u001b[0m\u001b[0;34m'binning'\u001b[0m\u001b[0;34m]\u001b[0m\u001b[0;34m,\u001b[0m \u001b[0mweights\u001b[0m\u001b[0;34m=\u001b[0m\u001b[0ma\u001b[0m\u001b[0;34m[\u001b[0m\u001b[0mn_entries\u001b[0m\u001b[0;34m:\u001b[0m\u001b[0;34m]\u001b[0m\u001b[0;34m)\u001b[0m\u001b[0;34m[\u001b[0m\u001b[0;36m0\u001b[0m\u001b[0;34m]\u001b[0m\u001b[0;34m\u001b[0m\u001b[0;34m\u001b[0m\u001b[0m\n\u001b[0;32m--> 556\u001b[0;31m             mu_hist = np.apply_along_axis(func1d=hist1d, \n\u001b[0m\u001b[1;32m    557\u001b[0m                                           axis=0, arr=aux_mu)\n\u001b[1;32m    558\u001b[0m             \u001b[0mmu_hist\u001b[0m \u001b[0;34m=\u001b[0m \u001b[0mnp\u001b[0m\u001b[0;34m.\u001b[0m\u001b[0mmoveaxis\u001b[0m\u001b[0;34m(\u001b[0m\u001b[0mmu_hist\u001b[0m\u001b[0;34m,\u001b[0m \u001b[0;36m0\u001b[0m\u001b[0;34m,\u001b[0m \u001b[0;34m-\u001b[0m\u001b[0;36m1\u001b[0m\u001b[0;34m)\u001b[0m\u001b[0;34m\u001b[0m\u001b[0;34m\u001b[0m\u001b[0m\n",
      "\u001b[0;32m<__array_function__ internals>\u001b[0m in \u001b[0;36mapply_along_axis\u001b[0;34m(*args, **kwargs)\u001b[0m\n",
      "\u001b[0;32m~/.conda/envs/dark_nus/lib/python3.8/site-packages/numpy/lib/shape_base.py\u001b[0m in \u001b[0;36mapply_along_axis\u001b[0;34m(func1d, axis, arr, *args, **kwargs)\u001b[0m\n\u001b[1;32m    400\u001b[0m     \u001b[0mbuff\u001b[0m\u001b[0;34m[\u001b[0m\u001b[0mind0\u001b[0m\u001b[0;34m]\u001b[0m \u001b[0;34m=\u001b[0m \u001b[0mres\u001b[0m\u001b[0;34m\u001b[0m\u001b[0;34m\u001b[0m\u001b[0m\n\u001b[1;32m    401\u001b[0m     \u001b[0;32mfor\u001b[0m \u001b[0mind\u001b[0m \u001b[0;32min\u001b[0m \u001b[0minds\u001b[0m\u001b[0;34m:\u001b[0m\u001b[0;34m\u001b[0m\u001b[0;34m\u001b[0m\u001b[0m\n\u001b[0;32m--> 402\u001b[0;31m         \u001b[0mbuff\u001b[0m\u001b[0;34m[\u001b[0m\u001b[0mind\u001b[0m\u001b[0;34m]\u001b[0m \u001b[0;34m=\u001b[0m \u001b[0masanyarray\u001b[0m\u001b[0;34m(\u001b[0m\u001b[0mfunc1d\u001b[0m\u001b[0;34m(\u001b[0m\u001b[0minarr_view\u001b[0m\u001b[0;34m[\u001b[0m\u001b[0mind\u001b[0m\u001b[0;34m]\u001b[0m\u001b[0;34m,\u001b[0m \u001b[0;34m*\u001b[0m\u001b[0margs\u001b[0m\u001b[0;34m,\u001b[0m \u001b[0;34m**\u001b[0m\u001b[0mkwargs\u001b[0m\u001b[0;34m)\u001b[0m\u001b[0;34m)\u001b[0m\u001b[0;34m\u001b[0m\u001b[0;34m\u001b[0m\u001b[0m\n\u001b[0m\u001b[1;32m    403\u001b[0m \u001b[0;34m\u001b[0m\u001b[0m\n\u001b[1;32m    404\u001b[0m     \u001b[0;32mif\u001b[0m \u001b[0;32mnot\u001b[0m \u001b[0misinstance\u001b[0m\u001b[0;34m(\u001b[0m\u001b[0mres\u001b[0m\u001b[0;34m,\u001b[0m \u001b[0mmatrix\u001b[0m\u001b[0;34m)\u001b[0m\u001b[0;34m:\u001b[0m\u001b[0;34m\u001b[0m\u001b[0;34m\u001b[0m\u001b[0m\n",
      "\u001b[0;32m~/projects/dark_nus/exp_analysis/exp_analysis_class.py\u001b[0m in \u001b[0;36mhist1d\u001b[0;34m(a)\u001b[0m\n\u001b[1;32m    553\u001b[0m \u001b[0;34m\u001b[0m\u001b[0m\n\u001b[1;32m    554\u001b[0m             \u001b[0;32mdef\u001b[0m \u001b[0mhist1d\u001b[0m\u001b[0;34m(\u001b[0m\u001b[0ma\u001b[0m\u001b[0;34m)\u001b[0m\u001b[0;34m:\u001b[0m\u001b[0;34m\u001b[0m\u001b[0;34m\u001b[0m\u001b[0m\n\u001b[0;32m--> 555\u001b[0;31m                 \u001b[0;32mreturn\u001b[0m \u001b[0mnp\u001b[0m\u001b[0;34m.\u001b[0m\u001b[0mhistogram\u001b[0m\u001b[0;34m(\u001b[0m\u001b[0ma\u001b[0m\u001b[0;34m[\u001b[0m\u001b[0;34m:\u001b[0m\u001b[0mn_entries\u001b[0m\u001b[0;34m]\u001b[0m\u001b[0;34m,\u001b[0m \u001b[0mbins\u001b[0m\u001b[0;34m=\u001b[0m\u001b[0manalysis\u001b[0m\u001b[0;34m[\u001b[0m\u001b[0;34m'binning'\u001b[0m\u001b[0;34m]\u001b[0m\u001b[0;34m,\u001b[0m \u001b[0mweights\u001b[0m\u001b[0;34m=\u001b[0m\u001b[0ma\u001b[0m\u001b[0;34m[\u001b[0m\u001b[0mn_entries\u001b[0m\u001b[0;34m:\u001b[0m\u001b[0;34m]\u001b[0m\u001b[0;34m)\u001b[0m\u001b[0;34m[\u001b[0m\u001b[0;36m0\u001b[0m\u001b[0;34m]\u001b[0m\u001b[0;34m\u001b[0m\u001b[0;34m\u001b[0m\u001b[0m\n\u001b[0m\u001b[1;32m    556\u001b[0m             mu_hist = np.apply_along_axis(func1d=hist1d, \n\u001b[1;32m    557\u001b[0m                                           axis=0, arr=aux_mu)\n",
      "\u001b[0;32m<__array_function__ internals>\u001b[0m in \u001b[0;36mhistogram\u001b[0;34m(*args, **kwargs)\u001b[0m\n",
      "\u001b[0;32m~/.conda/envs/dark_nus/lib/python3.8/site-packages/numpy/lib/histograms.py\u001b[0m in \u001b[0;36mhistogram\u001b[0;34m(a, bins, range, normed, weights, density)\u001b[0m\n\u001b[1;32m    882\u001b[0m                 \u001b[0mtmp_a\u001b[0m \u001b[0;34m=\u001b[0m \u001b[0ma\u001b[0m\u001b[0;34m[\u001b[0m\u001b[0mi\u001b[0m\u001b[0;34m:\u001b[0m\u001b[0mi\u001b[0m\u001b[0;34m+\u001b[0m\u001b[0mBLOCK\u001b[0m\u001b[0;34m]\u001b[0m\u001b[0;34m\u001b[0m\u001b[0;34m\u001b[0m\u001b[0m\n\u001b[1;32m    883\u001b[0m                 \u001b[0mtmp_w\u001b[0m \u001b[0;34m=\u001b[0m \u001b[0mweights\u001b[0m\u001b[0;34m[\u001b[0m\u001b[0mi\u001b[0m\u001b[0;34m:\u001b[0m\u001b[0mi\u001b[0m\u001b[0;34m+\u001b[0m\u001b[0mBLOCK\u001b[0m\u001b[0;34m]\u001b[0m\u001b[0;34m\u001b[0m\u001b[0;34m\u001b[0m\u001b[0m\n\u001b[0;32m--> 884\u001b[0;31m                 \u001b[0msorting_index\u001b[0m \u001b[0;34m=\u001b[0m \u001b[0mnp\u001b[0m\u001b[0;34m.\u001b[0m\u001b[0margsort\u001b[0m\u001b[0;34m(\u001b[0m\u001b[0mtmp_a\u001b[0m\u001b[0;34m)\u001b[0m\u001b[0;34m\u001b[0m\u001b[0;34m\u001b[0m\u001b[0m\n\u001b[0m\u001b[1;32m    885\u001b[0m                 \u001b[0msa\u001b[0m \u001b[0;34m=\u001b[0m \u001b[0mtmp_a\u001b[0m\u001b[0;34m[\u001b[0m\u001b[0msorting_index\u001b[0m\u001b[0;34m]\u001b[0m\u001b[0;34m\u001b[0m\u001b[0;34m\u001b[0m\u001b[0m\n\u001b[1;32m    886\u001b[0m                 \u001b[0msw\u001b[0m \u001b[0;34m=\u001b[0m \u001b[0mtmp_w\u001b[0m\u001b[0;34m[\u001b[0m\u001b[0msorting_index\u001b[0m\u001b[0;34m]\u001b[0m\u001b[0;34m\u001b[0m\u001b[0;34m\u001b[0m\u001b[0m\n",
      "\u001b[0;32m<__array_function__ internals>\u001b[0m in \u001b[0;36margsort\u001b[0;34m(*args, **kwargs)\u001b[0m\n",
      "\u001b[0;32m~/.conda/envs/dark_nus/lib/python3.8/site-packages/numpy/core/fromnumeric.py\u001b[0m in \u001b[0;36margsort\u001b[0;34m(a, axis, kind, order)\u001b[0m\n\u001b[1;32m   1105\u001b[0m \u001b[0;34m\u001b[0m\u001b[0m\n\u001b[1;32m   1106\u001b[0m     \"\"\"\n\u001b[0;32m-> 1107\u001b[0;31m     \u001b[0;32mreturn\u001b[0m \u001b[0m_wrapfunc\u001b[0m\u001b[0;34m(\u001b[0m\u001b[0ma\u001b[0m\u001b[0;34m,\u001b[0m \u001b[0;34m'argsort'\u001b[0m\u001b[0;34m,\u001b[0m \u001b[0maxis\u001b[0m\u001b[0;34m=\u001b[0m\u001b[0maxis\u001b[0m\u001b[0;34m,\u001b[0m \u001b[0mkind\u001b[0m\u001b[0;34m=\u001b[0m\u001b[0mkind\u001b[0m\u001b[0;34m,\u001b[0m \u001b[0morder\u001b[0m\u001b[0;34m=\u001b[0m\u001b[0morder\u001b[0m\u001b[0;34m)\u001b[0m\u001b[0;34m\u001b[0m\u001b[0;34m\u001b[0m\u001b[0m\n\u001b[0m\u001b[1;32m   1108\u001b[0m \u001b[0;34m\u001b[0m\u001b[0m\n\u001b[1;32m   1109\u001b[0m \u001b[0;34m\u001b[0m\u001b[0m\n",
      "\u001b[0;32m~/.conda/envs/dark_nus/lib/python3.8/site-packages/numpy/core/fromnumeric.py\u001b[0m in \u001b[0;36m_wrapfunc\u001b[0;34m(obj, method, *args, **kwds)\u001b[0m\n\u001b[1;32m     56\u001b[0m \u001b[0;34m\u001b[0m\u001b[0m\n\u001b[1;32m     57\u001b[0m     \u001b[0;32mtry\u001b[0m\u001b[0;34m:\u001b[0m\u001b[0;34m\u001b[0m\u001b[0;34m\u001b[0m\u001b[0m\n\u001b[0;32m---> 58\u001b[0;31m         \u001b[0;32mreturn\u001b[0m \u001b[0mbound\u001b[0m\u001b[0;34m(\u001b[0m\u001b[0;34m*\u001b[0m\u001b[0margs\u001b[0m\u001b[0;34m,\u001b[0m \u001b[0;34m**\u001b[0m\u001b[0mkwds\u001b[0m\u001b[0;34m)\u001b[0m\u001b[0;34m\u001b[0m\u001b[0;34m\u001b[0m\u001b[0m\n\u001b[0m\u001b[1;32m     59\u001b[0m     \u001b[0;32mexcept\u001b[0m \u001b[0mTypeError\u001b[0m\u001b[0;34m:\u001b[0m\u001b[0;34m\u001b[0m\u001b[0;34m\u001b[0m\u001b[0m\n\u001b[1;32m     60\u001b[0m         \u001b[0;31m# A TypeError occurs if the object does have such a method in its\u001b[0m\u001b[0;34m\u001b[0m\u001b[0;34m\u001b[0m\u001b[0;34m\u001b[0m\u001b[0m\n",
      "\u001b[0;31mKeyboardInterrupt\u001b[0m: "
     ]
    }
   ],
   "source": [
    "analysis_names = [\n",
    "                    'tpc_light',\n",
    "                    'tpc_light_projection1',\n",
    "                    'tpc_light_projection2',\n",
    "                    'nueccqe_fgd',\n",
    "                    'single_photon_fgd',\n",
    "                    'nueccqe_fgd_projection1',\n",
    "                    'single_photon_fgd_projection1',\n",
    "                    'nueccqe_fgd_projection2',\n",
    "                    'single_photon_fgd_projection2',\n",
    "                  ]\n",
    "likes = {}\n",
    "mus = {}\n",
    "sigmas2s = {}\n",
    "for analysis_name in analysis_names:\n",
    "    likes[analysis_name] = 0\n",
    "    mus[analysis_name] = 0\n",
    "    sigmas2s[analysis_name] = 0\n",
    "    for nu_mode in analyses[analysis_name].keys():\n",
    "        print(analysis_name, nu_mode)\n",
    "        out = compute_likelihood_from_retrieved(retrieved[nu_mode], \n",
    "                                          my_exp_analyses[f'{hierarchy}_{D_or_M}_{nu_mode}'], \n",
    "                                          analyses[analysis_name][nu_mode], \n",
    "                                          like_normalized=True)\n",
    "        likes[analysis_name] += out[0]\n",
    "        mus[analysis_name] += out[1]\n",
    "        sigmas2s[analysis_name] += out[2]\n",
    "        del out\n",
    "        gc.collect()\n",
    "    likes[analysis_name] -= likes[analysis_name].min()"
   ]
  },
  {
   "cell_type": "code",
   "execution_count": null,
   "id": "f47c7e6d-eb53-4333-a1e2-bf401502c35d",
   "metadata": {},
   "outputs": [],
   "source": [
    "likes['tpc_light_projection1_2'] = likes['tpc_light_projection1'] + likes['tpc_light_projection1']\n",
    "likes['tpc_light_projection1_2'] -= likes['tpc_light_projection1_2'].min()\n",
    "likes['nueccqe_fgd_projection1_2'] = likes['nueccqe_fgd_projection1'] + likes['nueccqe_fgd_projection1']\n",
    "likes['nueccqe_fgd_projection1_2'] -= likes['nueccqe_fgd_projection1_2'].min()\n",
    "likes['single_photon_fgd_projection1_2'] = likes['single_photon_fgd_projection1'] + likes['single_photon_fgd_projection1']\n",
    "likes['single_photon_fgd_projection1_2'] -= likes['single_photon_fgd_projection1_2'].min()\n",
    "\n",
    "likes['final_projection1_2'] = likes['tpc_light_projection1_2'] + likes['single_photon_fgd_projection1_2']\n",
    "likes['final_projection1_2'] -= likes['final_projection1_2'].min()"
   ]
  },
  {
   "cell_type": "code",
   "execution_count": null,
   "id": "105fd533-654e-4c33-9305-60721278cb6c",
   "metadata": {
    "tags": []
   },
   "outputs": [],
   "source": [
    "colors = ['deepskyblue', 'blue', 'navy']\n",
    "contours = {}\n",
    "for i, analysis_name in enumerate(['tpc_light', 'nueccqe_fgd', 'single_photon_fgd']):\n",
    "    contours[analysis_name] = plt.contour(retrieved['FHC']['pars']['m4'], \n",
    "                                            retrieved['FHC']['pars']['Umu4_2'], \n",
    "                                            likes[analysis_name].T, \n",
    "                                  levels=[likelihood_levels_2d[0.9]], colors=[colors[i]])\n",
    "plt.loglog()\n",
    "plt.legend([cntr.legend_elements()[0][0] for cntr in contours.values()], \n",
    "           contours.keys(),\n",
    "           frameon=False,\n",
    "           loc='lower right')\n",
    "plt.xlabel(r'$m_{N}$ [GeV]')\n",
    "plt.ylabel(r'$|U_{\\mu N}|^2$')"
   ]
  },
  {
   "cell_type": "code",
   "execution_count": null,
   "id": "ea1683a0-d5f8-416a-8151-b9d036fbfc2f",
   "metadata": {},
   "outputs": [],
   "source": [
    "colors = ['deepskyblue', 'blue', 'navy']\n",
    "contours = {}\n",
    "for i, analysis_name in enumerate(['tpc_light_projection1_2', 'nueccqe_fgd_projection1_2', 'single_photon_fgd_projection1_2',]):\n",
    "    contours[analysis_name] = plt.contour(retrieved['FHC']['pars']['m4'], \n",
    "                                            retrieved['FHC']['pars']['Umu4_2'], \n",
    "                                            likes[analysis_name].T, \n",
    "                                  levels=[likelihood_levels_2d[0.9]], colors=[colors[i]])\n",
    "plt.loglog()\n",
    "plt.legend([cntr.legend_elements()[0][0] for cntr in contours.values()], \n",
    "           contours.keys(),\n",
    "           frameon=False,\n",
    "           loc='lower right')\n",
    "plt.xlabel(r'$m_{N}$ [GeV]')\n",
    "plt.ylabel(r'$|U_{\\mu N}|^2$')"
   ]
  },
  {
   "cell_type": "code",
   "execution_count": null,
   "id": "802ab143-a3a9-4671-b15c-5561de49193c",
   "metadata": {},
   "outputs": [],
   "source": [
    "colors = ['deepskyblue', 'blue', 'navy', 'black']\n",
    "contours = {}\n",
    "for i, analysis_name in enumerate(['tpc', 'tpc_projection1', 'tpc_projection2', 'tpc_projection1_2']):\n",
    "    contours[analysis_name] = plt.contour(retrieved['FHC']['pars']['m4'],\n",
    "                                            retrieved['FHC']['pars']['Umu4_2'],\n",
    "                                            likes[analysis_name].T, \n",
    "                                  levels=[likelihood_levels_2d[0.9], np.inf], colors=[colors[i]])\n",
    "plt.loglog()\n",
    "plt.legend([cntr.legend_elements()[0][0] for cntr in contours.values()], \n",
    "           contours.keys(),\n",
    "           frameon=False,\n",
    "           loc='upper center')\n",
    "plt.set_xlabel(r'$m_{N}$ [GeV]')\n",
    "plt.set_ylabel(r'$|U_{\\mu N}|^2$')"
   ]
  },
  {
   "cell_type": "code",
   "execution_count": null,
   "id": "c0cb6f1c-c33c-4d20-a553-c838a8da6eac",
   "metadata": {},
   "outputs": [],
   "source": [
    "set_plot_style()"
   ]
  },
  {
   "cell_type": "code",
   "execution_count": null,
   "id": "fa3bbb3c-d53c-4520-a074-e0ca679bde1d",
   "metadata": {},
   "outputs": [],
   "source": [
    "from likelihood_contours_plot import m4_Umu4_2_heavy_plot"
   ]
  },
  {
   "cell_type": "code",
   "execution_count": null,
   "id": "7b9843ec-0e86-484e-ad77-cbcd6c068fbb",
   "metadata": {},
   "outputs": [],
   "source": [
    "ax = set_canvas('m4_Umu4_2')\n",
    "m4_Umu4_2_light_plot(ax)\n",
    "# ax.set_ylim(1e-10, 1)\n",
    "ax.legend()\n",
    "# colors = ['orange', 'tomato']\n",
    "# linestyles = ['-', '--']\n",
    "# contours = {}\n",
    "# for i, analysis_name in enumerate(['tpc', 'tpc_projection1_2']):\n",
    "#     contours[analysis_name] = plt.contour(retrieved['FHC']['pars']['m4'], \n",
    "#                                             retrieved['FHC']['pars']['Umu4_2'], \n",
    "#                                             likes[analysis_name].T, \n",
    "#                                   levels=[likelihood_levels_2d[0.9], np.inf], \n",
    "#                                           colors=[colors[i]], linestyles=[linestyles[i]])\n",
    "#     plt.contourf(retrieved['FHC']['pars']['m4'], \n",
    "#                                             retrieved['FHC']['pars']['Umu4_2'], \n",
    "#                                             likes[analysis_name].T, \n",
    "#                                   levels=[likelihood_levels_2d[0.9], np.inf], \n",
    "#                                           colors=[colors[i]], alpha=0.05)\n",
    "# plt.legend([cntr.legend_elements()[0][0] for cntr in contours.values()], \n",
    "#            contours.keys(),\n",
    "#            frameon=False,\n",
    "#            loc='lower left')\n",
    "# plt.savefig(save_folder + this_case + '.pdf', bbox_inches='tight')"
   ]
  },
  {
   "cell_type": "code",
   "execution_count": null,
   "id": "a12e55c9-7c18-4cd9-8149-b0f4e3ce19db",
   "metadata": {},
   "outputs": [],
   "source": []
  }
 ],
 "metadata": {
  "kernelspec": {
   "display_name": "Python [conda env:.conda-dark_nus]",
   "language": "python",
   "name": "conda-env-.conda-dark_nus-py"
  },
  "language_info": {
   "codemirror_mode": {
    "name": "ipython",
    "version": 3
   },
   "file_extension": ".py",
   "mimetype": "text/x-python",
   "name": "python",
   "nbconvert_exporter": "python",
   "pygments_lexer": "ipython3",
   "version": "3.8.8"
  }
 },
 "nbformat": 4,
 "nbformat_minor": 5
}
