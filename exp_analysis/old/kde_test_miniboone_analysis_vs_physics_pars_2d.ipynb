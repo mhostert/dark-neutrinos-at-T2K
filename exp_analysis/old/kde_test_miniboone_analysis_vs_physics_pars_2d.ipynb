{
 "cells": [
  {
   "cell_type": "code",
   "execution_count": 1,
   "metadata": {},
   "outputs": [],
   "source": [
    "%load_ext autoreload\n",
    "%autoreload 2"
   ]
  },
  {
   "cell_type": "code",
   "execution_count": 2,
   "metadata": {},
   "outputs": [],
   "source": [
    "import os\n",
    "import matplotlib.pyplot as plt\n",
    "import numpy as np\n",
    "import pandas as pd\n",
    "import itertools\n",
    "from parameters_dict import physics_parameters\n",
    "from exp_analysis_class import exp_analysis\n",
    "from exp_analysis import gamma_heavy, gamma_heavy_integrated"
   ]
  },
  {
   "cell_type": "code",
   "execution_count": 3,
   "metadata": {},
   "outputs": [
    {
     "data": {
      "text/plain": [
       "{'m4_limits': (0.005, 1),\n",
       " 'mz_limits': (0.005, 10),\n",
       " 'm4_scan': [0.01, 0.1, 0.5],\n",
       " 'mz_scan': [0.01, 0.1, 1, 5],\n",
       " 'alpha_dark': 0.4,\n",
       " 'Umu4': 2.2e-07,\n",
       " 'epsilon2': 0.00046,\n",
       " 'alpha_em': 0.0072992700729927005,\n",
       " 'span_2d': 9.945025,\n",
       " 'Vmu4_alpha_epsilon2': 2.9547445255474454e-13}"
      ]
     },
     "execution_count": 3,
     "metadata": {},
     "output_type": "execute_result"
    }
   ],
   "source": [
    "physics_parameters['heavy']"
   ]
  },
  {
   "cell_type": "code",
   "execution_count": 8,
   "metadata": {},
   "outputs": [
    {
     "name": "stdout",
     "output_type": "stream",
     "text": [
      "/bin/bash: port_used: line 1: syntax error: unexpected end of file\n",
      "/bin/bash: error importing function definition for `BASH_FUNC_port_used'\n",
      "/bin/bash: wait_until_port_used: line 1: syntax error: unexpected end of file\n",
      "/bin/bash: error importing function definition for `BASH_FUNC_wait_until_port_used'\n",
      "/bin/bash: module: line 1: syntax error: unexpected end of file\n",
      "/bin/bash: error importing function definition for `BASH_FUNC_module'\n",
      "/bin/bash: find_port: line 1: syntax error: unexpected end of file\n",
      "/bin/bash: error importing function definition for `BASH_FUNC_find_port'\n",
      "/bin/bash: random_number: line 1: syntax error: unexpected end of file\n",
      "/bin/bash: error importing function definition for `BASH_FUNC_random_number'\n",
      "/bin/bash: helmod: line 1: syntax error: unexpected end of file\n",
      "/bin/bash: error importing function definition for `BASH_FUNC_helmod'\n",
      "/bin/bash: source_helpers: line 1: syntax error: unexpected end of file\n",
      "/bin/bash: error importing function definition for `BASH_FUNC_source_helpers'\n",
      "/bin/bash: ml: line 1: syntax error: unexpected end of file\n",
      "/bin/bash: error importing function definition for `BASH_FUNC_ml'\n",
      "/bin/bash: create_passwd: line 1: syntax error: unexpected end of file\n",
      "/bin/bash: error importing function definition for `BASH_FUNC_create_passwd'\n"
     ]
    }
   ],
   "source": [
    "case = 'heavy'\n",
    "produce_samples = False\n",
    "save_folder = ('../fig/control_checks_miniboone/comparison_with_truth/' + case + '/')\n",
    "!mkdir -p $save_folder\n",
    "my_exp_analysis = exp_analysis(case, '../data/miniboone/3plus1/')"
   ]
  },
  {
   "cell_type": "code",
   "execution_count": 12,
   "metadata": {},
   "outputs": [
    {
     "name": "stdout",
     "output_type": "stream",
     "text": [
      "material = hydrogen, 0\n",
      "material = oxygen, 0\n",
      "material = carbon, 622839\n",
      "material = copper, 0\n",
      "material = zinc, 0\n",
      "material = lead, 0\n"
     ]
    }
   ],
   "source": [
    "my_exp_analysis.load_df_base(1000000)"
   ]
  },
  {
   "cell_type": "code",
   "execution_count": 6,
   "metadata": {},
   "outputs": [
    {
     "name": "stdout",
     "output_type": "stream",
     "text": [
      "0.01 0.01\n",
      "ERROR! Mass spectrum not allowed.\n",
      "\n",
      "0.01 0.1\n",
      "Model used 3+1\n",
      "5136.0231493447045\n",
      "\n",
      "0.01 1\n",
      "Model used 3+1\n",
      "1.547688711254031\n",
      "\n",
      "0.01 5\n",
      "Model used 3+1\n",
      "0.002861616278283635\n",
      "\n",
      "0.1 0.01\n",
      "Model used 3+1\n",
      "183.97353935763758\n",
      "\n",
      "0.1 0.1\n",
      "ERROR! Mass spectrum not allowed.\n",
      "\n",
      "0.1 1\n",
      "Model used 3+1\n",
      "1.5156857505634314\n",
      "\n",
      "0.1 5\n",
      "Model used 3+1\n",
      "0.002392408739098699\n",
      "\n",
      "0.5 0.01\n",
      "Model used 3+1\n",
      "0.2011866070099302\n",
      "\n",
      "0.5 0.1\n",
      "Model used 3+1\n",
      "8.224166824655897e-06\n",
      "\n",
      "0.5 1\n",
      "Model used 3+1\n",
      "0.3249854339818965\n",
      "\n",
      "0.5 5\n",
      "Model used 3+1\n",
      "0.0006285804546674528\n",
      "\n"
     ]
    }
   ],
   "source": [
    "#generation part\n",
    "if produce_samples:\n",
    "    for m4, mz_prime in itertools.product(physics_parameters[case]['m4_scan'], physics_parameters[case]['mz_scan']):\n",
    "        print(m4, mz_prime)\n",
    "        dark_gen_run = f'cd ..; python dark_gen.py --M4 {m4} --mzprime {mz_prime} '\\\n",
    "                       f'--UMU4 {physics_parameters[case][\"Umu4\"]} '\\\n",
    "                       f'--alpha_dark {physics_parameters[case][\"alpha_dark\"]} '\\\n",
    "                       f'--epsilon2 {physics_parameters[case][\"epsilon2\"]} '\\\n",
    "                       f'--neval 100000 --noplot --hierarchy {case}_mediator '\\\n",
    "                       f'--exp miniboone'\n",
    "        stream = os.popen(dark_gen_run)\n",
    "        print(stream.read())"
   ]
  },
  {
   "cell_type": "code",
   "execution_count": 13,
   "metadata": {},
   "outputs": [
    {
     "name": "stdout",
     "output_type": "stream",
     "text": [
      "material = hydrogen, 0\n",
      "material = oxygen, 0\n",
      "material = carbon, 60861\n",
      "material = copper, 0\n",
      "material = zinc, 0\n",
      "material = lead, 0\n",
      "material = hydrogen, 0\n",
      "material = oxygen, 0\n",
      "material = carbon, 60837\n",
      "material = copper, 0\n",
      "material = zinc, 0\n",
      "material = lead, 0\n",
      "material = hydrogen, 0\n",
      "material = oxygen, 0\n",
      "material = carbon, 60742\n",
      "material = copper, 0\n",
      "material = zinc, 0\n",
      "material = lead, 0\n",
      "material = hydrogen, 0\n",
      "material = oxygen, 0\n",
      "material = carbon, 60919\n",
      "material = copper, 0\n",
      "material = zinc, 0\n",
      "material = lead, 0\n",
      "material = hydrogen, 0\n",
      "material = oxygen, 0\n",
      "material = carbon, 61038\n",
      "material = copper, 0\n",
      "material = zinc, 0\n",
      "material = lead, 0\n",
      "material = hydrogen, 0\n",
      "material = oxygen, 0\n",
      "material = carbon, 60080\n",
      "material = copper, 0\n",
      "material = zinc, 0\n",
      "material = lead, 0\n",
      "material = hydrogen, 0\n",
      "material = oxygen, 0\n",
      "material = carbon, 61193\n",
      "material = copper, 0\n",
      "material = zinc, 0\n",
      "material = lead, 0\n"
     ]
    }
   ],
   "source": [
    "material = 'carbon'\n",
    "\n",
    "aux_gamma = []\n",
    "aux_sigma = []\n",
    "aux_n_evt = []\n",
    "for m4 in physics_parameters[case]['m4_scan']:\n",
    "    aux_gamma.append([])\n",
    "    aux_sigma.append([])\n",
    "    aux_n_evt.append([])\n",
    "    for mz in physics_parameters[case]['mz_scan']:\n",
    "        if ((case == 'heavy') and (m4 >= mz)) or ((case == 'light') and (m4 <= mz)):\n",
    "                aux_gamma[-1].append(0)\n",
    "                aux_sigma[-1].append(0)\n",
    "                aux_n_evt[-1].append(0)\n",
    "                continue\n",
    "        else:\n",
    "            df = my_exp_analysis.load_df(m4, mz)\n",
    "            aux_gamma[-1].append(df['weight_decay', ''][df[material, '']].sum())\n",
    "            aux_sigma[-1].append(df['adjusted_weight', ''][df[material, '']].sum())\n",
    "            aux_n_evt[-1].append(df['actual_weight', ''].sum())\n",
    "\n",
    "aux_gamma = np.array(aux_gamma)\n",
    "aux_sigma = np.array(aux_sigma)\n",
    "aux_n_evt = np.array(aux_n_evt)"
   ]
  },
  {
   "cell_type": "code",
   "execution_count": 14,
   "metadata": {},
   "outputs": [
    {
     "name": "stdout",
     "output_type": "stream",
     "text": [
      "m4 = 0.01\n",
      "m4 = 0.1\n",
      "m4 = 0.5\n"
     ]
    }
   ],
   "source": [
    "# produce the gamma profile\n",
    "mask = my_exp_analysis.df_base[material, '']\n",
    "m4_values = my_exp_analysis.df_base['m4', ''][mask].values\n",
    "mz_values = my_exp_analysis.df_base['mzprime', ''][mask].values\n",
    "weight_decay_values = my_exp_analysis.df_base['weight_decay', ''][mask].values\n",
    "\n",
    "m4_span = physics_parameters[case]['m4_scan']\n",
    "mz_span = np.linspace(*physics_parameters[case]['mz_limits'], 18)\n",
    "grid_to_eval = np.stack(np.meshgrid(m4_span, mz_span, indexing='ij'), axis=-1)\n",
    "df_values = np.stack([m4_values, mz_values], axis=-1)\n",
    "\n",
    "bin_width_m4 = 0.01\n",
    "bins = 50\n",
    "bin_range = [0.05, 10]\n",
    "bin_size = (bin_range[1] - bin_range[0])/bins * bin_width_m4\n",
    "\n",
    "smoothing_pars = [0.005, 0.05]\n",
    "this_kde_weights = exp_analysis.kde_Nd_weights(grid_to_eval, df_values, smoothing=smoothing_pars, kernel='epa')\n",
    "final_weights = this_kde_weights * weight_decay_values[:, np.newaxis, np.newaxis]\n",
    "gamma_grid = np.sum(final_weights, axis=0)\n",
    "gamma_std_grid = np.sqrt(np.sum(final_weights**2, axis=0))\n",
    "\n",
    "for i, m4 in enumerate(physics_parameters[case]['m4_scan']):\n",
    "    print(f\"m4 = {m4}\")\n",
    "    plt.plot(physics_parameters[case]['mz_scan'], aux_gamma[i], 'o', label='Generated without scanning')\n",
    "    gamma_formula = []\n",
    "    for mz in physics_parameters[case]['mz_scan']:\n",
    "        gamma_formula.append(gamma_heavy(m4, mz, physics_parameters[case]['Vmu4_alpha_epsilon2']))\n",
    "    plt.plot(physics_parameters[case]['mz_scan'], gamma_formula, 'o', label='Computed')\n",
    "    gamma_est = gamma_grid[i]\n",
    "    gamma_std = gamma_std_grid[i]\n",
    "    plt.plot(mz_span, gamma_est, label=f'kde 2d, $k_{{m_4}}$={smoothing_pars[0]:.2g}, $k_{{m_Z}}$={smoothing_pars[1]:.2g}')\n",
    "    plt.fill_between(mz_span, gamma_est-gamma_std, gamma_est+gamma_std, alpha=0.25, color=plt.gca().lines[-1].get_color(), interpolate=True)\n",
    "\n",
    "    this_mask = (m4_values > (m4-bin_width_m4/2)) & (m4_values < (m4+bin_width_m4/2))\n",
    "    \n",
    "    out = plt.hist(mz_values[this_mask], bins=bins, range=bin_range,\n",
    "                weights=weight_decay_values[this_mask]/bin_size,\n",
    "                histtype='step', label='histogram')\n",
    "\n",
    "    plt.legend(frameon=False, loc='upper right')\n",
    "    plt.xlim(mz_values[this_mask].min(), mz_values[this_mask].max())\n",
    "    plt.xlabel(r\"$M_Z'$ [GeV]\")\n",
    "    plt.ylabel('Decay rate [GeV]')\n",
    "    plt.yscale('log')\n",
    "#     plt.xscale('log')\n",
    "#     plt.ylim(0, 1e-12)\n",
    "    # plt.xlim(bin_range)\n",
    "    plt.title(f'N random = {my_exp_analysis.n_evt}\\n{case} mediator, $m_4$ = {m4} GeV, only {material}')\n",
    "    plt.tight_layout()\n",
    "#     break\n",
    "    plt.savefig(save_folder+f'gamma_{material}_nevt_{my_exp_analysis.n_evt}_m4_{m4}.png', dpi=250)\n",
    "    plt.close()"
   ]
  },
  {
   "cell_type": "code",
   "execution_count": 15,
   "metadata": {},
   "outputs": [],
   "source": [
    "gamma_formula = []\n",
    "gamma_kde = []\n",
    "m4 = []\n",
    "mz = []\n",
    "\n",
    "smoothing_pars = [0.005, 0.05]\n",
    "\n",
    "for i, m4 in enumerate(physics_parameters[case]['m4_scan']):\n",
    "    gamma_formula.append([])\n",
    "    gamma_kde.append([])\n",
    "    for j, mz in enumerate(physics_parameters[case]['mz_scan']):\n",
    "        if ((case == 'heavy') and (m4 >= mz)) or ((case == 'light') and (m4 <= mz)):\n",
    "                gamma_formula[-1].append(0)\n",
    "                gamma_kde[-1].append(0)\n",
    "                continue\n",
    "        gamma_formula[-1].append(gamma_heavy(m4, mz, physics_parameters[case]['Vmu4_alpha_epsilon2']))\n",
    "        aux_kde = exp_analysis.kde_Nd_weights(np.array([m4, mz]), df_values, smoothing=smoothing_pars, kernel='epa')\n",
    "        gamma_kde[-1].append((aux_kde*weight_decay_values).sum())\n",
    "\n",
    "gamma_formula = np.array(gamma_formula)\n",
    "gamma_kde = np.array(gamma_kde)"
   ]
  },
  {
   "cell_type": "code",
   "execution_count": 16,
   "metadata": {},
   "outputs": [
    {
     "name": "stderr",
     "output_type": "stream",
     "text": [
      "<ipython-input-16-689466eb2dec>:12: RuntimeWarning: invalid value encountered in true_divide\n",
      "  ratio_gamma_formula = gamma_formula/aux_gamma\n",
      "<ipython-input-16-689466eb2dec>:31: RuntimeWarning: invalid value encountered in true_divide\n",
      "  ratio_gamma_kde = gamma_kde/aux_gamma\n",
      "<ipython-input-16-689466eb2dec>:51: RuntimeWarning: invalid value encountered in true_divide\n",
      "  ratio_kde_formula = gamma_kde/gamma_formula\n"
     ]
    },
    {
     "data": {
      "image/png": "[encoded data removed]",
      "text/plain": [
       "<Figure size 1296x504 with 5 Axes>"
      ]
     },
     "metadata": {
      "needs_background": "light"
     },
     "output_type": "display_data"
    }
   ],
   "source": [
    "from matplotlib import colors\n",
    "\n",
    "xlabel = r'$m_4$ [GeV]'\n",
    "ylabel = r'$m_Z$ [GeV]'\n",
    "\n",
    "xcenters = physics_parameters[case]['m4_scan']\n",
    "ycenters = physics_parameters[case]['mz_scan']\n",
    "fig = plt.figure(figsize=(18, 7))\n",
    "fig.suptitle('Ratio between estimate and generated without scanning')\n",
    "\n",
    "plt.subplot(131)\n",
    "ratio_gamma_formula = gamma_formula/aux_gamma\n",
    "divnorm = colors.TwoSlopeNorm(vcenter=1, vmin=0.9, vmax=2)\n",
    "plt.pcolormesh(ratio_gamma_formula.T, cmap='BrBG', norm=divnorm)\n",
    "plt.xticks(ticks=np.arange(0.5, len(xcenters)),\n",
    "           labels=xcenters)\n",
    "plt.yticks(ticks=np.arange(0.5, len(ycenters)),\n",
    "           labels=ycenters)\n",
    "for i in range(len(xcenters)):\n",
    "    for j in range(len(ycenters)):\n",
    "        this_value = ratio_gamma_formula[i,j]\n",
    "        if np.isnan(this_value):\n",
    "            continue\n",
    "        text = plt.text(i + 0.5, j + 0.5, f\"{ratio_gamma_formula[i,j]:.3g}\",\n",
    "                        ha=\"center\", va=\"center\", color=\"k\")\n",
    "plt.xlabel(xlabel)\n",
    "plt.ylabel(ylabel)\n",
    "plt.title('Formula/Generated')\n",
    "\n",
    "plt.subplot(132)\n",
    "ratio_gamma_kde = gamma_kde/aux_gamma\n",
    "plt.pcolormesh(ratio_gamma_kde.T, cmap='BrBG', norm=divnorm)\n",
    "plt.xticks(ticks=np.arange(0.5,len(xcenters)),\n",
    "           labels=xcenters)\n",
    "plt.yticks(ticks=np.arange(0.5,len(ycenters)),\n",
    "           labels=ycenters)\n",
    "for i in range(len(xcenters)):\n",
    "    for j in range(len(ycenters)):\n",
    "        this_value = ratio_gamma_formula[i,j]\n",
    "        if np.isnan(this_value):\n",
    "            continue\n",
    "        text = plt.text(i + 0.5, j + 0.5, f\"{ratio_gamma_kde[i,j]:.3g}\",\n",
    "                        ha=\"center\", va=\"center\", color=\"k\")\n",
    "plt.colorbar()\n",
    "plt.xlabel(xlabel)\n",
    "plt.ylabel(ylabel)\n",
    "plt.title('KDE/Generated')\n",
    "\n",
    "\n",
    "plt.subplot(133)\n",
    "ratio_kde_formula = gamma_kde/gamma_formula\n",
    "plt.pcolormesh(ratio_gamma_kde.T, cmap='BrBG', norm=divnorm)\n",
    "plt.xticks(ticks=np.arange(0.5,len(xcenters)),\n",
    "           labels=xcenters)\n",
    "plt.yticks(ticks=np.arange(0.5,len(ycenters)),\n",
    "           labels=ycenters)\n",
    "for i in range(len(xcenters)):\n",
    "    for j in range(len(ycenters)):\n",
    "        this_value = ratio_kde_formula[i,j]\n",
    "        if np.isnan(this_value):\n",
    "            continue\n",
    "        text = plt.text(i + 0.5, j + 0.5, f\"{ratio_kde_formula[i,j]:.3g}\",\n",
    "                        ha=\"center\", va=\"center\", color=\"k\")\n",
    "plt.colorbar()\n",
    "plt.xlabel(xlabel)\n",
    "plt.ylabel(ylabel)\n",
    "plt.title('KDE/formula')\n",
    "\n",
    "\n",
    "plt.savefig(save_folder + 'ratio_between_estimates_of_gamma.png', dpi=250)"
   ]
  },
  {
   "cell_type": "code",
   "execution_count": 17,
   "metadata": {},
   "outputs": [
    {
     "name": "stdout",
     "output_type": "stream",
     "text": [
      "m4 = 0.01\n",
      "m4 = 0.1\n",
      "m4 = 0.5\n"
     ]
    }
   ],
   "source": [
    "# produce the sigma profile\n",
    "smoothing_pars = [0.01, 0.1]\n",
    "this_kde_weights = exp_analysis.kde_Nd_weights(grid_to_eval, df_values, smoothing=smoothing_pars, kernel='epa')\n",
    "adjusted_weight = my_exp_analysis.df_base['adjusted_weight', ''][mask].values\n",
    "final_weights = this_kde_weights * adjusted_weight[:, np.newaxis, np.newaxis]\n",
    "sigma_grid = np.sum(final_weights, axis=0)\n",
    "sigma_std_grid = np.sqrt(np.sum(final_weights**2, axis=0))\n",
    "\n",
    "bin_width_m4 = 0.01\n",
    "bins = 20\n",
    "bin_range = [0.05, 10]\n",
    "bin_size = (bin_range[1] - bin_range[0])/bins * bin_width_m4\n",
    "\n",
    "for i, m4 in enumerate(physics_parameters[case]['m4_scan']):\n",
    "    print(f\"m4 = {m4}\")\n",
    "    plt.plot(physics_parameters[case]['mz_scan'], aux_sigma[i], 'o', label='Generated without scanning')\n",
    "    sigma_est = sigma_grid[i]\n",
    "    sigma_std = sigma_std_grid[i]\n",
    "    plt.plot(mz_span, sigma_est, label=f'kde 2d, $k_{{m_4}}$={smoothing_pars[0]:.2g}, $k_{{m_Z}}$={smoothing_pars[1]:.2g}')\n",
    "    plt.fill_between(mz_span, sigma_est-sigma_std, sigma_est+sigma_std, alpha=0.25, color=plt.gca().lines[-1].get_color(), interpolate=True)\n",
    "\n",
    "    this_mask = (m4_values > (m4-bin_width_m4/2)) & (m4_values < (m4+bin_width_m4/2))\n",
    "\n",
    "    out = plt.hist(mz_values[this_mask], bins=bins, range=bin_range,\n",
    "                weights=adjusted_weight[this_mask]/bin_size,\n",
    "                histtype='step', label='histogram')\n",
    "\n",
    "    plt.legend(frameon=False, loc='upper right')\n",
    "    plt.xlabel(r\"$M_Z'$ [GeV]\")\n",
    "    plt.ylabel('Cross section [GeV$^{-2}$]')\n",
    "    plt.yscale('log')\n",
    "#     plt.ylim(0, 1.2*max(sigma_est))\n",
    "#     plt.xlim(bin_range)\n",
    "    plt.title(f'N random = {my_exp_analysis.n_evt}\\n{case} mediator, $m_4$ = {m4} GeV, only {material}')\n",
    "    plt.tight_layout()\n",
    "    plt.savefig(save_folder+f'sigma_{material}_nevt_{my_exp_analysis.n_evt}_m4_{m4}.png', dpi=250)\n",
    "    plt.close()"
   ]
  },
  {
   "cell_type": "code",
   "execution_count": 19,
   "metadata": {},
   "outputs": [],
   "source": [
    "# produce the n_evt profile at different stages in the selection\n",
    "actual_weight = my_exp_analysis.df_base['actual_weight', ''][mask].values\n",
    "final_weights = this_kde_weights * actual_weight[:, np.newaxis, np.newaxis]\n",
    "n_event_grid = np.sum(final_weights, axis=0)\n",
    "n_event_std_grid = np.sqrt(np.sum(final_weights**2, axis=0))\n",
    "\n",
    "bin_range = [mz_values[this_mask].min(), mz_values[this_mask].max()]\n",
    "bin_span = (bin_range[1] - bin_range[0])\n",
    "bin_span_m4 = (m4_values.max() - m4_values.min())\n",
    "bin_width = bin_span/bins\n",
    "\n",
    "ctau = 25\n",
    "# for mask in ['trivial', 'selected', f'decay_in_tpc_{ctau}', f'total_selected_{ctau}']:\n",
    "for i, m4 in enumerate(physics_parameters[case]['m4_scan']):\n",
    "    plt.plot(physics_parameters[case]['mz_scan'], aux_n_evt[i], 'o', label='Generated without scanning')\n",
    "    n_event_est = n_event_grid[i]\n",
    "    n_event_std = n_event_std_grid[i]\n",
    "    plt.plot(mz_span, n_event_est, label=f'kde 2d, $k_{{m_4}}$={smoothing_pars[0]:.2g}, $k_{{m_Z}}$={smoothing_pars[1]:.2g}')\n",
    "    plt.fill_between(mz_span, n_event_est-n_event_std, n_event_est+n_event_std, alpha=0.25, color=plt.gca().lines[-1].get_color(), interpolate=True)\n",
    "\n",
    "    this_mask = (m4_values > (m4-bin_width_m4/2)) & (m4_values < (m4+bin_width_m4/2))        \n",
    "\n",
    "    out = plt.hist(mz_values[this_mask], bins=bins, range=bin_range,\n",
    "                weights=actual_weight[this_mask]/bin_size,\n",
    "                histtype='step', label='histogram')\n",
    "\n",
    "    plt.legend(frameon=False, loc='upper right')\n",
    "    plt.xlabel(r\"$M_Z'$ [GeV]\")\n",
    "    plt.ylabel('Expected number of entries')\n",
    "    plt.yscale('log')\n",
    "    # plt.ylim(0, 1e-7)\n",
    "    # plt.xlim(bin_range)\n",
    "    plt.title(f'N random = {my_exp_analysis.n_evt}\\n{case} mediator, $m_4$ = {m4} GeV, only {material}')\n",
    "    plt.tight_layout()\n",
    "    plt.savefig(save_folder+f'nevt_{my_exp_analysis.n_evt}_m4_{m4}.png', dpi=250)\n",
    "    plt.close()"
   ]
  },
  {
   "cell_type": "code",
   "execution_count": null,
   "metadata": {},
   "outputs": [],
   "source": []
  }
 ],
 "metadata": {
  "kernelspec": {
   "display_name": "Python [conda env:dark_nus]",
   "language": "python",
   "name": "conda-env-dark_nus-py"
  },
  "language_info": {
   "codemirror_mode": {
    "name": "ipython",
    "version": 3
   },
   "file_extension": ".py",
   "mimetype": "text/x-python",
   "name": "python",
   "nbconvert_exporter": "python",
   "pygments_lexer": "ipython3",
   "version": "3.8.8"
  }
 },
 "nbformat": 4,
 "nbformat_minor": 4
}
