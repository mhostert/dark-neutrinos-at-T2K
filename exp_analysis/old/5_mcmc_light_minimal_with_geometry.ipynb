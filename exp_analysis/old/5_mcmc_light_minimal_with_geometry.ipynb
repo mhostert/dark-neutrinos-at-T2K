{
 "cells": [
  {
   "cell_type": "markdown",
   "metadata": {},
   "source": [
    "# Run MCMC sampling\n",
    "# Heavy minimal WITH geometry"
   ]
  },
  {
   "cell_type": "code",
   "execution_count": 1,
   "metadata": {},
   "outputs": [],
   "source": [
    "%load_ext autoreload\n",
    "%autoreload 2\n",
    "%load_ext line_profiler"
   ]
  },
  {
   "cell_type": "code",
   "execution_count": 2,
   "metadata": {},
   "outputs": [],
   "source": [
    "import numpy as np\n",
    "\n",
    "from Likelihood import LEff\n",
    "from mcmc_utils import light_minimal_mcmc\n",
    "\n",
    "from multiprocessing import Pool\n",
    "import os\n",
    "os.environ[\"OMP_NUM_THREADS\"] = \"1\""
   ]
  },
  {
   "cell_type": "code",
   "execution_count": 3,
   "metadata": {},
   "outputs": [],
   "source": [
    "hierarchy = 'light'\n",
    "D_or_M = 'majorana'\n",
    "distance = 'log'\n",
    "smoothing_pars = (0.1, 0.1)"
   ]
  },
  {
   "cell_type": "code",
   "execution_count": 4,
   "metadata": {},
   "outputs": [],
   "source": [
    "spec = 'minimal with geometry'"
   ]
  },
  {
   "cell_type": "code",
   "execution_count": 5,
   "metadata": {},
   "outputs": [
    {
     "name": "stdout",
     "output_type": "stream",
     "text": [
      "light majorana\n"
     ]
    }
   ],
   "source": [
    "this_dark_nus_mcmc = light_minimal_mcmc(hierarchy, D_or_M, title_addition=spec,\n",
    "                                   distance='log', smoothing_pars=(0.1, 0.1))\n",
    "df = this_dark_nus_mcmc.provide_df('cut_based')"
   ]
  },
  {
   "cell_type": "code",
   "execution_count": 6,
   "metadata": {},
   "outputs": [],
   "source": [
    "ndim = 4\n",
    "from ctau_utils import ctau_light\n",
    "from const import alphaQED\n",
    "def light_minimal_posterior_no_geometry(parameters):\n",
    "    '''Posterior in the light minimal model with no geometry: parameters = [m4, mz, log10_Vmu4, log10_epsilon]\n",
    "       It uses global pars to speed up parallel computation'''\n",
    "    if (parameters[0] < this_dark_nus_mcmc.exp_analysis_obj.m4_limits[0]) or\\\n",
    "       (parameters[0] > this_dark_nus_mcmc.exp_analysis_obj.m4_limits[1]) or\\\n",
    "       (parameters[1] < this_dark_nus_mcmc.exp_analysis_obj.mz_limits[0]) or\\\n",
    "       (parameters[1] > this_dark_nus_mcmc.exp_analysis_obj.mz_limits[1]) or\\\n",
    "       (parameters[0] <= parameters[1]) or\\\n",
    "       (parameters[2] <= np.log10(this_dark_nus_mcmc.exp_analysis_obj.lower_bound_Vmu4)) or\\\n",
    "       (parameters[2] > np.log10(this_dark_nus_mcmc.exp_analysis_obj.upper_bound_Vmu4)) or\\\n",
    "       (parameters[3] <= np.log10(this_dark_nus_mcmc.exp_analysis_obj.lower_bound_epsilon)) or\\\n",
    "       (parameters[3] > np.log10(this_dark_nus_mcmc.exp_analysis_obj.upper_bound_epsilon)):\n",
    "        return -np.inf, -np.inf, -np.inf, -np.inf\n",
    "    else:\n",
    "        actual_Vmu4 = 10**parameters[2]\n",
    "        actual_Vmu4_alpha_epsilon2 = actual_Vmu4 * alphaQED * 10**(2*parameters[3])\n",
    "        ctau = ctau_light(parameters[0], \n",
    "                          parameters[1], \n",
    "                          actual_Vmu4, \n",
    "                          D_or_M)\n",
    "        this_mu = actual_Vmu4_alpha_epsilon2/this_dark_nus_mcmc.exp_analysis_obj.Vmu4_alpha_epsilon2\n",
    "        mu, sigma2 = this_dark_nus_mcmc.exp_analysis_obj.kde_n_events(df=df,\n",
    "                                                         m4mz=(parameters[0], parameters[1]),\n",
    "                                                         ctau=ctau,\n",
    "                                                         mu=this_mu,\n",
    "                                                         distance=this_dark_nus_mcmc.distance,\n",
    "                                                         smoothing=this_dark_nus_mcmc.smoothing_pars)\n",
    "        return LEff(0, mu, sigma2), mu, sigma2, ctau\n",
    "\n",
    "labels = ['m4', 'mz', 'log10_Vmu4', 'log10_epsilon']\n",
    "blobs_dtype = [('mu', float), ('sigma2', float), ('ctau', float)]"
   ]
  },
  {
   "cell_type": "code",
   "execution_count": 7,
   "metadata": {},
   "outputs": [],
   "source": [
    "this_dark_nus_mcmc.set_posterior(light_minimal_posterior_no_geometry, \n",
    "                                 ndim, \n",
    "                                 labels=labels)"
   ]
  },
  {
   "cell_type": "code",
   "execution_count": 8,
   "metadata": {},
   "outputs": [
    {
     "name": "stderr",
     "output_type": "stream",
     "text": [
      "100%|██████████| 1/1 [00:00<00:00,  2.10it/s]\n"
     ]
    }
   ],
   "source": [
    "n_walkers = ndim**2\n",
    "n_samples = 1\n",
    "with Pool() as pool:\n",
    "    this_dark_nus_mcmc.initialise_mcmc(n_walkers, pool,\n",
    "                                       set_backend=True, reset_backend=False, \n",
    "                                       blobs_dtype=blobs_dtype)\n",
    "    this_dark_nus_mcmc.run_mcmc(n_samples)"
   ]
  },
  {
   "cell_type": "code",
   "execution_count": 9,
   "metadata": {},
   "outputs": [
    {
     "name": "stderr",
     "output_type": "stream",
     "text": [
      "/n/home00/nfoppiani/.conda/envs/dark_nus/lib/python3.8/site-packages/emcee/autocorr.py:36: RuntimeWarning: invalid value encountered in true_divide\n",
      "  acf /= acf[0]\n"
     ]
    },
    {
     "data": {
      "image/png": "[encoded data removed]",
      "text/plain": [
       "<Figure size 432x288 with 1 Axes>"
      ]
     },
     "metadata": {
      "needs_background": "light"
     },
     "output_type": "display_data"
    }
   ],
   "source": [
    "this_dark_nus_mcmc.compute_autocorrelation_time(store=True)"
   ]
  },
  {
   "cell_type": "code",
   "execution_count": null,
   "metadata": {},
   "outputs": [],
   "source": [
    "this_dark_nus_mcmc.get_samples(discard=2, thin=1)"
   ]
  },
  {
   "cell_type": "code",
   "execution_count": null,
   "metadata": {},
   "outputs": [],
   "source": [
    "this_dark_nus_mcmc.plot_chains(store=True)"
   ]
  },
  {
   "cell_type": "code",
   "execution_count": null,
   "metadata": {},
   "outputs": [],
   "source": [
    "this_dark_nus_mcmc.samples"
   ]
  },
  {
   "cell_type": "code",
   "execution_count": null,
   "metadata": {},
   "outputs": [],
   "source": [
    "this_dark_nus_mcmc.corner_plot(['m4', 'mz', 'log10_Vmu4', 'log10_epsilon'])"
   ]
  },
  {
   "cell_type": "code",
   "execution_count": null,
   "metadata": {},
   "outputs": [],
   "source": [
    "this_dark_nus_mcmc.corner_plot_raw(savefile='raw_corner')"
   ]
  },
  {
   "cell_type": "code",
   "execution_count": null,
   "metadata": {},
   "outputs": [],
   "source": [
    "this_dark_nus_mcmc.corner_plot_physics(savefile='physics_corner')"
   ]
  },
  {
   "cell_type": "code",
   "execution_count": null,
   "metadata": {},
   "outputs": [],
   "source": [
    "this_dark_nus_mcmc.corner_plot(which_labels=['log10_m4', 'log10_mz', 'log10_Vmu4_alpha_epsilon2', 'log10_ctau'], \n",
    "                               savefile='log_corner')"
   ]
  },
  {
   "cell_type": "code",
   "execution_count": null,
   "metadata": {},
   "outputs": [],
   "source": [
    "this_dark_nus_mcmc.exp_analysis_obj.upper_bound_Vmu4_alpha_epsilon2"
   ]
  },
  {
   "cell_type": "code",
   "execution_count": null,
   "metadata": {},
   "outputs": [],
   "source": [
    "print('Fraction of samples with null expectation =', (this_dark_nus_mcmc.samples['mu'] == 0).sum()/len(this_dark_nus_mcmc.samples))"
   ]
  },
  {
   "cell_type": "code",
   "execution_count": null,
   "metadata": {},
   "outputs": [],
   "source": [
    "this_dark_nus_mcmc.corner_plot_with_colour('log10_mu', savefile='corner_log10_mu')"
   ]
  },
  {
   "cell_type": "code",
   "execution_count": null,
   "metadata": {},
   "outputs": [],
   "source": [
    "this_dark_nus_mcmc.corner_plot_with_colour('log10_sigma/mu', savefile='corner_log10_sigma_mu')"
   ]
  },
  {
   "cell_type": "code",
   "execution_count": null,
   "metadata": {},
   "outputs": [],
   "source": [
    "this_dark_nus_mcmc.corner_plot_with_colour('log10_ctau', savefile='corner_log10_ctau')"
   ]
  }
 ],
 "metadata": {
  "kernelspec": {
   "display_name": "Python [conda env:.conda-dark_nus]",
   "language": "python",
   "name": "conda-env-.conda-dark_nus-py"
  },
  "language_info": {
   "codemirror_mode": {
    "name": "ipython",
    "version": 3
   },
   "file_extension": ".py",
   "mimetype": "text/x-python",
   "name": "python",
   "nbconvert_exporter": "python",
   "pygments_lexer": "ipython3",
   "version": "3.8.8"
  }
 },
 "nbformat": 4,
 "nbformat_minor": 4
}
