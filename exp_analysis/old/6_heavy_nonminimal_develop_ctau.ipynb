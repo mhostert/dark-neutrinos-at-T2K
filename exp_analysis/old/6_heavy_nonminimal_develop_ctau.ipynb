{
 "cells": [
  {
   "cell_type": "markdown",
   "id": "1197b3eb-d922-4a4a-ab5b-191b7ae5810f",
   "metadata": {},
   "source": [
    "# Developing a new way to integrate ctau"
   ]
  },
  {
   "cell_type": "code",
   "execution_count": 1,
   "id": "b5cc2b43-f57e-4b1a-ae2c-87383a780592",
   "metadata": {},
   "outputs": [],
   "source": [
    "%load_ext autoreload\n",
    "%autoreload 2"
   ]
  },
  {
   "cell_type": "code",
   "execution_count": 2,
   "id": "65fdd352-fd87-4ac8-9324-4459665e4281",
   "metadata": {},
   "outputs": [],
   "source": [
    "import matplotlib.pyplot as plt\n",
    "from matplotlib.colors import LogNorm\n",
    "import numpy as np\n",
    "import pandas as pd\n",
    "\n",
    "from Likelihood import LEff\n",
    "from mcmc_utils import labels_fancy\n",
    "from dark_nus_utils import load_datasets\n",
    "from parameters_dict import *\n",
    "from const import alphaQED"
   ]
  },
  {
   "cell_type": "code",
   "execution_count": 3,
   "id": "4e1200cf-16fe-481d-be46-bfaa95ee4ab3",
   "metadata": {},
   "outputs": [],
   "source": [
    "hierarchy = 'heavy'\n",
    "D_or_M = 'majorana'\n",
    "distance = 'log'\n",
    "smoothing_pars = (0.1, 0.1)\n",
    "\n",
    "selection = 'cut_based'\n",
    "\n",
    "spec = 'non_minimal'\n",
    "\n",
    "# save_folder = f'../fig/6_limit_visualisation/{hierarchy}_{D_or_M}_{spec}/'\n",
    "# !mkdir -p $save_folder"
   ]
  },
  {
   "cell_type": "code",
   "execution_count": 4,
   "id": "3f10650d-78b0-4a4d-8ce2-a7ac937d7b37",
   "metadata": {},
   "outputs": [],
   "source": [
    "levels = {0.68: -2.3/2,\n",
    "          0.9: -4.61/2,\n",
    "          0.95: -5.99/2}"
   ]
  },
  {
   "cell_type": "code",
   "execution_count": 5,
   "id": "8dcd8257-cc23-4a98-aab7-b1aedb3f607c",
   "metadata": {},
   "outputs": [
    {
     "name": "stdout",
     "output_type": "stream",
     "text": [
      "heavy majorana FHC\n",
      "loading df base\n",
      "initialising df base\n",
      "Wall time: 78.41806507110596 s, CPU time: 73.483103394\n"
     ]
    }
   ],
   "source": [
    "my_exp_analysis = load_datasets(hierarchy, D_or_M, fluxes=['FHC'], \n",
    "                                timeit=True, \n",
    "                                direct_load_objects=False,\n",
    "                                load_grid=False)[f'{hierarchy}_{D_or_M}_FHC']"
   ]
  },
  {
   "cell_type": "code",
   "execution_count": 6,
   "id": "e13fa411-ad79-4257-b857-1ab5b6c92c26",
   "metadata": {},
   "outputs": [],
   "source": [
    "df = my_exp_analysis.df_base"
   ]
  },
  {
   "cell_type": "markdown",
   "id": "683a42e2-3884-4789-9c2a-4f3153df7f32",
   "metadata": {
    "jp-MarkdownHeadingCollapsed": true,
    "tags": []
   },
   "source": [
    "# Development of exponential integral"
   ]
  },
  {
   "cell_type": "code",
   "execution_count": 125,
   "id": "ee9e5817-0c7f-4e41-a14b-72cefa27bdbd",
   "metadata": {},
   "outputs": [],
   "source": [
    "t_0_0 = (p0d_length - df['int_point', 'z'])/df['pdark_dir', 'z']\n",
    "t_0_1 = (p0d_length + tpc_length - df['int_point', 'z'])/df['pdark_dir', 'z']"
   ]
  },
  {
   "cell_type": "code",
   "execution_count": 126,
   "id": "9d607d98-0127-4c5b-9e84-3106edbbc129",
   "metadata": {},
   "outputs": [],
   "source": [
    "t_1_0 = (p0d_length + tpc_length + fgd_length - df['int_point', 'z'])/df['pdark_dir', 'z']\n",
    "t_1_1 = (p0d_length + 2*tpc_length + fgd_length - df['int_point', 'z'])/df['pdark_dir', 'z']"
   ]
  },
  {
   "cell_type": "code",
   "execution_count": 127,
   "id": "fc9e0047-72e7-45d6-b677-47c229f0c27b",
   "metadata": {},
   "outputs": [],
   "source": [
    "t_2_0 = (p0d_length + 2*(tpc_length + fgd_length) - df['int_point', 'z'])/df['pdark_dir', 'z']\n",
    "t_2_1 = (p0d_length + 3*tpc_length + 2*fgd_length - df['int_point', 'z'])/df['pdark_dir', 'z']"
   ]
  },
  {
   "cell_type": "code",
   "execution_count": 167,
   "id": "82b266ee-e624-4b44-b6f2-51dacd3f7012",
   "metadata": {},
   "outputs": [],
   "source": [
    "poe_x_min = (0 - df['int_point', 'x'])/df['pdark_dir', 'x']\n",
    "poe_x_max = (p0d_dimensions[0] - df['int_point', 'x'])/df['pdark_dir', 'x']\n",
    "poe_y_min = (0 - df['int_point', 'y'])/df['pdark_dir', 'y']\n",
    "poe_y_max = (p0d_dimensions[1] - df['int_point', 'y'])/df['pdark_dir', 'y']\n",
    "\n",
    "poe_s = np.stack([poe_x_min, poe_x_max, poe_y_min, poe_y_max], axis=1)\n",
    "min_points = np.min(np.where(poe_s > np.atleast_2d(t_0_0.values).T, \n",
    "                             poe_s, np.inf), axis=1)\n",
    "min_points[np.isinf(min_points)] = -np.inf\n",
    "exp_integral_points = np.stack([t_0_0, t_0_1, t_1_0, t_1_1, t_2_0, t_2_1,], axis=-1)\n",
    "\n",
    "which_tpc_exit = np.atleast_2d(min_points).T > exp_integral_points\n",
    "exp_integral_points[~which_tpc_exit] = 0\n",
    "exp_integral_points[df['pdark_dir', 'z'] <= 0] = 0\n",
    "exp_integral_points[:, 1] = np.where(which_tpc_exit.sum(axis=1) == 1,\n",
    "                                           min_points,\n",
    "                                           exp_integral_points[:, 1])\n",
    "exp_integral_points[:, 3] = np.where(which_tpc_exit.sum(axis=1) == 3,\n",
    "                                           min_points,\n",
    "                                           exp_integral_points[:, 3])\n",
    "exp_integral_points[:, 5] = np.where(which_tpc_exit.sum(axis=1) == 5,\n",
    "                                           min_points,\n",
    "                                           exp_integral_points[:, 5])\n",
    "\n",
    "for i in range(6):\n",
    "    df[f'exp_integral_points_{i}'] = exp_integral_points[:,i]"
   ]
  },
  {
   "cell_type": "code",
   "execution_count": 129,
   "id": "7d1a05b4-9c89-426b-a5da-b46fa0faec71",
   "metadata": {},
   "outputs": [
    {
     "data": {
      "text/plain": [
       "array([[242.24374133, 343.61541057, 380.61606984, 481.98773907,\n",
       "        518.98839834, 620.36006757],\n",
       "       [205.03758801, 310.22431006, 348.61746361, 408.27681885,\n",
       "          0.        ,   0.        ],\n",
       "       [206.45772817, 309.81874325, 347.54551376, 450.90652884,\n",
       "        488.63329934, 591.99431442],\n",
       "       ...,\n",
       "       [ 31.89952707, 145.6209556 , 187.12927701, 300.85070554,\n",
       "          0.        ,   0.        ],\n",
       "       [ 13.30836312, 114.44957368, 151.36611553, 252.50732609,\n",
       "        289.42386795, 358.60842739],\n",
       "       [230.54817266, 331.65002693, 368.55220373, 469.654058  ,\n",
       "          0.        ,   0.        ]])"
      ]
     },
     "execution_count": 129,
     "metadata": {},
     "output_type": "execute_result"
    }
   ],
   "source": [
    "exp_integral_points"
   ]
  },
  {
   "cell_type": "code",
   "execution_count": 168,
   "id": "6868de9a-e2c1-4f7b-aa34-4f7acf4d7578",
   "metadata": {},
   "outputs": [],
   "source": [
    "def compute_ctau_weights(df, ctau):\n",
    "    scale = df['betagamma']*ctau\n",
    "    return np.exp(-df[f'exp_integral_points_0']/scale) - np.exp(-df[f'exp_integral_points_1']/scale) +\\\n",
    "           np.exp(-df[f'exp_integral_points_2']/scale) - np.exp(-df[f'exp_integral_points_3']/scale) +\\\n",
    "           np.exp(-df[f'exp_integral_points_4']/scale) - np.exp(-df[f'exp_integral_points_5']/scale)"
   ]
  },
  {
   "cell_type": "code",
   "execution_count": 172,
   "id": "aa90e0f4-ebac-415f-9e55-909a62a971a4",
   "metadata": {},
   "outputs": [],
   "source": [
    "out = compute_ctau_weights(df, ctau=3)"
   ]
  }
 ],
 "metadata": {
  "kernelspec": {
   "display_name": "Python [conda env:.conda-dark_nus]",
   "language": "python",
   "name": "conda-env-.conda-dark_nus-py"
  },
  "language_info": {
   "codemirror_mode": {
    "name": "ipython",
    "version": 3
   },
   "file_extension": ".py",
   "mimetype": "text/x-python",
   "name": "python",
   "nbconvert_exporter": "python",
   "pygments_lexer": "ipython3",
   "version": "3.8.8"
  }
 },
 "nbformat": 4,
 "nbformat_minor": 5
}
