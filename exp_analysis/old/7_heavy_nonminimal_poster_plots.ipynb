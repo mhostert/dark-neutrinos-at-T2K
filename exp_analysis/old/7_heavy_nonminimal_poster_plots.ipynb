{
 "cells": [
  {
   "cell_type": "code",
   "execution_count": 1,
   "id": "0d769be4",
   "metadata": {},
   "outputs": [],
   "source": [
    "%load_ext autoreload\n",
    "%autoreload 2\n",
    "\n",
    "import numpy as np\n",
    "import scipy \n",
    "from scipy import interpolate\n",
    "from scipy import integrate\n",
    "import matplotlib.pyplot as plt\n",
    "from matplotlib import rc, rcParams\n",
    "import matplotlib.pyplot as plt\n",
    "from matplotlib.legend_handler import HandlerLine2D\n",
    "from matplotlib.patches import Patch\n",
    "import matplotlib.ticker as mticker"
   ]
  },
  {
   "cell_type": "code",
   "execution_count": 2,
   "id": "4ad4495c",
   "metadata": {},
   "outputs": [
    {
     "ename": "ModuleNotFoundError",
     "evalue": "No module named 'lmod'",
     "output_type": "error",
     "traceback": [
      "\u001b[0;31m---------------------------------------------------------------------------\u001b[0m",
      "\u001b[0;31mModuleNotFoundError\u001b[0m                       Traceback (most recent call last)",
      "\u001b[0;32m<ipython-input-2-4521d8701390>\u001b[0m in \u001b[0;36m<module>\u001b[0;34m\u001b[0m\n\u001b[0;32m----> 1\u001b[0;31m \u001b[0;32mimport\u001b[0m \u001b[0mlmod\u001b[0m\u001b[0;34m\u001b[0m\u001b[0;34m\u001b[0m\u001b[0m\n\u001b[0m\u001b[1;32m      2\u001b[0m \u001b[0;32mawait\u001b[0m \u001b[0mlmod\u001b[0m\u001b[0;34m.\u001b[0m\u001b[0mpurge\u001b[0m\u001b[0;34m(\u001b[0m\u001b[0mforce\u001b[0m\u001b[0;34m=\u001b[0m\u001b[0;32mTrue\u001b[0m\u001b[0;34m)\u001b[0m\u001b[0;34m\u001b[0m\u001b[0;34m\u001b[0m\u001b[0m\n\u001b[1;32m      3\u001b[0m \u001b[0;32mawait\u001b[0m \u001b[0mlmod\u001b[0m\u001b[0;34m.\u001b[0m\u001b[0mload\u001b[0m\u001b[0;34m(\u001b[0m\u001b[0;34m'texlive/2018.06.15-fasrc01'\u001b[0m\u001b[0;34m)\u001b[0m\u001b[0;34m\u001b[0m\u001b[0;34m\u001b[0m\u001b[0m\n",
      "\u001b[0;31mModuleNotFoundError\u001b[0m: No module named 'lmod'"
     ]
    }
   ],
   "source": [
    "import lmod\n",
    "await lmod.purge(force=True)\n",
    "await lmod.load('texlive/2018.06.15-fasrc01')"
   ]
  },
  {
   "cell_type": "code",
   "execution_count": 16,
   "id": "21fb8aca",
   "metadata": {},
   "outputs": [],
   "source": [
    "from other_limits.Nlimits import *\n",
    "from other_limits.DPlimits import *"
   ]
  },
  {
   "cell_type": "code",
   "execution_count": 17,
   "id": "053f6dfb",
   "metadata": {},
   "outputs": [],
   "source": [
    "save_folder = '../fig/7_constraints_comparison/'\n",
    "!mkdir -p $save_folder"
   ]
  },
  {
   "cell_type": "markdown",
   "id": "a4fa22a7",
   "metadata": {},
   "source": [
    "# Global defs"
   ]
  },
  {
   "cell_type": "code",
   "execution_count": 18,
   "id": "d2679ffd",
   "metadata": {},
   "outputs": [],
   "source": [
    "from matplotlib import rc, rcParams\n",
    "## Plot the parameter space\n",
    "fsize = 12\n",
    "rcParams['text.usetex'] = True\n",
    "rcParams['font.family'] = 'serif'\n",
    "rcParams['font.serif'] = ['Computer Modern Roman', 'serif']\n",
    "rcParams['figure.figsize'] = (1.2*3.7,1.2*2.3617)\n",
    "# rcParams['lines.linewidth'] = 1.0\n",
    "rcParams['hatch.linewidth'] = 0.3\n",
    "# rcParams['axes.linewidth'] = 0.4\n",
    "rcParams['axes.labelsize'] = fsize\n",
    "# rcParams['xtick.direction'] = 'in'\n",
    "# rcParams['xtick.major.width'] = 0.4\n",
    "# rcParams['xtick.minor.width'] = 0.4\n",
    "rcParams['xtick.labelsize'] = fsize\n",
    "# rcParams['ytick.direction'] = 'in'\n",
    "# rcParams['ytick.major.width'] = 0.4\n",
    "# rcParams['ytick.minor.width'] = 0.4\n",
    "rcParams['ytick.labelsize'] = fsize\n",
    "rcParams['legend.frameon'] = False\n",
    "rcParams['legend.fontsize'] = 0.8*fsize\n",
    "rcParams['legend.loc'] = 'lower right'\n",
    "rcParams[\"text.latex.preamble\"] = r'''\n",
    "    \\usepackage{amsmath,amssymb,amsthm}\n",
    "    \\usepackage{siunitx}\n",
    "'''"
   ]
  },
  {
   "cell_type": "markdown",
   "id": "a8459e54",
   "metadata": {},
   "source": [
    "# Experimental T2K constraints"
   ]
  },
  {
   "cell_type": "code",
   "execution_count": 22,
   "id": "5e546079",
   "metadata": {},
   "outputs": [],
   "source": [
    "from posteriors import heavy_nonminimal_posterior_v, likelihood_levels_2d\n",
    "from dark_nus_utils import load_datasets"
   ]
  },
  {
   "cell_type": "code",
   "execution_count": 7,
   "id": "991fb937-cc2b-4982-9331-47389b6914f1",
   "metadata": {},
   "outputs": [
    {
     "name": "stdout",
     "output_type": "stream",
     "text": [
      "heavy majorana FHC\n",
      "loading df base\n",
      "initialising df base\n",
      "Wall time: 83.8061261177063 s, CPU time: 74.904383608\n",
      "heavy majorana RHC\n",
      "loading df base\n",
      "initialising df base\n",
      "Wall time: 87.02260494232178 s, CPU time: 78.613201987\n"
     ]
    }
   ],
   "source": [
    "my_exp_analyses = load_datasets('heavy', \n",
    "                                'majorana', \n",
    "                                timeit=True, \n",
    "                                direct_load_objects=True,\n",
    "                                load_grid=False)"
   ]
  },
  {
   "cell_type": "markdown",
   "id": "84b43e03",
   "metadata": {},
   "source": [
    "### T2K constrain calculation"
   ]
  },
  {
   "cell_type": "code",
   "execution_count": 30,
   "id": "e11500b8",
   "metadata": {},
   "outputs": [],
   "source": [
    "# setting\n",
    "mz = np.geomspace(0.101, list(my_exp_analyses.values())[0].mz_limits[1], 25)\n",
    "epsilon = np.geomspace(1e-5, 1e-1, 30)\n",
    "mz, epsilon = np.meshgrid(mz, epsilon)\n",
    "\n",
    "dark_photon_Ud4_2_s = [1, 1e-2, 1e-4]"
   ]
  },
  {
   "cell_type": "code",
   "execution_count": 31,
   "id": "297d94d4",
   "metadata": {},
   "outputs": [],
   "source": [
    "# calculation\n",
    "t2k_dark_photon_constraints = {}\n",
    "for Ud4_2 in dark_photon_Ud4_2_s:\n",
    "    t2k_dark_photon_constraints[Ud4_2] = heavy_nonminimal_posterior_v(my_exp_analyses, mz=mz, epsilon=epsilon, Ud4_2=Ud4_2)"
   ]
  },
  {
   "cell_type": "markdown",
   "id": "e023d3a6",
   "metadata": {},
   "source": [
    "## DARK PHOTON PARAMETER SPACE"
   ]
  },
  {
   "cell_type": "code",
   "execution_count": 32,
   "id": "7e454c47",
   "metadata": {},
   "outputs": [],
   "source": [
    "X_MIN, X_MAX = 1e-2, 1e1\n",
    "Y_MIN, Y_MAX = 1e-6, 0.05\n",
    "\n",
    "mzpr = np.geomspace(X_MIN, X_MAX, 1000)\n",
    "\n",
    "this_m4 = 0.1"
   ]
  },
  {
   "cell_type": "markdown",
   "id": "211d2d78",
   "metadata": {},
   "source": [
    "## g-2 definitions"
   ]
  },
  {
   "cell_type": "code",
   "execution_count": 33,
   "id": "1fad8a0c",
   "metadata": {},
   "outputs": [],
   "source": [
    "FNAL_run_combined = gminus2.weighted_average(gminus2.DELTA_FNAL, gminus2.DELTA_BNL)"
   ]
  },
  {
   "cell_type": "code",
   "execution_count": 34,
   "id": "564660dc",
   "metadata": {},
   "outputs": [],
   "source": [
    "energy, one_over_alpha = np.loadtxt(\"./other_limits/DPlimits/digitized/alphaQED/alpha_QED_running_posQ2.dat\", unpack = True)\n",
    "one_over_alpha_ew = interpolate.interp1d(energy, one_over_alpha, kind = \"linear\")\n",
    "\n",
    "FACTOR = 1/2/np.pi/one_over_alpha_ew(gminus2.M_MU)\n",
    "\n",
    "gminus2_sigmas = [2.]\n",
    "gminus2_colors = ['dodgerblue']"
   ]
  },
  {
   "cell_type": "markdown",
   "id": "e61f913e",
   "metadata": {},
   "source": [
    "## dark photon plot"
   ]
  },
  {
   "cell_type": "code",
   "execution_count": 35,
   "id": "3a1079e7",
   "metadata": {},
   "outputs": [
    {
     "data": {
      "image/png": "[encoded data removed]",
      "text/plain": [
       "<Figure size 319.68x204.051 with 1 Axes>"
      ]
     },
     "metadata": {
      "needs_background": "light"
     },
     "output_type": "display_data"
    }
   ],
   "source": [
    "fig = plt.figure()\n",
    "axes_form = [0.14,0.15,0.82,0.76]\n",
    "ax = fig.add_axes(axes_form)\n",
    "ax.set_xlim(X_MIN, X_MAX)\n",
    "ax.set_ylim(Y_MIN, Y_MAX)\n",
    "ax.set_xscale('log')\n",
    "ax.set_yscale('log')\n",
    "ax.set_xlabel(r'$m_{Z^\\prime}/$GeV')\n",
    "ax.set_ylabel(r'$\\varepsilon$')\n",
    "    \n",
    "semi_visible_DP.plot_constraints(ax, X_MIN, X_MAX, separated=False)\n",
    "\n",
    "gminus2.compute_and_plot_gminus2_region(\n",
    "    ax = ax,\n",
    "    mz = mzpr,\n",
    "    delta_amu = FNAL_run_combined[0],\n",
    "    error = FNAL_run_combined[1],\n",
    "    factor = FACTOR,\n",
    "    sigmas = gminus2_sigmas,\n",
    "    colors = gminus2_colors\n",
    ")\n",
    "\n",
    "ax.axvline(x=this_m4, color='black', lw=1)\n",
    "ax.annotate('', xy=(2e-2, 1.2e-4), xytext=(this_m4, 1.2e-4), \n",
    "            arrowprops=dict(arrowstyle=\"-|>\", mutation_scale=7, color='black', lw=1))\n",
    "\n",
    "ax.annotate(r\"$m_{4} > m_{Z'}$\"+'\\nN short lived\\nno constraint', \n",
    "            xy=(9e-2, 3e-5), \n",
    "            fontsize=0.7*fsize, \n",
    "            color='black', \n",
    "            horizontalalignment='right')\n",
    "ax.annotate(r'$(g-2)_\\mu$', xy=(2e-2,1.6e-3), rotation=4, fontsize=0.7*fsize, color='darkblue')\n",
    "\n",
    "# miniboone ROI\n",
    "plt.fill_between([1, 2], [2e-3, 2e-3], [2.5e-2, 2.5e-2], color='green', alpha=0.4)\n",
    "ax.annotate('MiniBooNE\\nROI', xy=(2.3, 5e-3), fontsize=0.7*fsize, color='green')\n",
    "\n",
    "# plot T2K constraint\n",
    "colors = ['orange', 'orange', 'orange']\n",
    "linestyles = ['-', '--', 'dotted']\n",
    "\n",
    "contours = {}\n",
    "for Ud4_2, linestyle, color in zip(dark_photon_Ud4_2_s, linestyles, colors):\n",
    "    plt.contourf(mz, epsilon, \n",
    "                                  t2k_dark_photon_constraints[Ud4_2][0], levels=[-np.inf, likelihood_levels_2d[0.9]], \n",
    "                                  colors=[color], linestyles=[linestyle], alpha=0.2)\n",
    "    contours[Ud4_2] = plt.contour(mz, epsilon, \n",
    "                                  t2k_dark_photon_constraints[Ud4_2][0], levels=[likelihood_levels_2d[0.9]], \n",
    "                                  colors=['chocolate'], linestyles=[linestyle])\n",
    "plt.legend([cntr.legend_elements()[0][0] for cntr in contours.values()], \n",
    "            [f'$|V_{{ND}}|^2$ = {Ud4_2}' if Ud4_2==1 else r'$|V_{{ND}}|^2 = 10^{'+f'{np.log10(Ud4_2):.1g}'+r'}$' for Ud4_2 in contours.keys()],\n",
    "           frameon=False,\n",
    "           loc='lower right')\n",
    "\n",
    "ax.set_xlim(X_MIN,X_MAX)\n",
    "ax.set_ylim(bottom=1e-5)\n",
    "\n",
    "ax.set_title('Preliminary', loc='right', style='italic')\n",
    "fig.savefig(f\"{save_folder}dark_photon.pdf\", bbox_inches='tight', transparent=True)\n",
    "fig.savefig(f\"{save_folder}dark_photon.png\", dpi=250, bbox_inches='tight', transparent=True)"
   ]
  },
  {
   "cell_type": "markdown",
   "id": "202c7976",
   "metadata": {},
   "source": [
    "## Heavy neutrino parameter space"
   ]
  },
  {
   "cell_type": "code",
   "execution_count": 36,
   "id": "58c58e6b",
   "metadata": {},
   "outputs": [],
   "source": [
    "################################\n",
    "# range of N mass\n",
    "MN_MIN = 1e-3 # GeV\n",
    "MN_MAX = 2 # GeV\n",
    "MN = np.logspace(np.log10(MN_MIN),np.log10(MN_MAX),1000)"
   ]
  },
  {
   "cell_type": "markdown",
   "id": "d416de7d",
   "metadata": {},
   "source": [
    "### Computation of T2K constraints varying $|U_{D4}|^2$"
   ]
  },
  {
   "cell_type": "code",
   "execution_count": 37,
   "id": "e2319dd2",
   "metadata": {},
   "outputs": [],
   "source": [
    "# setting\n",
    "m4 = np.geomspace(*list(my_exp_analyses.values())[0].m4_limits,\n",
    "                  25)\n",
    "Umu4_2 = np.geomspace(1e-11,\n",
    "                      1,\n",
    "                      30)\n",
    "m4, Umu4_2 = np.meshgrid(m4, Umu4_2)\n",
    "\n",
    "hnl_Ud4_2_s = [1, 1e-2, 1e-4]"
   ]
  },
  {
   "cell_type": "code",
   "execution_count": 38,
   "id": "d155eb3a",
   "metadata": {},
   "outputs": [],
   "source": [
    "# calculation\n",
    "t2k_hnl_constraints = {}\n",
    "for Ud4_2 in hnl_Ud4_2_s:\n",
    "    t2k_hnl_constraints[Ud4_2] = heavy_nonminimal_posterior_v(my_exp_analyses, m4=m4, Umu4_2=Umu4_2, Ud4_2=Ud4_2)"
   ]
  },
  {
   "cell_type": "code",
   "execution_count": 39,
   "id": "a387b5c2",
   "metadata": {},
   "outputs": [
    {
     "data": {
      "image/png": "[encoded data removed]",
      "text/plain": [
       "<Figure size 319.68x204.051 with 1 Axes>"
      ]
     },
     "metadata": {
      "needs_background": "light"
     },
     "output_type": "display_data"
    }
   ],
   "source": [
    "fig = plt.figure()\n",
    "axes_form = [0.14,0.15,0.82,0.76]\n",
    "ax = fig.add_axes(axes_form)\n",
    "ax.set_xlim(X_MIN, X_MAX)\n",
    "ax.set_ylim(Y_MIN, Y_MAX)\n",
    "ax.set_xscale('log')\n",
    "ax.set_yscale('log')\n",
    "ax.set_xlabel(r\"$m_{N}$/GeV\")\n",
    "ax.set_ylabel(r'$|V_{\\alpha N}|^2$')\n",
    "\n",
    "usqr_bound = umu4.USQR(MN)\n",
    "usqr_bound_inv = umu4.USQR_inv(MN)\n",
    "\n",
    "##############################################\n",
    "# Constraints on U\\alpha4^2\n",
    "# Minimal HNL -- no Zprime and all that\n",
    "# ax.plot(MN, usqr_bound, color='navy', )\n",
    "# ax.fill_between(MN, usqr_bound, np.ones(np.size(MN)), \n",
    "#             fc='dodgerblue', ec='None', lw =0.0, alpha=0.5, label=r'all bounds')\n",
    "\n",
    "# most model independent bounds\n",
    "# ax.plot(MN, usqr_bound_inv, color='navy', lw=1)\n",
    "ax.fill_between(MN, usqr_bound_inv, np.ones(np.size(MN)), \n",
    "            fc='lightgrey', ec='None', lw =0.0, alpha=0.95)\n",
    "ax.annotate('Model\\nindependent\\nconstraints', xy=(0.0012, 0.02), rotation=0, fontsize=0.7*fsize, color='black')\n",
    "\n",
    "# MiniBooNE ROI\n",
    "plt.fill_between([0.100, 0.300], [1e-7, 1e-7], [1e-5, 1e-5], color='green', alpha=0.4)\n",
    "ax.annotate('MiniBooNE\\nROI', xy=(0.4, 4e-7), fontsize=0.7*fsize, color='green')\n",
    "\n",
    "# plot T2K constraints\n",
    "colors = ['orange', 'orange', 'orange']\n",
    "linestyles = ['-', '--', 'dotted']\n",
    "contours = {}\n",
    "for Ud4_2, linestyle, color in zip(hnl_Ud4_2_s, linestyles, colors):\n",
    "    ax.contourf(m4, Umu4_2, \n",
    "                                  t2k_hnl_constraints[Ud4_2][0], levels=[-np.inf, likelihood_levels_2d[0.9]], \n",
    "                                  colors=[color], linestyles=[linestyle], alpha=0.2)\n",
    "    contours[Ud4_2] = ax.contour(m4, Umu4_2, \n",
    "                                  t2k_hnl_constraints[Ud4_2][0], levels=[likelihood_levels_2d[0.9]], \n",
    "                                  colors=['chocolate'], linestyles=[linestyle])\n",
    "ax.legend([cntr.legend_elements()[0][0] for cntr in contours.values()], \n",
    "            [f'$|V_{{ND}}|^2$ = {Ud4_2}' if Ud4_2==1 else r'$|V_{{ND}}|^2 = 10^{'+f'{np.log10(Ud4_2):.1g}'+r'}$' for Ud4_2 in contours.keys()],\n",
    "           frameon=False,\n",
    "           loc='lower left')\n",
    "\n",
    "\n",
    "ax.set_xlim(MN_MIN,MN_MAX)\n",
    "ax.set_ylim(1e-10,1)\n",
    "ax.loglog()\n",
    "\n",
    "ax.set_yticks([1e-10, 1e-8, 1e-6, 1e-4, 1e-2, 1])\n",
    "\n",
    "ax.set_title('Preliminary', loc='right', style='italic')\n",
    "fig.savefig(f\"{save_folder}hnl_umu4sqr_vs_mn.pdf\", bbox_inches='tight', transparent=True)\n",
    "fig.savefig(f\"{save_folder}hnl_umu4sqr_vs_mn.png\", dpi=250, bbox_inches='tight', transparent=True)"
   ]
  },
  {
   "cell_type": "code",
   "execution_count": null,
   "id": "613fb37a-5055-453b-b626-cd9b0ed62fc4",
   "metadata": {},
   "outputs": [],
   "source": []
  }
 ],
 "metadata": {
  "kernelspec": {
   "display_name": "Python [conda env:.conda-dark_nus]",
   "language": "python",
   "name": "conda-env-.conda-dark_nus-py"
  },
  "language_info": {
   "codemirror_mode": {
    "name": "ipython",
    "version": 3
   },
   "file_extension": ".py",
   "mimetype": "text/x-python",
   "name": "python",
   "nbconvert_exporter": "python",
   "pygments_lexer": "ipython3",
   "version": "3.8.8"
  }
 },
 "nbformat": 4,
 "nbformat_minor": 5
}
