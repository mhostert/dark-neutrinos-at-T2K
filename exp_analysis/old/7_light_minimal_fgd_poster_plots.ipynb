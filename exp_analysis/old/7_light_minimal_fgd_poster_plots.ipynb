{
 "cells": [
  {
   "cell_type": "markdown",
   "metadata": {},
   "source": [
    "# Constraint in the light minimal model with the FGD analysis"
   ]
  },
  {
   "cell_type": "code",
   "execution_count": 2,
   "metadata": {},
   "outputs": [],
   "source": [
    "%load_ext autoreload\n",
    "%autoreload 2\n",
    "\n",
    "import numpy as np\n",
    "import scipy \n",
    "from scipy import interpolate\n",
    "from scipy import integrate\n",
    "import matplotlib.pyplot as plt\n",
    "from matplotlib import rc, rcParams\n",
    "import matplotlib.pyplot as plt\n",
    "from matplotlib.legend_handler import HandlerLine2D\n",
    "from matplotlib.patches import Patch\n",
    "import matplotlib.ticker as mticker"
   ]
  },
  {
   "cell_type": "code",
   "execution_count": 3,
   "metadata": {},
   "outputs": [],
   "source": [
    "import lmod\n",
    "await lmod.purge(force=True)\n",
    "await lmod.load('texlive/2018.06.15-fasrc01')"
   ]
  },
  {
   "cell_type": "code",
   "execution_count": 4,
   "metadata": {},
   "outputs": [],
   "source": [
    "from other_limits.Nlimits import *\n",
    "from other_limits.DPlimits import *"
   ]
  },
  {
   "cell_type": "markdown",
   "metadata": {},
   "source": [
    "# Global defs"
   ]
  },
  {
   "cell_type": "code",
   "execution_count": 5,
   "metadata": {},
   "outputs": [],
   "source": [
    "from matplotlib import rc, rcParams\n",
    "## Plot the parameter space\n",
    "fsize = 12\n",
    "rcParams['text.usetex'] = True\n",
    "rcParams['font.family'] = 'serif'\n",
    "rcParams['font.serif'] = ['Computer Modern Roman', 'serif']\n",
    "rcParams['figure.figsize'] = (1.2*3.7,1.2*2.3617)\n",
    "# rcParams['lines.linewidth'] = 1.0\n",
    "rcParams['hatch.linewidth'] = 0.3\n",
    "# rcParams['axes.linewidth'] = 0.4\n",
    "rcParams['axes.labelsize'] = fsize\n",
    "# rcParams['xtick.direction'] = 'in'\n",
    "# rcParams['xtick.major.width'] = 0.4\n",
    "# rcParams['xtick.minor.width'] = 0.4\n",
    "rcParams['xtick.labelsize'] = fsize\n",
    "# rcParams['ytick.direction'] = 'in'\n",
    "# rcParams['ytick.major.width'] = 0.4\n",
    "# rcParams['ytick.minor.width'] = 0.4\n",
    "rcParams['ytick.labelsize'] = fsize\n",
    "rcParams['legend.frameon'] = False\n",
    "rcParams['legend.fontsize'] = 0.8*fsize\n",
    "rcParams['legend.loc'] = 'lower right'\n",
    "rcParams[\"text.latex.preamble\"] = r'''\n",
    "    \\usepackage{amsmath,amssymb,amsthm}\n",
    "    \\usepackage{siunitx}\n",
    "'''"
   ]
  },
  {
   "cell_type": "markdown",
   "metadata": {},
   "source": [
    "# Experimental T2K constraints"
   ]
  },
  {
   "cell_type": "code",
   "execution_count": 6,
   "metadata": {},
   "outputs": [
    {
     "name": "stdout",
     "output_type": "stream",
     "text": [
      "0.0009866349020787781\n"
     ]
    }
   ],
   "source": [
    "from Likelihood import LEff\n",
    "from dark_nus_utils import load_datasets\n",
    "from const import alphaQED\n",
    "from parameters_dict import mass_material"
   ]
  },
  {
   "cell_type": "code",
   "execution_count": 7,
   "metadata": {},
   "outputs": [],
   "source": [
    "hierarchy = 'light'\n",
    "D_or_M = 'majorana'\n",
    "distance = 'log'\n",
    "smoothing_pars = (0.1, 0.1)\n",
    "selection = 'carbon'\n",
    "mass_ratio = 1848.6 * 1e-9 * 184**2  * 15 / mass_material[selection]\n",
    "pot_ratio = 11.92/20"
   ]
  },
  {
   "cell_type": "code",
   "execution_count": 7,
   "metadata": {},
   "outputs": [],
   "source": [
    "save_folder = f'../fig/7_constraints_comparison/{hierarchy}_{D_or_M}'\n",
    "!mkdir -p $save_folder"
   ]
  },
  {
   "cell_type": "code",
   "execution_count": 8,
   "metadata": {},
   "outputs": [],
   "source": [
    "levels = {0.68: -2.3/2,\n",
    "          0.9: -4.61/2,\n",
    "          0.95: -5.99/2}"
   ]
  },
  {
   "cell_type": "code",
   "execution_count": 9,
   "metadata": {},
   "outputs": [
    {
     "name": "stdout",
     "output_type": "stream",
     "text": [
      "light majorana\n",
      "Wall time: 75.35274910926819 s, CPU time: 1.458873562\n"
     ]
    }
   ],
   "source": [
    "my_exp_analysis = load_datasets(hierarchy, D_or_M, timeit=True, direct_load_objects=True)[f'{hierarchy}_{D_or_M}']"
   ]
  },
  {
   "cell_type": "code",
   "execution_count": 10,
   "metadata": {},
   "outputs": [],
   "source": [
    "from ctau_utils import ctau_light\n",
    "def light_simplified_posterior(m4=0.1, mz=0.03, Umu4_2=8e-9, Ud4_2=0.01, alpha_d=0.25, epsilon=2.1e-2, additional_factor=mass_ratio*pot_ratio, n_observed=0, n_predicted_sm=0):\n",
    "    Vmu4_alpha_epsilon2 = alpha_d * Umu4_2 * alphaQED * epsilon**2\n",
    "    Valpha4 = alpha_d * Ud4_2\n",
    "    ctau = ctau_light(m4, \n",
    "                      mz, \n",
    "                      Valpha4, \n",
    "                      D_or_M)\n",
    "    this_mu = Vmu4_alpha_epsilon2/my_exp_analysis.Vmu4_alpha_epsilon2\n",
    "    mu, sigma2 = my_exp_analysis.kde_n_events(df=my_exp_analysis.df_base.query(selection),\n",
    "                                                     m4mz=(m4, mz),\n",
    "                                                     ctau=None,\n",
    "                                                     mu=this_mu,\n",
    "                                                     distance=distance,\n",
    "                                                     smoothing=smoothing_pars)\n",
    "    mu *= additional_factor\n",
    "    sigma2 *= additional_factor**2\n",
    "    return LEff(n_observed, n_predicted_sm+mu, sigma2), mu, sigma2, ctau"
   ]
  },
  {
   "cell_type": "code",
   "execution_count": 11,
   "metadata": {},
   "outputs": [],
   "source": [
    "light_simplified_posterior_v = np.vectorize(light_simplified_posterior)"
   ]
  },
  {
   "cell_type": "markdown",
   "metadata": {},
   "source": [
    "### T2K constrain calculation"
   ]
  },
  {
   "cell_type": "code",
   "execution_count": 12,
   "metadata": {},
   "outputs": [],
   "source": [
    "# setting\n",
    "mz_for_grid = np.linspace(0.005, 0.195, 20)\n",
    "epsilon_for_grid = np.geomspace(1e-5, 1e-1, 8)\n",
    "mz, epsilon = np.meshgrid(mz_for_grid, epsilon_for_grid)"
   ]
  },
  {
   "cell_type": "code",
   "execution_count": 13,
   "metadata": {},
   "outputs": [],
   "source": [
    "digitized_data = np.loadtxt('../digitized/nueCCQE_ND280_2020/FHC_invmass_data.dat')\n",
    "digitized_data[:, 0] = np.linspace(0.005, 0.195, 20)\n",
    "digitized_data, epsilon = np.meshgrid(digitized_data[:, 1], epsilon_for_grid)\n",
    "digitized_MCtot = np.loadtxt('../digitized/nueCCQE_ND280_2020/FHC_invmass_MCtot.dat')\n",
    "digitized_MCtot[:, 0] = np.linspace(0.005, 0.195, 20)\n",
    "digitized_MCtot, epsilon = np.meshgrid(digitized_MCtot[:, 1], epsilon_for_grid)"
   ]
  },
  {
   "cell_type": "code",
   "execution_count": 43,
   "metadata": {},
   "outputs": [],
   "source": [
    "# calculation\n",
    "t2k_dark_photon_constraints = {}\n",
    "t2k_dark_photon_constraints[1] = light_simplified_posterior_v(mz=mz, epsilon=epsilon,\n",
    "                                                              n_observed=digitized_data, \n",
    "                                                              n_predicted_sm=digitized_MCtot)"
   ]
  },
  {
   "cell_type": "markdown",
   "metadata": {},
   "source": [
    "## DARK PHOTON PARAMETER SPACE"
   ]
  },
  {
   "cell_type": "code",
   "execution_count": 31,
   "metadata": {},
   "outputs": [],
   "source": [
    "X_MIN, X_MAX = 1e-2, 1e1\n",
    "Y_MIN, Y_MAX = 1e-6, 0.05\n",
    "\n",
    "mzpr = np.geomspace(X_MIN, X_MAX, 1000)\n",
    "\n",
    "this_m4 = 0.1"
   ]
  },
  {
   "cell_type": "markdown",
   "metadata": {},
   "source": [
    "## g-2 definitions"
   ]
  },
  {
   "cell_type": "code",
   "execution_count": 32,
   "metadata": {},
   "outputs": [],
   "source": [
    "FNAL_run_combined = gminus2.weighted_average(gminus2.DELTA_FNAL, gminus2.DELTA_BNL)"
   ]
  },
  {
   "cell_type": "code",
   "execution_count": 33,
   "metadata": {},
   "outputs": [],
   "source": [
    "energy, one_over_alpha = np.loadtxt(\"./other_limits/DPlimits/digitized/alphaQED/alpha_QED_running_posQ2.dat\", unpack = True)\n",
    "one_over_alpha_ew = interpolate.interp1d(energy, one_over_alpha, kind = \"linear\")\n",
    "\n",
    "FACTOR = 1/2/np.pi/one_over_alpha_ew(gminus2.M_MU)\n",
    "\n",
    "gminus2_sigmas = [2.]\n",
    "gminus2_colors = ['dodgerblue']"
   ]
  },
  {
   "cell_type": "markdown",
   "metadata": {},
   "source": [
    "## dark photon plot"
   ]
  },
  {
   "cell_type": "code",
   "execution_count": 36,
   "metadata": {},
   "outputs": [
    {
     "name": "stderr",
     "output_type": "stream",
     "text": [
      "<ipython-input-36-c3e9edf61915>:47: UserWarning: No contour levels were found within the data range.\n",
      "  contours[Ud4_2] = plt.contour(mz, epsilon,\n",
      "findfont: Font family ['serif'] not found. Falling back to DejaVu Sans.\n"
     ]
    },
    {
     "data": {
      "image/png": "[encoded data removed]",
      "text/plain": [
       "<Figure size 319.68x204.051 with 1 Axes>"
      ]
     },
     "metadata": {
      "needs_background": "light"
     },
     "output_type": "display_data"
    }
   ],
   "source": [
    "fig = plt.figure()\n",
    "axes_form = [0.14,0.15,0.82,0.76]\n",
    "ax = fig.add_axes(axes_form)\n",
    "ax.set_xlim(X_MIN, X_MAX)\n",
    "ax.set_ylim(Y_MIN, Y_MAX)\n",
    "ax.set_xscale('log')\n",
    "ax.set_yscale('log')\n",
    "ax.set_xlabel(r'$m_{Z^\\prime}/$GeV')\n",
    "ax.set_ylabel(r'$\\varepsilon$')\n",
    "    \n",
    "semi_visible_DP.plot_constraints(ax, X_MIN, X_MAX, separated=False)\n",
    "\n",
    "gminus2.compute_and_plot_gminus2_region(\n",
    "    ax = ax,\n",
    "    mz = mzpr,\n",
    "    delta_amu = FNAL_run_combined[0],\n",
    "    error = FNAL_run_combined[1],\n",
    "    factor = FACTOR,\n",
    "    sigmas = gminus2_sigmas,\n",
    "    colors = gminus2_colors\n",
    ")\n",
    "\n",
    "ax.axvline(x=this_m4, color='black', lw=1)\n",
    "# ax.annotate('', xy=(2e-2, 1.2e-4), xytext=(this_m4, 1.2e-4), \n",
    "#             arrowprops=dict(arrowstyle=\"-|>\", mutation_scale=7, color='black', lw=1))\n",
    "\n",
    "# ax.annotate(r\"$m_{4} > m_{Z'}$\"+'\\nN short lived\\nno constraint', \n",
    "#             xy=(9e-2, 3e-5), \n",
    "#             fontsize=0.7*fsize, \n",
    "#             color='black', \n",
    "#             horizontalalignment='right')\n",
    "ax.annotate(r'$(g-2)_\\mu$', xy=(2e-2,1.6e-3), rotation=4, fontsize=0.7*fsize, color='darkblue')\n",
    "\n",
    "# miniboone ROI\n",
    "# plt.fill_between([1, 2], [2e-3, 2e-3], [2.5e-2, 2.5e-2], color='green', alpha=0.4)\n",
    "# ax.annotate('MiniBooNE\\nROI', xy=(2.3, 5e-3), fontsize=0.7*fsize, color='green')\n",
    "\n",
    "# plot T2K constraint\n",
    "colors = ['orange', 'orange', 'orange']\n",
    "linestyles = ['-', '--', 'dotted']\n",
    "\n",
    "contours = {}\n",
    "for Ud4_2, linestyle, color in zip([1], linestyles, colors):\n",
    "    plt.contourf(mz, epsilon, \n",
    "                  t2k_dark_photon_constraints[Ud4_2][0], levels=[-np.inf, levels[0.9]], \n",
    "                  colors=[color], linestyles=[linestyle], alpha=0.2)\n",
    "    contours[Ud4_2] = plt.contour(mz, epsilon, \n",
    "                                  t2k_dark_photon_constraints[Ud4_2][0], levels=[levels[0.9]], \n",
    "                                  colors=['chocolate'], linestyles=[linestyle])\n",
    "plt.legend([cntr.legend_elements()[0][0] for cntr in contours.values()], \n",
    "            [f'$|V_{{ND}}|^2$ = {Ud4_2}' if Ud4_2==1 else r'$|V_{{ND}}|^2 = 10^{'+f'{np.log10(Ud4_2):.1g}'+r'}$' for Ud4_2 in contours.keys()],\n",
    "           frameon=False,\n",
    "           loc='lower right')\n",
    "\n",
    "ax.set_xlim(X_MIN,X_MAX)\n",
    "ax.set_ylim(bottom=1e-5)\n",
    "\n",
    "ax.set_title('Preliminary', loc='right', style='italic')\n",
    "fig.savefig(f\"{save_folder}dark_photon.pdf\", bbox_inches='tight', transparent=True)\n",
    "fig.savefig(f\"{save_folder}dark_photon.png\", dpi=250, bbox_inches='tight', transparent=True)"
   ]
  },
  {
   "cell_type": "markdown",
   "metadata": {},
   "source": [
    "## Heavy neutrino parameter space"
   ]
  },
  {
   "cell_type": "code",
   "execution_count": 25,
   "metadata": {},
   "outputs": [],
   "source": [
    "################################\n",
    "# range of N mass\n",
    "MN_MIN = 1e-3 # GeV\n",
    "MN_MAX = 2 # GeV\n",
    "MN = np.logspace(np.log10(MN_MIN),np.log10(MN_MAX),1000)"
   ]
  },
  {
   "cell_type": "markdown",
   "metadata": {},
   "source": [
    "### Computation of T2K constraints varying $|U_{D4}|^2$"
   ]
  },
  {
   "cell_type": "code",
   "execution_count": 35,
   "metadata": {},
   "outputs": [],
   "source": [
    "# setting\n",
    "m4 = np.geomspace(my_exp_analysis.m4_limits[0],\n",
    "                  my_exp_analysis.m4_limits[1],\n",
    "                  45)\n",
    "Umu4_2 = np.geomspace(1e-11,\n",
    "                      1,\n",
    "                      40)\n",
    "m4, Umu4_2 = np.meshgrid(m4, Umu4_2)\n",
    "\n",
    "hnl_Ud4_2_s = [1, 1e-2, 1e-4]"
   ]
  },
  {
   "cell_type": "code",
   "execution_count": 36,
   "metadata": {},
   "outputs": [],
   "source": [
    "# calculation\n",
    "t2k_hnl_constraints = {}\n",
    "for Ud4_2 in hnl_Ud4_2_s:\n",
    "    t2k_hnl_constraints[Ud4_2] = heavy_nonminimal_posterior_v(m4=m4, Umu4_2=Umu4_2, Ud4_2=Ud4_2)"
   ]
  },
  {
   "cell_type": "code",
   "execution_count": 37,
   "metadata": {},
   "outputs": [
    {
     "data": {
      "image/png": "[encoded data removed]",
      "text/plain": [
       "<Figure size 319.68x204.051 with 1 Axes>"
      ]
     },
     "metadata": {
      "needs_background": "light"
     },
     "output_type": "display_data"
    }
   ],
   "source": [
    "fig = plt.figure()\n",
    "axes_form = [0.14,0.15,0.82,0.76]\n",
    "ax = fig.add_axes(axes_form)\n",
    "ax.set_xlim(X_MIN, X_MAX)\n",
    "ax.set_ylim(Y_MIN, Y_MAX)\n",
    "ax.set_xscale('log')\n",
    "ax.set_yscale('log')\n",
    "ax.set_xlabel(r\"$m_{N}$/GeV\")\n",
    "ax.set_ylabel(r'$|V_{\\alpha N}|^2$')\n",
    "\n",
    "usqr_bound = umu4.USQR(MN)\n",
    "usqr_bound_inv = umu4.USQR_inv(MN)\n",
    "\n",
    "##############################################\n",
    "# Constraints on U\\alpha4^2\n",
    "# Minimal HNL -- no Zprime and all that\n",
    "# ax.plot(MN, usqr_bound, color='navy', )\n",
    "# ax.fill_between(MN, usqr_bound, np.ones(np.size(MN)), \n",
    "#             fc='dodgerblue', ec='None', lw =0.0, alpha=0.5, label=r'all bounds')\n",
    "\n",
    "# most model independent bounds\n",
    "# ax.plot(MN, usqr_bound_inv, color='navy', lw=1)\n",
    "ax.fill_between(MN, usqr_bound_inv, np.ones(np.size(MN)), \n",
    "            fc='lightgrey', ec='None', lw =0.0, alpha=0.95)\n",
    "ax.annotate('Model\\nindependent\\nconstraints', xy=(0.0012, 0.02), rotation=0, fontsize=0.7*fsize, color='black')\n",
    "\n",
    "# MiniBooNE ROI\n",
    "plt.fill_between([0.100, 0.300], [1e-7, 1e-7], [1e-5, 1e-5], color='green', alpha=0.4)\n",
    "ax.annotate('MiniBooNE\\nROI', xy=(0.4, 4e-7), fontsize=0.7*fsize, color='green')\n",
    "\n",
    "# plot T2K constraints\n",
    "colors = ['orange', 'orange', 'orange']\n",
    "linestyles = ['-', '--', 'dotted']\n",
    "contours = {}\n",
    "for Ud4_2, linestyle, color in zip(hnl_Ud4_2_s, linestyles, colors):\n",
    "    ax.contourf(m4, Umu4_2, \n",
    "                                  t2k_hnl_constraints[Ud4_2][0], levels=[-np.inf, levels[0.9]], \n",
    "                                  colors=[color], linestyles=[linestyle], alpha=0.2)\n",
    "    contours[Ud4_2] = ax.contour(m4, Umu4_2, \n",
    "                                  t2k_hnl_constraints[Ud4_2][0], levels=[levels[0.9]], \n",
    "                                  colors=['chocolate'], linestyles=[linestyle])\n",
    "ax.legend([cntr.legend_elements()[0][0] for cntr in contours.values()], \n",
    "            [f'$|V_{{ND}}|^2$ = {Ud4_2}' if Ud4_2==1 else r'$|V_{{ND}}|^2 = 10^{'+f'{np.log10(Ud4_2):.1g}'+r'}$' for Ud4_2 in contours.keys()],\n",
    "           frameon=False,\n",
    "           loc='lower left')\n",
    "\n",
    "\n",
    "ax.set_xlim(MN_MIN,MN_MAX)\n",
    "ax.set_ylim(1e-10,1)\n",
    "ax.loglog()\n",
    "\n",
    "ax.set_yticks([1e-10, 1e-8, 1e-6, 1e-4, 1e-2, 1])\n",
    "\n",
    "ax.set_title('Preliminary', loc='right', style='italic')\n",
    "fig.savefig(f\"{save_folder}hnl_umu4sqr_vs_mn.pdf\", bbox_inches='tight', transparent=True)\n",
    "fig.savefig(f\"{save_folder}hnl_umu4sqr_vs_mn.png\", dpi=250, bbox_inches='tight', transparent=True)"
   ]
  }
 ],
 "metadata": {
  "kernelspec": {
   "display_name": "Python 3",
   "language": "python",
   "name": "python3"
  },
  "language_info": {
   "codemirror_mode": {
    "name": "ipython",
    "version": 3
   },
   "file_extension": ".py",
   "mimetype": "text/x-python",
   "name": "python",
   "nbconvert_exporter": "python",
   "pygments_lexer": "ipython3",
   "version": "3.8.5"
  }
 },
 "nbformat": 4,
 "nbformat_minor": 5
}
