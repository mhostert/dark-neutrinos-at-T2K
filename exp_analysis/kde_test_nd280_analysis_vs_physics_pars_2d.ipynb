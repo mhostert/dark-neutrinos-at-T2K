{
 "cells": [
  {
   "cell_type": "code",
   "execution_count": 1,
   "metadata": {},
   "outputs": [],
   "source": [
    "%load_ext autoreload\n",
    "%autoreload 2"
   ]
  },
  {
   "cell_type": "code",
   "execution_count": 2,
   "metadata": {},
   "outputs": [],
   "source": [
    "import os\n",
    "import matplotlib.pyplot as plt\n",
    "import numpy as np\n",
    "import pandas as pd\n",
    "import itertools\n",
    "from parameters_dict import physics_parameters\n",
    "from exp_analysis_class import exp_analysis\n",
    "from exp_analysis import gamma_heavy, gamma_heavy_integrated"
   ]
  },
  {
   "cell_type": "code",
   "execution_count": 3,
   "metadata": {},
   "outputs": [
    {
     "data": {
      "text/plain": [
       "{'m4_limits': (0.005, 1),\n",
       " 'mz_limits': (0.005, 10),\n",
       " 'm4_scan': [0.01, 0.1, 0.5],\n",
       " 'mz_scan': [0.01, 0.1, 1, 5],\n",
       " 'alpha_dark': 0.4,\n",
       " 'Umu4': 2.2e-07,\n",
       " 'epsilon2': 0.00046,\n",
       " 'alpha_em': 0.0072992700729927005,\n",
       " 'span_2d': 9.945025,\n",
       " 'Vmu4_alpha_epsilon2': 2.9547445255474454e-13}"
      ]
     },
     "execution_count": 3,
     "metadata": {},
     "output_type": "execute_result"
    }
   ],
   "source": [
    "physics_parameters['heavy']"
   ]
  },
  {
   "cell_type": "code",
   "execution_count": 4,
   "metadata": {},
   "outputs": [
    {
     "name": "stdout",
     "output_type": "stream",
     "text": [
      "/bin/bash: port_used: line 1: syntax error: unexpected end of file\n",
      "/bin/bash: error importing function definition for `BASH_FUNC_port_used'\n",
      "/bin/bash: wait_until_port_used: line 1: syntax error: unexpected end of file\n",
      "/bin/bash: error importing function definition for `BASH_FUNC_wait_until_port_used'\n",
      "/bin/bash: module: line 1: syntax error: unexpected end of file\n",
      "/bin/bash: error importing function definition for `BASH_FUNC_module'\n",
      "/bin/bash: find_port: line 1: syntax error: unexpected end of file\n",
      "/bin/bash: error importing function definition for `BASH_FUNC_find_port'\n",
      "/bin/bash: random_number: line 1: syntax error: unexpected end of file\n",
      "/bin/bash: error importing function definition for `BASH_FUNC_random_number'\n",
      "/bin/bash: helmod: line 1: syntax error: unexpected end of file\n",
      "/bin/bash: error importing function definition for `BASH_FUNC_helmod'\n",
      "/bin/bash: source_helpers: line 1: syntax error: unexpected end of file\n",
      "/bin/bash: error importing function definition for `BASH_FUNC_source_helpers'\n",
      "/bin/bash: ml: line 1: syntax error: unexpected end of file\n",
      "/bin/bash: error importing function definition for `BASH_FUNC_ml'\n",
      "/bin/bash: create_passwd: line 1: syntax error: unexpected end of file\n",
      "/bin/bash: error importing function definition for `BASH_FUNC_create_passwd'\n"
     ]
    }
   ],
   "source": [
    "case = 'heavy'\n",
    "produce_samples = False\n",
    "save_folder = ('../fig/control_checks/comparison_with_truth/' + case + '/')\n",
    "!mkdir -p $save_folder\n",
    "my_exp_analysis = exp_analysis(case)"
   ]
  },
  {
   "cell_type": "code",
   "execution_count": 5,
   "metadata": {},
   "outputs": [],
   "source": [
    "my_exp_analysis.load_df_base(1000000)"
   ]
  },
  {
   "cell_type": "code",
   "execution_count": 22,
   "metadata": {},
   "outputs": [
    {
     "name": "stdout",
     "output_type": "stream",
     "text": [
      "0.01 0.01\n",
      "ERROR! Mass spectrum not allowed.\n",
      "\n",
      "0.01 0.1\n",
      "Model used 3+1\n",
      "6221586.764186033\n",
      "\n",
      "0.01 1\n",
      "Model used 3+1\n",
      "881.5054971076404\n",
      "\n",
      "0.01 5\n",
      "Model used 3+1\n",
      "1.0299001232318477\n",
      "\n",
      "0.1 0.01\n",
      "Model used 3+1\n",
      "623528941116.2891\n",
      "\n",
      "0.1 0.1\n",
      "ERROR! Mass spectrum not allowed.\n",
      "\n",
      "0.1 1\n",
      "Model used 3+1\n",
      "891.3190218853877\n",
      "\n",
      "0.1 5\n",
      "Model used 3+1\n",
      "0.9406405991404354\n",
      "\n",
      "0.5 0.01\n",
      "Model used 3+1\n",
      "399662123.89109576\n",
      "\n",
      "0.5 0.1\n",
      "Model used 3+1\n",
      "7964821.9990316015\n",
      "\n",
      "0.5 1\n",
      "Model used 3+1\n",
      "59.38789528499492\n",
      "\n",
      "0.5 5\n",
      "Model used 3+1\n",
      "0.032270336522846534\n",
      "\n"
     ]
    }
   ],
   "source": [
    "#generation part\n",
    "if produce_samples:\n",
    "    for m4, mz_prime in itertools.product(physics_parameters[case]['m4_scan'], physics_parameters[case]['mz_scan']):\n",
    "        print(m4, mz_prime)\n",
    "        dark_gen_run = f'cd ..; python dark_gen.py --M4 {m4} --mzprime {mz_prime} '\\\n",
    "                       f'--UMU4 {physics_parameters[case][\"Umu4\"]} '\\\n",
    "                       f'--alpha_dark {physics_parameters[case][\"alpha_dark\"]} '\\\n",
    "                       f'--epsilon2 {physics_parameters[case][\"epsilon2\"]} '\\\n",
    "                       f'--neval 100000 --noplot --hierarchy {case}_mediator'\n",
    "        stream = os.popen(dark_gen_run)\n",
    "        print(stream.read())"
   ]
  },
  {
   "cell_type": "code",
   "execution_count": 23,
   "metadata": {},
   "outputs": [],
   "source": [
    "aux_gamma = []\n",
    "aux_sigma = []\n",
    "aux_n_evt = []\n",
    "for m4 in physics_parameters[case]['m4_scan']:\n",
    "    aux_gamma.append([])\n",
    "    aux_sigma.append([])\n",
    "    aux_n_evt.append([])\n",
    "    for mz in physics_parameters[case]['mz_scan']:\n",
    "        if ((case == 'heavy') and (m4 >= mz)) or ((case == 'light') and (m4 <= mz)):\n",
    "                aux_gamma[-1].append(0)\n",
    "                aux_sigma[-1].append(0)\n",
    "                aux_n_evt[-1].append(0)\n",
    "                continue\n",
    "        else:\n",
    "            df = my_exp_analysis.load_df(m4, mz)\n",
    "            aux_gamma[-1].append(df['weight_decay', ''][df['lead', '']].sum())\n",
    "            aux_sigma[-1].append(df['adjusted_weight', ''][df['lead', '']].sum())\n",
    "            aux_n_evt[-1].append(df['actual_weight', ''].sum())\n",
    "\n",
    "aux_gamma = np.array(aux_gamma)\n",
    "aux_sigma = np.array(aux_sigma)\n",
    "aux_n_evt = np.array(aux_n_evt)"
   ]
  },
  {
   "cell_type": "code",
   "execution_count": 31,
   "metadata": {},
   "outputs": [
    {
     "name": "stdout",
     "output_type": "stream",
     "text": [
      "0 0.01\n",
      "1 0.1\n",
      "2 0.5\n"
     ]
    }
   ],
   "source": [
    "# produce the gamma profile\n",
    "material = 'lead'\n",
    "mask = my_exp_analysis.df_base[material, '']\n",
    "m4_values = my_exp_analysis.df_base['m4', ''][mask].values\n",
    "mz_values = my_exp_analysis.df_base['mzprime', ''][mask].values\n",
    "weight_decay_values = my_exp_analysis.df_base['weight_decay', ''][mask].values\n",
    "\n",
    "m4_span = physics_parameters[case]['m4_scan']\n",
    "mz_span = np.linspace(*physics_parameters[case]['mz_limits'], 18)\n",
    "grid_to_eval = np.stack(np.meshgrid(m4_span, mz_span, indexing='ij'), axis=-1)\n",
    "df_values = np.stack([m4_values, mz_values], axis=-1)\n",
    "\n",
    "smoothing_pars = [0.05, 0.1]\n",
    "this_kde_weights = exp_analysis.kde_Nd_weights(grid_to_eval, df_values, smoothing=smoothing_pars)\n",
    "final_weights = this_kde_weights * weight_decay_values[:, np.newaxis, np.newaxis]\n",
    "gamma_grid = np.sum(final_weights, axis=0)\n",
    "gamma_std_grid = np.sqrt(np.sum(final_weights**2, axis=0))\n",
    "\n",
    "for i, m4 in enumerate(physics_parameters[case]['m4_scan']):\n",
    "    print(i, m4)\n",
    "    plt.plot(physics_parameters[case]['mz_scan'], aux_gamma[i], 'o', label='Generated without scanning')\n",
    "    gamma_est = gamma_grid[i]\n",
    "    gamma_std = gamma_std_grid[i]\n",
    "    plt.plot(mz_span, gamma_est, label=f'kde 2d, $k_{{m_4}}$={smoothing_pars[0]:.2g}, $k_{{m_Z}}$={smoothing_pars[1]:.2g}')\n",
    "    plt.fill_between(mz_span, gamma_est-gamma_std, gamma_est+gamma_std, alpha=0.25, color=plt.gca().lines[-1].get_color(), interpolate=True)\n",
    "\n",
    "    bins = 20\n",
    "    bin_width_m4 = 0.01\n",
    "    this_mask = (m4_values > (m4-bin_width_m4/2)) & (m4_values < (m4+bin_width_m4/2))\n",
    "    bin_range = [mz_values[this_mask].min(), mz_values[this_mask].max()]\n",
    "    \n",
    "    bin_size = (bin_range[1] - bin_range[0])/bins * bin_width_m4\n",
    "    out = plt.hist(mz_values[this_mask], bins=bins, range=bin_range,\n",
    "                weights=weight_decay_values[this_mask]/bin_size,\n",
    "                histtype='step', label='histogram')\n",
    "\n",
    "    plt.legend(frameon=False, loc='upper right')\n",
    "    plt.xlim(mz_values[this_mask].min(), mz_values[this_mask].max())\n",
    "    plt.xlabel(r\"$M_Z'$ [GeV]\")\n",
    "    plt.ylabel('Decay rate [GeV]')\n",
    "    plt.yscale('log')\n",
    "#     plt.xscale('log')\n",
    "#     plt.ylim(0, 1e-12)\n",
    "    # plt.xlim(bin_range)\n",
    "    plt.title(f'N random = {my_exp_analysis.n_evt}\\n{case} mediator, $m_4$ = {m4} GeV, only {material}')\n",
    "    plt.tight_layout()\n",
    "#     break\n",
    "    plt.savefig(save_folder+f'gamma_{material}_nevt_{my_exp_analysis.n_evt}_m4_{m4}.png', dpi=250)\n",
    "    plt.close()"
   ]
  },
  {
   "cell_type": "code",
   "execution_count": null,
   "metadata": {},
   "outputs": [],
   "source": [
    "# produce the sigma profile\n",
    "adjusted_weight = df_base['adjusted_weight', ''][mask].values\n",
    "final_weights = this_kde_weights * adjusted_weight[:, np.newaxis, np.newaxis]\n",
    "sigma_grid = np.sum(final_weights, axis=0)\n",
    "sigma_std_grid = np.sqrt(np.sum(final_weights**2, axis=0))\n",
    "\n",
    "for i, m4 in enumerate(pars[case]['m4']):\n",
    "    plt.plot(pars[case]['mz_prime'], aux_sigma[i], 'o', label='true function')\n",
    "    sigma_est = sigma_grid[i]\n",
    "    sigma_std = sigma_std_grid[i]\n",
    "    plt.plot(mz_span, sigma_est, label=f'kde 2d, $k_{{m_4}}$={smoothing_pars[0]:.2g}, $k_{{m_Z}}$={smoothing_pars[1]:.2g}')\n",
    "    plt.fill_between(mz_span, sigma_est-sigma_std, sigma_est+sigma_std, alpha=0.25, color=plt.gca().lines[-1].get_color(), interpolate=True)\n",
    "\n",
    "    bins = 20\n",
    "    bin_width_m4 = 0.02\n",
    "    this_mask = (m4_values > (m4-bin_width_m4/2)) & (m4_values < (m4+bin_width_m4/2))\n",
    "    bin_range = [mz_values[this_mask].min(), mz_values[this_mask].max()]\n",
    "    bin_span = (bin_range[1] - bin_range[0])\n",
    "    bin_span_m4 = (m4_values.max() - m4_values.min())\n",
    "    bin_width = bin_span/bins\n",
    "    additional_weight = bin_span * bin_span_m4 / bin_width / bin_width_m4\n",
    "    print(mz_values[this_mask], additional_weight, adjusted_weight[this_mask])\n",
    "    print(bins, bin_range)\n",
    "    out = plt.hist(mz_values[this_mask], bins=bins, range=bin_range,\n",
    "                weights=adjusted_weight[this_mask]*additional_weight,\n",
    "                histtype='step', label='histogram')\n",
    "\n",
    "    plt.legend(frameon=False, loc='upper right')\n",
    "    plt.xlabel(r\"$M_Z'$ [GeV]\")\n",
    "    plt.ylabel('Cross section [GeV$^{-2}$]')\n",
    "    # plt.yscale('log')\n",
    "    plt.ylim(0, 1.2*max(sigma_est))\n",
    "    # plt.xlim(bin_range)\n",
    "    plt.title(f'N random = {n_evt}\\n{case} mediator, $m_4$ = {m4} GeV, only {material}')\n",
    "    plt.tight_layout()\n",
    "    plt.savefig(save_folder+f'sigma_{material}_nevt_{n_evt}_m4_{m4}.png', dpi=250)\n",
    "    plt.close()"
   ]
  },
  {
   "cell_type": "code",
   "execution_count": null,
   "metadata": {},
   "outputs": [],
   "source": [
    "# produce the n_evt profile at different stages in the selection\n",
    "actual_weight = df_base['actual_weight', ''][mask].values\n",
    "final_weights = this_kde_weights * actual_weight[:, np.newaxis, np.newaxis]\n",
    "n_event_grid = np.sum(final_weights, axis=0)\n",
    "n_event_std_grid = np.sqrt(np.sum(final_weights**2, axis=0))\n",
    "\n",
    "ctau = 25\n",
    "for mask in ['trivial', 'selected', f'decay_in_tpc_{ctau}', f'total_selected_{ctau}']:\n",
    "    for i, m4 in enumerate(pars[case]['m4']):\n",
    "        plt.plot(pars[case]['mz_prime'], aux_n_evt[i], 'o', label='true function')\n",
    "        n_event_est = n_event_grid[i]\n",
    "        n_event_std = n_event_std_grid[i]\n",
    "        plt.plot(mz_span, n_event_est, label=f'kde 2d, $k_{{m_4}}$={smoothing_pars[0]:.2g}, $k_{{m_Z}}$={smoothing_pars[1]:.2g}')\n",
    "        plt.fill_between(mz_span, n_event_est-n_event_std, n_event_est+n_event_std, alpha=0.25, color=plt.gca().lines[-1].get_color(), interpolate=True)\n",
    "\n",
    "        bins = 20\n",
    "        bin_width_m4 = 0.02\n",
    "        this_mask = (m4_values > (m4-bin_width_m4/2)) & (m4_values < (m4+bin_width_m4/2))\n",
    "        bin_range = [mz_values[this_mask].min(), mz_values[this_mask].max()]\n",
    "        bin_span = (bin_range[1] - bin_range[0])\n",
    "        bin_span_m4 = (m4_values.max() - m4_values.min())\n",
    "        bin_width = bin_span/bins\n",
    "        additional_weight = bin_span * bin_span_m4 / bin_width / bin_width_m4\n",
    "        out = plt.hist(mz_values[this_mask], bins=bins, range=bin_range,\n",
    "                    weights=actual_weight[this_mask]*additional_weight,\n",
    "                    histtype='step', label='histogram')\n",
    "\n",
    "        plt.legend(frameon=False, loc='upper right')\n",
    "        plt.xlabel(r\"$M_Z'$ [GeV]\")\n",
    "        plt.ylabel('Expected number of entries')\n",
    "        # plt.yscale('log')\n",
    "        # plt.ylim(0, 1e-7)\n",
    "        # plt.xlim(bin_range)\n",
    "        plt.title(f'N random = {n_evt}\\n{case} mediator, $m_4$ = {m4} GeV, only {material}')\n",
    "        plt.tight_layout()\n",
    "        plt.savefig(save_folder+f'mask_{mask}_nevt_{n_evt}_m4_{m4}.png', dpi=250)\n",
    "        plt.close()"
   ]
  },
  {
   "cell_type": "code",
   "execution_count": null,
   "metadata": {},
   "outputs": [],
   "source": []
  }
 ],
 "metadata": {
  "kernelspec": {
   "display_name": "Python [conda env:dark_nus]",
   "language": "python",
   "name": "conda-env-dark_nus-py"
  },
  "language_info": {
   "codemirror_mode": {
    "name": "ipython",
    "version": 3
   },
   "file_extension": ".py",
   "mimetype": "text/x-python",
   "name": "python",
   "nbconvert_exporter": "python",
   "pygments_lexer": "ipython3",
   "version": "3.9.1"
  }
 },
 "nbformat": 4,
 "nbformat_minor": 4
}
