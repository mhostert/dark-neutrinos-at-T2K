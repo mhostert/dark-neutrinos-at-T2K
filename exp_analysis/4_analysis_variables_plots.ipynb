{
 "cells": [
  {
   "cell_type": "markdown",
   "metadata": {},
   "source": [
    "# This notebook provides a slider to compare different physics parameters"
   ]
  },
  {
   "cell_type": "code",
   "execution_count": 1,
   "metadata": {},
   "outputs": [],
   "source": [
    "%load_ext autoreload\n",
    "%autoreload 2"
   ]
  },
  {
   "cell_type": "code",
   "execution_count": 2,
   "metadata": {},
   "outputs": [
    {
     "name": "stdout",
     "output_type": "stream",
     "text": [
      "0.0009866349020787781\n"
     ]
    }
   ],
   "source": [
    "import matplotlib.pyplot as plt\n",
    "from matplotlib.legend_handler import HandlerLine2D, HandlerTuple\n",
    "import numpy as np\n",
    "import pandas as pd\n",
    "\n",
    "import seaborn as sns\n",
    "\n",
    "from scipy.interpolate import griddata\n",
    "\n",
    "from ipywidgets import interact, interactive, fixed, interact_manual, FloatSlider, Dropdown\n",
    "import ipywidgets as widgets\n",
    "\n",
    "from parameters_dict import physics_parameters\n",
    "from dark_nus_utils import load_datasets\n",
    "from plot_utils import kde_variable_plot\n",
    "\n",
    "from const import alphaQED"
   ]
  },
  {
   "cell_type": "code",
   "execution_count": 3,
   "metadata": {},
   "outputs": [],
   "source": [
    "from matplotlib import rc, rcParams\n",
    "## Plot the parameter space\n",
    "fsize = 12\n",
    "rcParams['text.usetex'] = False\n",
    "rcParams['font.family'] = 'serif'\n",
    "rcParams['font.serif'] = ['Computer Modern Roman', 'serif']\n",
    "rcParams['figure.figsize'] = (1.2*3.7,1.2*2.3617)\n",
    "# rcParams['lines.linewidth'] = 1.0\n",
    "rcParams['hatch.linewidth'] = 0.3\n",
    "# rcParams['axes.linewidth'] = 0.4\n",
    "rcParams['axes.labelsize'] = fsize\n",
    "# rcParams['xtick.direction'] = 'in'\n",
    "# rcParams['xtick.major.width'] = 0.4\n",
    "# rcParams['xtick.minor.width'] = 0.4\n",
    "rcParams['xtick.labelsize'] = fsize\n",
    "# rcParams['ytick.direction'] = 'in'\n",
    "# rcParams['ytick.major.width'] = 0.4\n",
    "# rcParams['ytick.minor.width'] = 0.4\n",
    "rcParams['ytick.labelsize'] = fsize\n",
    "rcParams['legend.frameon'] = False\n",
    "rcParams['legend.fontsize'] = 0.8*fsize\n",
    "rcParams['legend.loc'] = 'lower right'\n",
    "rcParams[\"text.latex.preamble\"] = r'''\n",
    "    \\usepackage{amsmath,amssymb,amsthm}\n",
    "    \\usepackage{siunitx}\n",
    "'''"
   ]
  },
  {
   "cell_type": "code",
   "execution_count": 4,
   "metadata": {},
   "outputs": [],
   "source": [
    "hierarchy = 'light'\n",
    "D_or_M = 'majorana'\n",
    "save_folder = (f'../fig/4_analysis_variables_plots/{hierarchy}_{D_or_M}/')\n",
    "!mkdir -p $save_folder"
   ]
  },
  {
   "cell_type": "markdown",
   "metadata": {},
   "source": [
    "## Use this to load the datasets in the usual way and dump them in pickle files"
   ]
  },
  {
   "cell_type": "code",
   "execution_count": 5,
   "metadata": {},
   "outputs": [],
   "source": [
    "# my_exp_analyses = load_datasets(hierarchy, D_or_M, dump=True, timeit=True)"
   ]
  },
  {
   "cell_type": "markdown",
   "metadata": {},
   "source": [
    "## Use the function this way to load the datasets from the pickle files"
   ]
  },
  {
   "cell_type": "code",
   "execution_count": 5,
   "metadata": {},
   "outputs": [
    {
     "name": "stdout",
     "output_type": "stream",
     "text": [
      "light majorana\n",
      "Wall time: 79.19432473182678 s, CPU time: 2.635385784\n"
     ]
    }
   ],
   "source": [
    "my_exp_analyses = load_datasets(hierarchy, D_or_M, timeit=True, direct_load_objects=True)"
   ]
  },
  {
   "cell_type": "markdown",
   "metadata": {},
   "source": [
    "## Study the simulation of the geometry"
   ]
  },
  {
   "cell_type": "code",
   "execution_count": null,
   "metadata": {},
   "outputs": [],
   "source": [
    "ctaus = [1, 10, 100]"
   ]
  },
  {
   "cell_type": "code",
   "execution_count": null,
   "metadata": {},
   "outputs": [],
   "source": [
    "for key, exp_analysis in my_exp_analyses.items():\n",
    "    exp_analysis.decay_in_tpc(exp_analysis.df_base, ctaus)\n",
    "    for ctau in ctaus:\n",
    "        print(ctau)\n",
    "        sns.pairplot(exp_analysis.df_base.query(f'decay_in_tpc_{ctau}').sample(2000), vars=['int_point_x', 'int_point_y', 'int_point_z',\n",
    "                               f'decay_point_{ctau}_x', f'decay_point_{ctau}_y', f'decay_point_{ctau}_z',],)\n",
    "#                      hue='material')\n",
    "        plt.suptitle(key.replace('_', ' ') + f'$c\\tau$ = {ctau} cm')\n",
    "        plt.savefig(save_folder + f'geometry_2d_plot_ctau_{ctau}.pdf', bbox_inches='tight')\n",
    "        plt.close()"
   ]
  },
  {
   "cell_type": "markdown",
   "metadata": {},
   "source": [
    "## Study N events vs ctau"
   ]
  },
  {
   "cell_type": "code",
   "execution_count": null,
   "metadata": {},
   "outputs": [],
   "source": [
    "from ctau_utils import ctau_heavy\n",
    "BP = {'m4': 0.12, 'mz': 1.25}"
   ]
  },
  {
   "cell_type": "code",
   "execution_count": null,
   "metadata": {},
   "outputs": [],
   "source": [
    "epsilons = np.geomspace(5e-5, 1e-1, 50)\n",
    "Ud4_2s = [1, 1e-2, 1e-4]"
   ]
  },
  {
   "cell_type": "code",
   "execution_count": null,
   "metadata": {},
   "outputs": [],
   "source": [
    "exp_analysis = my_exp_analyses[hierarchy + '_' + D_or_M]"
   ]
  },
  {
   "cell_type": "code",
   "execution_count": null,
   "metadata": {},
   "outputs": [],
   "source": [
    "exp_analysis.kde_n_events(exp_analysis.df_base, (BP['m4'], BP['mz']))"
   ]
  },
  {
   "cell_type": "code",
   "execution_count": null,
   "metadata": {},
   "outputs": [],
   "source": [
    "ctau = ctau_heavy(BP['m4'], BP['mz'], 0.01 * exp_analysis.alpha_dark * alphaQED * exp_analysis.epsilon2, D_or_M)\n",
    "exp_analysis.kde_n_events(exp_analysis.df_base, (BP['m4'], BP['mz']), ctau=ctau)"
   ]
  },
  {
   "cell_type": "code",
   "execution_count": null,
   "metadata": {},
   "outputs": [],
   "source": [
    "# compute nevents\n",
    "n_events_base = []\n",
    "for epsilon in epsilons:\n",
    "    n_events_base.append(exp_analysis.kde_n_events(exp_analysis.df_base, \n",
    "                                                   (BP['m4'], BP['mz']), \n",
    "                                                   mu=epsilon**2/exp_analysis.epsilon2)[0])\n",
    "n_events_decay = {}\n",
    "ctaus_ud4 = {}\n",
    "for Ud4_2 in Ud4_2s: \n",
    "    n_events_decay[Ud4_2] = []\n",
    "    ctaus_ud4[Ud4_2] = []\n",
    "    for epsilon in epsilons:\n",
    "        Valpha4_alphaepsilon2 = Ud4_2 * exp_analysis.alpha_dark * alphaQED * epsilon**2\n",
    "        ctau = ctau_heavy(BP['m4'], BP['mz'], Valpha4_alphaepsilon2, D_or_M)\n",
    "        ctaus_ud4[Ud4_2].append(ctau)\n",
    "        n_events_decay[Ud4_2].append(exp_analysis.kde_n_events(exp_analysis.df_base, \n",
    "                                                   (BP['m4'], BP['mz']), \n",
    "                                                   ctau=ctau,\n",
    "                                                   mu=epsilon**2/exp_analysis.epsilon2)[0])"
   ]
  },
  {
   "cell_type": "code",
   "execution_count": null,
   "metadata": {},
   "outputs": [],
   "source": [
    "# compute efficiency vs ctau\n",
    "ctaus = np.geomspace(1e-3, 1e8, 50)\n",
    "eff_vs_ctau = []\n",
    "n_events_no_geom = exp_analysis.kde_n_events(exp_analysis.df_base, (BP['m4'], BP['mz']))[0]\n",
    "for ctau in ctaus:\n",
    "    eff_vs_ctau.append(exp_analysis.kde_n_events(exp_analysis.df_base,\n",
    "                                                   (BP['m4'], BP['mz']),\n",
    "                                                   ctau=ctau)[0]/n_events_no_geom)"
   ]
  },
  {
   "cell_type": "code",
   "execution_count": null,
   "metadata": {},
   "outputs": [],
   "source": [
    "color_ctau = 'C0'\n",
    "color_rate = 'chocolate'\n",
    "fig, ax = plt.subplots(ncols=2,\n",
    "                       nrows=1,\n",
    "#                        figsize=(4.44, 3.2),\n",
    "                       sharey='none',\n",
    "                       gridspec_kw={'width_ratios':[3, 1]})\n",
    "\n",
    "up_scattering_rate_line, = ax[0].plot(epsilons, n_events_base, label='Upscattering rate', color='black')\n",
    "ax2 = ax[0].twinx()\n",
    "ax[1].get_shared_y_axes().join(ax[1], ax2)\n",
    "fig.subplots_adjust(wspace=0)\n",
    "\n",
    "ax[0].loglog()  \n",
    "ax[0].set_ylim(bottom=0.1)\n",
    "ax[0].set_xlim(3e-5, 2e-1)\n",
    "\n",
    "ax[0].set_xlabel('$\\epsilon$')\n",
    "ax[0].set_ylabel('N events', color=color_rate)\n",
    "ax[0].tick_params(axis='y', colors=color_rate, which='both')\n",
    "ax2.spines['left'].set_color(color_rate) \n",
    "\n",
    "ax[1].loglog()\n",
    "ax[1].set_xlim(9e-5, 1)\n",
    "ax2.set_yticks([])\n",
    "ax2.set_yticklabels([])\n",
    "ax2.spines['top'].set_visible(False)\n",
    "ax[0].spines['top'].set_visible(False)\n",
    "\n",
    "ax[1].yaxis.tick_right()\n",
    "ax[1].tick_params(axis='y', colors=color_ctau)\n",
    "ax[1].yaxis.set_label_position(\"right\")\n",
    "ax[1].spines['right'].set_color(color_ctau)  \n",
    "ax[1].set_ylabel(r'$c \\tau$ [cm]', color=color_ctau)\n",
    "ax[1].set_xticks([1e-3, 1e-1])\n",
    "ax[1].set_xlabel('Geometric\\nacceptance')\n",
    "ax[1].spines['top'].set_visible(False)\n",
    "\n",
    "linestyles = ['-', '--', 'dotted', '-.']\n",
    "rate_lines = {}\n",
    "ctau_lines = {}\n",
    "for Ud4_2, linestyle in zip(Ud4_2s, linestyles): \n",
    "    rate_lines[Ud4_2], = ax[0].plot(epsilons, n_events_decay[Ud4_2], \n",
    "                      color=color_rate, linestyle=linestyle)\n",
    "    ctau_lines[Ud4_2], = ax2.plot(epsilons, ctaus_ud4[Ud4_2], '--', color=color_ctau, linestyle=linestyle)\n",
    "    \n",
    "ax[0].legend([up_scattering_rate_line] + list(zip(rate_lines.values(), ctau_lines.values())),\n",
    "             ['Upscattering rate'] + [f'$|V_{{ND}}|^2$ = {Ud4_2}' if Ud4_2==1 else r'$|V_{{ND}}|^2 = 10^{'+f'{np.log10(Ud4_2):.1g}'+r'}$'\n",
    "              for Ud4_2 in Ud4_2s],\n",
    "             frameon=False, loc=(0.3, 0.78), \n",
    "             numpoints=1,\n",
    "             handler_map={tuple: HandlerTuple(ndivide=None)})\n",
    "\n",
    "ax[1].plot(eff_vs_ctau, ctaus, color='black')\n",
    "plt.savefig(save_folder + 'n_events_vs_ctau.pdf', bbox_inches='tight', transparent=True)\n",
    "plt.savefig(save_folder + 'n_events_vs_ctau.png', dpi=250, bbox_inches='tight', transparent=True)"
   ]
  },
  {
   "cell_type": "markdown",
   "metadata": {},
   "source": [
    "## Slider for physics distributions"
   ]
  },
  {
   "cell_type": "code",
   "execution_count": null,
   "metadata": {},
   "outputs": [],
   "source": [
    "@interact(var=widgets.Dropdown(\n",
    "                options=list(my_exp_analysis.df_base.columns.to_frame().loc[:, 0].values),\n",
    "                description='Variable:',\n",
    "                disabled=False,\n",
    "            ),\n",
    "          bins=widgets.IntSlider(min=1, max=50, step=1, value=10, continuous_update=False),\n",
    "          hist_range=widgets.FloatRangeSlider(\n",
    "                value=[0, 5],\n",
    "                min=0,\n",
    "                max=1e10,\n",
    "                step=0.1,\n",
    "                disabled=False,\n",
    "                continuous_update=False,\n",
    "                orientation='horizontal',\n",
    "                readout=True,\n",
    "                readout_format='.1f',\n",
    "            ),\n",
    "          m4=widgets.FloatSlider(min=0.005, max=1, step=0.025, value=0.3, continuous_update=False), \n",
    "          mz=widgets.FloatSlider(min=0.005, max=10, step=0.005, value=2, continuous_update=False), \n",
    "          ctau=widgets.FloatLogSlider(\n",
    "                base=10,\n",
    "                min=-2, # max exponent of base\n",
    "                max=3, # min exponent of base\n",
    "                step=0.2, # exponent step\n",
    "                value=25,\n",
    "            ),\n",
    "          kernel=widgets.Dropdown(\n",
    "                options=['epa', 'gaus'],\n",
    "                description='Kernel type:',\n",
    "                disabled=False,\n",
    "            ),\n",
    "          smooth_m4=widgets.FloatSlider(min=0.001, max=0.5, step=0.001, value=0.03, continuous_update=False), \n",
    "          smooth_mz=widgets.FloatSlider(min=0.001, max=0.5, step=0.001, value=0.005, continuous_update=False), \n",
    "          selection_step=widgets.RadioButtons(\n",
    "                options=['no_selection', 'cut_based', 'geometric', 'geometric_cut_based'],\n",
    "                value='no_selection',\n",
    "                description='selection:',\n",
    "            ),\n",
    "          df=fixed(my_exp_analysis.df_base),\n",
    "         exp_analysis = fixed(my_exp_analysis))\n",
    "\n",
    "def output_distrib(exp_analysis, df, var, bins, hist_range, m4, mz, ctau, kernel, smooth_m4, smooth_mz, selection_step):\n",
    "    \n",
    "    m4_values = df['m4'].values\n",
    "    mz_values = df['mzprime'].values\n",
    "    df_values = np.stack([m4_values, mz_values], axis=-1)\n",
    "    this_kde_weights = exp_analysis.kde_Nd_weights(np.array([m4, mz]), df_values, smoothing=[smooth_m4, smooth_mz])\n",
    "    weight_values = this_kde_weights * df['actual_weight'].values\n",
    "\n",
    "    if selection_step == 'no_selection':\n",
    "        pass\n",
    "    if 'cut_based' in selection_step:\n",
    "        weight_values *= df['cut_based'].values\n",
    "    if 'geometric' in selection_step:\n",
    "        exp_analysis.decay_in_tpc(df, ctau)\n",
    "        weight_values *= df[f'decay_in_tpc_{ctau}']\n",
    "\n",
    "    plt.hist(df[var],\n",
    "             range=hist_range,\n",
    "             bins=bins,\n",
    "             weights=weight_values,\n",
    "             histtype='step',\n",
    "             label=f'kde2D, from $m_4$ in [{m4_values.min():.2g}, {m4_values.max():.2g}], $m_Z$ in [{mz_values.min():.2g}, {mz_values.max():.2g}]\\nexpected events = {weight_values.sum():.1f}')\n",
    "    plt.ylim(bottom=0)\n",
    "    plt.xlabel(f\"{var}\")\n",
    "    plt.ylabel(f\"Expected number of entries / {(hist_range[1]-hist_range[0])/bins:.2g}\")\n",
    "    plt.title(f\"$m_4$ = {m4:.2g} GeV, $m_Z$ = {mz:.2g} GeV, $c\\\\tau$ = {ctau:.2g} cm\\n$\\sigma_{{m_4}}$ = {smooth_m4:.2g} GeV, $\\sigma_{{m_Z}}$ = {smooth_mz:.2g} GeV\\nselection step = {selection_step}, expected events = {weight_values.sum():.1f}\")\n",
    "    return weight_values.sum()"
   ]
  },
  {
   "cell_type": "markdown",
   "metadata": {},
   "source": [
    "## Distribution of events throughout detector"
   ]
  },
  {
   "cell_type": "code",
   "execution_count": null,
   "metadata": {},
   "outputs": [],
   "source": [
    "ctau = 20\n",
    "m4 = 0.1\n",
    "mz = 1.25\n",
    "\n",
    "m4_values = my_exp_analysis.df_base['m4'].values\n",
    "mz_values = my_exp_analysis.df_base['mzprime'].values\n",
    "df_values = np.stack([m4_values, mz_values], axis=-1)\n",
    "smooth_m4, smooth_mz = 0.005, 0.05\n",
    "this_kde_weights = my_exp_analysis.kde_Nd_weights(np.array([m4, mz]), df_values, smoothing=[smooth_m4, smooth_mz])\n",
    "\n",
    "variable_1 = ('int_point_y')\n",
    "variable_2 = ('int_point_z')\n",
    "selection_step = 'no_selection'\n",
    "        \n",
    "my_exp_analysis.decay_in_tpc(my_exp_analysis.df_base, ctau)\n",
    "\n",
    "if selection_step not in 'no_selection':\n",
    "    weight_values = this_kde_weights *\\\n",
    "                my_exp_analysis.df_base['actual_weight'].values *\\\n",
    "                my_exp_analysis.df_base[selection_step].values *\\\n",
    "                my_exp_analysis.df_base[f'decay_in_tpc_{ctau}'].values\n",
    "else:\n",
    "    weight_values = this_kde_weights *\\\n",
    "                my_exp_analysis.df_base['actual_weight'].values *\\\n",
    "                my_exp_analysis.df_base[f'decay_in_tpc_{ctau}'].values        \n"
   ]
  },
  {
   "cell_type": "code",
   "execution_count": null,
   "metadata": {},
   "outputs": [],
   "source": [
    "x,y = my_exp_analysis.df_base[variable_1], my_exp_analysis.df_base[variable_2]\n",
    "points = np.array([x,y]).T\n",
    "grid_x, grid_y = np.mgrid[np.min(x):np.max(x):10j, np.min(y):np.max(y):20j]\n",
    "grid_z0 = griddata(points, weight_values, (grid_x, grid_y), method='linear')"
   ]
  },
  {
   "cell_type": "code",
   "execution_count": null,
   "metadata": {},
   "outputs": [],
   "source": [
    "x,y,z = my_exp_analysis.df_base['int_point_x'], my_exp_analysis.df_base['int_point_y'], my_exp_analysis.df_base['int_point_z']"
   ]
  },
  {
   "cell_type": "code",
   "execution_count": null,
   "metadata": {},
   "outputs": [],
   "source": [
    "plt.scatter(x,z,c=weight_values)"
   ]
  },
  {
   "cell_type": "code",
   "execution_count": null,
   "metadata": {},
   "outputs": [],
   "source": [
    "plt.imshow(grid_z0, origin='lower')\n",
    "\n",
    "# plt.scatter(x,y,c=)\n",
    "\n",
    "plt.legend(frameon=False)\n",
    "plt.xlabel(f'{variable_1} (cm)')\n",
    "plt.ylabel(f'{variable_2} (cm)')"
   ]
  },
  {
   "cell_type": "markdown",
   "metadata": {},
   "source": [
    "# Event rate in the light case in the FGD"
   ]
  },
  {
   "cell_type": "code",
   "execution_count": 7,
   "metadata": {},
   "outputs": [],
   "source": [
    "from parameters_dict import *"
   ]
  },
  {
   "cell_type": "code",
   "execution_count": 8,
   "metadata": {},
   "outputs": [],
   "source": [
    "selection = 'carbon'\n",
    "exp_analysis = my_exp_analyses['light_majorana']\n",
    "m4mz = (0.1, 0.03)\n",
    "smoothing_pars = [0.1, 0.1]\n",
    "mu = 0.25 * 8e-9 / exp_analysis.alpha_dark / exp_analysis.Umu4\n",
    "mass_ratio = 1848.6 * 1e-9 * 184**2  * 15 / mass_material[selection]"
   ]
  },
  {
   "cell_type": "code",
   "execution_count": 9,
   "metadata": {},
   "outputs": [
    {
     "data": {
      "text/plain": [
       "(0.0, 29.34573481968772)"
      ]
     },
     "execution_count": 9,
     "metadata": {},
     "output_type": "execute_result"
    },
    {
     "name": "stderr",
     "output_type": "stream",
     "text": [
      "findfont: Font family ['serif'] not found. Falling back to DejaVu Sans.\n",
      "findfont: Font family ['serif'] not found. Falling back to DejaVu Sans.\n"
     ]
    },
    {
     "data": {
      "image/png": "[encoded data removed]",
      "text/plain": [
       "<Figure size 319.68x204.051 with 1 Axes>"
      ]
     },
     "metadata": {
      "needs_background": "light"
     },
     "output_type": "display_data"
    }
   ],
   "source": [
    "kde_variable_plot(var='ee_mass', \n",
    "                  range=[0, 0.05], \n",
    "                  bins=50,\n",
    "                  m4mz=m4mz,\n",
    "                  exp_analysis_obj=exp_analysis,\n",
    "                  smoothing_pars=smoothing_pars,\n",
    "                  selection_query=selection,\n",
    "                  additional_scaling=mu*mass_ratio)\n",
    "plt.xlim(left=0)\n",
    "plt.ylim(bottom=0)"
   ]
  },
  {
   "cell_type": "code",
   "execution_count": 13,
   "metadata": {},
   "outputs": [
    {
     "data": {
      "text/plain": [
       "(0.0, 0.8706491813249865)"
      ]
     },
     "execution_count": 13,
     "metadata": {},
     "output_type": "execute_result"
    },
    {
     "data": {
      "image/png": "[encoded data removed]",
      "text/plain": [
       "<Figure size 319.68x204.051 with 1 Axes>"
      ]
     },
     "metadata": {
      "needs_background": "light"
     },
     "output_type": "display_data"
    }
   ],
   "source": [
    "kde_variable_plot(var='em_energy', \n",
    "                  range=[0, 1.5], \n",
    "                  bins=50, \n",
    "                  m4mz=m4mz, \n",
    "                  exp_analysis_obj=exp_analysis, \n",
    "                  smoothing_pars=smoothing_pars, \n",
    "                  selection_query=selection,\n",
    "                  additional_scaling=mu*mass_ratio)\n",
    "plt.xlim(left=0)\n",
    "plt.ylim(bottom=0)"
   ]
  },
  {
   "cell_type": "code",
   "execution_count": 9,
   "metadata": {},
   "outputs": [
    {
     "data": {
      "text/plain": [
       "(0.0, 452.89945255324636)"
      ]
     },
     "execution_count": 9,
     "metadata": {},
     "output_type": "execute_result"
    },
    {
     "name": "stderr",
     "output_type": "stream",
     "text": [
      "findfont: Font family ['serif'] not found. Falling back to DejaVu Sans.\n",
      "findfont: Font family ['serif'] not found. Falling back to DejaVu Sans.\n"
     ]
    },
    {
     "data": {
      "image/png": "[encoded data removed]",
      "text/plain": [
       "<Figure size 319.68x204.051 with 1 Axes>"
      ]
     },
     "metadata": {
      "needs_background": "light"
     },
     "output_type": "display_data"
    }
   ],
   "source": [
    "kde_variable_plot(var='em_energy', \n",
    "                  range=[0, 1.5], \n",
    "                  bins=50, \n",
    "                  m4mz=m4mz, \n",
    "                  exp_analysis_obj=exp_analysis, \n",
    "                  smoothing_pars=smoothing_pars, \n",
    "                  selection_query='lead',\n",
    "                  additional_scaling=mu*0.5)\n",
    "plt.xlim(left=0)\n",
    "plt.ylim(bottom=0)"
   ]
  },
  {
   "cell_type": "code",
   "execution_count": 25,
   "metadata": {},
   "outputs": [],
   "source": [
    "selection = 'carbon'\n",
    "exp_analysis = my_exp_analyses['light_majorana']\n",
    "m4mz = (0.2, 0.1)\n",
    "smoothing_pars = [0.1, 0.1]\n",
    "mu = 0.25 * 8e-9 / exp_analysis.alpha_dark / exp_analysis.Umu4\n",
    "mass_ratio = 1848.6 * 1e-9 * 184**2  * 15 / mass_material[selection]"
   ]
  },
  {
   "cell_type": "code",
   "execution_count": 36,
   "metadata": {},
   "outputs": [],
   "source": [
    "m4_s = np.asarray([0.1, 0.25, 0.42])\n",
    "mz_s = np.linspace(0.005, 0.195, 20)"
   ]
  },
  {
   "cell_type": "code",
   "execution_count": 39,
   "metadata": {},
   "outputs": [],
   "source": [
    "m4_mu = {}\n",
    "m4_sigma2 = {}\n",
    "for m4 in m4_s:\n",
    "    m4_mu[m4] = []\n",
    "    m4_sigma2[m4] = []\n",
    "    for mz in mz_s:\n",
    "        kde_weights = exp_analysis.kde_on_a_point(exp_analysis.df_base.query('carbon'),\n",
    "                                                  this_m4mz=(m4, mz),\n",
    "                                                  smoothing=smoothing_pars) * mu * mass_ratio\n",
    "        m4_mu[m4].append(kde_weights.sum())\n",
    "        m4_sigma2[m4].append((kde_weights**2).sum())"
   ]
  },
  {
   "cell_type": "code",
   "execution_count": 41,
   "metadata": {},
   "outputs": [
    {
     "data": {
      "text/plain": [
       "Text(0.5, 1.0, 'BP-L2, carbon only in the FGD\\nno selection, 2e20 POT')"
      ]
     },
     "execution_count": 41,
     "metadata": {},
     "output_type": "execute_result"
    },
    {
     "data": {
      "image/png": "[encoded data removed]",
      "text/plain": [
       "<Figure size 319.68x204.051 with 1 Axes>"
      ]
     },
     "metadata": {
      "needs_background": "light"
     },
     "output_type": "display_data"
    }
   ],
   "source": [
    "for m4 in m4_s:\n",
    "    aux_line = plt.plot(mz_s, m4_mu[m4], label=f'$m_4$ = {m4} GeV')\n",
    "    plt.fill_between(mz_s, m4_mu[m4]-np.sqrt(m4_sigma2[m4]),\n",
    "                           m4_mu[m4]+np.sqrt(m4_sigma2[m4]),\n",
    "                    color=aux_line[0].get_color(), alpha=0.3)\n",
    "    \n",
    "plt.ylabel('expected number of events')\n",
    "plt.xlabel('$m_Z$ [GeV]')\n",
    "plt.yscale('log')\n",
    "plt.legend(loc='upper right')\n",
    "plt.title('BP-L2, carbon only in the FGD\\nno selection, 2e20 POT')"
   ]
  },
  {
   "cell_type": "markdown",
   "metadata": {},
   "source": [
    "# Event rate in the light case in the last sheet of lead"
   ]
  },
  {
   "cell_type": "code",
   "execution_count": 18,
   "metadata": {},
   "outputs": [],
   "source": [
    "from parameters_dict import *"
   ]
  },
  {
   "cell_type": "code",
   "execution_count": 19,
   "metadata": {},
   "outputs": [],
   "source": [
    "selection = 'lead & cut_based'\n",
    "exp_analysis = my_exp_analyses['light_majorana']\n",
    "m4mz = (0.1, 0.03)\n",
    "smoothing_pars = [0.1, 0.1]\n",
    "mu = 0.25 * 8e-9 / exp_analysis.alpha_dark / exp_analysis.Umu4\n",
    "mass_ratio = 1/14 * 0.1"
   ]
  },
  {
   "cell_type": "code",
   "execution_count": 21,
   "metadata": {},
   "outputs": [],
   "source": [
    "selection = 'lead'\n",
    "mass_ratio = 1/14"
   ]
  },
  {
   "cell_type": "code",
   "execution_count": 22,
   "metadata": {},
   "outputs": [
    {
     "data": {
      "text/plain": [
       "(0.0, 64.69992179332084)"
      ]
     },
     "execution_count": 22,
     "metadata": {},
     "output_type": "execute_result"
    },
    {
     "data": {
      "image/png": "[encoded data removed]",
      "text/plain": [
       "<Figure size 319.68x204.051 with 1 Axes>"
      ]
     },
     "metadata": {
      "needs_background": "light"
     },
     "output_type": "display_data"
    }
   ],
   "source": [
    "kde_variable_plot(var='em_energy', \n",
    "                  range=[0, 1.5], \n",
    "                  bins=50, \n",
    "                  m4mz=m4mz, \n",
    "                  exp_analysis_obj=exp_analysis, \n",
    "                  smoothing_pars=smoothing_pars, \n",
    "                  selection_query=selection,\n",
    "                  additional_scaling=mu*mass_ratio)\n",
    "plt.xlim(left=0)\n",
    "plt.ylim(bottom=0)"
   ]
  },
  {
   "cell_type": "markdown",
   "metadata": {},
   "source": [
    "## Event rate vs ee energy for different ctaus"
   ]
  },
  {
   "cell_type": "code",
   "execution_count": null,
   "metadata": {},
   "outputs": [],
   "source": [
    "import matplotlib.pyplot as plt\n",
    "from matplotlib import rc, rcParams\n",
    "from matplotlib.pyplot import *\n",
    "from matplotlib.patches import FancyArrowPatch"
   ]
  },
  {
   "cell_type": "code",
   "execution_count": null,
   "metadata": {},
   "outputs": [],
   "source": [
    "def plot_var_postsel_and_cut(myexp, variable, m4, mz, ctaus, \\\n",
    "                             selection_step='no_cuts', \n",
    "                             smooth_m4=0.005, \n",
    "                             smooth_mz=0.05, \n",
    "                             label_x='x',\n",
    "                             bins=10,\n",
    "                             xrange=(0,5),\n",
    "                             colors=None,\n",
    "                             left_cut=None,\n",
    "                             right_cut=None,\n",
    "                             normed=False):\n",
    "    \n",
    "    fsize=11\n",
    "    rc('text', usetex=True)\n",
    "    plt.rcParams['text.latex.preamble'] = [\n",
    "    r'\\usepackage{amsmath}',\n",
    "    r'\\usepackage{amssymb}']\n",
    "    params={'axes.labelsize':fsize,'xtick.labelsize':fsize,'ytick.labelsize':fsize,\\\n",
    "                'figure.figsize':(1.5*3,1.5*2.4)\t}\n",
    "    rc('font',**{'family':'serif', 'serif': ['computer modern roman']})\n",
    "    plt.rcParams['hatch.linewidth'] = 0.3\n",
    "    rcParams.update(params)\n",
    "    axes_form  = [0.14,0.17,0.82,0.74]\n",
    "    fig = plt.figure()\n",
    "    ax = fig.add_axes(axes_form)\n",
    "        \n",
    "    m4_values = myexp.df_base['m4'].values\n",
    "    mz_values = myexp.df_base['mzprime'].values\n",
    "    \n",
    "    df_values = np.stack([m4_values, mz_values], axis=-1)\n",
    "    \n",
    "    this_kde_weights = myexp.kde_Nd_weights(np.array([m4, mz]), df_values, smoothing=[smooth_m4, smooth_mz])\n",
    "\n",
    "    myexp.decay_in_tpc(myexp.df_base, ctaus)\n",
    "    \n",
    "    for ctau in ctaus:\n",
    "        weight_values = this_kde_weights *\\\n",
    "                        myexp.df_base['actual_weight'].values *\\\n",
    "                        myexp.df_base[selection_step].values *\\\n",
    "                        myexp.df_base[f'decay_in_tpc_{ctau}'].values\n",
    "\n",
    "        if colors is not None:\n",
    "            color=colors[ctaus.index(ctau)]\n",
    "        else:\n",
    "            color='black'\n",
    "            \n",
    "        out = plt.hist(myexp.df_base[variable], \n",
    "                       bins=bins, \n",
    "                       range=xrange,\n",
    "                       weights=weight_values, \n",
    "                       label=f\"ctau = {ctau} cm, nevt = {weight_values.sum():.0f} $\\pm$ {np.sqrt((weight_values**2).sum()):.0f}\", \n",
    "                       histtype='step',\n",
    "                       lw=1.5,\n",
    "                      density=normed,\n",
    "                      color=color)\n",
    "\n",
    "    y1, y2 = ax.get_ylim()\n",
    "    x1, x2 = ax.get_xlim()\n",
    "\n",
    "    if left_cut is not None:\n",
    "        leftArrow = FancyArrowPatch(posA=(left_cut-(x2-x1)/15, (y2-y1)*0.8), posB=(left_cut, (y2-y1)*0.8), arrowstyle='<|-',\n",
    "                          mutation_scale=20, shrinkA=0, shrinkB=0, color='black')\n",
    "        ax.add_artist(leftArrow)\n",
    "        ax.axvline(left_cut,c='black')\n",
    "\n",
    "    if right_cut is not None:\n",
    "        rightArrow = FancyArrowPatch(posA=(right_cut, (y2-y1)*0.8), posB=(right_cut+(x2-x1)/15, (y2-y1)*0.8), arrowstyle='-|>',\n",
    "                              mutation_scale=20, shrinkA=0, shrinkB=0, color='black')\n",
    "        ax.add_artist(rightArrow)\n",
    "        ax.axvline(right_cut,c='black')\n",
    "\n",
    "    plt.legend(frameon=False)\n",
    "    ax.set_xlabel(label_x)\n",
    "    return fig, ax\n"
   ]
  },
  {
   "cell_type": "code",
   "execution_count": null,
   "metadata": {},
   "outputs": [],
   "source": [
    "ctaus = [0.1, 1, 10, 100]\n",
    "colors = ['blue', 'green', 'orange', 'purple', 'red']\n",
    "\n",
    "m4 = 0.12\n",
    "mz = 1.25\n",
    "\n",
    "variable = ('ee_momentum')\n",
    "selection_step = 'cut_based'\n",
    "cut=0.150\n",
    "plot_var_postsel_and_cut(my_exp_analysis, 'ee_energy', m4, mz, ctaus, \n",
    "                         selection_step, \n",
    "                         smooth_m4=0.05, \n",
    "                         smooth_mz=0.1, \n",
    "                         left_cut=2.5,\n",
    "                        colors=colors)\n",
    "#                         right_cut=0.8)"
   ]
  },
  {
   "cell_type": "markdown",
   "metadata": {},
   "source": [
    "# Standard HNL comparison"
   ]
  },
  {
   "cell_type": "code",
   "execution_count": null,
   "metadata": {},
   "outputs": [],
   "source": [
    "from fourvec import *"
   ]
  },
  {
   "cell_type": "code",
   "execution_count": null,
   "metadata": {},
   "outputs": [],
   "source": [
    "df_std = pd.read_pickle(f'../standardHNL/data/MC_m4_0.15_mzprime_1.25.pckl')\n",
    "# compute useful variables\n",
    "for df in [df_std]:\n",
    "    for comp in ['t','x','y','z']:\n",
    "        df['pee', comp] = df['plm', comp] + df['plp', comp]\n",
    "        df['pdark', comp] = df['plm', comp] + df['plp', comp] + df['pnu', comp]\n",
    "    df['recoil_mass', ''] = inv_mass(df['pHad']).round(6)\n",
    "    df['ee_mass', ''] = inv_mass(df['pee'])\n",
    "    df['ee_costheta', ''] = costheta(df['plm'], df['plp'])\n",
    "    df['ee_beam_costheta', ''] = df['pee', 'z']/np.sqrt(dot3_df(df['pee'], df['pee']))\n",
    "    df['ee_momentum', ''] = np.sqrt(dot3_df(df['pee'], df['pee']))\n",
    "    df['experimental_t', ''] = (df['plm','t'] - df['plm','z'] + df['plp','t'] - df['plp','z'])**2 +\\\n",
    "                                   df['plm','x']**2 + df['plm','y']**2 + df['plp','x']**2 + df['plp','y']**2\n",
    "    \n",
    "# weights\n",
    "wstd=df_std['weight', '']/np.sum(df_std['weight', ''])\n"
   ]
  },
  {
   "cell_type": "code",
   "execution_count": null,
   "metadata": {},
   "outputs": [],
   "source": [
    "save_dir='../plots/stdHNL/'"
   ]
  },
  {
   "cell_type": "code",
   "execution_count": null,
   "metadata": {},
   "outputs": [],
   "source": [
    "case = 'heavy'\n",
    "D_or_M = 'majorana'\n",
    "m4mz=(0.15, 1.25)\n",
    "\n",
    "my_exp_analysis = exp_analysis(case, D_or_M)\n",
    "my_exp_analysis.load_df(0.15, 1.25)\n",
    "no_scan = my_exp_analysis.dfs[m4mz]\n",
    "selected_df = no_scan.query('cut_based')"
   ]
  },
  {
   "cell_type": "code",
   "execution_count": null,
   "metadata": {},
   "outputs": [],
   "source": [
    "ctau=0.1\n",
    "my_exp_analysis.decay_in_tpc(no_scan, ctau)\n",
    "weights_geometric = no_scan[f'decay_in_tpc_{ctau}']"
   ]
  },
  {
   "cell_type": "code",
   "execution_count": null,
   "metadata": {},
   "outputs": [],
   "source": [
    "actual_weights = selected_df['actual_weight']\n",
    "actual_weights *= weights_geometric\n",
    "\n",
    "var='ee_momentum'\n",
    "\n",
    "no_scan_pred, bin_edges = np.histogram(selected_df[var],\n",
    "                            range=[0,5],\n",
    "                            bins=10,\n",
    "                            weights=actual_weights,\n",
    "                            )\n",
    "no_scan_pred_err = np.histogram(selected_df[var],\n",
    "                            range=[0,5],\n",
    "                            bins=10,\n",
    "                            weights=actual_weights**2,\n",
    "                            )[0] \n"
   ]
  },
  {
   "cell_type": "code",
   "execution_count": null,
   "metadata": {},
   "outputs": [],
   "source": [
    "EMAX=8.0\n",
    "bins=8\n",
    "\n",
    "ctaus = [2, 10]\n",
    "m4 = 0.15\n",
    "mz = 1.25\n",
    "variable = ('ee_momentum')\n",
    "selection_step = 'cut_based'\n",
    "cut=0.150\n",
    "fig, ax = plot_var_postsel_and_cut(my_exp_analysis, 'ee_energy', m4, mz, ctaus, \n",
    "                                    selection_step, \n",
    "                                    smooth_m4=0.03, \n",
    "                                    smooth_mz=0.1, \n",
    "                                    right_cut=0.140,\n",
    "                                    normed=True,\n",
    "                                    bins=bins,\n",
    "                                   colors=['red','forestgreen'],\n",
    "                                    xrange=(0,EMAX))\n",
    "\n",
    "# now generated prediction\n",
    "ax.errorbar((bin_edges[1:]+bin_edges[:-1])/2, no_scan_pred, \n",
    "            yerr=np.sqrt(no_scan_pred_err),\n",
    "            fmt='k.',\n",
    "            label=f'no scanning: {no_scan_pred.sum():.2g} '\\\n",
    "            f'$\\pm$ {100*np.sqrt(no_scan_pred_err.sum())/no_scan_pred.sum():.2g}%')\n",
    "\n",
    "out = ax.hist(df_std['ee_momentum', ''], \n",
    "               bins=bins, \n",
    "               range=(0, EMAX),\n",
    "               weights=wstd, \n",
    "               label='standard decay-in-flight HNL',\n",
    "                facecolor='None',\n",
    "              edgecolor='royalblue',\n",
    "              lw=0.5,\n",
    "               histtype='bar',\n",
    "            hatch='////',\n",
    "             density=True)\n",
    "\n",
    "\n",
    "out = ax.hist(df_std['ee_momentum', ''], \n",
    "               bins=bins, \n",
    "               range=(0, EMAX),\n",
    "               weights=wstd, \n",
    "                facecolor='None',\n",
    "              edgecolor='royalblue',\n",
    "              lw=1.0,\n",
    "               histtype='bar',\n",
    "             density=True)\n",
    "\n",
    "ax.legend(loc='upper right',frameon=False)\n",
    "ax.set_xlabel(r\"$|\\vec{p}_{e^+e^-}|$ (GeV)\")\n",
    "ax.set_ylabel(r\"a.u.\")\n",
    "ax.set_xlim(0.,EMAX)\n",
    "ax.set_title(r\"$m_4 = 150$ MeV -- all inclusive\",fontsize=fsize)\n",
    "plt.savefig(f\"{save_dir}/ee_momentum.png\", dpi=400)"
   ]
  },
  {
   "cell_type": "code",
   "execution_count": null,
   "metadata": {},
   "outputs": [],
   "source": []
  }
 ],
 "metadata": {
  "kernelspec": {
   "display_name": "Python [conda env:.conda-dark_nus]",
   "language": "python",
   "name": "conda-env-.conda-dark_nus-py"
  },
  "language_info": {
   "codemirror_mode": {
    "name": "ipython",
    "version": 3
   },
   "file_extension": ".py",
   "mimetype": "text/x-python",
   "name": "python",
   "nbconvert_exporter": "python",
   "pygments_lexer": "ipython3",
   "version": "3.8.8"
  }
 },
 "nbformat": 4,
 "nbformat_minor": 4
}
