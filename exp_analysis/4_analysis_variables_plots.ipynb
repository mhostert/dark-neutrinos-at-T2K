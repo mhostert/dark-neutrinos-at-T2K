{
 "cells": [
  {
   "cell_type": "markdown",
   "metadata": {},
   "source": [
    "# This notebook provides a slider to compare different physics parameters"
   ]
  },
  {
   "cell_type": "code",
   "execution_count": 3,
   "metadata": {},
   "outputs": [
    {
     "name": "stdout",
     "output_type": "stream",
     "text": [
      "The autoreload extension is already loaded. To reload it, use:\n",
      "  %reload_ext autoreload\n"
     ]
    }
   ],
   "source": [
    "%load_ext autoreload\n",
    "%autoreload 2"
   ]
  },
  {
   "cell_type": "code",
   "execution_count": 5,
   "metadata": {},
   "outputs": [],
   "source": [
    "import matplotlib.pyplot as plt\n",
    "import numpy as np\n",
    "import pandas as pd\n",
    "\n",
    "from ipywidgets import interact, interactive, fixed, interact_manual, FloatSlider, Dropdown\n",
    "import ipywidgets as widgets\n",
    "\n",
    "from parameters_dict import physics_parameters\n",
    "from exp_analysis_class import exp_analysis"
   ]
  },
  {
   "cell_type": "code",
   "execution_count": 18,
   "metadata": {},
   "outputs": [
    {
     "name": "stdout",
     "output_type": "stream",
     "text": [
      "/bin/bash: port_used: line 1: syntax error: unexpected end of file\n",
      "/bin/bash: error importing function definition for `BASH_FUNC_port_used'\n",
      "/bin/bash: wait_until_port_used: line 1: syntax error: unexpected end of file\n",
      "/bin/bash: error importing function definition for `BASH_FUNC_wait_until_port_used'\n",
      "/bin/bash: module: line 1: syntax error: unexpected end of file\n",
      "/bin/bash: error importing function definition for `BASH_FUNC_module'\n",
      "/bin/bash: find_port: line 1: syntax error: unexpected end of file\n",
      "/bin/bash: error importing function definition for `BASH_FUNC_find_port'\n",
      "/bin/bash: random_number: line 1: syntax error: unexpected end of file\n",
      "/bin/bash: error importing function definition for `BASH_FUNC_random_number'\n",
      "/bin/bash: helmod: line 1: syntax error: unexpected end of file\n",
      "/bin/bash: error importing function definition for `BASH_FUNC_helmod'\n",
      "/bin/bash: source_helpers: line 1: syntax error: unexpected end of file\n",
      "/bin/bash: error importing function definition for `BASH_FUNC_source_helpers'\n",
      "/bin/bash: ml: line 1: syntax error: unexpected end of file\n",
      "/bin/bash: error importing function definition for `BASH_FUNC_ml'\n",
      "/bin/bash: create_passwd: line 1: syntax error: unexpected end of file\n",
      "/bin/bash: error importing function definition for `BASH_FUNC_create_passwd'\n"
     ]
    }
   ],
   "source": [
    "case = 'heavy'\n",
    "save_folder = (f'../fig/{case}/4_analysis_variables_plots/')\n",
    "!mkdir -p $save_folder\n",
    "my_exp_analysis = exp_analysis(case)\n",
    "my_exp_analysis.load_df_base(1000000)"
   ]
  },
  {
   "cell_type": "markdown",
   "metadata": {},
   "source": [
    "## Slider for physics distributions"
   ]
  },
  {
   "cell_type": "code",
   "execution_count": 17,
   "metadata": {},
   "outputs": [
    {
     "data": {
      "image/png": "[encoded data removed]",
      "text/plain": [
       "<Figure size 432x288 with 1 Axes>"
      ]
     },
     "metadata": {
      "needs_background": "light"
     },
     "output_type": "display_data"
    },
    {
     "data": {
      "text/plain": [
       "1081.41118015708"
      ]
     },
     "metadata": {},
     "output_type": "display_data"
    }
   ],
   "source": [
    "@interact(var_1=widgets.Dropdown(\n",
    "                options=list(my_exp_analysis.df_base.columns.to_frame().loc[:, 0].values),\n",
    "                description='Variable:',\n",
    "                disabled=False,\n",
    "            ),\n",
    "          var_2=widgets.Dropdown(\n",
    "                options=list(my_exp_analysis.df_base.columns.to_frame().loc[:, 1].values),\n",
    "                description='Component:',\n",
    "                disabled=False,\n",
    "            ),\n",
    "          bins=widgets.IntSlider(min=1, max=50, step=1, value=10, continuous_update=False),\n",
    "          hist_range=widgets.FloatRangeSlider(\n",
    "                value=[0, 5],\n",
    "                min=0,\n",
    "                max=10.0,\n",
    "                step=0.1,\n",
    "                disabled=False,\n",
    "                continuous_update=False,\n",
    "                orientation='horizontal',\n",
    "                readout=True,\n",
    "                readout_format='.1f',\n",
    "            ),\n",
    "          m4=widgets.FloatSlider(min=0.005, max=1, step=0.025, value=0.3, continuous_update=False), \n",
    "          mz=widgets.FloatSlider(min=0.005, max=10, step=0.005, value=2, continuous_update=False), \n",
    "          ctau=widgets.FloatLogSlider(\n",
    "                base=10,\n",
    "                min=-2, # max exponent of base\n",
    "                max=3, # min exponent of base\n",
    "                step=0.2, # exponent step\n",
    "                value=25,\n",
    "            ),\n",
    "          kernel=widgets.Dropdown(\n",
    "                options=['epa', 'gaus'],\n",
    "                description='Kernel type:',\n",
    "                disabled=False,\n",
    "            ),\n",
    "          smooth_m4=widgets.FloatSlider(min=0.001, max=0.5, step=0.001, value=0.03, continuous_update=False), \n",
    "          smooth_mz=widgets.FloatSlider(min=0.001, max=0.5, step=0.001, value=0.005, continuous_update=False), \n",
    "          selection_step=widgets.RadioButtons(\n",
    "                options=['no_selection', 'cut_based', 'geometric', 'geometric_cut_based'],\n",
    "                value='no_selection',\n",
    "                description='selection:',\n",
    "            ),\n",
    "          df=fixed(my_exp_analysis.df_base))\n",
    "def output_distrib(df, var_1, var_2, bins, hist_range, m4, mz, ctau, kernel, smooth_m4, smooth_mz, selection_step):\n",
    "    m4_values = df['m4', ''].values\n",
    "    mz_values = df['mzprime', ''].values\n",
    "    df_values = np.stack([m4_values, mz_values], axis=-1)\n",
    "    this_kde_weights = my_exp_analysis.kde_Nd_weights(np.array([m4, mz]), df_values, smoothing=[smooth_m4, smooth_mz])\n",
    "    weight_values = this_kde_weights * df['actual_weight', ''].values\n",
    "\n",
    "    if selection_step == 'no_selection':\n",
    "        pass\n",
    "    if 'cut_based' in selection_step:\n",
    "        weight_values *= df['cut_based', ''].values\n",
    "    if 'geometric' in selection_step:\n",
    "        weight_values *= decay_in_tpc(df, ctau)\n",
    "\n",
    "    plt.hist(df[var_1, var_2],\n",
    "             range=hist_range,\n",
    "             bins=bins,\n",
    "             weights=weight_values,\n",
    "             histtype='step',\n",
    "             label=f'kde2D, from $m_4$ in [{m4_values.min():.2g}, {m4_values.max():.2g}], $m_Z$ in [{mz_values.min():.2g}, {mz_values.max():.2g}]\\nexpected events = {weight_values.sum():.1f}')\n",
    "    plt.ylim(bottom=0)\n",
    "    plt.xlabel(f\"{var_1} {var_2}\")\n",
    "    plt.ylabel(f\"Expected number of entries / {(hist_range[1]-hist_range[0])/bins:.2g}\")\n",
    "    plt.title(f\"$m_4$ = {m4:.2g} GeV, $m_Z$ = {mz:.2g} GeV, $c\\\\tau$ = {ctau:.2g} cm\\n$\\sigma_{{m_4}}$ = {smooth_m4:.2g} GeV, $\\sigma_{{m_Z}}$ = {smooth_mz:.2g} GeV\\nselection step = {selection_step}, expected events = {weight_values.sum():.1f}\")\n",
    "    return weight_values.sum()"
   ]
  },
  {
   "cell_type": "markdown",
   "metadata": {},
   "source": [
    "## Event rate vs ctau"
   ]
  },
  {
   "cell_type": "code",
   "execution_count": 1,
   "metadata": {},
   "outputs": [
    {
     "ename": "NameError",
     "evalue": "name 'my_exp_analysis' is not defined",
     "output_type": "error",
     "traceback": [
      "\u001b[0;31m---------------------------------------------------------------------------\u001b[0m",
      "\u001b[0;31mNameError\u001b[0m                                 Traceback (most recent call last)",
      "\u001b[0;32m<ipython-input-1-6af8df4759cb>\u001b[0m in \u001b[0;36m<module>\u001b[0;34m\u001b[0m\n\u001b[1;32m      3\u001b[0m \u001b[0mmz\u001b[0m \u001b[0;34m=\u001b[0m \u001b[0;36m1.25\u001b[0m\u001b[0;34m\u001b[0m\u001b[0;34m\u001b[0m\u001b[0m\n\u001b[1;32m      4\u001b[0m \u001b[0;34m\u001b[0m\u001b[0m\n\u001b[0;32m----> 5\u001b[0;31m \u001b[0mm4_values\u001b[0m \u001b[0;34m=\u001b[0m \u001b[0mmy_exp_analysis\u001b[0m\u001b[0;34m.\u001b[0m\u001b[0mdf_base\u001b[0m\u001b[0;34m[\u001b[0m\u001b[0;34m'm4'\u001b[0m\u001b[0;34m,\u001b[0m \u001b[0;34m''\u001b[0m\u001b[0;34m]\u001b[0m\u001b[0;34m.\u001b[0m\u001b[0mvalues\u001b[0m\u001b[0;34m\u001b[0m\u001b[0;34m\u001b[0m\u001b[0m\n\u001b[0m\u001b[1;32m      6\u001b[0m \u001b[0mmz_values\u001b[0m \u001b[0;34m=\u001b[0m \u001b[0mmy_exp_analysis\u001b[0m\u001b[0;34m.\u001b[0m\u001b[0mdf_base\u001b[0m\u001b[0;34m[\u001b[0m\u001b[0;34m'mzprime'\u001b[0m\u001b[0;34m,\u001b[0m \u001b[0;34m''\u001b[0m\u001b[0;34m]\u001b[0m\u001b[0;34m.\u001b[0m\u001b[0mvalues\u001b[0m\u001b[0;34m\u001b[0m\u001b[0;34m\u001b[0m\u001b[0m\n\u001b[1;32m      7\u001b[0m \u001b[0mdf_values\u001b[0m \u001b[0;34m=\u001b[0m \u001b[0mnp\u001b[0m\u001b[0;34m.\u001b[0m\u001b[0mstack\u001b[0m\u001b[0;34m(\u001b[0m\u001b[0;34m[\u001b[0m\u001b[0mm4_values\u001b[0m\u001b[0;34m,\u001b[0m \u001b[0mmz_values\u001b[0m\u001b[0;34m]\u001b[0m\u001b[0;34m,\u001b[0m \u001b[0maxis\u001b[0m\u001b[0;34m=\u001b[0m\u001b[0;34m-\u001b[0m\u001b[0;36m1\u001b[0m\u001b[0;34m)\u001b[0m\u001b[0;34m\u001b[0m\u001b[0;34m\u001b[0m\u001b[0m\n",
      "\u001b[0;31mNameError\u001b[0m: name 'my_exp_analysis' is not defined"
     ]
    }
   ],
   "source": [
    "ctaus = [0.1, 1, 10, 100, 1000]\n",
    "m4 = 0.12\n",
    "mz = 1.25\n",
    "\n",
    "m4_values = my_exp_analysis.df_base['m4', ''].values\n",
    "mz_values = my_exp_analysis.df_base['mzprime', ''].values\n",
    "df_values = np.stack([m4_values, mz_values], axis=-1)\n",
    "smooth_m4, smooth_mz = 0.005, 0.05\n",
    "this_kde_weights = my_exp_analysis.kde_Nd_weights(np.array([m4, mz]), df_values, smoothing=[smooth_m4, smooth_mz])\n",
    "\n",
    "variable = ('pee', 't')\n",
    "selection_step = 'cut_based'\n",
    "        \n",
    "my_exp_analysis.decay_in_tpc(my_exp_analysis.df_base, ctaus)\n",
    "for ctau in ctaus:\n",
    "    weight_values = this_kde_weights *\\\n",
    "                    my_exp_analysis.df_base['actual_weight', ''].values *\\\n",
    "                    my_exp_analysis.df_base[selection_step, ''].values *\\\n",
    "                    my_exp_analysis.df_base[f'decay_in_tpc_{ctau}', ''].values\n",
    "    \n",
    "    out = plt.hist(my_exp_analysis.df_base['pee', 't'], \n",
    "                   bins=20, \n",
    "                   range=(0, 4),\n",
    "                   weights=weight_values, \n",
    "                   label=f\"ctau = {ctau} cm, nevt = {weight_values.sum():.0f} $\\pm$ {np.sqrt((weight_values**2).sum()):.0f}\", \n",
    "                   histtype='step')\n",
    "\n",
    "plt.legend(frameon=False)\n",
    "plt.xlabel('e+e- deposited energy [GeV]')\n",
    "# plt.title(f\"Best fit point {model}\")\n",
    "# plt.savefig(save_folder+\"ee_energy.png\", dpi=250)"
   ]
  },
  {
   "cell_type": "code",
   "execution_count": 30,
   "metadata": {},
   "outputs": [
    {
     "data": {
      "text/plain": [
       "Text(0.5, 0, 'e+e- deposited energy [GeV]')"
      ]
     },
     "execution_count": 30,
     "metadata": {},
     "output_type": "execute_result"
    },
    {
     "data": {
      "image/png": "[encoded data removed]",
      "text/plain": [
       "<Figure size 432x288 with 1 Axes>"
      ]
     },
     "metadata": {
      "needs_background": "light"
     },
     "output_type": "display_data"
    }
   ],
   "source": [
    "ctaus = [0.1, 1, 10, 100, 1000]\n",
    "m4 = 0.12\n",
    "mz = 1.25\n",
    "\n",
    "m4_values = my_exp_analysis.df_base['m4', ''].values\n",
    "mz_values = my_exp_analysis.df_base['mzprime', ''].values\n",
    "df_values = np.stack([m4_values, mz_values], axis=-1)\n",
    "smooth_m4, smooth_mz = 0.005, 0.05\n",
    "this_kde_weights = my_exp_analysis.kde_Nd_weights(np.array([m4, mz]), df_values, smoothing=[smooth_m4, smooth_mz])\n",
    "\n",
    "variable = ('pee', 't')\n",
    "selection_step = 'cut_based'\n",
    "        \n",
    "my_exp_analysis.decay_in_tpc(my_exp_analysis.df_base, ctaus)\n",
    "for ctau in ctaus:\n",
    "    weight_values = this_kde_weights *\\\n",
    "                    my_exp_analysis.df_base['actual_weight', ''].values *\\\n",
    "                    my_exp_analysis.df_base[selection_step, ''].values *\\\n",
    "                    my_exp_analysis.df_base[f'decay_in_tpc_{ctau}', ''].values\n",
    "    \n",
    "    out = plt.hist(my_exp_analysis.df_base['pee', 't'], \n",
    "                   bins=20, \n",
    "                   range=(0, 4),\n",
    "                   weights=weight_values, \n",
    "                   label=f\"ctau = {ctau} cm, nevt = {weight_values.sum():.0f}\", \n",
    "                   histtype='step')\n",
    "\n",
    "plt.legend(frameon=False)\n",
    "plt.xlabel('e+e- deposited energy [GeV]')\n",
    "# plt.title(f\"Best fit point {model}\")\n",
    "# plt.savefig(save_folder+\"ee_energy.png\", dpi=250)"
   ]
  },
  {
   "cell_type": "code",
   "execution_count": null,
   "metadata": {},
   "outputs": [],
   "source": []
  }
 ],
 "metadata": {
  "kernelspec": {
   "display_name": "Python 3",
   "language": "python",
   "name": "python3"
  },
  "language_info": {
   "codemirror_mode": {
    "name": "ipython",
    "version": 3
   },
   "file_extension": ".py",
   "mimetype": "text/x-python",
   "name": "python",
   "nbconvert_exporter": "python",
   "pygments_lexer": "ipython3",
   "version": "3.9.2"
  }
 },
 "nbformat": 4,
 "nbformat_minor": 4
}
