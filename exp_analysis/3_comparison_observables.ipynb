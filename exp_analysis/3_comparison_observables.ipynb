{
 "cells": [
  {
   "cell_type": "markdown",
   "metadata": {},
   "source": [
    "# Comparing Vegas generated without scanning with the KDE prediction in observables"
   ]
  },
  {
   "cell_type": "code",
   "execution_count": 1,
   "metadata": {},
   "outputs": [],
   "source": [
    "%load_ext autoreload\n",
    "%autoreload 2"
   ]
  },
  {
   "cell_type": "code",
   "execution_count": 2,
   "metadata": {},
   "outputs": [],
   "source": [
    "import matplotlib.pyplot as plt\n",
    "import numpy as np\n",
    "import pandas as pd\n",
    "from parameters_dict import physics_parameters\n",
    "from exp_analysis_class import exp_analysis\n",
    "from plot_utils import *\n",
    "from dark_nus_utils import load_datasets"
   ]
  },
  {
   "cell_type": "markdown",
   "metadata": {},
   "source": [
    "## Get objects for all 4 cases "
   ]
  },
  {
   "cell_type": "code",
   "execution_count": 3,
   "metadata": {},
   "outputs": [
    {
     "name": "stdout",
     "output_type": "stream",
     "text": [
      "light dirac\n",
      "loading df base\n",
      "initialising df base\n",
      "loading df 0.1, 0.01\n",
      "initialising df 0.1, 0.01\n",
      "loading df 0.1, 0.03\n",
      "initialising df 0.1, 0.03\n",
      "loading df 0.4, 0.01\n",
      "initialising df 0.4, 0.01\n",
      "loading df 0.4, 0.03\n",
      "initialising df 0.4, 0.03\n",
      "loading df 0.4, 0.1\n",
      "initialising df 0.4, 0.1\n",
      "loading df 0.4, 0.2\n",
      "initialising df 0.4, 0.2\n",
      "loading df 0.8, 0.01\n",
      "initialising df 0.8, 0.01\n",
      "loading df 0.8, 0.03\n",
      "initialising df 0.8, 0.03\n",
      "loading df 0.8, 0.1\n",
      "initialising df 0.8, 0.1\n",
      "loading df 0.8, 0.2\n",
      "initialising df 0.8, 0.2\n",
      "light majorana\n",
      "loading df base\n",
      "initialising df base\n",
      "loading df 0.1, 0.01\n",
      "initialising df 0.1, 0.01\n",
      "loading df 0.1, 0.03\n",
      "initialising df 0.1, 0.03\n",
      "loading df 0.4, 0.01\n",
      "initialising df 0.4, 0.01\n",
      "loading df 0.4, 0.03\n",
      "initialising df 0.4, 0.03\n",
      "loading df 0.4, 0.1\n",
      "initialising df 0.4, 0.1\n",
      "loading df 0.4, 0.2\n",
      "initialising df 0.4, 0.2\n",
      "loading df 0.8, 0.01\n",
      "initialising df 0.8, 0.01\n",
      "loading df 0.8, 0.03\n",
      "initialising df 0.8, 0.03\n",
      "loading df 0.8, 0.1\n",
      "initialising df 0.8, 0.1\n",
      "loading df 0.8, 0.2\n",
      "initialising df 0.8, 0.2\n"
     ]
    }
   ],
   "source": [
    "my_exp_analyses = load_datasets(['light'])"
   ]
  },
  {
   "cell_type": "code",
   "execution_count": 4,
   "metadata": {},
   "outputs": [],
   "source": [
    "load_all=True"
   ]
  },
  {
   "cell_type": "code",
   "execution_count": 5,
   "metadata": {},
   "outputs": [
    {
     "name": "stdout",
     "output_type": "stream",
     "text": [
      "heavy dirac\n",
      "loading df base\n",
      "initialising df base\n",
      "loading df 0.01, 0.1\n",
      "initialising df 0.01, 0.1\n",
      "loading df 0.01, 1\n",
      "initialising df 0.01, 1\n",
      "loading df 0.01, 5\n",
      "initialising df 0.01, 5\n",
      "loading df 0.1, 1\n",
      "initialising df 0.1, 1\n",
      "loading df 0.1, 5\n",
      "initialising df 0.1, 5\n",
      "loading df 0.5, 1\n",
      "initialising df 0.5, 1\n",
      "loading df 0.5, 5\n",
      "initialising df 0.5, 5\n",
      "heavy majorana\n",
      "loading df base\n",
      "initialising df base\n",
      "loading df 0.01, 0.1\n",
      "initialising df 0.01, 0.1\n",
      "loading df 0.01, 1\n",
      "initialising df 0.01, 1\n",
      "loading df 0.01, 5\n",
      "initialising df 0.01, 5\n",
      "loading df 0.1, 1\n",
      "initialising df 0.1, 1\n",
      "loading df 0.1, 5\n",
      "initialising df 0.1, 5\n",
      "loading df 0.5, 1\n",
      "initialising df 0.5, 1\n",
      "loading df 0.5, 5\n",
      "initialising df 0.5, 5\n"
     ]
    }
   ],
   "source": [
    "if load_all:\n",
    "    my_exp_analyses = {}\n",
    "    from itertools import product\n",
    "    for hierarchy, D_or_M in product(['heavy'], ['dirac', 'majorana']):\n",
    "        print(hierarchy, D_or_M)\n",
    "        save_folder = f'../fig/3_comparison_observables/{hierarchy}_{D_or_M}/'\n",
    "        !mkdir -p $save_folder\n",
    "        this_exp_analyis = exp_analysis(hierarchy, D_or_M)\n",
    "        this_exp_analyis.load_df_base(1000000)\n",
    "        this_exp_analyis.load_grid_dfs()\n",
    "        my_exp_analyses[f'{hierarchy}_{D_or_M}'] = this_exp_analyis"
   ]
  },
  {
   "cell_type": "markdown",
   "metadata": {},
   "source": [
    "##### Examples"
   ]
  },
  {
   "cell_type": "code",
   "execution_count": 11,
   "metadata": {},
   "outputs": [
    {
     "data": {
      "image/png": "[encoded data removed]",
      "text/plain": [
       "<Figure size 432x288 with 1 Axes>"
      ]
     },
     "metadata": {
      "needs_background": "light"
     },
     "output_type": "display_data"
    }
   ],
   "source": [
    "kde_to_noscan_comparison(var='ee_energy',\n",
    "                       range=(0, 1),\n",
    "                       bins=10,\n",
    "                       m4mz=(0.1, 5),\n",
    "                       exp_analysis_obj=my_exp_analyses['heavy_dirac'],\n",
    "                       smoothing_pars=(0.005, 0.05),\n",
    "                       selection_query='no_cuts',\n",
    "                       cumulative=True)"
   ]
  },
  {
   "cell_type": "code",
   "execution_count": 8,
   "metadata": {},
   "outputs": [
    {
     "ename": "KeyError",
     "evalue": "'pee_t'",
     "output_type": "error",
     "traceback": [
      "\u001b[0;31m---------------------------------------------------------------------------\u001b[0m",
      "\u001b[0;31mKeyError\u001b[0m                                  Traceback (most recent call last)",
      "\u001b[0;32m/usr/local/lib/python3.9/site-packages/pandas/core/indexes/base.py\u001b[0m in \u001b[0;36mget_loc\u001b[0;34m(self, key, method, tolerance)\u001b[0m\n\u001b[1;32m   3079\u001b[0m             \u001b[0;32mtry\u001b[0m\u001b[0;34m:\u001b[0m\u001b[0;34m\u001b[0m\u001b[0;34m\u001b[0m\u001b[0m\n\u001b[0;32m-> 3080\u001b[0;31m                 \u001b[0;32mreturn\u001b[0m \u001b[0mself\u001b[0m\u001b[0;34m.\u001b[0m\u001b[0m_engine\u001b[0m\u001b[0;34m.\u001b[0m\u001b[0mget_loc\u001b[0m\u001b[0;34m(\u001b[0m\u001b[0mcasted_key\u001b[0m\u001b[0;34m)\u001b[0m\u001b[0;34m\u001b[0m\u001b[0;34m\u001b[0m\u001b[0m\n\u001b[0m\u001b[1;32m   3081\u001b[0m             \u001b[0;32mexcept\u001b[0m \u001b[0mKeyError\u001b[0m \u001b[0;32mas\u001b[0m \u001b[0merr\u001b[0m\u001b[0;34m:\u001b[0m\u001b[0;34m\u001b[0m\u001b[0;34m\u001b[0m\u001b[0m\n",
      "\u001b[0;32mpandas/_libs/index.pyx\u001b[0m in \u001b[0;36mpandas._libs.index.IndexEngine.get_loc\u001b[0;34m()\u001b[0m\n",
      "\u001b[0;32mpandas/_libs/index.pyx\u001b[0m in \u001b[0;36mpandas._libs.index.IndexEngine.get_loc\u001b[0;34m()\u001b[0m\n",
      "\u001b[0;32mpandas/_libs/hashtable_class_helper.pxi\u001b[0m in \u001b[0;36mpandas._libs.hashtable.PyObjectHashTable.get_item\u001b[0;34m()\u001b[0m\n",
      "\u001b[0;32mpandas/_libs/hashtable_class_helper.pxi\u001b[0m in \u001b[0;36mpandas._libs.hashtable.PyObjectHashTable.get_item\u001b[0;34m()\u001b[0m\n",
      "\u001b[0;31mKeyError\u001b[0m: 'pee_t'",
      "\nThe above exception was the direct cause of the following exception:\n",
      "\u001b[0;31mKeyError\u001b[0m                                  Traceback (most recent call last)",
      "\u001b[0;32m<ipython-input-8-ec31ab74ef6e>\u001b[0m in \u001b[0;36m<module>\u001b[0;34m\u001b[0m\n\u001b[0;32m----> 1\u001b[0;31m kde_to_noscan_comparison(var='pee_t',\n\u001b[0m\u001b[1;32m      2\u001b[0m                        \u001b[0mrange\u001b[0m\u001b[0;34m=\u001b[0m\u001b[0;34m(\u001b[0m\u001b[0;36m0\u001b[0m\u001b[0;34m,\u001b[0m \u001b[0;36m1\u001b[0m\u001b[0;34m)\u001b[0m\u001b[0;34m,\u001b[0m\u001b[0;34m\u001b[0m\u001b[0;34m\u001b[0m\u001b[0m\n\u001b[1;32m      3\u001b[0m                        \u001b[0mbins\u001b[0m\u001b[0;34m=\u001b[0m\u001b[0;36m10\u001b[0m\u001b[0;34m,\u001b[0m\u001b[0;34m\u001b[0m\u001b[0;34m\u001b[0m\u001b[0m\n\u001b[1;32m      4\u001b[0m                        \u001b[0mm4mz\u001b[0m\u001b[0;34m=\u001b[0m\u001b[0;34m(\u001b[0m\u001b[0;36m0.1\u001b[0m\u001b[0;34m,\u001b[0m \u001b[0;36m5\u001b[0m\u001b[0;34m)\u001b[0m\u001b[0;34m,\u001b[0m\u001b[0;34m\u001b[0m\u001b[0;34m\u001b[0m\u001b[0m\n\u001b[1;32m      5\u001b[0m                        \u001b[0mexp_analysis_obj\u001b[0m\u001b[0;34m=\u001b[0m\u001b[0mmy_exp_analyses\u001b[0m\u001b[0;34m[\u001b[0m\u001b[0;34m'heavy_dirac'\u001b[0m\u001b[0;34m]\u001b[0m\u001b[0;34m,\u001b[0m\u001b[0;34m\u001b[0m\u001b[0;34m\u001b[0m\u001b[0m\n",
      "\u001b[0;32m~/Repos/nicgen/exp_analysis/plot_utils.py\u001b[0m in \u001b[0;36mkde_to_noscan_comparison\u001b[0;34m(var, range, bins, m4mz, exp_analysis_obj, smoothing_pars, selection_query, cumulative, existing_axis)\u001b[0m\n\u001b[1;32m    122\u001b[0m     \u001b[0mactual_weights\u001b[0m \u001b[0;34m=\u001b[0m \u001b[0mselected_df\u001b[0m\u001b[0;34m[\u001b[0m\u001b[0;34m'actual_weight'\u001b[0m\u001b[0;34m]\u001b[0m\u001b[0;34m\u001b[0m\u001b[0;34m\u001b[0m\u001b[0m\n\u001b[1;32m    123\u001b[0m \u001b[0;34m\u001b[0m\u001b[0m\n\u001b[0;32m--> 124\u001b[0;31m     no_scan_pred, bin_edges = np.histogram(no_scan[var],\n\u001b[0m\u001b[1;32m    125\u001b[0m                                 \u001b[0mrange\u001b[0m\u001b[0;34m=\u001b[0m\u001b[0mrange\u001b[0m\u001b[0;34m,\u001b[0m\u001b[0;34m\u001b[0m\u001b[0;34m\u001b[0m\u001b[0m\n\u001b[1;32m    126\u001b[0m                                 \u001b[0mbins\u001b[0m\u001b[0;34m=\u001b[0m\u001b[0mbins\u001b[0m\u001b[0;34m,\u001b[0m\u001b[0;34m\u001b[0m\u001b[0;34m\u001b[0m\u001b[0m\n",
      "\u001b[0;32m/usr/local/lib/python3.9/site-packages/pandas/core/frame.py\u001b[0m in \u001b[0;36m__getitem__\u001b[0;34m(self, key)\u001b[0m\n\u001b[1;32m   3022\u001b[0m             \u001b[0;32mif\u001b[0m \u001b[0mself\u001b[0m\u001b[0;34m.\u001b[0m\u001b[0mcolumns\u001b[0m\u001b[0;34m.\u001b[0m\u001b[0mnlevels\u001b[0m \u001b[0;34m>\u001b[0m \u001b[0;36m1\u001b[0m\u001b[0;34m:\u001b[0m\u001b[0;34m\u001b[0m\u001b[0;34m\u001b[0m\u001b[0m\n\u001b[1;32m   3023\u001b[0m                 \u001b[0;32mreturn\u001b[0m \u001b[0mself\u001b[0m\u001b[0;34m.\u001b[0m\u001b[0m_getitem_multilevel\u001b[0m\u001b[0;34m(\u001b[0m\u001b[0mkey\u001b[0m\u001b[0;34m)\u001b[0m\u001b[0;34m\u001b[0m\u001b[0;34m\u001b[0m\u001b[0m\n\u001b[0;32m-> 3024\u001b[0;31m             \u001b[0mindexer\u001b[0m \u001b[0;34m=\u001b[0m \u001b[0mself\u001b[0m\u001b[0;34m.\u001b[0m\u001b[0mcolumns\u001b[0m\u001b[0;34m.\u001b[0m\u001b[0mget_loc\u001b[0m\u001b[0;34m(\u001b[0m\u001b[0mkey\u001b[0m\u001b[0;34m)\u001b[0m\u001b[0;34m\u001b[0m\u001b[0;34m\u001b[0m\u001b[0m\n\u001b[0m\u001b[1;32m   3025\u001b[0m             \u001b[0;32mif\u001b[0m \u001b[0mis_integer\u001b[0m\u001b[0;34m(\u001b[0m\u001b[0mindexer\u001b[0m\u001b[0;34m)\u001b[0m\u001b[0;34m:\u001b[0m\u001b[0;34m\u001b[0m\u001b[0;34m\u001b[0m\u001b[0m\n\u001b[1;32m   3026\u001b[0m                 \u001b[0mindexer\u001b[0m \u001b[0;34m=\u001b[0m \u001b[0;34m[\u001b[0m\u001b[0mindexer\u001b[0m\u001b[0;34m]\u001b[0m\u001b[0;34m\u001b[0m\u001b[0;34m\u001b[0m\u001b[0m\n",
      "\u001b[0;32m/usr/local/lib/python3.9/site-packages/pandas/core/indexes/base.py\u001b[0m in \u001b[0;36mget_loc\u001b[0;34m(self, key, method, tolerance)\u001b[0m\n\u001b[1;32m   3080\u001b[0m                 \u001b[0;32mreturn\u001b[0m \u001b[0mself\u001b[0m\u001b[0;34m.\u001b[0m\u001b[0m_engine\u001b[0m\u001b[0;34m.\u001b[0m\u001b[0mget_loc\u001b[0m\u001b[0;34m(\u001b[0m\u001b[0mcasted_key\u001b[0m\u001b[0;34m)\u001b[0m\u001b[0;34m\u001b[0m\u001b[0;34m\u001b[0m\u001b[0m\n\u001b[1;32m   3081\u001b[0m             \u001b[0;32mexcept\u001b[0m \u001b[0mKeyError\u001b[0m \u001b[0;32mas\u001b[0m \u001b[0merr\u001b[0m\u001b[0;34m:\u001b[0m\u001b[0;34m\u001b[0m\u001b[0;34m\u001b[0m\u001b[0m\n\u001b[0;32m-> 3082\u001b[0;31m                 \u001b[0;32mraise\u001b[0m \u001b[0mKeyError\u001b[0m\u001b[0;34m(\u001b[0m\u001b[0mkey\u001b[0m\u001b[0;34m)\u001b[0m \u001b[0;32mfrom\u001b[0m \u001b[0merr\u001b[0m\u001b[0;34m\u001b[0m\u001b[0;34m\u001b[0m\u001b[0m\n\u001b[0m\u001b[1;32m   3083\u001b[0m \u001b[0;34m\u001b[0m\u001b[0m\n\u001b[1;32m   3084\u001b[0m         \u001b[0;32mif\u001b[0m \u001b[0mtolerance\u001b[0m \u001b[0;32mis\u001b[0m \u001b[0;32mnot\u001b[0m \u001b[0;32mNone\u001b[0m\u001b[0;34m:\u001b[0m\u001b[0;34m\u001b[0m\u001b[0;34m\u001b[0m\u001b[0m\n",
      "\u001b[0;31mKeyError\u001b[0m: 'pee_t'"
     ]
    }
   ],
   "source": [
    "kde_to_noscan_comparison(var='pee_t',\n",
    "                       range=(0, 1),\n",
    "                       bins=10,\n",
    "                       m4mz=(0.1, 5),\n",
    "                       exp_analysis_obj=my_exp_analyses['heavy_dirac'],\n",
    "                       smoothing_pars=(0.005, 0.05),\n",
    "                       selection_query='no_cuts',\n",
    "                       cumulative=True)"
   ]
  },
  {
   "cell_type": "code",
   "execution_count": 7,
   "metadata": {},
   "outputs": [
    {
     "ename": "KeyError",
     "evalue": "'light_dirac'",
     "output_type": "error",
     "traceback": [
      "\u001b[0;31m---------------------------------------------------------------------------\u001b[0m",
      "\u001b[0;31mKeyError\u001b[0m                                  Traceback (most recent call last)",
      "\u001b[0;32m<ipython-input-7-f7a7981290c0>\u001b[0m in \u001b[0;36m<module>\u001b[0;34m\u001b[0m\n\u001b[1;32m      3\u001b[0m                        \u001b[0mbins\u001b[0m\u001b[0;34m=\u001b[0m\u001b[0;36m10\u001b[0m\u001b[0;34m,\u001b[0m\u001b[0;34m\u001b[0m\u001b[0;34m\u001b[0m\u001b[0m\n\u001b[1;32m      4\u001b[0m                        \u001b[0mm4mz\u001b[0m\u001b[0;34m=\u001b[0m\u001b[0;34m(\u001b[0m\u001b[0;36m0.1\u001b[0m\u001b[0;34m,\u001b[0m \u001b[0;36m0.03\u001b[0m\u001b[0;34m)\u001b[0m\u001b[0;34m,\u001b[0m\u001b[0;34m\u001b[0m\u001b[0;34m\u001b[0m\u001b[0m\n\u001b[0;32m----> 5\u001b[0;31m                        \u001b[0mexp_analysis_objs\u001b[0m\u001b[0;34m=\u001b[0m\u001b[0;34m[\u001b[0m\u001b[0mmy_exp_analyses\u001b[0m\u001b[0;34m[\u001b[0m\u001b[0;34m'light_dirac'\u001b[0m\u001b[0;34m]\u001b[0m\u001b[0;34m,\u001b[0m \u001b[0mmy_exp_analyses\u001b[0m\u001b[0;34m[\u001b[0m\u001b[0;34m'light_majorana'\u001b[0m\u001b[0;34m]\u001b[0m\u001b[0;34m]\u001b[0m\u001b[0;34m,\u001b[0m\u001b[0;34m\u001b[0m\u001b[0;34m\u001b[0m\u001b[0m\n\u001b[0m\u001b[1;32m      6\u001b[0m                        \u001b[0mexisting_axes\u001b[0m\u001b[0;34m=\u001b[0m\u001b[0;32mNone\u001b[0m\u001b[0;34m,\u001b[0m\u001b[0;34m\u001b[0m\u001b[0;34m\u001b[0m\u001b[0m\n\u001b[1;32m      7\u001b[0m                        \u001b[0msmoothing_pars\u001b[0m\u001b[0;34m=\u001b[0m\u001b[0;34m(\u001b[0m\u001b[0;36m0.005\u001b[0m\u001b[0;34m,\u001b[0m \u001b[0;36m0.05\u001b[0m\u001b[0;34m)\u001b[0m\u001b[0;34m,\u001b[0m\u001b[0;34m\u001b[0m\u001b[0;34m\u001b[0m\u001b[0m\n",
      "\u001b[0;31mKeyError\u001b[0m: 'light_dirac'"
     ]
    }
   ],
   "source": [
    "comparison_plot_models(var='pee_t',\n",
    "                       range=(0, 1),\n",
    "                       bins=10,\n",
    "                       m4mz=(0.1, 0.03),\n",
    "                       exp_analysis_objs=[my_exp_analyses['light_dirac'], my_exp_analyses['light_majorana']],\n",
    "                       existing_axes=None,\n",
    "                       smoothing_pars=(0.005, 0.05),\n",
    "                       selection_query='no_cuts',\n",
    "                       cumulative=True);"
   ]
  },
  {
   "cell_type": "code",
   "execution_count": null,
   "metadata": {},
   "outputs": [],
   "source": [
    "comparison_plot_cuts(var='pee_t',\n",
    "                       range=(0, 2),\n",
    "                       bins=10,\n",
    "                       m4mz=(0.1, 1),\n",
    "                       exp_analysis_obj=my_exp_analyses['heavy_dirac'],\n",
    "                       smoothing_pars=(0.005, 0.05),\n",
    "                       selection_queries=['no_cuts', 'cut1', 'cut2'],\n",
    "                       cumulative=True);"
   ]
  },
  {
   "cell_type": "markdown",
   "metadata": {},
   "source": [
    "## Efficiency"
   ]
  },
  {
   "cell_type": "markdown",
   "metadata": {},
   "source": [
    "### Single efficiency for KDE"
   ]
  },
  {
   "cell_type": "code",
   "execution_count": null,
   "metadata": {},
   "outputs": [],
   "source": [
    "kde_efficiency(num_selection_query='cut1',\n",
    "               den_selection_query='no_cuts',\n",
    "               m4mz=(0.1, 0.5),\n",
    "               exp_analysis_obj=my_exp_analyses['heavy_dirac']\n",
    "               )"
   ]
  },
  {
   "cell_type": "markdown",
   "metadata": {},
   "source": [
    "### Single efficiency for no scan"
   ]
  },
  {
   "cell_type": "code",
   "execution_count": null,
   "metadata": {},
   "outputs": [],
   "source": [
    "no_scan_efficiency(num_selection_query='cut1',\n",
    "               den_selection_query='no_cuts',\n",
    "               m4mz=(0.1, 1),\n",
    "               exp_analysis_obj=my_exp_analyses['heavy_dirac']\n",
    "               )"
   ]
  },
  {
   "cell_type": "markdown",
   "metadata": {},
   "source": [
    "### Efficiency on the m4,mz grid"
   ]
  },
  {
   "cell_type": "code",
   "execution_count": null,
   "metadata": {},
   "outputs": [],
   "source": [
    "kde_no_scan_efficiency_plot_grid(num_selection_query='cut1',\n",
    "                                 den_selection_query='no_cuts',\n",
    "                                 exp_analysis_obj=my_exp_analyses['heavy_dirac'],\n",
    "                                 smoothing_pars=[0.005, 0.05]);"
   ]
  },
  {
   "cell_type": "markdown",
   "metadata": {},
   "source": [
    "### Efficiency for multiple cuts"
   ]
  },
  {
   "cell_type": "code",
   "execution_count": null,
   "metadata": {},
   "outputs": [],
   "source": [
    "kde_no_scan_efficiency_cut_list(num_selection_queries=['(cut1 & cut2)', 'cut2', 'cut3', 'cut4', 'cut_based'], \n",
    "                                den_selection_queries='decay_in_tpc_10', \n",
    "                                exp_analysis_obj=my_exp_analyses['heavy_dirac'], \n",
    "                                m4mz=(0.1, 1),\n",
    "                                smoothing_pars=[0.005, 0.05])"
   ]
  },
  {
   "cell_type": "markdown",
   "metadata": {},
   "source": [
    "### Efficiency for multiple c$\\tau$ (finally!!!)"
   ]
  },
  {
   "cell_type": "code",
   "execution_count": null,
   "metadata": {},
   "outputs": [],
   "source": [
    "ctaus = [1, 10, 100, 1000, 10000]\n",
    "my_exp_analyses['heavy_dirac'].ctau_acceptance(ctaus)\n",
    "\n",
    "kde_no_scan_efficiency_cut_list(num_selection_queries=[f'decay_in_tpc_{ctau}' for ctau in ctaus], \n",
    "                                den_selection_queries='no_cuts', \n",
    "                                exp_analysis_obj=my_exp_analyses['heavy_dirac'], \n",
    "                                m4mz=(0.1, 1),\n",
    "                                smoothing_pars=[0.005, 0.05]);\n",
    "plt.xticks(range(len(ctaus)), labels=[f'c$\\\\tau$ = {ctau}' for ctau in ctaus]);"
   ]
  },
  {
   "cell_type": "markdown",
   "metadata": {},
   "source": [
    "## Comparison N events for different cuts and different c$\\tau$"
   ]
  },
  {
   "cell_type": "markdown",
   "metadata": {},
   "source": [
    "### For different cuts"
   ]
  },
  {
   "cell_type": "code",
   "execution_count": null,
   "metadata": {},
   "outputs": [],
   "source": [
    "selections = ['cut1', 'cut2', 'cut3', 'cut4', 'cut_based']\n",
    "\n",
    "for selection in selections:\n",
    "    fig, axes = plt.subplots(nrows=1, ncols=len(my_exp_analyses), figsize=(len(my_exp_analyses)*5, 5))\n",
    "    plt.suptitle(r'N events KDE / generated without scan')\n",
    "\n",
    "    for my_exp_analysis, ax in zip(my_exp_analyses.values(), axes):\n",
    "        print(my_exp_analysis.hierarchy, my_exp_analysis.D_or_M)\n",
    "        n_events_grid_no_scan = my_exp_analysis.no_scan_benchmark_grid(lambda x: x.query(selection)['actual_weight'].sum())\n",
    "        n_events_err_kde = my_exp_analysis.kde_n_events_benchmark_grid(selection_query=selection,\n",
    "                                                                       smoothing=general_smoothing_pars)\n",
    "        n_events_kde = n_events_err_kde[..., 0]\n",
    "        n_events_kde_err = n_events_err_kde[..., 1]\n",
    "\n",
    "        plt.sca(ax)\n",
    "        annotated_2d_plot(data=n_events_kde/n_events_grid_no_scan,\n",
    "                          xcenters=my_exp_analysis.m4_scan,\n",
    "                          ycenters=my_exp_analysis.mz_scan,\n",
    "                          xlabel =r'$m_4$ [GeV]',\n",
    "                          ylabel=r'$m_Z$ [GeV]',\n",
    "                          vmin=0.5,\n",
    "                          vmax=1.5,\n",
    "                          errors_to_annotate=n_events_kde_err/n_events_grid_no_scan\n",
    "                          )\n",
    "\n",
    "        set_plot_title(exp_analysis_obj=my_exp_analysis, \n",
    "                       smoothing_pars=general_smoothing_pars,\n",
    "                       selection_query=selection)\n",
    "    plt.colorbar()\n",
    "    plt.savefig(f'../fig/3_comparison_observables/N_selection_{selection}.pdf', bbox_inches='tight')\n",
    "    plt.close()"
   ]
  },
  {
   "cell_type": "markdown",
   "metadata": {},
   "source": [
    "### For different c$\\tau$"
   ]
  },
  {
   "cell_type": "code",
   "execution_count": null,
   "metadata": {},
   "outputs": [],
   "source": [
    "ctaus = [1, 10, 100, 1000]\n",
    "\n",
    "for ctau in ctaus:\n",
    "    fig, axes = plt.subplots(nrows=1, ncols=len(my_exp_analyses), figsize=(len(my_exp_analyses)*5, 5))\n",
    "    plt.suptitle(r'N events KDE / generated without scan')\n",
    "\n",
    "    for my_exp_analysis, ax in zip(my_exp_analyses.values(), axes):\n",
    "        my_exp_analysis.ctau_acceptance(ctau)\n",
    "        print(my_exp_analysis.hierarchy, my_exp_analysis.D_or_M)\n",
    "        sel_query = f'decay_in_tpc_{ctau}'\n",
    "        n_events_grid_no_scan = my_exp_analysis.no_scan_benchmark_grid(lambda x: x.query(sel_query)['actual_weight'].sum())\n",
    "        n_events_err_kde = my_exp_analysis.kde_n_events_benchmark_grid(selection_query=sel_query,\n",
    "                                                                       smoothing=general_smoothing_pars)\n",
    "        n_events_kde = n_events_err_kde[..., 0]\n",
    "        n_events_kde_err = n_events_err_kde[..., 1]\n",
    "\n",
    "        plt.sca(ax)\n",
    "        annotated_2d_plot(data=n_events_kde/n_events_grid_no_scan,\n",
    "                          xcenters=my_exp_analysis.m4_scan,\n",
    "                          ycenters=my_exp_analysis.mz_scan,\n",
    "                          xlabel =r'$m_4$ [GeV]',\n",
    "                          ylabel=r'$m_Z$ [GeV]',\n",
    "                          vmin=0.5,\n",
    "                          vmax=1.5,\n",
    "                          errors_to_annotate=n_events_kde_err/n_events_grid_no_scan\n",
    "                          )\n",
    "\n",
    "        set_plot_title(exp_analysis_obj=my_exp_analysis, \n",
    "                       smoothing_pars=general_smoothing_pars,\n",
    "                       selection_query=sel_query)\n",
    "    plt.colorbar()\n",
    "    plt.savefig(f'../fig/3_comparison_observables/N_ctau_{ctau}.pdf', bbox_inches='tight')\n",
    "    plt.close()"
   ]
  },
  {
   "cell_type": "markdown",
   "metadata": {},
   "source": [
    "## Example of plotting comparisons for a single observable -- ee energy\n",
    "## It needs to be updated!"
   ]
  },
  {
   "cell_type": "code",
   "execution_count": null,
   "metadata": {},
   "outputs": [],
   "source": [
    "bins = 10\n",
    "var1='ee_energy'\n",
    "var2=''\n",
    "varmin=0; varmax=1.0\n",
    "fig,  axes = plt.subplots(nrows=1, ncols=4,figsize = (18,4))\n",
    "\n",
    "# Heavy\n",
    "m4mz = (0.1, 1)\n",
    "smooth=(0.02,0.01)\n",
    "exp_analyses=[my_exp_analysis_hd,my_exp_analysis_hm]\n",
    "batch_comparison_plot(axes[:2],exp_analyses, m4mz,var1,var2,smooth=smooth,var_range=(varmin,varmax), bins=bins)\n",
    "\n",
    "# light\n",
    "m4mz = (0.4, 0.1)\n",
    "smooth=(0.02,0.02)\n",
    "exp_analyses=[my_exp_analysis_ld,my_exp_analysis_lm]\n",
    "batch_comparison_plot(axes[2:],exp_analyses, m4mz,var1,var2,smooth=smooth,var_range=(varmin,varmax), bins=bins)\n",
    "\n",
    "plt.tight_layout()"
   ]
  },
  {
   "cell_type": "markdown",
   "metadata": {},
   "source": [
    "## Comparing (heavy light)(maj dir) for all variables \n",
    "\n",
    "plots stored in multi-page pdf in plots/generation_KDE_comparisons/"
   ]
  },
  {
   "cell_type": "code",
   "execution_count": null,
   "metadata": {},
   "outputs": [],
   "source": [
    "%%capture\n",
    "m4mzheavy= (0.1, 1)\n",
    "m4mzlight = (0.4, 0.03)\n",
    "\n",
    "# cases for each panel\n",
    "exp_analyses=[my_exp_analysis_hd,my_exp_analysis_hm,my_exp_analysis_ld,my_exp_analysis_lm]\n",
    "\n",
    "batch_comparison_light_heavy(f\"../plots/generation_KDE_comparisons/m4H_{m4mzheavy[0]}_mzH_{m4mzheavy[1]}_m4L_{m4mzlight[0]}_mzL_{m4mzlight[1]}.pdf\", \n",
    "                           exp_analyses,m4mzheavy,m4mzlight)"
   ]
  },
  {
   "cell_type": "code",
   "execution_count": null,
   "metadata": {},
   "outputs": [],
   "source": [
    "%%capture\n",
    "m4mzheavy= (0.01, 1)\n",
    "m4mzlight = (0.4, 0.03)\n",
    "\n",
    "s# cases for each panel\n",
    "exp_analyses=[my_exp_analysis_hd,my_exp_analysis_hm,my_exp_analysis_ld,my_exp_analysis_lm]\n",
    "\n",
    "batch_comparison_light_heavy(f\"../plots/generation_KDE_comparisons/m4H_{m4mzheavy[0]}_mzH_{m4mzheavy[1]}_m4L_{m4mzlight[0]}_mzL_{m4mzlight[1]}.pdf\", \n",
    "                           exp_analyses,m4mzheavy,m4mzlight)"
   ]
  },
  {
   "cell_type": "markdown",
   "metadata": {},
   "source": [
    "## Compare different cut stages for a single (heavy light)(maj dir) case"
   ]
  },
  {
   "cell_type": "code",
   "execution_count": null,
   "metadata": {},
   "outputs": [],
   "source": [
    "%%capture\n",
    "m4mz= (0.1, 0.03)\n",
    "\n",
    "exp_analyses=[my_exp_analysis_lm]*4\n",
    "# varying var range for light case -- standard def is better for heavy case\n",
    "var_range = [(0,1.0),\n",
    "            (0,np.pi/4),\n",
    "            (0,m4mz[0]),\n",
    "            (-1,1.0),\n",
    "            (0,np.pi/4),\n",
    "            (0,np.pi/4),\n",
    "            (0,0.01)]\n",
    "smooth_light=(0.02,0.02)\n",
    "batch_comparison_cutlevels(f\"../plots/generation_KDE_comparisons/cut_flow_m4_{m4mz[0]}_mz_{m4mz[1]}.pdf\", \n",
    "                           exp_analyses, m4mz, smooth = smooth_light,\n",
    "                           var_range=var_range,\n",
    "                           sel_criterion=['no_cuts', 'cut1', 'cut2', 'cut_based'])  "
   ]
  },
  {
   "cell_type": "code",
   "execution_count": null,
   "metadata": {
    "scrolled": true
   },
   "outputs": [],
   "source": [
    "%%capture\n",
    "m4mz= (0.1, 1)\n",
    "exp_analyses=[my_exp_analysis_hm]*4\n",
    "\n",
    "batch_comparison_cutlevels(f\"../plots/generation_KDE_comparisons/cut_flow_m4_{m4mz[0]}_mz_{m4mz[1]}.pdf\", \n",
    "                           exp_analyses, m4mz, sel_criterion=['no_cuts', 'cut1', 'cut2', 'cut_based'])"
   ]
  }
 ],
 "metadata": {
  "kernelspec": {
   "display_name": "Python 3",
   "language": "python",
   "name": "python3"
  },
  "language_info": {
   "codemirror_mode": {
    "name": "ipython",
    "version": 3
   },
   "file_extension": ".py",
   "mimetype": "text/x-python",
   "name": "python",
   "nbconvert_exporter": "python",
   "pygments_lexer": "ipython3",
   "version": "3.9.2"
  }
 },
 "nbformat": 4,
 "nbformat_minor": 2
}
