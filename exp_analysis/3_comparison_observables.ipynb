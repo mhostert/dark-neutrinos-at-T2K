{
 "cells": [
  {
   "cell_type": "markdown",
   "metadata": {},
   "source": [
    "# Comparing Vegas generated without scanning with the KDE prediction in observables"
   ]
  },
  {
   "cell_type": "code",
   "execution_count": 12,
   "metadata": {},
   "outputs": [
    {
     "name": "stdout",
     "output_type": "stream",
     "text": [
      "The autoreload extension is already loaded. To reload it, use:\n",
      "  %reload_ext autoreload\n"
     ]
    }
   ],
   "source": [
    "%load_ext autoreload\n",
    "%autoreload 2"
   ]
  },
  {
   "cell_type": "code",
   "execution_count": 13,
   "metadata": {},
   "outputs": [],
   "source": [
    "import matplotlib.pyplot as plt\n",
    "import numpy as np\n",
    "import pandas as pd\n",
    "from parameters_dict import physics_parameters\n",
    "from exp_analysis_class import exp_analysis"
   ]
  },
  {
   "cell_type": "code",
   "execution_count": 14,
   "metadata": {},
   "outputs": [
    {
     "name": "stdout",
     "output_type": "stream",
     "text": [
      "/bin/bash: port_used: line 1: syntax error: unexpected end of file\n",
      "/bin/bash: error importing function definition for `BASH_FUNC_port_used'\n",
      "/bin/bash: wait_until_port_used: line 1: syntax error: unexpected end of file\n",
      "/bin/bash: error importing function definition for `BASH_FUNC_wait_until_port_used'\n",
      "/bin/bash: module: line 1: syntax error: unexpected end of file\n",
      "/bin/bash: error importing function definition for `BASH_FUNC_module'\n",
      "/bin/bash: find_port: line 1: syntax error: unexpected end of file\n",
      "/bin/bash: error importing function definition for `BASH_FUNC_find_port'\n",
      "/bin/bash: random_number: line 1: syntax error: unexpected end of file\n",
      "/bin/bash: error importing function definition for `BASH_FUNC_random_number'\n",
      "/bin/bash: helmod: line 1: syntax error: unexpected end of file\n",
      "/bin/bash: error importing function definition for `BASH_FUNC_helmod'\n",
      "/bin/bash: source_helpers: line 1: syntax error: unexpected end of file\n",
      "/bin/bash: error importing function definition for `BASH_FUNC_source_helpers'\n",
      "/bin/bash: ml: line 1: syntax error: unexpected end of file\n",
      "/bin/bash: error importing function definition for `BASH_FUNC_ml'\n",
      "/bin/bash: create_passwd: line 1: syntax error: unexpected end of file\n",
      "/bin/bash: error importing function definition for `BASH_FUNC_create_passwd'\n"
     ]
    },
    {
     "name": "stderr",
     "output_type": "stream",
     "text": [
      "/n/home00/nfoppiani/projects/dark_nus/nicgen/exp_analysis/exp_analysis_class.py:37: RuntimeWarning: invalid value encountered in sqrt\n",
      "  gamma = (2*np.pi*2*np.sqrt(-4*(m_ell*m_ell) + mz*mz)*(5*(m_ell*m_ell) + 2*(mz*mz))*np.pi)/(24.*(mz*mz)*(np.pi*np.pi))\n"
     ]
    }
   ],
   "source": [
    "hierarchy = 'heavy'\n",
    "D_or_M = 'dirac'\n",
    "save_folder = (f'../fig/3_comparison_observables/{hierarchy}_{D_or_M}/')\n",
    "!mkdir -p $save_folder\n",
    "my_exp_analysis = exp_analysis(hierarchy, D_or_M)\n",
    "my_exp_analysis.load_df_base(1000000)"
   ]
  },
  {
   "cell_type": "code",
   "execution_count": 15,
   "metadata": {},
   "outputs": [
    {
     "name": "stderr",
     "output_type": "stream",
     "text": [
      "/n/home00/nfoppiani/projects/dark_nus/nicgen/exp_analysis/exp_analysis_class.py:37: RuntimeWarning: invalid value encountered in sqrt\n",
      "  gamma = (2*np.pi*2*np.sqrt(-4*(m_ell*m_ell) + mz*mz)*(5*(m_ell*m_ell) + 2*(mz*mz))*np.pi)/(24.*(mz*mz)*(np.pi*np.pi))\n",
      "/n/home00/nfoppiani/projects/dark_nus/nicgen/exp_analysis/exp_analysis_class.py:37: RuntimeWarning: invalid value encountered in sqrt\n",
      "  gamma = (2*np.pi*2*np.sqrt(-4*(m_ell*m_ell) + mz*mz)*(5*(m_ell*m_ell) + 2*(mz*mz))*np.pi)/(24.*(mz*mz)*(np.pi*np.pi))\n",
      "/n/home00/nfoppiani/projects/dark_nus/nicgen/exp_analysis/exp_analysis_class.py:37: RuntimeWarning: invalid value encountered in sqrt\n",
      "  gamma = (2*np.pi*2*np.sqrt(-4*(m_ell*m_ell) + mz*mz)*(5*(m_ell*m_ell) + 2*(mz*mz))*np.pi)/(24.*(mz*mz)*(np.pi*np.pi))\n",
      "/n/home00/nfoppiani/projects/dark_nus/nicgen/exp_analysis/exp_analysis_class.py:37: RuntimeWarning: invalid value encountered in sqrt\n",
      "  gamma = (2*np.pi*2*np.sqrt(-4*(m_ell*m_ell) + mz*mz)*(5*(m_ell*m_ell) + 2*(mz*mz))*np.pi)/(24.*(mz*mz)*(np.pi*np.pi))\n"
     ]
    }
   ],
   "source": [
    "my_exp_analysis.load_grid_dfs()"
   ]
  },
  {
   "cell_type": "code",
   "execution_count": 31,
   "metadata": {},
   "outputs": [],
   "source": [
    "import matplotlib.patches as patches\n",
    "\n",
    "def kde_variable_plot(var1, var2, range, bins, m4mz, exp_analysis_obj, smoothing_pars=[0.005, 0.05], selection='True'):\n",
    "    this_weight = exp_analysis_obj.kde_on_a_point(m4mz, smoothing_pars) \n",
    "    selection_weights = exp_analysis_obj.df_base.eval(selection)\n",
    "    this_weight *= selection_weights\n",
    "    \n",
    "    kde_prediction, bin_edges = np.histogram(exp_analysis_obj.df_base[var1, var2],\n",
    "             range=range,\n",
    "             bins=bins,\n",
    "             weights=this_weight,\n",
    "            )\n",
    "    \n",
    "    kde_errors2 = np.histogram(exp_analysis_obj.df_base[var1, var2],\n",
    "                 range=range,\n",
    "                 bins=bins,\n",
    "                 weights=this_weight**2,\n",
    "                )[0]\n",
    "    \n",
    "    plt.plot(bin_edges,\n",
    "             np.append(kde_prediction, [0]),\n",
    "             ds='steps-post',\n",
    "             label=f'kde prediction: {kde_prediction.sum():.2g} '\\\n",
    "                f'$\\pm$ {100*np.sqrt(kde_errors2.sum())/kde_prediction.sum():.2g}%')\n",
    "    \n",
    "    kde_errors = np.sqrt(kde_errors2)\n",
    "    for edge_left, edge_right, pred, err in zip(bin_edges[:-1], bin_edges[1:], kde_prediction, kde_errors):\n",
    "            plt.gca().add_patch(\n",
    "                patches.Rectangle(\n",
    "                    (edge_left, pred-err),\n",
    "                    edge_right-edge_left,\n",
    "                    2 * err,\n",
    "                    hatch=\"\\\\\\\\\\\\\\\\\\\\\",\n",
    "                    fill=False,\n",
    "                    linewidth=0,\n",
    "                    alpha=0.4,\n",
    "                )\n",
    "            )\n",
    "            \n",
    "    plt.legend(frameon=False)\n",
    "    plt.title(f'selection = {selection}')\n",
    "    plt.xlabel(f'{var1} - {var2}')    \n",
    "    plt.ylabel(f'Number of entries')\n",
    "    \n",
    "def kde_to_noscan_comparison(var1, var2, range, bins, m4mz, exp_analysis_obj, smoothing_pars=[0.005, 0.05], selection='True'):\n",
    "    assert m4mz in list(exp_analysis_obj.dfs.keys())\n",
    "    kde_variable_plot(var1, var2, range, bins, m4mz, exp_analysis_obj, smoothing_pars, selection)\n",
    "    \n",
    "    no_scan = exp_analysis_obj.dfs[m4mz]\n",
    "    selection_weights = no_scan.eval(selection)\n",
    "    actual_weight = no_scan['actual_weight', '']\n",
    "    this_weight = selection_weights * actual_weight\n",
    "    no_scan_pred, bin_edges = np.histogram(no_scan[var1, var2],\n",
    "                                             range=range,\n",
    "                                             bins=bins,\n",
    "                                             weights=this_weight,\n",
    "                                            )\n",
    "    no_scan_pred_err = np.histogram(no_scan[var1, var2],\n",
    "                                             range=range,\n",
    "                                             bins=bins,\n",
    "                                             weights=this_weight**2,\n",
    "                                            )[0]\n",
    "    plt.errorbar((bin_edges[1:]+bin_edges[:-1])/2, no_scan_pred, \n",
    "             yerr=np.sqrt(no_scan_pred_err),\n",
    "             fmt='k.',\n",
    "             label=f'no scanning: {no_scan_pred.sum():.2g} '\\\n",
    "                    f'$\\pm$ {100*np.sqrt(no_scan_pred_err.sum())/no_scan_pred.sum():.2g}%')\n",
    "    \n",
    "    plt.ylim(bottom=0)\n",
    "    plt.xlim(left=0)\n",
    "    plt.legend(frameon=False)\n",
    "    plt.title(f'selection = {selection} @ m4={m4mz[0]} GeV, mz={m4mz[1]} GeV\\n '\\\n",
    "              f'{exp_analysis_obj.hierarchy} {exp_analysis_obj.D_or_M} case\\n '\\\n",
    "              f'smoothing pars = {smoothing_pars[0]} GeV, {smoothing_pars[1]} GeV')"
   ]
  },
  {
   "cell_type": "code",
   "execution_count": 32,
   "metadata": {},
   "outputs": [
    {
     "data": {
      "image/png": "[encoded data removed]",
      "text/plain": [
       "<Figure size 432x288 with 1 Axes>"
      ]
     },
     "metadata": {
      "needs_background": "light"
     },
     "output_type": "display_data"
    }
   ],
   "source": [
    "kde_to_noscan_comparison(var1='ee_mass', \n",
    "                         var2='', \n",
    "                         range=(0, 0.1), \n",
    "                         bins=10, \n",
    "                         m4mz=(0.1, 1), \n",
    "                         exp_analysis_obj=my_exp_analysis,\n",
    "                         smoothing_pars=[0.002, 0.03])"
   ]
  },
  {
   "cell_type": "markdown",
   "metadata": {},
   "source": [
    "# This is all pretty old stuff"
   ]
  },
  {
   "cell_type": "markdown",
   "metadata": {},
   "source": [
    "## Test comparison between KDE and truth"
   ]
  },
  {
   "cell_type": "code",
   "execution_count": 5,
   "metadata": {},
   "outputs": [],
   "source": [
    "case = 'light'\n",
    "pars = {}\n",
    "pars['heavy'] = {\n",
    "    'm4' : [0.1, 0.2, 0.3, 0.4],\n",
    "    'mz_prime': [1.25],\n",
    "}\n",
    "pars['light'] = {\n",
    "    'm4' : [0.2, 0.3, 0.4], \n",
    "    'mz_prime': [0.03, 0.045, 0.06],\n",
    "}\n",
    "\n",
    "ctaus = [1, 5, 10, 20, 50, 100, 200]\n",
    "!mkdir -p ../../fig/kde_test_2d/comparison_kde_truth/\n",
    "save_folder = \"../../fig/kde_test_2d/comparison_kde_truth/\"\n",
    "produce_samples = False\n",
    "\n",
    "#generation part\n",
    "if produce_samples:\n",
    "    for m4, mz_prime in itertools.product(pars[case]['m4'], pars[case]['mz_prime']):\n",
    "        print(m4, mz_prime)\n",
    "        if case == 'light':\n",
    "            dark_gen_run = f'cd ..; ./dark_gen.py --M4 {m4} --mzprime {mz_prime} --UMU4 8e-9 --alpha_dark 0.25 --alpha_epsilon2 2e-10 --hierarchy light_mediator --neval 100000 --noplot'\n",
    "        elif case == 'heavy':\n",
    "            dark_gen_run = f'cd ..; ./dark_gen.py --M4 {m4} --mzprime {mz_prime} --UMU4 2.2e-7 --alpha_dark 0.4 --epsilon2 4.6e-4 --neval 100000 --noplot --hierarchy heavy_mediator'\n",
    "        else:\n",
    "            print('No good case selected')\n",
    "        stream = os.popen(dark_gen_run)\n",
    "        print(stream.read())"
   ]
  },
  {
   "cell_type": "code",
   "execution_count": 19,
   "metadata": {},
   "outputs": [
    {
     "name": "stdout",
     "output_type": "stream",
     "text": [
      "no_selection\n",
      "m4 = 0.2, mz = 0.03, kde = 1.9e+03, truth = 1.9e+03, ratio = 1\n",
      "cut_based\n",
      "m4 = 0.2, mz = 0.03, kde = 7.3e+02, truth = 6.8e+02, ratio = 1.1\n",
      "no_selection\n",
      "m4 = 0.2, mz = 0.045, kde = 7.1e+02, truth = 1.2e+03, ratio = 0.58\n",
      "cut_based\n",
      "m4 = 0.2, mz = 0.045, kde = 2.5e+02, truth = 4.2e+02, ratio = 0.59\n",
      "no_selection\n",
      "m4 = 0.2, mz = 0.06, kde = 4.1e+02, truth = 6.6e+02, ratio = 0.63\n",
      "cut_based\n",
      "m4 = 0.2, mz = 0.06, kde = 1.5e+02, truth = 2.2e+02, ratio = 0.66\n",
      "no_selection\n",
      "m4 = 0.3, mz = 0.03, kde = 6e+02, truth = 6.8e+02, ratio = 0.87\n",
      "cut_based\n",
      "m4 = 0.3, mz = 0.03, kde = 2.8e+02, truth = 3.2e+02, ratio = 0.87\n",
      "no_selection\n",
      "m4 = 0.3, mz = 0.045, kde = 3e+02, truth = 3.7e+02, ratio = 0.79\n",
      "cut_based\n",
      "m4 = 0.3, mz = 0.045, kde = 1.2e+02, truth = 1.5e+02, ratio = 0.78\n",
      "no_selection\n",
      "m4 = 0.3, mz = 0.06, kde = 1.9e+02, truth = 2e+02, ratio = 0.98\n",
      "cut_based\n",
      "m4 = 0.3, mz = 0.06, kde = 72, truth = 75, ratio = 0.97\n",
      "no_selection\n",
      "m4 = 0.4, mz = 0.03, kde = 2.5e+02, truth = 2.5e+02, ratio = 0.98\n",
      "cut_based\n",
      "m4 = 0.4, mz = 0.03, kde = 1.3e+02, truth = 1.3e+02, ratio = 0.98\n",
      "no_selection\n",
      "m4 = 0.4, mz = 0.045, kde = 1.3e+02, truth = 1.4e+02, ratio = 0.93\n",
      "cut_based\n",
      "m4 = 0.4, mz = 0.045, kde = 59, truth = 66, ratio = 0.89\n",
      "no_selection\n",
      "m4 = 0.4, mz = 0.06, kde = 92, truth = 85, ratio = 1.1\n",
      "cut_based\n",
      "m4 = 0.4, mz = 0.06, kde = 40, truth = 36, ratio = 1.1\n"
     ]
    }
   ],
   "source": [
    "# 1d histograms with one specific variable\n",
    "var_1 = 'ee_energy'\n",
    "var_2 = ''\n",
    "hist_range = [0, 5]\n",
    "bins = 20\n",
    "ctau = 1\n",
    "smooth_m4 = 0.03\n",
    "smooth_mz = 0.005\n",
    "\n",
    "kde_total = dict(zip(['no_selection', 'cut_based'], [[], []]))\n",
    "truth_total = dict(zip(['no_selection', 'cut_based'], [[], []]))\n",
    "\n",
    "for m4, mz in itertools.product(pars[case]['m4'], pars[case]['mz_prime']):\n",
    "    df = pd.read_pickle(f'../data/nd280_nu/3plus1/m4_{m4}_mzprime_{mz}/MC_m4_{m4}_mzprime_{mz}.pckl')\n",
    "    initialise_df(df)\n",
    "    for selection_step in ['no_selection', 'cut_based']:\n",
    "\n",
    "        aux_out = output_distrib(df_base, var_1, var_2, bins, hist_range, m4, mz, ctau, smooth_m4, smooth_mz, selection_step)\n",
    "        kde_total[selection_step].append(aux_out)\n",
    "\n",
    "        truth_weights = df['actual_weight', '']*df[selection_step, '']\n",
    "        plt.hist(df[var_1, var_2],\n",
    "             range=hist_range,\n",
    "             bins=bins,\n",
    "             weights=truth_weights,\n",
    "             histtype='step',\n",
    "             label=f'truth with $m_4$ = {m4:.2g} GeV, $m_Z$ = {mz:.2g} GeV\\nexpected events = {truth_weights.sum():.1f}')\n",
    "        truth_total[selection_step].append(truth_weights.sum())\n",
    "        plt.autoscale()\n",
    "        plt.legend(frameon=False)\n",
    "        plt.savefig(save_folder+f\"case_{case}_m4_{m4}_mz_{mz}_N_{n_evt}_{selection_step}.png\", bbox_inches='tight', dpi=250)\n",
    "        plt.close()"
   ]
  },
  {
   "cell_type": "code",
   "execution_count": 12,
   "metadata": {},
   "outputs": [
    {
     "name": "stdout",
     "output_type": "stream",
     "text": [
      "no_selection\n",
      "m4 = 0.2, mz = 0.03, kde = 1.9e+03, truth = 1.9e+03, ratio = 1 +/- 0.0055\n",
      "relative sigma_kde = 0.0049, sigma_truth = 0.0026\n",
      "cut_based\n",
      "m4 = 0.2, mz = 0.03, kde = 7.3e+02, truth = 6.8e+02, ratio = 1.1 +/- 0.0088\n",
      "relative sigma_kde = 0.0071, sigma_truth = 0.0042\n",
      "no_selection\n",
      "m4 = 0.2, mz = 0.045, kde = 7.1e+02, truth = 1.2e+03, ratio = 0.58 +/- 0.0055\n",
      "relative sigma_kde = 0.009, sigma_truth = 0.0033\n",
      "cut_based\n",
      "m4 = 0.2, mz = 0.045, kde = 2.5e+02, truth = 4.2e+02, ratio = 0.59 +/- 0.0085\n",
      "relative sigma_kde = 0.013, sigma_truth = 0.0054\n",
      "no_selection\n",
      "m4 = 0.2, mz = 0.06, kde = 4.1e+02, truth = 6.6e+02, ratio = 0.63 +/- 0.011\n",
      "relative sigma_kde = 0.017, sigma_truth = 0.0031\n",
      "cut_based\n",
      "m4 = 0.2, mz = 0.06, kde = 1.5e+02, truth = 2.2e+02, ratio = 0.66 +/- 0.017\n",
      "relative sigma_kde = 0.025, sigma_truth = 0.0052\n",
      "no_selection\n",
      "m4 = 0.3, mz = 0.03, kde = 6e+02, truth = 6.8e+02, ratio = 0.87 +/- 0.0049\n",
      "relative sigma_kde = 0.0046, sigma_truth = 0.0032\n",
      "cut_based\n",
      "m4 = 0.3, mz = 0.03, kde = 2.8e+02, truth = 3.2e+02, ratio = 0.87 +/- 0.007\n",
      "relative sigma_kde = 0.0066, sigma_truth = 0.0046\n",
      "no_selection\n",
      "m4 = 0.3, mz = 0.045, kde = 3e+02, truth = 3.7e+02, ratio = 0.79 +/- 0.0079\n",
      "relative sigma_kde = 0.0095, sigma_truth = 0.0029\n",
      "cut_based\n",
      "m4 = 0.3, mz = 0.045, kde = 1.2e+02, truth = 1.5e+02, ratio = 0.78 +/- 0.012\n",
      "relative sigma_kde = 0.015, sigma_truth = 0.0046\n",
      "no_selection\n",
      "m4 = 0.3, mz = 0.06, kde = 1.9e+02, truth = 2e+02, ratio = 0.98 +/- 0.017\n",
      "relative sigma_kde = 0.017, sigma_truth = 0.0031\n",
      "cut_based\n",
      "m4 = 0.3, mz = 0.06, kde = 72, truth = 75, ratio = 0.97 +/- 0.026\n",
      "relative sigma_kde = 0.027, sigma_truth = 0.005\n",
      "no_selection\n",
      "m4 = 0.4, mz = 0.03, kde = 2.5e+02, truth = 2.5e+02, ratio = 0.98 +/- 0.0056\n",
      "relative sigma_kde = 0.0049, sigma_truth = 0.003\n",
      "cut_based\n",
      "m4 = 0.4, mz = 0.03, kde = 1.3e+02, truth = 1.3e+02, ratio = 0.98 +/- 0.0081\n",
      "relative sigma_kde = 0.0071, sigma_truth = 0.0042\n",
      "no_selection\n",
      "m4 = 0.4, mz = 0.045, kde = 1.3e+02, truth = 1.4e+02, ratio = 0.93 +/- 0.01\n",
      "relative sigma_kde = 0.01, sigma_truth = 0.0032\n",
      "cut_based\n",
      "m4 = 0.4, mz = 0.045, kde = 59, truth = 66, ratio = 0.89 +/- 0.015\n",
      "relative sigma_kde = 0.016, sigma_truth = 0.0048\n",
      "no_selection\n",
      "m4 = 0.4, mz = 0.06, kde = 92, truth = 85, ratio = 1.1 +/- 0.02\n",
      "relative sigma_kde = 0.019, sigma_truth = 0.0028\n",
      "cut_based\n",
      "m4 = 0.4, mz = 0.06, kde = 40, truth = 36, ratio = 1.1 +/- 0.035\n",
      "relative sigma_kde = 0.031, sigma_truth = 0.0043\n"
     ]
    }
   ],
   "source": [
    "# 2d ratio of kde and truth\n",
    "smooth_m4 = 0.03\n",
    "smooth_mz = 0.005\n",
    "ctau = 10\n",
    "\n",
    "kde_total = dict(zip(['no_selection', 'cut_based'], [[], []]))\n",
    "truth_total = dict(zip(['no_selection', 'cut_based'], [[], []]))\n",
    "likes_kde = dict(zip(['no_selection', 'cut_based'], [[], []]))\n",
    "likes_truth = dict(zip(['no_selection', 'cut_based'], [[], []]))\n",
    "ratios = dict(zip(['no_selection', 'cut_based'], [[], []]))\n",
    "sigma_ratios = dict(zip(['no_selection', 'cut_based'], [[], []]))\n",
    "\n",
    "for m4, mz in itertools.product(pars[case]['m4'], pars[case]['mz_prime']):\n",
    "    df = pd.read_pickle(f'../data/nd280_nu/3plus1/m4_{m4}_mzprime_{mz}/MC_m4_{m4}_mzprime_{mz}.pckl')\n",
    "    initialise_df(df)\n",
    "    for selection_step in ['no_selection', 'cut_based']:\n",
    "        mu_kde, sigma2_kde = mu_sigma2_of_theta(df_base, m4, mz, ctau, smooth_m4, smooth_mz, selection_step)\n",
    "        kde_total[selection_step].append(mu_kde)\n",
    "        likes_kde[selection_step].append(LEff(0, mu_kde, sigma2_kde))\n",
    "\n",
    "        mu_truth = (df['actual_weight', '']*df[selection_step, '']).sum()\n",
    "        sigma2_truth = ((df['actual_weight', '']*df[selection_step, ''])**2).sum()\n",
    "        truth_total[selection_step].append(mu_truth)\n",
    "        likes_truth[selection_step].append(LEff(0, mu_truth, sigma2_truth))\n",
    "\n",
    "        ratio = mu_kde/mu_truth\n",
    "        ratios[selection_step].append(ratio)\n",
    "        \n",
    "        sigma_ratio = ratio*np.sqrt(sigma2_kde/(mu_kde**2) + sigma2_truth/(mu_truth**2))\n",
    "        sigma_ratios[selection_step].append(sigma_ratio)\n",
    "        print(selection_step)\n",
    "        print(f\"m4 = {m4}, mz = {mz}, kde = {mu_kde:.2g}, truth = {mu_truth:.2g}, ratio = {ratio:.2g} +/- {sigma_ratio:.2g}\")\n",
    "        print(f\"relative sigma_kde = {np.sqrt(sigma2_kde)/mu_kde:.2g}, sigma_truth = {np.sqrt(sigma2_truth)/mu_truth:.2g}\")"
   ]
  },
  {
   "cell_type": "code",
   "execution_count": 14,
   "metadata": {},
   "outputs": [],
   "source": [
    "def create_bin_edges_from_array(ar):\n",
    "    ar_min = 2* ar[0] - ar[1]\n",
    "    ar_max = 2* ar[-1] - ar[-2]\n",
    "    new_ar = np.array([ar_min] + list(ar) + [ar_max])\n",
    "    return np.array((new_ar[1:] + new_ar[:-1])/2)"
   ]
  },
  {
   "cell_type": "code",
   "execution_count": 41,
   "metadata": {},
   "outputs": [],
   "source": [
    "m4_centres = np.array(pars[case]['m4'])\n",
    "mz_centres = np.array(pars[case]['mz_prime'])\n",
    "m4_edges = create_bin_edges_from_array(m4_centres)\n",
    "mz_edges = create_bin_edges_from_array(mz_centres)\n",
    "\n",
    "ratio_total = {}\n",
    "for sel in kde_total.keys():\n",
    "    this_ratio = np.array(ratios[sel]).reshape(len(pars[case]['m4']), len(pars[case]['mz_prime']))\n",
    "    this_sigma_ratio = np.array(sigma_ratios[sel]).reshape(len(pars[case]['m4']), len(pars[case]['mz_prime']))\n",
    "    plt.pcolormesh(m4_edges, mz_edges, this_ratio.T)\n",
    "    for i in range(len(m4_centres)):\n",
    "        for j in range(len(mz_centres)):\n",
    "            text = plt.text(pars[case]['m4'][j], pars[case]['mz_prime'][i], f\"{this_ratio[j, i]:.3g} $\\pm$ {this_sigma_ratio[j, i]:.1g}\",\n",
    "                            ha=\"center\", va=\"center\", color=\"k\")\n",
    "    plt.colorbar()\n",
    "    plt.xlabel(r'$m_4$ [GeV]')\n",
    "    plt.ylabel(r'$m_Z$ [GeV]')\n",
    "    plt.title(f'KDE estimate/truth ratio at {sel}')\n",
    "    plt.savefig(save_folder+f\"kde_truth_ratio_2d_summary_case_{case}_N_{n_evt}_{sel}.png\", bbox_inches='tight', dpi=250)\n",
    "    plt.close()"
   ]
  },
  {
   "cell_type": "code",
   "execution_count": 28,
   "metadata": {},
   "outputs": [],
   "source": [
    "m4_centres = np.array(pars[case]['m4'])\n",
    "mz_centres = np.array(pars[case]['mz_prime'])\n",
    "m4_edges = create_bin_edges_from_array(m4_centres)\n",
    "mz_edges = create_bin_edges_from_array(mz_centres)\n",
    "\n",
    "likes = dict(zip(['kde', 'truth'], [likes_kde, likes_truth]))\n",
    "for sel in kde_total.keys():\n",
    "    for mode in ['kde', 'truth']:\n",
    "        this_like = -1*np.array(likes[mode][sel]).reshape(len(pars[case]['m4']), len(pars[case]['mz_prime']))\n",
    "        this_like -= this_like.min()\n",
    "        plt.pcolormesh(m4_edges, mz_edges, this_like.T)\n",
    "        for i in range(len(m4_centres)):\n",
    "            for j in range(len(mz_centres)):\n",
    "                text = plt.text(pars[case]['m4'][j], pars[case]['mz_prime'][i], f\"{this_like[j, i]:.3g}\",\n",
    "                                ha=\"center\", va=\"center\", color=\"k\")\n",
    "        plt.colorbar()\n",
    "        plt.xlabel(r'$m_4$ [GeV]')\n",
    "        plt.ylabel(r'$m_Z$ [GeV]')\n",
    "        plt.title(f'Effective likelihood of seeing 0 events\\nestimated with {mode} at {sel}')\n",
    "        plt.savefig(save_folder+f\"likelihood_profile_{mode}_case_{case}_N_{n_evt}_{sel}.png\", bbox_inches='tight', dpi=250)\n",
    "        plt.close()"
   ]
  },
  {
   "cell_type": "code",
   "execution_count": null,
   "metadata": {},
   "outputs": [],
   "source": []
  }
 ],
 "metadata": {
  "kernelspec": {
   "display_name": "Python [conda env:dark_nus]",
   "language": "python",
   "name": "conda-env-dark_nus-py"
  },
  "language_info": {
   "codemirror_mode": {
    "name": "ipython",
    "version": 3
   },
   "file_extension": ".py",
   "mimetype": "text/x-python",
   "name": "python",
   "nbconvert_exporter": "python",
   "pygments_lexer": "ipython3",
   "version": "3.6.5"
  }
 },
 "nbformat": 4,
 "nbformat_minor": 2
}
