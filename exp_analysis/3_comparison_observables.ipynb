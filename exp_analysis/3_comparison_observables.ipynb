{
 "cells": [
  {
   "cell_type": "markdown",
   "metadata": {},
   "source": [
    "# Comparing Vegas generated without scanning with the KDE prediction in observables"
   ]
  },
  {
   "cell_type": "code",
   "execution_count": 1,
   "metadata": {},
   "outputs": [],
   "source": [
    "%load_ext autoreload\n",
    "%autoreload 2"
   ]
  },
  {
   "cell_type": "code",
   "execution_count": 2,
   "metadata": {},
   "outputs": [
    {
     "name": "stdout",
     "output_type": "stream",
     "text": [
      "0.0009866349020787781\n"
     ]
    }
   ],
   "source": [
    "import matplotlib.pyplot as plt\n",
    "import numpy as np\n",
    "import pandas as pd\n",
    "from parameters_dict import physics_parameters\n",
    "from exp_analysis_class import exp_analysis\n",
    "from plot_utils import *\n",
    "from dark_nus_utils import load_datasets"
   ]
  },
  {
   "cell_type": "code",
   "execution_count": 3,
   "metadata": {},
   "outputs": [],
   "source": [
    "save_folder_lin = '../fig/3_comparison_observables/'\n",
    "save_folder_log = '../fig/3_comparison_observables/'\n",
    "!mkdir -p $save_folder_lin\n",
    "!mkdir -p $save_folder_log"
   ]
  },
  {
   "cell_type": "markdown",
   "metadata": {},
   "source": [
    "## Use this to load the datasets in the usual way and dump them in pickle files"
   ]
  },
  {
   "cell_type": "code",
   "execution_count": 4,
   "metadata": {},
   "outputs": [],
   "source": [
    "# my_exp_analyses = load_datasets('heavy', 'majorana', dump=True, timeit=True)"
   ]
  },
  {
   "cell_type": "markdown",
   "metadata": {},
   "source": [
    "## Use the function this way to load the datasets from the pickle files"
   ]
  },
  {
   "cell_type": "code",
   "execution_count": 5,
   "metadata": {},
   "outputs": [
    {
     "name": "stdout",
     "output_type": "stream",
     "text": [
      "heavy dirac\n",
      "Wall time: 40.680750131607056 s, CPU time: 1.5522934030000002\n",
      "heavy majorana\n",
      "Wall time: 0.8776795864105225 s, CPU time: 0.872571013\n",
      "light dirac\n",
      "Wall time: 0.7164337635040283 s, CPU time: 0.7103210759999996\n",
      "light majorana\n",
      "Wall time: 0.698951005935669 s, CPU time: 0.6936705600000002\n"
     ]
    }
   ],
   "source": [
    "my_exp_analyses = load_datasets(timeit=True, direct_load_objects=True)"
   ]
  },
  {
   "cell_type": "markdown",
   "metadata": {},
   "source": [
    "## Validate the equivalence between previous and new methods"
   ]
  },
  {
   "cell_type": "code",
   "execution_count": 6,
   "metadata": {},
   "outputs": [],
   "source": [
    "this_exp_analysis = my_exp_analyses['heavy_majorana']"
   ]
  },
  {
   "cell_type": "code",
   "execution_count": 7,
   "metadata": {},
   "outputs": [
    {
     "data": {
      "text/plain": [
       "(1755.730055915997, 85.08790185012951, 195024, 1591)"
      ]
     },
     "execution_count": 7,
     "metadata": {},
     "output_type": "execute_result"
    }
   ],
   "source": [
    "this_exp_analysis.kde_n_events(this_exp_analysis.df_base.query('cut_based'),\n",
    "                               m4mz=(0.1, 1.25),\n",
    "                               ctau=100,\n",
    "                               provide_n_samples=True)"
   ]
  },
  {
   "cell_type": "code",
   "execution_count": 8,
   "metadata": {},
   "outputs": [
    {
     "data": {
      "text/plain": [
       "(2457.9444544204957, 133.3749551543555, 865795, 6737)"
      ]
     },
     "execution_count": 8,
     "metadata": {},
     "output_type": "execute_result"
    }
   ],
   "source": [
    "this_exp_analysis.kde_n_events_new(this_exp_analysis.df_base.query('cut_based'),\n",
    "                               m4mz=(0.1, 1.25),\n",
    "                               ctau=10,\n",
    "                               provide_n_samples=True)"
   ]
  },
  {
   "cell_type": "code",
   "execution_count": 9,
   "metadata": {},
   "outputs": [],
   "source": [
    "out_old = []\n",
    "out_new = []\n",
    "ctaus = np.geomspace(1e-3, 1e3, 20)\n",
    "for ctau in ctaus:\n",
    "    out_old.append(this_exp_analysis.kde_n_events(this_exp_analysis.df_base.query('cut_based'),\n",
    "                           m4mz=(0.1, 1.25),\n",
    "                           ctau=ctau,\n",
    "                           provide_n_samples=True))\n",
    "    out_new.append(this_exp_analysis.kde_n_events_new(this_exp_analysis.df_base.query('cut_based'),\n",
    "                           m4mz=(0.1, 1.25),\n",
    "                           ctau=ctau,\n",
    "                           provide_n_samples=True))\n",
    "out_old = np.asarray(out_old)\n",
    "out_new = np.asarray(out_new)"
   ]
  },
  {
   "cell_type": "code",
   "execution_count": 10,
   "metadata": {},
   "outputs": [
    {
     "data": {
      "text/plain": [
       "Text(0, 0.5, 'Expected number of events')"
      ]
     },
     "execution_count": 10,
     "metadata": {},
     "output_type": "execute_result"
    },
    {
     "data": {
      "image/png": "[encoded data removed]",
      "text/plain": [
       "<Figure size 432x288 with 1 Axes>"
      ]
     },
     "metadata": {
      "needs_background": "light"
     },
     "output_type": "display_data"
    }
   ],
   "source": [
    "old_plot = plt.plot(ctaus, out_old[:, 0], label='old')\n",
    "plt.fill_between(ctaus, out_old[:, 0]-np.sqrt(out_old[:, 1]), out_old[:, 0]+np.sqrt(out_old[:, 1]), \n",
    "                 color=old_plot[0].get_color(), alpha=0.3)\n",
    "new_plot = plt.plot(ctaus, out_new[:, 0], label='new')\n",
    "plt.fill_between(ctaus, out_new[:, 0]-np.sqrt(out_new[:, 1]), out_new[:, 0]+np.sqrt(out_new[:, 1]), \n",
    "                 color=new_plot[0].get_color(), alpha=0.3)\n",
    "plt.legend(frameon=False)\n",
    "plt.loglog()\n",
    "plt.ylim(bottom=1e-3)\n",
    "plt.xlabel(r'c$\\tau$ [cm]')\n",
    "plt.ylabel(r'Expected number of events')"
   ]
  },
  {
   "cell_type": "code",
   "execution_count": 11,
   "metadata": {},
   "outputs": [
    {
     "name": "stderr",
     "output_type": "stream",
     "text": [
      "<ipython-input-11-802fd57453e4>:4: RuntimeWarning: invalid value encountered in true_divide\n",
      "  old_plot = ax1.plot(ctaus, np.sqrt(out_old[:, 1])/out_old[:, 0], color='C0', linestyle='-', label='old')\n",
      "<ipython-input-11-802fd57453e4>:5: RuntimeWarning: invalid value encountered in true_divide\n",
      "  new_plot = ax1.plot(ctaus, np.sqrt(out_new[:, 1])/out_new[:, 0], color='C0', linestyle='--', label='new')\n"
     ]
    },
    {
     "data": {
      "text/plain": [
       "Text(0, 0.5, 'Number of entries')"
      ]
     },
     "execution_count": 11,
     "metadata": {},
     "output_type": "execute_result"
    },
    {
     "data": {
      "image/png": "[encoded data removed]",
      "text/plain": [
       "<Figure size 432x288 with 2 Axes>"
      ]
     },
     "metadata": {
      "needs_background": "light"
     },
     "output_type": "display_data"
    }
   ],
   "source": [
    "fig, ax1 = plt.subplots()\n",
    "ax2 = ax1.twinx()\n",
    "\n",
    "old_plot = ax1.plot(ctaus, np.sqrt(out_old[:, 1])/out_old[:, 0], color='C0', linestyle='-', label='old')\n",
    "new_plot = ax1.plot(ctaus, np.sqrt(out_new[:, 1])/out_new[:, 0], color='C0', linestyle='--', label='new')\n",
    "ax1.legend(frameon=False)\n",
    "ax1.loglog()\n",
    "ax1.set_xlabel(r'c$\\tau$ [cm]')\n",
    "ax1.set_ylabel(r'Relative uncertainty $\\sqrt{\\sum w_i^2}/\\sum w_i$', color=\"C0\")\n",
    "\n",
    "old_plot = ax2.plot(ctaus, out_old[:, 3], label='old', color='C1', linestyle='-')\n",
    "new_plot = ax2.plot(ctaus, out_new[:, 3], label='new', color='C1', linestyle='--')\n",
    "ax2.set_yscale('log')\n",
    "ax2.set_ylabel(r'Number of entries', color=\"C1\")"
   ]
  },
  {
   "cell_type": "code",
   "execution_count": null,
   "metadata": {},
   "outputs": [],
   "source": [
    "this_exp_analysis.df_base['decay_in_tpc'].sum()/len(this_exp_analysis.df_base)"
   ]
  },
  {
   "cell_type": "markdown",
   "metadata": {},
   "source": [
    "##### Examples"
   ]
  },
  {
   "cell_type": "code",
   "execution_count": null,
   "metadata": {},
   "outputs": [],
   "source": [
    "kde_to_noscan_comparison(var='ee_energy',\n",
    "                       range=(0, 1),\n",
    "                       bins=10,\n",
    "                       m4mz=(0.1, 5),\n",
    "                       exp_analysis_obj=my_exp_analyses['heavy_dirac'],\n",
    "                       smoothing_pars=(0.005, 0.05),\n",
    "                       selection_query='no_cuts',\n",
    "                       cumulative=True)"
   ]
  },
  {
   "cell_type": "code",
   "execution_count": null,
   "metadata": {},
   "outputs": [],
   "source": [
    "kde_to_noscan_comparison(var='pee_t',\n",
    "                       range=(0, 1),\n",
    "                       bins=10,\n",
    "                       m4mz=(0.1, 5),\n",
    "                       exp_analysis_obj=my_exp_analyses['heavy_dirac'],\n",
    "                       smoothing_pars=(0.005, 0.05),\n",
    "                       selection_query='no_cuts',\n",
    "                       cumulative=True)"
   ]
  },
  {
   "cell_type": "code",
   "execution_count": null,
   "metadata": {},
   "outputs": [],
   "source": [
    "comparison_plot_models(var='pee_t',\n",
    "                       range=(0, 1),\n",
    "                       bins=10,\n",
    "                       m4mz=(0.1, 0.03),\n",
    "                       exp_analysis_objs=[my_exp_analyses['light_dirac'], my_exp_analyses['light_majorana']],\n",
    "                       existing_axes=None,\n",
    "                       smoothing_pars=(0.005, 0.05),\n",
    "                       selection_query='no_cuts',\n",
    "                       cumulative=True);"
   ]
  },
  {
   "cell_type": "code",
   "execution_count": null,
   "metadata": {},
   "outputs": [],
   "source": [
    "comparison_plot_cuts(var='pee_t',\n",
    "                       range=(0, 2),\n",
    "                       bins=10,\n",
    "                       m4mz=(0.1, 1),\n",
    "                       exp_analysis_obj=my_exp_analyses['heavy_dirac'],\n",
    "                       smoothing_pars=(0.005, 0.05),\n",
    "                       selection_queries=['no_cuts', 'cut1', 'cut2'],\n",
    "                       cumulative=True);"
   ]
  },
  {
   "cell_type": "markdown",
   "metadata": {},
   "source": [
    "## Efficiency"
   ]
  },
  {
   "cell_type": "markdown",
   "metadata": {},
   "source": [
    "### Single efficiency for KDE"
   ]
  },
  {
   "cell_type": "code",
   "execution_count": null,
   "metadata": {},
   "outputs": [],
   "source": [
    "kde_efficiency(num_selection_query='cut1',\n",
    "               den_selection_query='no_cuts',\n",
    "               m4mz=(0.1, 0.5),\n",
    "               exp_analysis_obj=my_exp_analyses['heavy_dirac']\n",
    "               )"
   ]
  },
  {
   "cell_type": "markdown",
   "metadata": {},
   "source": [
    "### Single efficiency for no scan"
   ]
  },
  {
   "cell_type": "code",
   "execution_count": null,
   "metadata": {},
   "outputs": [],
   "source": [
    "no_scan_efficiency(num_selection_query='cut1',\n",
    "               den_selection_query='no_cuts',\n",
    "               m4mz=(0.1, 1),\n",
    "               exp_analysis_obj=my_exp_analyses['heavy_dirac']\n",
    "               )"
   ]
  },
  {
   "cell_type": "markdown",
   "metadata": {},
   "source": [
    "### Efficiency on the m4,mz grid"
   ]
  },
  {
   "cell_type": "code",
   "execution_count": null,
   "metadata": {},
   "outputs": [],
   "source": [
    "kde_no_scan_efficiency_plot_grid(num_selection_query='cut1',\n",
    "                                 den_selection_query='no_cuts',\n",
    "                                 exp_analysis_obj=my_exp_analyses['heavy_dirac'],\n",
    "                                 smoothing_pars=[0.005, 0.05]);"
   ]
  },
  {
   "cell_type": "markdown",
   "metadata": {},
   "source": [
    "### Efficiency for multiple cuts"
   ]
  },
  {
   "cell_type": "code",
   "execution_count": null,
   "metadata": {},
   "outputs": [],
   "source": [
    "kde_no_scan_efficiency_cut_list(num_selection_queries=['(cut1 & cut2)', 'cut2', 'cut3', 'cut4', 'cut_based'], \n",
    "                                den_selection_queries='decay_in_tpc_10', \n",
    "                                exp_analysis_obj=my_exp_analyses['heavy_dirac'], \n",
    "                                m4mz=(0.1, 1),\n",
    "                                smoothing_pars=[0.005, 0.05])"
   ]
  },
  {
   "cell_type": "markdown",
   "metadata": {},
   "source": [
    "### Efficiency for multiple c$\\tau$ (finally!!!)"
   ]
  },
  {
   "cell_type": "code",
   "execution_count": null,
   "metadata": {},
   "outputs": [],
   "source": [
    "ctaus = [1, 10, 100, 1000, 10000]\n",
    "my_exp_analyses['heavy_dirac'].ctau_acceptance(ctaus)\n",
    "\n",
    "kde_no_scan_efficiency_cut_list(num_selection_queries=[f'decay_in_tpc_{ctau}' for ctau in ctaus], \n",
    "                                den_selection_queries='no_cuts', \n",
    "                                exp_analysis_obj=my_exp_analyses['heavy_dirac'], \n",
    "                                m4mz=(0.1, 1),\n",
    "                                smoothing_pars=[0.005, 0.05]);\n",
    "plt.xticks(range(len(ctaus)), labels=[f'c$\\\\tau$ = {ctau}' for ctau in ctaus]);"
   ]
  },
  {
   "cell_type": "markdown",
   "metadata": {},
   "source": [
    "## Comparison N events for different cuts and different c$\\tau$"
   ]
  },
  {
   "cell_type": "markdown",
   "metadata": {},
   "source": [
    "### For different cuts"
   ]
  },
  {
   "cell_type": "code",
   "execution_count": null,
   "metadata": {},
   "outputs": [],
   "source": [
    "selections = ['cut1', 'cut2', 'cut3', 'cut4', 'cut_based']\n",
    "\n",
    "for selection in selections:\n",
    "    fig, axes = plt.subplots(nrows=1, ncols=len(my_exp_analyses), figsize=(len(my_exp_analyses)*5, 5))\n",
    "    plt.suptitle(r'N events KDE / generated without scan')\n",
    "\n",
    "    for my_exp_analysis, ax in zip(my_exp_analyses.values(), axes):\n",
    "        print(my_exp_analysis.hierarchy, my_exp_analysis.D_or_M)\n",
    "        n_events_grid_no_scan = my_exp_analysis.no_scan_benchmark_grid(lambda x: x.query(selection)['actual_weight'].sum())\n",
    "        n_events_err_kde = my_exp_analysis.kde_n_events_benchmark_grid(selection_query=selection,\n",
    "                                                                       smoothing=general_smoothing_pars)\n",
    "        n_events_kde = n_events_err_kde[..., 0]\n",
    "        n_events_kde_err = n_events_err_kde[..., 1]\n",
    "\n",
    "        plt.sca(ax)\n",
    "        annotated_2d_plot(data=n_events_kde/n_events_grid_no_scan,\n",
    "                          xcenters=my_exp_analysis.m4_scan,\n",
    "                          ycenters=my_exp_analysis.mz_scan,\n",
    "                          xlabel =r'$m_4$ [GeV]',\n",
    "                          ylabel=r'$m_Z$ [GeV]',\n",
    "                          vmin=0.5,\n",
    "                          vmax=1.5,\n",
    "                          errors_to_annotate=n_events_kde_err/n_events_grid_no_scan\n",
    "                          )\n",
    "\n",
    "        set_plot_title(exp_analysis_obj=my_exp_analysis, \n",
    "                       smoothing_pars=general_smoothing_pars,\n",
    "                       selection_query=selection)\n",
    "    plt.colorbar()\n",
    "    plt.savefig(f'../fig/3_comparison_observables/N_selection_{selection}.pdf', bbox_inches='tight')\n",
    "    plt.close()"
   ]
  },
  {
   "cell_type": "markdown",
   "metadata": {},
   "source": [
    "### For different c$\\tau$"
   ]
  },
  {
   "cell_type": "code",
   "execution_count": null,
   "metadata": {},
   "outputs": [],
   "source": [
    "Your session is currently starting... Please be patient as this process can take a few minutes.\n",
    "\n",
    "ctaus = [1, 10, 100, 1000]\n",
    "\n",
    "for ctau in ctaus:\n",
    "    fig, axes = plt.subplots(nrows=1, ncols=len(my_exp_analyses), figsize=(len(my_exp_analyses)*5, 5))\n",
    "    plt.suptitle(r'N events KDE / generated without scan')\n",
    "\n",
    "    for my_exp_analysis, ax in zip(my_exp_analyses.values(), axes):\n",
    "        my_exp_analysis.ctau_acceptance(ctau)\n",
    "        print(my_exp_analysis.hierarchy, my_exp_analysis.D_or_M)\n",
    "        sel_query = f'decay_in_tpc_{ctau}'\n",
    "        n_events_grid_no_scan = my_exp_analysis.no_scan_benchmark_grid(lambda x: x.query(sel_query)['actual_weight'].sum())\n",
    "        n_events_err_kde = my_exp_analysis.kde_n_events_benchmark_grid(selection_query=sel_query,\n",
    "                                                                       smoothing=general_smoothing_pars)\n",
    "        n_events_kde = n_events_err_kde[..., 0]\n",
    "        n_events_kde_err = n_events_err_kde[..., 1]\n",
    "\n",
    "        plt.sca(ax)\n",
    "        annotated_2d_plot(data=n_events_kde/n_events_grid_no_scan,\n",
    "                          xcenters=my_exp_analysis.m4_scan,\n",
    "                          ycenters=my_exp_analysis.mz_scan,\n",
    "                          xlabel =r'$m_4$ [GeV]',\n",
    "                          ylabel=r'$m_Z$ [GeV]',\n",
    "                          vmin=0.5,\n",
    "                          vmax=1.5,\n",
    "                          errors_to_annotate=n_events_kde_err/n_events_grid_no_scan\n",
    "                          )\n",
    "\n",
    "        set_plot_title(exp_analysis_obj=my_exp_analysis, \n",
    "                       smoothing_pars=general_smoothing_pars,\n",
    "                       selection_query=sel_query)\n",
    "    plt.colorbar()\n",
    "    plt.savefig(f'../fig/3_comparison_observables/N_ctau_{ctau}.pdf', bbox_inches='tight')\n",
    "    plt.close()"
   ]
  }
 ],
 "metadata": {
  "kernelspec": {
   "display_name": "Python [conda env:.conda-dark_nus]",
   "language": "python",
   "name": "conda-env-.conda-dark_nus-py"
  },
  "language_info": {
   "codemirror_mode": {
    "name": "ipython",
    "version": 3
   },
   "file_extension": ".py",
   "mimetype": "text/x-python",
   "name": "python",
   "nbconvert_exporter": "python",
   "pygments_lexer": "ipython3",
   "version": "3.8.8"
  }
 },
 "nbformat": 4,
 "nbformat_minor": 4
}
