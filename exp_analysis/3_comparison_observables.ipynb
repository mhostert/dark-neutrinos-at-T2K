{
 "cells": [
  {
   "cell_type": "markdown",
   "metadata": {},
   "source": [
    "# Comparing Vegas generated without scanning with the KDE prediction in observables"
   ]
  },
  {
   "cell_type": "code",
   "execution_count": 1,
   "metadata": {},
   "outputs": [],
   "source": [
    "%load_ext autoreload\n",
    "%autoreload 2"
   ]
  },
  {
   "cell_type": "code",
   "execution_count": 2,
   "metadata": {},
   "outputs": [],
   "source": [
    "import matplotlib.pyplot as plt\n",
    "import numpy as np\n",
    "import pandas as pd\n",
    "from parameters_dict import physics_parameters\n",
    "from exp_analysis_class import exp_analysis\n",
    "from plot_utils import *"
   ]
  },
  {
   "cell_type": "markdown",
   "metadata": {},
   "source": [
    "### Get objects for all 4 cases \n",
    "\n",
    "we would like to compare them\n",
    "\n",
    "notation = my_exp_analysis_{h for heavy, l for light}{d for dirac, m for majora}"
   ]
  },
  {
   "cell_type": "code",
   "execution_count": 3,
   "metadata": {},
   "outputs": [
    {
     "name": "stdout",
     "output_type": "stream",
     "text": [
      "(3686822,)\n"
     ]
    }
   ],
   "source": [
    "hierarchy = 'heavy'\n",
    "D_or_M = 'dirac'\n",
    "save_folder = (f'../fig/3_comparison_observables/{hierarchy}_{D_or_M}/')\n",
    "!mkdir -p $save_folder\n",
    "my_exp_analysis_hd = exp_analysis(hierarchy, D_or_M)\n",
    "my_exp_analysis_hd.load_df_base(1000000)\n"
   ]
  },
  {
   "cell_type": "code",
   "execution_count": 4,
   "metadata": {},
   "outputs": [
    {
     "name": "stdout",
     "output_type": "stream",
     "text": [
      "(3673807,)\n"
     ]
    }
   ],
   "source": [
    "hierarchy = 'heavy'\n",
    "D_or_M = 'majorana'\n",
    "save_folder = (f'../fig/3_comparison_observables/{hierarchy}_{D_or_M}/')\n",
    "!mkdir -p $save_folder\n",
    "my_exp_analysis_hm = exp_analysis(hierarchy, D_or_M)\n",
    "my_exp_analysis_hm.load_df_base(1000000)"
   ]
  },
  {
   "cell_type": "code",
   "execution_count": null,
   "metadata": {},
   "outputs": [],
   "source": [
    "hierarchy = 'light'\n",
    "D_or_M = 'dirac'\n",
    "save_folder = (f'../fig/3_comparison_observables/{hierarchy}_{D_or_M}/')\n",
    "!mkdir -p $save_folder\n",
    "my_exp_analysis_ld = exp_analysis(hierarchy, D_or_M)\n",
    "my_exp_analysis_ld.load_df_base(1000000)"
   ]
  },
  {
   "cell_type": "code",
   "execution_count": 6,
   "metadata": {},
   "outputs": [
    {
     "name": "stdout",
     "output_type": "stream",
     "text": [
      "(3885261,)\n"
     ]
    },
    {
     "name": "stderr",
     "output_type": "stream",
     "text": [
      "/Users/matheushostert/Repos/nicgen/exp_analysis/exp_analysis_class.py:34: RuntimeWarning: invalid value encountered in power\n",
      "  piece[mask] = (6*(r[mask] -  r[mask]**2/2.0 - np.log((1.0/(1.0-r[mask]))**(1 - r[mask])) )- r[mask]**3)\n"
     ]
    }
   ],
   "source": [
    "hierarchy = 'light'\n",
    "D_or_M = 'majorana'\n",
    "save_folder = (f'../fig/3_comparison_observables/{hierarchy}_{D_or_M}/')\n",
    "!mkdir -p $save_folder\n",
    "my_exp_analysis_lm = exp_analysis(hierarchy, D_or_M)\n",
    "my_exp_analysis_lm.load_df_base(1000000)"
   ]
  },
  {
   "cell_type": "code",
   "execution_count": 22,
   "metadata": {
    "scrolled": true
   },
   "outputs": [
    {
     "name": "stderr",
     "output_type": "stream",
     "text": [
      "/Users/matheushostert/Repos/nicgen/exp_analysis/exp_analysis_class.py:30: RuntimeWarning: invalid value encountered in log\n",
      "  piece = np.where(r>0.01, (6*(r -  r**2/2.0 - np.log((1.0/(1.0-r))**(1 - r)) )- r**3), r**4/2)\n",
      "/Users/matheushostert/Repos/nicgen/exp_analysis/exp_analysis_class.py:30: RuntimeWarning: invalid value encountered in power\n",
      "  piece = np.where(r>0.01, (6*(r -  r**2/2.0 - np.log((1.0/(1.0-r))**(1 - r)) )- r**3), r**4/2)\n",
      "/Users/matheushostert/Repos/nicgen/exp_analysis/exp_analysis_class.py:30: RuntimeWarning: overflow encountered in power\n",
      "  piece = np.where(r>0.01, (6*(r -  r**2/2.0 - np.log((1.0/(1.0-r))**(1 - r)) )- r**3), r**4/2)\n",
      "/Users/matheushostert/Repos/nicgen/exp_analysis/exp_analysis_class.py:30: RuntimeWarning: invalid value encountered in log\n",
      "  piece = np.where(r>0.01, (6*(r -  r**2/2.0 - np.log((1.0/(1.0-r))**(1 - r)) )- r**3), r**4/2)\n",
      "/Users/matheushostert/Repos/nicgen/exp_analysis/exp_analysis_class.py:30: RuntimeWarning: invalid value encountered in power\n",
      "  piece = np.where(r>0.01, (6*(r -  r**2/2.0 - np.log((1.0/(1.0-r))**(1 - r)) )- r**3), r**4/2)\n",
      "/Users/matheushostert/Repos/nicgen/exp_analysis/exp_analysis_class.py:30: RuntimeWarning: invalid value encountered in log\n",
      "  piece = np.where(r>0.01, (6*(r -  r**2/2.0 - np.log((1.0/(1.0-r))**(1 - r)) )- r**3), r**4/2)\n",
      "/Users/matheushostert/Repos/nicgen/exp_analysis/exp_analysis_class.py:30: RuntimeWarning: invalid value encountered in log\n",
      "  piece = np.where(r>0.01, (6*(r -  r**2/2.0 - np.log((1.0/(1.0-r))**(1 - r)) )- r**3), r**4/2)\n",
      "/Users/matheushostert/Repos/nicgen/exp_analysis/exp_analysis_class.py:30: RuntimeWarning: overflow encountered in power\n",
      "  piece = np.where(r>0.01, (6*(r -  r**2/2.0 - np.log((1.0/(1.0-r))**(1 - r)) )- r**3), r**4/2)\n",
      "/Users/matheushostert/Repos/nicgen/exp_analysis/exp_analysis_class.py:30: RuntimeWarning: invalid value encountered in log\n",
      "  piece = np.where(r>0.01, (6*(r -  r**2/2.0 - np.log((1.0/(1.0-r))**(1 - r)) )- r**3), r**4/2)\n",
      "/Users/matheushostert/Repos/nicgen/exp_analysis/exp_analysis_class.py:30: RuntimeWarning: invalid value encountered in power\n",
      "  piece = np.where(r>0.01, (6*(r -  r**2/2.0 - np.log((1.0/(1.0-r))**(1 - r)) )- r**3), r**4/2)\n",
      "/Users/matheushostert/Repos/nicgen/exp_analysis/exp_analysis_class.py:30: RuntimeWarning: invalid value encountered in log\n",
      "  piece = np.where(r>0.01, (6*(r -  r**2/2.0 - np.log((1.0/(1.0-r))**(1 - r)) )- r**3), r**4/2)\n",
      "/Users/matheushostert/Repos/nicgen/exp_analysis/exp_analysis_class.py:30: RuntimeWarning: invalid value encountered in log\n",
      "  piece = np.where(r>0.01, (6*(r -  r**2/2.0 - np.log((1.0/(1.0-r))**(1 - r)) )- r**3), r**4/2)\n"
     ]
    },
    {
     "ename": "FileNotFoundError",
     "evalue": "[Errno 2] No such file or directory: '../data/nd280_nu/3plus1/m4_0.1_mzprime_0.01_light_majorana/MC_m4_0.1_mzprime_0.01.pckl'",
     "output_type": "error",
     "traceback": [
      "\u001b[0;31m---------------------------------------------------------------------------\u001b[0m",
      "\u001b[0;31mFileNotFoundError\u001b[0m                         Traceback (most recent call last)",
      "\u001b[0;32m<ipython-input-22-f90bcf0fe9be>\u001b[0m in \u001b[0;36m<module>\u001b[0;34m\u001b[0m\n\u001b[1;32m      3\u001b[0m \u001b[0mmy_exp_analysis_hm\u001b[0m\u001b[0;34m.\u001b[0m\u001b[0mload_grid_dfs\u001b[0m\u001b[0;34m(\u001b[0m\u001b[0;34m)\u001b[0m\u001b[0;34m\u001b[0m\u001b[0;34m\u001b[0m\u001b[0m\n\u001b[1;32m      4\u001b[0m \u001b[0mmy_exp_analysis_ld\u001b[0m\u001b[0;34m.\u001b[0m\u001b[0mload_grid_dfs\u001b[0m\u001b[0;34m(\u001b[0m\u001b[0;34m)\u001b[0m\u001b[0;34m\u001b[0m\u001b[0;34m\u001b[0m\u001b[0m\n\u001b[0;32m----> 5\u001b[0;31m \u001b[0mmy_exp_analysis_lm\u001b[0m\u001b[0;34m.\u001b[0m\u001b[0mload_grid_dfs\u001b[0m\u001b[0;34m(\u001b[0m\u001b[0;34m)\u001b[0m\u001b[0;34m\u001b[0m\u001b[0;34m\u001b[0m\u001b[0m\n\u001b[0m",
      "\u001b[0;32m~/Repos/nicgen/exp_analysis/exp_analysis_class.py\u001b[0m in \u001b[0;36mload_grid_dfs\u001b[0;34m(self)\u001b[0m\n\u001b[1;32m    121\u001b[0m                 \u001b[0;32mcontinue\u001b[0m\u001b[0;34m\u001b[0m\u001b[0;34m\u001b[0m\u001b[0m\n\u001b[1;32m    122\u001b[0m             \u001b[0;32melse\u001b[0m\u001b[0;34m:\u001b[0m\u001b[0;34m\u001b[0m\u001b[0;34m\u001b[0m\u001b[0m\n\u001b[0;32m--> 123\u001b[0;31m                 \u001b[0mself\u001b[0m\u001b[0;34m.\u001b[0m\u001b[0mload_df\u001b[0m\u001b[0;34m(\u001b[0m\u001b[0mm4\u001b[0m\u001b[0;34m,\u001b[0m \u001b[0mmz\u001b[0m\u001b[0;34m)\u001b[0m\u001b[0;34m\u001b[0m\u001b[0;34m\u001b[0m\u001b[0m\n\u001b[0m\u001b[1;32m    124\u001b[0m \u001b[0;34m\u001b[0m\u001b[0m\n\u001b[1;32m    125\u001b[0m     \u001b[0;32mdef\u001b[0m \u001b[0minitialise_df\u001b[0m\u001b[0;34m(\u001b[0m\u001b[0mself\u001b[0m\u001b[0;34m,\u001b[0m \u001b[0mdf\u001b[0m\u001b[0;34m,\u001b[0m \u001b[0mwhich_scan\u001b[0m\u001b[0;34m)\u001b[0m\u001b[0;34m:\u001b[0m\u001b[0;34m\u001b[0m\u001b[0;34m\u001b[0m\u001b[0m\n",
      "\u001b[0;32m~/Repos/nicgen/exp_analysis/exp_analysis_class.py\u001b[0m in \u001b[0;36mload_df\u001b[0;34m(self, m4, mz)\u001b[0m\n\u001b[1;32m    112\u001b[0m \u001b[0;34m\u001b[0m\u001b[0m\n\u001b[1;32m    113\u001b[0m     \u001b[0;32mdef\u001b[0m \u001b[0mload_df\u001b[0m\u001b[0;34m(\u001b[0m\u001b[0mself\u001b[0m\u001b[0;34m,\u001b[0m \u001b[0mm4\u001b[0m\u001b[0;34m,\u001b[0m \u001b[0mmz\u001b[0m\u001b[0;34m)\u001b[0m\u001b[0;34m:\u001b[0m\u001b[0;34m\u001b[0m\u001b[0;34m\u001b[0m\u001b[0m\n\u001b[0;32m--> 114\u001b[0;31m         \u001b[0mself\u001b[0m\u001b[0;34m.\u001b[0m\u001b[0mdfs\u001b[0m\u001b[0;34m[\u001b[0m\u001b[0;34m(\u001b[0m\u001b[0mm4\u001b[0m\u001b[0;34m,\u001b[0m \u001b[0mmz\u001b[0m\u001b[0;34m)\u001b[0m\u001b[0;34m]\u001b[0m \u001b[0;34m=\u001b[0m \u001b[0mpd\u001b[0m\u001b[0;34m.\u001b[0m\u001b[0mread_pickle\u001b[0m\u001b[0;34m(\u001b[0m\u001b[0;34mf'{self.base_folder}m4_{m4}_mzprime_{mz}_{self.hierarchy}_{self.D_or_M}/MC_m4_{m4}_mzprime_{mz}.pckl'\u001b[0m\u001b[0;34m)\u001b[0m\u001b[0;34m\u001b[0m\u001b[0;34m\u001b[0m\u001b[0m\n\u001b[0m\u001b[1;32m    115\u001b[0m         \u001b[0mself\u001b[0m\u001b[0;34m.\u001b[0m\u001b[0minitialise_df\u001b[0m\u001b[0;34m(\u001b[0m\u001b[0mself\u001b[0m\u001b[0;34m.\u001b[0m\u001b[0mdfs\u001b[0m\u001b[0;34m[\u001b[0m\u001b[0;34m(\u001b[0m\u001b[0mm4\u001b[0m\u001b[0;34m,\u001b[0m \u001b[0mmz\u001b[0m\u001b[0;34m)\u001b[0m\u001b[0;34m]\u001b[0m\u001b[0;34m,\u001b[0m \u001b[0;32mNone\u001b[0m\u001b[0;34m)\u001b[0m\u001b[0;34m\u001b[0m\u001b[0;34m\u001b[0m\u001b[0m\n\u001b[1;32m    116\u001b[0m         \u001b[0;32mreturn\u001b[0m \u001b[0mself\u001b[0m\u001b[0;34m.\u001b[0m\u001b[0mdfs\u001b[0m\u001b[0;34m[\u001b[0m\u001b[0;34m(\u001b[0m\u001b[0mm4\u001b[0m\u001b[0;34m,\u001b[0m \u001b[0mmz\u001b[0m\u001b[0;34m)\u001b[0m\u001b[0;34m]\u001b[0m\u001b[0;34m\u001b[0m\u001b[0;34m\u001b[0m\u001b[0m\n",
      "\u001b[0;32m/usr/local/lib/python3.9/site-packages/pandas/io/pickle.py\u001b[0m in \u001b[0;36mread_pickle\u001b[0;34m(filepath_or_buffer, compression, storage_options)\u001b[0m\n\u001b[1;32m    183\u001b[0m     \"\"\"\n\u001b[1;32m    184\u001b[0m     \u001b[0mexcs_to_catch\u001b[0m \u001b[0;34m=\u001b[0m \u001b[0;34m(\u001b[0m\u001b[0mAttributeError\u001b[0m\u001b[0;34m,\u001b[0m \u001b[0mImportError\u001b[0m\u001b[0;34m,\u001b[0m \u001b[0mModuleNotFoundError\u001b[0m\u001b[0;34m,\u001b[0m \u001b[0mTypeError\u001b[0m\u001b[0;34m)\u001b[0m\u001b[0;34m\u001b[0m\u001b[0;34m\u001b[0m\u001b[0m\n\u001b[0;32m--> 185\u001b[0;31m     with get_handle(\n\u001b[0m\u001b[1;32m    186\u001b[0m         \u001b[0mfilepath_or_buffer\u001b[0m\u001b[0;34m,\u001b[0m\u001b[0;34m\u001b[0m\u001b[0;34m\u001b[0m\u001b[0m\n\u001b[1;32m    187\u001b[0m         \u001b[0;34m\"rb\"\u001b[0m\u001b[0;34m,\u001b[0m\u001b[0;34m\u001b[0m\u001b[0;34m\u001b[0m\u001b[0m\n",
      "\u001b[0;32m/usr/local/lib/python3.9/site-packages/pandas/io/common.py\u001b[0m in \u001b[0;36mget_handle\u001b[0;34m(path_or_buf, mode, encoding, compression, memory_map, is_text, errors, storage_options)\u001b[0m\n\u001b[1;32m    649\u001b[0m         \u001b[0;32melse\u001b[0m\u001b[0;34m:\u001b[0m\u001b[0;34m\u001b[0m\u001b[0;34m\u001b[0m\u001b[0m\n\u001b[1;32m    650\u001b[0m             \u001b[0;31m# Binary mode\u001b[0m\u001b[0;34m\u001b[0m\u001b[0;34m\u001b[0m\u001b[0;34m\u001b[0m\u001b[0m\n\u001b[0;32m--> 651\u001b[0;31m             \u001b[0mhandle\u001b[0m \u001b[0;34m=\u001b[0m \u001b[0mopen\u001b[0m\u001b[0;34m(\u001b[0m\u001b[0mhandle\u001b[0m\u001b[0;34m,\u001b[0m \u001b[0mioargs\u001b[0m\u001b[0;34m.\u001b[0m\u001b[0mmode\u001b[0m\u001b[0;34m)\u001b[0m\u001b[0;34m\u001b[0m\u001b[0;34m\u001b[0m\u001b[0m\n\u001b[0m\u001b[1;32m    652\u001b[0m         \u001b[0mhandles\u001b[0m\u001b[0;34m.\u001b[0m\u001b[0mappend\u001b[0m\u001b[0;34m(\u001b[0m\u001b[0mhandle\u001b[0m\u001b[0;34m)\u001b[0m\u001b[0;34m\u001b[0m\u001b[0;34m\u001b[0m\u001b[0m\n\u001b[1;32m    653\u001b[0m \u001b[0;34m\u001b[0m\u001b[0m\n",
      "\u001b[0;31mFileNotFoundError\u001b[0m: [Errno 2] No such file or directory: '../data/nd280_nu/3plus1/m4_0.1_mzprime_0.01_light_majorana/MC_m4_0.1_mzprime_0.01.pckl'"
     ]
    }
   ],
   "source": [
    "# load all dfs\n",
    "my_exp_analysis_hd.load_grid_dfs()\n",
    "my_exp_analysis_hm.load_grid_dfs()\n",
    "my_exp_analysis_ld.load_grid_dfs()\n",
    "my_exp_analysis_lm.load_grid_dfs()"
   ]
  },
  {
   "cell_type": "markdown",
   "metadata": {},
   "source": [
    "## Energy observables"
   ]
  },
  {
   "cell_type": "code",
   "execution_count": 11,
   "metadata": {},
   "outputs": [
    {
     "ename": "NameError",
     "evalue": "name 'df' is not defined",
     "output_type": "error",
     "traceback": [
      "\u001b[0;31m---------------------------------------------------------------------------\u001b[0m",
      "\u001b[0;31mNameError\u001b[0m                                 Traceback (most recent call last)",
      "\u001b[0;32m<ipython-input-11-00cf07b74dcd>\u001b[0m in \u001b[0;36m<module>\u001b[0;34m\u001b[0m\n\u001b[0;32m----> 1\u001b[0;31m \u001b[0mdf\u001b[0m\u001b[0;34m\u001b[0m\u001b[0;34m\u001b[0m\u001b[0m\n\u001b[0m",
      "\u001b[0;31mNameError\u001b[0m: name 'df' is not defined"
     ]
    }
   ],
   "source": [
    "EMIN=0; EMAX= 1.0\n",
    "bins = 10\n",
    "\n",
    "# Heavy\n",
    "m4mz = (0.1, 1)\n",
    "kde_to_noscan_comparison(var1='ee_mass', var2='', \n",
    "                         range=(EMIN, EMAX), bins=10, \n",
    "                         m4mz=(0.1, 1), \n",
    "                         exp_analysis_obj=my_exp_analysis_hm,\n",
    "                         smoothing_pars=[0.002, 0.03])\n",
    "\n",
    "kde_to_noscan_comparison(var1='ee_mass', var2='', \n",
    "                         range=(EMIN, EMAX), bins=10, \n",
    "                         m4mz=(0.1, 1), \n",
    "                         exp_analysis_obj=my_exp_analysis_hm,\n",
    "                         smoothing_pars=[0.002, 0.03])\n",
    "\n",
    "# Heavy\n",
    "m4mz = (0.1, 0.03)\n",
    "kde_to_noscan_comparison(var1='ee_mass', var2='', \n",
    "                         range=(EMIN, EMAX), bins=10, \n",
    "                         m4mz=(0.1, 1), \n",
    "                         exp_analysis_obj=my_exp_analysis_hm,\n",
    "                         smoothing_pars=[0.002, 0.03])\n",
    "\n",
    "kde_to_noscan_comparison(var1='ee_mass', var2='', \n",
    "                         range=(EMIN, EMAX), bins=10, \n",
    "                         m4mz=(0.1, 1), \n",
    "                         exp_analysis_obj=my_exp_analysis_hm,\n",
    "                         smoothing_pars=[0.002, 0.03])\n"
   ]
  },
  {
   "cell_type": "code",
   "execution_count": null,
   "metadata": {},
   "outputs": [],
   "source": [
    "kde_to_noscan_comparison(var1='ee_mass', \n",
    "                         var2='', \n",
    "                         range=(0, 0.1), \n",
    "                         bins=10, \n",
    "                         m4mz=(0.1, 1), \n",
    "                         exp_analysis_obj=my_exp_analysis,\n",
    "                         smoothing_pars=[0.002, 0.03])"
   ]
  },
  {
   "cell_type": "markdown",
   "metadata": {},
   "source": [
    "## Angular observables"
   ]
  },
  {
   "cell_type": "code",
   "execution_count": null,
   "metadata": {},
   "outputs": [],
   "source": []
  },
  {
   "cell_type": "markdown",
   "metadata": {},
   "source": [
    "## Invariant masses"
   ]
  },
  {
   "cell_type": "code",
   "execution_count": null,
   "metadata": {},
   "outputs": [],
   "source": []
  },
  {
   "cell_type": "markdown",
   "metadata": {},
   "source": [
    "## Lifetimes"
   ]
  },
  {
   "cell_type": "code",
   "execution_count": null,
   "metadata": {},
   "outputs": [],
   "source": []
  },
  {
   "cell_type": "markdown",
   "metadata": {},
   "source": [
    "# This is all pretty old stuff"
   ]
  },
  {
   "cell_type": "markdown",
   "metadata": {},
   "source": [
    "## Test comparison between KDE and truth"
   ]
  },
  {
   "cell_type": "code",
   "execution_count": 5,
   "metadata": {},
   "outputs": [],
   "source": [
    "case = 'light'\n",
    "pars = {}\n",
    "pars['heavy'] = {\n",
    "    'm4' : [0.1, 0.2, 0.3, 0.4],\n",
    "    'mz_prime': [1.25],\n",
    "}\n",
    "pars['light'] = {\n",
    "    'm4' : [0.2, 0.3, 0.4], \n",
    "    'mz_prime': [0.03, 0.045, 0.06],\n",
    "}\n",
    "\n",
    "ctaus = [1, 5, 10, 20, 50, 100, 200]\n",
    "!mkdir -p ../../fig/kde_test_2d/comparison_kde_truth/\n",
    "save_folder = \"../../fig/kde_test_2d/comparison_kde_truth/\"\n",
    "produce_samples = False\n",
    "\n",
    "#generation part\n",
    "if produce_samples:\n",
    "    for m4, mz_prime in itertools.product(pars[case]['m4'], pars[case]['mz_prime']):\n",
    "        print(m4, mz_prime)\n",
    "        if case == 'light':\n",
    "            dark_gen_run = f'cd ..; ./dark_gen.py --M4 {m4} --mzprime {mz_prime} --UMU4 8e-9 --alpha_dark 0.25 --alpha_epsilon2 2e-10 --hierarchy light_mediator --neval 100000 --noplot'\n",
    "        elif case == 'heavy':\n",
    "            dark_gen_run = f'cd ..; ./dark_gen.py --M4 {m4} --mzprime {mz_prime} --UMU4 2.2e-7 --alpha_dark 0.4 --epsilon2 4.6e-4 --neval 100000 --noplot --hierarchy heavy_mediator'\n",
    "        else:\n",
    "            print('No good case selected')\n",
    "        stream = os.popen(dark_gen_run)\n",
    "        print(stream.read())"
   ]
  },
  {
   "cell_type": "code",
   "execution_count": 19,
   "metadata": {},
   "outputs": [
    {
     "name": "stdout",
     "output_type": "stream",
     "text": [
      "no_selection\n",
      "m4 = 0.2, mz = 0.03, kde = 1.9e+03, truth = 1.9e+03, ratio = 1\n",
      "cut_based\n",
      "m4 = 0.2, mz = 0.03, kde = 7.3e+02, truth = 6.8e+02, ratio = 1.1\n",
      "no_selection\n",
      "m4 = 0.2, mz = 0.045, kde = 7.1e+02, truth = 1.2e+03, ratio = 0.58\n",
      "cut_based\n",
      "m4 = 0.2, mz = 0.045, kde = 2.5e+02, truth = 4.2e+02, ratio = 0.59\n",
      "no_selection\n",
      "m4 = 0.2, mz = 0.06, kde = 4.1e+02, truth = 6.6e+02, ratio = 0.63\n",
      "cut_based\n",
      "m4 = 0.2, mz = 0.06, kde = 1.5e+02, truth = 2.2e+02, ratio = 0.66\n",
      "no_selection\n",
      "m4 = 0.3, mz = 0.03, kde = 6e+02, truth = 6.8e+02, ratio = 0.87\n",
      "cut_based\n",
      "m4 = 0.3, mz = 0.03, kde = 2.8e+02, truth = 3.2e+02, ratio = 0.87\n",
      "no_selection\n",
      "m4 = 0.3, mz = 0.045, kde = 3e+02, truth = 3.7e+02, ratio = 0.79\n",
      "cut_based\n",
      "m4 = 0.3, mz = 0.045, kde = 1.2e+02, truth = 1.5e+02, ratio = 0.78\n",
      "no_selection\n",
      "m4 = 0.3, mz = 0.06, kde = 1.9e+02, truth = 2e+02, ratio = 0.98\n",
      "cut_based\n",
      "m4 = 0.3, mz = 0.06, kde = 72, truth = 75, ratio = 0.97\n",
      "no_selection\n",
      "m4 = 0.4, mz = 0.03, kde = 2.5e+02, truth = 2.5e+02, ratio = 0.98\n",
      "cut_based\n",
      "m4 = 0.4, mz = 0.03, kde = 1.3e+02, truth = 1.3e+02, ratio = 0.98\n",
      "no_selection\n",
      "m4 = 0.4, mz = 0.045, kde = 1.3e+02, truth = 1.4e+02, ratio = 0.93\n",
      "cut_based\n",
      "m4 = 0.4, mz = 0.045, kde = 59, truth = 66, ratio = 0.89\n",
      "no_selection\n",
      "m4 = 0.4, mz = 0.06, kde = 92, truth = 85, ratio = 1.1\n",
      "cut_based\n",
      "m4 = 0.4, mz = 0.06, kde = 40, truth = 36, ratio = 1.1\n"
     ]
    }
   ],
   "source": [
    "# 1d histograms with one specific variable\n",
    "var_1 = 'ee_energy'\n",
    "var_2 = ''\n",
    "hist_range = [0, 5]\n",
    "bins = 20\n",
    "ctau = 1\n",
    "smooth_m4 = 0.03\n",
    "smooth_mz = 0.005\n",
    "\n",
    "kde_total = dict(zip(['no_selection', 'cut_based'], [[], []]))\n",
    "truth_total = dict(zip(['no_selection', 'cut_based'], [[], []]))\n",
    "\n",
    "for m4, mz in itertools.product(pars[case]['m4'], pars[case]['mz_prime']):\n",
    "    df = pd.read_pickle(f'../data/nd280_nu/3plus1/m4_{m4}_mzprime_{mz}/MC_m4_{m4}_mzprime_{mz}.pckl')\n",
    "    initialise_df(df)\n",
    "    for selection_step in ['no_selection', 'cut_based']:\n",
    "\n",
    "        aux_out = output_distrib(df_base, var_1, var_2, bins, hist_range, m4, mz, ctau, smooth_m4, smooth_mz, selection_step)\n",
    "        kde_total[selection_step].append(aux_out)\n",
    "\n",
    "        truth_weights = df['actual_weight', '']*df[selection_step, '']\n",
    "        plt.hist(df[var_1, var_2],\n",
    "             range=hist_range,\n",
    "             bins=bins,\n",
    "             weights=truth_weights,\n",
    "             histtype='step',\n",
    "             label=f'truth with $m_4$ = {m4:.2g} GeV, $m_Z$ = {mz:.2g} GeV\\nexpected events = {truth_weights.sum():.1f}')\n",
    "        truth_total[selection_step].append(truth_weights.sum())\n",
    "        plt.autoscale()\n",
    "        plt.legend(frameon=False)\n",
    "        plt.savefig(save_folder+f\"case_{case}_m4_{m4}_mz_{mz}_N_{n_evt}_{selection_step}.png\", bbox_inches='tight', dpi=250)\n",
    "        plt.close()"
   ]
  },
  {
   "cell_type": "code",
   "execution_count": 12,
   "metadata": {},
   "outputs": [
    {
     "name": "stdout",
     "output_type": "stream",
     "text": [
      "no_selection\n",
      "m4 = 0.2, mz = 0.03, kde = 1.9e+03, truth = 1.9e+03, ratio = 1 +/- 0.0055\n",
      "relative sigma_kde = 0.0049, sigma_truth = 0.0026\n",
      "cut_based\n",
      "m4 = 0.2, mz = 0.03, kde = 7.3e+02, truth = 6.8e+02, ratio = 1.1 +/- 0.0088\n",
      "relative sigma_kde = 0.0071, sigma_truth = 0.0042\n",
      "no_selection\n",
      "m4 = 0.2, mz = 0.045, kde = 7.1e+02, truth = 1.2e+03, ratio = 0.58 +/- 0.0055\n",
      "relative sigma_kde = 0.009, sigma_truth = 0.0033\n",
      "cut_based\n",
      "m4 = 0.2, mz = 0.045, kde = 2.5e+02, truth = 4.2e+02, ratio = 0.59 +/- 0.0085\n",
      "relative sigma_kde = 0.013, sigma_truth = 0.0054\n",
      "no_selection\n",
      "m4 = 0.2, mz = 0.06, kde = 4.1e+02, truth = 6.6e+02, ratio = 0.63 +/- 0.011\n",
      "relative sigma_kde = 0.017, sigma_truth = 0.0031\n",
      "cut_based\n",
      "m4 = 0.2, mz = 0.06, kde = 1.5e+02, truth = 2.2e+02, ratio = 0.66 +/- 0.017\n",
      "relative sigma_kde = 0.025, sigma_truth = 0.0052\n",
      "no_selection\n",
      "m4 = 0.3, mz = 0.03, kde = 6e+02, truth = 6.8e+02, ratio = 0.87 +/- 0.0049\n",
      "relative sigma_kde = 0.0046, sigma_truth = 0.0032\n",
      "cut_based\n",
      "m4 = 0.3, mz = 0.03, kde = 2.8e+02, truth = 3.2e+02, ratio = 0.87 +/- 0.007\n",
      "relative sigma_kde = 0.0066, sigma_truth = 0.0046\n",
      "no_selection\n",
      "m4 = 0.3, mz = 0.045, kde = 3e+02, truth = 3.7e+02, ratio = 0.79 +/- 0.0079\n",
      "relative sigma_kde = 0.0095, sigma_truth = 0.0029\n",
      "cut_based\n",
      "m4 = 0.3, mz = 0.045, kde = 1.2e+02, truth = 1.5e+02, ratio = 0.78 +/- 0.012\n",
      "relative sigma_kde = 0.015, sigma_truth = 0.0046\n",
      "no_selection\n",
      "m4 = 0.3, mz = 0.06, kde = 1.9e+02, truth = 2e+02, ratio = 0.98 +/- 0.017\n",
      "relative sigma_kde = 0.017, sigma_truth = 0.0031\n",
      "cut_based\n",
      "m4 = 0.3, mz = 0.06, kde = 72, truth = 75, ratio = 0.97 +/- 0.026\n",
      "relative sigma_kde = 0.027, sigma_truth = 0.005\n",
      "no_selection\n",
      "m4 = 0.4, mz = 0.03, kde = 2.5e+02, truth = 2.5e+02, ratio = 0.98 +/- 0.0056\n",
      "relative sigma_kde = 0.0049, sigma_truth = 0.003\n",
      "cut_based\n",
      "m4 = 0.4, mz = 0.03, kde = 1.3e+02, truth = 1.3e+02, ratio = 0.98 +/- 0.0081\n",
      "relative sigma_kde = 0.0071, sigma_truth = 0.0042\n",
      "no_selection\n",
      "m4 = 0.4, mz = 0.045, kde = 1.3e+02, truth = 1.4e+02, ratio = 0.93 +/- 0.01\n",
      "relative sigma_kde = 0.01, sigma_truth = 0.0032\n",
      "cut_based\n",
      "m4 = 0.4, mz = 0.045, kde = 59, truth = 66, ratio = 0.89 +/- 0.015\n",
      "relative sigma_kde = 0.016, sigma_truth = 0.0048\n",
      "no_selection\n",
      "m4 = 0.4, mz = 0.06, kde = 92, truth = 85, ratio = 1.1 +/- 0.02\n",
      "relative sigma_kde = 0.019, sigma_truth = 0.0028\n",
      "cut_based\n",
      "m4 = 0.4, mz = 0.06, kde = 40, truth = 36, ratio = 1.1 +/- 0.035\n",
      "relative sigma_kde = 0.031, sigma_truth = 0.0043\n"
     ]
    }
   ],
   "source": [
    "# 2d ratio of kde and truth\n",
    "smooth_m4 = 0.03\n",
    "smooth_mz = 0.005\n",
    "ctau = 10\n",
    "\n",
    "kde_total = dict(zip(['no_selection', 'cut_based'], [[], []]))\n",
    "truth_total = dict(zip(['no_selection', 'cut_based'], [[], []]))\n",
    "likes_kde = dict(zip(['no_selection', 'cut_based'], [[], []]))\n",
    "likes_truth = dict(zip(['no_selection', 'cut_based'], [[], []]))\n",
    "ratios = dict(zip(['no_selection', 'cut_based'], [[], []]))\n",
    "sigma_ratios = dict(zip(['no_selection', 'cut_based'], [[], []]))\n",
    "\n",
    "for m4, mz in itertools.product(pars[case]['m4'], pars[case]['mz_prime']):\n",
    "    df = pd.read_pickle(f'../data/nd280_nu/3plus1/m4_{m4}_mzprime_{mz}/MC_m4_{m4}_mzprime_{mz}.pckl')\n",
    "    initialise_df(df)\n",
    "    for selection_step in ['no_selection', 'cut_based']:\n",
    "        mu_kde, sigma2_kde = mu_sigma2_of_theta(df_base, m4, mz, ctau, smooth_m4, smooth_mz, selection_step)\n",
    "        kde_total[selection_step].append(mu_kde)\n",
    "        likes_kde[selection_step].append(LEff(0, mu_kde, sigma2_kde))\n",
    "\n",
    "        mu_truth = (df['actual_weight', '']*df[selection_step, '']).sum()\n",
    "        sigma2_truth = ((df['actual_weight', '']*df[selection_step, ''])**2).sum()\n",
    "        truth_total[selection_step].append(mu_truth)\n",
    "        likes_truth[selection_step].append(LEff(0, mu_truth, sigma2_truth))\n",
    "\n",
    "        ratio = mu_kde/mu_truth\n",
    "        ratios[selection_step].append(ratio)\n",
    "        \n",
    "        sigma_ratio = ratio*np.sqrt(sigma2_kde/(mu_kde**2) + sigma2_truth/(mu_truth**2))\n",
    "        sigma_ratios[selection_step].append(sigma_ratio)\n",
    "        print(selection_step)\n",
    "        print(f\"m4 = {m4}, mz = {mz}, kde = {mu_kde:.2g}, truth = {mu_truth:.2g}, ratio = {ratio:.2g} +/- {sigma_ratio:.2g}\")\n",
    "        print(f\"relative sigma_kde = {np.sqrt(sigma2_kde)/mu_kde:.2g}, sigma_truth = {np.sqrt(sigma2_truth)/mu_truth:.2g}\")"
   ]
  },
  {
   "cell_type": "code",
   "execution_count": 14,
   "metadata": {},
   "outputs": [],
   "source": [
    "def create_bin_edges_from_array(ar):\n",
    "    ar_min = 2* ar[0] - ar[1]\n",
    "    ar_max = 2* ar[-1] - ar[-2]\n",
    "    new_ar = np.array([ar_min] + list(ar) + [ar_max])\n",
    "    return np.array((new_ar[1:] + new_ar[:-1])/2)"
   ]
  },
  {
   "cell_type": "code",
   "execution_count": 41,
   "metadata": {},
   "outputs": [],
   "source": [
    "m4_centres = np.array(pars[case]['m4'])\n",
    "mz_centres = np.array(pars[case]['mz_prime'])\n",
    "m4_edges = create_bin_edges_from_array(m4_centres)\n",
    "mz_edges = create_bin_edges_from_array(mz_centres)\n",
    "\n",
    "ratio_total = {}\n",
    "for sel in kde_total.keys():\n",
    "    this_ratio = np.array(ratios[sel]).reshape(len(pars[case]['m4']), len(pars[case]['mz_prime']))\n",
    "    this_sigma_ratio = np.array(sigma_ratios[sel]).reshape(len(pars[case]['m4']), len(pars[case]['mz_prime']))\n",
    "    plt.pcolormesh(m4_edges, mz_edges, this_ratio.T)\n",
    "    for i in range(len(m4_centres)):\n",
    "        for j in range(len(mz_centres)):\n",
    "            text = plt.text(pars[case]['m4'][j], pars[case]['mz_prime'][i], f\"{this_ratio[j, i]:.3g} $\\pm$ {this_sigma_ratio[j, i]:.1g}\",\n",
    "                            ha=\"center\", va=\"center\", color=\"k\")\n",
    "    plt.colorbar()\n",
    "    plt.xlabel(r'$m_4$ [GeV]')\n",
    "    plt.ylabel(r'$m_Z$ [GeV]')\n",
    "    plt.title(f'KDE estimate/truth ratio at {sel}')\n",
    "    plt.savefig(save_folder+f\"kde_truth_ratio_2d_summary_case_{case}_N_{n_evt}_{sel}.png\", bbox_inches='tight', dpi=250)\n",
    "    plt.close()"
   ]
  },
  {
   "cell_type": "code",
   "execution_count": 28,
   "metadata": {},
   "outputs": [],
   "source": [
    "m4_centres = np.array(pars[case]['m4'])\n",
    "mz_centres = np.array(pars[case]['mz_prime'])\n",
    "m4_edges = create_bin_edges_from_array(m4_centres)\n",
    "mz_edges = create_bin_edges_from_array(mz_centres)\n",
    "\n",
    "likes = dict(zip(['kde', 'truth'], [likes_kde, likes_truth]))\n",
    "for sel in kde_total.keys():\n",
    "    for mode in ['kde', 'truth']:\n",
    "        this_like = -1*np.array(likes[mode][sel]).reshape(len(pars[case]['m4']), len(pars[case]['mz_prime']))\n",
    "        this_like -= this_like.min()\n",
    "        plt.pcolormesh(m4_edges, mz_edges, this_like.T)\n",
    "        for i in range(len(m4_centres)):\n",
    "            for j in range(len(mz_centres)):\n",
    "                text = plt.text(pars[case]['m4'][j], pars[case]['mz_prime'][i], f\"{this_like[j, i]:.3g}\",\n",
    "                                ha=\"center\", va=\"center\", color=\"k\")\n",
    "        plt.colorbar()\n",
    "        plt.xlabel(r'$m_4$ [GeV]')\n",
    "        plt.ylabel(r'$m_Z$ [GeV]')\n",
    "        plt.title(f'Effective likelihood of seeing 0 events\\nestimated with {mode} at {sel}')\n",
    "        plt.savefig(save_folder+f\"likelihood_profile_{mode}_case_{case}_N_{n_evt}_{sel}.png\", bbox_inches='tight', dpi=250)\n",
    "        plt.close()"
   ]
  },
  {
   "cell_type": "code",
   "execution_count": null,
   "metadata": {},
   "outputs": [],
   "source": []
  }
 ],
 "metadata": {
  "kernelspec": {
   "display_name": "Python 3",
   "language": "python",
   "name": "python3"
  },
  "language_info": {
   "codemirror_mode": {
    "name": "ipython",
    "version": 3
   },
   "file_extension": ".py",
   "mimetype": "text/x-python",
   "name": "python",
   "nbconvert_exporter": "python",
   "pygments_lexer": "ipython3",
   "version": "3.9.2"
  }
 },
 "nbformat": 4,
 "nbformat_minor": 2
}
