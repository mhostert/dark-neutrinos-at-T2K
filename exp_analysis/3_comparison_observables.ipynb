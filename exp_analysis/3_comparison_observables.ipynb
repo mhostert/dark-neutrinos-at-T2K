{
 "cells": [
  {
   "cell_type": "markdown",
   "metadata": {},
   "source": [
    "# Comparing Vegas generated without scanning with the KDE prediction in observables"
   ]
  },
  {
   "cell_type": "code",
   "execution_count": 1,
   "metadata": {},
   "outputs": [],
   "source": [
    "%load_ext autoreload\n",
    "%autoreload 2"
   ]
  },
  {
   "cell_type": "code",
   "execution_count": 2,
   "metadata": {},
   "outputs": [],
   "source": [
    "import matplotlib.pyplot as plt\n",
    "import numpy as np\n",
    "import pandas as pd\n",
    "from parameters_dict import physics_parameters\n",
    "from exp_analysis_class import exp_analysis\n",
    "from plot_utils import set_plot_title, annotated_2d_plot\n",
    "from dark_nus_utils import load_datasets"
   ]
  },
  {
   "cell_type": "code",
   "execution_count": 3,
   "metadata": {},
   "outputs": [
    {
     "name": "stdout",
     "output_type": "stream",
     "text": [
      "/bin/bash: port_used: line 1: syntax error: unexpected end of file\n",
      "/bin/bash: error importing function definition for `BASH_FUNC_port_used'\n",
      "/bin/bash: wait_until_port_used: line 1: syntax error: unexpected end of file\n",
      "/bin/bash: error importing function definition for `BASH_FUNC_wait_until_port_used'\n",
      "/bin/bash: module: line 1: syntax error: unexpected end of file\n",
      "/bin/bash: error importing function definition for `BASH_FUNC_module'\n",
      "/bin/bash: find_port: line 1: syntax error: unexpected end of file\n",
      "/bin/bash: error importing function definition for `BASH_FUNC_find_port'\n",
      "/bin/bash: random_number: line 1: syntax error: unexpected end of file\n",
      "/bin/bash: error importing function definition for `BASH_FUNC_random_number'\n",
      "/bin/bash: helmod: line 1: syntax error: unexpected end of file\n",
      "/bin/bash: error importing function definition for `BASH_FUNC_helmod'\n",
      "/bin/bash: source_helpers: line 1: syntax error: unexpected end of file\n",
      "/bin/bash: error importing function definition for `BASH_FUNC_source_helpers'\n",
      "/bin/bash: ml: line 1: syntax error: unexpected end of file\n",
      "/bin/bash: error importing function definition for `BASH_FUNC_ml'\n",
      "/bin/bash: create_passwd: line 1: syntax error: unexpected end of file\n",
      "/bin/bash: error importing function definition for `BASH_FUNC_create_passwd'\n"
     ]
    }
   ],
   "source": [
    "save_folder = '../fig/3_comparison_observables/'\n",
    "!mkdir -p $save_folder"
   ]
  },
  {
   "cell_type": "code",
   "execution_count": 6,
   "metadata": {},
   "outputs": [],
   "source": [
    "general_smoothing_pars = (0.005, 0.05)"
   ]
  },
  {
   "cell_type": "markdown",
   "metadata": {},
   "source": [
    "## Use this to load the datasets in the usual way and dump them in pickle files"
   ]
  },
  {
   "cell_type": "code",
   "execution_count": null,
   "metadata": {},
   "outputs": [],
   "source": [
    "my_exp_analyses = load_datasets(dump=True, timeit=True)"
   ]
  },
  {
   "cell_type": "markdown",
   "metadata": {},
   "source": [
    "## Use the function this way to load the datasets from the pickle files"
   ]
  },
  {
   "cell_type": "code",
   "execution_count": 4,
   "metadata": {},
   "outputs": [
    {
     "name": "stdout",
     "output_type": "stream",
     "text": [
      "heavy dirac\n",
      "Wall time: 0.4855668544769287 s, CPU time: 0.47064043999999994\n",
      "heavy majorana\n",
      "Wall time: 0.4487111568450928 s, CPU time: 0.44311688400000016\n",
      "light dirac\n",
      "Wall time: 0.5988938808441162 s, CPU time: 0.5923327889999999\n",
      "light majorana\n",
      "Wall time: 0.5648238658905029 s, CPU time: 0.5590051440000003\n"
     ]
    }
   ],
   "source": [
    "my_exp_analyses = load_datasets(timeit=True, direct_load_objects=True)"
   ]
  },
  {
   "cell_type": "markdown",
   "metadata": {},
   "source": [
    "## Examples"
   ]
  },
  {
   "cell_type": "code",
   "execution_count": null,
   "metadata": {},
   "outputs": [],
   "source": [
    "kde_to_noscan_comparison(var='pee_t',\n",
    "                       range=(0, 1),\n",
    "                       bins=10,\n",
    "                       m4mz=(0.1, 5),\n",
    "                       exp_analysis_obj=my_exp_analyses['heavy_dirac'],\n",
    "                       smoothing_pars=(0.005, 0.05),\n",
    "                       selection_query='no_cuts',\n",
    "                       cumulative=True)"
   ]
  },
  {
   "cell_type": "code",
   "execution_count": null,
   "metadata": {},
   "outputs": [],
   "source": [
    "comparison_plot_models(var='pee_t',\n",
    "                       range=(0, 1),\n",
    "                       bins=10,\n",
    "                       m4mz=(0.1, 0.03),\n",
    "                       exp_analysis_objs=[my_exp_analyses['light_dirac'], my_exp_analyses['light_majorana']],\n",
    "                       existing_axes=None,\n",
    "                       smoothing_pars=(0.005, 0.05),\n",
    "                       selection_query='no_cuts',\n",
    "                       cumulative=True);"
   ]
  },
  {
   "cell_type": "code",
   "execution_count": null,
   "metadata": {},
   "outputs": [],
   "source": [
    "comparison_plot_cuts(var='pee_t',\n",
    "                       range=(0, 2),\n",
    "                       bins=10,\n",
    "                       m4mz=(0.1, 1),\n",
    "                       exp_analysis_obj=my_exp_analyses['heavy_dirac'],\n",
    "                       smoothing_pars=(0.005, 0.05),\n",
    "                       selection_queries=['no_cuts', 'cut1', 'cut2'],\n",
    "                       cumulative=True);"
   ]
  },
  {
   "cell_type": "markdown",
   "metadata": {},
   "source": [
    "## Efficiency"
   ]
  },
  {
   "cell_type": "markdown",
   "metadata": {},
   "source": [
    "### Single efficiency for KDE"
   ]
  },
  {
   "cell_type": "code",
   "execution_count": null,
   "metadata": {},
   "outputs": [],
   "source": [
    "kde_efficiency(num_selection_query='cut1',\n",
    "               den_selection_query='no_cuts',\n",
    "               m4mz=(0.1, 0.5),\n",
    "               exp_analysis_obj=my_exp_analyses['heavy_dirac']\n",
    "               )"
   ]
  },
  {
   "cell_type": "markdown",
   "metadata": {},
   "source": [
    "### Single efficiency for no scan"
   ]
  },
  {
   "cell_type": "code",
   "execution_count": null,
   "metadata": {},
   "outputs": [],
   "source": [
    "no_scan_efficiency(num_selection_query='cut1',\n",
    "               den_selection_query='no_cuts',\n",
    "               m4mz=(0.1, 1),\n",
    "               exp_analysis_obj=my_exp_analyses['heavy_dirac']\n",
    "               )"
   ]
  },
  {
   "cell_type": "markdown",
   "metadata": {},
   "source": [
    "### Efficiency on the m4,mz grid"
   ]
  },
  {
   "cell_type": "code",
   "execution_count": null,
   "metadata": {},
   "outputs": [],
   "source": [
    "kde_no_scan_efficiency_plot_grid(num_selection_query='cut1',\n",
    "                                 den_selection_query='no_cuts',\n",
    "                                 exp_analysis_obj=my_exp_analyses['heavy_dirac'],\n",
    "                                 smoothing_pars=[0.005, 0.05]);"
   ]
  },
  {
   "cell_type": "markdown",
   "metadata": {},
   "source": [
    "### Efficiency for multiple cuts"
   ]
  },
  {
   "cell_type": "code",
   "execution_count": null,
   "metadata": {},
   "outputs": [],
   "source": [
    "kde_no_scan_efficiency_cut_list(num_selection_queries=['(cut1 & cut2)', 'cut2', 'cut3', 'cut4', 'cut_based'], \n",
    "                                den_selection_queries='decay_in_tpc_10', \n",
    "                                exp_analysis_obj=my_exp_analyses['heavy_dirac'], \n",
    "                                m4mz=(0.1, 1),\n",
    "                                smoothing_pars=[0.005, 0.05])"
   ]
  },
  {
   "cell_type": "markdown",
   "metadata": {},
   "source": [
    "### Efficiency for multiple c$\\tau$ (finally!!!)"
   ]
  },
  {
   "cell_type": "code",
   "execution_count": null,
   "metadata": {},
   "outputs": [],
   "source": [
    "ctaus = [1, 10, 100, 1000, 10000]\n",
    "my_exp_analyses['heavy_dirac'].ctau_acceptance(ctaus)\n",
    "\n",
    "kde_no_scan_efficiency_cut_list(num_selection_queries=[f'decay_in_tpc_{ctau}' for ctau in ctaus], \n",
    "                                den_selection_queries='no_cuts', \n",
    "                                exp_analysis_obj=my_exp_analyses['heavy_dirac'], \n",
    "                                m4mz=(0.1, 1),\n",
    "                                smoothing_pars=[0.005, 0.05]);\n",
    "plt.xticks(range(len(ctaus)), labels=[f'c$\\\\tau$ = {ctau}' for ctau in ctaus]);"
   ]
  },
  {
   "cell_type": "markdown",
   "metadata": {},
   "source": [
    "## Comparison N events for different cuts and different c$\\tau$"
   ]
  },
  {
   "cell_type": "markdown",
   "metadata": {},
   "source": [
    "### For different cuts"
   ]
  },
  {
   "cell_type": "code",
   "execution_count": 8,
   "metadata": {},
   "outputs": [
    {
     "name": "stdout",
     "output_type": "stream",
     "text": [
      "heavy dirac\n"
     ]
    },
    {
     "name": "stderr",
     "output_type": "stream",
     "text": [
      "<ipython-input-8-66822e2075ab>:15: RuntimeWarning: invalid value encountered in true_divide\n",
      "  annotated_2d_plot(data=n_events_kde/n_events_grid_no_scan,\n",
      "<ipython-input-8-66822e2075ab>:23: RuntimeWarning: invalid value encountered in true_divide\n",
      "  errors_to_annotate=n_events_kde_err/n_events_grid_no_scan\n"
     ]
    },
    {
     "name": "stdout",
     "output_type": "stream",
     "text": [
      "heavy majorana\n",
      "light dirac\n",
      "light majorana\n",
      "heavy dirac\n"
     ]
    },
    {
     "name": "stderr",
     "output_type": "stream",
     "text": [
      "<ipython-input-8-66822e2075ab>:15: RuntimeWarning: invalid value encountered in true_divide\n",
      "  annotated_2d_plot(data=n_events_kde/n_events_grid_no_scan,\n",
      "<ipython-input-8-66822e2075ab>:23: RuntimeWarning: invalid value encountered in true_divide\n",
      "  errors_to_annotate=n_events_kde_err/n_events_grid_no_scan\n"
     ]
    },
    {
     "name": "stdout",
     "output_type": "stream",
     "text": [
      "heavy majorana\n",
      "light dirac\n",
      "light majorana\n",
      "heavy dirac\n"
     ]
    },
    {
     "name": "stderr",
     "output_type": "stream",
     "text": [
      "<ipython-input-8-66822e2075ab>:15: RuntimeWarning: invalid value encountered in true_divide\n",
      "  annotated_2d_plot(data=n_events_kde/n_events_grid_no_scan,\n",
      "<ipython-input-8-66822e2075ab>:23: RuntimeWarning: invalid value encountered in true_divide\n",
      "  errors_to_annotate=n_events_kde_err/n_events_grid_no_scan\n"
     ]
    },
    {
     "name": "stdout",
     "output_type": "stream",
     "text": [
      "heavy majorana\n",
      "light dirac\n",
      "light majorana\n",
      "heavy dirac\n"
     ]
    },
    {
     "name": "stderr",
     "output_type": "stream",
     "text": [
      "<ipython-input-8-66822e2075ab>:15: RuntimeWarning: invalid value encountered in true_divide\n",
      "  annotated_2d_plot(data=n_events_kde/n_events_grid_no_scan,\n",
      "<ipython-input-8-66822e2075ab>:23: RuntimeWarning: invalid value encountered in true_divide\n",
      "  errors_to_annotate=n_events_kde_err/n_events_grid_no_scan\n"
     ]
    },
    {
     "name": "stdout",
     "output_type": "stream",
     "text": [
      "heavy majorana\n",
      "light dirac\n",
      "light majorana\n",
      "heavy dirac\n"
     ]
    },
    {
     "name": "stderr",
     "output_type": "stream",
     "text": [
      "<ipython-input-8-66822e2075ab>:15: RuntimeWarning: invalid value encountered in true_divide\n",
      "  annotated_2d_plot(data=n_events_kde/n_events_grid_no_scan,\n",
      "<ipython-input-8-66822e2075ab>:23: RuntimeWarning: invalid value encountered in true_divide\n",
      "  errors_to_annotate=n_events_kde_err/n_events_grid_no_scan\n"
     ]
    },
    {
     "name": "stdout",
     "output_type": "stream",
     "text": [
      "heavy majorana\n",
      "light dirac\n",
      "light majorana\n"
     ]
    }
   ],
   "source": [
    "selections = ['cut1', 'cut2', 'cut3', 'cut4', 'cut_based']\n",
    "\n",
    "for selection in selections:\n",
    "    fig, axes = plt.subplots(nrows=1, ncols=len(my_exp_analyses), figsize=(len(my_exp_analyses)*5, 5))\n",
    "\n",
    "    for my_exp_analysis, ax in zip(my_exp_analyses.values(), axes):\n",
    "        print(my_exp_analysis.hierarchy, my_exp_analysis.D_or_M)\n",
    "        n_events_grid_no_scan = my_exp_analysis.no_scan_benchmark_grid(lambda x: x.query(selection)['actual_weight'].sum())\n",
    "        n_events_err_kde = my_exp_analysis.kde_n_events_benchmark_grid(selection_query=selection,\n",
    "                                                                       smoothing=general_smoothing_pars)\n",
    "        n_events_kde = n_events_err_kde[..., 0]\n",
    "        n_events_kde_err = n_events_err_kde[..., 1]\n",
    "\n",
    "        plt.sca(ax)\n",
    "        annotated_2d_plot(data=n_events_kde/n_events_grid_no_scan,\n",
    "                          xcenters=my_exp_analysis.m4_scan,\n",
    "                          ycenters=my_exp_analysis.mz_scan,\n",
    "                          xlabel =r'$m_4$ [GeV]',\n",
    "                          ylabel=r'$m_Z$ [GeV]',\n",
    "                          vmin=0.5,\n",
    "                          vcenter=1,\n",
    "                          vmax=1.5,\n",
    "                          errors_to_annotate=n_events_kde_err/n_events_grid_no_scan\n",
    "                          )\n",
    "\n",
    "        set_plot_title(exp_analysis_obj=my_exp_analysis, \n",
    "                       smoothing_pars=general_smoothing_pars,\n",
    "                       selection_query=selection)\n",
    "    plt.colorbar()\n",
    "    save_string = f'{save_folder}N_selection_{selection}'\n",
    "    plt.savefig(save_string + '.pdf', bbox_inches='tight')\n",
    "    plt.savefig(save_string + '.png', dpi=250, bbox_inches='tight')\n",
    "    plt.close()"
   ]
  },
  {
   "cell_type": "markdown",
   "metadata": {},
   "source": [
    "### For different c$\\tau$"
   ]
  },
  {
   "cell_type": "code",
   "execution_count": 9,
   "metadata": {},
   "outputs": [
    {
     "name": "stdout",
     "output_type": "stream",
     "text": [
      "heavy dirac\n"
     ]
    },
    {
     "name": "stderr",
     "output_type": "stream",
     "text": [
      "<ipython-input-9-79e127a18426>:20: RuntimeWarning: invalid value encountered in true_divide\n",
      "  annotated_2d_plot(data=n_events_kde/n_events_grid_no_scan,\n"
     ]
    },
    {
     "name": "stdout",
     "output_type": "stream",
     "text": [
      "heavy majorana\n"
     ]
    },
    {
     "name": "stderr",
     "output_type": "stream",
     "text": [
      "<ipython-input-9-79e127a18426>:20: RuntimeWarning: invalid value encountered in true_divide\n",
      "  annotated_2d_plot(data=n_events_kde/n_events_grid_no_scan,\n"
     ]
    },
    {
     "name": "stdout",
     "output_type": "stream",
     "text": [
      "light dirac\n"
     ]
    },
    {
     "name": "stderr",
     "output_type": "stream",
     "text": [
      "<ipython-input-9-79e127a18426>:20: RuntimeWarning: invalid value encountered in true_divide\n",
      "  annotated_2d_plot(data=n_events_kde/n_events_grid_no_scan,\n"
     ]
    },
    {
     "name": "stdout",
     "output_type": "stream",
     "text": [
      "light majorana\n"
     ]
    },
    {
     "name": "stderr",
     "output_type": "stream",
     "text": [
      "<ipython-input-9-79e127a18426>:20: RuntimeWarning: invalid value encountered in true_divide\n",
      "  annotated_2d_plot(data=n_events_kde/n_events_grid_no_scan,\n"
     ]
    },
    {
     "name": "stdout",
     "output_type": "stream",
     "text": [
      "heavy dirac\n"
     ]
    },
    {
     "name": "stderr",
     "output_type": "stream",
     "text": [
      "<ipython-input-9-79e127a18426>:20: RuntimeWarning: invalid value encountered in true_divide\n",
      "  annotated_2d_plot(data=n_events_kde/n_events_grid_no_scan,\n"
     ]
    },
    {
     "name": "stdout",
     "output_type": "stream",
     "text": [
      "heavy majorana\n"
     ]
    },
    {
     "name": "stderr",
     "output_type": "stream",
     "text": [
      "<ipython-input-9-79e127a18426>:20: RuntimeWarning: invalid value encountered in true_divide\n",
      "  annotated_2d_plot(data=n_events_kde/n_events_grid_no_scan,\n"
     ]
    },
    {
     "name": "stdout",
     "output_type": "stream",
     "text": [
      "light dirac\n"
     ]
    },
    {
     "name": "stderr",
     "output_type": "stream",
     "text": [
      "<ipython-input-9-79e127a18426>:20: RuntimeWarning: invalid value encountered in true_divide\n",
      "  annotated_2d_plot(data=n_events_kde/n_events_grid_no_scan,\n"
     ]
    },
    {
     "name": "stdout",
     "output_type": "stream",
     "text": [
      "light majorana\n"
     ]
    },
    {
     "name": "stderr",
     "output_type": "stream",
     "text": [
      "<ipython-input-9-79e127a18426>:20: RuntimeWarning: invalid value encountered in true_divide\n",
      "  annotated_2d_plot(data=n_events_kde/n_events_grid_no_scan,\n"
     ]
    },
    {
     "name": "stdout",
     "output_type": "stream",
     "text": [
      "heavy dirac\n"
     ]
    },
    {
     "name": "stderr",
     "output_type": "stream",
     "text": [
      "<ipython-input-9-79e127a18426>:20: RuntimeWarning: invalid value encountered in true_divide\n",
      "  annotated_2d_plot(data=n_events_kde/n_events_grid_no_scan,\n"
     ]
    },
    {
     "name": "stdout",
     "output_type": "stream",
     "text": [
      "heavy majorana\n"
     ]
    },
    {
     "name": "stderr",
     "output_type": "stream",
     "text": [
      "<ipython-input-9-79e127a18426>:20: RuntimeWarning: invalid value encountered in true_divide\n",
      "  annotated_2d_plot(data=n_events_kde/n_events_grid_no_scan,\n"
     ]
    },
    {
     "name": "stdout",
     "output_type": "stream",
     "text": [
      "light dirac\n"
     ]
    },
    {
     "name": "stderr",
     "output_type": "stream",
     "text": [
      "<ipython-input-9-79e127a18426>:20: RuntimeWarning: invalid value encountered in true_divide\n",
      "  annotated_2d_plot(data=n_events_kde/n_events_grid_no_scan,\n"
     ]
    },
    {
     "name": "stdout",
     "output_type": "stream",
     "text": [
      "light majorana\n"
     ]
    },
    {
     "name": "stderr",
     "output_type": "stream",
     "text": [
      "<ipython-input-9-79e127a18426>:20: RuntimeWarning: invalid value encountered in true_divide\n",
      "  annotated_2d_plot(data=n_events_kde/n_events_grid_no_scan,\n"
     ]
    },
    {
     "name": "stdout",
     "output_type": "stream",
     "text": [
      "heavy dirac\n"
     ]
    },
    {
     "name": "stderr",
     "output_type": "stream",
     "text": [
      "<ipython-input-9-79e127a18426>:20: RuntimeWarning: invalid value encountered in true_divide\n",
      "  annotated_2d_plot(data=n_events_kde/n_events_grid_no_scan,\n"
     ]
    },
    {
     "name": "stdout",
     "output_type": "stream",
     "text": [
      "heavy majorana\n"
     ]
    },
    {
     "name": "stderr",
     "output_type": "stream",
     "text": [
      "<ipython-input-9-79e127a18426>:20: RuntimeWarning: invalid value encountered in true_divide\n",
      "  annotated_2d_plot(data=n_events_kde/n_events_grid_no_scan,\n"
     ]
    },
    {
     "name": "stdout",
     "output_type": "stream",
     "text": [
      "light dirac\n"
     ]
    },
    {
     "name": "stderr",
     "output_type": "stream",
     "text": [
      "<ipython-input-9-79e127a18426>:20: RuntimeWarning: invalid value encountered in true_divide\n",
      "  annotated_2d_plot(data=n_events_kde/n_events_grid_no_scan,\n"
     ]
    },
    {
     "name": "stdout",
     "output_type": "stream",
     "text": [
      "light majorana\n"
     ]
    },
    {
     "name": "stderr",
     "output_type": "stream",
     "text": [
      "<ipython-input-9-79e127a18426>:20: RuntimeWarning: invalid value encountered in true_divide\n",
      "  annotated_2d_plot(data=n_events_kde/n_events_grid_no_scan,\n"
     ]
    }
   ],
   "source": [
    "ctaus = [1, 10, 100, 1000]\n",
    "\n",
    "for ctau in ctaus:\n",
    "    fig, axes = plt.subplots(nrows=1, ncols=len(my_exp_analyses), figsize=(len(my_exp_analyses)*5, 5))\n",
    "    if len(my_exp_analyses) == 1:\n",
    "            axes = [axes]\n",
    "    for my_exp_analysis, ax in zip(my_exp_analyses.values(), axes):\n",
    "        my_exp_analysis.ctau_acceptance(ctau)\n",
    "        print(my_exp_analysis.hierarchy, my_exp_analysis.D_or_M)\n",
    "        sel_query = f'decay_in_tpc_{ctau}'\n",
    "        n_events_grid_no_scan = my_exp_analysis.no_scan_benchmark_grid(lambda x: x.query(sel_query)['actual_weight'].sum())\n",
    "        n_events_grid_err_no_scan = my_exp_analysis.no_scan_benchmark_grid(lambda x: np.sqrt((x.query(sel_query)['actual_weight']**2).sum()))\n",
    "        \n",
    "        n_events_err_kde = my_exp_analysis.kde_n_events_benchmark_grid(selection_query=sel_query,\n",
    "                                                                       smoothing=general_smoothing_pars)\n",
    "        n_events_kde = n_events_err_kde[..., 0]\n",
    "        n_events_kde_err = n_events_err_kde[..., 1]\n",
    "\n",
    "        plt.sca(ax)\n",
    "        annotated_2d_plot(data=n_events_kde/n_events_grid_no_scan,\n",
    "                          xcenters=my_exp_analysis.m4_scan,\n",
    "                          ycenters=my_exp_analysis.mz_scan,\n",
    "                          xlabel =r'$m_4$ [GeV]',\n",
    "                          ylabel=r'$m_Z$ [GeV]',\n",
    "                          vmin=0.5,\n",
    "                          vcenter=1,\n",
    "                          vmax=1.5,\n",
    "                          main_to_annotate=[n_events_kde, n_events_grid_no_scan],\n",
    "                          err_to_annotate=[n_events_kde_err, n_events_grid_err_no_scan],\n",
    "                          )\n",
    "\n",
    "        set_plot_title(exp_analysis_obj=my_exp_analysis, \n",
    "                       smoothing_pars=general_smoothing_pars,\n",
    "                       selection_query=sel_query)\n",
    "    plt.colorbar()\n",
    "    save_string = f'{save_folder}N_ctau_{ctau}'\n",
    "    plt.savefig(save_string + '.pdf', bbox_inches='tight')\n",
    "    plt.savefig(save_string + '.png', dpi=250, bbox_inches='tight')\n",
    "    plt.close()"
   ]
  },
  {
   "cell_type": "markdown",
   "metadata": {},
   "source": [
    "## Example of plotting comparisons for a single observable -- ee energy\n",
    "## It needs to be updated!"
   ]
  },
  {
   "cell_type": "code",
   "execution_count": null,
   "metadata": {},
   "outputs": [],
   "source": [
    "bins = 10\n",
    "var1='ee_energy'\n",
    "var2=''\n",
    "varmin=0; varmax=1.0\n",
    "fig,  axes = plt.subplots(nrows=1, ncols=4,figsize = (18,4))\n",
    "\n",
    "# Heavy\n",
    "m4mz = (0.1, 1)\n",
    "smooth=(0.02,0.01)\n",
    "exp_analyses=[my_exp_analysis_hd,my_exp_analysis_hm]\n",
    "batch_comparison_plot(axes[:2],exp_analyses, m4mz,var1,var2,smooth=smooth,var_range=(varmin,varmax), bins=bins)\n",
    "\n",
    "# light\n",
    "m4mz = (0.4, 0.1)\n",
    "smooth=(0.02,0.02)\n",
    "exp_analyses=[my_exp_analysis_ld,my_exp_analysis_lm]\n",
    "batch_comparison_plot(axes[2:],exp_analyses, m4mz,var1,var2,smooth=smooth,var_range=(varmin,varmax), bins=bins)\n",
    "\n",
    "plt.tight_layout()"
   ]
  },
  {
   "cell_type": "markdown",
   "metadata": {},
   "source": [
    "## Comparing (heavy light)(maj dir) for all variables \n",
    "\n",
    "plots stored in multi-page pdf in plots/generation_KDE_comparisons/"
   ]
  },
  {
   "cell_type": "code",
   "execution_count": null,
   "metadata": {},
   "outputs": [],
   "source": [
    "%%capture\n",
    "m4mzheavy= (0.1, 1)\n",
    "m4mzlight = (0.4, 0.03)\n",
    "\n",
    "# cases for each panel\n",
    "exp_analyses=[my_exp_analysis_hd,my_exp_analysis_hm,my_exp_analysis_ld,my_exp_analysis_lm]\n",
    "\n",
    "batch_comparison_light_heavy(f\"../plots/generation_KDE_comparisons/m4H_{m4mzheavy[0]}_mzH_{m4mzheavy[1]}_m4L_{m4mzlight[0]}_mzL_{m4mzlight[1]}.pdf\", \n",
    "                           exp_analyses,m4mzheavy,m4mzlight)"
   ]
  },
  {
   "cell_type": "code",
   "execution_count": null,
   "metadata": {},
   "outputs": [],
   "source": [
    "%%capture\n",
    "m4mzheavy= (0.01, 1)\n",
    "m4mzlight = (0.4, 0.03)\n",
    "\n",
    "s# cases for each panel\n",
    "exp_analyses=[my_exp_analysis_hd,my_exp_analysis_hm,my_exp_analysis_ld,my_exp_analysis_lm]\n",
    "\n",
    "batch_comparison_light_heavy(f\"../plots/generation_KDE_comparisons/m4H_{m4mzheavy[0]}_mzH_{m4mzheavy[1]}_m4L_{m4mzlight[0]}_mzL_{m4mzlight[1]}.pdf\", \n",
    "                           exp_analyses,m4mzheavy,m4mzlight)"
   ]
  },
  {
   "cell_type": "markdown",
   "metadata": {},
   "source": [
    "## Compare different cut stages for a single (heavy light)(maj dir) case"
   ]
  },
  {
   "cell_type": "code",
   "execution_count": null,
   "metadata": {},
   "outputs": [],
   "source": [
    "%%capture\n",
    "m4mz= (0.1, 0.03)\n",
    "\n",
    "exp_analyses=[my_exp_analysis_lm]*4\n",
    "# varying var range for light case -- standard def is better for heavy case\n",
    "var_range = [(0,1.0),\n",
    "            (0,np.pi/4),\n",
    "            (0,m4mz[0]),\n",
    "            (-1,1.0),\n",
    "            (0,np.pi/4),\n",
    "            (0,np.pi/4),\n",
    "            (0,0.01)]\n",
    "smooth_light=(0.02,0.02)\n",
    "batch_comparison_cutlevels(f\"../plots/generation_KDE_comparisons/cut_flow_m4_{m4mz[0]}_mz_{m4mz[1]}.pdf\", \n",
    "                           exp_analyses, m4mz, smooth = smooth_light,\n",
    "                           var_range=var_range,\n",
    "                           sel_criterion=['no_cuts', 'cut1', 'cut2', 'cut_based'])  "
   ]
  },
  {
   "cell_type": "code",
   "execution_count": null,
   "metadata": {
    "scrolled": true
   },
   "outputs": [],
   "source": [
    "%%capture\n",
    "m4mz= (0.1, 1)\n",
    "exp_analyses=[my_exp_analysis_hm]*4\n",
    "\n",
    "batch_comparison_cutlevels(f\"../plots/generation_KDE_comparisons/cut_flow_m4_{m4mz[0]}_mz_{m4mz[1]}.pdf\", \n",
    "                           exp_analyses, m4mz, sel_criterion=['no_cuts', 'cut1', 'cut2', 'cut_based'])"
   ]
  }
 ],
 "metadata": {
  "kernelspec": {
   "display_name": "Python [conda env:dark_nus]",
   "language": "python",
   "name": "conda-env-dark_nus-py"
  },
  "language_info": {
   "codemirror_mode": {
    "name": "ipython",
    "version": 3
   },
   "file_extension": ".py",
   "mimetype": "text/x-python",
   "name": "python",
   "nbconvert_exporter": "python",
   "pygments_lexer": "ipython3",
   "version": "3.8.8"
  }
 },
 "nbformat": 4,
 "nbformat_minor": 2
}
