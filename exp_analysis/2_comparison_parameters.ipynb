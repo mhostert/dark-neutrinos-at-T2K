{
 "cells": [
  {
   "cell_type": "markdown",
   "metadata": {},
   "source": [
    "# Compare Gamma and N event expected between formulas, generated without scanning, and KDE\n",
    "# It does not compare physics quantities (observables("
   ]
  },
  {
   "cell_type": "code",
   "execution_count": 1,
   "metadata": {},
   "outputs": [],
   "source": [
    "%load_ext autoreload\n",
    "%autoreload 2"
   ]
  },
  {
   "cell_type": "code",
   "execution_count": 2,
   "metadata": {},
   "outputs": [],
   "source": [
    "import matplotlib.pyplot as plt\n",
    "import numpy as np\n",
    "import pandas as pd\n",
    "from parameters_dict import physics_parameters\n",
    "from exp_analysis_class import exp_analysis, gamma_heavy, gamma_heavy_contact"
   ]
  },
  {
   "cell_type": "code",
   "execution_count": 8,
   "metadata": {},
   "outputs": [
    {
     "ename": "FileNotFoundError",
     "evalue": "[Errno 2] No such file or directory: '../data/nd280_nu/3plus1/scan/heavy_majorana/0.005_m4_1_0.005_mzprime_10_nevt_1000000.pckl'",
     "output_type": "error",
     "traceback": [
      "\u001b[0;31m---------------------------------------------------------------------------\u001b[0m",
      "\u001b[0;31mFileNotFoundError\u001b[0m                         Traceback (most recent call last)",
      "\u001b[0;32m<ipython-input-8-5b05ef8e0b0d>\u001b[0m in \u001b[0;36m<module>\u001b[0;34m\u001b[0m\n\u001b[1;32m      4\u001b[0m \u001b[0mget_ipython\u001b[0m\u001b[0;34m(\u001b[0m\u001b[0;34m)\u001b[0m\u001b[0;34m.\u001b[0m\u001b[0msystem\u001b[0m\u001b[0;34m(\u001b[0m\u001b[0;34m'mkdir -p $save_folder'\u001b[0m\u001b[0;34m)\u001b[0m\u001b[0;34m\u001b[0m\u001b[0;34m\u001b[0m\u001b[0m\n\u001b[1;32m      5\u001b[0m \u001b[0mmy_exp_analysis\u001b[0m \u001b[0;34m=\u001b[0m \u001b[0mexp_analysis\u001b[0m\u001b[0;34m(\u001b[0m\u001b[0mcase\u001b[0m\u001b[0;34m,\u001b[0m\u001b[0mD_or_M\u001b[0m\u001b[0;34m)\u001b[0m\u001b[0;34m\u001b[0m\u001b[0;34m\u001b[0m\u001b[0m\n\u001b[0;32m----> 6\u001b[0;31m \u001b[0mmy_exp_analysis\u001b[0m\u001b[0;34m.\u001b[0m\u001b[0mload_df_base\u001b[0m\u001b[0;34m(\u001b[0m\u001b[0;36m1000000\u001b[0m\u001b[0;34m)\u001b[0m\u001b[0;34m\u001b[0m\u001b[0;34m\u001b[0m\u001b[0m\n\u001b[0m",
      "\u001b[0;32m~/Repos/nicgen/exp_analysis/exp_analysis_class.py\u001b[0m in \u001b[0;36mload_df_base\u001b[0;34m(self, n_evt, filename)\u001b[0m\n\u001b[1;32m    115\u001b[0m         \u001b[0mself\u001b[0m\u001b[0;34m.\u001b[0m\u001b[0mn_evt\u001b[0m \u001b[0;34m=\u001b[0m \u001b[0mn_evt\u001b[0m\u001b[0;34m\u001b[0m\u001b[0;34m\u001b[0m\u001b[0m\n\u001b[1;32m    116\u001b[0m         \u001b[0;32mif\u001b[0m \u001b[0mfilename\u001b[0m \u001b[0;32mis\u001b[0m \u001b[0;32mNone\u001b[0m\u001b[0;34m:\u001b[0m\u001b[0;34m\u001b[0m\u001b[0;34m\u001b[0m\u001b[0m\n\u001b[0;32m--> 117\u001b[0;31m             \u001b[0mself\u001b[0m\u001b[0;34m.\u001b[0m\u001b[0mdf_base\u001b[0m \u001b[0;34m=\u001b[0m \u001b[0mpd\u001b[0m\u001b[0;34m.\u001b[0m\u001b[0mread_pickle\u001b[0m\u001b[0;34m(\u001b[0m\u001b[0;34mf'{self.base_folder}scan/{self.hierarchy}_{self.D_or_M}/{self.m4_limits[0]}_m4_{self.m4_limits[1]}_{self.mz_limits[0]}_mzprime_{self.mz_limits[1]}_nevt_{self.n_evt}.pckl'\u001b[0m\u001b[0;34m)\u001b[0m\u001b[0;34m\u001b[0m\u001b[0;34m\u001b[0m\u001b[0m\n\u001b[0m\u001b[1;32m    118\u001b[0m         \u001b[0;32melse\u001b[0m\u001b[0;34m:\u001b[0m\u001b[0;34m\u001b[0m\u001b[0;34m\u001b[0m\u001b[0m\n\u001b[1;32m    119\u001b[0m             \u001b[0mself\u001b[0m\u001b[0;34m.\u001b[0m\u001b[0mdf_base\u001b[0m \u001b[0;34m=\u001b[0m \u001b[0mpd\u001b[0m\u001b[0;34m.\u001b[0m\u001b[0mread_pickle\u001b[0m\u001b[0;34m(\u001b[0m\u001b[0mfilename\u001b[0m\u001b[0;34m)\u001b[0m\u001b[0;34m\u001b[0m\u001b[0;34m\u001b[0m\u001b[0m\n",
      "\u001b[0;32m/usr/local/lib/python3.9/site-packages/pandas/io/pickle.py\u001b[0m in \u001b[0;36mread_pickle\u001b[0;34m(filepath_or_buffer, compression, storage_options)\u001b[0m\n\u001b[1;32m    183\u001b[0m     \"\"\"\n\u001b[1;32m    184\u001b[0m     \u001b[0mexcs_to_catch\u001b[0m \u001b[0;34m=\u001b[0m \u001b[0;34m(\u001b[0m\u001b[0mAttributeError\u001b[0m\u001b[0;34m,\u001b[0m \u001b[0mImportError\u001b[0m\u001b[0;34m,\u001b[0m \u001b[0mModuleNotFoundError\u001b[0m\u001b[0;34m,\u001b[0m \u001b[0mTypeError\u001b[0m\u001b[0;34m)\u001b[0m\u001b[0;34m\u001b[0m\u001b[0;34m\u001b[0m\u001b[0m\n\u001b[0;32m--> 185\u001b[0;31m     with get_handle(\n\u001b[0m\u001b[1;32m    186\u001b[0m         \u001b[0mfilepath_or_buffer\u001b[0m\u001b[0;34m,\u001b[0m\u001b[0;34m\u001b[0m\u001b[0;34m\u001b[0m\u001b[0m\n\u001b[1;32m    187\u001b[0m         \u001b[0;34m\"rb\"\u001b[0m\u001b[0;34m,\u001b[0m\u001b[0;34m\u001b[0m\u001b[0;34m\u001b[0m\u001b[0m\n",
      "\u001b[0;32m/usr/local/lib/python3.9/site-packages/pandas/io/common.py\u001b[0m in \u001b[0;36mget_handle\u001b[0;34m(path_or_buf, mode, encoding, compression, memory_map, is_text, errors, storage_options)\u001b[0m\n\u001b[1;32m    649\u001b[0m         \u001b[0;32melse\u001b[0m\u001b[0;34m:\u001b[0m\u001b[0;34m\u001b[0m\u001b[0;34m\u001b[0m\u001b[0m\n\u001b[1;32m    650\u001b[0m             \u001b[0;31m# Binary mode\u001b[0m\u001b[0;34m\u001b[0m\u001b[0;34m\u001b[0m\u001b[0;34m\u001b[0m\u001b[0m\n\u001b[0;32m--> 651\u001b[0;31m             \u001b[0mhandle\u001b[0m \u001b[0;34m=\u001b[0m \u001b[0mopen\u001b[0m\u001b[0;34m(\u001b[0m\u001b[0mhandle\u001b[0m\u001b[0;34m,\u001b[0m \u001b[0mioargs\u001b[0m\u001b[0;34m.\u001b[0m\u001b[0mmode\u001b[0m\u001b[0;34m)\u001b[0m\u001b[0;34m\u001b[0m\u001b[0;34m\u001b[0m\u001b[0m\n\u001b[0m\u001b[1;32m    652\u001b[0m         \u001b[0mhandles\u001b[0m\u001b[0;34m.\u001b[0m\u001b[0mappend\u001b[0m\u001b[0;34m(\u001b[0m\u001b[0mhandle\u001b[0m\u001b[0;34m)\u001b[0m\u001b[0;34m\u001b[0m\u001b[0;34m\u001b[0m\u001b[0m\n\u001b[1;32m    653\u001b[0m \u001b[0;34m\u001b[0m\u001b[0m\n",
      "\u001b[0;31mFileNotFoundError\u001b[0m: [Errno 2] No such file or directory: '../data/nd280_nu/3plus1/scan/heavy_majorana/0.005_m4_1_0.005_mzprime_10_nevt_1000000.pckl'"
     ]
    }
   ],
   "source": [
    "case = 'heavy'\n",
    "D_or_M = 'majorana'\n",
    "save_folder = ('../fig/2_comparison_parameters/' + case + '/')\n",
    "!mkdir -p $save_folder\n",
    "my_exp_analysis = exp_analysis(case,D_or_M)\n",
    "my_exp_analysis.load_df_base(1000000)"
   ]
  },
  {
   "cell_type": "markdown",
   "metadata": {},
   "source": [
    "## The Gamma profile"
   ]
  },
  {
   "cell_type": "code",
   "execution_count": 7,
   "metadata": {},
   "outputs": [],
   "source": [
    "#compute Gamma all materials\n",
    "gamma_no_scan = []\n",
    "gamma_formula = []\n",
    "gamma_formula_contact = []\n",
    "for m4 in physics_parameters[case]['m4_scan']:\n",
    "    gamma_no_scan.append([])\n",
    "    gamma_formula.append([])\n",
    "    gamma_formula_contact.append([])\n",
    "    for mz in physics_parameters[case]['mz_scan']:\n",
    "        if ((case == 'heavy') and (m4 >= mz)) or ((case == 'light') and (m4 <= mz)):\n",
    "                gamma_no_scan[-1].append(0)\n",
    "                gamma_formula[-1].append(0)\n",
    "                gamma_formula_contact[-1].append(0)\n",
    "                continue\n",
    "        else:\n",
    "            df = my_exp_analysis.load_df(m4, mz)\n",
    "            gamma_no_scan[-1].append(df['weight_decay', ''].sum())\n",
    "            gamma_formula[-1].append(gamma_heavy(m4, mz, physics_parameters[case]['Vmu4_alpha_epsilon2']))\n",
    "            gamma_formula_contact[-1].append(gamma_heavy_contact(m4, mz, physics_parameters[case]['Vmu4_alpha_epsilon2']))\n",
    "gamma_no_scan = np.array(gamma_no_scan)\n",
    "gamma_formula = np.array(gamma_formula)\n",
    "gamma_formula_contact = np.array(gamma_formula_contact)"
   ]
  },
  {
   "cell_type": "code",
   "execution_count": 8,
   "metadata": {},
   "outputs": [],
   "source": [
    "#compute Gamma KDE\n",
    "gamma_kde = []\n",
    "\n",
    "smoothing_pars = [0.005, 0.05]\n",
    "\n",
    "m4_values = my_exp_analysis.df_base['m4', '']\n",
    "mz_values = my_exp_analysis.df_base['mzprime', '']\n",
    "df_values = np.stack([m4_values, mz_values], axis=-1)\n",
    "weight_decay = my_exp_analysis.df_base['weight_decay', ''].values\n",
    "\n",
    "for i, m4 in enumerate(physics_parameters[case]['m4_scan']):\n",
    "    gamma_kde.append([])\n",
    "    for j, mz in enumerate(physics_parameters[case]['mz_scan']):\n",
    "        if ((case == 'heavy') and (m4 >= mz)) or ((case == 'light') and (m4 <= mz)):\n",
    "                gamma_kde[-1].append(0)\n",
    "                continue\n",
    "        aux_kde = exp_analysis.kde_Nd_weights(np.array([m4, mz]), df_values, smoothing=smoothing_pars, kernel='epa')\n",
    "        gamma_kde[-1].append((aux_kde*weight_decay).sum())\n",
    "\n",
    "gamma_kde = np.array(gamma_kde)"
   ]
  },
  {
   "cell_type": "code",
   "execution_count": 38,
   "metadata": {},
   "outputs": [
    {
     "name": "stderr",
     "output_type": "stream",
     "text": [
      "<ipython-input-38-e6b0a0911341>:29: RuntimeWarning: invalid value encountered in true_divide\n",
      "  annotated_2d_plot(gamma_formula/gamma_no_scan)\n",
      "<ipython-input-38-e6b0a0911341>:33: RuntimeWarning: invalid value encountered in true_divide\n",
      "  annotated_2d_plot(gamma_formula_contact/gamma_no_scan)\n",
      "<ipython-input-38-e6b0a0911341>:38: RuntimeWarning: invalid value encountered in true_divide\n",
      "  annotated_2d_plot(gamma_formula_contact/gamma_formula)\n",
      "<ipython-input-38-e6b0a0911341>:42: RuntimeWarning: invalid value encountered in true_divide\n",
      "  annotated_2d_plot(gamma_kde/gamma_formula)\n"
     ]
    },
    {
     "data": {
      "image/png": "[encoded data removed]",
      "text/plain": [
       "<Figure size 1440x432 with 5 Axes>"
      ]
     },
     "metadata": {
      "needs_background": "light"
     },
     "output_type": "display_data"
    }
   ],
   "source": [
    "from matplotlib import colors\n",
    "\n",
    "def annotated_2d_plot(data):\n",
    "    divnorm = colors.TwoSlopeNorm(vcenter=1, vmin=0.9, vmax=2)\n",
    "    plt.pcolormesh(data.T, cmap='BrBG', norm=divnorm)\n",
    "    plt.xticks(ticks=np.arange(0.5, len(xcenters)),\n",
    "               labels=xcenters)\n",
    "    plt.yticks(ticks=np.arange(0.5, len(ycenters)),\n",
    "               labels=ycenters)\n",
    "    for i in range(len(xcenters)):\n",
    "        for j in range(len(ycenters)):\n",
    "            this_value = data[i,j]\n",
    "            if np.isnan(this_value):\n",
    "                continue\n",
    "            text = plt.text(i + 0.5, j + 0.5, f\"{data[i,j]:.3g}\",\n",
    "                            ha=\"center\", va=\"center\", color=\"k\")\n",
    "    plt.xlabel(xlabel)\n",
    "    plt.ylabel(ylabel)\n",
    "\n",
    "xlabel = r'$m_4$ [GeV]'\n",
    "ylabel = r'$m_Z$ [GeV]'\n",
    "\n",
    "xcenters = physics_parameters[case]['m4_scan']\n",
    "ycenters = physics_parameters[case]['mz_scan']\n",
    "fig = plt.figure(figsize=(20, 6))\n",
    "fig.suptitle('Ratio between estimate and generated without scanning')\n",
    "\n",
    "plt.subplot(141)\n",
    "annotated_2d_plot(gamma_formula/gamma_no_scan)\n",
    "plt.title('Formula/Generated')\n",
    "\n",
    "plt.subplot(142)\n",
    "annotated_2d_plot(gamma_formula_contact/gamma_no_scan)\n",
    "plt.title('Contact interaction formula/Generated')\n",
    "\n",
    "\n",
    "plt.subplot(143)\n",
    "annotated_2d_plot(gamma_formula_contact/gamma_formula)\n",
    "plt.title('Contact interaction formula/formula')\n",
    "\n",
    "plt.subplot(144)\n",
    "annotated_2d_plot(gamma_kde/gamma_formula)\n",
    "plt.title('KDE/formula')\n",
    "plt.colorbar()\n",
    "\n",
    "plt.savefig(save_folder + 'ratio_between_estimates_of_gamma.png', dpi=250)"
   ]
  },
  {
   "cell_type": "markdown",
   "metadata": {},
   "source": [
    "## N event profile"
   ]
  },
  {
   "cell_type": "code",
   "execution_count": 30,
   "metadata": {},
   "outputs": [],
   "source": [
    "# compute n_events without scanning\n",
    "n_event_no_scan = []\n",
    "sigma_n_event_no_scan = []\n",
    "for m4 in physics_parameters[case]['m4_scan']:\n",
    "    n_event_no_scan.append([])\n",
    "    sigma_n_event_no_scan.append([])\n",
    "    for mz in physics_parameters[case]['mz_scan']:\n",
    "        if ((case == 'heavy') and (m4 >= mz)) or ((case == 'light') and (m4 <= mz)):\n",
    "                n_event_no_scan[-1].append(0)\n",
    "                sigma_n_event_no_scan[-1].append(0)\n",
    "                continue\n",
    "        else:\n",
    "            df = my_exp_analysis.load_df(m4, mz)\n",
    "            n_event_no_scan[-1].append(df['actual_weight', ''].sum())\n",
    "            sigma_n_event_no_scan[-1].append(np.sqrt((df['actual_weight', '']**2).sum()))\n",
    "n_event_no_scan = np.array(n_event_no_scan)\n",
    "sigma_n_event_no_scan = np.array(sigma_n_event_no_scan)"
   ]
  },
  {
   "cell_type": "code",
   "execution_count": 32,
   "metadata": {},
   "outputs": [
    {
     "name": "stderr",
     "output_type": "stream",
     "text": [
      "<ipython-input-32-caa42d5d97e5>:2: RuntimeWarning: invalid value encountered in true_divide\n",
      "  sigma_n_event_no_scan/n_event_no_scan\n"
     ]
    },
    {
     "data": {
      "text/plain": [
       "array([[       nan, 0.00340758, 0.00299765, 0.00295239],\n",
       "       [       nan,        nan, 0.0029695 , 0.00292222],\n",
       "       [       nan,        nan, 0.00285381, 0.00277135]])"
      ]
     },
     "execution_count": 32,
     "metadata": {},
     "output_type": "execute_result"
    }
   ],
   "source": [
    "# uncertaintis on n_event_no_scan\n",
    "sigma_n_event_no_scan/n_event_no_scan"
   ]
  },
  {
   "cell_type": "code",
   "execution_count": 19,
   "metadata": {},
   "outputs": [],
   "source": [
    "# compute n_events on a grid using the KDE\n",
    "smoothing_pars = [0.005, 0.05]\n",
    "\n",
    "m4_span = physics_parameters[case]['m4_scan']\n",
    "mz_span = np.linspace(*physics_parameters[case]['mz_limits'], 18)\n",
    "grid_to_eval = np.stack(np.meshgrid(m4_span, mz_span, indexing='ij'), axis=-1)\n",
    "m4_values = my_exp_analysis.df_base['m4', '']\n",
    "mz_values = my_exp_analysis.df_base['mzprime', '']\n",
    "df_values = np.stack([m4_values, mz_values], axis=-1)\n",
    "\n",
    "this_kde_weights = exp_analysis.kde_Nd_weights(grid_to_eval, df_values, smoothing=smoothing_pars, kernel='epa')\n",
    "actual_weight = my_exp_analysis.df_base['actual_weight', ''].values\n",
    "final_weights = this_kde_weights * actual_weight[:, np.newaxis, np.newaxis]\n",
    "n_event_grid = np.sum(final_weights, axis=0)\n",
    "n_event_std_grid = np.sqrt(np.sum(final_weights**2, axis=0))\n",
    "\n",
    "bin_width_m4 = 0.01\n",
    "bins_mz = 20\n",
    "bin_range_mz = [0, 10]\n",
    "bin_size = (bin_range_mz[1] - bin_range_mz[0])/bins_mz * bin_width_m4"
   ]
  },
  {
   "cell_type": "code",
   "execution_count": 20,
   "metadata": {},
   "outputs": [],
   "source": [
    "# ctau = 25\n",
    "# for mask in ['trivial', 'selected', f'decay_in_tpc_{ctau}', f'total_selected_{ctau}']:\n",
    "for i, m4 in enumerate(physics_parameters[case]['m4_scan']):\n",
    "    plt.plot(physics_parameters[case]['mz_scan'], n_event_no_scan[i], 'o', label='Generated without scanning')\n",
    "    n_event_est = n_event_grid[i]\n",
    "    n_event_std = n_event_std_grid[i]\n",
    "    plt.plot(mz_span, n_event_est, label=f'kde 2d, $k_{{m_4}}$={smoothing_pars[0]:.2g}, $k_{{m_Z}}$={smoothing_pars[1]:.2g}')\n",
    "    plt.fill_between(mz_span, n_event_est-n_event_std, n_event_est+n_event_std, alpha=0.25, color=plt.gca().lines[-1].get_color(), interpolate=True)\n",
    "\n",
    "    this_mask = (m4_values > (m4-bin_width_m4/2)) & (m4_values < (m4+bin_width_m4/2))        \n",
    "\n",
    "    out = plt.hist(mz_values[this_mask], bins=bins_mz, range=bin_range_mz,\n",
    "                weights=actual_weight[this_mask]/bin_size,\n",
    "                histtype='step', label='histogram')\n",
    "\n",
    "    plt.legend(frameon=False, loc='upper right')\n",
    "    plt.xlabel(r\"$M_Z'$ [GeV]\")\n",
    "    plt.ylabel('Expected number of entries')\n",
    "    plt.yscale('log')\n",
    "    # plt.ylim(0, 1e-7)\n",
    "    # plt.xlim(bin_range)\n",
    "    plt.title(f'N random = {my_exp_analysis.n_evt}\\n{case} mediator, $m_4$ = {m4} GeV')\n",
    "    plt.tight_layout()\n",
    "    plt.savefig(save_folder+f'nevt_{my_exp_analysis.n_evt}_m4_{m4}.png', dpi=250)\n",
    "    plt.close()"
   ]
  },
  {
   "cell_type": "markdown",
   "metadata": {},
   "source": [
    "# The 2d plot"
   ]
  },
  {
   "cell_type": "code",
   "execution_count": 26,
   "metadata": {},
   "outputs": [],
   "source": [
    "n_event_kde = []\n",
    "sigma_n_event_kde = []\n",
    "smoothing_pars = [0.005, 0.05]\n",
    "\n",
    "for i, m4 in enumerate(physics_parameters[case]['m4_scan']):\n",
    "    n_event_kde.append([])\n",
    "    sigma_n_event_kde.append([])\n",
    "    for j, mz in enumerate(physics_parameters[case]['mz_scan']):\n",
    "        if ((case == 'heavy') and (m4 >= mz)) or ((case == 'light') and (m4 <= mz)):\n",
    "                n_event_kde[-1].append(0)\n",
    "                sigma_n_event_kde[-1].append(0)\n",
    "                continue\n",
    "        aux_kde = exp_analysis.kde_Nd_weights(np.array([m4, mz]), df_values, smoothing=smoothing_pars, kernel='epa')\n",
    "        n_event_kde[-1].append((aux_kde*actual_weight).sum())\n",
    "        sigma_n_event_kde[-1].append(np.sqrt(((aux_kde*actual_weight)**2).sum()))\n",
    "\n",
    "n_event_kde = np.array(n_event_kde)"
   ]
  },
  {
   "cell_type": "code",
   "execution_count": 39,
   "metadata": {},
   "outputs": [
    {
     "name": "stderr",
     "output_type": "stream",
     "text": [
      "<ipython-input-39-036ccd734eb1>:12: RuntimeWarning: invalid value encountered in true_divide\n",
      "  ratio_n_event = n_event_kde/n_event_no_scan\n",
      "<ipython-input-39-036ccd734eb1>:13: RuntimeWarning: invalid value encountered in true_divide\n",
      "  sigma_ratio_n_event = sigma_n_event_kde/n_event_no_scan\n"
     ]
    },
    {
     "data": {
      "image/png": "[encoded data removed]",
      "text/plain": [
       "<Figure size 432x504 with 2 Axes>"
      ]
     },
     "metadata": {
      "needs_background": "light"
     },
     "output_type": "display_data"
    }
   ],
   "source": [
    "from matplotlib import colors\n",
    "\n",
    "xlabel = r'$m_4$ [GeV]'\n",
    "ylabel = r'$m_Z$ [GeV]'\n",
    "\n",
    "xcenters = physics_parameters[case]['m4_scan']\n",
    "ycenters = physics_parameters[case]['mz_scan']\n",
    "fig = plt.figure(figsize=(6, 7))\n",
    "fig.suptitle('Ratio between estimate and generated without scanning')\n",
    "\n",
    "plt.subplot(111)\n",
    "ratio_n_event = n_event_kde/n_event_no_scan\n",
    "sigma_ratio_n_event = sigma_n_event_kde/n_event_no_scan\n",
    "divnorm = colors.TwoSlopeNorm(vcenter=1, vmin=0, vmax=2)\n",
    "plt.pcolormesh(ratio_n_event.T, cmap='BrBG', norm=divnorm)\n",
    "plt.xticks(ticks=np.arange(0.5, len(xcenters)),\n",
    "           labels=xcenters)\n",
    "plt.yticks(ticks=np.arange(0.5, len(ycenters)),\n",
    "           labels=ycenters)\n",
    "for i in range(len(xcenters)):\n",
    "    for j in range(len(ycenters)):\n",
    "        this_value = ratio_n_event[i,j]\n",
    "        if np.isnan(this_value):\n",
    "            continue\n",
    "        text = plt.text(i + 0.5, j + 0.5, f\"{ratio_n_event[i,j]:.3g}\\n$\\pm${sigma_ratio_n_event[i,j]:.2g}\",\n",
    "                        ha=\"center\", va=\"center\", color=\"k\")\n",
    "plt.xlabel(xlabel)\n",
    "plt.ylabel(ylabel)\n",
    "plt.title('N events: KDE/Generated')\n",
    "plt.colorbar()\n",
    "plt.savefig(save_folder + 'ratio_between_estimates_of_n_events.png', dpi=250)"
   ]
  },
  {
   "cell_type": "code",
   "execution_count": null,
   "metadata": {},
   "outputs": [],
   "source": []
  }
 ],
 "metadata": {
  "kernelspec": {
   "display_name": "Python 3",
   "language": "python",
   "name": "python3"
  },
  "language_info": {
   "codemirror_mode": {
    "name": "ipython",
    "version": 3
   },
   "file_extension": ".py",
   "mimetype": "text/x-python",
   "name": "python",
   "nbconvert_exporter": "python",
   "pygments_lexer": "ipython3",
   "version": "3.9.2"
  }
 },
 "nbformat": 4,
 "nbformat_minor": 4
}
