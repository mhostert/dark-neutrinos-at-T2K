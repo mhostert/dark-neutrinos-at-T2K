{
 "cells": [
  {
   "cell_type": "markdown",
   "metadata": {},
   "source": [
    "# Compare Gamma and N event expected between formulas, generated without scanning, and KDE\n",
    "# It does not compare physics quantities (observables)"
   ]
  },
  {
   "cell_type": "code",
   "execution_count": 4,
   "metadata": {},
   "outputs": [
    {
     "name": "stdout",
     "output_type": "stream",
     "text": [
      "The autoreload extension is already loaded. To reload it, use:\n",
      "  %reload_ext autoreload\n",
      "The line_profiler extension is already loaded. To reload it, use:\n",
      "  %reload_ext line_profiler\n"
     ]
    }
   ],
   "source": [
    "%load_ext autoreload\n",
    "%autoreload 2\n",
    "%load_ext line_profiler"
   ]
  },
  {
   "cell_type": "code",
   "execution_count": 5,
   "metadata": {},
   "outputs": [],
   "source": [
    "import matplotlib.pyplot as plt\n",
    "import numpy as np\n",
    "import pandas as pd\n",
    "from parameters_dict import physics_parameters\n",
    "from dark_nus_utils import load_datasets\n",
    "from plot_utils import set_plot_title, annotated_2d_plot\n",
    "from exp_analysis_class import exp_analysis, gamma_general"
   ]
  },
  {
   "cell_type": "code",
   "execution_count": 9,
   "metadata": {},
   "outputs": [
    {
     "name": "stdout",
     "output_type": "stream",
     "text": [
      "/bin/bash: port_used: line 1: syntax error: unexpected end of file\n",
      "/bin/bash: error importing function definition for `BASH_FUNC_port_used'\n",
      "/bin/bash: wait_until_port_used: line 1: syntax error: unexpected end of file\n",
      "/bin/bash: error importing function definition for `BASH_FUNC_wait_until_port_used'\n",
      "/bin/bash: module: line 1: syntax error: unexpected end of file\n",
      "/bin/bash: error importing function definition for `BASH_FUNC_module'\n",
      "/bin/bash: find_port: line 1: syntax error: unexpected end of file\n",
      "/bin/bash: error importing function definition for `BASH_FUNC_find_port'\n",
      "/bin/bash: random_number: line 1: syntax error: unexpected end of file\n",
      "/bin/bash: error importing function definition for `BASH_FUNC_random_number'\n",
      "/bin/bash: helmod: line 1: syntax error: unexpected end of file\n",
      "/bin/bash: error importing function definition for `BASH_FUNC_helmod'\n",
      "/bin/bash: source_helpers: line 1: syntax error: unexpected end of file\n",
      "/bin/bash: error importing function definition for `BASH_FUNC_source_helpers'\n",
      "/bin/bash: ml: line 1: syntax error: unexpected end of file\n",
      "/bin/bash: error importing function definition for `BASH_FUNC_ml'\n",
      "/bin/bash: create_passwd: line 1: syntax error: unexpected end of file\n",
      "/bin/bash: error importing function definition for `BASH_FUNC_create_passwd'\n",
      "/bin/bash: port_used: line 1: syntax error: unexpected end of file\n",
      "/bin/bash: error importing function definition for `BASH_FUNC_port_used'\n",
      "/bin/bash: wait_until_port_used: line 1: syntax error: unexpected end of file\n",
      "/bin/bash: error importing function definition for `BASH_FUNC_wait_until_port_used'\n",
      "/bin/bash: module: line 1: syntax error: unexpected end of file\n",
      "/bin/bash: error importing function definition for `BASH_FUNC_module'\n",
      "/bin/bash: find_port: line 1: syntax error: unexpected end of file\n",
      "/bin/bash: error importing function definition for `BASH_FUNC_find_port'\n",
      "/bin/bash: random_number: line 1: syntax error: unexpected end of file\n",
      "/bin/bash: error importing function definition for `BASH_FUNC_random_number'\n",
      "/bin/bash: helmod: line 1: syntax error: unexpected end of file\n",
      "/bin/bash: error importing function definition for `BASH_FUNC_helmod'\n",
      "/bin/bash: source_helpers: line 1: syntax error: unexpected end of file\n",
      "/bin/bash: error importing function definition for `BASH_FUNC_source_helpers'\n",
      "/bin/bash: ml: line 1: syntax error: unexpected end of file\n",
      "/bin/bash: error importing function definition for `BASH_FUNC_ml'\n",
      "/bin/bash: create_passwd: line 1: syntax error: unexpected end of file\n",
      "/bin/bash: error importing function definition for `BASH_FUNC_create_passwd'\n"
     ]
    }
   ],
   "source": [
    "save_folder_lin = '../fig/2_comparison_parameters/lin/'\n",
    "save_folder_log = '../fig/2_comparison_parameters/log/'\n",
    "!mkdir -p $save_folder_lin\n",
    "!mkdir -p $save_folder_log"
   ]
  },
  {
   "cell_type": "markdown",
   "metadata": {},
   "source": [
    "## Use this to load the datasets in the usual way and dump them in pickle files"
   ]
  },
  {
   "cell_type": "code",
   "execution_count": 7,
   "metadata": {},
   "outputs": [
    {
     "name": "stdout",
     "output_type": "stream",
     "text": [
      "heavy dirac\n",
      "loading df base\n",
      "initialising df base\n",
      "loading df 0.01, 0.02\n",
      "initialising df 0.01, 0.02\n",
      "loading df 0.01, 0.2\n",
      "initialising df 0.01, 0.2\n",
      "loading df 0.01, 1\n",
      "initialising df 0.01, 1\n",
      "loading df 0.01, 5\n",
      "initialising df 0.01, 5\n",
      "loading df 0.1, 0.2\n",
      "initialising df 0.1, 0.2\n",
      "loading df 0.1, 1\n",
      "initialising df 0.1, 1\n",
      "loading df 0.1, 5\n",
      "initialising df 0.1, 5\n",
      "loading df 0.5, 1\n",
      "initialising df 0.5, 1\n",
      "loading df 0.5, 5\n",
      "initialising df 0.5, 5\n",
      "Wall time: 76.92443537712097 s, CPU time: 48.225652612\n",
      "heavy majorana\n",
      "loading df base\n",
      "initialising df base\n",
      "loading df 0.01, 0.02\n",
      "initialising df 0.01, 0.02\n",
      "loading df 0.01, 0.2\n",
      "initialising df 0.01, 0.2\n",
      "loading df 0.01, 1\n",
      "initialising df 0.01, 1\n",
      "loading df 0.01, 5\n",
      "initialising df 0.01, 5\n",
      "loading df 0.1, 0.2\n",
      "initialising df 0.1, 0.2\n",
      "loading df 0.1, 1\n",
      "initialising df 0.1, 1\n",
      "loading df 0.1, 5\n",
      "initialising df 0.1, 5\n",
      "loading df 0.5, 1\n",
      "initialising df 0.5, 1\n",
      "loading df 0.5, 5\n",
      "initialising df 0.5, 5\n",
      "Wall time: 73.42910861968994 s, CPU time: 47.802588021\n",
      "light dirac\n",
      "loading df base\n",
      "initialising df base\n",
      "loading df 0.01, 0.0075\n",
      "initialising df 0.01, 0.0075\n",
      "loading df 0.1, 0.0075\n",
      "initialising df 0.1, 0.0075\n",
      "loading df 0.1, 0.03\n",
      "initialising df 0.1, 0.03\n",
      "loading df 0.4, 0.0075\n",
      "initialising df 0.4, 0.0075\n",
      "loading df 0.4, 0.03\n",
      "initialising df 0.4, 0.03\n",
      "loading df 0.4, 0.1\n",
      "initialising df 0.4, 0.1\n",
      "loading df 0.8, 0.0075\n",
      "initialising df 0.8, 0.0075\n",
      "loading df 0.8, 0.03\n",
      "initialising df 0.8, 0.03\n",
      "loading df 0.8, 0.1\n",
      "initialising df 0.8, 0.1\n",
      "loading df 0.8, 0.4\n",
      "initialising df 0.8, 0.4\n",
      "Wall time: 85.58448576927185 s, CPU time: 54.498668550000005\n",
      "light majorana\n",
      "loading df base\n",
      "initialising df base\n",
      "loading df 0.01, 0.0075\n",
      "initialising df 0.01, 0.0075\n",
      "loading df 0.1, 0.0075\n",
      "initialising df 0.1, 0.0075\n",
      "loading df 0.1, 0.03\n",
      "initialising df 0.1, 0.03\n",
      "loading df 0.4, 0.0075\n",
      "initialising df 0.4, 0.0075\n",
      "loading df 0.4, 0.03\n",
      "initialising df 0.4, 0.03\n",
      "loading df 0.4, 0.1\n",
      "initialising df 0.4, 0.1\n",
      "loading df 0.8, 0.0075\n",
      "initialising df 0.8, 0.0075\n",
      "loading df 0.8, 0.03\n",
      "initialising df 0.8, 0.03\n",
      "loading df 0.8, 0.1\n",
      "initialising df 0.8, 0.1\n",
      "loading df 0.8, 0.4\n",
      "initialising df 0.8, 0.4\n",
      "Wall time: 84.06433939933777 s, CPU time: 53.29775652000001\n"
     ]
    }
   ],
   "source": [
    "my_exp_analyses = load_datasets(dump=True, timeit=True)"
   ]
  },
  {
   "cell_type": "markdown",
   "metadata": {},
   "source": [
    "## Use the function this way to load the datasets from the pickle files"
   ]
  },
  {
   "cell_type": "code",
   "execution_count": null,
   "metadata": {},
   "outputs": [],
   "source": [
    "my_exp_analyses = load_datasets(timeit=True, direct_load_objects=True)"
   ]
  },
  {
   "cell_type": "markdown",
   "metadata": {},
   "source": [
    "## Ratio of N events between KDE and generated with no scan on the benchmark grid, for different combinations of smoothing parameters"
   ]
  },
  {
   "cell_type": "code",
   "execution_count": 13,
   "metadata": {},
   "outputs": [
    {
     "name": "stdout",
     "output_type": "stream",
     "text": [
      "heavy dirac\n"
     ]
    },
    {
     "name": "stderr",
     "output_type": "stream",
     "text": [
      "<ipython-input-13-4bd9ec3846e9>:16: RuntimeWarning: invalid value encountered in true_divide\n",
      "  annotated_2d_plot(data=n_events_kde/n_events_grid_no_scan,\n",
      "<ipython-input-13-4bd9ec3846e9>:24: RuntimeWarning: invalid value encountered in true_divide\n",
      "  errors_to_annotate=n_events_kde_err/n_events_grid_no_scan\n"
     ]
    },
    {
     "name": "stdout",
     "output_type": "stream",
     "text": [
      "heavy majorana\n",
      "light dirac\n",
      "light majorana\n",
      "heavy dirac\n"
     ]
    },
    {
     "name": "stderr",
     "output_type": "stream",
     "text": [
      "<ipython-input-13-4bd9ec3846e9>:16: RuntimeWarning: invalid value encountered in true_divide\n",
      "  annotated_2d_plot(data=n_events_kde/n_events_grid_no_scan,\n",
      "<ipython-input-13-4bd9ec3846e9>:24: RuntimeWarning: invalid value encountered in true_divide\n",
      "  errors_to_annotate=n_events_kde_err/n_events_grid_no_scan\n"
     ]
    },
    {
     "name": "stdout",
     "output_type": "stream",
     "text": [
      "heavy majorana\n",
      "light dirac\n",
      "light majorana\n",
      "heavy dirac\n"
     ]
    },
    {
     "name": "stderr",
     "output_type": "stream",
     "text": [
      "<ipython-input-13-4bd9ec3846e9>:16: RuntimeWarning: invalid value encountered in true_divide\n",
      "  annotated_2d_plot(data=n_events_kde/n_events_grid_no_scan,\n",
      "<ipython-input-13-4bd9ec3846e9>:24: RuntimeWarning: invalid value encountered in true_divide\n",
      "  errors_to_annotate=n_events_kde_err/n_events_grid_no_scan\n"
     ]
    },
    {
     "name": "stdout",
     "output_type": "stream",
     "text": [
      "heavy majorana\n",
      "light dirac\n",
      "light majorana\n"
     ]
    }
   ],
   "source": [
    "#lin smoothing\n",
    "for smoothing in ([0.001, 0.01], [0.005, 0.05], [0.01, 0.1]):\n",
    "    fig, axes = plt.subplots(nrows=1, ncols=len(my_exp_analyses), figsize=(len(my_exp_analyses)*5, 5))\n",
    "    plt.suptitle(f'N events KDE / generated without scan - linear smoothing = {smoothing[0]} GeV, {smoothing[1]} GeV')\n",
    "    \n",
    "    if len(my_exp_analyses) == 1:\n",
    "        axes = [axes]\n",
    "    for my_exp_analysis, ax in zip(my_exp_analyses.values(), axes):\n",
    "        print(my_exp_analysis.hierarchy, my_exp_analysis.D_or_M)\n",
    "        n_events_grid_no_scan = my_exp_analysis.no_scan_benchmark_grid(lambda x: x['actual_weight'].sum())\n",
    "        n_events_and_err_kde = my_exp_analysis.kde_n_events_benchmark_grid(smoothing=smoothing, distance='lin')\n",
    "        n_events_kde = n_events_and_err_kde[..., 0]\n",
    "        n_events_kde_err = n_events_and_err_kde[..., 1]\n",
    "\n",
    "        plt.sca(ax)\n",
    "        annotated_2d_plot(data=n_events_kde/n_events_grid_no_scan,\n",
    "                          xcenters=my_exp_analysis.m4_scan,\n",
    "                          ycenters=my_exp_analysis.mz_scan,\n",
    "                          xlabel =r'$m_4$ [GeV]',\n",
    "                          ylabel=r'$m_Z$ [GeV]',\n",
    "                          vmin=0.5,\n",
    "                          vcenter=1,\n",
    "                          vmax=1.5,\n",
    "                          errors_to_annotate=n_events_kde_err/n_events_grid_no_scan\n",
    "                          )\n",
    "\n",
    "        set_plot_title(exp_analysis_obj=my_exp_analysis)\n",
    "    plt.colorbar()\n",
    "    save_string = f'{save_folder_lin}N_events_smoothing{smoothing[0]}_{smoothing[1]}'\n",
    "    plt.savefig(save_string + '.png', dpi=250, bbox_inches='tight')\n",
    "    plt.savefig(save_string + '.pdf', bbox_inches='tight')\n",
    "    plt.close()"
   ]
  },
  {
   "cell_type": "code",
   "execution_count": 14,
   "metadata": {},
   "outputs": [
    {
     "name": "stdout",
     "output_type": "stream",
     "text": [
      "heavy dirac\n"
     ]
    },
    {
     "name": "stderr",
     "output_type": "stream",
     "text": [
      "<ipython-input-14-b65495410f15>:16: RuntimeWarning: invalid value encountered in true_divide\n",
      "  annotated_2d_plot(data=n_events_kde/n_events_grid_no_scan,\n",
      "<ipython-input-14-b65495410f15>:24: RuntimeWarning: invalid value encountered in true_divide\n",
      "  errors_to_annotate=n_events_kde_err/n_events_grid_no_scan\n"
     ]
    },
    {
     "name": "stdout",
     "output_type": "stream",
     "text": [
      "heavy majorana\n",
      "light dirac\n",
      "light majorana\n",
      "heavy dirac\n"
     ]
    },
    {
     "name": "stderr",
     "output_type": "stream",
     "text": [
      "<ipython-input-14-b65495410f15>:16: RuntimeWarning: invalid value encountered in true_divide\n",
      "  annotated_2d_plot(data=n_events_kde/n_events_grid_no_scan,\n",
      "<ipython-input-14-b65495410f15>:24: RuntimeWarning: invalid value encountered in true_divide\n",
      "  errors_to_annotate=n_events_kde_err/n_events_grid_no_scan\n"
     ]
    },
    {
     "name": "stdout",
     "output_type": "stream",
     "text": [
      "heavy majorana\n",
      "light dirac\n",
      "light majorana\n",
      "heavy dirac\n"
     ]
    },
    {
     "name": "stderr",
     "output_type": "stream",
     "text": [
      "<ipython-input-14-b65495410f15>:16: RuntimeWarning: invalid value encountered in true_divide\n",
      "  annotated_2d_plot(data=n_events_kde/n_events_grid_no_scan,\n",
      "<ipython-input-14-b65495410f15>:24: RuntimeWarning: invalid value encountered in true_divide\n",
      "  errors_to_annotate=n_events_kde_err/n_events_grid_no_scan\n"
     ]
    },
    {
     "name": "stdout",
     "output_type": "stream",
     "text": [
      "heavy majorana\n",
      "light dirac\n",
      "light majorana\n",
      "heavy dirac\n"
     ]
    },
    {
     "name": "stderr",
     "output_type": "stream",
     "text": [
      "<ipython-input-14-b65495410f15>:16: RuntimeWarning: invalid value encountered in true_divide\n",
      "  annotated_2d_plot(data=n_events_kde/n_events_grid_no_scan,\n",
      "<ipython-input-14-b65495410f15>:24: RuntimeWarning: invalid value encountered in true_divide\n",
      "  errors_to_annotate=n_events_kde_err/n_events_grid_no_scan\n"
     ]
    },
    {
     "name": "stdout",
     "output_type": "stream",
     "text": [
      "heavy majorana\n",
      "light dirac\n",
      "light majorana\n"
     ]
    }
   ],
   "source": [
    "#log smoothing\n",
    "for smoothing in ([0.01, 0.01], [0.05, 0.05], [0.1, 0.1], [0.5, 0.5]):\n",
    "    fig, axes = plt.subplots(nrows=1, ncols=len(my_exp_analyses), figsize=(len(my_exp_analyses)*5, 5))\n",
    "    plt.suptitle(f'N events KDE / generated without scan - log smoothing = {smoothing[0]}, {smoothing[1]}')\n",
    "    \n",
    "    if len(my_exp_analyses) == 1:\n",
    "        axes = [axes]\n",
    "    for my_exp_analysis, ax in zip(my_exp_analyses.values(), axes):\n",
    "        print(my_exp_analysis.hierarchy, my_exp_analysis.D_or_M)\n",
    "        n_events_grid_no_scan = my_exp_analysis.no_scan_benchmark_grid(lambda x: x['actual_weight'].sum())\n",
    "        n_events_and_err_kde = my_exp_analysis.kde_n_events_benchmark_grid(smoothing=smoothing, distance='log')\n",
    "        n_events_kde = n_events_and_err_kde[..., 0]\n",
    "        n_events_kde_err = n_events_and_err_kde[..., 1]\n",
    "\n",
    "        plt.sca(ax)\n",
    "        annotated_2d_plot(data=n_events_kde/n_events_grid_no_scan,\n",
    "                          xcenters=my_exp_analysis.m4_scan,\n",
    "                          ycenters=my_exp_analysis.mz_scan,\n",
    "                          xlabel =r'$m_4$ [GeV]',\n",
    "                          ylabel=r'$m_Z$ [GeV]',\n",
    "                          vmin=0.5,\n",
    "                          vcenter=1,\n",
    "                          vmax=1.5,\n",
    "                          errors_to_annotate=n_events_kde_err/n_events_grid_no_scan\n",
    "                          )\n",
    "\n",
    "        set_plot_title(exp_analysis_obj=my_exp_analysis, smoothing_pars=smoothing)\n",
    "    plt.colorbar()\n",
    "    save_string = f'{save_folder_log}N_events_smoothing{smoothing[0]}_{smoothing[1]}'\n",
    "    plt.savefig(save_string + '.png', dpi=250, bbox_inches='tight')\n",
    "    plt.savefig(save_string + '.pdf', bbox_inches='tight')\n",
    "    plt.close()"
   ]
  },
  {
   "cell_type": "markdown",
   "metadata": {},
   "source": [
    "## N event profile, fixing KDE smoothing, in slices at fixed m4"
   ]
  },
  {
   "cell_type": "code",
   "execution_count": 11,
   "metadata": {},
   "outputs": [],
   "source": [
    "bin_width_m4 = 0.005\n",
    "bins_mz = 20"
   ]
  },
  {
   "cell_type": "code",
   "execution_count": null,
   "metadata": {},
   "outputs": [],
   "source": [
    "#log \n",
    "general_smoothing = [0.1, 0.1]\n",
    "for my_exp_analysis in my_exp_analyses.values():\n",
    "    print(my_exp_analysis.hierarchy, my_exp_analysis.D_or_M)\n",
    "    n_events_no_scan = my_exp_analysis.no_scan_benchmark_grid(lambda x: x['actual_weight'].sum())\n",
    "    this_mz_scan = np.asarray(my_exp_analysis.mz_scan)\n",
    "    \n",
    "    fig, axes = plt.subplots(nrows=1, ncols=len(my_exp_analysis.m4_scan), figsize=(len(my_exp_analysis.m4_scan)*6, 5))\n",
    "    set_plot_title(exp_analysis_obj=my_exp_analysis, smoothing_pars=general_smoothing, suptitle=True)\n",
    "    for i, (m4, ax) in enumerate(zip(my_exp_analysis.m4_scan, axes)):\n",
    "        if my_exp_analysis.hierarchy == 'heavy':\n",
    "            mz_edges = np.linspace(m4, my_exp_analysis.mz_limits[1], bins_mz+1)\n",
    "        else:\n",
    "            mz_edges = np.linspace(my_exp_analysis.mz_limits[0], m4, bins_mz+1)\n",
    "        bin_size_2d = (mz_edges[1] - mz_edges[0]) * bin_width_m4\n",
    "\n",
    "        kde_weights = my_exp_analysis.kde_on_a_grid(m4, \n",
    "                                                    mz_edges, \n",
    "                                                    distance='log',\n",
    "                                                    smoothing=general_smoothing)\n",
    "\n",
    "        n_events_kde = kde_weights.sum(axis=0)[0]\n",
    "        n_events_err_kde = np.sqrt((kde_weights**2).sum(axis=0))[0]\n",
    "        non_zero_mask = (n_events_no_scan[i] != 0)\n",
    "        ax.plot(this_mz_scan[non_zero_mask],\n",
    "                 n_events_no_scan[i][non_zero_mask],\n",
    "                 'o',\n",
    "                 label='Generated without scanning')\n",
    "        \n",
    "        ax.plot(mz_edges,\n",
    "                 n_events_kde,\n",
    "                 label=f'kde 2d')\n",
    "                 \n",
    "        ax.fill_between(mz_edges, \n",
    "                         n_events_kde - n_events_err_kde, \n",
    "                         n_events_kde + n_events_err_kde, \n",
    "                         alpha=0.25, \n",
    "                         color=ax.lines[-1].get_color(), \n",
    "                         interpolate=True)\n",
    "\n",
    "        this_mask = (my_exp_analysis.m4_values > (m4-bin_width_m4/2)) & (my_exp_analysis.m4_values < (m4+bin_width_m4/2))        \n",
    "        ax.hist(my_exp_analysis.mz_values[this_mask], bins=mz_edges,\n",
    "                    weights=my_exp_analysis.actual_weight_values[this_mask]/bin_size_2d,\n",
    "                    histtype='step', label='histogram')\n",
    "\n",
    "        ax.legend(frameon=False, loc='upper right')\n",
    "        ax.set_xlabel(r\"$M_Z'$ [GeV]\")\n",
    "        ax.set_ylabel('Expected number of entries')\n",
    "        ax.set_yscale('log')\n",
    "        ax.set_title(f'm4 = {m4} GeV')\n",
    "    save_string = f'{save_folder}N_events_profile_{my_exp_analysis.hierarchy}_{my_exp_analysis.D_or_M}'\n",
    "    plt.savefig(save_string + '.png', dpi=250, bbox_inches='tight')\n",
    "    plt.savefig(save_string + '.pdf', bbox_inches='tight')\n",
    "    plt.close()"
   ]
  },
  {
   "cell_type": "markdown",
   "metadata": {},
   "source": [
    "## Effective sample size"
   ]
  },
  {
   "cell_type": "code",
   "execution_count": null,
   "metadata": {},
   "outputs": [],
   "source": [
    "from scipy.stats import binned_statistic, binned_statistic_2d\n",
    "from matplotlib.colors import LogNorm\n",
    "\n",
    "def effective_sample_size(weights):\n",
    "    return np.sum(weights)**2/np.sum(np.power(weights, 2))\n",
    "\n",
    "def ratio_weighted_unweighted(weights):\n",
    "    return np.sum(weights)/len(weights)\n",
    "\n",
    "def ess_1d_plots(my_exp_analysis, bins=50):\n",
    "    fig, axes = plt.subplots(nrows=2, ncols=3, figsize=(15, 10))\n",
    "    weight_values = my_exp_analysis.df_base['weight']\n",
    "    plt.suptitle(f\"{my_exp_analysis.hierarchy} {my_exp_analysis.D_or_M}\")\n",
    "    \n",
    "    for var, label, ax in zip(['m4', 'mzprime'], [r'$m_4$ [GeV]', r'$m_Z$ [GeV]'], axes):\n",
    "        var_values = my_exp_analysis.df_base[var]\n",
    "        ax[0].hist(var_values, \n",
    "             density=True, \n",
    "             label='unweighted',\n",
    "             histtype='step',\n",
    "             bins=bins)\n",
    "        ax[0].hist(var_values, \n",
    "                 weights=weight_values, \n",
    "                 density=True, \n",
    "                 label='weighted',\n",
    "                 histtype='step',\n",
    "                 bins=bins)\n",
    "        ax[0].legend(frameon=False, loc='upper left')\n",
    "        ax[0].set_title('Number of events')\n",
    "        ax[0].set_xlabel(label)\n",
    "        ax[0].set_yscale('log')\n",
    "        ax[0].set_xscale('log')\n",
    "        \n",
    "        this_ess = binned_statistic(var_values, weight_values, \n",
    "                     statistic=effective_sample_size,\n",
    "                     bins=bins)\n",
    "        bin_centers = (this_ess[1][:-1] + this_ess[1][1:])/2\n",
    "        ax[1].plot(bin_centers, this_ess[0])\n",
    "        ax[1].set_xlabel(label)\n",
    "        ax[1].set_title(f'effective sample size\\noverall ESS = {effective_sample_size(weight_values):.2g}')\n",
    "        ax[1].set_ylabel('effective sample size')\n",
    "        \n",
    "        this_ratio_wei_unwei = binned_statistic(var_values, weight_values,\n",
    "                         statistic=ratio_weighted_unweighted,\n",
    "                         bins=bins)\n",
    "        bin_centers = (this_ratio_wei_unwei[1][:-1] + this_ratio_wei_unwei[1][1:])/2\n",
    "        ax[2].plot(bin_centers, this_ratio_wei_unwei[0]*len(weight_values)/weight_values.sum())\n",
    "        ax[2].set_xlabel(label)\n",
    "        ax[2].set_ylabel('weighed/unweighed')\n",
    "        ax[2].set_title('ratio weighed/unweighed')\n",
    "    save_string = f'{save_folder}ess1d_{my_exp_analysis.hierarchy}_{my_exp_analysis.D_or_M}'\n",
    "    plt.savefig(save_string + '.png', dpi=250, bbox_inches='tight')    \n",
    "    plt.savefig(save_string + '.pdf', bbox_inches='tight')\n",
    "    plt.close()\n",
    "    \n",
    "def ess_2d_plots(my_exp_analysis, this_bins=[40, 40], xlabel=r'$m_4$ [GeV]', ylabel=r'$m_Z$ [GeV]'):\n",
    "    m4_values = my_exp_analysis.m4_values\n",
    "    mz_values = my_exp_analysis.mz_values\n",
    "    weight_values = my_exp_analysis.df_base['weight']\n",
    "    fig, axes = plt.subplots(nrows=1, ncols=2, figsize=(10, 5))\n",
    "    plt.suptitle(f\"{my_exp_analysis.hierarchy} {my_exp_analysis.D_or_M}\")\n",
    "    \n",
    "    this_ess = binned_statistic_2d(m4_values, mz_values, weight_values, \n",
    "                     statistic=effective_sample_size,\n",
    "                     bins=this_bins)\n",
    "    PCM = axes[0].pcolormesh(this_ess[1], this_ess[2], this_ess[0].T)\n",
    "    plt.colorbar(PCM, ax=axes[0])\n",
    "    axes[0].set_title('Effective sample size')\n",
    "    axes[0].set_xlabel(xlabel)\n",
    "    axes[0].set_ylabel(ylabel)\n",
    "\n",
    "    this_ratio_wei_unwei = binned_statistic_2d(m4_values, mz_values, weight_values, \n",
    "                     statistic=ratio_weighted_unweighted,\n",
    "                     bins=this_bins)\n",
    "    PCM = axes[1].pcolormesh(this_ratio_wei_unwei[1], \n",
    "                       this_ratio_wei_unwei[2], \n",
    "                       this_ratio_wei_unwei[0].T*len(weight_values)/weight_values.sum(), \n",
    "                       norm=LogNorm())\n",
    "    plt.colorbar(PCM, ax=axes[1])\n",
    "    axes[1].set_title('ratio weighed/unweighed')\n",
    "    axes[1].set_xlabel(xlabel)\n",
    "    axes[1].set_ylabel(ylabel)\n",
    "\n",
    "    plt.tight_layout()\n",
    "    save_string = f'{save_folder}ess2d_{my_exp_analysis.hierarchy}_{my_exp_analysis.D_or_M}'\n",
    "    plt.savefig(save_string + '.png', dpi=250, bbox_inches='tight')    \n",
    "    plt.savefig(save_string + '.pdf', bbox_inches='tight')\n",
    "    plt.close()"
   ]
  },
  {
   "cell_type": "code",
   "execution_count": null,
   "metadata": {},
   "outputs": [],
   "source": [
    "for my_exp_analysis in my_exp_analyses.values():\n",
    "    print(my_exp_analysis.hierarchy, my_exp_analysis.D_or_M)\n",
    "    ess_1d_plots(my_exp_analysis)\n",
    "    ess_2d_plots(my_exp_analysis)"
   ]
  },
  {
   "cell_type": "markdown",
   "metadata": {},
   "source": [
    "## Ratio of $\\Gamma$ between KDE and generated with no scan on the benchmark grid - deprecated since we are using the formula in both KDE and generated without scanning, but in principle, if we were to integrate the $\\Gamma$ with VEGAS, it would be a good check"
   ]
  },
  {
   "cell_type": "code",
   "execution_count": null,
   "metadata": {},
   "outputs": [],
   "source": [
    "fig, axes = plt.subplots(nrows=1, ncols=len(my_exp_analyses), figsize=(len(my_exp_analyses)*5, 5))\n",
    "plt.suptitle(r'$\\Gamma$ Formula / generated without scan')\n",
    "\n",
    "for my_exp_analysis, ax in zip(my_exp_analyses.values(), axes):\n",
    "    print(my_exp_analysis.hierarchy, my_exp_analysis.D_or_M)\n",
    "    gamma_grid_no_scan = my_exp_analysis.no_scan_benchmark_grid(lambda x: x['total_decay_rate'][0])\n",
    "    gamma_formula = my_exp_analysis.no_scan_benchmark_grid(lambda x: gamma_general(x['m4'][0], x['mzprime'][0], my_exp_analysis.Vmu4_alpha_epsilon2, my_exp_analysis.D_or_M))\n",
    "    \n",
    "    plt.sca(ax)\n",
    "    annotated_2d_plot(data=gamma_formula/gamma_grid_no_scan,\n",
    "                      xcenters=my_exp_analysis.m4_scan,\n",
    "                      ycenters=my_exp_analysis.mz_scan,\n",
    "                      xlabel =r'$m_4$ [GeV]',\n",
    "                      ylabel=r'$m_Z$ [GeV]',\n",
    "                      vmin=0.5,\n",
    "                      vmax=1.5,\n",
    "                      )\n",
    "    \n",
    "    set_plot_title(exp_analysis_obj=my_exp_analysis)\n",
    "\n",
    "plt.colorbar()\n",
    "plt.savefig('../fig/2_comparison_parameters/Gamma.pdf', bbox_inches='tight')"
   ]
  }
 ],
 "metadata": {
  "kernelspec": {
   "display_name": "Python [conda env:.conda-dark_nus]",
   "language": "python",
   "name": "conda-env-.conda-dark_nus-py"
  },
  "language_info": {
   "codemirror_mode": {
    "name": "ipython",
    "version": 3
   },
   "file_extension": ".py",
   "mimetype": "text/x-python",
   "name": "python",
   "nbconvert_exporter": "python",
   "pygments_lexer": "ipython3",
   "version": "3.8.8"
  }
 },
 "nbformat": 4,
 "nbformat_minor": 4
}
