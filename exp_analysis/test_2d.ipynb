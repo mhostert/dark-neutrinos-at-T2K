{
 "cells": [
  {
   "cell_type": "code",
   "execution_count": 12,
   "metadata": {},
   "outputs": [
    {
     "name": "stdout",
     "output_type": "stream",
     "text": [
      "The autoreload extension is already loaded. To reload it, use:\n",
      "  %reload_ext autoreload\n"
     ]
    }
   ],
   "source": [
    "%load_ext autoreload\n",
    "%autoreload 2"
   ]
  },
  {
   "cell_type": "code",
   "execution_count": 13,
   "metadata": {},
   "outputs": [],
   "source": [
    "import matplotlib.pyplot as plt\n",
    "import numpy as np\n",
    "import pandas as pd\n",
    "\n",
    "import ipywidgets as widgets\n",
    "\n",
    "from parameters_dict import physics_parameters\n",
    "from exp_analysis_class import exp_analysis\n",
    "from exp_analysis import gamma_heavy, gamma_heavy_integrated"
   ]
  },
  {
   "cell_type": "code",
   "execution_count": 14,
   "metadata": {},
   "outputs": [
    {
     "data": {
      "text/plain": [
       "{'m4_limits': (0.005, 1),\n",
       " 'mz_limits': (0.005, 10),\n",
       " 'm4_scan': [0.01, 0.1, 0.5],\n",
       " 'mz_scan': [0.01, 0.1, 1, 5],\n",
       " 'alpha_dark': 0.4,\n",
       " 'Umu4': 2.2e-07,\n",
       " 'epsilon2': 0.00046,\n",
       " 'alpha_em': 0.0072992700729927005,\n",
       " 'span_2d': 9.945025,\n",
       " 'Vmu4_alpha_epsilon2': 2.9547445255474454e-13}"
      ]
     },
     "execution_count": 14,
     "metadata": {},
     "output_type": "execute_result"
    }
   ],
   "source": [
    "physics_parameters['heavy']"
   ]
  },
  {
   "cell_type": "code",
   "execution_count": 15,
   "metadata": {},
   "outputs": [
    {
     "name": "stdout",
     "output_type": "stream",
     "text": [
      "/bin/bash: port_used: line 1: syntax error: unexpected end of file\n",
      "/bin/bash: error importing function definition for `BASH_FUNC_port_used'\n",
      "/bin/bash: wait_until_port_used: line 1: syntax error: unexpected end of file\n",
      "/bin/bash: error importing function definition for `BASH_FUNC_wait_until_port_used'\n",
      "/bin/bash: module: line 1: syntax error: unexpected end of file\n",
      "/bin/bash: error importing function definition for `BASH_FUNC_module'\n",
      "/bin/bash: find_port: line 1: syntax error: unexpected end of file\n",
      "/bin/bash: error importing function definition for `BASH_FUNC_find_port'\n",
      "/bin/bash: random_number: line 1: syntax error: unexpected end of file\n",
      "/bin/bash: error importing function definition for `BASH_FUNC_random_number'\n",
      "/bin/bash: helmod: line 1: syntax error: unexpected end of file\n",
      "/bin/bash: error importing function definition for `BASH_FUNC_helmod'\n",
      "/bin/bash: source_helpers: line 1: syntax error: unexpected end of file\n",
      "/bin/bash: error importing function definition for `BASH_FUNC_source_helpers'\n",
      "/bin/bash: ml: line 1: syntax error: unexpected end of file\n",
      "/bin/bash: error importing function definition for `BASH_FUNC_ml'\n",
      "/bin/bash: create_passwd: line 1: syntax error: unexpected end of file\n",
      "/bin/bash: error importing function definition for `BASH_FUNC_create_passwd'\n"
     ]
    }
   ],
   "source": [
    "case = 'heavy'\n",
    "save_folder = ('../fig/control_checks/comparison_with_truth/' + case + '/')\n",
    "!mkdir -p $save_folder\n",
    "my_exp_analysis = exp_analysis(case)\n",
    "# I am using less events\n",
    "my_exp_analysis.load_df_base(1000000)"
   ]
  },
  {
   "cell_type": "code",
   "execution_count": 16,
   "metadata": {},
   "outputs": [],
   "source": [
    "def output_distrib(exp_analysis_obj, binning_in, bins, hist_range, range_other_variable, type_of_truth, material='lead'):  \n",
    "    material_mask = my_exp_analysis.df_base[material, '']\n",
    "    values_hist = my_exp_analysis.df_base[binning_in, ''].values\n",
    "    hist_mask = (values_hist > hist_range[0]) &\\\n",
    "                (values_hist < hist_range[1])\n",
    "    if binning_in == 'm4':\n",
    "        other_variable = 'mzprime'\n",
    "    elif binning_in == 'mzprime':\n",
    "        other_variable = 'm4'\n",
    "    other_variable_mask = (my_exp_analysis.df_base[other_variable, ''].values > range_other_variable[0]) &\\\n",
    "                          (my_exp_analysis.df_base[other_variable, ''].values < range_other_variable[1])\n",
    "    weights = my_exp_analysis.df_base['weight_decay', ''].values\n",
    "    \n",
    "    total_mask = material_mask & hist_mask & other_variable_mask\n",
    "    \n",
    "    bin_size = (hist_range[1] - hist_range[0])/bins * (range_other_variable[1] - range_other_variable[0])\n",
    "    \n",
    "    print(f'histogram_entries = {total_mask.sum()}')\n",
    "    print(f'Total integral from vegas = {weights[total_mask].sum()}')\n",
    "    \n",
    "    bin_edges = np.linspace(*hist_range, bins+1)\n",
    "    plt.hist(values_hist[total_mask],\n",
    "             bins=bin_edges,\n",
    "             weights=weights[total_mask]/bin_size,\n",
    "             histtype='step',\n",
    "             label=f'{range_other_variable[0]:.2g} < {other_variable} < {range_other_variable[1]:.2g}')\n",
    "    plt.xlabel(binning_in)\n",
    "    plt.ylabel('Decay rate [GeV]')\n",
    "    \n",
    "    bin_centers = (bin_edges[1:] + bin_edges[:-1])/2\n",
    "    if type_of_truth == 'function':\n",
    "        mid_other_variable = (range_other_variable[1] + range_other_variable[0])/2\n",
    "        if binning_in == 'm4':\n",
    "            aux_truth = gamma_heavy(bin_centers, mid_other_variable, physics_parameters[case]['Vmu4_alpha_epsilon2'])\n",
    "        elif binning_in == 'mzprime':\n",
    "            aux_truth = gamma_heavy(mid_other_variable, bin_centers, physics_parameters[case]['Vmu4_alpha_epsilon2'])\n",
    "    elif type_of_truth == 'average':\n",
    "        aux_truth = []\n",
    "        for aux_bin_edges in zip(bin_edges[1:], bin_edges[:-1]):\n",
    "            if binning_in == 'm4':\n",
    "                aux_truth.append(gamma_heavy_integrated(aux_bin_edges, range_other_variable, physics_parameters[case]['Vmu4_alpha_epsilon2']))\n",
    "            elif binning_in == 'mzprime':\n",
    "                aux_truth.append(gamma_heavy_integrated(range_other_variable, aux_bin_edges, physics_parameters[case]['Vmu4_alpha_epsilon2']))\n",
    "    plt.plot(bin_centers,\n",
    "            aux_truth,\n",
    "            '.',\n",
    "            label=f'truth {type_of_truth}')\n",
    "    plt.yscale('log')\n",
    "    plt.legend(loc='best', frameon=False)\n",
    "    plt.title(f'material = {material}')"
   ]
  },
  {
   "cell_type": "code",
   "execution_count": 20,
   "metadata": {},
   "outputs": [
    {
     "name": "stdout",
     "output_type": "stream",
     "text": [
      "histogram_entries = 586339\n",
      "Total integral from vegas = 5.197656744597961e-16\n"
     ]
    },
    {
     "data": {
      "image/png": "[encoded data removed]",
      "text/plain": [
       "<Figure size 432x288 with 1 Axes>"
      ]
     },
     "metadata": {
      "needs_background": "light"
     },
     "output_type": "display_data"
    }
   ],
   "source": [
    "# normal call\n",
    "output_distrib(exp_analysis_obj=my_exp_analysis, \n",
    "               binning_in='mzprime', #m4 or mzprime\n",
    "               bins=18, \n",
    "               hist_range=[1, 10], \n",
    "               range_other_variable=[0.005, 1], \n",
    "               type_of_truth='average', #average or function\n",
    "               material='lead')"
   ]
  },
  {
   "cell_type": "code",
   "execution_count": 21,
   "metadata": {},
   "outputs": [
    {
     "name": "stdout",
     "output_type": "stream",
     "text": [
      "histogram_entries = 125036\n",
      "Total integral from vegas = 2.28485232291639e-19\n"
     ]
    },
    {
     "data": {
      "image/png": "[encoded data removed]",
      "text/plain": [
       "<Figure size 432x288 with 1 Axes>"
      ]
     },
     "metadata": {
      "needs_background": "light"
     },
     "output_type": "display_data"
    }
   ],
   "source": [
    "# normal call\n",
    "output_distrib(exp_analysis_obj=my_exp_analysis, \n",
    "               binning_in='m4', #m4 or mzprime\n",
    "               bins=18, \n",
    "               hist_range=[0.005, 1], \n",
    "               range_other_variable=[8, 10], \n",
    "               type_of_truth='average', #average or function\n",
    "               material='lead')"
   ]
  },
  {
   "cell_type": "markdown",
   "metadata": {},
   "source": [
    "# Slider"
   ]
  },
  {
   "cell_type": "code",
   "execution_count": 19,
   "metadata": {},
   "outputs": [
    {
     "name": "stdout",
     "output_type": "stream",
     "text": [
      "histogram_entries = 0\n",
      "Total integral from vegas = 0.0\n"
     ]
    },
    {
     "data": {
      "image/png": "[encoded data removed]",
      "text/plain": [
       "<Figure size 432x288 with 1 Axes>"
      ]
     },
     "metadata": {
      "needs_background": "light"
     },
     "output_type": "display_data"
    },
    {
     "data": {
      "text/plain": [
       "<function __main__.output_distrib(exp_analysis_obj, binning_in, bins, hist_range, range_other_variable, type_of_truth, material='lead')>"
      ]
     },
     "execution_count": 19,
     "metadata": {},
     "output_type": "execute_result"
    }
   ],
   "source": [
    "#with widgets, if it works for you\n",
    "widgets.interact(output_distrib,\n",
    "                 binning_in=widgets.RadioButtons(\n",
    "                options=['m4', 'mzprime'],\n",
    "                description='histogram in:',\n",
    "                disabled=False,\n",
    "            ),\n",
    "          bins=widgets.IntSlider(min=1,\n",
    "                                 max=50,\n",
    "                                 step=1,\n",
    "                                 value=10,\n",
    "                                 description='number of bins:',\n",
    "                                 continuous_update=False),\n",
    "          hist_range=widgets.FloatRangeSlider(\n",
    "                value=[4, 5],\n",
    "                min=0,\n",
    "                max=10.0,\n",
    "                step=0.1,\n",
    "                disabled=False,\n",
    "                continuous_update=False,\n",
    "                orientation='horizontal',\n",
    "                readout=True,\n",
    "                readout_format='.1f',\n",
    "                description='histogram range'\n",
    "            ),\n",
    "          range_other_variable=widgets.FloatRangeSlider(\n",
    "                value=[0.1, 1],\n",
    "                min=0,\n",
    "                max=10.0,\n",
    "                step=0.01,\n",
    "                disabled=False,\n",
    "                continuous_update=False,\n",
    "                orientation='horizontal',\n",
    "                readout=True,\n",
    "                readout_format='.1f',\n",
    "                description='range other variable'\n",
    "            ),\n",
    "          material=widgets.RadioButtons(\n",
    "                options=['hydrogen', 'oxygen', 'zinc', 'copper', 'iron', 'lead'],\n",
    "                description='material:',\n",
    "                disabled=False,\n",
    "            ),\n",
    "          type_of_truth=widgets.RadioButtons(\n",
    "                options=['function', 'average'],\n",
    "                description='truth plot:',\n",
    "                disabled=False,\n",
    "            ),\n",
    "          exp_analysis_obj=widgets.fixed(my_exp_analysis))"
   ]
  },
  {
   "cell_type": "code",
   "execution_count": null,
   "metadata": {},
   "outputs": [],
   "source": []
  }
 ],
 "metadata": {
  "kernelspec": {
   "display_name": "Python [conda env:dark_nus]",
   "language": "python",
   "name": "conda-env-dark_nus-py"
  },
  "language_info": {
   "codemirror_mode": {
    "name": "ipython",
    "version": 3
   },
   "file_extension": ".py",
   "mimetype": "text/x-python",
   "name": "python",
   "nbconvert_exporter": "python",
   "pygments_lexer": "ipython3",
   "version": "3.9.1"
  }
 },
 "nbformat": 4,
 "nbformat_minor": 4
}
