{
 "cells": [
  {
   "cell_type": "markdown",
   "metadata": {},
   "source": [
    "# Likelihood contourf with the FGD with the light minimal model"
   ]
  },
  {
   "cell_type": "code",
   "execution_count": 1,
   "metadata": {},
   "outputs": [],
   "source": [
    "%load_ext autoreload\n",
    "%autoreload 2"
   ]
  },
  {
   "cell_type": "code",
   "execution_count": 2,
   "metadata": {},
   "outputs": [],
   "source": [
    "import numpy as np\n",
    "from matplotlib import pyplot as plt\n",
    "from matplotlib.colors import LogNorm\n",
    "import matplotlib.patches as patches\n",
    "from Likelihood import LEff, poissonLikelihood\n",
    "from dark_nus_utils import load_datasets\n",
    "from const import alphaQED\n",
    "from parameters_dict import mass_material, total_pot, fgd_mass, fgd_systematic_uncertainties, fgd_binning\n",
    "from plot_utils import set_plot_title"
   ]
  },
  {
   "cell_type": "code",
   "execution_count": 3,
   "metadata": {},
   "outputs": [],
   "source": [
    "hierarchy = 'light'\n",
    "D_or_M = 'majorana'\n",
    "distance = 'log'\n",
    "smoothing_pars = (0.1, 0.1)\n",
    "selection = 'carbon'\n",
    "mass_ratio = fgd_mass / mass_material[selection]\n",
    "efficiency = 0.1"
   ]
  },
  {
   "cell_type": "code",
   "execution_count": 4,
   "metadata": {},
   "outputs": [],
   "source": [
    "save_folder = f'../fig/6_visualization/{hierarchy}_{D_or_M}/'\n",
    "!mkdir -p $save_folder"
   ]
  },
  {
   "cell_type": "code",
   "execution_count": 5,
   "metadata": {},
   "outputs": [],
   "source": [
    "levels = {0.68: -2.3/2,\n",
    "          0.9: -4.61/2,\n",
    "          0.95: -5.99/2}"
   ]
  },
  {
   "cell_type": "code",
   "execution_count": 6,
   "metadata": {},
   "outputs": [
    {
     "name": "stdout",
     "output_type": "stream",
     "text": [
      "light majorana FHC\n",
      "Wall time: 1.0805177688598633 s, CPU time: 1.040921359\n",
      "light majorana RHC\n",
      "Wall time: 1.133467674255371 s, CPU time: 1.1120007770000004\n"
     ]
    }
   ],
   "source": [
    "my_exp_analyses = load_datasets(hierarchy, D_or_M, fluxes=['FHC', 'RHC'], timeit=True, direct_load_objects=True, dump=False)"
   ]
  },
  {
   "cell_type": "code",
   "execution_count": 7,
   "metadata": {},
   "outputs": [],
   "source": [
    "sidebands = ['FHC',\n",
    "             'RHC',\n",
    "            ]\n",
    "def load_mc_data(sideband, base_folder_digitized='../digitized/nueCCQE_ND280_2020/'):\n",
    "    digitized_data = np.loadtxt(base_folder_digitized + sideband + '_electron_data.dat')\n",
    "    digitized_data[:, 0] = np.linspace(0.005, 0.195, 20)\n",
    "    digitized_data[:, 1] = digitized_data[:, 1].astype(int)\n",
    "\n",
    "    digitized_MCtot = np.loadtxt(base_folder_digitized + sideband + '_electron_MCtot.dat')\n",
    "    digitized_MCtot[:, 0] = np.linspace(0.005, 0.195, 20)\n",
    "    return digitized_data, digitized_MCtot"
   ]
  },
  {
   "cell_type": "code",
   "execution_count": null,
   "metadata": {},
   "outputs": [],
   "source": [
    "digitized_data = {}\n",
    "digitized_MCtot = {}\n",
    "for sideband in sidebands:\n",
    "    data, MCtot = load_mc_data(sideband)\n",
    "    digitized_data[sideband] = data    \n",
    "    digitized_MCtot[sideband] = MCtot"
   ]
  },
  {
   "cell_type": "code",
   "execution_count": null,
   "metadata": {},
   "outputs": [],
   "source": [
    "def light_ee_mass(my_exp_analysis, m4=0.1, mz=0.03, Umu4_2=8e-9, alpha_d=0.25, epsilon=1.7e-4, \n",
    "                               additional_factor=mass_ratio*efficiency):\n",
    "    Vmu4_alpha_epsilon2 = alpha_d * Umu4_2 * alphaQED * epsilon**2\n",
    "    this_mu = Vmu4_alpha_epsilon2/my_exp_analysis.Vmu4_alpha_epsilon2\n",
    "    kde_weights, aux_df = my_exp_analysis.kde_n_events(df=my_exp_analysis.df_base.query(selection),\n",
    "                                                     m4mz=(m4, mz),\n",
    "                                                     ctau=None,\n",
    "                                                     mu=this_mu,\n",
    "                                                     distance=distance,\n",
    "                                                     smoothing=smoothing_pars,\n",
    "                                                     return_df=True)\n",
    "    return kde_weights*additional_factor, aux_df['ee_mass'], aux_df['ee_mass_reco']\n",
    "\n",
    "def light_simplified_posterior(my_exp_analysis, m4=0.1, mz=0.03, Umu4_2=8e-9, alpha_d=0.25, epsilon=1.7e-4, \n",
    "                               additional_factor=mass_ratio*efficiency,\n",
    "                               syst=0,\n",
    "                               n_observed=0, n_predicted_sm=0, binning=fgd_binning,\n",
    "                               signal_var='ee_mass_reco'):\n",
    "    kde_weights, ee_mass_true, ee_mass_reco = light_ee_mass(my_exp_analysis,\n",
    "                                                            m4, mz, Umu4_2, alpha_d, epsilon, \n",
    "                                                            additional_factor)\n",
    "    \n",
    "    if signal_var == 'ee_mass_reco':\n",
    "        this_var = ee_mass_reco\n",
    "    elif signal_var == 'ee_mass_true':\n",
    "        this_var = ee_mass_true\n",
    "    elif signal_var == 'ee_mass_no_kde':\n",
    "        this_var = mz*np.ones(len(ee_mass_reco))\n",
    "\n",
    "    mu_hist, edges = np.histogram(this_var, weights=kde_weights, bins=binning)\n",
    "    sigma2_hist, edges = np.histogram(this_var, weights=kde_weights**2, bins=binning)\n",
    "    leff = 0\n",
    "    # return n_observed.astype(int), n_predicted_sm, mu_hist, sigma2_hist\n",
    "    for obs, pred, mu, sigma2 in zip(n_observed.astype(int), n_predicted_sm, mu_hist, sigma2_hist):\n",
    "        leff += LEff(obs, pred+mu, sigma2 + (syst*(pred+mu))**2)\n",
    "    return leff\n",
    "\n",
    "def light_simplified_posterior_two_sidebands(sidebands, exp_analyses, \n",
    "                                             hierarchy='light', D_or_M='majorana',\n",
    "                                             m4=0.1, mz=0.03, Umu4_2=8e-9, alpha_d=0.25, epsilon=1.7e-4, \n",
    "                                             additional_factor=mass_ratio*efficiency,\n",
    "                                             systs=fgd_systematic_uncertainties,\n",
    "                                             n_observed=digitized_data, n_predicted_sm=digitized_MCtot, \n",
    "                                             binning=fgd_binning,\n",
    "                                             signal_var='ee_mass_reco'):\n",
    "    total_leff = 0\n",
    "    # print(sidebands)\n",
    "    # print(exp_analyses)\n",
    "    for sideband in sidebands:\n",
    "        total_leff += light_simplified_posterior(exp_analyses['_'.join([hierarchy, D_or_M, sideband])], \n",
    "                                                 m4=m4, mz=mz, Umu4_2=Umu4_2, \n",
    "                                                 alpha_d=alpha_d, epsilon=epsilon, \n",
    "                                                 additional_factor=additional_factor,\n",
    "                                                 syst=systs[sideband],\n",
    "                                                 n_observed=n_observed[sideband][:, 1], \n",
    "                                                 n_predicted_sm=n_predicted_sm[sideband][:, 1], \n",
    "                                                 binning=binning,\n",
    "                                                 signal_var=signal_var)\n",
    "    return total_leff"
   ]
  },
  {
   "cell_type": "code",
   "execution_count": 21,
   "metadata": {},
   "outputs": [],
   "source": [
    "def compute_likelihoods_plane(sidebands, exp_analyses, hierarchy='light', D_or_M='majorana',\n",
    "                              systs=fgd_systematic_uncertainties,\n",
    "                               m4_s=[0.1, 0.25, 0.42],\n",
    "                               mz_for_grid=np.linspace(0.005, 0.095, 10),\n",
    "                               epsilon_for_grid=np.geomspace(1e-5, 1e-1, 15),\n",
    "                               mz_s=[0.01, 0.03, 0.08],\n",
    "                               m4_for_grid=np.linspace(0.1, 1, 10),\n",
    "                               Umu4_2_for_grid=np.geomspace(1e-10, 1e-1, 15),\n",
    "                               base_m4=0.1, base_mz=0.03, base_Umu4_2=8e-9, base_alpha_d=0.25, base_epsilon=1.7e-4,\n",
    "                              signal_var='ee_mass_reco'):\n",
    "    \n",
    "    dark_photons_constraints = {}\n",
    "    for m4 in m4_s:\n",
    "        # print(m4)\n",
    "        dark_photons_constraints[m4] = np.zeros((len(epsilon_for_grid), len(mz_for_grid)))\n",
    "        for i, mz_grid in enumerate(mz_for_grid):\n",
    "            # print(i, mz_grid)\n",
    "            for j, epsilon_grid in enumerate(epsilon_for_grid):\n",
    "                dark_photons_constraints[m4][j, i] = light_simplified_posterior_two_sidebands(sidebands,\n",
    "                                                                                              exp_analyses,\n",
    "                                                                                              m4=m4, \n",
    "                                                                                              mz=mz_grid, \n",
    "                                                                                              epsilon=epsilon_grid,\n",
    "                                                                                              Umu4_2=base_Umu4_2, \n",
    "                                                                                              alpha_d=base_alpha_d,\n",
    "                                                                                              systs=systs,\n",
    "                                                                                              signal_var=signal_var)\n",
    "    hnl_constraints = {}\n",
    "    for mz in mz_s:\n",
    "        # print(mz)\n",
    "        hnl_constraints[mz] = np.zeros((len(Umu4_2_for_grid), len(m4_for_grid)))\n",
    "        for i, m4_grid in enumerate(m4_for_grid):\n",
    "            # print(i, m4_grid)\n",
    "            for j, Umu4_2_grid in enumerate(Umu4_2_for_grid):\n",
    "                hnl_constraints[mz][j, i] = light_simplified_posterior_two_sidebands(sidebands,\n",
    "                                                                                     exp_analyses,\n",
    "                                                                                     m4=m4_grid, \n",
    "                                                                                     mz=mz,\n",
    "                                                                                     Umu4_2=Umu4_2_grid,\n",
    "                                                                                     epsilon=base_epsilon,\n",
    "                                                                                     alpha_d=base_alpha_d,\n",
    "                                                                                     systs=systs,\n",
    "                                                                                     signal_var=signal_var)\n",
    "    \n",
    "    return dark_photons_constraints, hnl_constraints"
   ]
  },
  {
   "cell_type": "code",
   "execution_count": 22,
   "metadata": {},
   "outputs": [],
   "source": [
    "def plot_likelihood_contour(likelihood, x_edges, y_edges, label_template='$m_4$ = {} GeV', linestyles=['-', '--', 'dotted'], ax=None):\n",
    "    if ax is None:\n",
    "        ax = plt.gca()\n",
    "    contours = {}\n",
    "    for i, (val, like) in enumerate(likelihood.items()):\n",
    "        ax.contourf(x_edges, y_edges, like,\n",
    "                                      levels=[-np.inf, like.max() + levels[0.9]], \n",
    "                                    colors=['orange'], alpha=0.15)\n",
    "        contours[val] = ax.contour(x_edges, y_edges, like,\n",
    "                                      levels=[-np.inf, like.max() + levels[0.9]], \n",
    "                                   colors=['chocolate'], linestyles=[linestyles[i]], alpha=0.5)\n",
    "    ax.legend([cntr.legend_elements()[0][0] for cntr in contours.values()], \n",
    "               [label_template.format(val) for val in contours.keys()],\n",
    "               frameon=False,\n",
    "               loc='lower right')"
   ]
  },
  {
   "cell_type": "code",
   "execution_count": 23,
   "metadata": {},
   "outputs": [],
   "source": [
    "def plot_with_signal(sidebands, exp_analyses, m4=0.1, mz=0.03, Umu4_2=8e-9, alpha_d=0.25, epsilon=1.7e-3):\n",
    "    fig, axs = plt.subplots(1, len(sidebands), figsize=(5*len(sidebands), 5))\n",
    "    if len(sidebands) == 1:\n",
    "        axs = [axs]\n",
    "    for sideband, exp_analysis, ax in zip(sidebands, exp_analyses, axs):\n",
    "        data = digitized_data[sideband]    \n",
    "        MCtot = digitized_MCtot[sideband]\n",
    "        \n",
    "        width = MCtot[1, 0] - MCtot[0, 0]\n",
    "        \n",
    "        ax.bar(MCtot[:, 0], MCtot[:, 1], \n",
    "               width=width,\n",
    "               alpha=0.2, color='C0', label='total MC')\n",
    "        \n",
    "        syst = fgd_systematic_uncertainties[sideband]\n",
    "        for i, (m, v) in enumerate(zip(MCtot[:, 0], MCtot[:, 1])):\n",
    "            e = v * syst\n",
    "            if i == 0:\n",
    "                ax.add_patch(\n",
    "                    patches.Rectangle(\n",
    "                        (m - width/2, v - e),\n",
    "                        width,\n",
    "                        2 * e,\n",
    "                        hatch=\"\\\\\\\\\\\\\\\\\\\\\",\n",
    "                        fill=False,\n",
    "                        linewidth=0,\n",
    "                        alpha=0.4,\n",
    "                        label='systematics',\n",
    "                    )\n",
    "                )\n",
    "            else:\n",
    "                ax.add_patch(\n",
    "                    patches.Rectangle(\n",
    "                        (m - width/2, v - e),\n",
    "                        width,\n",
    "                        2 * e,\n",
    "                        hatch=\"\\\\\\\\\\\\\\\\\\\\\",\n",
    "                        fill=False,\n",
    "                        linewidth=0,\n",
    "                        alpha=0.4,\n",
    "                    )\n",
    "                )\n",
    "        \n",
    "        kde_weights, ee_mass_true, ee_mass_reco = light_ee_mass(exp_analysis,\n",
    "                                                                m4, mz, Umu4_2, \n",
    "                                                                alpha_d, epsilon, \n",
    "                                                                additional_factor=mass_ratio * efficiency)\n",
    "        hist_ee_mass_true, _ = np.histogram(ee_mass_true, bins=fgd_binning, weights=kde_weights)\n",
    "        hist_ee_mass_reco, _ = np.histogram(ee_mass_reco, bins=fgd_binning, weights=kde_weights)\n",
    "        ax.step(MCtot[:, 0], MCtot[:, 1] + hist_ee_mass_true, where='mid', color='C1', label='signal true level')\n",
    "        ax.step(MCtot[:, 0], MCtot[:, 1] + hist_ee_mass_reco, where='mid', color='C2', label='signal reco level')\n",
    "\n",
    "        ax.errorbar(data[:, 0], data[:, 1], yerr=np.sqrt(data[:,1]), fmt='k.', label='data')\n",
    "\n",
    "        ax.legend(frameon=False)\n",
    "        ax.set_xlabel(r'$m_{e^+e^-}$ [GeV]')\n",
    "        ax.set_xlim(0, 0.2)\n",
    "        ax.set_ylabel(r'Number of entries')\n",
    "        ax.set_title(sideband.replace('_', ' ') + f' leading, {exp_analysis.pot} POT')"
   ]
  },
  {
   "cell_type": "code",
   "execution_count": 13,
   "metadata": {},
   "outputs": [
    {
     "data": {
      "image/png": "[encoded data removed]",
      "text/plain": [
       "<Figure size 720x360 with 2 Axes>"
      ]
     },
     "metadata": {
      "needs_background": "light"
     },
     "output_type": "display_data"
    }
   ],
   "source": [
    "this_pars = {\n",
    "    'm4':0.42, 'mz':0.031, 'Umu4_2':(9e-4)**2, 'alpha_d':0.25, 'epsilon':1.7e-4\n",
    "}\n",
    "\n",
    "plot_with_signal(['FHC', 'RHC'], my_exp_analyses.values(), **this_pars)\n",
    "set_plot_title(m4mz=(0.42, 0.031), exp_analysis_obj=my_exp_analyses['light_majorana_FHC'],\n",
    "               kernel=None, smoothing_pars=None, suptitle=True, same_line=True, **this_pars)\n",
    "plt.savefig(save_folder + 'example_distribution.pdf')"
   ]
  },
  {
   "cell_type": "code",
   "execution_count": 57,
   "metadata": {},
   "outputs": [
    {
     "data": {
      "text/plain": [
       "-1800.4062345612178"
      ]
     },
     "execution_count": 79,
     "metadata": {},
     "output_type": "execute_result"
    }
   ],
   "source": [
    "light_simplified_posterior_two_sidebands(['FHC', 'RHC'], my_exp_analyses,\n",
    "                                         systs={'FHC':0, 'RHC':0},\n",
    "                                         n_observed=digitized_data, n_predicted_sm=digitized_MCtot,\n",
    "                                         **this_pars)"
   ]
  },
  {
   "cell_type": "code",
   "execution_count": 44,
   "metadata": {},
   "outputs": [
    {
     "data": {
      "text/plain": [
       "-1202.7501219816045"
      ]
     },
     "execution_count": 44,
     "metadata": {},
     "output_type": "execute_result"
    }
   ],
   "source": [
    "light_simplified_posterior(my_exp_analyses['light_majorana_FHC'],\n",
    "                           syst=0, binning=fgd_binning,\n",
    "                           n_observed=digitized_data['FHC'][:, 1], n_predicted_sm=digitized_MCtot['FHC'][:, 1],\n",
    "                           **this_pars)"
   ]
  },
  {
   "cell_type": "code",
   "execution_count": 45,
   "metadata": {},
   "outputs": [
    {
     "data": {
      "text/plain": [
       "-597.6561125796134"
      ]
     },
     "execution_count": 45,
     "metadata": {},
     "output_type": "execute_result"
    }
   ],
   "source": [
    "light_simplified_posterior(my_exp_analyses['light_majorana_RHC'],\n",
    "                           syst=0, binning=fgd_binning,\n",
    "                           n_observed=digitized_data['RHC'][:, 1], n_predicted_sm=digitized_MCtot['RHC'][:, 1],\n",
    "                           **this_pars)"
   ]
  },
  {
   "cell_type": "code",
   "execution_count": null,
   "metadata": {},
   "outputs": [],
   "source": [
    "fig, axs = plt.subplots(1, len(sidebands), figsize=(6*len(sidebands), 5))\n",
    "\n",
    "plot_likelihood_contour(out[0], \n",
    "                        x_edges=np.linspace(0.005, 0.095, 10), \n",
    "                        y_edges=np.geomspace(1e-5, 1e-1, 15),\n",
    "                        label_template='$m_4$ = {} GeV', \n",
    "                        linestyles=['-', '--', 'dotted'],\n",
    "                        ax=axs[0])\n",
    "axs[0].loglog()\n",
    "axs[0].set_xlabel(r'$m_z$ [GeV]')\n",
    "axs[0].set_ylabel(r'$\\epsilon$')\n",
    "\n",
    "plot_likelihood_contour(out[1], \n",
    "                        x_edges=np.linspace(0.1, 1, 10), \n",
    "                        y_edges=np.geomspace(1e-10, 1e-1, 15),\n",
    "                        label_template='$m_z$ = {} GeV', \n",
    "                        linestyles=['-', '--', 'dotted'],\n",
    "                        ax=axs[1])\n",
    "axs[1].loglog()\n",
    "axs[1].set_xlabel(r'$m_N$ [GeV]')\n",
    "axs[1].set_ylabel(r'$|U_{\\mu N}|^2$')\n",
    "\n",
    "set_plot_title(exp_analysis_obj=my_exp_analyses['light_majorana_FHC'],\n",
    "               kernel=None, smoothing_pars=None, suptitle=True, same_line=True, **this_pars)"
   ]
  },
  {
   "cell_type": "markdown",
   "metadata": {},
   "source": [
    "# Check FHC, RHC, and both"
   ]
  },
  {
   "cell_type": "code",
   "execution_count": 15,
   "metadata": {},
   "outputs": [],
   "source": [
    "mz_for_grid = np.linspace(0.005, 0.095, 10)\n",
    "epsilon_for_grid = np.geomspace(1e-5, 1e-1, 15)\n",
    "m4_for_grid = np.linspace(0.1, 1, 10)\n",
    "Umu4_2_for_grid = np.geomspace(1e-10, 1e-1, 15)\n",
    "\n",
    "base_pars = {\n",
    "    'base_m4':0.1, 'base_mz':0.031, 'base_Umu4_2':(9e-4)**2, 'base_alpha_d':0.25, 'base_epsilon':1.7e-4\n",
    "}"
   ]
  },
  {
   "cell_type": "code",
   "execution_count": 17,
   "metadata": {
    "tags": []
   },
   "outputs": [
    {
     "name": "stdout",
     "output_type": "stream",
     "text": [
      "0.1\n",
      "0 0.005\n",
      "1 0.015\n",
      "2 0.025\n",
      "3 0.034999999999999996\n",
      "4 0.045\n",
      "5 0.055\n",
      "6 0.065\n",
      "7 0.07500000000000001\n",
      "8 0.085\n",
      "9 0.095\n",
      "0.031\n",
      "0 0.1\n",
      "1 0.2\n",
      "2 0.30000000000000004\n",
      "3 0.4\n",
      "4 0.5\n",
      "5 0.6\n",
      "6 0.7000000000000001\n",
      "7 0.8\n",
      "8 0.9\n",
      "9 1.0\n",
      "0.1\n",
      "0 0.005\n",
      "1 0.015\n",
      "2 0.025\n",
      "3 0.034999999999999996\n",
      "4 0.045\n",
      "5 0.055\n",
      "6 0.065\n",
      "7 0.07500000000000001\n",
      "8 0.085\n",
      "9 0.095\n",
      "0.031\n",
      "0 0.1\n",
      "1 0.2\n",
      "2 0.30000000000000004\n",
      "3 0.4\n",
      "4 0.5\n",
      "5 0.6\n",
      "6 0.7000000000000001\n",
      "7 0.8\n",
      "8 0.9\n",
      "9 1.0\n"
     ]
    }
   ],
   "source": [
    "out = {}\n",
    "out['FHC'] = compute_likelihoods_plane(sidebands=['FHC'], \n",
    "                                       exp_analyses=my_exp_analyses,\n",
    "                                       m4_s=[base_pars['base_m4']],\n",
    "                                       mz_for_grid=mz_for_grid,\n",
    "                                       epsilon_for_grid=epsilon_for_grid,\n",
    "                                       mz_s=[base_pars['base_mz']],\n",
    "                                       m4_for_grid=m4_for_grid,\n",
    "                                       Umu4_2_for_grid=Umu4_2_for_grid)\n",
    "\n",
    "out['RHC'] = compute_likelihoods_plane(sidebands=['RHC'], \n",
    "                                       exp_analyses=my_exp_analyses,\n",
    "                                       m4_s=[base_pars['base_m4']],\n",
    "                                       mz_for_grid=mz_for_grid,\n",
    "                                       epsilon_for_grid=epsilon_for_grid,\n",
    "                                       mz_s=[base_pars['base_mz']],\n",
    "                                       m4_for_grid=m4_for_grid,\n",
    "                                       Umu4_2_for_grid=Umu4_2_for_grid)\n",
    "\n",
    "out['FHC+RHC'] = ({key: out['FHC'][0][key] + out['RHC'][0][key] for key in out['FHC'][0].keys()},\n",
    "                  {key: out['FHC'][1][key] + out['RHC'][1][key] for key in out['FHC'][1].keys()})"
   ]
  },
  {
   "cell_type": "code",
   "execution_count": 20,
   "metadata": {},
   "outputs": [
    {
     "data": {
      "image/png": "[encoded data removed]",
      "text/plain": [
       "<Figure size 864x360 with 2 Axes>"
      ]
     },
     "metadata": {
      "needs_background": "light"
     },
     "output_type": "display_data"
    }
   ],
   "source": [
    "fig, axs = plt.subplots(1, len(sidebands), figsize=(6*len(sidebands), 5))\n",
    "\n",
    "plot_likelihood_contour({key:list(value[0].values())[0] for key, value in out.items()}, \n",
    "                        x_edges=mz_for_grid, \n",
    "                        y_edges=epsilon_for_grid,\n",
    "                        label_template='{}', \n",
    "                        linestyles=['-', '--', 'dotted'],\n",
    "                        ax=axs[0])\n",
    "axs[0].loglog()\n",
    "axs[0].set_xlabel(r'$m_z$ [GeV]')\n",
    "axs[0].set_ylabel(r'$\\epsilon$')\n",
    "\n",
    "plot_likelihood_contour({key:list(value[1].values())[0] for key, value in out.items()}, \n",
    "                        x_edges=m4_for_grid, \n",
    "                        y_edges=Umu4_2_for_grid,\n",
    "                        label_template='{}', \n",
    "                        linestyles=['-', '--', 'dotted'],\n",
    "                        ax=axs[1])\n",
    "axs[1].loglog()\n",
    "axs[1].set_xlabel(r'$m_N$ [GeV]')\n",
    "axs[1].set_ylabel(r'$|U_{\\mu N}|^2$')\n",
    "\n",
    "set_plot_title(exp_analysis_obj=my_exp_analyses['light_majorana_FHC'],\n",
    "               kernel=None, smoothing_pars=None, suptitle=True, same_line=True, \n",
    "               **{key.replace('base_', ''):value for key,value in base_pars.items()})"
   ]
  },
  {
   "cell_type": "markdown",
   "metadata": {
    "tags": []
   },
   "source": [
    "# Check syst and no syst"
   ]
  },
  {
   "cell_type": "code",
   "execution_count": 22,
   "metadata": {},
   "outputs": [],
   "source": [
    "mz_for_grid = np.linspace(0.005, 0.095, 10)\n",
    "epsilon_for_grid = np.geomspace(1e-5, 1e-1, 15)\n",
    "m4_for_grid = np.linspace(0.1, 1, 10)\n",
    "Umu4_2_for_grid = np.geomspace(1e-10, 1e-1, 15)\n",
    "\n",
    "base_pars = {\n",
    "    'base_m4':0.1, 'base_mz':0.031, 'base_Umu4_2':(9e-4)**2, 'base_alpha_d':0.25, 'base_epsilon':1.7e-4\n",
    "}"
   ]
  },
  {
   "cell_type": "code",
   "execution_count": 23,
   "metadata": {
    "tags": []
   },
   "outputs": [],
   "source": [
    "out_syst = {}\n",
    "out_syst['no_syst'] = compute_likelihoods_plane(sidebands=['FHC', 'RHC'],\n",
    "                                       exp_analyses=my_exp_analyses,\n",
    "                                       m4_s=[base_pars['base_m4']],\n",
    "                                       mz_for_grid=mz_for_grid,\n",
    "                                       epsilon_for_grid=epsilon_for_grid,\n",
    "                                       mz_s=[base_pars['base_mz']],\n",
    "                                       m4_for_grid=m4_for_grid,\n",
    "                                       Umu4_2_for_grid=Umu4_2_for_grid,\n",
    "                                       systs={'FHC':0, 'RHC':0})\n",
    "\n",
    "out_syst['with_syst'] = compute_likelihoods_plane(sidebands=['FHC', 'RHC'],\n",
    "                                       exp_analyses=my_exp_analyses,\n",
    "                                       m4_s=[base_pars['base_m4']],\n",
    "                                       mz_for_grid=mz_for_grid,\n",
    "                                       epsilon_for_grid=epsilon_for_grid,\n",
    "                                       mz_s=[base_pars['base_mz']],\n",
    "                                       m4_for_grid=m4_for_grid,\n",
    "                                       Umu4_2_for_grid=Umu4_2_for_grid)"
   ]
  },
  {
   "cell_type": "code",
   "execution_count": 24,
   "metadata": {},
   "outputs": [
    {
     "data": {
      "image/png": "[encoded data removed]",
      "text/plain": [
       "<Figure size 864x360 with 2 Axes>"
      ]
     },
     "metadata": {
      "needs_background": "light"
     },
     "output_type": "display_data"
    }
   ],
   "source": [
    "fig, axs = plt.subplots(1, len(sidebands), figsize=(6*len(sidebands), 5))\n",
    "\n",
    "plot_likelihood_contour({key:list(value[0].values())[0] for key, value in out_syst.items()}, \n",
    "                        x_edges=mz_for_grid, \n",
    "                        y_edges=epsilon_for_grid,\n",
    "                        label_template='{}', \n",
    "                        linestyles=['-', '--', 'dotted'],\n",
    "                        ax=axs[0])\n",
    "axs[0].loglog()\n",
    "axs[0].set_xlabel(r'$m_z$ [GeV]')\n",
    "axs[0].set_ylabel(r'$\\epsilon$')\n",
    "\n",
    "plot_likelihood_contour({key:list(value[1].values())[0] for key, value in out_syst.items()}, \n",
    "                        x_edges=m4_for_grid, \n",
    "                        y_edges=Umu4_2_for_grid,\n",
    "                        label_template='{}', \n",
    "                        linestyles=['-', '--', 'dotted'],\n",
    "                        ax=axs[1])\n",
    "axs[1].loglog()\n",
    "axs[1].set_xlabel(r'$m_N$ [GeV]')\n",
    "axs[1].set_ylabel(r'$|U_{\\mu N}|^2$')\n",
    "\n",
    "set_plot_title(exp_analysis_obj=my_exp_analyses['light_majorana_FHC'],\n",
    "               kernel=None, smoothing_pars=None, suptitle=True, same_line=True, \n",
    "               **{key.replace('base_', ''):value for key,value in base_pars.items()})\n",
    "plt.savefig("
   ]
  },
  {
   "cell_type": "markdown",
   "metadata": {},
   "source": [
    "# Check no resolution, ee_true, ee_reco"
   ]
  },
  {
   "cell_type": "code",
   "execution_count": 24,
   "metadata": {},
   "outputs": [],
   "source": [
    "mz_for_grid = np.linspace(0.005, 0.095, 10)\n",
    "epsilon_for_grid = np.geomspace(1e-4, 1e-2, 15)\n",
    "m4_for_grid = np.linspace(0.1, 1, 10)\n",
    "Umu4_2_for_grid = np.geomspace(1e-8, 1e-4, 15)\n",
    "\n",
    "base_pars = {\n",
    "    'base_m4':0.1, 'base_mz':0.031, 'base_Umu4_2':(9e-4)**2, 'base_alpha_d':0.25, 'base_epsilon':1.7e-4\n",
    "}"
   ]
  },
  {
   "cell_type": "code",
   "execution_count": 25,
   "metadata": {},
   "outputs": [
    {
     "name": "stdout",
     "output_type": "stream",
     "text": [
      "ee_mass_no_kde\n",
      "ee_mass_reco\n",
      "ee_mass_true\n"
     ]
    }
   ],
   "source": [
    "out_diff_resolutions = {}\n",
    "\n",
    "for var in ('ee_mass_no_kde', 'ee_mass_reco', 'ee_mass_true'):\n",
    "    print(var)\n",
    "    out_diff_resolutions[var] = compute_likelihoods_plane(sidebands=['FHC', 'RHC'],\n",
    "                                       exp_analyses=my_exp_analyses,\n",
    "                                       m4_s=[base_pars['base_m4']],\n",
    "                                       mz_for_grid=mz_for_grid,\n",
    "                                       epsilon_for_grid=epsilon_for_grid,\n",
    "                                       mz_s=[base_pars['base_mz']],\n",
    "                                       m4_for_grid=m4_for_grid,\n",
    "                                       Umu4_2_for_grid=Umu4_2_for_grid,\n",
    "                                       signal_var=var)"
   ]
  },
  {
   "cell_type": "code",
   "execution_count": 26,
   "metadata": {},
   "outputs": [
    {
     "data": {
      "image/png": "[encoded data removed]",
      "text/plain": [
       "<Figure size 864x360 with 2 Axes>"
      ]
     },
     "metadata": {
      "needs_background": "light"
     },
     "output_type": "display_data"
    }
   ],
   "source": [
    "fig, axs = plt.subplots(1, len(sidebands), figsize=(6*len(sidebands), 5))\n",
    "\n",
    "plot_likelihood_contour({key:list(value[0].values())[0] for key, value in out_diff_resolutions.items()}, \n",
    "                        x_edges=mz_for_grid, \n",
    "                        y_edges=epsilon_for_grid,\n",
    "                        label_template='{}', \n",
    "                        linestyles=['-', '--', 'dotted'],\n",
    "                        ax=axs[0])\n",
    "axs[0].loglog()\n",
    "axs[0].set_xlabel(r'$m_z$ [GeV]')\n",
    "axs[0].set_ylabel(r'$\\epsilon$')\n",
    "\n",
    "plot_likelihood_contour({key:list(value[1].values())[0] for key, value in out_diff_resolutions.items()}, \n",
    "                        x_edges=m4_for_grid, \n",
    "                        y_edges=Umu4_2_for_grid,\n",
    "                        label_template='{}', \n",
    "                        linestyles=['-', '--', 'dotted'],\n",
    "                        ax=axs[1])\n",
    "axs[1].loglog()\n",
    "axs[1].set_xlabel(r'$m_N$ [GeV]')\n",
    "axs[1].set_ylabel(r'$|U_{\\mu N}|^2$')\n",
    "\n",
    "set_plot_title(exp_analysis_obj=my_exp_analyses['light_majorana_FHC'],\n",
    "               kernel=None, smoothing_pars=None, suptitle=True, same_line=True, \n",
    "               **{key.replace('base_', ''):value for key,value in base_pars.items()})\n",
    "# plt.savefig("
   ]
  },
  {
   "cell_type": "markdown",
   "metadata": {
    "jp-MarkdownHeadingCollapsed": true,
    "tags": []
   },
   "source": [
    "# Dark photon plots"
   ]
  },
  {
   "cell_type": "code",
   "execution_count": null,
   "metadata": {},
   "outputs": [],
   "source": [
    "# setting\n",
    "m4_s = [0.1, 0.25, 0.42]\n",
    "mz_for_grid = np.linspace(0.005, 0.095, 10)\n",
    "epsilon_for_grid = np.geomspace(1e-5, 1e-1, 15)\n",
    "mz, epsilon = np.meshgrid(mz_for_grid, epsilon_for_grid)\n",
    "sideband = 'FHC_electron'"
   ]
  },
  {
   "cell_type": "code",
   "execution_count": null,
   "metadata": {},
   "outputs": [],
   "source": [
    "# calculation\n",
    "dark_photons_constraints = {}\n",
    "for m4 in m4_s:\n",
    "    print(m4)\n",
    "    dark_photons_constraints[m4] = light_simplified_posterior_v(m4=m4, mz=mz, epsilon=epsilon,\n",
    "                                                                n_observed=digitized_MCtot[sideband][:, 1], \n",
    "                                                                n_predicted_sm=digitized_MCtot[sideband][:, 1], \n",
    "                                                                binning=digitized_MCtot[sideband][:, 0])"
   ]
  },
  {
   "cell_type": "code",
   "execution_count": null,
   "metadata": {},
   "outputs": [],
   "source": [
    "# plot\n",
    "linestyles = ['-', '--', 'dotted']\n",
    "contours = {}\n",
    "for m4, linestyle in zip(m4_s, linestyles):\n",
    "    plt.contourf(mz, epsilon, dark_photons_constraints[m4],\n",
    "                                  levels=[-np.inf, dark_photons_constraints[m4].max() + levels[0.9]], \n",
    "                                colors=['orange'], alpha=0.15)\n",
    "    contours[m4] = plt.contour(mz, epsilon, dark_photons_constraints[m4], \n",
    "                                  levels=[-np.inf, dark_photons_constraints[m4].max() + levels[0.9]], \n",
    "                               colors=['chocolate'], linestyles=[linestyle], alpha=0.5)\n",
    "plt.legend([cntr.legend_elements()[0][0] for cntr in contours.values()], \n",
    "           [f'$m_4$ = {m4} GeV' for m4 in contours.keys()],\n",
    "           frameon=False,\n",
    "           loc='lower right')\n",
    "plt.loglog()\n",
    "plt.xlabel(r'$m_z$ [GeV]')\n",
    "plt.ylabel(r'$\\epsilon$')\n",
    "plt.title('BP-L2, constraint with FGD sideband')\n",
    "plt.savefig(save_folder + 'light_dark_photon.pdf')"
   ]
  },
  {
   "cell_type": "markdown",
   "metadata": {
    "jp-MarkdownHeadingCollapsed": true,
    "tags": []
   },
   "source": [
    "# HNL plot"
   ]
  },
  {
   "cell_type": "code",
   "execution_count": null,
   "metadata": {},
   "outputs": [],
   "source": [
    "# setting\n",
    "mz_s = [0.01, 0.03, 0.08]\n",
    "m4_for_grid = np.linspace(0.1, 1, 10)\n",
    "Umu4_2_for_grid = np.geomspace(1e-10, 1e-1, 15)\n",
    "m4, Umu4_2 = np.meshgrid(m4_for_grid, Umu4_2_for_grid)\n",
    "sideband = 'FHC_electron'"
   ]
  },
  {
   "cell_type": "code",
   "execution_count": null,
   "metadata": {},
   "outputs": [],
   "source": [
    "# calculation\n",
    "hnl_constraints = {}\n",
    "for mz in mz_s:\n",
    "    print(mz)\n",
    "    hnl_constraints[mz] = light_simplified_posterior_v(m4=m4, mz=mz,\n",
    "                                                       Umu4_2=Umu4_2,\n",
    "                                                       n_observed=digitized_MCtot[sideband][:, 1], \n",
    "                                                       n_predicted_sm=digitized_MCtot[sideband][:, 1], \n",
    "                                                       binning=digitized_MCtot[sideband][:, 0])"
   ]
  },
  {
   "cell_type": "code",
   "execution_count": null,
   "metadata": {},
   "outputs": [],
   "source": [
    "# plot\n",
    "linestyles = ['-', '--', 'dotted']\n",
    "contours = {}\n",
    "for mz, linestyle in zip(mz_s, linestyles):\n",
    "    plt.contourf(m4, Umu4_2, hnl_constraints[mz],\n",
    "                                  levels=[-np.inf, hnl_constraints[mz].max() + levels[0.9]], \n",
    "                                colors=['orange'], alpha=0.15)\n",
    "    contours[mz] = plt.contour(m4, Umu4_2, hnl_constraints[mz], \n",
    "                                  levels=[-np.inf, hnl_constraints[mz].max() + levels[0.9]], \n",
    "                               colors=['chocolate'], linestyles=[linestyle], alpha=0.5)\n",
    "plt.legend([cntr.legend_elements()[0][0] for cntr in contours.values()], \n",
    "           [f'$m_Z$ = {mz} GeV' for mz in contours.keys()],\n",
    "           frameon=False,\n",
    "           loc='lower right')\n",
    "plt.loglog()\n",
    "plt.xlabel(r'$m_N$ [GeV]')\n",
    "plt.ylabel(r'$|U_{\\mu N}|^2$')\n",
    "plt.title('BP-L2, constraint with FGD sideband')\n",
    "plt.savefig(save_folder + 'light_hnl.pdf')"
   ]
  },
  {
   "cell_type": "markdown",
   "metadata": {
    "jp-MarkdownHeadingCollapsed": true,
    "tags": []
   },
   "source": [
    "# OLD"
   ]
  },
  {
   "cell_type": "code",
   "execution_count": null,
   "metadata": {
    "tags": []
   },
   "outputs": [],
   "source": [
    "# plot\n",
    "linestyles = ['-', '--', 'dotted']\n",
    "contours = {}\n",
    "for m4, linestyle in zip(m4_s, linestyles):\n",
    "    plt.contourf(mz, epsilon[:, :10], dark_photons_constraints[m4][0], \n",
    "                                  levels=[-np.inf, dark_photons_constraints[m4][0].max() + levels[0.9]], \n",
    "                                colors=['orange'], alpha=0.15)\n",
    "    contours[m4] = plt.contour(mz, epsilon[:, :10], dark_photons_constraints[m4][0], \n",
    "                                  levels=[-np.inf, dark_photons_constraints[m4][0].max() + levels[0.9]], \n",
    "                               colors=['chocolate'], linestyles=[linestyle], alpha=0.5)\n",
    "plt.legend([cntr.legend_elements()[0][0] for cntr in contours.values()], \n",
    "           [f'$m_4$ = {m4} GeV' for m4 in contours.keys()],\n",
    "           frameon=False,\n",
    "           loc='lower right')\n",
    "plt.loglog()\n",
    "plt.xlabel(r'$m_z$ [GeV]')\n",
    "plt.ylabel(r'$\\epsilon$')\n",
    "plt.title('BP-L2, constraint with perfect detector')"
   ]
  },
  {
   "cell_type": "code",
   "execution_count": null,
   "metadata": {},
   "outputs": [],
   "source": [
    "m4 = 0.42\n",
    "\n",
    "fig, axs = plt.subplots(2, 3, figsize=(15, 10), sharex=True, sharey=True)\n",
    "axs[0][0].loglog()\n",
    "\n",
    "pcm = axs[0][0].pcolormesh(mz, epsilon, -dark_photons_constraints[m4][0], norm=LogNorm())\n",
    "fig.colorbar(pcm, ax=axs[0][0])\n",
    "axs[0][0].set_title(r'- $\\log$(likelihood)')\n",
    "\n",
    "pcm = axs[0][1].pcolormesh(mz, epsilon, dark_photons_constraints[m4][1], norm=LogNorm())\n",
    "fig.colorbar(pcm, ax=axs[0][1])\n",
    "axs[0][1].set_title(r'$\\mu$')\n",
    "\n",
    "pcm = axs[0][2].pcolormesh(mz, epsilon, dark_photons_constraints[m4][3], norm=LogNorm())\n",
    "fig.colorbar(pcm, ax=axs[0][2])\n",
    "axs[0][2].set_title(r'c$\\tau$ [cm]')\n",
    "\n",
    "pcm = axs[1][0].pcolormesh(mz, epsilon, np.sqrt(dark_photons_constraints[m4][2])/dark_photons_constraints[m4][1], norm=LogNorm())\n",
    "fig.colorbar(pcm, ax=axs[1][0])\n",
    "axs[1][0].set_title(r'$\\sigma / \\mu$')\n",
    "\n",
    "# pcm = axs[1][1].pcolormesh(mz, epsilon, dark_photons_constraints[m4][4], norm=LogNorm())\n",
    "# fig.colorbar(pcm, ax=axs[1][1])\n",
    "# axs[1][1].set_title(r'N passing c$\\tau$')\n",
    "\n",
    "# pcm = axs[1][2].pcolormesh(mz, epsilon, dark_photons_constraints[m4][5], norm=LogNorm())\n",
    "# fig.colorbar(pcm, ax=axs[1][2])\n",
    "# axs[1][2].set_title(r'N used for the KDE')\n",
    "\n",
    "for axes in axs:\n",
    "    for ax in axes:\n",
    "        ax.set_xlabel(r'$m_z$ [GeV]')\n",
    "        ax.set_ylabel(r'$\\epsilon$')\n",
    "        ax.contour(mz, epsilon, dark_photons_constraints[m4][0], \n",
    "                   levels=[dark_photons_constraints[m4][0].max() + levels[0.9]], colors=['red'])\n",
    "        \n",
    "fig.savefig(save_folder + 'dark_photon_space_study_precision.png', bbox_inches='tight', dpi=250)\n",
    "fig.savefig(save_folder + 'dark_photon_space_study_precision.pdf')"
   ]
  },
  {
   "cell_type": "markdown",
   "metadata": {
    "jp-MarkdownHeadingCollapsed": true,
    "tags": []
   },
   "source": [
    "# OLD"
   ]
  },
  {
   "cell_type": "code",
   "execution_count": null,
   "metadata": {},
   "outputs": [],
   "source": [
    "plt.bar(digitized_data[:, 0], height=digitized_data[:, 1], \n",
    "        width=digitized_data[1, 0]-digitized_data[0, 0],\n",
    "        alpha=0.5, label='data')\n",
    "plt.step(digitized_MCtot[:, 0], digitized_MCtot[:, 1], where='mid', color='C1', label='total MC')\n",
    "\n",
    "plt.hist(this_ee_mass_true, bins=np.linspace(0.00, 0.2, 21), weights=kde_weights,\n",
    "         color='C2', histtype='step', label=\"true level\")\n",
    "plt.hist(this_ee_mass_reco, bins=np.linspace(0.00, 0.2, 21), weights=kde_weights,\n",
    "         color='C3', histtype='step', label=\"reco level\")\n",
    "\n",
    "plt.legend(frameon=False)"
   ]
  },
  {
   "cell_type": "code",
   "execution_count": null,
   "metadata": {},
   "outputs": [],
   "source": [
    "light_simplified_posterior(epsilon=1e-3,\n",
    "                           n_observed=digitized_MCtot[:, 1], \n",
    "                           n_predicted_sm=digitized_MCtot[:, 1], \n",
    "                           binning=digitized_MCtot[:, 0])"
   ]
  },
  {
   "cell_type": "code",
   "execution_count": null,
   "metadata": {},
   "outputs": [],
   "source": []
  },
  {
   "cell_type": "code",
   "execution_count": null,
   "metadata": {},
   "outputs": [],
   "source": [
    "N = 1\n",
    "sigma2_array = np.geomspace(1e-20, 10, 30)\n",
    "leff_array = []\n",
    "for sigma2 in sigma2_array:\n",
    "    leff_array.append(-LEff(N, N, sigma2))\n",
    "plt.plot(sigma2_array, leff_array, label='Effective likelihood')\n",
    "plt.axhline(-poissonLikelihood(N, N, 0), color='C1', ls='--', label='Poisson case')\n",
    "plt.loglog()\n",
    "plt.xlabel(r'$\\sigma^2$')\n",
    "plt.ylabel('Negative log likelihood')\n",
    "plt.title(f'Likelihood({N} | {N})')\n",
    "plt.legend(frameon=False)"
   ]
  },
  {
   "cell_type": "code",
   "execution_count": null,
   "metadata": {},
   "outputs": [],
   "source": [
    "# Here's a piece of code to plot some curves from the MINERvA-CHARM paper.\n",
    "\n",
    "I dont know if it is all that usefull -- our limit will be much higher than the Minerva one."
   ]
  },
  {
   "cell_type": "code",
   "execution_count": 38,
   "metadata": {},
   "outputs": [
    {
     "name": "stderr",
     "output_type": "stream",
     "text": [
      "<ipython-input-38-de95bf5e29b6>:83: UserWarning: The following kwargs were not used by contour: 'linestyle'\n",
      "  Contour = ax.contour(xi, yi, zi, [4.61],\\\n",
      "<ipython-input-38-de95bf5e29b6>:83: UserWarning: The following kwargs were not used by contour: 'linestyle'\n",
      "  Contour = ax.contour(xi, yi, zi, [4.61],\\\n"
     ]
    },
    {
     "data": {
      "text/plain": [
       "(1e-05, 0.01)"
      ]
     },
     "execution_count": 38,
     "metadata": {},
     "output_type": "execute_result"
    },
    {
     "data": {
      "image/png": "[encoded data removed]",
      "text/plain": [
       "<Figure size 244.08x204.051 with 1 Axes>"
      ]
     },
     "metadata": {
      "needs_background": "light"
     },
     "output_type": "display_data"
    }
   ],
   "source": [
    "import numpy as np\n",
    "import vegas as vg\n",
    "import gvar as gv\n",
    "\n",
    "from scipy import interpolate\n",
    "import scipy.stats\n",
    "from scipy.integrate import quad\n",
    "\n",
    "import matplotlib.pyplot as plt\n",
    "from matplotlib import rc, rcParams\n",
    "from matplotlib.pyplot import *\n",
    "from matplotlib.legend_handler import HandlerLine2D\n",
    "import matplotlib.colors as colors\n",
    "import scipy.ndimage as ndimage\n",
    "\n",
    "fsize = 10\n",
    "S_GAUSS = 0.1\n",
    "rc('text', usetex=True)\n",
    "params={'axes.labelsize':fsize,'xtick.labelsize':fsize,'ytick.labelsize':fsize,\\\n",
    "\t\t\t\t'figure.figsize':(3.39,1.2*2.3617)\t}\n",
    "rc('font',**{'family':'serif', 'serif': ['computer modern roman']})\n",
    "rcParams.update(params)\n",
    "axes_form  = [0.18,0.16,0.77,0.75]\n",
    "\n",
    "fig = plt.figure()\n",
    "ax = fig.add_axes(axes_form)\n",
    "\n",
    "\n",
    "ALPHA_FIT = 0.9\n",
    "\n",
    "proxy2 = plt.Rectangle( (0,0), 1, 1, fc = \"orange\", ec=None, alpha=ALPHA_FIT, lw=0.7) \n",
    "proxy1 = plt.Rectangle( (0,0), 1, 1, fc = \"#EFFF00\", ec=None, alpha=ALPHA_FIT, lw=0.7) \n",
    "\n",
    "leg = ax.legend([proxy1,proxy2], [r\"$1 \\sigma$\", r\"$3 \\sigma$\"], fontsize=fsize*0.85, frameon=False, loc=(0.078, 0.470), ncol=1)\n",
    "ax.add_artist(leg);\n",
    "ax.annotate('MiniBooNE', xy=(0.038,0.0016), fontsize=0.9*fsize, color = 'black' )\n",
    "ax.annotate('energy fit', xy=(0.043,0.001), fontsize=0.9*fsize, color = 'black' )\n",
    "\n",
    "plt.setp(leg.get_title(),fontsize=fsize*0.85)\n",
    "xu,yu = np.loadtxt(\"../digitized/Pedro_v3/upper_3_sigma.dat\", unpack=True)\n",
    "xl,yl = np.loadtxt(\"../digitized/Pedro_v3/low_3_sigma.dat\", unpack=True)\n",
    "x = np.logspace(np.log10(0.042), np.log10(0.68), 100)\n",
    "up = np.interp(x,xu,yu)\n",
    "low = np.interp(x,xl,yl)\n",
    "ax.fill_between(x, np.sqrt(low),np.sqrt(up), facecolor='orange', lw=0.0, alpha=ALPHA_FIT, label=r'$3 \\, \\sigma$')\n",
    "ax.fill_between(x, np.sqrt(low),np.sqrt(up), edgecolor='black', facecolor=\"None\", lw=0.1, linestyle = '-', alpha=ALPHA_FIT, label=r'$3 \\, \\sigma$')\n",
    "\n",
    "xu,yu = np.loadtxt(\"../digitized/Pedro_v3/upper_1_sigma.dat\", unpack=True)\n",
    "xl,yl = np.loadtxt(\"../digitized/Pedro_v3/low_1_sigma.dat\", unpack=True)\n",
    "x = np.logspace(np.log10(0.068), np.log10(0.21), 100)\n",
    "up = np.interp(x,xu,yu)\n",
    "low = np.interp(x,xl,yl)\n",
    "ax.fill_between(x, np.sqrt(low),np.sqrt(up), facecolor='#EFFF00', lw=0.7, alpha=ALPHA_FIT, label=r'$1 \\, \\sigma$')\n",
    "ax.fill_between(x, np.sqrt(low),np.sqrt(up), edgecolor='black', facecolor=\"None\", lw=0.1, linestyle = '-', alpha=ALPHA_FIT, label=r'$1 \\, \\sigma$')\n",
    " \n",
    "sensitivity_LE = np.load(\"../digitized/minerva_charm_limits/sensitivity_LE_vAugust2019.npy\")\n",
    "sensitivity_ME = np.load(\"../digitized/minerva_charm_limits/sensitivity_ME_vAugust2019.npy\")\n",
    "sensitivity_CH = np.load(\"../digitized/minerva_charm_limits/sensitivity_CH_vAugust2019.npy\")\n",
    "sensitivity_CH_bar = np.load(\"../digitized/minerva_charm_limits/sensitivity_CH_bar_vAugust2019.npy\")\n",
    "\n",
    "############################################################\n",
    "# Plot fit\n",
    "mheavy_LE, Umu42_LE, nevents_LE, chi2_LE = sensitivity_LE\n",
    "mheavy_ME, Umu42_ME, nevents_ME, chi2_ME = sensitivity_ME\n",
    "mheavy_CH, Umu42_CH, nevents_CH, chi2_CH = sensitivity_CH\n",
    "mheavy_CH, Umu42_CH, nevents_CH_bar, chi2_CH_bar = sensitivity_CH_bar\n",
    "\n",
    "chi2_CH = chi2_CH + chi2_CH_bar\n",
    "\n",
    "Nint= 100\n",
    "def plot_band(ax, mheavy, y, nevents, chi2, color_l, color, ls=1, alpha=0.1, label=''):\n",
    "\tmheavyl = np.log10(mheavy)\n",
    "\tyl = np.log10(y)\n",
    "\txi = np.logspace(mheavyl.min(), mheavyl.max(), Nint)\n",
    "\tyi = np.logspace(yl.min(), yl.max(), Nint)\n",
    "\n",
    "\tzi = scipy.interpolate.griddata((mheavy, y), chi2,\\\n",
    "\t\t\t\t\t\t\t\t\t(xi[None,:], yi[:,None]),\\\n",
    "\t\t\t\t\t\t\t\t\tmethod='linear', fill_value=\"Nan\", rescale=True)\n",
    "\n",
    "\t# zi_g = scipy.ndimage.filters.gaussian_filter(zi, 0.8, mode='nearest', order = 0, cval=0)\n",
    "\t# lw = 1.3\n",
    "\tContour = ax.contour(xi, yi, zi, [4.61],\\\n",
    "\t\t\t\t\t\tcolors=['None'], linewidths=0, linestyle=ls, alpha = alpha)\n",
    "\n",
    "\tl1 = Contour.collections[0].get_paths()[0].vertices  # grab the 1st path\n",
    "\n",
    "\txint = np.logspace(-1.44, 0, 100)\n",
    "\tf1 = np.interp(xint, l1[:,0], l1[:,1])\n",
    "\n",
    "\tl, = ax.plot(xint, f1, color=color_l, ls='-', lw=1.2, zorder=5, label=label)\n",
    "\tax.fill_between(xint, f1,np.ones(np.size(f1)), color=color, linewidth=0.0, alpha=alpha)\n",
    "\treturn l\n",
    "\n",
    "\n",
    "CHARM_COLOR = \"dodgerblue\"\n",
    "CHARM_COLOR_L = \"dodgerblue\"\n",
    "\n",
    "MINERVA_COLOR = \"green\"\n",
    "MINERVA_COLOR_L = \"darkgreen\"\n",
    "\n",
    "ME_COLOR = \"firebrick\"\n",
    "ME_COLOR_L = \"darkred\"\n",
    "\n",
    "l1 = plot_band(ax, mheavy_CH, np.sqrt(Umu42_CH), nevents_CH, chi2_CH, CHARM_COLOR_L, CHARM_COLOR, label = 'CHARM-II')\n",
    "# plot_band(ax, mheavy_LE, np.sqrt(Umu42_LE), nevents_LE, chi2_LE, label, MINERVA_COLOR_L, MINERVA_COLOR)\n",
    "l3 = plot_band(ax, mheavy_ME, np.sqrt(Umu42_ME), nevents_ME, chi2_ME, ME_COLOR_L, ME_COLOR, label = 'MINERvA ME')\n",
    "\n",
    "ax.legend(frameon=False, handles=[l1,l3], fontsize=0.8*fsize, loc='lower right')\n",
    "########################################\n",
    "# Other model-indepenedent limits\n",
    "ax.annotate(r\"Excluded\", xy=(0.12,0.04), fontsize=fsize, color = 'black' )\n",
    "x,y = np.loadtxt(\"../digitized/Pedros_paper/experimental_constraints.dat\", unpack=True)\n",
    "ax.fill_between(x, np.sqrt(y), np.ones(np.size(y)), hatch='\\\\\\\\\\\\\\\\\\\\\\\\\\\\\\\\',facecolor='None', alpha=0.5, lw=0.0)\n",
    "# ax.plot(x, np.sqrt(y), color='black', lw=0.5, hatch='///')\n",
    "\n",
    "\n",
    "########################################\n",
    "# TITLE\n",
    "ax.set_title(r\"$m_{Z^\\prime} = 30$ MeV,  $\\alpha\\varepsilon^2= 2 \\times 10^{-10}$,  $\\alpha_D = 1/4$\", fontsize=0.9*fsize)\n",
    "\n",
    "ax.set_xscale(\"log\")\n",
    "ax.set_yscale(\"log\")\n",
    "\n",
    "ax.set_xlabel(r\"$m_4$ (GeV)\", fontsize=fsize)\n",
    "ax.set_ylabel(r\"$|U_{\\mu4}|$\", fontsize=fsize)\n",
    "\n",
    "ax.set_xlim(0.0358,1.0)\n",
    "ax.set_ylim(1e-5,0.01)\n",
    "\n"
   ]
  },
  {
   "cell_type": "code",
   "execution_count": null,
   "metadata": {},
   "outputs": [],
   "source": []
  }
 ],
 "metadata": {
  "interpreter": {
   "hash": "aee8b7b246df8f9039afb4144a1f6fd8d2ca17a180786b69acc140d282b71a49"
  },
  "kernelspec": {
   "display_name": "Python [conda env:.conda-dark_nus]",
   "language": "python",
   "name": "python3"
  },
  "language_info": {
   "codemirror_mode": {
    "name": "ipython",
    "version": 3
   },
   "file_extension": ".py",
   "mimetype": "text/x-python",
   "name": "python",
   "nbconvert_exporter": "python",
   "pygments_lexer": "ipython3",
   "version": "3.9.9"
  }
 },
 "nbformat": 4,
 "nbformat_minor": 4
}
