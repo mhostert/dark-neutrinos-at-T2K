{
 "cells": [
  {
   "cell_type": "markdown",
   "metadata": {},
   "source": [
    "# This notebook is meant to study effects that depends on the lifetime"
   ]
  },
  {
   "cell_type": "code",
   "execution_count": 1,
   "metadata": {},
   "outputs": [],
   "source": [
    "%load_ext autoreload\n",
    "%autoreload 2"
   ]
  },
  {
   "cell_type": "code",
   "execution_count": 2,
   "metadata": {},
   "outputs": [],
   "source": [
    "from copy import deepcopy\n",
    "\n",
    "import matplotlib.pyplot as plt\n",
    "from matplotlib.legend_handler import HandlerLine2D, HandlerTuple\n",
    "from matplotlib.colors import LogNorm\n",
    "import numpy as np\n",
    "from scipy.interpolate import interp1d\n",
    "from scipy.optimize import root_scalar\n",
    "import pandas as pd\n",
    "\n",
    "import seaborn as sns\n",
    "from scipy.interpolate import griddata\n",
    "\n",
    "from ipywidgets import interact, interactive, fixed, interact_manual, FloatSlider, Dropdown\n",
    "import ipywidgets as widgets\n",
    "\n",
    "from parameters_dict import physics_parameters, likelihood_levels_1d\n",
    "from dark_nus_utils import load_datasets\n",
    "from plot_utils import kde_variable_plot\n",
    "from ctau_utils import ctau_heavy\n",
    "from analyses_dict import analyses\n",
    "from const import alphaQED\n",
    "from exp_analysis_class import full_likelihood\n",
    "from likelihood_contours_plot import set_plot_style, set_canvas_basic, set_plot_title, plot_data_from_analysis"
   ]
  },
  {
   "cell_type": "code",
   "execution_count": 3,
   "metadata": {},
   "outputs": [],
   "source": [
    "hierarchy = 'heavy'\n",
    "D_or_M = 'dirac'\n",
    "save_folder = (f'../fig/4_analysis_variables_plots/')\n",
    "!mkdir -p $save_folder\n",
    "save_folder = (f'../fig/4_analysis_variables_plots/{hierarchy}_{D_or_M}_')\n",
    "\n",
    "set_plot_style()"
   ]
  },
  {
   "cell_type": "markdown",
   "metadata": {},
   "source": [
    "## Use this to load the datasets in the usual way and dump them in pickle files"
   ]
  },
  {
   "cell_type": "code",
   "execution_count": 4,
   "metadata": {},
   "outputs": [],
   "source": [
    "# my_exp_analyses = load_datasets(hierarchy, D_or_M, \n",
    "#                                 timeit=True, \n",
    "#                                 direct_load_objects=False,\n",
    "#                                 dump=True,\n",
    "#                                 load_grid=False)"
   ]
  },
  {
   "cell_type": "markdown",
   "metadata": {},
   "source": [
    "## Use the function this way to load the datasets from the pickle files"
   ]
  },
  {
   "cell_type": "code",
   "execution_count": 5,
   "metadata": {},
   "outputs": [
    {
     "name": "stdout",
     "output_type": "stream",
     "text": [
      "heavy dirac FHC\n",
      "Wall time: 11.381417036056519 s, CPU time: 1.1573326579999996\n",
      "heavy dirac RHC\n",
      "Wall time: 11.352632999420166 s, CPU time: 1.1249152780000014\n"
     ]
    }
   ],
   "source": [
    "my_exp_analyses = load_datasets(hierarchy, D_or_M, \n",
    "                                timeit=True, \n",
    "                                direct_load_objects=True,\n",
    "                                load_grid=False)"
   ]
  },
  {
   "cell_type": "markdown",
   "metadata": {
    "jp-MarkdownHeadingCollapsed": true,
    "tags": []
   },
   "source": [
    "# N events"
   ]
  },
  {
   "cell_type": "code",
   "execution_count": 8,
   "metadata": {},
   "outputs": [
    {
     "name": "stdout",
     "output_type": "stream",
     "text": [
      "FHC\n",
      "RHC\n"
     ]
    },
    {
     "data": {
      "text/plain": [
       "(-0.8788594533304903, 0.28215876998376754, 6.895119755923508e-06)"
      ]
     },
     "execution_count": 8,
     "metadata": {},
     "output_type": "execute_result"
    }
   ],
   "source": [
    "this_point = deepcopy(physics_parameters[hierarchy]['bp'])\n",
    "full_likelihood(**this_point, \n",
    "                exp_analyses_objects=my_exp_analyses, \n",
    "                hierarchy=hierarchy, \n",
    "                D_or_M=D_or_M, \n",
    "                analyses=[analyses['tpc_light']], \n",
    "                like_normalized=False, \n",
    "                is_scan=True)"
   ]
  },
  {
   "cell_type": "code",
   "execution_count": 10,
   "metadata": {},
   "outputs": [
    {
     "name": "stdout",
     "output_type": "stream",
     "text": [
      "FHC\n",
      "RHC\n"
     ]
    }
   ],
   "source": [
    "this_point = deepcopy(physics_parameters[hierarchy]['bp'])\n",
    "out = full_likelihood(**this_point, \n",
    "                exp_analyses_objects=my_exp_analyses, \n",
    "                hierarchy=hierarchy, \n",
    "                D_or_M=D_or_M, \n",
    "                analyses=[analyses['nueccqe_fgd']], \n",
    "                like_normalized=False, \n",
    "                is_scan=True)"
   ]
  },
  {
   "cell_type": "code",
   "execution_count": 11,
   "metadata": {},
   "outputs": [
    {
     "data": {
      "text/plain": [
       "15.291036595478321"
      ]
     },
     "execution_count": 11,
     "metadata": {},
     "output_type": "execute_result"
    }
   ],
   "source": [
    "out[1].sum()"
   ]
  },
  {
   "cell_type": "markdown",
   "metadata": {
    "jp-MarkdownHeadingCollapsed": true,
    "tags": []
   },
   "source": [
    "# Detector plot"
   ]
  },
  {
   "cell_type": "code",
   "execution_count": 7,
   "metadata": {},
   "outputs": [],
   "source": [
    "from parameters_dict import *\n",
    "aux_binning = []\n",
    "for splits in detector_splitting_z.values():\n",
    "    aux_binning += np.linspace(*splits, 10).tolist()\n",
    "binning_z = np.array(aux_binning)"
   ]
  },
  {
   "cell_type": "code",
   "execution_count": 12,
   "metadata": {},
   "outputs": [
    {
     "name": "stderr",
     "output_type": "stream",
     "text": [
      "/n/home00/nfoppiani/.conda/envs/dark_nus/lib/python3.8/site-packages/numpy/lib/histograms.py:1122: RuntimeWarning: invalid value encountered in true_divide\n",
      "  hist = hist / dedges[i].reshape(shape)\n"
     ]
    },
    {
     "data": {
      "image/png": "[encoded data removed]",
      "text/plain": [
       "<Figure size 468x208.8 with 2 Axes>"
      ]
     },
     "metadata": {
      "needs_background": "light"
     },
     "output_type": "display_data"
    }
   ],
   "source": [
    "nu_mode = 'FHC'\n",
    "exp_analysis_obj = my_exp_analyses[f'{hierarchy}_{D_or_M}_{nu_mode}']\n",
    "df = exp_analysis_obj.df_base\n",
    "\n",
    "this_weights = exp_analysis_obj.compute_pot_ntarget_weights(df, \n",
    "                            ntarget_per_material=analyses['tpc'][nu_mode]['n_target'],\n",
    "                            pot=analyses['tpc'][nu_mode]['pot'])\n",
    "\n",
    "\n",
    "fig = plt.figure(figsize=(6.5,2.9))\n",
    "plt.hist2d(df['int_point_z'], df['int_point_x'], \n",
    "           bins=(binning_z, np.linspace(*detector_splitting_x[0], 20)), \n",
    "           weights=this_weights, norm=LogNorm(),\n",
    "           density=True);\n",
    "plt.xlabel('Upscattering vertex z [cm]')\n",
    "plt.ylabel('Upscattering vertex x [cm]')\n",
    "plt.colorbar()\n",
    "\n",
    "plt.savefig(save_folder + 'detector_vertex_2d.pdf', bbox_inches='tight')"
   ]
  },
  {
   "cell_type": "code",
   "execution_count": 14,
   "metadata": {},
   "outputs": [],
   "source": [
    "# ctaus = np.array([0.5, 0.2, 0.1])\n",
    "ctaus = np.array([100, 1, 0.01])\n",
    "\n",
    "nu_mode = 'FHC'\n",
    "aux = my_exp_analyses[f'{hierarchy}_{D_or_M}_{nu_mode}'].compute_expectation(\n",
    "                        my_exp_analyses[f'{hierarchy}_{D_or_M}_{nu_mode}'].df_base, \n",
    "                        m4=physics_parameters['heavy']['bp']['m4'], \n",
    "                        mz=physics_parameters['heavy']['bp']['mz'], \n",
    "                        alpha_dark=physics_parameters['heavy']['bp']['alpha_dark'], \n",
    "                        epsilon=physics_parameters['heavy']['bp']['epsilon'], \n",
    "                        Umu4_2=physics_parameters['heavy']['bp']['Umu4_2'], \n",
    "                        Ud4_2=None,\n",
    "                        external_ctau=ctaus,\n",
    "                        ntarget_per_material=analyses['tpc'][nu_mode]['n_target'], \n",
    "                        pot=analyses['tpc'][nu_mode]['pot'],\n",
    "                        selection_query=analyses['tpc'][nu_mode]['selection'],\n",
    "                        efficiency_factor=analyses['tpc'][nu_mode]['efficiency'])\n",
    "\n",
    "aux_noctau = my_exp_analyses[f'{hierarchy}_{D_or_M}_{nu_mode}'].compute_expectation(\n",
    "                        my_exp_analyses[f'{hierarchy}_{D_or_M}_{nu_mode}'].df_base, \n",
    "                        m4=physics_parameters['heavy']['bp']['m4'], \n",
    "                        mz=physics_parameters['heavy']['bp']['mz'], \n",
    "                        alpha_dark=physics_parameters['heavy']['bp']['alpha_dark'], \n",
    "                        epsilon=physics_parameters['heavy']['bp']['epsilon'], \n",
    "                        Umu4_2=physics_parameters['heavy']['bp']['Umu4_2'], \n",
    "                        Ud4_2=None,\n",
    "                        external_ctau=None,\n",
    "                        ntarget_per_material=analyses['tpc'][nu_mode]['n_target'], \n",
    "                        pot=analyses['tpc'][nu_mode]['pot'],\n",
    "                        selection_query=analyses['tpc'][nu_mode]['selection'],\n",
    "                        efficiency_factor=analyses['tpc'][nu_mode]['efficiency'])"
   ]
  },
  {
   "cell_type": "code",
   "execution_count": 7,
   "metadata": {},
   "outputs": [
    {
     "name": "stderr",
     "output_type": "stream",
     "text": [
      "findfont: Font family ['serif'] not found. Falling back to DejaVu Sans.\n"
     ]
    },
    {
     "data": {
      "image/png": "[encoded data removed]",
      "text/plain": [
       "<Figure size 504x208.8 with 1 Axes>"
      ]
     },
     "metadata": {
      "needs_background": "light"
     },
     "output_type": "display_data"
    }
   ],
   "source": [
    "fig = plt.figure(figsize=(7,2.9))\n",
    "\n",
    "binning = np.linspace(0, 600, 120)\n",
    "bin_width = binning[1]-binning[0]\n",
    "\n",
    "plt.gca().spines[\"right\"].set_visible(False)\n",
    "plt.gca().spines[\"top\"].set_visible(False)\n",
    "\n",
    "plt.hist(aux_noctau[0]['int_point_z'],\n",
    "         bins=binning,\n",
    "         weights=aux_noctau[1]/bin_width,\n",
    "         histtype='step',\n",
    "         color='navy',\n",
    "         label='preselection')\n",
    "\n",
    "colors = ['violet', 'dodgerblue', 'darkorange']\n",
    "for i, ctau in enumerate(ctaus):\n",
    "    plt.hist(aux[0]['int_point_z'],\n",
    "             bins=binning,\n",
    "             weights=aux[1][:, i]/bin_width,\n",
    "             histtype='step',\n",
    "             color=colors[i],\n",
    "             label=f'c$\\\\tau^0$ = {ctau:.3g} cm')\n",
    "plt.legend(frameon=False, ncol=2)\n",
    "plt.yscale('log')\n",
    "plt.ylim(1e-5, 2e1)\n",
    "plt.ylabel(f'Events/{bin_width:.2g} cm')\n",
    "plt.xlabel('Upscattering vertex [cm]')\n",
    "plt.xticks(np.linspace(0, 600, 13));\n",
    "# plt.savefig(save_folder+f'int_vertex_z.pdf', bbox_inches='tight')"
   ]
  },
  {
   "cell_type": "markdown",
   "metadata": {
    "jp-MarkdownHeadingCollapsed": true,
    "tags": []
   },
   "source": [
    "# Find the c$\\tau$ we exclude by varying $V_{ND}$"
   ]
  },
  {
   "cell_type": "code",
   "execution_count": 6,
   "metadata": {},
   "outputs": [],
   "source": [
    "V_N_2_s = np.geomspace(physics_parameters['heavy']['bp']['Umu4_2'], 1e2, 25)\n",
    "this_point = deepcopy(physics_parameters[hierarchy]['bp'])\n",
    "this_point['Ud4_2'] = V_N_2_s\n",
    "\n",
    "ctaus = ctau_heavy(m4=this_point['m4'],\n",
    "                   mz=this_point['mz'], \n",
    "                   Valpha4_alphaepsilon2=this_point['alpha_dark'] * this_point['Ud4_2'] * alphaQED * this_point['epsilon']**2, \n",
    "                   D_or_M=D_or_M)\n",
    "\n",
    "leff = np.zeros(V_N_2_s.shape)\n",
    "mu_s = np.zeros(V_N_2_s.shape)\n",
    "sigma2_s = np.zeros(V_N_2_s.shape)\n",
    "for nu_mode in ['FHC', 'RHC']:\n",
    "    aux = my_exp_analyses[f'{hierarchy}_{D_or_M}_{nu_mode}'].compute_likelihood_from_pars(\n",
    "                                 my_exp_analyses[f'{hierarchy}_{D_or_M}_{nu_mode}'].df_base, \n",
    "                                 **this_point, \n",
    "                                 analysis=analyses['tpc'][nu_mode], \n",
    "                                 like_normalized=True)\n",
    "    leff += aux[0]\n",
    "    mu_s += aux[1]\n",
    "    sigma2_s += aux[3]\n",
    "\n",
    "leff -= leff.min()"
   ]
  },
  {
   "cell_type": "code",
   "execution_count": 7,
   "metadata": {},
   "outputs": [],
   "source": [
    "like_interp = interp1d(ctaus, leff-likelihood_levels_1d[0.9], kind='cubic')\n",
    "r1 = root_scalar(like_interp, method='brentq', bracket=[1e-2, 1], \n",
    "                 fprime=None, fprime2=None, x0=0.2, x1=0.15)\n",
    "r2 = root_scalar(like_interp, method='brentq', bracket=[1e3, 1e5], \n",
    "                 fprime=None, fprime2=None, x0=1e4, x1=2e4)"
   ]
  },
  {
   "cell_type": "code",
   "execution_count": 8,
   "metadata": {},
   "outputs": [
    {
     "name": "stdout",
     "output_type": "stream",
     "text": [
      "0.2523937180016676\n"
     ]
    }
   ],
   "source": [
    "print(r1.root)"
   ]
  },
  {
   "cell_type": "code",
   "execution_count": 9,
   "metadata": {},
   "outputs": [
    {
     "data": {
      "text/plain": [
       "(-1.0, 1.0)"
      ]
     },
     "execution_count": 9,
     "metadata": {},
     "output_type": "execute_result"
    },
    {
     "data": {
      "image/png": "[encoded data removed]",
      "text/plain": [
       "<Figure size 319.68x204.051 with 1 Axes>"
      ]
     },
     "metadata": {
      "needs_background": "light"
     },
     "output_type": "display_data"
    }
   ],
   "source": [
    "plt.plot(np.geomspace(1e-2, 1e5, 50), like_interp(np.geomspace(1e-2, 1e5, 50)))\n",
    "plt.plot(ctaus, leff-likelihood_levels_1d[0.9])\n",
    "plt.xscale('log')\n",
    "# plt.yscale('log')\n",
    "plt.ylim(-1, 1)"
   ]
  },
  {
   "cell_type": "code",
   "execution_count": 10,
   "metadata": {},
   "outputs": [
    {
     "data": {
      "text/plain": [
       "(0.01, 500.0)"
      ]
     },
     "execution_count": 10,
     "metadata": {},
     "output_type": "execute_result"
    },
    {
     "name": "stderr",
     "output_type": "stream",
     "text": [
      "<ipython-input-10-e7e1142de228>:16: RuntimeWarning: divide by zero encountered in log\n",
      "  return np.exp(backward_fun(np.log(x)))\n",
      "<ipython-input-10-e7e1142de228>:16: RuntimeWarning: divide by zero encountered in log\n",
      "  return np.exp(backward_fun(np.log(x)))\n"
     ]
    },
    {
     "data": {
      "image/png": "[encoded data removed]",
      "text/plain": [
       "<Figure size 319.68x204.051 with 1 Axes>"
      ]
     },
     "metadata": {
      "needs_background": "light"
     },
     "output_type": "display_data"
    }
   ],
   "source": [
    "from scipy.interpolate import UnivariateSpline\n",
    "\n",
    "ax = set_canvas_basic()\n",
    "ax.set_xlabel('$c\\\\tau^0$ [cm]')\n",
    "ax.set_ylabel('Expected events in Analysis-I')\n",
    "ax.set_xscale('log')\n",
    "ax.set_yscale('log')\n",
    "\n",
    "forward_fun = UnivariateSpline(np.log(ctaus[::-1]), np.log(V_N_2_s[::-1]), k=1)\n",
    "backward_fun = UnivariateSpline(np.log(V_N_2_s), np.log(ctaus), k=1)\n",
    "\n",
    "def forward(x):\n",
    "    return np.exp(forward_fun(np.log(x)))\n",
    "\n",
    "def backward(x):\n",
    "    return np.exp(backward_fun(np.log(x)))\n",
    "\n",
    "secax = ax.secondary_xaxis('top', functions=(forward, backward))\n",
    "secax.set_xlabel('$|V_N|^2$')\n",
    "secax.set_ticks\n",
    "\n",
    "ax.fill_betweenx([1e-2, 1e4], \n",
    "                 backward(physics_parameters['heavy']['bp']['Umu4_2']), backward(1), \n",
    "                 color='darkorange', alpha=0.1)\n",
    "ax.annotate('Physical\\n region', color='darkorange', xy=(5e4, 5e1))\n",
    "\n",
    "ax.fill_between(ctaus, mu_s-np.sqrt(sigma2_s), mu_s+np.sqrt(sigma2_s), \n",
    "                color='C0', alpha=0.3, label='number of events')\n",
    "ax.vlines(r1.root, 0, 1e4, color='dodgerblue', ls='--')\n",
    "ax.vlines(r2.root, 0, 1e4, color='dodgerblue', ls='--')\n",
    "ax.annotate('Excluded region', color='dodgerblue', xy=(1, 1e-1))\n",
    "ax.set_ylim(1e-2, 5e2)\n",
    "\n",
    "# plt.savefig(save_folder+'n_events_vs_ctau_vs_V_ND.pdf', bbox_inches='tight')\n",
    "# plt.savefig(save_folder+'n_events_vs_ctau_vs_V_ND.png', bbox_inches='tight', transparent=True, dpi=500)"
   ]
  },
  {
   "cell_type": "markdown",
   "metadata": {
    "tags": []
   },
   "source": [
    "# Varying the upscattering rate $|V_{\\mu N}|^2$"
   ]
  },
  {
   "cell_type": "code",
   "execution_count": 11,
   "metadata": {},
   "outputs": [
    {
     "name": "stderr",
     "output_type": "stream",
     "text": [
      "/n/home00/nfoppiani/projects/dark_nus/exp_analysis/const.py:41: RuntimeWarning: divide by zero encountered in true_divide\n",
      "  return 1.0/G*invGeV_to_cm\n"
     ]
    }
   ],
   "source": [
    "this_point = deepcopy(physics_parameters[hierarchy]['bp'])\n",
    "this_point['epsilon'] = 0\n",
    "base_like = full_likelihood(**this_point, \n",
    "                exp_analyses_objects=my_exp_analyses, \n",
    "                hierarchy=hierarchy, \n",
    "                D_or_M=D_or_M, \n",
    "                analyses=[analyses['tpc']], \n",
    "                like_normalized=False, \n",
    "                is_scan=True)[0]\n",
    "base_like *= -1"
   ]
  },
  {
   "cell_type": "code",
   "execution_count": 12,
   "metadata": {},
   "outputs": [],
   "source": [
    "from scipy.optimize import curve_fit\n",
    "\n",
    "def f_fit(ups, t0, c):\n",
    "    return t0/(np.log10(ups) - c)"
   ]
  },
  {
   "cell_type": "code",
   "execution_count": 13,
   "metadata": {},
   "outputs": [
    {
     "name": "stdout",
     "output_type": "stream",
     "text": [
      "562.8474749005045\n"
     ]
    }
   ],
   "source": [
    "this_point = deepcopy(physics_parameters[hierarchy]['bp'])\n",
    "this_point['external_ctau'] = None\n",
    "print(full_likelihood(**this_point, \n",
    "                exp_analyses_objects=my_exp_analyses, \n",
    "                hierarchy=hierarchy, \n",
    "                D_or_M=D_or_M, \n",
    "                analyses=[analyses['tpc']], \n",
    "                like_normalized=False, \n",
    "                is_scan=True)[1])"
   ]
  },
  {
   "cell_type": "markdown",
   "metadata": {},
   "source": [
    "## Multiple m4, mz"
   ]
  },
  {
   "cell_type": "code",
   "execution_count": 14,
   "metadata": {},
   "outputs": [
    {
     "name": "stdout",
     "output_type": "stream",
     "text": [
      "556.3121179848381\n"
     ]
    }
   ],
   "source": [
    "this_point = deepcopy(physics_parameters[hierarchy]['bp'])\n",
    "this_point['m4'] = 0.3\n",
    "this_point['mz'] = 0.9\n",
    "this_point['external_ctau'] = None\n",
    "print(full_likelihood(**this_point, \n",
    "                exp_analyses_objects=my_exp_analyses, \n",
    "                hierarchy=hierarchy, \n",
    "                D_or_M=D_or_M, \n",
    "                analyses=[analyses['tpc']], \n",
    "                like_normalized=False, \n",
    "                is_scan=True)[1])"
   ]
  },
  {
   "cell_type": "code",
   "execution_count": 15,
   "metadata": {},
   "outputs": [
    {
     "name": "stdout",
     "output_type": "stream",
     "text": [
      "102.6210102470533\n"
     ]
    }
   ],
   "source": [
    "this_point = deepcopy(physics_parameters[hierarchy]['bp'])\n",
    "this_point['m4'] = 0.05\n",
    "this_point['mz'] = 2\n",
    "this_point['external_ctau'] = None\n",
    "print(full_likelihood(**this_point, \n",
    "                exp_analyses_objects=my_exp_analyses, \n",
    "                hierarchy=hierarchy, \n",
    "                D_or_M=D_or_M, \n",
    "                analyses=[analyses['tpc']], \n",
    "                like_normalized=False, \n",
    "                is_scan=True)[1])"
   ]
  },
  {
   "cell_type": "code",
   "execution_count": 16,
   "metadata": {},
   "outputs": [],
   "source": [
    "def interp_and_find_root(like, ctaus):\n",
    "    like_sign = np.sign(like)\n",
    "    like_sign_change = np.roll(like_sign, 1) != like_sign\n",
    "    like_sign_change[0] = False\n",
    "    out = (np.inf, np.inf)\n",
    "    if like_sign_change.sum() != 0:\n",
    "        like_interp = interp1d(ctaus, like, kind='cubic')\n",
    "        pos1 = np.where(like_sign_change)[0][0]-1\n",
    "        ctau_1 = root_scalar(like_interp, method='brentq', \n",
    "                      bracket=[ctaus[pos1], ctaus[pos1+1]], \n",
    "                      fprime=None, fprime2=None, x0=(ctaus[pos1]+ctaus[pos1+1])/2).root\n",
    "        if like_sign_change.sum() == 2:\n",
    "            pos2 = np.where(like_sign_change)[0][1]-1\n",
    "            ctau_2 = root_scalar(like_interp, method='brentq', \n",
    "                      bracket=[ctaus[pos2], ctaus[pos2+1]], \n",
    "                      fprime=None, fprime2=None, x0=(ctaus[pos2]+ctaus[pos2+1])/2).root\n",
    "            out = (ctau_1, ctau_2)\n",
    "        else:\n",
    "            out = (0, ctau_1)\n",
    "    return out"
   ]
  },
  {
   "cell_type": "code",
   "execution_count": 95,
   "metadata": {},
   "outputs": [],
   "source": [
    "# m4_s = [0.2, physics_parameters[hierarchy]['bp']['m4'], 0.05]\n",
    "# m4_s = [0.2, physics_parameters[hierarchy]['bp']['m4'], 0.05, 0.025]\n",
    "m4_s = [0.8, 0.5, 0.3, 0.1]\n",
    "mz_s = [physics_parameters[hierarchy]['bp']['mz']]*len(m4_s)\n",
    "\n",
    "# m4_s = [physics_parameters[hierarchy]['bp']['m4']]*3\n",
    "# mz_s = [0.9, physics_parameters[hierarchy]['bp']['mz'], 2]\n",
    "\n",
    "# m4_s = [physics_parameters[hierarchy]['bp']['m4']]\n",
    "# mz_s = [physics_parameters[hierarchy]['bp']['mz']]"
   ]
  },
  {
   "cell_type": "code",
   "execution_count": null,
   "metadata": {},
   "outputs": [
    {
     "name": "stdout",
     "output_type": "stream",
     "text": [
      "0.8 1.25\n"
     ]
    }
   ],
   "source": [
    "ctau_0_s = []\n",
    "rate_no_ctau = []\n",
    "for m4, mz in zip(m4_s, mz_s):\n",
    "    print(m4, mz)\n",
    "    this_point = deepcopy(physics_parameters[hierarchy]['bp'])\n",
    "    this_point['m4'] = m4\n",
    "    this_point['mz'] = mz\n",
    "    this_point['external_ctau'] = None\n",
    "    base_rate = full_likelihood(**this_point, \n",
    "                exp_analyses_objects=my_exp_analyses, \n",
    "                hierarchy=hierarchy, \n",
    "                D_or_M=D_or_M, \n",
    "                analyses=[analyses['tpc']], \n",
    "                like_normalized=False, \n",
    "                is_scan=True)[1]\n",
    "    \n",
    "    Umu4_2_scale_factors = np.concatenate([np.linspace(6/base_rate, 12/base_rate, 12), np.geomspace(20/base_rate, 1e5/base_rate, 20)], axis=0)\n",
    "    this_point['Umu4_2'] = this_point['Umu4_2']*Umu4_2_scale_factors\n",
    "     \n",
    "    this_point['external_ctau'] = None\n",
    "    rate_no_ctau.append(full_likelihood(**this_point, \n",
    "                exp_analyses_objects=my_exp_analyses, \n",
    "                hierarchy=hierarchy, \n",
    "                D_or_M=D_or_M, \n",
    "                analyses=[analyses['tpc']], \n",
    "                like_normalized=False, \n",
    "                is_scan=True)[1])\n",
    "    \n",
    "    this_point['external_ctau'] = np.geomspace(0.02, 100000, 30)\n",
    "    like_ctau = full_likelihood(**this_point, \n",
    "                exp_analyses_objects=my_exp_analyses, \n",
    "                hierarchy=hierarchy, \n",
    "                D_or_M=D_or_M, \n",
    "                analyses=[analyses['tpc']], \n",
    "                like_normalized=False, \n",
    "                is_scan=True)[0]\n",
    "    like_ctau *= -1\n",
    "    like_ctau -= base_like\n",
    "    like_ctau -= likelihood_levels_1d[0.9]\n",
    "    ctau_0_s.append(np.apply_along_axis(interp_and_find_root, 1, like_ctau, this_point['external_ctau']))"
   ]
  },
  {
   "cell_type": "code",
   "execution_count": 100,
   "metadata": {},
   "outputs": [
    {
     "data": {
      "image/png": "[encoded data removed]",
      "text/plain": [
       "<Figure size 319.68x204.051 with 1 Axes>"
      ]
     },
     "metadata": {
      "needs_background": "light"
     },
     "output_type": "display_data"
    }
   ],
   "source": [
    "fig = plt.figure()\n",
    "axes_form = [0.17,0.19,0.81,0.64]\n",
    "ax = fig.add_axes(axes_form)\n",
    "colors = ['dodgerblue', 'deepskyblue', 'navy', 'purple']\n",
    "for m4, mz, ctau_0, rate, color in zip(m4_s, mz_s, ctau_0_s, rate_no_ctau, colors):\n",
    "    ax.fill_between(rate,\n",
    "                    ctau_0[:, 0],\n",
    "                    ctau_0[:, 1],\n",
    "                    color=color,\n",
    "                    alpha=0.1,\n",
    "                    label=f'$m_N$ = {m4} GeV, $m_{{Z^\\prime}}$ = {mz} GeV')\n",
    "\n",
    "mask = (~np.isinf(ctau_0_s[1][:, 0])) & (ctau_0_s[1][:, 0]!=0) & (rate_no_ctau[1]>10) \n",
    "out_fit_rate = curve_fit(f_fit, rate_no_ctau[1][mask], ctau_0_s[1][:, 0][mask], p0=(0.1, 1))\n",
    "ax.plot(rate_no_ctau[1][mask],\n",
    "        f_fit(rate_no_ctau[1][mask], *out_fit_rate[0]),\n",
    "        '--',\n",
    "        color='dodgerblue',\n",
    "        label=f'{out_fit_rate[0][0]:.2g} cm/($\\log_{{10}}$(event rate) - {out_fit_rate[0][1]:.2g})')\n",
    "\n",
    "ax.legend(bbox_to_anchor=[1.8, 1])\n",
    "ax.set_xlabel('Event rate')\n",
    "ax.set_ylabel(r'$c \\tau^0$ [cm]')\n",
    "ax.set_xscale('log')\n",
    "ax.set_yscale('log')\n",
    "# plt.savefig(save_folder + 'ctau_vs_rate_three_points_shaded_varying_mn_4points.pdf', bbox_inches='tight')"
   ]
  },
  {
   "cell_type": "code",
   "execution_count": 101,
   "metadata": {},
   "outputs": [
    {
     "data": {
      "text/plain": [
       "Text(0.0, 1.0, 'Analysis-I, $m_{Z^\\\\prime}$ = 1.25 GeV')"
      ]
     },
     "execution_count": 101,
     "metadata": {},
     "output_type": "execute_result"
    },
    {
     "data": {
      "image/png": "[encoded data removed]",
      "text/plain": [
       "<Figure size 319.68x204.051 with 1 Axes>"
      ]
     },
     "metadata": {
      "needs_background": "light"
     },
     "output_type": "display_data"
    }
   ],
   "source": [
    "fig = plt.figure()\n",
    "axes_form = [0.17,0.19,0.81,0.64]\n",
    "ax = fig.add_axes(axes_form)\n",
    "colors = ['lightblue', 'dodgerblue', 'navy', 'purple']\n",
    "for i, (m4, ctau_0, rate, color) in enumerate(zip(m4_s, ctau_0_s, rate_no_ctau, colors)):\n",
    "    x_s = np.concatenate((rate[::-1], rate))\n",
    "    y_s = np.concatenate((ctau_0[:, 0][::-1], ctau_0[:, 1]))\n",
    "    mask = ~np.isinf(y_s)\n",
    "    ax.plot(x_s[mask], y_s[mask],\n",
    "            color=color,\n",
    "            label=f'$m_N$ = {m4} GeV')\n",
    "\n",
    "ax.legend()\n",
    "ax.set_xlabel('Event rate')\n",
    "ax.set_ylabel(r'$c \\tau^0$ [cm]')\n",
    "ax.set_xscale('log')\n",
    "ax.set_yscale('log')\n",
    "ax.set_title(f'Analysis-I, $m_{{Z^\\prime}}$ = {mz_s[0]} GeV', loc='left')\n",
    "# plt.savefig(save_folder + 'ctau_vs_rate_4points_noshade.pdf')"
   ]
  },
  {
   "cell_type": "code",
   "execution_count": 104,
   "metadata": {
    "tags": []
   },
   "outputs": [
    {
     "data": {
      "image/png": "[encoded data removed]",
      "text/plain": [
       "<Figure size 319.68x204.051 with 1 Axes>"
      ]
     },
     "metadata": {
      "needs_background": "light"
     },
     "output_type": "display_data"
    }
   ],
   "source": [
    "fig = plt.figure()\n",
    "axes_form = [0.17,0.19,0.81,0.64]\n",
    "ax = fig.add_axes(axes_form)\n",
    "ax.set_xscale('log')\n",
    "\n",
    "colors = ['lightblue', 'dodgerblue', 'navy', 'purple']\n",
    "\n",
    "for m4, mz, ctau_0, rate, color in zip(m4_s, mz_s, ctau_0_s, rate_no_ctau, colors):\n",
    "    mask = (~np.isinf(ctau_0[:, 0])) & (ctau_0[:, 0]!=0) \n",
    "    ax.plot(rate[mask],\n",
    "            ctau_0[:, 0][mask], \n",
    "            '.',\n",
    "            color=color,\n",
    "            label=f'$m_N$ = {m4} GeV')\n",
    "    \n",
    "    out_fit_rate = curve_fit(f_fit, rate[mask], ctau_0[:, 0][mask], p0=(0.1, 0.5))\n",
    "    ax.plot(rate[mask],\n",
    "            f_fit(rate[mask], *out_fit_rate[0]),\n",
    "            '--',\n",
    "            color=color,\n",
    "            label=f'{out_fit_rate[0][0]:.2g} cm/($\\log_{{10}}$(event rate) - {out_fit_rate[0][1]:.2g})')\n",
    "\n",
    "ax.legend(bbox_to_anchor=[1.8, 1])\n",
    "ax.set_title(f'Analysis-I, $m_{{Z^\\prime}}$ = {mz_s[0]} GeV', loc='left')\n",
    "ax.set_xlabel('Event rate')\n",
    "ax.set_ylabel(r'$c \\tau^0_{min}$ [cm]')\n",
    "ax.set_yscale('log')\n",
    "plt.savefig(save_folder + 'ctau_vs_rate_4points_with_fit_large_mn.pdf', bbox_inches='tight')"
   ]
  },
  {
   "cell_type": "code",
   "execution_count": 102,
   "metadata": {},
   "outputs": [
    {
     "data": {
      "text/plain": [
       "Text(0.5, 1.0, 'Event rate, from low to high')"
      ]
     },
     "execution_count": 102,
     "metadata": {},
     "output_type": "execute_result"
    },
    {
     "data": {
      "image/png": "[encoded data removed]",
      "text/plain": [
       "<Figure size 319.68x204.051 with 1 Axes>"
      ]
     },
     "metadata": {
      "needs_background": "light"
     },
     "output_type": "display_data"
    }
   ],
   "source": [
    "ax = set_canvas_basic()\n",
    "\n",
    "for i, rate in enumerate(rate_no_ctau[0]):\n",
    "    # print([ctau_0_s[j][i, 0] for j in range(len(ctau_0_s))])\n",
    "    ax.plot(m4_s, [ctau_0_s[j][i, 0] for j in range(len(ctau_0_s))])\n",
    "    \n",
    "ax.set_xlabel(r'$m_N$ [GeV]')\n",
    "ax.set_ylabel(r'$c \\tau^0_{min}$ [cm]')\n",
    "ax.set_title('Event rate, from low to high')\n",
    "# ax.set_yscale('log')"
   ]
  },
  {
   "cell_type": "code",
   "execution_count": 53,
   "metadata": {
    "collapsed": true,
    "jupyter": {
     "outputs_hidden": true,
     "source_hidden": true
    },
    "tags": []
   },
   "outputs": [
    {
     "data": {
      "image/png": "[encoded data removed]",
      "text/plain": [
       "<Figure size 319.68x204.051 with 1 Axes>"
      ]
     },
     "metadata": {
      "needs_background": "light"
     },
     "output_type": "display_data"
    }
   ],
   "source": [
    "fig = plt.figure()\n",
    "axes_form = [0.17,0.19,0.81,0.64]\n",
    "ax = fig.add_axes(axes_form)\n",
    "ax.set_xscale('log')\n",
    "\n",
    "colors = ['dodgerblue', 'deepskyblue', 'navy']\n",
    "for m4, mz, ctau_0_min, rate, color in zip(m4_s, mz_s, ctau_0_min_s, rate_no_ctau, colors):\n",
    "    ax.fill_between(rate,\n",
    "                    ctau_0_min,\n",
    "                    100,\n",
    "                    color=color,\n",
    "                    alpha=0.1,\n",
    "                    label=f'$m_N$ = {m4} GeV, $m_{{Z^\\prime}}$ = {mz} GeV')\n",
    "    \n",
    "out_fit_rate = curve_fit(f_fit, rate_no_ctau[0], ctau_0_min_s[0], p0=(0.1, 1))\n",
    "ax.plot(rate_no_ctau[0],\n",
    "        f_fit(rate_no_ctau[0], *out_fit_rate[0]),\n",
    "        '--',\n",
    "        color='dodgerblue',\n",
    "        label=f'{out_fit_rate[0][0]:.2g} cm/($\\log_{{10}}$(event rate) - {out_fit_rate[0][1]:.2g})')\n",
    "\n",
    "ax.legend(bbox_to_anchor=[1.8, 1])\n",
    "ax.set_xlabel('Event rate')\n",
    "ax.set_ylabel(r'$c \\tau^0$ [cm]')\n",
    "ax.set_ylim(0, 8)\n",
    "plt.savefig(save_folder + 'ctau_vs_rate_three_points_shaded_only_min.pdf', bbox_inches='tight')"
   ]
  },
  {
   "cell_type": "markdown",
   "metadata": {
    "jp-MarkdownHeadingCollapsed": true,
    "tags": []
   },
   "source": [
    "# Old material"
   ]
  },
  {
   "cell_type": "code",
   "execution_count": 10,
   "metadata": {
    "tags": []
   },
   "outputs": [],
   "source": [
    "ctau_0_min_s = []\n",
    "rate_no_ctau = []\n",
    "for V_muN_2 in V_muN_2_s:\n",
    "    aux = {}\n",
    "    aux_rate_no_ctau = 0\n",
    "    this_point = deepcopy(physics_parameters[hierarchy]['bp'])\n",
    "    this_point['Umu4_2'] = V_muN_2\n",
    "    \n",
    "    for nu_mode in ['FHC', 'RHC']:\n",
    "        this_point['external_ctau'] = None\n",
    "        aux_rate_no_ctau += my_exp_analyses[f'{hierarchy}_{D_or_M}_{nu_mode}'].compute_likelihood_from_pars(\n",
    "                                     my_exp_analyses[f'{hierarchy}_{D_or_M}_{nu_mode}'].df_base, \n",
    "                                     **this_point, \n",
    "                                     analysis=analysis_tpc_no_argon[nu_mode], \n",
    "                                     like_normalized=False)[1]\n",
    "        \n",
    "        this_point['external_ctau'] = np.geomspace(0.001, 100, 20)\n",
    "        aux[nu_mode] = my_exp_analyses[f'{hierarchy}_{D_or_M}_{nu_mode}'].compute_likelihood_from_pars(\n",
    "                                     my_exp_analyses[f'{hierarchy}_{D_or_M}_{nu_mode}'].df_base, \n",
    "                                     **this_point, \n",
    "                                     analysis=analysis_tpc_no_argon[nu_mode], \n",
    "                                     like_normalized=False)\n",
    "    \n",
    "    rate_no_ctau.append(aux_rate_no_ctau)\n",
    "    leff = aux['FHC'][0] + aux['RHC'][0]\n",
    "    leff *= -1\n",
    "    leff -= base_like\n",
    "    like_interp = interp1d(this_point['external_ctau'], \n",
    "                           leff-likelihood_levels_1d[0.9], \n",
    "                           kind='cubic')\n",
    "    try:\n",
    "        aux = root_scalar(like_interp, method='brentq', \n",
    "                          bracket=[this_point['external_ctau'][0], this_point['external_ctau'][-1]], \n",
    "                          fprime=None, fprime2=None, x0=(this_point['external_ctau'][0]+this_point['external_ctau'][-1])/2).root\n",
    "    except:\n",
    "        aux = None\n",
    "    ctau_0_min_s.append(aux)"
   ]
  },
  {
   "cell_type": "code",
   "execution_count": 11,
   "metadata": {},
   "outputs": [],
   "source": [
    "from scipy.optimize import curve_fit\n",
    "\n",
    "def f_fit(ups, t0, c):\n",
    "    return t0/(np.log10(ups) - c)\n",
    "\n",
    "def f_fit_adv(ups, t0, c, gamma):\n",
    "    return t0/(np.log10(ups) - np.log10(1-gamma*ups) - c)"
   ]
  },
  {
   "cell_type": "code",
   "execution_count": 12,
   "metadata": {},
   "outputs": [],
   "source": [
    "out_fit = curve_fit(f_fit, V_muN_2_s, ctau_0_min_s, p0=(1, -8.5))"
   ]
  },
  {
   "cell_type": "code",
   "execution_count": 82,
   "metadata": {},
   "outputs": [],
   "source": [
    "out_fit_rate = curve_fit(f_fit, rate_no_ctau, ctau_0_min_s, p0=(0.1, 1))"
   ]
  },
  {
   "cell_type": "code",
   "execution_count": 83,
   "metadata": {},
   "outputs": [
    {
     "data": {
      "text/plain": [
       "(array([0.85438476, 0.97338253]),\n",
       " array([[ 0.00401608, -0.00117395],\n",
       "        [-0.00117395,  0.00041316]]))"
      ]
     },
     "execution_count": 83,
     "metadata": {},
     "output_type": "execute_result"
    }
   ],
   "source": [
    "out_fit_rate"
   ]
  },
  {
   "cell_type": "code",
   "execution_count": 26,
   "metadata": {
    "tags": []
   },
   "outputs": [
    {
     "data": {
      "image/png": "[encoded data removed]",
      "text/plain": [
       "<Figure size 319.68x204.051 with 1 Axes>"
      ]
     },
     "metadata": {
      "needs_background": "light"
     },
     "output_type": "display_data"
    }
   ],
   "source": [
    "fig = plt.figure()\n",
    "axes_form = [0.17,0.19,0.81,0.64]\n",
    "ax = fig.add_axes(axes_form)\n",
    "ax.set_xscale('log')\n",
    "ax.plot(rate_no_ctau,\n",
    "        ctau_0_min_s, \n",
    "        '.',)\n",
    "\n",
    "ax.plot(rate_no_ctau,\n",
    "        f_fit(rate_no_ctau, *out_fit_rate[0]),\n",
    "        '--',\n",
    "        color='dodgerblue',\n",
    "        label=f'{out_fit_rate[0][0]:.2g} cm/($\\log_{{10}}$(event rate) - {out_fit_rate[0][1]:.2g})')\n",
    "ax.legend()\n",
    "ax.set_xlabel('Event rate')\n",
    "ax.set_ylabel(r'$c \\tau^0_{min}$ [cm]')\n",
    "\n",
    "this_point_for_title = deepcopy(this_point)\n",
    "this_point_for_title['Umu4_2'] = None\n",
    "this_point_for_title['Ud4_2'] = None\n",
    "this_point_for_title['alpha_dark'] = None\n",
    "this_point_for_title['epsilon'] = None\n",
    "this_point_for_title['external_ctau'] = None\n",
    "set_plot_title(ax, \n",
    "               **this_point_for_title\n",
    "               )\n",
    "\n",
    "# plt.savefig(save_folder + 'ctau_vs_rate_final.pdf')"
   ]
  },
  {
   "cell_type": "code",
   "execution_count": 18,
   "metadata": {},
   "outputs": [
    {
     "data": {
      "image/png": "[encoded data removed]",
      "text/plain": [
       "<Figure size 319.68x204.051 with 1 Axes>"
      ]
     },
     "metadata": {
      "needs_background": "light"
     },
     "output_type": "display_data"
    }
   ],
   "source": [
    "fig = plt.figure()\n",
    "axes_form = [0.17,0.19,0.81,0.64]\n",
    "ax = fig.add_axes(axes_form)\n",
    "ax.set_xscale('log')\n",
    "ax.plot(V_muN_2_s,\n",
    "        ctau_0_min_s, \n",
    "        '.')\n",
    "\n",
    "ax.plot(V_muN_2_s,\n",
    "        f_fit(V_muN_2_s, *out_fit[0]),\n",
    "        '--',\n",
    "        color='dodgerblue',\n",
    "        label=f'{out_fit[0][0]:.2g} cm/($\\log_{{10}}|V_{{\\mu N}}|^2$ {out_fit[0][1]:.2g})')\n",
    "\n",
    "ax.legend()\n",
    "ax.set_xlabel(r'$|V_{\\mu N}|^2$')\n",
    "ax.set_ylabel(r'$c \\tau^0_{min}$ [cm]')\n",
    "\n",
    "this_point_for_title = deepcopy(this_point)\n",
    "this_point_for_title['Umu4_2'] = None\n",
    "this_point_for_title['Ud4_2'] = None\n",
    "this_point_for_title['alpha_dark'] = None\n",
    "this_point_for_title['epsilon'] = None\n",
    "this_point_for_title['external_ctau'] = None\n",
    "set_plot_title(ax, \n",
    "               **this_point_for_title\n",
    "               )\n",
    "\n",
    "# plt.savefig(save_folder + 'ctau_vs_rate_final.pdf')"
   ]
  },
  {
   "cell_type": "code",
   "execution_count": 99,
   "metadata": {},
   "outputs": [],
   "source": [
    "def f_fit_mixture(tau, c, alpha, t1, t2):\n",
    "    return c/(alpha*np.exp(-t1/tau) + (1-alpha)*np.exp(-t2/tau))"
   ]
  },
  {
   "cell_type": "code",
   "execution_count": 113,
   "metadata": {},
   "outputs": [],
   "source": [
    "out_fit_mix = curve_fit(f_fit_mixture, ctau_0_min_s, rate_no_ctau, p0=(15, 0.6, 0.8, 3), bounds=((0, 0, 0, 0), (np.inf, 1, np.inf, np.inf)))"
   ]
  },
  {
   "cell_type": "code",
   "execution_count": 114,
   "metadata": {},
   "outputs": [
    {
     "data": {
      "text/plain": [
       "array([14.31862834,  0.13804614,  0.49668912,  1.89535579])"
      ]
     },
     "execution_count": 114,
     "metadata": {},
     "output_type": "execute_result"
    }
   ],
   "source": [
    "out_fit_mix[0]"
   ]
  },
  {
   "cell_type": "code",
   "execution_count": 116,
   "metadata": {},
   "outputs": [
    {
     "name": "stderr",
     "output_type": "stream",
     "text": [
      "No handles with labels found to put in legend.\n"
     ]
    },
    {
     "data": {
      "image/png": "[encoded data removed]",
      "text/plain": [
       "<Figure size 319.68x204.051 with 1 Axes>"
      ]
     },
     "metadata": {
      "needs_background": "light"
     },
     "output_type": "display_data"
    }
   ],
   "source": [
    "fig = plt.figure()\n",
    "axes_form = [0.17,0.19,0.81,0.64]\n",
    "ax = fig.add_axes(axes_form)\n",
    "ax.set_xscale('log')\n",
    "ax.plot(ctau_0_min_s, \n",
    "        rate_no_ctau,\n",
    "        '.',)\n",
    "\n",
    "ax.plot(ctau_0_min_s,\n",
    "        f_fit_mixture(np.array(ctau_0_min_s), *out_fit_mix[0]),\n",
    "        '--',\n",
    "        color='dodgerblue',\n",
    "        # label=f'{out_fit_rate[0][0]:.2g} cm/($\\log_{{10}}$(event rate) - {out_fit_rate[0][1]:.2g})')\n",
    "       )\n",
    "ax.legend()\n",
    "ax.set_ylabel('Event rate')\n",
    "ax.set_xlabel(r'$c \\tau^0_{min}$ [cm]')\n",
    "ax.set_yscale('log')\n",
    "this_point_for_title = deepcopy(this_point)\n",
    "this_point_for_title['Umu4_2'] = None\n",
    "this_point_for_title['Ud4_2'] = None\n",
    "this_point_for_title['alpha_dark'] = None\n",
    "this_point_for_title['epsilon'] = None\n",
    "this_point_for_title['external_ctau'] = None\n",
    "set_plot_title(ax, \n",
    "               **this_point_for_title\n",
    "               )\n",
    "\n",
    "# plt.savefig(save_folder + 'ctau_vs_rate_final.pdf')"
   ]
  },
  {
   "cell_type": "markdown",
   "metadata": {
    "jp-MarkdownHeadingCollapsed": true,
    "tags": []
   },
   "source": [
    "## for different $m_N$"
   ]
  },
  {
   "cell_type": "code",
   "execution_count": 5,
   "metadata": {},
   "outputs": [],
   "source": [
    "this_point = deepcopy(physics_parameters[hierarchy]['bp'])\n",
    "this_point['epsilon'] = 1e-20\n",
    "\n",
    "base_like = 0\n",
    "for nu_mode in ['FHC', 'RHC']:\n",
    "    aux = my_exp_analyses[f'{hierarchy}_{D_or_M}_{nu_mode}'].compute_likelihood_from_pars(\n",
    "                                     my_exp_analyses[f'{hierarchy}_{D_or_M}_{nu_mode}'].df_base,\n",
    "                                     **this_point, \n",
    "                                     analysis=analyses['tpc'][nu_mode], \n",
    "                                     like_normalized=False)\n",
    "    base_like += (-aux[0])"
   ]
  },
  {
   "cell_type": "code",
   "execution_count": 12,
   "metadata": {},
   "outputs": [],
   "source": [
    "def get_ctau0_min(this_point, base_like):\n",
    "    aux = {}\n",
    "    for nu_mode in ['FHC', 'RHC']:\n",
    "        aux[nu_mode] = my_exp_analyses[f'{hierarchy}_{D_or_M}_{nu_mode}'].compute_likelihood_from_pars(\n",
    "                                     my_exp_analyses[f'{hierarchy}_{D_or_M}_{nu_mode}'].df_base, \n",
    "                                     **this_point, \n",
    "                                     analysis=analyses['tpc'][nu_mode], \n",
    "                                     like_normalized=False)\n",
    "\n",
    "    leff = aux['FHC'][0] + aux['RHC'][0]\n",
    "    # mu_s = aux['FHC'][1] + aux['RHC'][1]\n",
    "    # sigma2_s = aux['FHC'][3] + aux['RHC'][3]\n",
    "    leff *= -1\n",
    "    leff -= base_like\n",
    "    \n",
    "    like_interp = interp1d(this_point['external_ctau'], \n",
    "                           leff-likelihood_levels_1d[0.9], \n",
    "                           kind='cubic')\n",
    "    print(this_point['external_ctau'])\n",
    "    print(leff-likelihood_levels_1d[0.9])\n",
    "    try:\n",
    "        aux = root_scalar(like_interp, method='brentq', \n",
    "                          bracket=[this_point['external_ctau'][0], this_point['external_ctau'][-1]], \n",
    "                          fprime=None, fprime2=None, x0=(this_point['external_ctau'][0]+this_point['external_ctau'][-1])/2).root\n",
    "    except:\n",
    "        aux = None\n",
    "        \n",
    "    return aux"
   ]
  },
  {
   "cell_type": "code",
   "execution_count": 44,
   "metadata": {
    "collapsed": true,
    "jupyter": {
     "outputs_hidden": true
    },
    "tags": []
   },
   "outputs": [
    {
     "name": "stdout",
     "output_type": "stream",
     "text": [
      "[1.00000000e-03 1.65880096e-03 2.75162061e-03 4.56439090e-03\n",
      " 7.57141598e-03 1.25594721e-02 2.08336642e-02 3.45589021e-02\n",
      " 5.73263399e-02 9.50929874e-02 1.57740338e-01 2.61659824e-01\n",
      " 4.34041566e-01 7.19988564e-01 1.19431772e+00 1.98113537e+00\n",
      " 3.28630925e+00 5.45133292e+00 9.04267625e+00 1.50000000e+01]\n",
      "[-0.97068091 -0.97028153 -0.96937523 -0.96510683 -0.93742332 -0.80128024\n",
      " -0.30448248  1.06372612  3.86126166  9.07530081 17.43367671 27.68056444\n",
      " 37.11676934 44.28224416 49.41712301 52.37321198 52.11592882 48.15547353\n",
      " 41.2307651  32.80563746]\n",
      "[1.00000000e-03 1.65880096e-03 2.75162061e-03 4.56439090e-03\n",
      " 7.57141598e-03 1.25594721e-02 2.08336642e-02 3.45589021e-02\n",
      " 5.73263399e-02 9.50929874e-02 1.57740338e-01 2.61659824e-01\n",
      " 4.34041566e-01 7.19988564e-01 1.19431772e+00 1.98113537e+00\n",
      " 3.28630925e+00 5.45133292e+00 9.04267625e+00 1.50000000e+01]\n",
      "[-0.95255646 -0.95243769 -0.9523855  -0.95242291 -0.9525349  -0.95271112\n",
      " -0.95181791 -0.9398504  -0.86255484 -0.52671995  0.45837302  2.64163272\n",
      "  6.68199478 13.48100019 22.94323038 32.89514699 41.02555175 46.83306025\n",
      " 50.47600499 51.28664464]\n",
      "[1.00000000e-03 1.65880096e-03 2.75162061e-03 4.56439090e-03\n",
      " 7.57141598e-03 1.25594721e-02 2.08336642e-02 3.45589021e-02\n",
      " 5.73263399e-02 9.50929874e-02 1.57740338e-01 2.61659824e-01\n",
      " 4.34041566e-01 7.19988564e-01 1.19431772e+00 1.98113537e+00\n",
      " 3.28630925e+00 5.45133292e+00 9.04267625e+00 1.50000000e+01]\n",
      "[-1.01918601 -1.01920407 -1.01918311 -1.0190771  -1.01888678 -1.01866386\n",
      " -1.01844063 -1.01734166 -1.00725609 -0.94414593 -0.67436246  0.11719433\n",
      "  1.88141373  5.24183517 11.171699   19.92663493 29.69199181 37.90541846\n",
      " 43.62275497 46.99777898]\n",
      "[1.00000000e-03 1.65880096e-03 2.75162061e-03 4.56439090e-03\n",
      " 7.57141598e-03 1.25594721e-02 2.08336642e-02 3.45589021e-02\n",
      " 5.73263399e-02 9.50929874e-02 1.57740338e-01 2.61659824e-01\n",
      " 4.34041566e-01 7.19988564e-01 1.19431772e+00 1.98113537e+00\n",
      " 3.28630925e+00 5.45133292e+00 9.04267625e+00 1.50000000e+01]\n",
      "[-1.05828007 -1.05820413 -1.05810772 -1.05799687 -1.05785751 -1.05769165\n",
      " -1.05755008 -1.05742319 -1.0550322  -1.02993751 -0.89877597 -0.45890551\n",
      "  0.60480022  2.66043807  6.17181288 11.83460828 19.50947555 27.45551324\n",
      " 33.80601273 38.06807327]\n",
      "[1.00000000e-03 1.65880096e-03 2.75162061e-03 4.56439090e-03\n",
      " 7.57141598e-03 1.25594721e-02 2.08336642e-02 3.45589021e-02\n",
      " 5.73263399e-02 9.50929874e-02 1.57740338e-01 2.61659824e-01\n",
      " 4.34041566e-01 7.19988564e-01 1.19431772e+00 1.98113537e+00\n",
      " 3.28630925e+00 5.45133292e+00 9.04267625e+00 1.50000000e+01]\n",
      "[-1.12180924 -1.12179032 -1.12176793 -1.12175993 -1.12176682 -1.12177229\n",
      " -1.12179326 -1.1218313  -1.12148873 -1.11651653 -1.07740972 -0.88907062\n",
      " -0.27627067  1.1514082   3.77784676  7.9381195  13.79817273 20.54109267\n",
      " 26.59422734 30.98153776]\n",
      "[1.00000000e-03 1.65880096e-03 2.75162061e-03 4.56439090e-03\n",
      " 7.57141598e-03 1.25594721e-02 2.08336642e-02 3.45589021e-02\n",
      " 5.73263399e-02 9.50929874e-02 1.57740338e-01 2.61659824e-01\n",
      " 4.34041566e-01 7.19988564e-01 1.19431772e+00 1.98113537e+00\n",
      " 3.28630925e+00 5.45133292e+00 9.04267625e+00 1.50000000e+01]\n",
      "[-1.17634434 -1.17633483 -1.17632756 -1.1763335  -1.17635542 -1.17639451\n",
      " -1.17645992 -1.17653895 -1.17635716 -1.17304339 -1.14804842 -1.02975003\n",
      " -0.62789891  0.38541697  2.36956928  5.54363036 10.01133671 15.36350828\n",
      " 20.5387779  24.52043751]\n",
      "[1.00000000e-03 1.65880096e-03 2.75162061e-03 4.56439090e-03\n",
      " 7.57141598e-03 1.25594721e-02 2.08336642e-02 3.45589021e-02\n",
      " 5.73263399e-02 9.50929874e-02 1.57740338e-01 2.61659824e-01\n",
      " 4.34041566e-01 7.19988564e-01 1.19431772e+00 1.98113537e+00\n",
      " 3.28630925e+00 5.45133292e+00 9.04267625e+00 1.50000000e+01]\n",
      "[-1.22119977 -1.22120738 -1.22121581 -1.22123347 -1.22126687 -1.22132911\n",
      " -1.22144927 -1.22164016 -1.22186768 -1.22139106 -1.21070649 -1.14043135\n",
      " -0.86626907 -0.12709767  1.33638086  3.65359875  6.78094033 10.57139155\n",
      " 14.45186751 17.61758815]\n",
      "[1.00000000e-03 1.65880096e-03 2.75162061e-03 4.56439090e-03\n",
      " 7.57141598e-03 1.25594721e-02 2.08336642e-02 3.45589021e-02\n",
      " 5.73263399e-02 9.50929874e-02 1.57740338e-01 2.61659824e-01\n",
      " 4.34041566e-01 7.19988564e-01 1.19431772e+00 1.98113537e+00\n",
      " 3.28630925e+00 5.45133292e+00 9.04267625e+00 1.50000000e+01]\n",
      "[-1.26654048 -1.26654812 -1.26655562 -1.26656166 -1.26655985 -1.26654018\n",
      " -1.26650306 -1.26646349 -1.2664272  -1.26589198 -1.258928   -1.21277845\n",
      " -1.02135078 -0.48315161  0.59854779  2.28727726  4.48798191  7.09201562\n",
      "  9.78268342 12.02617791]\n",
      "[1.00000000e-03 1.65880096e-03 2.75162061e-03 4.56439090e-03\n",
      " 7.57141598e-03 1.25594721e-02 2.08336642e-02 3.45589021e-02\n",
      " 5.73263399e-02 9.50929874e-02 1.57740338e-01 2.61659824e-01\n",
      " 4.34041566e-01 7.19988564e-01 1.19431772e+00 1.98113537e+00\n",
      " 3.28630925e+00 5.45133292e+00 9.04267625e+00 1.50000000e+01]\n",
      "[-1.30101577 -1.30101604 -1.30101853 -1.30102663 -1.30103676 -1.30103651\n",
      " -1.30101652 -1.30097042 -1.30088924 -1.30051106 -1.29631089 -1.26817824\n",
      " -1.14856905 -0.80217757 -0.09340186  1.00488784  2.45161998  4.13471754\n",
      "  5.89912498  7.41113176]\n",
      "[1.00000000e-03 1.65880096e-03 2.75162061e-03 4.56439090e-03\n",
      " 7.57141598e-03 1.25594721e-02 2.08336642e-02 3.45589021e-02\n",
      " 5.73263399e-02 9.50929874e-02 1.57740338e-01 2.61659824e-01\n",
      " 4.34041566e-01 7.19988564e-01 1.19431772e+00 1.98113537e+00\n",
      " 3.28630925e+00 5.45133292e+00 9.04267625e+00 1.50000000e+01]\n",
      "[-1.32295964 -1.32295967 -1.32296031 -1.32296409 -1.32297313 -1.32298408\n",
      " -1.32299297 -1.32299955 -1.32300186 -1.3228886  -1.32093328 -1.30772275\n",
      " -1.25201465 -1.07616408 -0.66699453  0.04012381  1.00193853  2.13402073\n",
      "  3.28427405  4.28975868]\n",
      "[1.00000000e-03 1.65880096e-03 2.75162061e-03 4.56439090e-03\n",
      " 7.57141598e-03 1.25594721e-02 2.08336642e-02 3.45589021e-02\n",
      " 5.73263399e-02 9.50929874e-02 1.57740338e-01 2.61659824e-01\n",
      " 4.34041566e-01 7.19988564e-01 1.19431772e+00 1.98113537e+00\n",
      " 3.28630925e+00 5.45133292e+00 9.04267625e+00 1.50000000e+01]\n",
      "[-1.33634495 -1.33634496 -1.33634521 -1.33634697 -1.3363517  -1.33635713\n",
      " -1.33635803 -1.33635742 -1.33636769 -1.33637314 -1.33581661 -1.33109687\n",
      " -1.30795988 -1.22149301 -0.98849474 -0.53774759  0.116846    0.87741852\n",
      "  1.6576696   2.31355611]\n",
      "[1.00000000e-03 1.65880096e-03 2.75162061e-03 4.56439090e-03\n",
      " 7.57141598e-03 1.25594721e-02 2.08336642e-02 3.45589021e-02\n",
      " 5.73263399e-02 9.50929874e-02 1.57740338e-01 2.61659824e-01\n",
      " 4.34041566e-01 7.19988564e-01 1.19431772e+00 1.98113537e+00\n",
      " 3.28630925e+00 5.45133292e+00 9.04267625e+00 1.50000000e+01]\n",
      "[-1.34318784 -1.34318784 -1.34318784 -1.34318769 -1.34318694 -1.34318498\n",
      " -1.34317919 -1.34316896 -1.3431645  -1.34316825 -1.34285457 -1.33968686\n",
      " -1.32368375 -1.26541297 -1.11127716 -0.81313318 -0.3751119   0.13754531\n",
      "  0.64302988  1.06103159]\n"
     ]
    }
   ],
   "source": [
    "m4_s = np.linspace(0.01, 0.5, 12)\n",
    "ctau_min_s = []\n",
    "for m4 in m4_s:\n",
    "    # print(m4)\n",
    "    this_point = deepcopy(physics_parameters[hierarchy]['bp'])\n",
    "    this_point['m4'] = m4\n",
    "    this_point['external_ctau'] = np.geomspace(0.001, 15, 20)\n",
    "    for i in range(1, 2):\n",
    "        ctau_min = get_ctau0_min(this_point, base_like)\n",
    "        # print(ctau_min)\n",
    "        # this_point['external_ctau'] = np.geomspace(ctau_min/(1+1/i**2), ctau_min*(1+1/i**2), 20)\n",
    "        \n",
    "    ctau_min_s.append(ctau_min)"
   ]
  },
  {
   "cell_type": "code",
   "execution_count": 45,
   "metadata": {},
   "outputs": [],
   "source": [
    "this_point_for_title = deepcopy(this_point)\n",
    "this_point_for_title['m4'] = None\n",
    "this_point_for_title['Ud4_2'] = None\n",
    "this_point_for_title['external_ctau'] = None"
   ]
  },
  {
   "cell_type": "code",
   "execution_count": 46,
   "metadata": {},
   "outputs": [
    {
     "data": {
      "image/png": "[encoded data removed]",
      "text/plain": [
       "<Figure size 319.68x204.051 with 1 Axes>"
      ]
     },
     "metadata": {
      "needs_background": "light"
     },
     "output_type": "display_data"
    }
   ],
   "source": [
    "fig = plt.figure()\n",
    "axes_form = [0.17,0.19,0.81,0.64]\n",
    "ax = fig.add_axes(axes_form)\n",
    "\n",
    "ax.plot(m4_s,\n",
    "         ctau_min_s/m4_s, \n",
    "         '.')\n",
    "ax.set_xlabel(r'$m_N$ [GeV]')\n",
    "ax.set_ylabel(r'$c \\tau^0_{min} /m_N$ [cm/GeV]')\n",
    "set_plot_title(ax, \n",
    "               **this_point_for_title\n",
    "               )\n",
    "# plt.savefig(save_folder + 'ctau_div_mn_vs_mn.pdf')"
   ]
  },
  {
   "cell_type": "code",
   "execution_count": 47,
   "metadata": {},
   "outputs": [],
   "source": [
    "from numpy.polynomial import Polynomial"
   ]
  },
  {
   "cell_type": "code",
   "execution_count": 48,
   "metadata": {},
   "outputs": [
    {
     "data": {
      "image/png": "[encoded data removed]",
      "text/plain": [
       "<Figure size 319.68x204.051 with 1 Axes>"
      ]
     },
     "metadata": {
      "needs_background": "light"
     },
     "output_type": "display_data"
    }
   ],
   "source": [
    "fig = plt.figure()\n",
    "axes_form = [0.17,0.19,0.81,0.64]\n",
    "ax = fig.add_axes(axes_form)\n",
    "\n",
    "ax.plot(m4_s,\n",
    "         ctau_min_s, \n",
    "         '.',\n",
    "        label='from the simulation')\n",
    "\n",
    "lin_fit = Polynomial.fit(m4_s, ctau_min_s, deg=1)\n",
    "ax.plot(m4_s, lin_fit(m4_s), \n",
    "         '--', label='linear fit')\n",
    "ax.set_xlabel(r'$m_N$ [GeV]')\n",
    "ax.set_ylabel(r'$c \\tau^0_{min}$ [cm]')\n",
    "ax.legend()\n",
    "set_plot_title(ax, \n",
    "               **this_point_for_title\n",
    "               )\n",
    "# plt.savefig(save_folder + 'ctau_vs_mn.pdf')"
   ]
  },
  {
   "cell_type": "markdown",
   "metadata": {
    "jp-MarkdownHeadingCollapsed": true,
    "tags": []
   },
   "source": [
    "## Versus rate"
   ]
  },
  {
   "cell_type": "code",
   "execution_count": 49,
   "metadata": {},
   "outputs": [],
   "source": [
    "rates = np.zeros(m4_s.shape)\n",
    "\n",
    "for i, m4 in enumerate(m4_s):\n",
    "    this_point = deepcopy(physics_parameters[hierarchy]['bp'])\n",
    "    this_point['m4'] = m4\n",
    "    this_point['external_ctau'] = None\n",
    "    \n",
    "    aux = {}\n",
    "    for nu_mode in ['FHC', 'RHC']:\n",
    "        aux[nu_mode] = my_exp_analyses[f'{hierarchy}_{D_or_M}_{nu_mode}'].compute_likelihood_from_pars(\n",
    "                                         my_exp_analyses[f'{hierarchy}_{D_or_M}_{nu_mode}'].df_base, \n",
    "                                         **this_point, \n",
    "                                         analysis=analyses['tpc'][nu_mode], \n",
    "                                         like_normalized=False)\n",
    "\n",
    "    rates[i] = aux['FHC'][1] + aux['RHC'][1]"
   ]
  },
  {
   "cell_type": "code",
   "execution_count": 50,
   "metadata": {},
   "outputs": [
    {
     "data": {
      "text/plain": [
       "Text(0, 0.5, 'Upscattering rate')"
      ]
     },
     "execution_count": 50,
     "metadata": {},
     "output_type": "execute_result"
    },
    {
     "data": {
      "image/png": "[encoded data removed]",
      "text/plain": [
       "<Figure size 319.68x204.051 with 2 Axes>"
      ]
     },
     "metadata": {
      "needs_background": "light"
     },
     "output_type": "display_data"
    }
   ],
   "source": [
    "fig = plt.figure()\n",
    "axes_form = [0.17,0.19,0.81,0.64]\n",
    "ax = fig.add_axes(axes_form)\n",
    "\n",
    "ax.plot(m4_s,\n",
    "         ctau_min_s, \n",
    "         '.',\n",
    "        label='from the simulation')\n",
    "\n",
    "lin_fit = Polynomial.fit(m4_s, ctau_min_s, deg=1)\n",
    "ax.plot(m4_s, lin_fit(m4_s), \n",
    "         '--',\n",
    "         color='dodgerblue', label='linear fit')\n",
    "ax.set_xlabel(r'$m_N$ [GeV]')\n",
    "ax.set_ylabel(r'$c \\tau^0_{min}$ [cm]')\n",
    "ax.legend(loc='upper center')\n",
    "set_plot_title(ax, \n",
    "               **this_point_for_title\n",
    "               )\n",
    "\n",
    "ax2 = ax.twinx()\n",
    "ax2.plot(m4_s,\n",
    "         rates,\n",
    "         '.',\n",
    "         color='darkorange',\n",
    "         label='Rate of events')\n",
    "ax2.legend(loc='lower center')\n",
    "ax2.set_ylabel('Upscattering rate')\n",
    "# plt.savefig(save_folder + 'ctau_vs_mn_and_rate.pdf')"
   ]
  },
  {
   "cell_type": "code",
   "execution_count": 51,
   "metadata": {},
   "outputs": [
    {
     "data": {
      "image/png": "[encoded data removed]",
      "text/plain": [
       "<Figure size 319.68x204.051 with 1 Axes>"
      ]
     },
     "metadata": {
      "needs_background": "light"
     },
     "output_type": "display_data"
    }
   ],
   "source": [
    "ax = set_canvas_basic()\n",
    "\n",
    "ax.plot(m4_s, ctau_min_s*rates)\n",
    "ax.set_xlabel(r'$m_N$ [GeV]')\n",
    "ax.set_ylabel(r'$c \\tau^0_{min} \\times$ ups rate [cm $\\times$ events]')\n",
    "set_plot_title(ax, \n",
    "               **this_point_for_title\n",
    "               )\n",
    "# plt.savefig(save_folder + 'ctau_times_rate_vs_mn.pdf')"
   ]
  },
  {
   "cell_type": "code",
   "execution_count": 52,
   "metadata": {},
   "outputs": [
    {
     "data": {
      "image/png": "[encoded data removed]",
      "text/plain": [
       "<Figure size 319.68x204.051 with 1 Axes>"
      ]
     },
     "metadata": {
      "needs_background": "light"
     },
     "output_type": "display_data"
    }
   ],
   "source": [
    "ax = set_canvas_basic()\n",
    "\n",
    "ax.plot(rates, ctau_min_s)\n",
    "\n",
    "ax.set_xlabel(r'Upscattering rate [events]')\n",
    "ax.set_ylabel(r'$c \\tau^0_{min}$ [cm]')\n",
    "set_plot_title(ax, \n",
    "               **this_point_for_title\n",
    "               )\n",
    "# plt.savefig(save_folder + 'ctau_vs_rate.pdf')"
   ]
  },
  {
   "cell_type": "markdown",
   "metadata": {
    "jp-MarkdownHeadingCollapsed": true,
    "tags": []
   },
   "source": [
    "## Let's vary only the upscattering rate"
   ]
  },
  {
   "cell_type": "code",
   "execution_count": 53,
   "metadata": {},
   "outputs": [],
   "source": [
    "Umu4_2_s = np.geomspace(2e-8, 2e-6, 10)"
   ]
  },
  {
   "cell_type": "code",
   "execution_count": 54,
   "metadata": {
    "collapsed": true,
    "jupyter": {
     "outputs_hidden": true
    },
    "tags": []
   },
   "outputs": [
    {
     "name": "stdout",
     "output_type": "stream",
     "text": [
      "[1.00000000e-03 1.65880096e-03 2.75162061e-03 4.56439090e-03\n",
      " 7.57141598e-03 1.25594721e-02 2.08336642e-02 3.45589021e-02\n",
      " 5.73263399e-02 9.50929874e-02 1.57740338e-01 2.61659824e-01\n",
      " 4.34041566e-01 7.19988564e-01 1.19431772e+00 1.98113537e+00\n",
      " 3.28630925e+00 5.45133292e+00 9.04267625e+00 1.50000000e+01]\n",
      "[-1.32452827 -1.32453017 -1.32452873 -1.32451997 -1.3245041  -1.32448568\n",
      " -1.32446776 -1.32437139 -1.3234652  -1.31782044 -1.29349193 -1.22038223\n",
      " -1.05315641 -0.7151582  -0.06253633  1.06539104  2.54182942  3.98824603\n",
      "  5.10548507  5.80046486]\n",
      "[1.00000000e-03 1.65880096e-03 2.75162061e-03 4.56439090e-03\n",
      " 7.57141598e-03 1.25594721e-02 2.08336642e-02 3.45589021e-02\n",
      " 5.73263399e-02 9.50929874e-02 1.57740338e-01 2.61659824e-01\n",
      " 4.34041566e-01 7.19988564e-01 1.19431772e+00 1.98113537e+00\n",
      " 3.28630925e+00 5.45133292e+00 9.04267625e+00 1.50000000e+01]\n",
      "[-1.30417968 -1.30418284 -1.30418044 -1.30416585 -1.30413938 -1.30410867\n",
      " -1.30407879 -1.30391813 -1.3024072  -1.29299415 -1.25242978 -1.13064622\n",
      " -0.85278766 -0.29359277  0.77880098  2.60476544  4.95547285  7.21656217\n",
      "  8.93838203 10.00131351]\n",
      "[1.00000000e-03 1.65880096e-03 2.75162061e-03 4.56439090e-03\n",
      " 7.57141598e-03 1.25594721e-02 2.08336642e-02 3.45589021e-02\n",
      " 5.73263399e-02 9.50929874e-02 1.57740338e-01 2.61659824e-01\n",
      " 4.34041566e-01 7.19988564e-01 1.19431772e+00 1.98113537e+00\n",
      " 3.28630925e+00 5.45133292e+00 9.04267625e+00 1.50000000e+01]\n",
      "[-1.27025357 -1.27025884 -1.27025483 -1.27023051 -1.27018639 -1.27013522\n",
      " -1.27008543 -1.26981768 -1.26729924 -1.25160661 -1.18400255 -0.98140429\n",
      " -0.52110624  0.39901263  2.16490856  5.04968369  8.69852824 12.11889791\n",
      " 14.67417394 16.23629345]\n",
      "[1.00000000e-03 1.65880096e-03 2.75162061e-03 4.56439090e-03\n",
      " 7.57141598e-03 1.25594721e-02 2.08336642e-02 3.45589021e-02\n",
      " 5.73263399e-02 9.50929874e-02 1.57740338e-01 2.61659824e-01\n",
      " 4.34041566e-01 7.19988564e-01 1.19431772e+00 1.98113537e+00\n",
      " 3.28630925e+00 5.45133292e+00 9.04267625e+00 1.50000000e+01]\n",
      "[-1.21371062e+00 -1.21371939e+00 -1.21371271e+00 -1.21367219e+00\n",
      " -1.21359870e+00 -1.21351346e+00 -1.21343054e+00 -1.21298463e+00\n",
      " -1.20878927e+00 -1.18264214e+00 -1.07008163e+00 -7.33849636e-01\n",
      "  2.49075208e-02  1.54340835e+00  4.34841564e+00  8.83101605e+00\n",
      "  1.42995321e+01  1.92559993e+01  2.28726715e+01  2.50586300e+01]\n",
      "[1.00000000e-03 1.65880096e-03 2.75162061e-03 4.56439090e-03\n",
      " 7.57141598e-03 1.25594721e-02 2.08336642e-02 3.45589021e-02\n",
      " 5.73263399e-02 9.50929874e-02 1.57740338e-01 2.61659824e-01\n",
      " 4.34041566e-01 7.19988564e-01 1.19431772e+00 1.98113537e+00\n",
      " 3.28630925e+00 5.45133292e+00 9.04267625e+00 1.50000000e+01]\n",
      "[-1.11953123 -1.11954582 -1.11953468 -1.11946724 -1.11934494 -1.11920311\n",
      " -1.11906517 -1.11832336 -1.11134165 -1.06782216 -0.88076177 -0.32507024\n",
      "  0.91585875  3.35430934  7.73913902 14.46958466 22.30659736 29.12996239\n",
      " 33.97916486 36.87492545]\n",
      "[1.00000000e-03 1.65880096e-03 2.75162061e-03 4.56439090e-03\n",
      " 7.57141598e-03 1.25594721e-02 2.08336642e-02 3.45589021e-02\n",
      " 5.73263399e-02 9.50929874e-02 1.57740338e-01 2.61659824e-01\n",
      " 4.34041566e-01 7.19988564e-01 1.19431772e+00 1.98113537e+00\n",
      " 3.28630925e+00 5.45133292e+00 9.04267625e+00 1.50000000e+01]\n",
      "[-0.96282911 -0.96285332 -0.96283476 -0.96272267 -0.96251946 -0.96228388\n",
      " -0.96205483 -0.96082301 -0.94922552 -0.87694124 -0.56714856  0.34500308\n",
      "  2.37003196  6.18369089 12.82323248 22.49815926 33.16033375 42.04481443\n",
      " 48.19015291 51.81706985]\n",
      "[1.00000000e-03 1.65880096e-03 2.75162061e-03 4.56439090e-03\n",
      " 7.57141598e-03 1.25594721e-02 2.08336642e-02 3.45589021e-02\n",
      " 5.73263399e-02 9.50929874e-02 1.57740338e-01 2.61659824e-01\n",
      " 4.34041566e-01 7.19988564e-01 1.19431772e+00 1.98113537e+00\n",
      " 3.28630925e+00 5.45133292e+00 9.04267625e+00 1.50000000e+01]\n",
      "[-7.02564099e-01 -7.02604130e-01 -7.02573237e-01 -7.02387370e-01\n",
      " -7.02050632e-01 -7.01660392e-01 -7.01281184e-01 -6.99241888e-01\n",
      " -6.80037974e-01 -5.60428842e-01 -5.04254291e-02  1.43089959e+00\n",
      "  4.63573906e+00  1.04613515e+01  2.01136377e+01  3.33382723e+01\n",
      "  4.70656838e+01  5.80094707e+01  6.53879125e+01  6.96971622e+01]\n",
      "[1.00000000e-03 1.65880096e-03 2.75162061e-03 4.56439090e-03\n",
      " 7.57141598e-03 1.25594721e-02 2.08336642e-02 3.45589021e-02\n",
      " 5.73263399e-02 9.50929874e-02 1.57740338e-01 2.61659824e-01\n",
      " 4.34041566e-01 7.19988564e-01 1.19431772e+00 1.98113537e+00\n",
      " 3.28630925e+00 5.45133292e+00 9.04267625e+00 1.50000000e+01]\n",
      "[-2.71579829e-01 -2.71645662e-01 -2.71594291e-01 -2.71287269e-01\n",
      " -2.70731634e-01 -2.70088144e-01 -2.69463342e-01 -2.66103893e-01\n",
      " -2.34474363e-01 -3.78364689e-02  7.93694244e-01  3.18281338e+00\n",
      "  8.09439636e+00  1.66593749e+01  3.00417683e+01  4.71815006e+01\n",
      "  6.39267142e+01  7.67348214e+01  8.51801319e+01  9.00712724e+01]\n",
      "[1.00000000e-03 1.65880096e-03 2.75162061e-03 4.56439090e-03\n",
      " 7.57141598e-03 1.25594721e-02 2.08336642e-02 3.45589021e-02\n",
      " 5.73263399e-02 9.50929874e-02 1.57740338e-01 2.61659824e-01\n",
      " 4.34041566e-01 7.19988564e-01 1.19431772e+00 1.98113537e+00\n",
      " 3.28630925e+00 5.45133292e+00 9.04267625e+00 1.50000000e+01]\n",
      "[  0.45415937   0.45405233   0.45413871   0.45464482   0.45555774\n",
      "   0.4566128    0.45763444   0.46312349   0.51478268   0.83506077\n",
      "   2.17382143   5.87099662  13.16634031  25.20331455  42.84762677\n",
      "  63.93173621  83.37758842  97.72646272 107.02257614 112.37562022]\n",
      "[1.00000000e-03 1.65880096e-03 2.75162061e-03 4.56439090e-03\n",
      " 7.57141598e-03 1.25594721e-02 2.08336642e-02 3.45589021e-02\n",
      " 5.73263399e-02 9.50929874e-02 1.57740338e-01 2.61659824e-01\n",
      " 4.34041566e-01 7.19988564e-01 1.19431772e+00 1.98113537e+00\n",
      " 3.28630925e+00 5.45133292e+00 9.04267625e+00 1.50000000e+01]\n",
      "[  1.62014397   1.61997173   1.62011336   1.62093404   1.62241156\n",
      "   1.62411716   1.62576724   1.63462603   1.71778313   2.22971842\n",
      "   4.32802877   9.88870318  20.25416522  36.37646531  58.51625954\n",
      "  83.23447934 104.89394273 120.42353973 130.35902864 136.06269097]\n"
     ]
    }
   ],
   "source": [
    "ctau_min_s = []\n",
    "rates = []\n",
    "for Umu4_2 in Umu4_2_s:\n",
    "    this_point = deepcopy(physics_parameters[hierarchy]['bp'])\n",
    "    this_point['Umu4_2'] = Umu4_2\n",
    "    this_point['external_ctau'] = np.geomspace(0.001, 15, 20)\n",
    "    for i in range(1, 2):\n",
    "        ctau_min = get_ctau0_min(this_point, base_like)\n",
    "        # print(ctau_min)\n",
    "        # this_point['external_ctau'] = np.geomspace(ctau_min/(1+1/i**2), ctau_min*(1+1/i**2), 20)\n",
    "    ctau_min_s.append(ctau_min)\n",
    "    \n",
    "    aux = {}\n",
    "    this_point['external_ctau'] = None\n",
    "    for nu_mode in ['FHC', 'RHC']:\n",
    "        aux[nu_mode] = my_exp_analyses[f'{hierarchy}_{D_or_M}_{nu_mode}'].compute_likelihood_from_pars(\n",
    "                                         my_exp_analyses[f'{hierarchy}_{D_or_M}_{nu_mode}'].df_base, \n",
    "                                         **this_point, \n",
    "                                         analysis=analyses['tpc'][nu_mode], \n",
    "                                         like_normalized=False)\n",
    "    rates.append(aux['FHC'][1] + aux['RHC'][1])"
   ]
  },
  {
   "cell_type": "code",
   "execution_count": 55,
   "metadata": {},
   "outputs": [],
   "source": [
    "this_point_for_title = deepcopy(this_point)\n",
    "this_point_for_title['Umu4_2'] = None\n",
    "this_point_for_title['Ud4_2'] = None\n",
    "this_point_for_title['external_ctau'] = None"
   ]
  },
  {
   "cell_type": "code",
   "execution_count": 59,
   "metadata": {},
   "outputs": [
    {
     "name": "stderr",
     "output_type": "stream",
     "text": [
      "No handles with labels found to put in legend.\n"
     ]
    },
    {
     "data": {
      "text/plain": [
       "Text(0, 0.5, 'Upscattering rate')"
      ]
     },
     "execution_count": 59,
     "metadata": {},
     "output_type": "execute_result"
    },
    {
     "data": {
      "image/png": "[encoded data removed]",
      "text/plain": [
       "<Figure size 319.68x204.051 with 2 Axes>"
      ]
     },
     "metadata": {
      "needs_background": "light"
     },
     "output_type": "display_data"
    }
   ],
   "source": [
    "fig = plt.figure()\n",
    "axes_form = [0.17,0.19,0.81,0.64]\n",
    "ax = fig.add_axes(axes_form)\n",
    "ax.set_xscale('log')\n",
    "ax.plot(Umu4_2_s,\n",
    "         ctau_min_s, \n",
    "         '.',\n",
    "        label='from the simulation')\n",
    "\n",
    "ax.set_xlabel(r'$|V_{\\mu N}|^2$')\n",
    "ax.set_ylabel(r'$c \\tau^0_{min}$ [cm]')\n",
    "ax.legend(loc='upper center')\n",
    "set_plot_title(ax, \n",
    "               **this_point_for_title\n",
    "               )\n",
    "\n",
    "ax2 = ax.twinx()\n",
    "# ax2.plot(Umu4_2_s,\n",
    "#          rates,\n",
    "#          '.',\n",
    "#          color='darkorange',\n",
    "#          label='Rate of events')\n",
    "ax2.legend(loc='lower center')\n",
    "ax2.set_ylabel('Upscattering rate')\n",
    "# plt.savefig(save_folder + 'ctau_vs_mn_and_rate.pdf')"
   ]
  },
  {
   "cell_type": "code",
   "execution_count": 72,
   "metadata": {},
   "outputs": [
    {
     "data": {
      "image/png": "[encoded data removed]",
      "text/plain": [
       "<Figure size 319.68x204.051 with 1 Axes>"
      ]
     },
     "metadata": {
      "needs_background": "light"
     },
     "output_type": "display_data"
    }
   ],
   "source": [
    "ax = set_canvas_basic()\n",
    "\n",
    "ax.plot(Umu4_2_s[:-2], ctau_min_s[:-2]*Umu4_2_s[:-2])\n",
    "ax.set_xlabel(r'$|V_{\\mu N}|^2$')\n",
    "ax.set_ylabel(r'$c \\tau^0_{min} \\times$ ups rate [cm $\\times$ events]')\n",
    "set_plot_title(ax, \n",
    "               **this_point_for_title\n",
    "               )\n",
    "ax.set_xscale('log')\n",
    "# plt.savefig(save_folder + 'ctau_times_rate_vs_mn.pdf')"
   ]
  },
  {
   "cell_type": "code",
   "execution_count": null,
   "metadata": {},
   "outputs": [],
   "source": [
    "ax = set_canvas_basic()\n",
    "\n",
    "ax.plot(rates, ctau_min_s)\n",
    "\n",
    "ax.set_xlabel(r'Upscattering rate [events]')\n",
    "ax.set_ylabel(r'$c \\tau^0_{min}$ [cm]')\n",
    "set_plot_title(ax, \n",
    "               **this_point_for_title\n",
    "               )\n",
    "# plt.savefig(save_folder + 'ctau_vs_rate.pdf')"
   ]
  },
  {
   "cell_type": "markdown",
   "metadata": {
    "jp-MarkdownHeadingCollapsed": true,
    "tags": []
   },
   "source": [
    "## Varying m_Z"
   ]
  },
  {
   "cell_type": "code",
   "execution_count": 75,
   "metadata": {},
   "outputs": [],
   "source": [
    "mz_s = np.linspace(1, 2, 3)\n",
    "m4_s = np.linspace(0.01, 0.2, 4)\n",
    "ctau_min_s = []"
   ]
  },
  {
   "cell_type": "code",
   "execution_count": 76,
   "metadata": {
    "collapsed": true,
    "jupyter": {
     "outputs_hidden": true
    },
    "tags": []
   },
   "outputs": [
    {
     "name": "stdout",
     "output_type": "stream",
     "text": [
      "mz = 1.0\n",
      "m4 = 0.01\n",
      "[1.00000000e-03 1.62377674e-03 2.63665090e-03 4.28133240e-03\n",
      " 6.95192796e-03 1.12883789e-02 1.83298071e-02 2.97635144e-02\n",
      " 4.83293024e-02 7.84759970e-02 1.27427499e-01 2.06913808e-01\n",
      " 3.35981829e-01 5.45559478e-01 8.85866790e-01 1.43844989e+00\n",
      " 2.33572147e+00 3.79269019e+00 6.15848211e+00 1.00000000e+01]\n",
      "[-0.30663739 -0.30469951 -0.3014361  -0.28232379 -0.1713907   0.32385313\n",
      "  1.81990605  4.90268    10.2773372  19.83738831 34.98031378 52.94910405\n",
      " 69.10817452 81.02280027 89.05173607 94.34996948 96.69212032 94.95040236\n",
      " 88.76763849 78.92179037]\n",
      "[0.00444277 0.00477905 0.00514078 0.00552988 0.00594844 0.00639869\n",
      " 0.00688301 0.00740398 0.0079644  0.00856723 0.00921568 0.00991323\n",
      " 0.01066356 0.01147069 0.01233892 0.01327286 0.01427749 0.01535816\n",
      " 0.01652063 0.01777108]\n",
      "[-0.27886947 -0.27053487 -0.25972128 -0.24576755 -0.22785472 -0.20497756\n",
      " -0.17591662 -0.13921445 -0.09315998 -0.03578688  0.03510899  0.1219289\n",
      "  0.22720657  0.35352402  0.50341743  0.6792869   0.88332411  1.11746995\n",
      "  1.3834086   1.68259989]\n",
      "m4 = 0.105\n",
      "[1.00000000e-03 1.62377674e-03 2.63665090e-03 4.28133240e-03\n",
      " 6.95192796e-03 1.12883789e-02 1.83298071e-02 2.97635144e-02\n",
      " 4.83293024e-02 7.84759970e-02 1.27427499e-01 2.06913808e-01\n",
      " 3.35981829e-01 5.45559478e-01 8.85866790e-01 1.43844989e+00\n",
      " 2.33572147e+00 3.79269019e+00 6.15848211e+00 1.00000000e+01]\n",
      "[-0.43690755 -0.43684658 -0.43680029 -0.43681435 -0.43686625 -0.43684073\n",
      " -0.43663803 -0.43504937 -0.41290626 -0.26054912  0.3614984   2.15761737\n",
      "  6.02880674 12.92885752 23.87234839 39.09839304 56.17283139 71.08165891\n",
      " 81.55636196 87.96419976]\n",
      "[0.05170674 0.05562045 0.05983039 0.06435899 0.06923036 0.07447045\n",
      " 0.08010716 0.08617052 0.09269281 0.09970879 0.1072558  0.11537406\n",
      " 0.12410679 0.13350051 0.14360524 0.1544748  0.16616709 0.17874437\n",
      " 0.19227364 0.20682695]\n",
      "[-0.40403252 -0.3913873  -0.37477748 -0.35325555 -0.32571521 -0.29087703\n",
      " -0.24727576 -0.19325033 -0.12693718 -0.04626748  0.05103153  0.16743104\n",
      "  0.30559102  0.46834623  0.65868793  0.87974114  1.13473797  1.42698804\n",
      "  1.77708166  2.15530673]\n",
      "m4 = 0.2\n",
      "[1.00000000e-03 1.62377674e-03 2.63665090e-03 4.28133240e-03\n",
      " 6.95192796e-03 1.12883789e-02 1.83298071e-02 2.97635144e-02\n",
      " 4.83293024e-02 7.84759970e-02 1.27427499e-01 2.06913808e-01\n",
      " 3.35981829e-01 5.45559478e-01 8.85866790e-01 1.43844989e+00\n",
      " 2.33572147e+00 3.79269019e+00 6.15848211e+00 1.00000000e+01]\n",
      "[-0.73385579 -0.73394012 -0.7340773  -0.73425898 -0.7344759  -0.734726\n",
      " -0.73498601 -0.73526563 -0.73511279 -0.72443725 -0.63530409 -0.20364167\n",
      "  1.20790853  4.54408251 10.43928696 18.96462284 29.93016626 42.43558499\n",
      " 54.23781022 63.15839614]\n",
      "[0.11552829 0.1242727  0.13367897 0.14379721 0.15468131 0.16638923\n",
      " 0.17898332 0.19253068 0.20710344 0.22277922 0.23964151 0.25778011\n",
      " 0.27729164 0.29828001 0.320857   0.34514285 0.37126692 0.39936833\n",
      " 0.42959675 0.46211318]\n",
      "[-0.66786893 -0.64470053 -0.61501176 -0.57734524 -0.53001715 -0.47110856\n",
      " -0.39846249 -0.309687   -0.20216411 -0.07306444  0.08063257  0.26211257\n",
      "  0.47469355  0.72178586  1.00684412  1.33331122  1.70455519  2.12380125\n",
      "  2.61088166  3.13645924]\n",
      "mz = 1.5\n",
      "m4 = 0.01\n",
      "[1.00000000e-03 1.62377674e-03 2.63665090e-03 4.28133240e-03\n",
      " 6.95192796e-03 1.12883789e-02 1.83298071e-02 2.97635144e-02\n",
      " 4.83293024e-02 7.84759970e-02 1.27427499e-01 2.06913808e-01\n",
      " 3.35981829e-01 5.45559478e-01 8.85866790e-01 1.43844989e+00\n",
      " 2.33572147e+00 3.79269019e+00 6.15848211e+00 1.00000000e+01]\n",
      "[-1.09285166 -1.09275467 -1.09269327 -1.09066783 -1.06623718 -0.94429724\n",
      " -0.58152486  0.23755109  1.93714524  5.22792501 11.10367193 19.46484236\n",
      " 28.29936552 35.31923023 39.85317512 42.37232483 42.91934953 40.9885829\n",
      " 36.51042686 30.22973521]\n",
      "[0.01336994 0.01438192 0.0154705  0.01664147 0.01790107 0.01925601\n",
      " 0.02071351 0.02228133 0.02396782 0.02578196 0.02773341 0.02983257\n",
      " 0.03209061 0.03451957 0.03713237 0.03994295 0.04296625 0.04621839\n",
      " 0.04971669 0.05347977]\n",
      "[-0.85412782 -0.80444646 -0.74729747 -0.68196385 -0.60767953 -0.52361961\n",
      " -0.4288886  -0.3225065  -0.20339259 -0.07034665  0.0779722   0.24306919\n",
      "  0.42663937  0.65481376  0.88363687  1.1373271   1.41850365  1.73007515\n",
      "  2.07524006  2.45747017]\n",
      "m4 = 0.105\n",
      "[1.00000000e-03 1.62377674e-03 2.63665090e-03 4.28133240e-03\n",
      " 6.95192796e-03 1.12883789e-02 1.83298071e-02 2.97635144e-02\n",
      " 4.83293024e-02 7.84759970e-02 1.27427499e-01 2.06913808e-01\n",
      " 3.35981829e-01 5.45559478e-01 8.85866790e-01 1.43844989e+00\n",
      " 2.33572147e+00 3.79269019e+00 6.15848211e+00 1.00000000e+01]\n",
      "[-1.16469362 -1.16472065 -1.16477476 -1.16485417 -1.16492963 -1.16496743\n",
      " -1.16496159 -1.16466156 -1.15957197 -1.12217021 -0.96245217 -0.4897943\n",
      "  0.57652205  2.58767405  5.95980275 11.2041622  18.10140552 25.1041071\n",
      " 30.52876201 33.97519828]\n",
      "[0.13498285 0.14519979 0.15619004 0.16801216 0.1807291  0.19440859\n",
      " 0.20912349 0.22495217 0.24197893 0.26029446 0.2799963  0.30118938\n",
      " 0.32398658 0.34850931 0.37488819 0.4032637  0.43378696 0.46662055\n",
      " 0.50193933 0.53993142]\n",
      "[-0.92750611 -0.87639374 -0.81678579 -0.74773417 -0.6682541  -0.57733013\n",
      " -0.47392223 -0.35697131 -0.22540391 -0.07813517  0.08593045  0.26790154\n",
      "  0.46890574  0.69009993  0.93268441  1.19792081  1.4871524   1.81801734\n",
      "  2.16089777  2.53244061]\n",
      "m4 = 0.2\n",
      "[1.00000000e-03 1.62377674e-03 2.63665090e-03 4.28133240e-03\n",
      " 6.95192796e-03 1.12883789e-02 1.83298071e-02 2.97635144e-02\n",
      " 4.83293024e-02 7.84759970e-02 1.27427499e-01 2.06913808e-01\n",
      " 3.35981829e-01 5.45559478e-01 8.85866790e-01 1.43844989e+00\n",
      " 2.33572147e+00 3.79269019e+00 6.15848211e+00 1.00000000e+01]\n",
      "[-1.23275157 -1.23276458 -1.23277785 -1.23278771 -1.23279443 -1.23279646\n",
      " -1.23278685 -1.23276348 -1.23265719 -1.23119751 -1.21812186 -1.14455104\n",
      " -0.87262029 -0.16228073  1.26878815  3.69755695  7.24977632 11.80220249\n",
      " 16.60138805 20.57526899]\n",
      "[0.29345512 0.31566691 0.33955992 0.36526141 0.39290826 0.42264772\n",
      " 0.45463817 0.48905    0.52606648 0.56588476 0.60871691 0.65479105\n",
      " 0.70435257 0.75766543 0.81501357 0.87670243 0.94306055 1.01444135\n",
      " 1.09122501 1.17382047]\n",
      "[-0.98085205 -0.92634276 -0.862797   -0.78925807 -0.70474827 -0.60827684\n",
      " -0.49884745 -0.37546533 -0.23714354 -0.08290838  0.08819623  0.27710553\n",
      "  0.48473169  0.71196257  0.95966127  1.22866614  1.53577158  1.8509737\n",
      "  2.18976866  2.55283459]\n",
      "mz = 2.0\n",
      "m4 = 0.01\n",
      "[1.00000000e-03 1.62377674e-03 2.63665090e-03 4.28133240e-03\n",
      " 6.95192796e-03 1.12883789e-02 1.83298071e-02 2.97635144e-02\n",
      " 4.83293024e-02 7.84759970e-02 1.27427499e-01 2.06913808e-01\n",
      " 3.35981829e-01 5.45559478e-01 8.85866790e-01 1.43844989e+00\n",
      " 2.33572147e+00 3.79269019e+00 6.15848211e+00 1.00000000e+01]\n",
      "[-1.27812221 -1.27814607 -1.27801577 -1.27547296 -1.25904593 -1.20646381\n",
      " -1.08340705 -0.81382928 -0.24067051  0.95061234  3.16569038  6.58349752\n",
      " 10.53745991 13.89002128 16.11253273 17.34177868 17.56787399 16.51362324\n",
      " 14.19484344 11.11638349]\n",
      "[0.02750346 0.02958521 0.03182453 0.03423335 0.03682449 0.03961176\n",
      " 0.04261    0.04583518 0.04930447 0.05303635 0.0570507  0.0613689\n",
      " 0.06601395 0.07101059 0.07638542 0.08216708 0.08838635 0.09507637\n",
      " 0.10227275 0.11001384]\n",
      "[-0.87302139 -0.81859473 -0.75759825 -0.68930138 -0.61289702 -0.52749193\n",
      " -0.43209732 -0.3256208  -0.20686073 -0.07450423  0.07287008  0.23678335\n",
      "  0.41884112  0.62071     0.84408617  1.10955932  1.3822304   1.68113471\n",
      "  2.00752968  2.36240169]\n",
      "m4 = 0.105\n",
      "[1.00000000e-03 1.62377674e-03 2.63665090e-03 4.28133240e-03\n",
      " 6.95192796e-03 1.12883789e-02 1.83298071e-02 2.97635144e-02\n",
      " 4.83293024e-02 7.84759970e-02 1.27427499e-01 2.06913808e-01\n",
      " 3.35981829e-01 5.45559478e-01 8.85866790e-01 1.43844989e+00\n",
      " 2.33572147e+00 3.79269019e+00 6.15848211e+00 1.00000000e+01]\n",
      "[-1.29345584 -1.29346852 -1.2934866  -1.29350319 -1.29350677 -1.29349089\n",
      " -1.29344376 -1.29317318 -1.2910986  -1.27981529 -1.23470095 -1.09813152\n",
      " -0.77748274 -0.14951506  1.00606994  2.96571143  5.80223318  8.93542902\n",
      " 11.51477747 13.198719  ]\n",
      "[0.29591445 0.31831238 0.34240564 0.36832252 0.39620107 0.42618976\n",
      " 0.45844831 0.49314853 0.53047523 0.57062721 0.61381832 0.66027859\n",
      " 0.71025546 0.76401512 0.82184387 0.88404971 0.95096395 1.02294297\n",
      " 1.10037013 1.18365779]\n",
      "[-0.8854541  -0.82580129 -0.75966836 -0.68658707 -0.60604956 -0.51749764\n",
      " -0.42031175 -0.31380033 -0.19719095 -0.06962435  0.0698473   0.22225683\n",
      "  0.38871202  0.57037842  0.76845458  0.99970327  1.23523373  1.49055421\n",
      "  1.76655876  2.06393973]\n",
      "m4 = 0.2\n",
      "[1.00000000e-03 1.62377674e-03 2.63665090e-03 4.28133240e-03\n",
      " 6.95192796e-03 1.12883789e-02 1.83298071e-02 2.97635144e-02\n",
      " 4.83293024e-02 7.84759970e-02 1.27427499e-01 2.06913808e-01\n",
      " 3.35981829e-01 5.45559478e-01 8.85866790e-01 1.43844989e+00\n",
      " 2.33572147e+00 3.79269019e+00 6.15848211e+00 1.00000000e+01]\n",
      "[-1.31501965 -1.31501568 -1.31500947 -1.31499907 -1.31498352 -1.31496259\n",
      " -1.31493673 -1.31490674 -1.31485238 -1.31445661 -1.31071967 -1.28848349\n",
      " -1.20312951 -0.97119619 -0.49239118  0.31896167  1.55805508  3.2220408\n",
      "  5.10891169  6.7721986 ]\n",
      "[0.61003    0.65620353 0.70587196 0.75929982 0.81677167 0.87859359\n",
      " 0.94509486 1.01662964 1.09357893 1.17635256 1.26539138 1.3611696\n",
      " 1.46419732 1.57502327 1.69423771 1.82247555 1.9604198  2.10880512\n",
      " 2.26842182 2.44011999]\n",
      "[-0.88620813 -0.82300789 -0.7533776  -0.67702987 -0.5936904  -0.50309528\n",
      " -0.40498737 -0.29911214 -0.18521338 -0.06302953  0.06770901  0.2072806\n",
      "  0.35597061  0.5140666   0.68184998  0.85958375  1.04749664  1.26151856\n",
      "  1.47113744  1.69115212]\n"
     ]
    }
   ],
   "source": [
    "this_point = deepcopy(physics_parameters[hierarchy]['bp'])\n",
    "\n",
    "for mz in mz_s:\n",
    "    this_point['mz'] = mz\n",
    "    print(f'mz = {mz}')\n",
    "    ctau_min_s.append([])\n",
    "    for m4 in m4_s:\n",
    "        print(f'm4 = {m4}')\n",
    "        this_point['m4'] = m4\n",
    "        this_point['external_ctau'] = np.geomspace(0.001, 10, 20)\n",
    "        ctau_min = get_ctau0_min(this_point, base_like)\n",
    "        this_point['external_ctau'] = np.geomspace(ctau_min/2, ctau_min*2, 20)\n",
    "        ctau_min = get_ctau0_min(this_point, base_like)\n",
    "        \n",
    "        ctau_min_s[-1].append(ctau_min)"
   ]
  },
  {
   "cell_type": "code",
   "execution_count": 78,
   "metadata": {},
   "outputs": [],
   "source": [
    "this_point_for_title = deepcopy(this_point)\n",
    "this_point_for_title['m4'] = None\n",
    "this_point_for_title['mz'] = None\n",
    "this_point_for_title['Ud4_2'] = None\n",
    "this_point_for_title['external_ctau'] = None"
   ]
  },
  {
   "cell_type": "code",
   "execution_count": 80,
   "metadata": {},
   "outputs": [
    {
     "data": {
      "image/png": "[encoded data removed]",
      "text/plain": [
       "<Figure size 319.68x204.051 with 1 Axes>"
      ]
     },
     "metadata": {
      "needs_background": "light"
     },
     "output_type": "display_data"
    }
   ],
   "source": [
    "for i, mz in enumerate(mz_s):\n",
    "    plt.plot(m4_s,\n",
    "             ctau_min_s[i], \n",
    "             '.',\n",
    "             label=r'$m_{Z^{\\prime}}$ = '+f'{mz:.3g} GeV')\n",
    "    \n",
    "plt.legend(frameon=False)\n",
    "plt.xlabel(r'$m_N$ [GeV]')\n",
    "plt.ylabel(r'$c \\tau^0_{min}$ [cm]')\n",
    "set_plot_title(plt.gca(), \n",
    "               **this_point_for_title\n",
    "               )\n",
    "plt.savefig(save_folder + 'ctau_vs_mn_mz.pdf', bbox_inches='tight')"
   ]
  },
  {
   "cell_type": "markdown",
   "metadata": {
    "jp-MarkdownHeadingCollapsed": true,
    "tags": []
   },
   "source": [
    "## Varying V_muN"
   ]
  },
  {
   "cell_type": "code",
   "execution_count": 88,
   "metadata": {},
   "outputs": [],
   "source": [
    "Umu4_2_s = [2e-8, 1e-7, 5e-7]\n",
    "m4_s = np.linspace(0.01, 0.2, 3)\n",
    "ctau_min_s = []"
   ]
  },
  {
   "cell_type": "code",
   "execution_count": 90,
   "metadata": {
    "collapsed": true,
    "jupyter": {
     "outputs_hidden": true
    },
    "tags": []
   },
   "outputs": [
    {
     "name": "stdout",
     "output_type": "stream",
     "text": [
      "Umu4_2 = 2e-08\n",
      "m4 = 0.01\n",
      "[1.00000000e-03 1.62377674e-03 2.63665090e-03 4.28133240e-03\n",
      " 6.95192796e-03 1.12883789e-02 1.83298071e-02 2.97635144e-02\n",
      " 4.83293024e-02 7.84759970e-02 1.27427499e-01 2.06913808e-01\n",
      " 3.35981829e-01 5.45559478e-01 8.85866790e-01 1.43844989e+00\n",
      " 2.33572147e+00 3.79269019e+00 6.15848211e+00 1.00000000e+01]\n",
      "[-1.30944584 -1.30957986 -1.30972962 -1.30955667 -1.30575157 -1.28376917\n",
      " -1.21102335 -1.04714914 -0.7412019  -0.14488549  1.07847667  3.11986119\n",
      "  5.63008451  7.85123903  9.40069017 10.34188305 10.61890805 10.00249697\n",
      "  8.50494359  6.49708658]\n",
      "[0.04243187 0.04564356 0.04909835 0.05281464 0.05681221 0.06111236\n",
      " 0.06573799 0.07071373 0.0760661  0.08182358 0.08801686 0.09467891\n",
      " 0.10184521 0.10955393 0.11784613 0.12676598 0.13636097 0.14668221\n",
      " 0.15778467 0.16972749]\n",
      "[-0.84257937 -0.78790351 -0.72765633 -0.6610637  -0.58723025 -0.50514051\n",
      " -0.41366637 -0.31158156 -0.19758391 -0.0703256   0.07154884  0.22935748\n",
      "  0.40433015  0.59755345  0.82760316  1.06105799  1.31456114  1.58802468\n",
      "  1.88096067  2.1924593 ]\n",
      "m4 = 0.105\n",
      "[1.00000000e-03 1.62377674e-03 2.63665090e-03 4.28133240e-03\n",
      " 6.95192796e-03 1.12883789e-02 1.83298071e-02 2.97635144e-02\n",
      " 4.83293024e-02 7.84759970e-02 1.27427499e-01 2.06913808e-01\n",
      " 3.35981829e-01 5.45559478e-01 8.85866790e-01 1.43844989e+00\n",
      " 2.33572147e+00 3.79269019e+00 6.15848211e+00 1.00000000e+01]\n",
      "[-1.32075245 -1.32075253 -1.32075367 -1.32075677 -1.320762   -1.32076884\n",
      " -1.32077609 -1.32074847 -1.32010419 -1.3151632  -1.2925093  -1.21924389\n",
      " -1.04046357 -0.68095876 -0.01331865  1.17541637  2.92176688  4.88591888\n",
      "  6.53152938  7.63735698]\n",
      "[0.44613929 0.47990783 0.51623234 0.55530626 0.59733772 0.64255056\n",
      " 0.69118559 0.74350183 0.79977792 0.86031358 0.92543122 0.99547766\n",
      " 1.07082594 1.15187739 1.23906366 1.33284912 1.43373325 1.54225336\n",
      " 1.65898742 1.78455715]\n",
      "[-0.8583916  -0.79929463 -0.73434756 -0.66303747 -0.58479451 -0.49899124\n",
      " -0.40494565 -0.30192833 -0.18917465 -0.06590223  0.06866635  0.2152757\n",
      "  0.37460549  0.54723495  0.7336056   0.94992044  1.16538989  1.39466348\n",
      "  1.63725457  1.89239308]\n",
      "m4 = 0.2\n",
      "[1.00000000e-03 1.62377674e-03 2.63665090e-03 4.28133240e-03\n",
      " 6.95192796e-03 1.12883789e-02 1.83298071e-02 2.97635144e-02\n",
      " 4.83293024e-02 7.84759970e-02 1.27427499e-01 2.06913808e-01\n",
      " 3.35981829e-01 5.45559478e-01 8.85866790e-01 1.43844989e+00\n",
      " 2.33572147e+00 3.79269019e+00 6.15848211e+00 1.00000000e+01]\n",
      "[-1.33162115 -1.33162438 -1.33162871 -1.331633   -1.33163668 -1.33163876\n",
      " -1.33163723 -1.33163325 -1.33160723 -1.33119783 -1.32810673 -1.31305802\n",
      " -1.26153996 -1.12995114 -0.85978199 -0.38228876  0.38018725  1.47358861\n",
      "  2.71213812  3.79729044]\n",
      "[0.9409338  1.01215363 1.08876414 1.17117333 1.25982013 1.35517665\n",
      " 1.45775077 1.56808878 1.68677834 1.81445158 1.95178848 2.09952049\n",
      " 2.25843443 2.42937666 2.6132576  2.8110566  3.02382712 3.25270237\n",
      " 3.49890132 3.76373521]\n",
      "[-0.81320594 -0.75238402 -0.68641589 -0.61502662 -0.53793334 -0.45484799\n",
      " -0.36548185 -0.26955208 -0.16679055 -0.05695482  0.06015894  0.18470135\n",
      "  0.31675408  0.4563139   0.60327715  0.7574257   0.93374343  1.10189778\n",
      "  1.27575715  1.45455681]\n",
      "Umu4_2 = 1e-07\n",
      "m4 = 0.01\n",
      "[1.00000000e-03 1.62377674e-03 2.63665090e-03 4.28133240e-03\n",
      " 6.95192796e-03 1.12883789e-02 1.83298071e-02 2.97635144e-02\n",
      " 4.83293024e-02 7.84759970e-02 1.27427499e-01 2.06913808e-01\n",
      " 3.35981829e-01 5.45559478e-01 8.85866790e-01 1.43844989e+00\n",
      " 2.33572147e+00 3.79269019e+00 6.15848211e+00 1.00000000e+01]\n",
      "[-1.12739175 -1.12806032 -1.12880762 -1.12794956 -1.10894746 -0.9986368\n",
      " -0.63739653  0.1450404   1.57048866  4.23075111  9.27295044 16.88683849\n",
      " 25.15532881 31.79950199 36.21846397 38.90001603 39.79786136 38.30564075\n",
      " 34.29695027 28.48351134]\n",
      "[0.01388262 0.0149334  0.01606372 0.01727959 0.01858749 0.01999439\n",
      " 0.02150778 0.02313571 0.02488687 0.02677057 0.02879685 0.0309765\n",
      " 0.03332113 0.03584323 0.03855622 0.04147456 0.0446138  0.04799064\n",
      " 0.05162308 0.05553046]\n",
      "[-0.88622037 -0.83284058 -0.77128671 -0.70099102 -0.6214361  -0.53215217\n",
      " -0.4327061  -0.32268131 -0.20164844 -0.06912728  0.0754589   0.23283519\n",
      "  0.40393078  0.58993654  0.79236152  1.01308543  1.25440358  1.54345369\n",
      "  1.83645964  2.15949517]\n",
      "m4 = 0.105\n",
      "[1.00000000e-03 1.62377674e-03 2.63665090e-03 4.28133240e-03\n",
      " 6.95192796e-03 1.12883789e-02 1.83298071e-02 2.97635144e-02\n",
      " 4.83293024e-02 7.84759970e-02 1.27427499e-01 2.06913808e-01\n",
      " 3.35981829e-01 5.45559478e-01 8.85866790e-01 1.43844989e+00\n",
      " 2.33572147e+00 3.79269019e+00 6.15848211e+00 1.00000000e+01]\n",
      "[-1.18399    -1.18399044 -1.18399612 -1.18401154 -1.18403761 -1.18407175\n",
      " -1.18410801 -1.18397073 -1.18076107 -1.15613878 -1.0433616  -0.68082676\n",
      "  0.19020766  1.91368398  4.95932565  9.94850328 16.68450019 23.53727036\n",
      " 28.82981675 32.2173545 ]\n",
      "[0.15522848 0.16697782 0.17961646 0.19321174 0.20783605 0.22356728\n",
      " 0.24048922 0.25869199 0.27827254 0.29933515 0.321992   0.34636377\n",
      " 0.37258024 0.40078106 0.43111642 0.46374787 0.49884922 0.53660741\n",
      " 0.57722354 0.62091392]\n",
      "[-0.93888107 -0.88691223 -0.82634191 -0.75622577 -0.6755928  -0.58345146\n",
      " -0.47879385 -0.36059706 -0.22782099 -0.07940195  0.08575824  0.26880789\n",
      "  0.4709653   0.69354232  0.93796996  1.20582454  1.51546996  1.83683355\n",
      "  2.18735785  2.56929554]\n",
      "m4 = 0.2\n",
      "[1.00000000e-03 1.62377674e-03 2.63665090e-03 4.28133240e-03\n",
      " 6.95192796e-03 1.12883789e-02 1.83298071e-02 2.97635144e-02\n",
      " 4.83293024e-02 7.84759970e-02 1.27427499e-01 2.06913808e-01\n",
      " 3.35981829e-01 5.45559478e-01 8.85866790e-01 1.43844989e+00\n",
      " 2.33572147e+00 3.79269019e+00 6.15848211e+00 1.00000000e+01]\n",
      "[-1.23821519 -1.23823126 -1.23825288 -1.23827427 -1.23829264 -1.23830297\n",
      " -1.23829532 -1.23827545 -1.23814568 -1.23610337 -1.22066832 -1.14555434\n",
      " -0.88967115 -0.24363493  1.05565495  3.30000972  6.68346785 11.14312539\n",
      " 15.89397556 19.80417218]\n",
      "[0.30677635 0.32999643 0.35497405 0.38184224 0.41074411 0.44183357\n",
      " 0.47527621 0.51125015 0.54994697 0.59157278 0.63634927 0.68451492\n",
      " 0.73632625 0.79205922 0.85201065 0.91649983 0.98587024 1.06049134\n",
      " 1.14076055 1.22710538]\n",
      "[-0.96002603 -0.90460144 -0.84065387 -0.7673221  -0.68371845 -0.58893436\n",
      " -0.48204625 -0.36212148 -0.22822372 -0.07941751  0.08522848  0.26663986\n",
      "  0.46573667  0.68343522  0.92065111  1.1783029   1.47331045  1.77578264\n",
      "  2.10141669  2.45110045]\n",
      "Umu4_2 = 5e-07\n",
      "m4 = 0.01\n",
      "[1.00000000e-03 1.62377674e-03 2.63665090e-03 4.28133240e-03\n",
      " 6.95192796e-03 1.12883789e-02 1.83298071e-02 2.97635144e-02\n",
      " 4.83293024e-02 7.84759970e-02 1.27427499e-01 2.06913808e-01\n",
      " 3.35981829e-01 5.45559478e-01 8.85866790e-01 1.43844989e+00\n",
      " 2.33572147e+00 3.79269019e+00 6.15848211e+00 1.00000000e+01]\n",
      "[-0.22559733 -0.22886263 -0.23252118 -0.22837472 -0.13594844  0.38825734\n",
      "  1.97293272  4.99551743 10.04495179 19.06250754 33.97899436 52.36215684\n",
      " 69.04317118 81.08405153 88.82100349 93.61570507 95.50640297 93.53104829\n",
      " 87.31202035 77.53267392]\n",
      "[0.00426209 0.00458469 0.00493171 0.00530499 0.00570653 0.00613846\n",
      " 0.00660309 0.00710288 0.0076405  0.00821881 0.0088409  0.00951007\n",
      " 0.01022989 0.0110042  0.01183711 0.01273307 0.01369685 0.01473357\n",
      " 0.01584876 0.01704836]\n",
      "[-0.2285687  -0.22464931 -0.21868339 -0.20994809 -0.19753596 -0.1803292\n",
      " -0.15697802 -0.12588685 -0.08521323 -0.03288361  0.0333705   0.11595537\n",
      "  0.21733921  0.33996386  0.48615272  0.65802547  0.8574301   1.08590163\n",
      "  1.34465456  1.63461286]\n",
      "m4 = 0.105\n",
      "[1.00000000e-03 1.62377674e-03 2.63665090e-03 4.28133240e-03\n",
      " 6.95192796e-03 1.12883789e-02 1.83298071e-02 2.97635144e-02\n",
      " 4.83293024e-02 7.84759970e-02 1.27427499e-01 2.06913808e-01\n",
      " 3.35981829e-01 5.45559478e-01 8.85866790e-01 1.43844989e+00\n",
      " 2.33572147e+00 3.79269019e+00 6.15848211e+00 1.00000000e+01]\n",
      "[-0.5059031  -0.50590531 -0.50593325 -0.506009   -0.50613721 -0.50630585\n",
      " -0.50648709 -0.50582055 -0.49006905 -0.36930594  0.1787375   1.90540646\n",
      "  5.76438917 12.59051495 23.23826186 38.05527254 54.75869193 69.28212994\n",
      " 79.37383151 85.4923728 ]\n",
      "[0.05760968 0.06197019 0.06666075 0.07170634 0.07713384 0.08297215\n",
      " 0.08925236 0.09600792 0.10327481 0.11109175 0.11950034 0.1285454\n",
      " 0.13827507 0.14874119 0.1599995  0.17210996 0.18513706 0.19915019\n",
      " 0.21422399 0.23043873]\n",
      "[-0.46816165 -0.45354049 -0.43440175 -0.40964411 -0.37796738 -0.33785214\n",
      " -0.28754135 -0.22502572 -0.14803443 -0.05403316  0.059769    0.19640251\n",
      "  0.35910973  0.55130676  0.77653621  1.03841279  1.35727713  1.70462938\n",
      "  2.09936559  2.5447708 ]\n",
      "m4 = 0.2\n",
      "[1.00000000e-03 1.62377674e-03 2.63665090e-03 4.28133240e-03\n",
      " 6.95192796e-03 1.12883789e-02 1.83298071e-02 2.97635144e-02\n",
      " 4.83293024e-02 7.84759970e-02 1.27427499e-01 2.06913808e-01\n",
      " 3.35981829e-01 5.45559478e-01 8.85866790e-01 1.43844989e+00\n",
      " 2.33572147e+00 3.79269019e+00 6.15848211e+00 1.00000000e+01]\n",
      "[-0.77388755 -0.77396687 -0.77407361 -0.77417914 -0.77426973 -0.77432054\n",
      " -0.77428227 -0.77418328 -0.77354197 -0.76345873 -0.68718971 -0.31860931\n",
      "  0.9074542   3.88480719  9.36827994 17.70266867 28.70807028 41.22972364\n",
      " 52.90194416 61.60884875]\n",
      "[0.1242286  0.13363153 0.14374618 0.15462642 0.16633018 0.17891981\n",
      " 0.19246235 0.20702994 0.22270016 0.23955647 0.25768864 0.27719324\n",
      " 0.29817416 0.32074314 0.34502037 0.37113517 0.3992266  0.4294443\n",
      " 0.46194919 0.4969144 ]\n",
      "[-0.69527763 -0.67009592 -0.6381336  -0.5979258  -0.5477949  -0.48584596\n",
      " -0.40996676 -0.31783245 -0.20691453 -0.07449421  0.08231987  0.26656895\n",
      "  0.4814164   0.73011443  1.01596564  1.34227993  1.72895193  2.14741573\n",
      "  2.61579883  3.1368825 ]\n"
     ]
    }
   ],
   "source": [
    "this_point = deepcopy(physics_parameters[hierarchy]['bp'])\n",
    "\n",
    "for Umu4_2 in Umu4_2_s:\n",
    "    this_point['Umu4_2'] = Umu4_2\n",
    "    print(f'Umu4_2 = {Umu4_2}')\n",
    "    ctau_min_s.append([])\n",
    "    for m4 in m4_s:\n",
    "        print(f'm4 = {m4}')\n",
    "        this_point['m4'] = m4\n",
    "        this_point['external_ctau'] = np.geomspace(0.001, 10, 20)\n",
    "        ctau_min = get_ctau0_min(this_point, base_like)\n",
    "        this_point['external_ctau'] = np.geomspace(ctau_min/2, ctau_min*2, 20)\n",
    "        ctau_min = get_ctau0_min(this_point, base_like)\n",
    "        \n",
    "        ctau_min_s[-1].append(ctau_min)"
   ]
  },
  {
   "cell_type": "code",
   "execution_count": 92,
   "metadata": {},
   "outputs": [],
   "source": [
    "this_point_for_title = deepcopy(this_point)\n",
    "this_point_for_title['m4'] = None\n",
    "this_point_for_title['Umu4_2'] = None\n",
    "this_point_for_title['Ud4_2'] = None\n",
    "this_point_for_title['external_ctau'] = None"
   ]
  },
  {
   "cell_type": "code",
   "execution_count": 94,
   "metadata": {},
   "outputs": [
    {
     "data": {
      "text/plain": [
       "[[],\n",
       " [0.08491952405258103, 0.8923183303210169, 1.881067492078531],\n",
       " [0.027742591261226305, 0.31031759665909164, 0.6133165629715931],\n",
       " [0.008539613004478667, 0.11520381807737003, 0.2483787411900989]]"
      ]
     },
     "execution_count": 94,
     "metadata": {},
     "output_type": "execute_result"
    }
   ],
   "source": [
    "ctau_min_s"
   ]
  },
  {
   "cell_type": "code",
   "execution_count": 96,
   "metadata": {},
   "outputs": [
    {
     "data": {
      "image/png": "[encoded data removed]",
      "text/plain": [
       "<Figure size 319.68x204.051 with 1 Axes>"
      ]
     },
     "metadata": {
      "needs_background": "light"
     },
     "output_type": "display_data"
    }
   ],
   "source": [
    "for i, Umu4_2 in enumerate(Umu4_2_s):\n",
    "    plt.plot(m4_s,\n",
    "             ctau_min_s[i+1], \n",
    "             '.',\n",
    "             label=r'$|V_{\\mu N}|^2$ ='+f'{Umu4_2:.3g}')\n",
    "    \n",
    "plt.legend(frameon=False)\n",
    "plt.xlabel(r'$m_N$ [GeV]')\n",
    "plt.ylabel(r'$c \\tau^0_{min}$ [cm]')\n",
    "set_plot_title(plt.gca(), \n",
    "               **this_point_for_title\n",
    "               )\n",
    "plt.savefig(save_folder + 'ctau_vs_mn_Umu4_2.pdf', bbox_inches='tight')"
   ]
  },
  {
   "cell_type": "markdown",
   "metadata": {
    "jp-MarkdownHeadingCollapsed": true,
    "tags": []
   },
   "source": [
    "## Varying both"
   ]
  },
  {
   "cell_type": "code",
   "execution_count": 63,
   "metadata": {},
   "outputs": [],
   "source": [
    "mz_s = np.linspace(1, 2, 8)\n",
    "Umu4_2_s = np.linspace(2e-8, 1e-6, 7)\n",
    "m4_s = np.linspace(0.01, 0.2, 10)\n",
    "mz_s, Umu4_2_s, m4_s = np.meshgrid(mz_s, Umu4_2_s, m4_s, indexing='ij')\n",
    "ctau_min_s = np.zeros(shape=(len(mz_s), len(Umu4_2_s), len(m4_s)))"
   ]
  },
  {
   "cell_type": "code",
   "execution_count": 66,
   "metadata": {},
   "outputs": [],
   "source": [
    "this_point = deepcopy(physics_parameters[hierarchy]['bp'])\n",
    "\n",
    "def get_ctau0_min_from_pars(mz, Umu4_2, m4):\n",
    "    print(mz, Umu4_2, m4)\n",
    "    this_point['mz'] = mz\n",
    "    this_point['Umu4_2'] = Umu4_2\n",
    "    this_point['m4'] = m4\n",
    "    this_point['external_ctau'] = np.geomspace(0.01, 10, 20)\n",
    "    # ctau_min = get_ctau0_min(this_point, base_like)\n",
    "    # this_point['external_ctau'] = np.geomspace(ctau_min/2, ctau_min*2, 20)\n",
    "    return get_ctau0_min(this_point, base_like)\n",
    "\n",
    "get_ctau0_min_from_pars_v = np.vectorize(get_ctau0_min_from_pars)"
   ]
  },
  {
   "cell_type": "code",
   "execution_count": 67,
   "metadata": {
    "collapsed": true,
    "jupyter": {
     "outputs_hidden": true
    },
    "tags": []
   },
   "outputs": [
    {
     "name": "stdout",
     "output_type": "stream",
     "text": [
      "1.0 2e-08 0.01\n",
      "[ 0.01        0.0143845   0.02069138  0.02976351  0.04281332  0.06158482\n",
      "  0.08858668  0.1274275   0.18329807  0.26366509  0.37926902  0.54555948\n",
      "  0.78475997  1.12883789  1.62377674  2.33572147  3.35981829  4.83293024\n",
      "  6.95192796 10.        ]\n",
      "[-1.27033613 -1.2539807  -1.20221934 -1.08168746 -0.85138856 -0.43982289\n",
      "  0.32509934  1.62834371  3.64032267  6.24312973  9.03200867 11.57913527\n",
      " 13.68444121 15.33280601 16.47578107 16.94056725 16.55326932 15.30105451\n",
      " 13.37033409 11.0651623 ]\n",
      "1.0 2e-08 0.01\n",
      "[ 0.01        0.0143845   0.02069138  0.02976351  0.04281332  0.06158482\n",
      "  0.08858668  0.1274275   0.18329807  0.26366509  0.37926902  0.54555948\n",
      "  0.78475997  1.12883789  1.62377674  2.33572147  3.35981829  4.83293024\n",
      "  6.95192796 10.        ]\n",
      "[-1.27033613 -1.2539807  -1.20221934 -1.08168746 -0.85138856 -0.43982289\n",
      "  0.32509934  1.62834371  3.64032267  6.24312973  9.03200867 11.57913527\n",
      " 13.68444121 15.33280601 16.47578107 16.94056725 16.55326932 15.30105451\n",
      " 13.37033409 11.0651623 ]\n",
      "1.0 2e-08 0.105\n",
      "[ 0.01        0.0143845   0.02069138  0.02976351  0.04281332  0.06158482\n",
      "  0.08858668  0.1274275   0.18329807  0.26366509  0.37926902  0.54555948\n",
      "  0.78475997  1.12883789  1.62377674  2.33572147  3.35981829  4.83293024\n",
      "  6.95192796 10.        ]\n",
      "[-1.28488944 -1.28494889 -1.28499326 -1.28494946 -1.28438188 -1.2815363\n",
      " -1.27148555 -1.24301082 -1.1746704  -1.03293745 -0.77346305 -0.34118572\n",
      "  0.33717489  1.37663126  2.83771216  4.72478844  6.86087188  8.95420038\n",
      " 10.76853609 12.21380274]\n",
      "1.0 2e-08 0.2\n",
      "[ 0.01        0.0143845   0.02069138  0.02976351  0.04281332  0.06158482\n",
      "  0.08858668  0.1274275   0.18329807  0.26366509  0.37926902  0.54555948\n",
      "  0.78475997  1.12883789  1.62377674  2.33572147  3.35981829  4.83293024\n",
      "  6.95192796 10.        ]\n",
      "[-1.3067301  -1.30673333 -1.30673501 -1.30673986 -1.30674315 -1.30661774\n",
      " -1.30571282 -1.30191097 -1.28956686 -1.25623714 -1.17959328 -1.02635073\n",
      " -0.75497278 -0.321914    0.31359632  1.2038766   2.33380931  3.66303562\n",
      "  5.05149147  6.3240452 ]\n",
      "1.0 1e-07 0.01\n",
      "[ 0.01        0.0143845   0.02069138  0.02976351  0.04281332  0.06158482\n",
      "  0.08858668  0.1274275   0.18329807  0.26366509  0.37926902  0.54555948\n",
      "  0.78475997  1.12883789  1.62377674  2.33572147  3.35981829  4.83293024\n",
      "  6.95192796 10.        ]\n",
      "[-9.32544273e-01 -8.51323211e-01 -5.94980589e-01 -9.16309804e-03\n",
      "  1.11041886e+00  2.97785532e+00  6.16825165e+00  1.13194867e+01\n",
      "  1.84792002e+01  2.66882864e+01  3.45554504e+01  4.11776585e+01\n",
      "  4.63972956e+01  5.03920152e+01  5.31581309e+01  5.43803074e+01\n",
      "  5.37056704e+01  5.10459216e+01  4.66568349e+01  4.10368748e+01]\n",
      "1.0 1e-07 0.105\n",
      "[ 0.01        0.0143845   0.02069138  0.02976351  0.04281332  0.06158482\n",
      "  0.08858668  0.1274275   0.18329807  0.26366509  0.37926902  0.54555948\n",
      "  0.78475997  1.12883789  1.62377674  2.33572147  3.35981829  4.83293024\n",
      "  6.95192796 10.        ]\n",
      "[-1.00530034 -1.00559603 -1.00581697 -1.00560033 -1.00278234 -0.98863425\n",
      " -0.93859955 -0.79718274 -0.46101245  0.22471669  1.45123876  3.45346975\n",
      "  6.43377705 10.66257809 16.24105425 22.84290837 29.66921173 35.83495753\n",
      " 40.84710504 44.66592622]\n",
      "1.0 1e-07 0.2\n",
      "[ 0.01        0.0143845   0.02069138  0.02976351  0.04281332  0.06158482\n",
      "  0.08858668  0.1274275   0.18329807  0.26366509  0.37926902  0.54555948\n",
      "  0.78475997  1.12883789  1.62377674  2.33572147  3.35981829  4.83293024\n",
      "  6.95192796 10.        ]\n",
      "[-1.11410833 -1.11412465 -1.11413322 -1.11415762 -1.11417434 -1.11355097\n",
      " -1.10904577 -1.09009175 -1.02856616 -0.86308329 -0.48574245  0.2582557\n",
      "  1.56551719  3.56510573  6.3674019  10.00686917 14.39966885 19.22925447\n",
      " 23.95360966 28.04537848]\n",
      "1.0 5e-07 0.01\n",
      "[ 0.01        0.0143845   0.02069138  0.02976351  0.04281332  0.06158482\n",
      "  0.08858668  0.1274275   0.18329807  0.26366509  0.37926902  0.54555948\n",
      "  0.78475997  1.12883789  1.62377674  2.33572147  3.35981829  4.83293024\n",
      "  6.95192796 10.        ]\n",
      "[  0.72962628   1.11153781   2.27266801   4.69521229   8.69984593\n",
      "  14.99172435  24.73744981  38.37046653  54.32957053  69.88227476\n",
      "  83.13635664  93.64910844 101.81497955 108.11380308 112.58647479\n",
      " 114.8219077  114.36224471 111.05768501 105.13416495  97.07453561]\n",
      "1.0 5e-07 0.105\n",
      "[ 0.01        0.0143845   0.02069138  0.02976351  0.04281332  0.06158482\n",
      "  0.08858668  0.1274275   0.18329807  0.26366509  0.37926902  0.54555948\n",
      "  0.78475997  1.12883789  1.62377674  2.33572147  3.35981829  4.83293024\n",
      "  6.95192796 10.        ]\n",
      "[  0.38714139   0.38569883   0.38461216   0.38563379   0.39920985\n",
      "   0.46738756   0.70680711   1.36978412   2.88860082   5.82237366\n",
      "  10.67830481  17.77663646  27.30581723  39.25774847  53.03752733\n",
      "  67.27463016  80.32411208  91.06215356  99.25549475 105.2628528 ]\n",
      "1.0 5e-07 0.2\n",
      "[ 0.01        0.0143845   0.02069138  0.02976351  0.04281332  0.06158482\n",
      "  0.08858668  0.1274275   0.18329807  0.26366509  0.37926902  0.54555948\n",
      "  0.78475997  1.12883789  1.62377674  2.33572147  3.35981829  4.83293024\n",
      "  6.95192796 10.        ]\n",
      "[-1.62514438e-01 -1.62599442e-01 -1.62646883e-01 -1.62771944e-01\n",
      " -1.62861292e-01 -1.59837478e-01 -1.37916731e-01 -4.57938244e-02\n",
      "  2.50975336e-01  1.03464749e+00  2.78787688e+00  6.03630122e+00\n",
      "  1.12313757e+01  1.84521646e+01  2.74380591e+01  3.77834096e+01\n",
      "  4.89088786e+01  5.98970189e+01  6.96882393e+01  7.75737596e+01]\n",
      "2.0 2e-08 0.01\n",
      "[ 0.01        0.0143845   0.02069138  0.02976351  0.04281332  0.06158482\n",
      "  0.08858668  0.1274275   0.18329807  0.26366509  0.37926902  0.54555948\n",
      "  0.78475997  1.12883789  1.62377674  2.33572147  3.35981829  4.83293024\n",
      "  6.95192796 10.        ]\n",
      "[-1.34577297 -1.34207834 -1.33565295 -1.32407834 -1.30265508 -1.26390921\n",
      " -1.19747792 -1.09135751 -0.93806655 -0.74462598 -0.53575642 -0.34174644\n",
      " -0.18136341 -0.0596183   0.01884244  0.04051826 -0.00869513 -0.12810353\n",
      " -0.29788665 -0.48865082]\n",
      "2.0 2e-08 0.105\n",
      "[ 0.01        0.0143845   0.02069138  0.02976351  0.04281332  0.06158482\n",
      "  0.08858668  0.1274275   0.18329807  0.26366509  0.37926902  0.54555948\n",
      "  0.78475997  1.12883789  1.62377674  2.33572147  3.35981829  4.83293024\n",
      "  6.95192796 10.        ]\n",
      "[-1.35044763 -1.35044688 -1.35044519 -1.35044109 -1.35041899 -1.35029825\n",
      " -1.34979808 -1.34820391 -1.34414367 -1.33553085 -1.31962226 -1.2927728\n",
      " -1.24937499 -1.18095393 -1.07847752 -0.9395631  -0.7759327  -0.61076882\n",
      " -0.46469012 -0.34683312]\n",
      "2.0 2e-08 0.2\n",
      "[ 0.01        0.0143845   0.02069138  0.02976351  0.04281332  0.06158482\n",
      "  0.08858668  0.1274275   0.18329807  0.26366509  0.37926902  0.54555948\n",
      "  0.78475997  1.12883789  1.62377674  2.33572147  3.35981829  4.83293024\n",
      "  6.95192796 10.        ]\n",
      "[-1.3518729  -1.35187279 -1.35187252 -1.35187209 -1.35187105 -1.35186347\n",
      " -1.35181172 -1.35156196 -1.35066601 -1.34815029 -1.34239272 -1.3312726\n",
      " -1.3125569  -1.28409206 -1.2433407  -1.18690673 -1.11196631 -1.02029513\n",
      " -0.92117465 -0.82813013]\n",
      "2.0 1e-07 0.01\n",
      "[ 0.01        0.0143845   0.02069138  0.02976351  0.04281332  0.06158482\n",
      "  0.08858668  0.1274275   0.18329807  0.26366509  0.37926902  0.54555948\n",
      "  0.78475997  1.12883789  1.62377674  2.33572147  3.35981829  4.83293024\n",
      "  6.95192796 10.        ]\n",
      "[-1.30879429 -1.29016281 -1.25782495 -1.19985637 -1.09301476 -0.90052332\n",
      " -0.57228692 -0.05219432  0.70928658  1.63649509  2.61880395  3.5156635\n",
      "  4.2482854   4.80172249  5.15972758  5.26366643  5.04953747  4.51549219\n",
      "  3.74305977  2.85992999]\n",
      "2.0 1e-07 0.105\n",
      "[ 0.01        0.0143845   0.02069138  0.02976351  0.04281332  0.06158482\n",
      "  0.08858668  0.1274275   0.18329807  0.26366509  0.37926902  0.54555948\n",
      "  0.78475997  1.12883789  1.62377674  2.33572147  3.35981829  4.83293024\n",
      "  6.95192796 10.        ]\n",
      "[-1.33224206 -1.33223828 -1.33222986 -1.33220933 -1.33209891 -1.33149548\n",
      " -1.3289956  -1.32102817 -1.30074011 -1.2577294  -1.17838443 -1.04476552\n",
      " -0.82952733 -0.49187517  0.01023826  0.69967469  1.48826205  2.27328673\n",
      "  2.95900391  3.50681852]\n",
      "2.0 1e-07 0.2\n",
      "[ 0.01        0.0143845   0.02069138  0.02976351  0.04281332  0.06158482\n",
      "  0.08858668  0.1274275   0.18329807  0.26366509  0.37926902  0.54555948\n",
      "  0.78475997  1.12883789  1.62377674  2.33572147  3.35981829  4.83293024\n",
      "  6.95192796 10.        ]\n",
      "[-1.33936647 -1.33936594 -1.3393646  -1.33936246 -1.33935724 -1.33931934\n",
      " -1.33906066 -1.33781224 -1.33333376 -1.32076024 -1.29199672 -1.2364982\n",
      " -1.14325217 -1.00179348 -0.79996189 -0.52165977 -0.15406645  0.29274218\n",
      "  0.78786261  1.23761101]\n",
      "2.0 5e-07 0.01\n",
      "[ 0.01        0.0143845   0.02069138  0.02976351  0.04281332  0.06158482\n",
      "  0.08858668  0.1274275   0.18329807  0.26366509  0.37926902  0.54555948\n",
      "  0.78475997  1.12883789  1.62377674  2.33572147  3.35981829  4.83293024\n",
      "  6.95192796 10.        ]\n",
      "[-1.12303021 -1.02831648 -0.86654927 -0.58194815 -0.06389549  0.88143719\n",
      "  2.42420136  4.77749505  7.96655671 11.68800847 15.39615673 18.61760826\n",
      " 21.17015945 23.07957177 24.33052494 24.74472759 24.10747163 22.37371583\n",
      " 19.74356657 16.58291336]\n",
      "2.0 5e-07 0.105\n",
      "[ 0.01        0.0143845   0.02069138  0.02976351  0.04281332  0.06158482\n",
      "  0.08858668  0.1274275   0.18329807  0.26366509  0.37926902  0.54555948\n",
      "  0.78475997  1.12883789  1.62377674  2.33572147  3.35981829  4.83293024\n",
      "  6.95192796 10.        ]\n",
      "[-1.24130879 -1.24128992 -1.24124786 -1.24114544 -1.24059463 -1.23758412\n",
      " -1.22511105 -1.18536989 -1.08431928 -0.87087265 -0.47982245  0.17165617\n",
      "  1.22135122  2.81154085  5.09472182  8.02304834 11.26015222 14.32965562\n",
      " 16.90392363 18.8989398 ]\n",
      "2.0 5e-07 0.2\n",
      "[ 0.01        0.0143845   0.02069138  0.02976351  0.04281332  0.06158482\n",
      "  0.08858668  0.1274275   0.18329807  0.26366509  0.37926902  0.54555948\n",
      "  0.78475997  1.12883789  1.62377674  2.33572147  3.35981829  4.83293024\n",
      "  6.95192796 10.        ]\n",
      "[-1.27688223 -1.27687957 -1.27687288 -1.27686221 -1.27683612 -1.27664697\n",
      " -1.27535572 -1.26912312 -1.24676568 -1.18404835 -1.04095404 -0.76634586\n",
      " -0.30892082  0.3767587   1.34017399  2.66310448  4.34668242  6.33042025\n",
      "  8.39078393 10.25370443]\n"
     ]
    }
   ],
   "source": [
    "ctau_min_s = get_ctau0_min_from_pars_v(mz_s, Umu4_2_s, m4_s)"
   ]
  },
  {
   "cell_type": "code",
   "execution_count": 69,
   "metadata": {},
   "outputs": [
    {
     "data": {
      "text/plain": [
       "(2, 3, 3)"
      ]
     },
     "execution_count": 69,
     "metadata": {},
     "output_type": "execute_result"
    }
   ],
   "source": [
    "ctau_min_s.shape"
   ]
  },
  {
   "cell_type": "code",
   "execution_count": 73,
   "metadata": {},
   "outputs": [],
   "source": [
    "def return_coeff_oned_fit(ctau_min_s, m4_s=np.linspace(0.01, 0.2, 3)):\n",
    "    print(m4_s)\n",
    "    print(ctau_min_s)\n",
    "    try:\n",
    "        aux = Polynomial.fit(m4_s, ctau_min_s, deg=1).coef[1]\n",
    "    except:\n",
    "        aux = None\n",
    "    return aux"
   ]
  },
  {
   "cell_type": "code",
   "execution_count": 74,
   "metadata": {
    "tags": []
   },
   "outputs": [
    {
     "name": "stdout",
     "output_type": "stream",
     "text": [
      "[0.01  0.105 0.2  ]\n",
      "[0.07783145 0.66816657 1.3793889 ]\n",
      "[0.01  0.105 0.2  ]\n",
      "[0.02988452 0.23958798 0.49239981]\n",
      "[0.01  0.105 0.2  ]\n",
      "[       nan        nan 0.13923624]\n",
      "[0.01  0.105 0.2  ]\n",
      "[nan nan nan]\n",
      "[0.01  0.105 0.2  ]\n",
      "[0.13121194 1.6136665  3.83351136]\n",
      "[0.01  0.105 0.2  ]\n",
      "[0.04422519 0.50369218 0.93994232]\n"
     ]
    }
   ],
   "source": [
    "ctau_0_min_mn_slopes = np.apply_along_axis(return_coeff_oned_fit, axis=2, arr=ctau_min_s)"
   ]
  },
  {
   "cell_type": "code",
   "execution_count": 82,
   "metadata": {},
   "outputs": [
    {
     "data": {
      "text/plain": [
       "array([[0.65077873, 0.23125765,        nan],\n",
       "       [       nan, 1.85114971, 0.44785857]])"
      ]
     },
     "execution_count": 82,
     "metadata": {},
     "output_type": "execute_result"
    }
   ],
   "source": [
    "ctau_0_min_mn_slopes"
   ]
  },
  {
   "cell_type": "code",
   "execution_count": 89,
   "metadata": {},
   "outputs": [
    {
     "data": {
      "text/plain": [
       "array([1., 2.])"
      ]
     },
     "execution_count": 89,
     "metadata": {},
     "output_type": "execute_result"
    }
   ],
   "source": [
    "mz_s"
   ]
  },
  {
   "cell_type": "code",
   "execution_count": 93,
   "metadata": {},
   "outputs": [
    {
     "data": {
      "text/plain": [
       "<matplotlib.colorbar.Colorbar at 0x2b2c514a4b80>"
      ]
     },
     "execution_count": 93,
     "metadata": {},
     "output_type": "execute_result"
    },
    {
     "data": {
      "image/png": "[encoded data removed]",
      "text/plain": [
       "<Figure size 319.68x204.051 with 2 Axes>"
      ]
     },
     "metadata": {
      "needs_background": "light"
     },
     "output_type": "display_data"
    }
   ],
   "source": [
    "mz_s = np.linspace(1, 2, 2)\n",
    "Umu4_2_s = [2e-8, 1e-7, 5e-7]\n",
    "plt.pcolormesh(mz_s, Umu4_2_s, ctau_0_min_mn_slopes.T, shading='nearest')\n",
    "plt.xlabel(r'$m_{Z^{\\prime}}$ [GeV]')\n",
    "plt.ylabel(r'$|V_{\\mu N}|^2$')\n",
    "plt.colorbar(label=r'$c \\tau^0_{min} /m_N$ [cm/GeV]')"
   ]
  },
  {
   "cell_type": "markdown",
   "metadata": {
    "jp-MarkdownHeadingCollapsed": true,
    "tags": []
   },
   "source": [
    "# Geometrical acceptance"
   ]
  },
  {
   "cell_type": "code",
   "execution_count": 6,
   "metadata": {},
   "outputs": [],
   "source": [
    "ctaus = np.geomspace(1e-2, 1e4, 20)\n",
    "\n",
    "mu_s = {}\n",
    "sigma2_s = {}\n",
    "\n",
    "mu_s_noctau = {}\n",
    "sigma2_s_noctau = {}\n",
    "\n",
    "materials = ['lead', 'argon']\n",
    "for selection in materials:\n",
    "    mu_s[selection] = 0\n",
    "    sigma2_s[selection] = 0\n",
    "    mu_s_noctau[selection] = 0\n",
    "    sigma2_s_noctau[selection] = 0\n",
    "    for nu_mode in ['FHC', 'RHC']:\n",
    "        aux = my_exp_analyses[f'heavy_majorana_{nu_mode}'].compute_expectation(\n",
    "                                    my_exp_analyses[f'heavy_majorana_{nu_mode}'].df_base, \n",
    "                                    m4=physics_parameters['heavy']['bp']['m4'], \n",
    "                                    mz=physics_parameters['heavy']['bp']['mz'], \n",
    "                                    alpha_dark=physics_parameters['heavy']['bp']['alpha_dark'], \n",
    "                                    epsilon=physics_parameters['heavy']['bp']['epsilon'], \n",
    "                                    Umu4_2=physics_parameters['heavy']['bp']['Umu4_2'], \n",
    "                                    Ud4_2=None,\n",
    "                                    external_ctau=ctaus,\n",
    "                                    ntarget_per_material=analyses['tpc'][nu_mode]['n_target'], \n",
    "                                    pot=analyses['tpc'][nu_mode]['pot'],\n",
    "                                    selection_query=analyses['tpc'][nu_mode]['selection'] + \" & \" + selection,\n",
    "                                    efficiency_factor=analyses['tpc'][nu_mode]['efficiency'])\n",
    "        mu_s[selection] += aux[1].sum(axis=0)\n",
    "        sigma2_s[selection] += (aux[1]**2).sum(axis=0)\n",
    "        \n",
    "        aux_noctau = my_exp_analyses[f'heavy_majorana_{nu_mode}'].compute_expectation(\n",
    "                                    my_exp_analyses[f'heavy_majorana_{nu_mode}'].df_base, \n",
    "                                    m4=physics_parameters['heavy']['bp']['m4'], \n",
    "                                    mz=physics_parameters['heavy']['bp']['mz'], \n",
    "                                    alpha_dark=physics_parameters['heavy']['bp']['alpha_dark'], \n",
    "                                    epsilon=physics_parameters['heavy']['bp']['epsilon'], \n",
    "                                    Umu4_2=physics_parameters['heavy']['bp']['Umu4_2'], \n",
    "                                    Ud4_2=None,\n",
    "                                    external_ctau=None,\n",
    "                                    ntarget_per_material=analyses['tpc'][nu_mode]['n_target'], \n",
    "                                    pot=analyses['tpc'][nu_mode]['pot'],\n",
    "                                    selection_query=analyses['tpc'][nu_mode]['selection'] + \" & \" + selection,\n",
    "                                    efficiency_factor=analyses['tpc'][nu_mode]['efficiency'])\n",
    "        mu_s_noctau[selection] += aux_noctau[1].sum(axis=0)\n",
    "        sigma2_s_noctau[selection] += (aux_noctau[1]**2).sum(axis=0)"
   ]
  },
  {
   "cell_type": "code",
   "execution_count": 7,
   "metadata": {},
   "outputs": [
    {
     "name": "stderr",
     "output_type": "stream",
     "text": [
      "findfont: Font family ['serif'] not found. Falling back to DejaVu Sans.\n"
     ]
    },
    {
     "data": {
      "image/png": "[encoded data removed]",
      "text/plain": [
       "<Figure size 319.68x204.051 with 1 Axes>"
      ]
     },
     "metadata": {
      "needs_background": "light"
     },
     "output_type": "display_data"
    }
   ],
   "source": [
    "ax = set_canvas_basic()\n",
    "\n",
    "for selection in materials:     \n",
    "    ax.plot(ctaus, mu_s[selection]/mu_s_noctau[selection], label=selection)\n",
    "\n",
    "ax.set_xlabel('$c\\\\tau$ [cm]')\n",
    "ax.set_ylabel('Geometrical acceptance')\n",
    "ax.set_xscale('log')\n",
    "ax.legend(frameon=False, loc='upper right')\n",
    "\n",
    "\n",
    "# plt.savefig(save_folder+'geometrical_acceptance.pdf', bbox_inches='tight', transparent=True)\n",
    "# plt.savefig(save_folder+'geometrical_acceptance.png', bbox_inches='tight', dpi=500, transparent=True)"
   ]
  },
  {
   "cell_type": "markdown",
   "metadata": {},
   "source": [
    "# Efficiency versus m4, mz"
   ]
  },
  {
   "cell_type": "code",
   "execution_count": null,
   "metadata": {},
   "outputs": [],
   "source": [
    "this_point = deepcopy(physics_parameters[hierarchy]['bp'])\n",
    "this_point['m4'] = np.geomspace(*physics_parameters['heavy']['m4_limits'], 15)[1:-1]\n",
    "this_point['mz'] = np.geomspace(*physics_parameters['heavy']['mz_limits'], 15)[1:-1]\n",
    "this_point['external_ctau'] = None\n",
    "\n",
    "selected_events_num = full_likelihood(**this_point, \n",
    "                exp_analyses_objects=my_exp_analyses, \n",
    "                hierarchy=hierarchy, \n",
    "                D_or_M=D_or_M, \n",
    "                analyses=[analyses['tpc']], \n",
    "                like_normalized=False, \n",
    "                is_scan=True)[1]\n",
    "\n",
    "analysis_tpc_no_eff = deepcopy(analyses['tpc'])\n",
    "for sub_analysis in analysis_tpc_no_eff.values():\n",
    "    sub_analysis['selection'] = None\n",
    "\n",
    "selected_events_den = full_likelihood(**this_point, \n",
    "                exp_analyses_objects=my_exp_analyses, \n",
    "                hierarchy=hierarchy, \n",
    "                D_or_M=D_or_M, \n",
    "                analyses=[analysis_tpc_no_eff], \n",
    "                like_normalized=False, \n",
    "                is_scan=True)[1]\n",
    "\n",
    "selection_efficiency = selected_events_num/selected_events_den"
   ]
  },
  {
   "cell_type": "code",
   "execution_count": null,
   "metadata": {},
   "outputs": [],
   "source": [
    "from plot_utils import annotated_2d_plot\n",
    "\n",
    "ax = set_canvas_basic()\n",
    "\n",
    "annotated_2d_plot(selection_efficiency, \n",
    "                  this_point['m4'], \n",
    "                  this_point['mz'], \n",
    "                  xlabel=r'$m_N$ [GeV]', \n",
    "                  ylabel=r'$m_Z^{\\prime}$ [GeV]', \n",
    "                  colornorm='normal', \n",
    "                  ax=ax,\n",
    "                  in_log=True)\n",
    "\n",
    "ax.set_title('Heavy mediator, FHC + RHC fluxes')\n",
    "# plt.savefig(save_folder + 'selection_efficiency_vs_mn_mz.pdf')"
   ]
  },
  {
   "cell_type": "code",
   "execution_count": null,
   "metadata": {},
   "outputs": [],
   "source": [
    "from scipy.interp import griddata"
   ]
  },
  {
   "cell_type": "code",
   "execution_count": null,
   "metadata": {},
   "outputs": [],
   "source": [
    "ax = set_canvas_basic()\n",
    "\n",
    "ax.pcolormesh(this_point['m4'], \n",
    "              this_point['mz'], \n",
    "              selection_efficiency("
   ]
  }
 ],
 "metadata": {
  "kernelspec": {
   "display_name": "Python [conda env:.conda-dark_nus]",
   "language": "python",
   "name": "conda-env-.conda-dark_nus-py"
  },
  "language_info": {
   "codemirror_mode": {
    "name": "ipython",
    "version": 3
   },
   "file_extension": ".py",
   "mimetype": "text/x-python",
   "name": "python",
   "nbconvert_exporter": "python",
   "pygments_lexer": "ipython3",
   "version": "3.8.8"
  }
 },
 "nbformat": 4,
 "nbformat_minor": 4
}
