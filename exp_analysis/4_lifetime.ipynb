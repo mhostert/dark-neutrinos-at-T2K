{
 "cells": [
  {
   "cell_type": "markdown",
   "metadata": {},
   "source": [
    "# This notebook is meant to study effects that depends on the lifetime"
   ]
  },
  {
   "cell_type": "code",
   "execution_count": 1,
   "metadata": {},
   "outputs": [],
   "source": [
    "%load_ext autoreload\n",
    "%autoreload 2"
   ]
  },
  {
   "cell_type": "code",
   "execution_count": 2,
   "metadata": {},
   "outputs": [],
   "source": [
    "from copy import deepcopy\n",
    "\n",
    "import matplotlib.pyplot as plt\n",
    "from matplotlib.legend_handler import HandlerLine2D, HandlerTuple\n",
    "from matplotlib.colors import LogNorm\n",
    "import numpy as np\n",
    "from scipy.interpolate import interp1d\n",
    "from scipy.optimize import root_scalar\n",
    "import pandas as pd\n",
    "\n",
    "import seaborn as sns\n",
    "from scipy.interpolate import griddata\n",
    "\n",
    "from ipywidgets import interact, interactive, fixed, interact_manual, FloatSlider, Dropdown\n",
    "import ipywidgets as widgets\n",
    "\n",
    "from parameters_dict import physics_parameters, likelihood_levels_1d\n",
    "from dark_nus_utils import load_datasets\n",
    "from plot_utils import kde_variable_plot\n",
    "from ctau_utils import ctau_heavy\n",
    "from analyses_dict import analyses\n",
    "from const import alphaQED\n",
    "from likelihood_contours_plot import set_plot_style, set_canvas_basic, set_plot_title, plot_data_from_analysis"
   ]
  },
  {
   "cell_type": "code",
   "execution_count": 3,
   "metadata": {},
   "outputs": [],
   "source": [
    "hierarchy = 'heavy'\n",
    "D_or_M = 'dirac'\n",
    "save_folder = (f'../fig/4_analysis_variables_plots/')\n",
    "!mkdir -p $save_folder\n",
    "save_folder = (f'../fig/4_analysis_variables_plots/{hierarchy}_{D_or_M}_')\n",
    "\n",
    "set_plot_style()"
   ]
  },
  {
   "cell_type": "markdown",
   "metadata": {},
   "source": [
    "## Use this to load the datasets in the usual way and dump them in pickle files"
   ]
  },
  {
   "cell_type": "code",
   "execution_count": 4,
   "metadata": {},
   "outputs": [],
   "source": [
    "# my_exp_analyses = load_datasets(hierarchy, D_or_M, \n",
    "#                                 timeit=True, \n",
    "#                                 direct_load_objects=False,\n",
    "#                                 dump=True,\n",
    "#                                 load_grid=False)"
   ]
  },
  {
   "cell_type": "markdown",
   "metadata": {},
   "source": [
    "## Use the function this way to load the datasets from the pickle files"
   ]
  },
  {
   "cell_type": "code",
   "execution_count": 5,
   "metadata": {},
   "outputs": [
    {
     "name": "stdout",
     "output_type": "stream",
     "text": [
      "heavy dirac FHC\n",
      "Wall time: 11.378021478652954 s, CPU time: 1.2641402409999998\n",
      "heavy dirac RHC\n",
      "Wall time: 2.9567365646362305 s, CPU time: 0.6865905350000006\n"
     ]
    }
   ],
   "source": [
    "my_exp_analyses = load_datasets(hierarchy, D_or_M, \n",
    "                                timeit=True, \n",
    "                                direct_load_objects=True,\n",
    "                                load_grid=False)"
   ]
  },
  {
   "cell_type": "markdown",
   "metadata": {
    "jp-MarkdownHeadingCollapsed": true,
    "tags": []
   },
   "source": [
    "# Detector plot"
   ]
  },
  {
   "cell_type": "code",
   "execution_count": 7,
   "metadata": {},
   "outputs": [],
   "source": [
    "from parameters_dict import *\n",
    "aux_binning = []\n",
    "for splits in detector_splitting_z.values():\n",
    "    aux_binning += np.linspace(*splits, 10).tolist()\n",
    "binning_z = np.array(aux_binning)"
   ]
  },
  {
   "cell_type": "code",
   "execution_count": 12,
   "metadata": {},
   "outputs": [
    {
     "name": "stderr",
     "output_type": "stream",
     "text": [
      "/n/home00/nfoppiani/.conda/envs/dark_nus/lib/python3.8/site-packages/numpy/lib/histograms.py:1122: RuntimeWarning: invalid value encountered in true_divide\n",
      "  hist = hist / dedges[i].reshape(shape)\n"
     ]
    },
    {
     "data": {
      "image/png": "[encoded data removed]",
      "text/plain": [
       "<Figure size 468x208.8 with 2 Axes>"
      ]
     },
     "metadata": {
      "needs_background": "light"
     },
     "output_type": "display_data"
    }
   ],
   "source": [
    "nu_mode = 'FHC'\n",
    "exp_analysis_obj = my_exp_analyses[f'{hierarchy}_{D_or_M}_{nu_mode}']\n",
    "df = exp_analysis_obj.df_base\n",
    "\n",
    "this_weights = exp_analysis_obj.compute_pot_ntarget_weights(df, \n",
    "                            ntarget_per_material=analyses['tpc'][nu_mode]['n_target'],\n",
    "                            pot=analyses['tpc'][nu_mode]['pot'])\n",
    "\n",
    "\n",
    "fig = plt.figure(figsize=(6.5,2.9))\n",
    "plt.hist2d(df['int_point_z'], df['int_point_x'], \n",
    "           bins=(binning_z, np.linspace(*detector_splitting_x[0], 20)), \n",
    "           weights=this_weights, norm=LogNorm(),\n",
    "           density=True);\n",
    "plt.xlabel('Upscattering vertex z [cm]')\n",
    "plt.ylabel('Upscattering vertex x [cm]')\n",
    "plt.colorbar()\n",
    "\n",
    "plt.savefig(save_folder + 'detector_vertex_2d.pdf', bbox_inches='tight')"
   ]
  },
  {
   "cell_type": "code",
   "execution_count": 14,
   "metadata": {},
   "outputs": [],
   "source": [
    "# ctaus = np.array([0.5, 0.2, 0.1])\n",
    "ctaus = np.array([100, 1, 0.01])\n",
    "\n",
    "nu_mode = 'FHC'\n",
    "aux = my_exp_analyses[f'{hierarchy}_{D_or_M}_{nu_mode}'].compute_expectation(\n",
    "                        my_exp_analyses[f'{hierarchy}_{D_or_M}_{nu_mode}'].df_base, \n",
    "                        m4=physics_parameters['heavy']['bp']['m4'], \n",
    "                        mz=physics_parameters['heavy']['bp']['mz'], \n",
    "                        alpha_dark=physics_parameters['heavy']['bp']['alpha_dark'], \n",
    "                        epsilon=physics_parameters['heavy']['bp']['epsilon'], \n",
    "                        Umu4_2=physics_parameters['heavy']['bp']['Umu4_2'], \n",
    "                        Ud4_2=None,\n",
    "                        external_ctau=ctaus,\n",
    "                        ntarget_per_material=analyses['tpc'][nu_mode]['n_target'], \n",
    "                        pot=analyses['tpc'][nu_mode]['pot'],\n",
    "                        selection_query=analyses['tpc'][nu_mode]['selection'],\n",
    "                        efficiency_factor=analyses['tpc'][nu_mode]['efficiency'])\n",
    "\n",
    "aux_noctau = my_exp_analyses[f'{hierarchy}_{D_or_M}_{nu_mode}'].compute_expectation(\n",
    "                        my_exp_analyses[f'{hierarchy}_{D_or_M}_{nu_mode}'].df_base, \n",
    "                        m4=physics_parameters['heavy']['bp']['m4'], \n",
    "                        mz=physics_parameters['heavy']['bp']['mz'], \n",
    "                        alpha_dark=physics_parameters['heavy']['bp']['alpha_dark'], \n",
    "                        epsilon=physics_parameters['heavy']['bp']['epsilon'], \n",
    "                        Umu4_2=physics_parameters['heavy']['bp']['Umu4_2'], \n",
    "                        Ud4_2=None,\n",
    "                        external_ctau=None,\n",
    "                        ntarget_per_material=analyses['tpc'][nu_mode]['n_target'], \n",
    "                        pot=analyses['tpc'][nu_mode]['pot'],\n",
    "                        selection_query=analyses['tpc'][nu_mode]['selection'],\n",
    "                        efficiency_factor=analyses['tpc'][nu_mode]['efficiency'])"
   ]
  },
  {
   "cell_type": "code",
   "execution_count": 7,
   "metadata": {},
   "outputs": [
    {
     "name": "stderr",
     "output_type": "stream",
     "text": [
      "findfont: Font family ['serif'] not found. Falling back to DejaVu Sans.\n"
     ]
    },
    {
     "data": {
      "image/png": "[encoded data removed]",
      "text/plain": [
       "<Figure size 504x208.8 with 1 Axes>"
      ]
     },
     "metadata": {
      "needs_background": "light"
     },
     "output_type": "display_data"
    }
   ],
   "source": [
    "fig = plt.figure(figsize=(7,2.9))\n",
    "\n",
    "binning = np.linspace(0, 600, 120)\n",
    "bin_width = binning[1]-binning[0]\n",
    "\n",
    "plt.gca().spines[\"right\"].set_visible(False)\n",
    "plt.gca().spines[\"top\"].set_visible(False)\n",
    "\n",
    "plt.hist(aux_noctau[0]['int_point_z'],\n",
    "         bins=binning,\n",
    "         weights=aux_noctau[1]/bin_width,\n",
    "         histtype='step',\n",
    "         color='navy',\n",
    "         label='preselection')\n",
    "\n",
    "colors = ['violet', 'dodgerblue', 'darkorange']\n",
    "for i, ctau in enumerate(ctaus):\n",
    "    plt.hist(aux[0]['int_point_z'],\n",
    "             bins=binning,\n",
    "             weights=aux[1][:, i]/bin_width,\n",
    "             histtype='step',\n",
    "             color=colors[i],\n",
    "             label=f'c$\\\\tau^0$ = {ctau:.3g} cm')\n",
    "plt.legend(frameon=False, ncol=2)\n",
    "plt.yscale('log')\n",
    "plt.ylim(1e-5, 2e1)\n",
    "plt.ylabel(f'Events/{bin_width:.2g} cm')\n",
    "plt.xlabel('Upscattering vertex [cm]')\n",
    "plt.xticks(np.linspace(0, 600, 13));\n",
    "# plt.savefig(save_folder+f'int_vertex_z.pdf', bbox_inches='tight')"
   ]
  },
  {
   "cell_type": "markdown",
   "metadata": {
    "tags": []
   },
   "source": [
    "# Find the c$\\tau$ we exclude by varying $V_{ND}$"
   ]
  },
  {
   "cell_type": "code",
   "execution_count": 12,
   "metadata": {},
   "outputs": [],
   "source": [
    "V_N_2_s = np.geomspace(physics_parameters['heavy']['bp']['Umu4_2'], 1e2, 25)\n",
    "this_point = deepcopy(physics_parameters[hierarchy]['bp'])\n",
    "this_point['Ud4_2'] = V_N_2_s\n",
    "\n",
    "ctaus = ctau_heavy(m4=this_point['m4'],\n",
    "                   mz=this_point['mz'], \n",
    "                   Valpha4_alphaepsilon2=this_point['alpha_dark'] * this_point['Ud4_2'] * alphaQED * this_point['epsilon']**2, \n",
    "                   D_or_M=D_or_M)\n",
    "\n",
    "leff = np.zeros(V_N_2_s.shape)\n",
    "mu_s = np.zeros(V_N_2_s.shape)\n",
    "sigma2_s = np.zeros(V_N_2_s.shape)\n",
    "for nu_mode in ['FHC', 'RHC']:\n",
    "    aux = my_exp_analyses[f'{hierarchy}_{D_or_M}_{nu_mode}'].compute_likelihood_from_pars(\n",
    "                                 my_exp_analyses[f'{hierarchy}_{D_or_M}_{nu_mode}'].df_base, \n",
    "                                 **this_point, \n",
    "                                 analysis=analyses['tpc'][nu_mode], \n",
    "                                 like_normalized=True)\n",
    "    leff += aux[0]\n",
    "    mu_s += aux[1]\n",
    "    sigma2_s += aux[3]\n",
    "\n",
    "leff -= leff.min()"
   ]
  },
  {
   "cell_type": "code",
   "execution_count": 13,
   "metadata": {},
   "outputs": [],
   "source": [
    "like_interp = interp1d(ctaus, leff-likelihood_levels_1d[0.9], kind='cubic')\n",
    "r1 = root_scalar(like_interp, method='brentq', bracket=[1e-2, 1], \n",
    "                 fprime=None, fprime2=None, x0=0.2, x1=0.15)\n",
    "r2 = root_scalar(like_interp, method='brentq', bracket=[1e3, 1e5], \n",
    "                 fprime=None, fprime2=None, x0=1e4, x1=2e4)"
   ]
  },
  {
   "cell_type": "code",
   "execution_count": 14,
   "metadata": {},
   "outputs": [
    {
     "name": "stdout",
     "output_type": "stream",
     "text": [
      "0.23799036924571193\n"
     ]
    }
   ],
   "source": [
    "print(r1.root)"
   ]
  },
  {
   "cell_type": "code",
   "execution_count": 15,
   "metadata": {},
   "outputs": [
    {
     "data": {
      "text/plain": [
       "(-1.0, 1.0)"
      ]
     },
     "execution_count": 15,
     "metadata": {},
     "output_type": "execute_result"
    },
    {
     "data": {
      "image/png": "[encoded data removed]",
      "text/plain": [
       "<Figure size 319.68x204.051 with 1 Axes>"
      ]
     },
     "metadata": {
      "needs_background": "light"
     },
     "output_type": "display_data"
    }
   ],
   "source": [
    "plt.plot(np.geomspace(1e-2, 1e5, 50), like_interp(np.geomspace(1e-2, 1e5, 50)))\n",
    "plt.plot(ctaus, leff-likelihood_levels_1d[0.9])\n",
    "plt.xscale('log')\n",
    "# plt.yscale('log')\n",
    "plt.ylim(-1, 1)"
   ]
  },
  {
   "cell_type": "code",
   "execution_count": 16,
   "metadata": {},
   "outputs": [
    {
     "name": "stderr",
     "output_type": "stream",
     "text": [
      "<ipython-input-16-300b5d2cde53>:16: RuntimeWarning: divide by zero encountered in log\n",
      "  return np.exp(backward_fun(np.log(x)))\n"
     ]
    },
    {
     "data": {
      "image/png": "[encoded data removed]",
      "text/plain": [
       "<Figure size 319.68x204.051 with 1 Axes>"
      ]
     },
     "metadata": {
      "needs_background": "light"
     },
     "output_type": "display_data"
    }
   ],
   "source": [
    "from scipy.interpolate import UnivariateSpline\n",
    "\n",
    "ax = set_canvas_basic()\n",
    "ax.set_xlabel('$c\\\\tau^0$ [cm]')\n",
    "ax.set_ylabel('Expected events in Analysis-I')\n",
    "ax.set_xscale('log')\n",
    "ax.set_yscale('log')\n",
    "\n",
    "forward_fun = UnivariateSpline(np.log(ctaus[::-1]), np.log(V_N_2_s[::-1]), k=1)\n",
    "backward_fun = UnivariateSpline(np.log(V_N_2_s), np.log(ctaus), k=1)\n",
    "\n",
    "def forward(x):\n",
    "    return np.exp(forward_fun(np.log(x)))\n",
    "\n",
    "def backward(x):\n",
    "    return np.exp(backward_fun(np.log(x)))\n",
    "\n",
    "secax = ax.secondary_xaxis('top', functions=(forward, backward))\n",
    "secax.set_xlabel('$|V_N|^2$')\n",
    "secax.set_ticks\n",
    "\n",
    "ax.fill_betweenx([1e-2, 1e4], \n",
    "                 backward(physics_parameters['heavy']['bp']['Umu4_2']), backward(1), \n",
    "                 color='darkorange', alpha=0.1)\n",
    "ax.annotate('Physical\\n region', color='darkorange', xy=(5e4, 5e1))\n",
    "\n",
    "ax.fill_between(ctaus, mu_s-np.sqrt(sigma2_s), mu_s+np.sqrt(sigma2_s), \n",
    "                color='C0', alpha=0.3, label='number of events')\n",
    "ax.vlines(r1.root, 0, 1e4, color='dodgerblue', ls='--')\n",
    "ax.vlines(r2.root, 0, 1e4, color='dodgerblue', ls='--')\n",
    "ax.annotate('Excluded region', color='dodgerblue', xy=(1, 1e-1))\n",
    "ax.set_ylim(1e-2, 5e2)\n",
    "\n",
    "plt.savefig(save_folder+'n_events_vs_ctau_vs_V_ND.pdf', bbox_inches='tight')\n",
    "plt.savefig(save_folder+'n_events_vs_ctau_vs_V_ND.png', bbox_inches='tight', transparent=True, dpi=500)"
   ]
  },
  {
   "cell_type": "markdown",
   "metadata": {},
   "source": [
    "## for different $m_N$"
   ]
  },
  {
   "cell_type": "code",
   "execution_count": 6,
   "metadata": {},
   "outputs": [],
   "source": [
    "this_point = deepcopy(physics_parameters[hierarchy]['bp'])\n",
    "this_point['epsilon'] = 1e-20\n",
    "\n",
    "base_like = 0\n",
    "for nu_mode in ['FHC', 'RHC']:\n",
    "    aux = my_exp_analyses[f'{hierarchy}_{D_or_M}_{nu_mode}'].compute_likelihood_from_pars(\n",
    "                                     my_exp_analyses[f'{hierarchy}_{D_or_M}_{nu_mode}'].df_base,\n",
    "                                     **this_point, \n",
    "                                     analysis=analyses['tpc'][nu_mode], \n",
    "                                     like_normalized=False)\n",
    "    base_like += (-aux[0])"
   ]
  },
  {
   "cell_type": "code",
   "execution_count": 7,
   "metadata": {},
   "outputs": [],
   "source": [
    "def get_ctau0_min(this_point, base_like):\n",
    "    aux = {}\n",
    "    for nu_mode in ['FHC', 'RHC']:\n",
    "        aux[nu_mode] = my_exp_analyses[f'{hierarchy}_{D_or_M}_{nu_mode}'].compute_likelihood_from_pars(\n",
    "                                     my_exp_analyses[f'{hierarchy}_{D_or_M}_{nu_mode}'].df_base, \n",
    "                                     **this_point, \n",
    "                                     analysis=analyses['tpc'][nu_mode], \n",
    "                                     like_normalized=False)\n",
    "\n",
    "    leff = aux['FHC'][0] + aux['RHC'][0]\n",
    "    # mu_s = aux['FHC'][1] + aux['RHC'][1]\n",
    "    # sigma2_s = aux['FHC'][3] + aux['RHC'][3]\n",
    "    leff *= -1\n",
    "    leff -= base_like\n",
    "    \n",
    "    like_interp = interp1d(this_point['external_ctau'], \n",
    "                           leff-likelihood_levels_1d[0.9], \n",
    "                           kind='cubic')\n",
    "    print(this_point['external_ctau'])\n",
    "    print(leff-likelihood_levels_1d[0.9])\n",
    "    return root_scalar(like_interp, method='brentq', \n",
    "                          bracket=[this_point['external_ctau'][0], this_point['external_ctau'][-1]], \n",
    "                          fprime=None, fprime2=None, x0=(this_point['external_ctau'][0]+this_point['external_ctau'][-1])/2).root"
   ]
  },
  {
   "cell_type": "code",
   "execution_count": 8,
   "metadata": {
    "tags": []
   },
   "outputs": [
    {
     "name": "stdout",
     "output_type": "stream",
     "text": [
      "0.01\n",
      "[1.00000000e-03 1.56560656e-03 2.45112389e-03 3.83749564e-03\n",
      " 6.00800835e-03 9.40617727e-03 1.47263728e-02 2.30557058e-02\n",
      " 3.60961643e-02 5.65123915e-02 8.84761707e-02 1.38518873e-01\n",
      " 2.16866056e-01 3.39526920e-01 5.31565572e-01 8.32222546e-01\n",
      " 1.30293308e+00 2.03988057e+00 3.19365039e+00 5.00000000e+00]\n",
      "[-0.92003622 -0.91979399 -0.9192213  -0.91736423 -0.90602045 -0.85429749\n",
      " -0.68627614 -0.22990789  0.8156635   2.73054917  6.18881346 12.31969906\n",
      " 21.35419059 31.34899079 39.93114123 46.30315445 50.72714063 53.0973351\n",
      " 52.79808015 49.54273159]\n",
      "0.026278714577272624\n",
      "0.02\n",
      "[1.00000000e-03 1.56560656e-03 2.45112389e-03 3.83749564e-03\n",
      " 6.00800835e-03 9.40617727e-03 1.47263728e-02 2.30557058e-02\n",
      " 3.60961643e-02 5.65123915e-02 8.84761707e-02 1.38518873e-01\n",
      " 2.16866056e-01 3.39526920e-01 5.31565572e-01 8.32222546e-01\n",
      " 1.30293308e+00 2.03988057e+00 3.19365039e+00 5.00000000e+00]\n",
      "[-0.90187892 -0.90177124 -0.90145417 -0.90089163 -0.89993249 -0.89554782\n",
      " -0.87251441 -0.7861481  -0.51751218  0.18352317  1.69039211  4.58658908\n",
      "  9.70747429 17.62477125 27.25840127 36.41113703 43.67980971 48.9889972\n",
      " 52.47380249 53.64589437]\n",
      "0.05186029607701593\n",
      "0.03\n",
      "[1.00000000e-03 1.56560656e-03 2.45112389e-03 3.83749564e-03\n",
      " 6.00800835e-03 9.40617727e-03 1.47263728e-02 2.30557058e-02\n",
      " 3.60961643e-02 5.65123915e-02 8.84761707e-02 1.38518873e-01\n",
      " 2.16866056e-01 3.39526920e-01 5.31565572e-01 8.32222546e-01\n",
      " 1.30293308e+00 2.03988057e+00 3.19365039e+00 5.00000000e+00]\n",
      "[-0.9679992  -0.96793287 -0.96782949 -0.96775581 -0.96769084 -0.96750591\n",
      " -0.96527782 -0.94106655 -0.80756226 -0.35692886  0.711208    2.72872612\n",
      "  6.03093617 11.33080515 19.1356714  28.54901357 37.51932135 44.65240101\n",
      " 49.85894255 53.20557164]\n",
      "0.06832530193399508\n",
      "0.04\n",
      "[1.00000000e-03 1.56560656e-03 2.45112389e-03 3.83749564e-03\n",
      " 6.00800835e-03 9.40617727e-03 1.47263728e-02 2.30557058e-02\n",
      " 3.60961643e-02 5.65123915e-02 8.84761707e-02 1.38518873e-01\n",
      " 2.16866056e-01 3.39526920e-01 5.31565572e-01 8.32222546e-01\n",
      " 1.30293308e+00 2.03988057e+00 3.19365039e+00 5.00000000e+00]\n",
      "[-0.94811821 -0.94791062 -0.94776885 -0.94786022 -0.9481548  -0.9481651\n",
      " -0.94681105 -0.93906399 -0.89595044 -0.72313752 -0.22697204  0.90593195\n",
      "  3.06163926  6.9545382  13.39048161 22.31320592 32.08378672 40.59139673\n",
      " 46.93648773 51.2926564 ]\n",
      "0.09981907532946772\n",
      "0.05\n",
      "[1.00000000e-03 1.56560656e-03 2.45112389e-03 3.83749564e-03\n",
      " 6.00800835e-03 9.40617727e-03 1.47263728e-02 2.30557058e-02\n",
      " 3.60961643e-02 5.65123915e-02 8.84761707e-02 1.38518873e-01\n",
      " 2.16866056e-01 3.39526920e-01 5.31565572e-01 8.32222546e-01\n",
      " 1.30293308e+00 2.03988057e+00 3.19365039e+00 5.00000000e+00]\n",
      "[-0.96945241 -0.96954786 -0.96964608 -0.96981393 -0.97011479 -0.97054044\n",
      " -0.97096424 -0.96954806 -0.94948948 -0.84648295 -0.51286538  0.31740302\n",
      "  2.05432989  5.21756333 10.57058411 18.44796496 27.81236976 36.63432585\n",
      " 43.56537322 48.55594528]\n",
      "0.12141515860739656\n",
      "0.060000000000000005\n",
      "[1.00000000e-03 1.56560656e-03 2.45112389e-03 3.83749564e-03\n",
      " 6.00800835e-03 9.40617727e-03 1.47263728e-02 2.30557058e-02\n",
      " 3.60961643e-02 5.65123915e-02 8.84761707e-02 1.38518873e-01\n",
      " 2.16866056e-01 3.39526920e-01 5.31565572e-01 8.32222546e-01\n",
      " 1.30293308e+00 2.03988057e+00 3.19365039e+00 5.00000000e+00]\n",
      "[-9.71972952e-01 -9.72089797e-01 -9.72204583e-01 -9.72309942e-01\n",
      " -9.72403185e-01 -9.72491388e-01 -9.72559617e-01 -9.72055126e-01\n",
      " -9.63456819e-01 -9.04301074e-01 -6.68356058e-01 -1.75429529e-02\n",
      "  1.35938688e+00  3.87287745e+00  8.06884979e+00  1.45610937e+01\n",
      "  2.30932377e+01  3.21098807e+01  3.98689277e+01  4.57138814e+01]\n",
      "0.13965505349531107\n",
      "0.06999999999999999\n",
      "[1.00000000e-03 1.56560656e-03 2.45112389e-03 3.83749564e-03\n",
      " 6.00800835e-03 9.40617727e-03 1.47263728e-02 2.30557058e-02\n",
      " 3.60961643e-02 5.65123915e-02 8.84761707e-02 1.38518873e-01\n",
      " 2.16866056e-01 3.39526920e-01 5.31565572e-01 8.32222546e-01\n",
      " 1.30293308e+00 2.03988057e+00 3.19365039e+00 5.00000000e+00]\n",
      "[-0.97969212 -0.97974843 -0.9797526  -0.97967067 -0.97949495 -0.97923298\n",
      " -0.97893495 -0.97858845 -0.9761443  -0.953211   -0.8348016  -0.442485\n",
      "  0.52041805  2.48496745  5.97523467 11.68803204 19.79471851 29.10872679\n",
      " 37.65204337 44.24201172]\n",
      "0.17792900257858643\n",
      "0.08\n",
      "[1.00000000e-03 1.56560656e-03 2.45112389e-03 3.83749564e-03\n",
      " 6.00800835e-03 9.40617727e-03 1.47263728e-02 2.30557058e-02\n",
      " 3.60961643e-02 5.65123915e-02 8.84761707e-02 1.38518873e-01\n",
      " 2.16866056e-01 3.39526920e-01 5.31565572e-01 8.32222546e-01\n",
      " 1.30293308e+00 2.03988057e+00 3.19365039e+00 5.00000000e+00]\n",
      "[-0.99046432 -0.99046115 -0.99042354 -0.99031949 -0.9901491  -0.98995002\n",
      " -0.98980168 -0.98977587 -0.98879627 -0.9754761  -0.89804009 -0.61435349\n",
      "  0.14930967  1.80275461  4.80665187  9.85807198 17.41789272 26.66148498\n",
      " 35.55600907 42.55515879]\n",
      "0.2037417316749198\n",
      "0.09\n",
      "[1.00000000e-03 1.56560656e-03 2.45112389e-03 3.83749564e-03\n",
      " 6.00800835e-03 9.40617727e-03 1.47263728e-02 2.30557058e-02\n",
      " 3.60961643e-02 5.65123915e-02 8.84761707e-02 1.38518873e-01\n",
      " 2.16866056e-01 3.39526920e-01 5.31565572e-01 8.32222546e-01\n",
      " 1.30293308e+00 2.03988057e+00 3.19365039e+00 5.00000000e+00]\n",
      "[-1.00484087 -1.00482085 -1.00478617 -1.00472611 -1.00462104 -1.00446238\n",
      " -1.00429779 -1.00410564 -1.00276556 -0.99113569 -0.92697093 -0.68976709\n",
      " -0.0451873   1.35032303  3.87314473  8.15312841 14.79329415 23.37028429\n",
      " 32.1056619  39.2896451 ]\n",
      "0.22142252330463102\n",
      "0.09999999999999999\n",
      "[1.00000000e-03 1.56560656e-03 2.45112389e-03 3.83749564e-03\n",
      " 6.00800835e-03 9.40617727e-03 1.47263728e-02 2.30557058e-02\n",
      " 3.60961643e-02 5.65123915e-02 8.84761707e-02 1.38518873e-01\n",
      " 2.16866056e-01 3.39526920e-01 5.31565572e-01 8.32222546e-01\n",
      " 1.30293308e+00 2.03988057e+00 3.19365039e+00 5.00000000e+00]\n",
      "[-1.02284252 -1.02282248 -1.0227872  -1.02272346 -1.02261082 -1.02243632\n",
      " -1.02222588 -1.02185085 -1.01904337 -1.00062283 -0.92086697 -0.66792279\n",
      " -0.03582363  1.25083328  3.52845869  7.22690765 12.9282733  20.53093155\n",
      " 28.70285228 35.79628395]\n",
      "0.22067982812739453\n",
      "0.11\n",
      "[1.00000000e-03 1.56560656e-03 2.45112389e-03 3.83749564e-03\n",
      " 6.00800835e-03 9.40617727e-03 1.47263728e-02 2.30557058e-02\n",
      " 3.60961643e-02 5.65123915e-02 8.84761707e-02 1.38518873e-01\n",
      " 2.16866056e-01 3.39526920e-01 5.31565572e-01 8.32222546e-01\n",
      " 1.30293308e+00 2.03988057e+00 3.19365039e+00 5.00000000e+00]\n",
      "[-1.04247591 -1.04249153 -1.04249954 -1.04247406 -1.04239066 -1.04224805\n",
      " -1.04207152 -1.04179483 -1.03964813 -1.02344777 -0.95051308 -0.72066113\n",
      " -0.14334313  1.05978337  3.20307882  6.58981042 11.68684038 18.60550357\n",
      " 26.43328609 33.60841519]\n",
      "0.23312603855383932\n",
      "0.12\n",
      "[1.00000000e-03 1.56560656e-03 2.45112389e-03 3.83749564e-03\n",
      " 6.00800835e-03 9.40617727e-03 1.47263728e-02 2.30557058e-02\n",
      " 3.60961643e-02 5.65123915e-02 8.84761707e-02 1.38518873e-01\n",
      " 2.16866056e-01 3.39526920e-01 5.31565572e-01 8.32222546e-01\n",
      " 1.30293308e+00 2.03988057e+00 3.19365039e+00 5.00000000e+00]\n",
      "[-1.05027194 -1.05031155 -1.05035793 -1.05038135 -1.05035235 -1.05027494\n",
      " -1.05018502 -1.05008775 -1.04915283 -1.03955066 -0.98993326 -0.82066995\n",
      " -0.3604358   0.67764711  2.62880282  5.75717281 10.45985321 16.93577839\n",
      " 24.52539379 31.77633828]\n",
      "0.2636039452076346\n",
      "0.13\n",
      "[1.00000000e-03 1.56560656e-03 2.45112389e-03 3.83749564e-03\n",
      " 6.00800835e-03 9.40617727e-03 1.47263728e-02 2.30557058e-02\n",
      " 3.60961643e-02 5.65123915e-02 8.84761707e-02 1.38518873e-01\n",
      " 2.16866056e-01 3.39526920e-01 5.31565572e-01 8.32222546e-01\n",
      " 1.30293308e+00 2.03988057e+00 3.19365039e+00 5.00000000e+00]\n",
      "[-1.0485524  -1.04857741 -1.04860326 -1.04861052 -1.048584   -1.04853921\n",
      " -1.04852564 -1.04856477 -1.04827876 -1.04350133 -1.01411466 -0.89800564\n",
      " -0.53840542  0.35343104  2.12432576  5.02215931  9.39860735 15.50261661\n",
      " 22.85829181 30.12063649]\n",
      "0.2956885091056675\n",
      "0.14\n",
      "[1.00000000e-03 1.56560656e-03 2.45112389e-03 3.83749564e-03\n",
      " 6.00800835e-03 9.40617727e-03 1.47263728e-02 2.30557058e-02\n",
      " 3.60961643e-02 5.65123915e-02 8.84761707e-02 1.38518873e-01\n",
      " 2.16866056e-01 3.39526920e-01 5.31565572e-01 8.32222546e-01\n",
      " 1.30293308e+00 2.03988057e+00 3.19365039e+00 5.00000000e+00]\n",
      "[-1.05805640e+00 -1.05807847e+00 -1.05809560e+00 -1.05809729e+00\n",
      " -1.05808056e+00 -1.05805636e+00 -1.05806062e+00 -1.05812112e+00\n",
      " -1.05813997e+00 -1.05676336e+00 -1.04419524e+00 -9.77153557e-01\n",
      " -7.20622285e-01  3.63227634e-03  1.55120028e+00  4.17360143e+00\n",
      "  8.18978518e+00  1.38734847e+01  2.09033028e+01  2.80759921e+01]\n",
      "0.33901384779739285\n",
      "0.15000000000000002\n",
      "[1.00000000e-03 1.56560656e-03 2.45112389e-03 3.83749564e-03\n",
      " 6.00800835e-03 9.40617727e-03 1.47263728e-02 2.30557058e-02\n",
      " 3.60961643e-02 5.65123915e-02 8.84761707e-02 1.38518873e-01\n",
      " 2.16866056e-01 3.39526920e-01 5.31565572e-01 8.32222546e-01\n",
      " 1.30293308e+00 2.03988057e+00 3.19365039e+00 5.00000000e+00]\n",
      "[-1.06741621 -1.06744056 -1.06744926 -1.06743275 -1.06739463 -1.06734897\n",
      " -1.06732127 -1.06733555 -1.06737119 -1.06690723 -1.06031677 -1.01582611\n",
      " -0.81982947 -0.21597803  1.15032797  3.53515453  7.21177817 12.45050368\n",
      " 19.08728274 26.09704714]\n",
      "0.37368347154938064\n",
      "0.16\n",
      "[1.00000000e-03 1.56560656e-03 2.45112389e-03 3.83749564e-03\n",
      " 6.00800835e-03 9.40617727e-03 1.47263728e-02 2.30557058e-02\n",
      " 3.60961643e-02 5.65123915e-02 8.84761707e-02 1.38518873e-01\n",
      " 2.16866056e-01 3.39526920e-01 5.31565572e-01 8.32222546e-01\n",
      " 1.30293308e+00 2.03988057e+00 3.19365039e+00 5.00000000e+00]\n",
      "[-1.07998203 -1.0800089  -1.08001896 -1.0800048  -1.07997396 -1.07994537\n",
      " -1.07994211 -1.07997955 -1.08004704 -1.07978859 -1.07529959 -1.04361051\n",
      " -0.89618586 -0.41348363  0.73558202  2.88494958  6.24901816 11.0894214\n",
      " 17.35806885 24.20795955]\n",
      "0.41562289801327773\n",
      "0.17\n",
      "[1.00000000e-03 1.56560656e-03 2.45112389e-03 3.83749564e-03\n",
      " 6.00800835e-03 9.40617727e-03 1.47263728e-02 2.30557058e-02\n",
      " 3.60961643e-02 5.65123915e-02 8.84761707e-02 1.38518873e-01\n",
      " 2.16866056e-01 3.39526920e-01 5.31565572e-01 8.32222546e-01\n",
      " 1.30293308e+00 2.03988057e+00 3.19365039e+00 5.00000000e+00]\n",
      "[-1.09448892 -1.09451456 -1.09452883 -1.09453002 -1.09452797 -1.09453861\n",
      " -1.09457462 -1.09463696 -1.09471848 -1.09453798 -1.09088112 -1.06511604\n",
      " -0.9446779  -0.54223188  0.44920724  2.36865413  5.42805416  9.87432397\n",
      " 15.74587004 22.36031111]\n",
      "0.4520576005093989\n",
      "0.18000000000000002\n",
      "[1.00000000e-03 1.56560656e-03 2.45112389e-03 3.83749564e-03\n",
      " 6.00800835e-03 9.40617727e-03 1.47263728e-02 2.30557058e-02\n",
      " 3.60961643e-02 5.65123915e-02 8.84761707e-02 1.38518873e-01\n",
      " 2.16866056e-01 3.39526920e-01 5.31565572e-01 8.32222546e-01\n",
      " 1.30293308e+00 2.03988057e+00 3.19365039e+00 5.00000000e+00]\n",
      "[-1.10740437 -1.10743041 -1.10746137 -1.10750136 -1.1075562  -1.10763291\n",
      " -1.10773527 -1.10785699 -1.10799333 -1.10790994 -1.10467424 -1.08117586\n",
      " -0.97223349 -0.61162127  0.27799512  2.01730442  4.81117838  8.89930647\n",
      " 14.38064731 20.7112909 ]\n",
      "0.4776922866315424\n",
      "0.19\n",
      "[1.00000000e-03 1.56560656e-03 2.45112389e-03 3.83749564e-03\n",
      " 6.00800835e-03 9.40617727e-03 1.47263728e-02 2.30557058e-02\n",
      " 3.60961643e-02 5.65123915e-02 8.84761707e-02 1.38518873e-01\n",
      " 2.16866056e-01 3.39526920e-01 5.31565572e-01 8.32222546e-01\n",
      " 1.30293308e+00 2.03988057e+00 3.19365039e+00 5.00000000e+00]\n",
      "[-1.11828637 -1.11830136 -1.11833181 -1.11838982 -1.11847998 -1.11860049\n",
      " -1.11874511 -1.11890426 -1.11908313 -1.1191327  -1.11661238 -1.09567587\n",
      " -0.99422934 -0.65652201  0.17372114  1.79631633  4.40374172  8.21332662\n",
      " 13.34090959 19.35757121]\n",
      "0.4958349125442151\n",
      "0.2\n",
      "[1.00000000e-03 1.56560656e-03 2.45112389e-03 3.83749564e-03\n",
      " 6.00800835e-03 9.40617727e-03 1.47263728e-02 2.30557058e-02\n",
      " 3.60961643e-02 5.65123915e-02 8.84761707e-02 1.38518873e-01\n",
      " 2.16866056e-01 3.39526920e-01 5.31565572e-01 8.32222546e-01\n",
      " 1.30293308e+00 2.03988057e+00 3.19365039e+00 5.00000000e+00]\n",
      "[-1.13075272 -1.13075106 -1.13076198 -1.13080106 -1.13087423 -1.1309795\n",
      " -1.1311133  -1.1312732  -1.13146994 -1.13162115 -1.12980364 -1.11168309\n",
      " -1.01793974 -0.69870425  0.09171051  1.64247643  4.13520316  7.74694734\n",
      " 12.56606066 18.24175127]\n",
      "0.5119541127942204\n"
     ]
    }
   ],
   "source": [
    "m4_s = np.linspace(0.01, 0.2, 20)\n",
    "ctau_min_s = []\n",
    "for m4 in m4_s:\n",
    "    print(m4)\n",
    "    this_point = deepcopy(physics_parameters[hierarchy]['bp'])\n",
    "    this_point['m4'] = m4\n",
    "    this_point['external_ctau'] = np.geomspace(0.001, 5, 20)\n",
    "    for i in range(1, 2):\n",
    "        ctau_min = get_ctau0_min(this_point, base_like)\n",
    "        print(ctau_min)\n",
    "        this_point['external_ctau'] = np.geomspace(ctau_min/(1+1/i**2), ctau_min*(1+1/i**2), 20)\n",
    "        \n",
    "    ctau_min_s.append(ctau_min)"
   ]
  },
  {
   "cell_type": "code",
   "execution_count": 9,
   "metadata": {},
   "outputs": [],
   "source": [
    "this_point_for_title = deepcopy(this_point)\n",
    "this_point_for_title['m4'] = None\n",
    "this_point_for_title['Ud4_2'] = None\n",
    "this_point_for_title['external_ctau'] = None"
   ]
  },
  {
   "cell_type": "code",
   "execution_count": 10,
   "metadata": {},
   "outputs": [
    {
     "data": {
      "image/png": "[encoded data removed]",
      "text/plain": [
       "<Figure size 319.68x204.051 with 1 Axes>"
      ]
     },
     "metadata": {
      "needs_background": "light"
     },
     "output_type": "display_data"
    }
   ],
   "source": [
    "fig = plt.figure()\n",
    "axes_form = [0.17,0.19,0.81,0.64]\n",
    "ax = fig.add_axes(axes_form)\n",
    "\n",
    "ax.plot(m4_s,\n",
    "         ctau_min_s/m4_s, \n",
    "         '.')\n",
    "ax.set_xlabel(r'$m_N$ [GeV]')\n",
    "ax.set_ylabel(r'$c \\tau^0_{min} /m_N$ [cm/GeV]')\n",
    "set_plot_title(ax, \n",
    "               **this_point_for_title\n",
    "               )\n",
    "plt.savefig(save_folder + 'ctau_div_mn_vs_mn.pdf')"
   ]
  },
  {
   "cell_type": "code",
   "execution_count": 11,
   "metadata": {},
   "outputs": [
    {
     "data": {
      "image/png": "[encoded data removed]",
      "text/plain": [
       "<Figure size 319.68x204.051 with 1 Axes>"
      ]
     },
     "metadata": {
      "needs_background": "light"
     },
     "output_type": "display_data"
    }
   ],
   "source": [
    "fig = plt.figure()\n",
    "axes_form = [0.17,0.19,0.81,0.64]\n",
    "ax = fig.add_axes(axes_form)\n",
    "\n",
    "ax.plot(m4_s,\n",
    "         ctau_min_s, \n",
    "         '.')\n",
    "ax.set_xlabel(r'$m_N$ [GeV]')\n",
    "ax.set_ylabel(r'$c \\tau^0_{min}$ [cm]')\n",
    "set_plot_title(ax, \n",
    "               **this_point_for_title\n",
    "               )\n",
    "plt.savefig(save_folder + 'ctau_vs_mn.pdf')"
   ]
  },
  {
   "cell_type": "code",
   "execution_count": 75,
   "metadata": {},
   "outputs": [],
   "source": [
    "mz_s = np.linspace(1, 2, 3)\n",
    "m4_s = np.linspace(0.01, 0.2, 3)\n",
    "ctau_min_s = []"
   ]
  },
  {
   "cell_type": "code",
   "execution_count": 76,
   "metadata": {
    "collapsed": true,
    "jupyter": {
     "outputs_hidden": true
    },
    "tags": []
   },
   "outputs": [
    {
     "name": "stdout",
     "output_type": "stream",
     "text": [
      "mz = 1.0\n",
      "m4 = 0.01\n",
      "[1.00000000e-03 1.62377674e-03 2.63665090e-03 4.28133240e-03\n",
      " 6.95192796e-03 1.12883789e-02 1.83298071e-02 2.97635144e-02\n",
      " 4.83293024e-02 7.84759970e-02 1.27427499e-01 2.06913808e-01\n",
      " 3.35981829e-01 5.45559478e-01 8.85866790e-01 1.43844989e+00\n",
      " 2.33572147e+00 3.79269019e+00 6.15848211e+00 1.00000000e+01]\n",
      "[-0.30663739 -0.30469951 -0.3014361  -0.28232379 -0.1713907   0.32385313\n",
      "  1.81990605  4.90268    10.2773372  19.83738831 34.98031378 52.94910405\n",
      " 69.10817452 81.02280027 89.05173607 94.34996948 96.69212032 94.95040236\n",
      " 88.76763849 78.92179037]\n",
      "[0.00444277 0.00477905 0.00514078 0.00552988 0.00594844 0.00639869\n",
      " 0.00688301 0.00740398 0.0079644  0.00856723 0.00921568 0.00991323\n",
      " 0.01066356 0.01147069 0.01233892 0.01327286 0.01427749 0.01535816\n",
      " 0.01652063 0.01777108]\n",
      "[-0.27886947 -0.27053487 -0.25972128 -0.24576755 -0.22785472 -0.20497756\n",
      " -0.17591662 -0.13921445 -0.09315998 -0.03578688  0.03510899  0.1219289\n",
      "  0.22720657  0.35352402  0.50341743  0.6792869   0.88332411  1.11746995\n",
      "  1.3834086   1.68259989]\n",
      "m4 = 0.105\n",
      "[1.00000000e-03 1.62377674e-03 2.63665090e-03 4.28133240e-03\n",
      " 6.95192796e-03 1.12883789e-02 1.83298071e-02 2.97635144e-02\n",
      " 4.83293024e-02 7.84759970e-02 1.27427499e-01 2.06913808e-01\n",
      " 3.35981829e-01 5.45559478e-01 8.85866790e-01 1.43844989e+00\n",
      " 2.33572147e+00 3.79269019e+00 6.15848211e+00 1.00000000e+01]\n",
      "[-0.43690755 -0.43684658 -0.43680029 -0.43681435 -0.43686625 -0.43684073\n",
      " -0.43663803 -0.43504937 -0.41290626 -0.26054912  0.3614984   2.15761737\n",
      "  6.02880674 12.92885752 23.87234839 39.09839304 56.17283139 71.08165891\n",
      " 81.55636196 87.96419976]\n",
      "[0.05170674 0.05562045 0.05983039 0.06435899 0.06923036 0.07447045\n",
      " 0.08010716 0.08617052 0.09269281 0.09970879 0.1072558  0.11537406\n",
      " 0.12410679 0.13350051 0.14360524 0.1544748  0.16616709 0.17874437\n",
      " 0.19227364 0.20682695]\n",
      "[-0.40403252 -0.3913873  -0.37477748 -0.35325555 -0.32571521 -0.29087703\n",
      " -0.24727576 -0.19325033 -0.12693718 -0.04626748  0.05103153  0.16743104\n",
      "  0.30559102  0.46834623  0.65868793  0.87974114  1.13473797  1.42698804\n",
      "  1.77708166  2.15530673]\n",
      "m4 = 0.2\n",
      "[1.00000000e-03 1.62377674e-03 2.63665090e-03 4.28133240e-03\n",
      " 6.95192796e-03 1.12883789e-02 1.83298071e-02 2.97635144e-02\n",
      " 4.83293024e-02 7.84759970e-02 1.27427499e-01 2.06913808e-01\n",
      " 3.35981829e-01 5.45559478e-01 8.85866790e-01 1.43844989e+00\n",
      " 2.33572147e+00 3.79269019e+00 6.15848211e+00 1.00000000e+01]\n",
      "[-0.73385579 -0.73394012 -0.7340773  -0.73425898 -0.7344759  -0.734726\n",
      " -0.73498601 -0.73526563 -0.73511279 -0.72443725 -0.63530409 -0.20364167\n",
      "  1.20790853  4.54408251 10.43928696 18.96462284 29.93016626 42.43558499\n",
      " 54.23781022 63.15839614]\n",
      "[0.11552829 0.1242727  0.13367897 0.14379721 0.15468131 0.16638923\n",
      " 0.17898332 0.19253068 0.20710344 0.22277922 0.23964151 0.25778011\n",
      " 0.27729164 0.29828001 0.320857   0.34514285 0.37126692 0.39936833\n",
      " 0.42959675 0.46211318]\n",
      "[-0.66786893 -0.64470053 -0.61501176 -0.57734524 -0.53001715 -0.47110856\n",
      " -0.39846249 -0.309687   -0.20216411 -0.07306444  0.08063257  0.26211257\n",
      "  0.47469355  0.72178586  1.00684412  1.33331122  1.70455519  2.12380125\n",
      "  2.61088166  3.13645924]\n",
      "mz = 1.5\n",
      "m4 = 0.01\n",
      "[1.00000000e-03 1.62377674e-03 2.63665090e-03 4.28133240e-03\n",
      " 6.95192796e-03 1.12883789e-02 1.83298071e-02 2.97635144e-02\n",
      " 4.83293024e-02 7.84759970e-02 1.27427499e-01 2.06913808e-01\n",
      " 3.35981829e-01 5.45559478e-01 8.85866790e-01 1.43844989e+00\n",
      " 2.33572147e+00 3.79269019e+00 6.15848211e+00 1.00000000e+01]\n",
      "[-1.09285166 -1.09275467 -1.09269327 -1.09066783 -1.06623718 -0.94429724\n",
      " -0.58152486  0.23755109  1.93714524  5.22792501 11.10367193 19.46484236\n",
      " 28.29936552 35.31923023 39.85317512 42.37232483 42.91934953 40.9885829\n",
      " 36.51042686 30.22973521]\n",
      "[0.01336994 0.01438192 0.0154705  0.01664147 0.01790107 0.01925601\n",
      " 0.02071351 0.02228133 0.02396782 0.02578196 0.02773341 0.02983257\n",
      " 0.03209061 0.03451957 0.03713237 0.03994295 0.04296625 0.04621839\n",
      " 0.04971669 0.05347977]\n",
      "[-0.85412782 -0.80444646 -0.74729747 -0.68196385 -0.60767953 -0.52361961\n",
      " -0.4288886  -0.3225065  -0.20339259 -0.07034665  0.0779722   0.24306919\n",
      "  0.42663937  0.65481376  0.88363687  1.1373271   1.41850365  1.73007515\n",
      "  2.07524006  2.45747017]\n",
      "m4 = 0.105\n",
      "[1.00000000e-03 1.62377674e-03 2.63665090e-03 4.28133240e-03\n",
      " 6.95192796e-03 1.12883789e-02 1.83298071e-02 2.97635144e-02\n",
      " 4.83293024e-02 7.84759970e-02 1.27427499e-01 2.06913808e-01\n",
      " 3.35981829e-01 5.45559478e-01 8.85866790e-01 1.43844989e+00\n",
      " 2.33572147e+00 3.79269019e+00 6.15848211e+00 1.00000000e+01]\n",
      "[-1.16469362 -1.16472065 -1.16477476 -1.16485417 -1.16492963 -1.16496743\n",
      " -1.16496159 -1.16466156 -1.15957197 -1.12217021 -0.96245217 -0.4897943\n",
      "  0.57652205  2.58767405  5.95980275 11.2041622  18.10140552 25.1041071\n",
      " 30.52876201 33.97519828]\n",
      "[0.13498285 0.14519979 0.15619004 0.16801216 0.1807291  0.19440859\n",
      " 0.20912349 0.22495217 0.24197893 0.26029446 0.2799963  0.30118938\n",
      " 0.32398658 0.34850931 0.37488819 0.4032637  0.43378696 0.46662055\n",
      " 0.50193933 0.53993142]\n",
      "[-0.92750611 -0.87639374 -0.81678579 -0.74773417 -0.6682541  -0.57733013\n",
      " -0.47392223 -0.35697131 -0.22540391 -0.07813517  0.08593045  0.26790154\n",
      "  0.46890574  0.69009993  0.93268441  1.19792081  1.4871524   1.81801734\n",
      "  2.16089777  2.53244061]\n",
      "m4 = 0.2\n",
      "[1.00000000e-03 1.62377674e-03 2.63665090e-03 4.28133240e-03\n",
      " 6.95192796e-03 1.12883789e-02 1.83298071e-02 2.97635144e-02\n",
      " 4.83293024e-02 7.84759970e-02 1.27427499e-01 2.06913808e-01\n",
      " 3.35981829e-01 5.45559478e-01 8.85866790e-01 1.43844989e+00\n",
      " 2.33572147e+00 3.79269019e+00 6.15848211e+00 1.00000000e+01]\n",
      "[-1.23275157 -1.23276458 -1.23277785 -1.23278771 -1.23279443 -1.23279646\n",
      " -1.23278685 -1.23276348 -1.23265719 -1.23119751 -1.21812186 -1.14455104\n",
      " -0.87262029 -0.16228073  1.26878815  3.69755695  7.24977632 11.80220249\n",
      " 16.60138805 20.57526899]\n",
      "[0.29345512 0.31566691 0.33955992 0.36526141 0.39290826 0.42264772\n",
      " 0.45463817 0.48905    0.52606648 0.56588476 0.60871691 0.65479105\n",
      " 0.70435257 0.75766543 0.81501357 0.87670243 0.94306055 1.01444135\n",
      " 1.09122501 1.17382047]\n",
      "[-0.98085205 -0.92634276 -0.862797   -0.78925807 -0.70474827 -0.60827684\n",
      " -0.49884745 -0.37546533 -0.23714354 -0.08290838  0.08819623  0.27710553\n",
      "  0.48473169  0.71196257  0.95966127  1.22866614  1.53577158  1.8509737\n",
      "  2.18976866  2.55283459]\n",
      "mz = 2.0\n",
      "m4 = 0.01\n",
      "[1.00000000e-03 1.62377674e-03 2.63665090e-03 4.28133240e-03\n",
      " 6.95192796e-03 1.12883789e-02 1.83298071e-02 2.97635144e-02\n",
      " 4.83293024e-02 7.84759970e-02 1.27427499e-01 2.06913808e-01\n",
      " 3.35981829e-01 5.45559478e-01 8.85866790e-01 1.43844989e+00\n",
      " 2.33572147e+00 3.79269019e+00 6.15848211e+00 1.00000000e+01]\n",
      "[-1.27812221 -1.27814607 -1.27801577 -1.27547296 -1.25904593 -1.20646381\n",
      " -1.08340705 -0.81382928 -0.24067051  0.95061234  3.16569038  6.58349752\n",
      " 10.53745991 13.89002128 16.11253273 17.34177868 17.56787399 16.51362324\n",
      " 14.19484344 11.11638349]\n",
      "[0.02750346 0.02958521 0.03182453 0.03423335 0.03682449 0.03961176\n",
      " 0.04261    0.04583518 0.04930447 0.05303635 0.0570507  0.0613689\n",
      " 0.06601395 0.07101059 0.07638542 0.08216708 0.08838635 0.09507637\n",
      " 0.10227275 0.11001384]\n",
      "[-0.87302139 -0.81859473 -0.75759825 -0.68930138 -0.61289702 -0.52749193\n",
      " -0.43209732 -0.3256208  -0.20686073 -0.07450423  0.07287008  0.23678335\n",
      "  0.41884112  0.62071     0.84408617  1.10955932  1.3822304   1.68113471\n",
      "  2.00752968  2.36240169]\n",
      "m4 = 0.105\n",
      "[1.00000000e-03 1.62377674e-03 2.63665090e-03 4.28133240e-03\n",
      " 6.95192796e-03 1.12883789e-02 1.83298071e-02 2.97635144e-02\n",
      " 4.83293024e-02 7.84759970e-02 1.27427499e-01 2.06913808e-01\n",
      " 3.35981829e-01 5.45559478e-01 8.85866790e-01 1.43844989e+00\n",
      " 2.33572147e+00 3.79269019e+00 6.15848211e+00 1.00000000e+01]\n",
      "[-1.29345584 -1.29346852 -1.2934866  -1.29350319 -1.29350677 -1.29349089\n",
      " -1.29344376 -1.29317318 -1.2910986  -1.27981529 -1.23470095 -1.09813152\n",
      " -0.77748274 -0.14951506  1.00606994  2.96571143  5.80223318  8.93542902\n",
      " 11.51477747 13.198719  ]\n",
      "[0.29591445 0.31831238 0.34240564 0.36832252 0.39620107 0.42618976\n",
      " 0.45844831 0.49314853 0.53047523 0.57062721 0.61381832 0.66027859\n",
      " 0.71025546 0.76401512 0.82184387 0.88404971 0.95096395 1.02294297\n",
      " 1.10037013 1.18365779]\n",
      "[-0.8854541  -0.82580129 -0.75966836 -0.68658707 -0.60604956 -0.51749764\n",
      " -0.42031175 -0.31380033 -0.19719095 -0.06962435  0.0698473   0.22225683\n",
      "  0.38871202  0.57037842  0.76845458  0.99970327  1.23523373  1.49055421\n",
      "  1.76655876  2.06393973]\n",
      "m4 = 0.2\n",
      "[1.00000000e-03 1.62377674e-03 2.63665090e-03 4.28133240e-03\n",
      " 6.95192796e-03 1.12883789e-02 1.83298071e-02 2.97635144e-02\n",
      " 4.83293024e-02 7.84759970e-02 1.27427499e-01 2.06913808e-01\n",
      " 3.35981829e-01 5.45559478e-01 8.85866790e-01 1.43844989e+00\n",
      " 2.33572147e+00 3.79269019e+00 6.15848211e+00 1.00000000e+01]\n",
      "[-1.31501965 -1.31501568 -1.31500947 -1.31499907 -1.31498352 -1.31496259\n",
      " -1.31493673 -1.31490674 -1.31485238 -1.31445661 -1.31071967 -1.28848349\n",
      " -1.20312951 -0.97119619 -0.49239118  0.31896167  1.55805508  3.2220408\n",
      "  5.10891169  6.7721986 ]\n",
      "[0.61003    0.65620353 0.70587196 0.75929982 0.81677167 0.87859359\n",
      " 0.94509486 1.01662964 1.09357893 1.17635256 1.26539138 1.3611696\n",
      " 1.46419732 1.57502327 1.69423771 1.82247555 1.9604198  2.10880512\n",
      " 2.26842182 2.44011999]\n",
      "[-0.88620813 -0.82300789 -0.7533776  -0.67702987 -0.5936904  -0.50309528\n",
      " -0.40498737 -0.29911214 -0.18521338 -0.06302953  0.06770901  0.2072806\n",
      "  0.35597061  0.5140666   0.68184998  0.85958375  1.04749664  1.26151856\n",
      "  1.47113744  1.69115212]\n"
     ]
    }
   ],
   "source": [
    "this_point = deepcopy(physics_parameters[hierarchy]['bp'])\n",
    "\n",
    "for mz in mz_s:\n",
    "    this_point['mz'] = mz\n",
    "    print(f'mz = {mz}')\n",
    "    ctau_min_s.append([])\n",
    "    for m4 in m4_s:\n",
    "        print(f'm4 = {m4}')\n",
    "        this_point['m4'] = m4\n",
    "        this_point['external_ctau'] = np.geomspace(0.001, 10, 20)\n",
    "        ctau_min = get_ctau0_min(this_point, base_like)\n",
    "        this_point['external_ctau'] = np.geomspace(ctau_min/2, ctau_min*2, 20)\n",
    "        ctau_min = get_ctau0_min(this_point, base_like)\n",
    "        \n",
    "        ctau_min_s[-1].append(ctau_min)"
   ]
  },
  {
   "cell_type": "code",
   "execution_count": 78,
   "metadata": {},
   "outputs": [],
   "source": [
    "this_point_for_title = deepcopy(this_point)\n",
    "this_point_for_title['m4'] = None\n",
    "this_point_for_title['mz'] = None\n",
    "this_point_for_title['Ud4_2'] = None\n",
    "this_point_for_title['external_ctau'] = None"
   ]
  },
  {
   "cell_type": "code",
   "execution_count": 80,
   "metadata": {},
   "outputs": [
    {
     "data": {
      "image/png": "[encoded data removed]",
      "text/plain": [
       "<Figure size 319.68x204.051 with 1 Axes>"
      ]
     },
     "metadata": {
      "needs_background": "light"
     },
     "output_type": "display_data"
    }
   ],
   "source": [
    "for i, mz in enumerate(mz_s):\n",
    "    plt.plot(m4_s,\n",
    "             ctau_min_s[i], \n",
    "             '.',\n",
    "             label=r'$m_{Z^{\\prime}}$ = '+f'{mz:.3g} GeV')\n",
    "    \n",
    "plt.legend(frameon=False)\n",
    "plt.xlabel(r'$m_N$ [GeV]')\n",
    "plt.ylabel(r'$c \\tau^0_{min}$ [cm]')\n",
    "set_plot_title(plt.gca(), \n",
    "               **this_point_for_title\n",
    "               )\n",
    "plt.savefig(save_folder + 'ctau_vs_mn_mz.pdf', bbox_inches='tight')"
   ]
  },
  {
   "cell_type": "markdown",
   "metadata": {},
   "source": [
    "## Varying V_muN"
   ]
  },
  {
   "cell_type": "code",
   "execution_count": 88,
   "metadata": {},
   "outputs": [],
   "source": [
    "Umu4_2_s = [2e-8, 1e-7, 5e-7]\n",
    "m4_s = np.linspace(0.01, 0.2, 3)\n",
    "ctau_min_s = []"
   ]
  },
  {
   "cell_type": "code",
   "execution_count": 90,
   "metadata": {
    "collapsed": true,
    "jupyter": {
     "outputs_hidden": true
    },
    "tags": []
   },
   "outputs": [
    {
     "name": "stdout",
     "output_type": "stream",
     "text": [
      "Umu4_2 = 2e-08\n",
      "m4 = 0.01\n",
      "[1.00000000e-03 1.62377674e-03 2.63665090e-03 4.28133240e-03\n",
      " 6.95192796e-03 1.12883789e-02 1.83298071e-02 2.97635144e-02\n",
      " 4.83293024e-02 7.84759970e-02 1.27427499e-01 2.06913808e-01\n",
      " 3.35981829e-01 5.45559478e-01 8.85866790e-01 1.43844989e+00\n",
      " 2.33572147e+00 3.79269019e+00 6.15848211e+00 1.00000000e+01]\n",
      "[-1.30944584 -1.30957986 -1.30972962 -1.30955667 -1.30575157 -1.28376917\n",
      " -1.21102335 -1.04714914 -0.7412019  -0.14488549  1.07847667  3.11986119\n",
      "  5.63008451  7.85123903  9.40069017 10.34188305 10.61890805 10.00249697\n",
      "  8.50494359  6.49708658]\n",
      "[0.04243187 0.04564356 0.04909835 0.05281464 0.05681221 0.06111236\n",
      " 0.06573799 0.07071373 0.0760661  0.08182358 0.08801686 0.09467891\n",
      " 0.10184521 0.10955393 0.11784613 0.12676598 0.13636097 0.14668221\n",
      " 0.15778467 0.16972749]\n",
      "[-0.84257937 -0.78790351 -0.72765633 -0.6610637  -0.58723025 -0.50514051\n",
      " -0.41366637 -0.31158156 -0.19758391 -0.0703256   0.07154884  0.22935748\n",
      "  0.40433015  0.59755345  0.82760316  1.06105799  1.31456114  1.58802468\n",
      "  1.88096067  2.1924593 ]\n",
      "m4 = 0.105\n",
      "[1.00000000e-03 1.62377674e-03 2.63665090e-03 4.28133240e-03\n",
      " 6.95192796e-03 1.12883789e-02 1.83298071e-02 2.97635144e-02\n",
      " 4.83293024e-02 7.84759970e-02 1.27427499e-01 2.06913808e-01\n",
      " 3.35981829e-01 5.45559478e-01 8.85866790e-01 1.43844989e+00\n",
      " 2.33572147e+00 3.79269019e+00 6.15848211e+00 1.00000000e+01]\n",
      "[-1.32075245 -1.32075253 -1.32075367 -1.32075677 -1.320762   -1.32076884\n",
      " -1.32077609 -1.32074847 -1.32010419 -1.3151632  -1.2925093  -1.21924389\n",
      " -1.04046357 -0.68095876 -0.01331865  1.17541637  2.92176688  4.88591888\n",
      "  6.53152938  7.63735698]\n",
      "[0.44613929 0.47990783 0.51623234 0.55530626 0.59733772 0.64255056\n",
      " 0.69118559 0.74350183 0.79977792 0.86031358 0.92543122 0.99547766\n",
      " 1.07082594 1.15187739 1.23906366 1.33284912 1.43373325 1.54225336\n",
      " 1.65898742 1.78455715]\n",
      "[-0.8583916  -0.79929463 -0.73434756 -0.66303747 -0.58479451 -0.49899124\n",
      " -0.40494565 -0.30192833 -0.18917465 -0.06590223  0.06866635  0.2152757\n",
      "  0.37460549  0.54723495  0.7336056   0.94992044  1.16538989  1.39466348\n",
      "  1.63725457  1.89239308]\n",
      "m4 = 0.2\n",
      "[1.00000000e-03 1.62377674e-03 2.63665090e-03 4.28133240e-03\n",
      " 6.95192796e-03 1.12883789e-02 1.83298071e-02 2.97635144e-02\n",
      " 4.83293024e-02 7.84759970e-02 1.27427499e-01 2.06913808e-01\n",
      " 3.35981829e-01 5.45559478e-01 8.85866790e-01 1.43844989e+00\n",
      " 2.33572147e+00 3.79269019e+00 6.15848211e+00 1.00000000e+01]\n",
      "[-1.33162115 -1.33162438 -1.33162871 -1.331633   -1.33163668 -1.33163876\n",
      " -1.33163723 -1.33163325 -1.33160723 -1.33119783 -1.32810673 -1.31305802\n",
      " -1.26153996 -1.12995114 -0.85978199 -0.38228876  0.38018725  1.47358861\n",
      "  2.71213812  3.79729044]\n",
      "[0.9409338  1.01215363 1.08876414 1.17117333 1.25982013 1.35517665\n",
      " 1.45775077 1.56808878 1.68677834 1.81445158 1.95178848 2.09952049\n",
      " 2.25843443 2.42937666 2.6132576  2.8110566  3.02382712 3.25270237\n",
      " 3.49890132 3.76373521]\n",
      "[-0.81320594 -0.75238402 -0.68641589 -0.61502662 -0.53793334 -0.45484799\n",
      " -0.36548185 -0.26955208 -0.16679055 -0.05695482  0.06015894  0.18470135\n",
      "  0.31675408  0.4563139   0.60327715  0.7574257   0.93374343  1.10189778\n",
      "  1.27575715  1.45455681]\n",
      "Umu4_2 = 1e-07\n",
      "m4 = 0.01\n",
      "[1.00000000e-03 1.62377674e-03 2.63665090e-03 4.28133240e-03\n",
      " 6.95192796e-03 1.12883789e-02 1.83298071e-02 2.97635144e-02\n",
      " 4.83293024e-02 7.84759970e-02 1.27427499e-01 2.06913808e-01\n",
      " 3.35981829e-01 5.45559478e-01 8.85866790e-01 1.43844989e+00\n",
      " 2.33572147e+00 3.79269019e+00 6.15848211e+00 1.00000000e+01]\n",
      "[-1.12739175 -1.12806032 -1.12880762 -1.12794956 -1.10894746 -0.9986368\n",
      " -0.63739653  0.1450404   1.57048866  4.23075111  9.27295044 16.88683849\n",
      " 25.15532881 31.79950199 36.21846397 38.90001603 39.79786136 38.30564075\n",
      " 34.29695027 28.48351134]\n",
      "[0.01388262 0.0149334  0.01606372 0.01727959 0.01858749 0.01999439\n",
      " 0.02150778 0.02313571 0.02488687 0.02677057 0.02879685 0.0309765\n",
      " 0.03332113 0.03584323 0.03855622 0.04147456 0.0446138  0.04799064\n",
      " 0.05162308 0.05553046]\n",
      "[-0.88622037 -0.83284058 -0.77128671 -0.70099102 -0.6214361  -0.53215217\n",
      " -0.4327061  -0.32268131 -0.20164844 -0.06912728  0.0754589   0.23283519\n",
      "  0.40393078  0.58993654  0.79236152  1.01308543  1.25440358  1.54345369\n",
      "  1.83645964  2.15949517]\n",
      "m4 = 0.105\n",
      "[1.00000000e-03 1.62377674e-03 2.63665090e-03 4.28133240e-03\n",
      " 6.95192796e-03 1.12883789e-02 1.83298071e-02 2.97635144e-02\n",
      " 4.83293024e-02 7.84759970e-02 1.27427499e-01 2.06913808e-01\n",
      " 3.35981829e-01 5.45559478e-01 8.85866790e-01 1.43844989e+00\n",
      " 2.33572147e+00 3.79269019e+00 6.15848211e+00 1.00000000e+01]\n",
      "[-1.18399    -1.18399044 -1.18399612 -1.18401154 -1.18403761 -1.18407175\n",
      " -1.18410801 -1.18397073 -1.18076107 -1.15613878 -1.0433616  -0.68082676\n",
      "  0.19020766  1.91368398  4.95932565  9.94850328 16.68450019 23.53727036\n",
      " 28.82981675 32.2173545 ]\n",
      "[0.15522848 0.16697782 0.17961646 0.19321174 0.20783605 0.22356728\n",
      " 0.24048922 0.25869199 0.27827254 0.29933515 0.321992   0.34636377\n",
      " 0.37258024 0.40078106 0.43111642 0.46374787 0.49884922 0.53660741\n",
      " 0.57722354 0.62091392]\n",
      "[-0.93888107 -0.88691223 -0.82634191 -0.75622577 -0.6755928  -0.58345146\n",
      " -0.47879385 -0.36059706 -0.22782099 -0.07940195  0.08575824  0.26880789\n",
      "  0.4709653   0.69354232  0.93796996  1.20582454  1.51546996  1.83683355\n",
      "  2.18735785  2.56929554]\n",
      "m4 = 0.2\n",
      "[1.00000000e-03 1.62377674e-03 2.63665090e-03 4.28133240e-03\n",
      " 6.95192796e-03 1.12883789e-02 1.83298071e-02 2.97635144e-02\n",
      " 4.83293024e-02 7.84759970e-02 1.27427499e-01 2.06913808e-01\n",
      " 3.35981829e-01 5.45559478e-01 8.85866790e-01 1.43844989e+00\n",
      " 2.33572147e+00 3.79269019e+00 6.15848211e+00 1.00000000e+01]\n",
      "[-1.23821519 -1.23823126 -1.23825288 -1.23827427 -1.23829264 -1.23830297\n",
      " -1.23829532 -1.23827545 -1.23814568 -1.23610337 -1.22066832 -1.14555434\n",
      " -0.88967115 -0.24363493  1.05565495  3.30000972  6.68346785 11.14312539\n",
      " 15.89397556 19.80417218]\n",
      "[0.30677635 0.32999643 0.35497405 0.38184224 0.41074411 0.44183357\n",
      " 0.47527621 0.51125015 0.54994697 0.59157278 0.63634927 0.68451492\n",
      " 0.73632625 0.79205922 0.85201065 0.91649983 0.98587024 1.06049134\n",
      " 1.14076055 1.22710538]\n",
      "[-0.96002603 -0.90460144 -0.84065387 -0.7673221  -0.68371845 -0.58893436\n",
      " -0.48204625 -0.36212148 -0.22822372 -0.07941751  0.08522848  0.26663986\n",
      "  0.46573667  0.68343522  0.92065111  1.1783029   1.47331045  1.77578264\n",
      "  2.10141669  2.45110045]\n",
      "Umu4_2 = 5e-07\n",
      "m4 = 0.01\n",
      "[1.00000000e-03 1.62377674e-03 2.63665090e-03 4.28133240e-03\n",
      " 6.95192796e-03 1.12883789e-02 1.83298071e-02 2.97635144e-02\n",
      " 4.83293024e-02 7.84759970e-02 1.27427499e-01 2.06913808e-01\n",
      " 3.35981829e-01 5.45559478e-01 8.85866790e-01 1.43844989e+00\n",
      " 2.33572147e+00 3.79269019e+00 6.15848211e+00 1.00000000e+01]\n",
      "[-0.22559733 -0.22886263 -0.23252118 -0.22837472 -0.13594844  0.38825734\n",
      "  1.97293272  4.99551743 10.04495179 19.06250754 33.97899436 52.36215684\n",
      " 69.04317118 81.08405153 88.82100349 93.61570507 95.50640297 93.53104829\n",
      " 87.31202035 77.53267392]\n",
      "[0.00426209 0.00458469 0.00493171 0.00530499 0.00570653 0.00613846\n",
      " 0.00660309 0.00710288 0.0076405  0.00821881 0.0088409  0.00951007\n",
      " 0.01022989 0.0110042  0.01183711 0.01273307 0.01369685 0.01473357\n",
      " 0.01584876 0.01704836]\n",
      "[-0.2285687  -0.22464931 -0.21868339 -0.20994809 -0.19753596 -0.1803292\n",
      " -0.15697802 -0.12588685 -0.08521323 -0.03288361  0.0333705   0.11595537\n",
      "  0.21733921  0.33996386  0.48615272  0.65802547  0.8574301   1.08590163\n",
      "  1.34465456  1.63461286]\n",
      "m4 = 0.105\n",
      "[1.00000000e-03 1.62377674e-03 2.63665090e-03 4.28133240e-03\n",
      " 6.95192796e-03 1.12883789e-02 1.83298071e-02 2.97635144e-02\n",
      " 4.83293024e-02 7.84759970e-02 1.27427499e-01 2.06913808e-01\n",
      " 3.35981829e-01 5.45559478e-01 8.85866790e-01 1.43844989e+00\n",
      " 2.33572147e+00 3.79269019e+00 6.15848211e+00 1.00000000e+01]\n",
      "[-0.5059031  -0.50590531 -0.50593325 -0.506009   -0.50613721 -0.50630585\n",
      " -0.50648709 -0.50582055 -0.49006905 -0.36930594  0.1787375   1.90540646\n",
      "  5.76438917 12.59051495 23.23826186 38.05527254 54.75869193 69.28212994\n",
      " 79.37383151 85.4923728 ]\n",
      "[0.05760968 0.06197019 0.06666075 0.07170634 0.07713384 0.08297215\n",
      " 0.08925236 0.09600792 0.10327481 0.11109175 0.11950034 0.1285454\n",
      " 0.13827507 0.14874119 0.1599995  0.17210996 0.18513706 0.19915019\n",
      " 0.21422399 0.23043873]\n",
      "[-0.46816165 -0.45354049 -0.43440175 -0.40964411 -0.37796738 -0.33785214\n",
      " -0.28754135 -0.22502572 -0.14803443 -0.05403316  0.059769    0.19640251\n",
      "  0.35910973  0.55130676  0.77653621  1.03841279  1.35727713  1.70462938\n",
      "  2.09936559  2.5447708 ]\n",
      "m4 = 0.2\n",
      "[1.00000000e-03 1.62377674e-03 2.63665090e-03 4.28133240e-03\n",
      " 6.95192796e-03 1.12883789e-02 1.83298071e-02 2.97635144e-02\n",
      " 4.83293024e-02 7.84759970e-02 1.27427499e-01 2.06913808e-01\n",
      " 3.35981829e-01 5.45559478e-01 8.85866790e-01 1.43844989e+00\n",
      " 2.33572147e+00 3.79269019e+00 6.15848211e+00 1.00000000e+01]\n",
      "[-0.77388755 -0.77396687 -0.77407361 -0.77417914 -0.77426973 -0.77432054\n",
      " -0.77428227 -0.77418328 -0.77354197 -0.76345873 -0.68718971 -0.31860931\n",
      "  0.9074542   3.88480719  9.36827994 17.70266867 28.70807028 41.22972364\n",
      " 52.90194416 61.60884875]\n",
      "[0.1242286  0.13363153 0.14374618 0.15462642 0.16633018 0.17891981\n",
      " 0.19246235 0.20702994 0.22270016 0.23955647 0.25768864 0.27719324\n",
      " 0.29817416 0.32074314 0.34502037 0.37113517 0.3992266  0.4294443\n",
      " 0.46194919 0.4969144 ]\n",
      "[-0.69527763 -0.67009592 -0.6381336  -0.5979258  -0.5477949  -0.48584596\n",
      " -0.40996676 -0.31783245 -0.20691453 -0.07449421  0.08231987  0.26656895\n",
      "  0.4814164   0.73011443  1.01596564  1.34227993  1.72895193  2.14741573\n",
      "  2.61579883  3.1368825 ]\n"
     ]
    }
   ],
   "source": [
    "this_point = deepcopy(physics_parameters[hierarchy]['bp'])\n",
    "\n",
    "for Umu4_2 in Umu4_2_s:\n",
    "    this_point['Umu4_2'] = Umu4_2\n",
    "    print(f'Umu4_2 = {Umu4_2}')\n",
    "    ctau_min_s.append([])\n",
    "    for m4 in m4_s:\n",
    "        print(f'm4 = {m4}')\n",
    "        this_point['m4'] = m4\n",
    "        this_point['external_ctau'] = np.geomspace(0.001, 10, 20)\n",
    "        ctau_min = get_ctau0_min(this_point, base_like)\n",
    "        this_point['external_ctau'] = np.geomspace(ctau_min/2, ctau_min*2, 20)\n",
    "        ctau_min = get_ctau0_min(this_point, base_like)\n",
    "        \n",
    "        ctau_min_s[-1].append(ctau_min)"
   ]
  },
  {
   "cell_type": "code",
   "execution_count": 92,
   "metadata": {},
   "outputs": [],
   "source": [
    "this_point_for_title = deepcopy(this_point)\n",
    "this_point_for_title['m4'] = None\n",
    "this_point_for_title['Umu4_2'] = None\n",
    "this_point_for_title['Ud4_2'] = None\n",
    "this_point_for_title['external_ctau'] = None"
   ]
  },
  {
   "cell_type": "code",
   "execution_count": 94,
   "metadata": {},
   "outputs": [
    {
     "data": {
      "text/plain": [
       "[[],\n",
       " [0.08491952405258103, 0.8923183303210169, 1.881067492078531],\n",
       " [0.027742591261226305, 0.31031759665909164, 0.6133165629715931],\n",
       " [0.008539613004478667, 0.11520381807737003, 0.2483787411900989]]"
      ]
     },
     "execution_count": 94,
     "metadata": {},
     "output_type": "execute_result"
    }
   ],
   "source": [
    "ctau_min_s"
   ]
  },
  {
   "cell_type": "code",
   "execution_count": 96,
   "metadata": {},
   "outputs": [
    {
     "data": {
      "image/png": "[encoded data removed]",
      "text/plain": [
       "<Figure size 319.68x204.051 with 1 Axes>"
      ]
     },
     "metadata": {
      "needs_background": "light"
     },
     "output_type": "display_data"
    }
   ],
   "source": [
    "for i, Umu4_2 in enumerate(Umu4_2_s):\n",
    "    plt.plot(m4_s,\n",
    "             ctau_min_s[i+1], \n",
    "             '.',\n",
    "             label=r'$|V_{\\mu N}|^2$ ='+f'{Umu4_2:.3g}')\n",
    "    \n",
    "plt.legend(frameon=False)\n",
    "plt.xlabel(r'$m_N$ [GeV]')\n",
    "plt.ylabel(r'$c \\tau^0_{min}$ [cm]')\n",
    "set_plot_title(plt.gca(), \n",
    "               **this_point_for_title\n",
    "               )\n",
    "plt.savefig(save_folder + 'ctau_vs_mn_Umu4_2.pdf', bbox_inches='tight')"
   ]
  },
  {
   "cell_type": "markdown",
   "metadata": {
    "tags": []
   },
   "source": [
    "# Geometrical acceptance"
   ]
  },
  {
   "cell_type": "code",
   "execution_count": 6,
   "metadata": {},
   "outputs": [],
   "source": [
    "ctaus = np.geomspace(1e-2, 1e4, 20)\n",
    "\n",
    "mu_s = {}\n",
    "sigma2_s = {}\n",
    "\n",
    "mu_s_noctau = {}\n",
    "sigma2_s_noctau = {}\n",
    "\n",
    "materials = ['lead', 'argon']\n",
    "for selection in materials:\n",
    "    mu_s[selection] = 0\n",
    "    sigma2_s[selection] = 0\n",
    "    mu_s_noctau[selection] = 0\n",
    "    sigma2_s_noctau[selection] = 0\n",
    "    for nu_mode in ['FHC', 'RHC']:\n",
    "        aux = my_exp_analyses[f'heavy_majorana_{nu_mode}'].compute_expectation(\n",
    "                                    my_exp_analyses[f'heavy_majorana_{nu_mode}'].df_base, \n",
    "                                    m4=physics_parameters['heavy']['bp']['m4'], \n",
    "                                    mz=physics_parameters['heavy']['bp']['mz'], \n",
    "                                    alpha_dark=physics_parameters['heavy']['bp']['alpha_dark'], \n",
    "                                    epsilon=physics_parameters['heavy']['bp']['epsilon'], \n",
    "                                    Umu4_2=physics_parameters['heavy']['bp']['Umu4_2'], \n",
    "                                    Ud4_2=None,\n",
    "                                    external_ctau=ctaus,\n",
    "                                    ntarget_per_material=analyses['tpc'][nu_mode]['n_target'], \n",
    "                                    pot=analyses['tpc'][nu_mode]['pot'],\n",
    "                                    selection_query=analyses['tpc'][nu_mode]['selection'] + \" & \" + selection,\n",
    "                                    efficiency_factor=analyses['tpc'][nu_mode]['efficiency'])\n",
    "        mu_s[selection] += aux[1].sum(axis=0)\n",
    "        sigma2_s[selection] += (aux[1]**2).sum(axis=0)\n",
    "        \n",
    "        aux_noctau = my_exp_analyses[f'heavy_majorana_{nu_mode}'].compute_expectation(\n",
    "                                    my_exp_analyses[f'heavy_majorana_{nu_mode}'].df_base, \n",
    "                                    m4=physics_parameters['heavy']['bp']['m4'], \n",
    "                                    mz=physics_parameters['heavy']['bp']['mz'], \n",
    "                                    alpha_dark=physics_parameters['heavy']['bp']['alpha_dark'], \n",
    "                                    epsilon=physics_parameters['heavy']['bp']['epsilon'], \n",
    "                                    Umu4_2=physics_parameters['heavy']['bp']['Umu4_2'], \n",
    "                                    Ud4_2=None,\n",
    "                                    external_ctau=None,\n",
    "                                    ntarget_per_material=analyses['tpc'][nu_mode]['n_target'], \n",
    "                                    pot=analyses['tpc'][nu_mode]['pot'],\n",
    "                                    selection_query=analyses['tpc'][nu_mode]['selection'] + \" & \" + selection,\n",
    "                                    efficiency_factor=analyses['tpc'][nu_mode]['efficiency'])\n",
    "        mu_s_noctau[selection] += aux_noctau[1].sum(axis=0)\n",
    "        sigma2_s_noctau[selection] += (aux_noctau[1]**2).sum(axis=0)"
   ]
  },
  {
   "cell_type": "code",
   "execution_count": 7,
   "metadata": {},
   "outputs": [
    {
     "name": "stderr",
     "output_type": "stream",
     "text": [
      "findfont: Font family ['serif'] not found. Falling back to DejaVu Sans.\n"
     ]
    },
    {
     "data": {
      "image/png": "[encoded data removed]",
      "text/plain": [
       "<Figure size 319.68x204.051 with 1 Axes>"
      ]
     },
     "metadata": {
      "needs_background": "light"
     },
     "output_type": "display_data"
    }
   ],
   "source": [
    "ax = set_canvas_basic()\n",
    "\n",
    "for selection in materials:     \n",
    "    ax.plot(ctaus, mu_s[selection]/mu_s_noctau[selection], label=selection)\n",
    "\n",
    "ax.set_xlabel('$c\\\\tau$ [cm]')\n",
    "ax.set_ylabel('Geometrical acceptance')\n",
    "ax.set_xscale('log')\n",
    "ax.legend(frameon=False, loc='upper right')\n",
    "\n",
    "\n",
    "# plt.savefig(save_folder+'geometrical_acceptance.pdf', bbox_inches='tight', transparent=True)\n",
    "# plt.savefig(save_folder+'geometrical_acceptance.png', bbox_inches='tight', dpi=500, transparent=True)"
   ]
  }
 ],
 "metadata": {
  "kernelspec": {
   "display_name": "Python [conda env:.conda-dark_nus]",
   "language": "python",
   "name": "conda-env-.conda-dark_nus-py"
  },
  "language_info": {
   "codemirror_mode": {
    "name": "ipython",
    "version": 3
   },
   "file_extension": ".py",
   "mimetype": "text/x-python",
   "name": "python",
   "nbconvert_exporter": "python",
   "pygments_lexer": "ipython3",
   "version": "3.8.8"
  }
 },
 "nbformat": 4,
 "nbformat_minor": 4
}
