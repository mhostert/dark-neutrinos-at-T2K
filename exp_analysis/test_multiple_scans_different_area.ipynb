{
 "cells": [
  {
   "cell_type": "code",
   "execution_count": 1,
   "metadata": {},
   "outputs": [],
   "source": [
    "%load_ext autoreload\n",
    "%autoreload 2"
   ]
  },
  {
   "cell_type": "code",
   "execution_count": 2,
   "metadata": {},
   "outputs": [],
   "source": [
    "import matplotlib.pyplot as plt\n",
    "import numpy as np\n",
    "import pandas as pd\n",
    "\n",
    "import os\n",
    "import gc\n",
    "\n",
    "from parameters_dict import physics_parameters\n",
    "from exp_analysis_class import exp_analysis\n",
    "from exp_analysis import gamma_heavy, gamma_heavy_integrated"
   ]
  },
  {
   "cell_type": "code",
   "execution_count": 3,
   "metadata": {},
   "outputs": [],
   "source": [
    "case = 'heavy'\n",
    "save_folder = ('../fig/control_checks/comparison_with_truth/' + case + '/')\n",
    "!mkdir -p $save_folder"
   ]
  },
  {
   "cell_type": "code",
   "execution_count": 4,
   "metadata": {},
   "outputs": [
    {
     "data": {
      "text/plain": [
       "{'m4_limits': (0.005, 1),\n",
       " 'mz_limits': (0.005, 10),\n",
       " 'm4_scan': [0.01, 0.1, 0.5],\n",
       " 'mz_scan': [0.01, 0.1, 1, 5],\n",
       " 'alpha_dark': 0.4,\n",
       " 'Umu4': 2.2e-07,\n",
       " 'espilon2': 0.00046,\n",
       " 'alpha_em': 0.0072992700729927005,\n",
       " 'span_2d': 9.945025,\n",
       " 'Vmu4_alpha_epsilon2': 2.9547445255474454e-13}"
      ]
     },
     "execution_count": 4,
     "metadata": {},
     "output_type": "execute_result"
    }
   ],
   "source": [
    "physics_parameters[case]"
   ]
  },
  {
   "cell_type": "code",
   "execution_count": 5,
   "metadata": {},
   "outputs": [
    {
     "name": "stdout",
     "output_type": "stream",
     "text": [
      "0.01_m4_0.8_0.1_mzprime_5_nevt_1000.pckl\n",
      "0.1_m4_0.5_0.01_mzprime_0.05_nevt_100000.0.pckl\n",
      "0.01_m4_0.8_0.1_mzprime_5_nevt_100000.pckl\n",
      "0.01_m4_0.8_0.1_mzprime_5_nevt_10000.pckl\n"
     ]
    }
   ],
   "source": [
    "base_dir = '../data/nd280_nu/3plus1/scan/heavy_mediator/'\n",
    "\n",
    "m4_range = physics_parameters['heavy']['m4_limits']\n",
    "mz_range = [1, 2]\n",
    "material = 'oxygen'\n",
    "\n",
    "integral = {}\n",
    "\n",
    "for fname in os.listdir(base_dir):\n",
    "    if '.pckl' not in fname:\n",
    "        continue\n",
    "    print(fname)\n",
    "    aux_exp_analysis = exp_analysis(case)\n",
    "    aux_exp_analysis.load_df_base(filename=base_dir+fname)\n",
    "    total_mask = aux_exp_analysis.df_base[material, ''] &\\\n",
    "                (aux_exp_analysis.df_base['m4', ''].values > m4_range[0]) &\\\n",
    "                (aux_exp_analysis.df_base['m4', ''].values < m4_range[1]) &\\\n",
    "                (aux_exp_analysis.df_base['mzprime', ''].values > mz_range[0]) &\\\n",
    "                (aux_exp_analysis.df_base['mzprime', ''].values < mz_range[1])\n",
    "    corrected_weights = aux_exp_analysis.df_base['weight_decay', ''].values/aux_exp_analysis.df_base['mzprime', ''].values**4\n",
    "    integral[aux_exp_analysis.df_base['mzprime', ''].values.max().round()] = corrected_weights[total_mask].sum()\n",
    "    gc.collect()"
   ]
  },
  {
   "cell_type": "code",
   "execution_count": 6,
   "metadata": {},
   "outputs": [
    {
     "data": {
      "text/plain": [
       "{5.0: 7.08162597543664e-23, 0.0: 0.0}"
      ]
     },
     "execution_count": 6,
     "metadata": {},
     "output_type": "execute_result"
    }
   ],
   "source": [
    "integral"
   ]
  },
  {
   "cell_type": "code",
   "execution_count": 7,
   "metadata": {},
   "outputs": [],
   "source": [
    "def area(m4_s, mz_s):\n",
    "    return (mz_s[1] - mz_s[0] + mz_s[1] - m4_s[1]) * (m4_s[1] - m4_s[0]) / 2    "
   ]
  },
  {
   "cell_type": "code",
   "execution_count": 8,
   "metadata": {},
   "outputs": [
    {
     "name": "stdout",
     "output_type": "stream",
     "text": [
      "5.0 4.4750125\n",
      "0.0 -0.4999874999999999\n"
     ]
    }
   ],
   "source": [
    "not_corrected = {}\n",
    "corrected = {}\n",
    "for mz_max, intg in integral.items():\n",
    "    not_corrected[mz_max] = intg\n",
    "    aux_area = area(m4_range, [physics_parameters['heavy']['m4_limits'][0], mz_max])\n",
    "    corrected[mz_max] = intg * aux_area\n",
    "    print(mz_max, aux_area)"
   ]
  },
  {
   "cell_type": "code",
   "execution_count": 9,
   "metadata": {},
   "outputs": [
    {
     "data": {
      "image/png": "[encoded data removed]",
      "text/plain": [
       "<Figure size 432x288 with 1 Axes>"
      ]
     },
     "metadata": {
      "needs_background": "light"
     },
     "output_type": "display_data"
    }
   ],
   "source": [
    "plt.plot(not_corrected.keys(), not_corrected.values(), '.', label='not corrected')\n",
    "plt.plot(corrected.keys(), corrected.values(), '.', label='corrected for the area\\nover which the integral is sampled')\n",
    "plt.hlines(gamma_heavy_integrated(m4_range, mz_range, physics_parameters['heavy']['Vmu4_alpha_epsilon2']), 0, 110)\n",
    "# plt.ylim(1e-18, 2e-14)\n",
    "plt.yscale('log')\n",
    "plt.legend(frameon=False)\n",
    "plt.title(f'Integral of $\\Gamma$ in {m4_range[0]} < $m_{{4}}$ < {m4_range[1]} & {mz_range[0]} < $m_{{Z}}$ < {mz_range[1]}')\n",
    "plt.ylabel(r'Integral [GeV$^3$]')\n",
    "plt.xlabel(r'$m_z$ max [GeV]')\n",
    "plt.grid()"
   ]
  },
  {
   "cell_type": "code",
   "execution_count": null,
   "metadata": {},
   "outputs": [],
   "source": []
  }
 ],
 "metadata": {
  "kernelspec": {
   "display_name": "Python 3",
   "language": "python",
   "name": "python3"
  },
  "language_info": {
   "codemirror_mode": {
    "name": "ipython",
    "version": 3
   },
   "file_extension": ".py",
   "mimetype": "text/x-python",
   "name": "python",
   "nbconvert_exporter": "python",
   "pygments_lexer": "ipython3",
   "version": "3.8.7"
  }
 },
 "nbformat": 4,
 "nbformat_minor": 4
}
