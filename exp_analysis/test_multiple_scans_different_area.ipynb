{
 "cells": [
  {
   "cell_type": "code",
   "execution_count": 1,
   "metadata": {},
   "outputs": [],
   "source": [
    "%load_ext autoreload\n",
    "%autoreload 2"
   ]
  },
  {
   "cell_type": "code",
   "execution_count": 7,
   "metadata": {},
   "outputs": [],
   "source": [
    "import matplotlib.pyplot as plt\n",
    "import numpy as np\n",
    "import pandas as pd\n",
    "\n",
    "import os\n",
    "import gc\n",
    "\n",
    "from parameters_dict import physics_parameters\n",
    "from exp_analysis_class import exp_analysis\n",
    "from exp_analysis import gamma_heavy, gamma_heavy_integrated"
   ]
  },
  {
   "cell_type": "code",
   "execution_count": 3,
   "metadata": {},
   "outputs": [
    {
     "name": "stdout",
     "output_type": "stream",
     "text": [
      "/bin/bash: port_used: line 1: syntax error: unexpected end of file\n",
      "/bin/bash: error importing function definition for `BASH_FUNC_port_used'\n",
      "/bin/bash: wait_until_port_used: line 1: syntax error: unexpected end of file\n",
      "/bin/bash: error importing function definition for `BASH_FUNC_wait_until_port_used'\n",
      "/bin/bash: module: line 1: syntax error: unexpected end of file\n",
      "/bin/bash: error importing function definition for `BASH_FUNC_module'\n",
      "/bin/bash: find_port: line 1: syntax error: unexpected end of file\n",
      "/bin/bash: error importing function definition for `BASH_FUNC_find_port'\n",
      "/bin/bash: random_number: line 1: syntax error: unexpected end of file\n",
      "/bin/bash: error importing function definition for `BASH_FUNC_random_number'\n",
      "/bin/bash: helmod: line 1: syntax error: unexpected end of file\n",
      "/bin/bash: error importing function definition for `BASH_FUNC_helmod'\n",
      "/bin/bash: source_helpers: line 1: syntax error: unexpected end of file\n",
      "/bin/bash: error importing function definition for `BASH_FUNC_source_helpers'\n",
      "/bin/bash: ml: line 1: syntax error: unexpected end of file\n",
      "/bin/bash: error importing function definition for `BASH_FUNC_ml'\n",
      "/bin/bash: create_passwd: line 1: syntax error: unexpected end of file\n",
      "/bin/bash: error importing function definition for `BASH_FUNC_create_passwd'\n"
     ]
    }
   ],
   "source": [
    "case = 'heavy'\n",
    "save_folder = ('../fig/control_checks/comparison_with_truth/' + case + '/')\n",
    "!mkdir -p $save_folder"
   ]
  },
  {
   "cell_type": "code",
   "execution_count": 4,
   "metadata": {},
   "outputs": [
    {
     "data": {
      "text/plain": [
       "{'m4_limits': (0.005, 1),\n",
       " 'mz_limits': (0.005, 10),\n",
       " 'm4_scan': [0.01, 0.1, 0.5],\n",
       " 'mz_scan': [0.01, 0.1, 1, 5],\n",
       " 'alpha_dark': 0.4,\n",
       " 'Umu4': 2.2e-07,\n",
       " 'espilon2': 0.00046,\n",
       " 'alpha_em': 0.0072992700729927005,\n",
       " 'span_2d': 9.945025,\n",
       " 'Vmu4_alpha_epsilon2': 2.9547445255474454e-13}"
      ]
     },
     "execution_count": 4,
     "metadata": {},
     "output_type": "execute_result"
    }
   ],
   "source": [
    "physics_parameters[case]"
   ]
  },
  {
   "cell_type": "code",
   "execution_count": 8,
   "metadata": {},
   "outputs": [
    {
     "name": "stdout",
     "output_type": "stream",
     "text": [
      "0.005_m4_1_0.005_mzprime_100_nevt_1000000.pckl\n",
      "0.005_m4_1_0.005_mzprime_3_nevt_1000000.pckl\n",
      "0.005_m4_1_0.005_mzprime_10_nevt_1000000.pckl\n",
      "0.005_m4_1_0.005_mzprime_2_nevt_1000000.pckl\n",
      "0.005_m4_1_0.005_mzprime_5_nevt_1000000.pckl\n"
     ]
    }
   ],
   "source": [
    "base_dir = '../data/nd280_nu/3plus1/scan/heavy_mediator/'\n",
    "\n",
    "m4_range = physics_parameters['heavy']['m4_limits']\n",
    "mz_range = [1, 2]\n",
    "material = 'oxygen'\n",
    "\n",
    "integral = {}\n",
    "\n",
    "for fname in os.listdir(base_dir):\n",
    "    if '.pckl' not in fname:\n",
    "        continue\n",
    "    print(fname)\n",
    "    aux_exp_analysis = exp_analysis(case)\n",
    "    aux_exp_analysis.load_df_base(filename=base_dir+fname)\n",
    "    total_mask = aux_exp_analysis.df_base[material, ''] &\\\n",
    "                (aux_exp_analysis.df_base['m4', ''].values > m4_range[0]) &\\\n",
    "                (aux_exp_analysis.df_base['m4', ''].values < m4_range[1]) &\\\n",
    "                (aux_exp_analysis.df_base['mzprime', ''].values > mz_range[0]) &\\\n",
    "                (aux_exp_analysis.df_base['mzprime', ''].values < mz_range[1])\n",
    "    corrected_weights = aux_exp_analysis.df_base['weight_decay', ''].values/aux_exp_analysis.df_base['mzprime', ''].values**4\n",
    "    integral[aux_exp_analysis.df_base['mzprime', ''].values.max().round()] = corrected_weights[total_mask].sum()\n",
    "    gc.collect()"
   ]
  },
  {
   "cell_type": "code",
   "execution_count": 9,
   "metadata": {},
   "outputs": [
    {
     "data": {
      "text/plain": [
       "{100.0: 2.7518477045859202e-18,\n",
       " 3.0: 2.9292760892442524e-25,\n",
       " 10.0: 4.9576024751548286e-17,\n",
       " 2.0: 6.716339993199962e-16,\n",
       " 5.0: 5.0976736891703146e-26}"
      ]
     },
     "execution_count": 9,
     "metadata": {},
     "output_type": "execute_result"
    }
   ],
   "source": [
    "integral"
   ]
  },
  {
   "cell_type": "code",
   "execution_count": 22,
   "metadata": {},
   "outputs": [],
   "source": [
    "def area(m4_s, mz_s):\n",
    "    return (mz_s[1] - mz_s[0] + mz_s[1] - m4_s[1]) * (m4_s[1] - m4_s[0]) / 2    "
   ]
  },
  {
   "cell_type": "code",
   "execution_count": 30,
   "metadata": {},
   "outputs": [
    {
     "name": "stdout",
     "output_type": "stream",
     "text": [
      "100.0 99.0000125\n",
      "10.0 9.450012499999998\n",
      "2.0 1.4900125\n"
     ]
    }
   ],
   "source": [
    "not_corrected = {}\n",
    "corrected = {}\n",
    "for mz_max, intg in integral.items():\n",
    "    not_corrected[mz_max] = intg\n",
    "    aux_area = area(m4_range, [physics_parameters['heavy']['m4_limits'][0], mz_max])\n",
    "    corrected[mz_max] = intg * aux_area\n",
    "    print(mz_max, aux_area)"
   ]
  },
  {
   "cell_type": "code",
   "execution_count": 41,
   "metadata": {},
   "outputs": [
    {
     "data": {
      "image/png": "[encoded data removed]",
      "text/plain": [
       "<Figure size 432x288 with 1 Axes>"
      ]
     },
     "metadata": {
      "needs_background": "light"
     },
     "output_type": "display_data"
    }
   ],
   "source": [
    "plt.plot(not_corrected.keys(), not_corrected.values(), '.', label='not corrected')\n",
    "plt.plot(corrected.keys(), corrected.values(), '.', label='corrected for the area\\nover which the integral is sampled')\n",
    "plt.hlines(gamma_heavy_integrated(m4_range, mz_range, physics_parameters['heavy']['Vmu4_alpha_epsilon2']), 0, 110)\n",
    "# plt.ylim(1e-18, 2e-14)\n",
    "plt.yscale('log')\n",
    "plt.legend(frameon=False)\n",
    "plt.title(f'Integral of $\\Gamma$ in {m4_range[0]} < $m_{{4}}$ < {m4_range[1]} & {mz_range[0]} < $m_{{Z}}$ < {mz_range[1]}')\n",
    "plt.ylabel(r'Integral [GeV$^3$]')\n",
    "plt.xlabel(r'$m_z$ max [GeV]')\n",
    "plt.grid()"
   ]
  }
 ],
 "metadata": {
  "kernelspec": {
   "display_name": "Python [conda env:dark_nus]",
   "language": "python",
   "name": "conda-env-dark_nus-py"
  },
  "language_info": {
   "codemirror_mode": {
    "name": "ipython",
    "version": 3
   },
   "file_extension": ".py",
   "mimetype": "text/x-python",
   "name": "python",
   "nbconvert_exporter": "python",
   "pygments_lexer": "ipython3",
   "version": "3.9.1"
  }
 },
 "nbformat": 4,
 "nbformat_minor": 4
}
