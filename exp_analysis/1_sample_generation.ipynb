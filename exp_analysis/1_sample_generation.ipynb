{
 "cells": [
  {
   "cell_type": "markdown",
   "metadata": {},
   "source": [
    "# This notebook generates the samples "
   ]
  },
  {
   "cell_type": "code",
   "execution_count": 1,
   "metadata": {},
   "outputs": [],
   "source": [
    "%load_ext autoreload\n",
    "%autoreload 2"
   ]
  },
  {
   "cell_type": "code",
   "execution_count": 2,
   "metadata": {},
   "outputs": [],
   "source": [
    "case = 'light'\n",
    "D_or_M = 'dirac'\n",
    "produce_samples = True\n",
    "produce_scan_sample = True"
   ]
  },
  {
   "cell_type": "code",
   "execution_count": 3,
   "metadata": {
    "scrolled": true
   },
   "outputs": [
    {
     "name": "stdout",
     "output_type": "stream",
     "text": [
      "Using: m4 = 0.01 mzprime=0.01\n",
      "\n",
      "Error! Wrong choice of m4 and mzprime for light Zprime case.\n",
      "\n",
      "Error! Wrong choice of m4 and mzprime for light Zprime case.\n",
      "\n",
      "Error! Wrong choice of m4 and mzprime for light Zprime case.\n",
      "\n",
      "Using: m4 = 0.1 mzprime=0.01\n",
      "\n",
      "Using: m4 = 0.1 mzprime=0.03\n",
      "\n",
      "Using: m4 = 0.1 mzprime=0.1\n",
      "\n",
      "Error! Wrong choice of m4 and mzprime for light Zprime case.\n",
      "\n",
      "Using: m4 = 0.4 mzprime=0.01\n",
      "\n",
      "Using: m4 = 0.4 mzprime=0.03\n",
      "\n",
      "Using: m4 = 0.4 mzprime=0.1\n",
      "\n",
      "Using: m4 = 0.4 mzprime=0.2\n",
      "\n",
      "Using: m4 = 0.8 mzprime=0.01\n",
      "\n",
      "Using: m4 = 0.8 mzprime=0.03\n",
      "\n",
      "Using: m4 = 0.8 mzprime=0.1\n",
      "\n",
      "Using: m4 = 0.8 mzprime=0.2\n",
      "\n",
      "** Running in scan mode **\n",
      "\n",
      "Umu4 = 8e-09\n",
      "epsilon2 = None\n",
      "alpha_dark = 0.25\n",
      "chi = 0.00018878572981434393\n",
      "TEST -- sum of weights =  2.2001491058588307e-48\n",
      "TEST -- events/12t /13e20 POT =  6.373350584121828e-23\n",
      "\n"
     ]
    }
   ],
   "source": [
    "#generation part\n",
    "if produce_samples:\n",
    "    from dark_nus_utils import produce_samples_without_scanning\n",
    "    produce_samples_without_scanning(case, D_or_M, neval=100000)\n",
    "    \n",
    "if produce_scan_sample:\n",
    "    from dark_nus_utils import produce_scan_sample\n",
    "    produce_scan_sample(case, D_or_M, neval=1000000)"
   ]
  },
  {
   "cell_type": "code",
   "execution_count": 9,
   "metadata": {},
   "outputs": [],
   "source": [
    "case = 'heavy'\n",
    "D_or_M = 'dirac'\n",
    "produce_samples = True\n",
    "produce_scan_sample = True"
   ]
  },
  {
   "cell_type": "code",
   "execution_count": null,
   "metadata": {},
   "outputs": [
    {
     "name": "stdout",
     "output_type": "stream",
     "text": [
      "['cd ..; python3 dark_gen.py --M4 0.01 --mzprime 0.01 --UMU4 2.2e-07 --alpha_dark 0.4 --epsilon2 0.00046 --neval 100000 --noplot --hierarchy heavy --D_or_M dirac']\n",
      "n /Users/matheushostert/Repos/nicgen/dark_news/integrands.py:513: RuntimeWarning: invalid value encountered in sqrt\n",
      "  c4 = c3*c34 - np.sqrt(1.0 - c3*c3)*np.sqrt(1.0 - c34*c34)*cphi34\n",
      "Traceback (most recent call last):\n",
      "  File \"/Users/matheushostert/Repos/nicgen/dark_gen.py\", line 154, in <module>\n",
      "    main(sys.argv[1:])\n",
      "  File \"/Users/matheushostert/Repos/nicgen/dark_gen.py\", line 131, in main\n",
      "    bag = MC.run_MC(BSMparams, myexp, [pdg.numu], INCLUDE_DIF=False)\n",
      "  File \"/Users/matheushostert/Repos/nicgen/dark_news/MC.py\", line 323, in run_MC\n",
      "    cases_events = [cases[i].get_MC_events() for i in range(np.size(cases))]\n",
      "  File \"/Users/matheushostert/Repos/nicgen/dark_news/MC.py\", line 323, in <listcomp>\n",
      "    cases_events = [cases[i].get_MC_events() for i in range(np.size(cases))]\n",
      "  File \"/Users/matheushostert/Repos/nicgen/dark_news/MC.py\", line 176, in get_MC_events\n",
      "    result = integ(batch_f, nitn=NINT, neval=NEVAL)\n",
      "  File \"_vegas.pyx\", line 1617, in vegas._vegas.Integrator.__call__\n",
      "  File \"_vegas.pyx\", line 2134, in vegas._vegas.VegasResult.update\n",
      "  File \"_gvarcore.pyx\", line 917, in gvar._gvarcore.GVarFactory.__call__\n",
      "  File \"_gvarcore.pyx\", line 919, in gvar._gvarcore.GVarFactory.__call__\n",
      "ValueError: non-symmetric covariance matrix:\n",
      "[[          nan           nan           nan]\n",
      " [          nan           nan           nan]\n",
      " [          nan           nan 2.2204172e-83]]\n",
      " m\n"
     ]
    }
   ],
   "source": [
    "#generation part\n",
    "if produce_samples:\n",
    "    from dark_nus_utils import produce_samples_without_scanning\n",
    "    produce_samples_without_scanning(case, D_or_M, neval=100000)\n",
    "    \n",
    "if produce_scan_sample:\n",
    "    from dark_nus_utils import produce_scan_sample\n",
    "    produce_scan_sample(case, D_or_M, neval=1000000)"
   ]
  },
  {
   "cell_type": "code",
   "execution_count": null,
   "metadata": {},
   "outputs": [],
   "source": []
  }
 ],
 "metadata": {
  "kernelspec": {
   "display_name": "Python 3",
   "language": "python",
   "name": "python3"
  },
  "language_info": {
   "codemirror_mode": {
    "name": "ipython",
    "version": 3
   },
   "file_extension": ".py",
   "mimetype": "text/x-python",
   "name": "python",
   "nbconvert_exporter": "python",
   "pygments_lexer": "ipython3",
   "version": "3.9.2"
  }
 },
 "nbformat": 4,
 "nbformat_minor": 2
}
