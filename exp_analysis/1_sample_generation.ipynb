{
 "cells": [
  {
   "cell_type": "markdown",
   "metadata": {},
   "source": [
    "# This notebook generates the samples "
   ]
  },
  {
   "cell_type": "code",
   "execution_count": 1,
   "metadata": {},
   "outputs": [],
   "source": [
    "%load_ext autoreload\n",
    "%autoreload 2"
   ]
  },
  {
   "cell_type": "markdown",
   "metadata": {},
   "source": [
    "# Heavy Dirac case"
   ]
  },
  {
   "cell_type": "code",
   "execution_count": 2,
   "metadata": {},
   "outputs": [],
   "source": [
    "case = 'heavy'\n",
    "D_or_M = 'dirac'\n",
    "produce_samples = False\n",
    "produce_scan_sample = True"
   ]
  },
  {
   "cell_type": "code",
   "execution_count": 2,
   "metadata": {},
   "outputs": [
    {
     "name": "stdout",
     "output_type": "stream",
     "text": [
      "** Running in scan mode **\n",
      "\n",
      "Umu4 = 2.1999999999999998e-07\n",
      "epsilon2 = 0.00046\n",
      "alpha_dark = 0.4\n",
      "chi = 0.024457707452583344\n",
      "TEST -- sum of weights =  4.327709384577296e-34\n",
      "TEST -- events/12t /13e20 POT =  1.2536427217890103e-08\n",
      "\n",
      "/bin/sh: port_used: line 1: syntax error: unexpected end of file\n",
      "/bin/sh: error importing function definition for `BASH_FUNC_port_used'\n",
      "/bin/sh: wait_until_port_used: line 1: syntax error: unexpected end of file\n",
      "/bin/sh: error importing function definition for `BASH_FUNC_wait_until_port_used'\n",
      "/bin/sh: module: line 1: syntax error: unexpected end of file\n",
      "/bin/sh: error importing function definition for `BASH_FUNC_module'\n",
      "/bin/sh: find_port: line 1: syntax error: unexpected end of file\n",
      "/bin/sh: error importing function definition for `BASH_FUNC_find_port'\n",
      "/bin/sh: random_number: line 1: syntax error: unexpected end of file\n",
      "/bin/sh: error importing function definition for `BASH_FUNC_random_number'\n",
      "/bin/sh: helmod: line 1: syntax error: unexpected end of file\n",
      "/bin/sh: error importing function definition for `BASH_FUNC_helmod'\n",
      "/bin/sh: source_helpers: line 1: syntax error: unexpected end of file\n",
      "/bin/sh: error importing function definition for `BASH_FUNC_source_helpers'\n",
      "/bin/sh: ml: line 1: syntax error: unexpected end of file\n",
      "/bin/sh: error importing function definition for `BASH_FUNC_ml'\n",
      "/bin/sh: create_passwd: line 1: syntax error: unexpected end of file\n",
      "/bin/sh: error importing function definition for `BASH_FUNC_create_passwd'\n",
      "\n"
     ]
    }
   ],
   "source": [
    "#generation part\n",
    "if produce_samples:\n",
    "    from dark_nus_utils import produce_samples_without_scanning\n",
    "    produce_samples_without_scanning(case, D_or_M, neval=100000)\n",
    "    \n",
    "if produce_scan_sample:\n",
    "    from dark_nus_utils import produce_scan_sample\n",
    "    produce_scan_sample(case, D_or_M, neval=1000000)"
   ]
  },
  {
   "cell_type": "markdown",
   "metadata": {},
   "source": [
    "# Heavy Majorana case"
   ]
  },
  {
   "cell_type": "code",
   "execution_count": 3,
   "metadata": {},
   "outputs": [],
   "source": [
    "case = 'heavy'\n",
    "D_or_M = 'majorana'\n",
    "produce_samples = False\n",
    "produce_scan_sample = True"
   ]
  },
  {
   "cell_type": "code",
   "execution_count": 4,
   "metadata": {},
   "outputs": [
    {
     "name": "stdout",
     "output_type": "stream",
     "text": [
      "** Running in scan mode **\n",
      "\n",
      "Umu4 = 2.1999999999999998e-07\n",
      "epsilon2 = 0.00046\n",
      "alpha_dark = 0.4\n",
      "chi = 0.024457707452583344\n",
      "TEST -- sum of weights =  5.997970759137516e-32\n",
      "TEST -- events/12t /13e20 POT =  1.7374808979763534e-06\n",
      "\n",
      "/bin/sh: port_used: line 1: syntax error: unexpected end of file\n",
      "/bin/sh: error importing function definition for `BASH_FUNC_port_used'\n",
      "/bin/sh: wait_until_port_used: line 1: syntax error: unexpected end of file\n",
      "/bin/sh: error importing function definition for `BASH_FUNC_wait_until_port_used'\n",
      "/bin/sh: module: line 1: syntax error: unexpected end of file\n",
      "/bin/sh: error importing function definition for `BASH_FUNC_module'\n",
      "/bin/sh: find_port: line 1: syntax error: unexpected end of file\n",
      "/bin/sh: error importing function definition for `BASH_FUNC_find_port'\n",
      "/bin/sh: random_number: line 1: syntax error: unexpected end of file\n",
      "/bin/sh: error importing function definition for `BASH_FUNC_random_number'\n",
      "/bin/sh: helmod: line 1: syntax error: unexpected end of file\n",
      "/bin/sh: error importing function definition for `BASH_FUNC_helmod'\n",
      "/bin/sh: source_helpers: line 1: syntax error: unexpected end of file\n",
      "/bin/sh: error importing function definition for `BASH_FUNC_source_helpers'\n",
      "/bin/sh: ml: line 1: syntax error: unexpected end of file\n",
      "/bin/sh: error importing function definition for `BASH_FUNC_ml'\n",
      "/bin/sh: create_passwd: line 1: syntax error: unexpected end of file\n",
      "/bin/sh: error importing function definition for `BASH_FUNC_create_passwd'\n",
      "\n"
     ]
    }
   ],
   "source": [
    "#generation part\n",
    "if produce_samples:\n",
    "    from dark_nus_utils import produce_samples_without_scanning\n",
    "    produce_samples_without_scanning(case, D_or_M, neval=100000)\n",
    "\n",
    "if produce_scan_sample:\n",
    "    from dark_nus_utils import produce_scan_sample\n",
    "    produce_scan_sample(case, D_or_M, neval=1000000)"
   ]
  },
  {
   "cell_type": "markdown",
   "metadata": {},
   "source": [
    "# Light Dirac case"
   ]
  },
  {
   "cell_type": "code",
   "execution_count": 29,
   "metadata": {},
   "outputs": [],
   "source": [
    "case = 'light'\n",
    "D_or_M = 'dirac'\n",
    "produce_samples = False\n",
    "produce_scan_sample = True"
   ]
  },
  {
   "cell_type": "code",
   "execution_count": 30,
   "metadata": {
    "scrolled": true
   },
   "outputs": [
    {
     "name": "stdout",
     "output_type": "stream",
     "text": [
      "** Running in scan mode **\n",
      "\n",
      "Umu4 = 2e-09\n",
      "epsilon2 = 2.74e-08\n",
      "alpha_dark = 0.4\n",
      "chi = 0.0001887609313569999\n",
      "TEST -- sum of weights =  3.1992320553192383e-41\n",
      "TEST -- events/12t /13e20 POT =  9.26747529711217e-16\n",
      "\n",
      "\n"
     ]
    }
   ],
   "source": [
    "#generation part\n",
    "if produce_samples:\n",
    "    from dark_nus_utils import produce_samples_without_scanning\n",
    "    produce_samples_without_scanning(case, D_or_M, neval=10000)\n",
    "    \n",
    "if produce_scan_sample:\n",
    "    from dark_nus_utils import produce_scan_sample\n",
    "    produce_scan_sample(case, D_or_M, neval=100000)"
   ]
  },
  {
   "cell_type": "markdown",
   "metadata": {},
   "source": [
    "# Light Majorana case"
   ]
  },
  {
   "cell_type": "code",
   "execution_count": 7,
   "metadata": {},
   "outputs": [],
   "source": [
    "case = 'light'\n",
    "D_or_M = 'majorana'\n",
    "produce_samples = False\n",
    "produce_scan_sample = True"
   ]
  },
  {
   "cell_type": "code",
   "execution_count": 8,
   "metadata": {},
   "outputs": [
    {
     "name": "stdout",
     "output_type": "stream",
     "text": [
      "** Running in scan mode **\n",
      "\n",
      "Umu4 = 2e-09\n",
      "epsilon2 = 2.74e-08\n",
      "alpha_dark = 0.4\n",
      "chi = 0.0001887609313569999\n",
      "TEST -- sum of weights =  1.0121060153878818e-41\n",
      "TEST -- events/12t /13e20 POT =  2.931849685636469e-16\n",
      "\n",
      "/bin/sh: port_used: line 1: syntax error: unexpected end of file\n",
      "/bin/sh: error importing function definition for `BASH_FUNC_port_used'\n",
      "/bin/sh: wait_until_port_used: line 1: syntax error: unexpected end of file\n",
      "/bin/sh: error importing function definition for `BASH_FUNC_wait_until_port_used'\n",
      "/bin/sh: module: line 1: syntax error: unexpected end of file\n",
      "/bin/sh: error importing function definition for `BASH_FUNC_module'\n",
      "/bin/sh: find_port: line 1: syntax error: unexpected end of file\n",
      "/bin/sh: error importing function definition for `BASH_FUNC_find_port'\n",
      "/bin/sh: random_number: line 1: syntax error: unexpected end of file\n",
      "/bin/sh: error importing function definition for `BASH_FUNC_random_number'\n",
      "/bin/sh: helmod: line 1: syntax error: unexpected end of file\n",
      "/bin/sh: error importing function definition for `BASH_FUNC_helmod'\n",
      "/bin/sh: source_helpers: line 1: syntax error: unexpected end of file\n",
      "/bin/sh: error importing function definition for `BASH_FUNC_source_helpers'\n",
      "/bin/sh: ml: line 1: syntax error: unexpected end of file\n",
      "/bin/sh: error importing function definition for `BASH_FUNC_ml'\n",
      "/bin/sh: create_passwd: line 1: syntax error: unexpected end of file\n",
      "/bin/sh: error importing function definition for `BASH_FUNC_create_passwd'\n",
      "\n"
     ]
    }
   ],
   "source": [
    "#generation part\n",
    "if produce_samples:\n",
    "    from dark_nus_utils import produce_samples_without_scanning\n",
    "    produce_samples_without_scanning(case, D_or_M, neval=100000)\n",
    "    \n",
    "if produce_scan_sample:\n",
    "    from dark_nus_utils import produce_scan_sample\n",
    "    produce_scan_sample(case, D_or_M, neval=1000000)"
   ]
  },
  {
   "cell_type": "code",
   "execution_count": null,
   "metadata": {},
   "outputs": [],
   "source": []
  }
 ],
 "metadata": {
  "kernelspec": {
   "display_name": "Python 3",
   "language": "python",
   "name": "python3"
  },
  "language_info": {
   "codemirror_mode": {
    "name": "ipython",
    "version": 3
   },
   "file_extension": ".py",
   "mimetype": "text/x-python",
   "name": "python",
   "nbconvert_exporter": "python",
   "pygments_lexer": "ipython3",
   "version": "3.9.2"
  }
 },
 "nbformat": 4,
 "nbformat_minor": 2
}
