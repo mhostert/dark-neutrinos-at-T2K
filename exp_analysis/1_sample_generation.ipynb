{
 "cells": [
  {
   "cell_type": "markdown",
   "metadata": {},
   "source": [
    "# This notebook generates the samples "
   ]
  },
  {
   "cell_type": "code",
   "execution_count": 1,
   "metadata": {},
   "outputs": [],
   "source": [
    "%load_ext autoreload\n",
    "%autoreload 2"
   ]
  },
  {
   "cell_type": "markdown",
   "metadata": {},
   "source": [
    "# Heavy Dirac case"
   ]
  },
  {
   "cell_type": "code",
   "execution_count": 3,
   "metadata": {},
   "outputs": [],
   "source": [
    "case = 'heavy'\n",
    "D_or_M = 'dirac'\n",
    "experiment = 'nd280_nubar'\n",
    "produce_samples = True\n",
    "produce_scan_sample = True"
   ]
  },
  {
   "cell_type": "code",
   "execution_count": 8,
   "metadata": {},
   "outputs": [
    {
     "name": "stdout",
     "output_type": "stream",
     "text": [
      "Generating events for m4=0.01 GeV and mzprime=0.01\n",
      "Error! Bad choice of m4 and mzprime for heavy Zprime and dirac case.\n",
      "\n",
      "\n",
      "Generating events for m4=0.01 GeV and mzprime=0.1\n",
      "Using: m4 = 0.01 mzprime=0.1\n",
      "\n",
      "\n",
      "Generating events for m4=0.01 GeV and mzprime=1\n",
      "Using: m4 = 0.01 mzprime=1.0\n",
      "\n",
      "\n",
      "Generating events for m4=0.01 GeV and mzprime=5\n",
      "Using: m4 = 0.01 mzprime=5.0\n",
      "\n",
      "\n",
      "Generating events for m4=0.1 GeV and mzprime=0.01\n",
      "Error! Bad choice of m4 and mzprime for heavy Zprime and dirac case.\n",
      "\n",
      "\n",
      "Generating events for m4=0.1 GeV and mzprime=0.1\n",
      "Error! Bad choice of m4 and mzprime for heavy Zprime and dirac case.\n",
      "\n",
      "\n",
      "Generating events for m4=0.1 GeV and mzprime=1\n",
      "Using: m4 = 0.1 mzprime=1.0\n",
      "\n",
      "\n",
      "Generating events for m4=0.1 GeV and mzprime=5\n",
      "Using: m4 = 0.1 mzprime=5.0\n",
      "\n",
      "\n",
      "Generating events for m4=0.5 GeV and mzprime=0.01\n",
      "Error! Bad choice of m4 and mzprime for heavy Zprime and dirac case.\n",
      "\n",
      "\n",
      "Generating events for m4=0.5 GeV and mzprime=0.1\n",
      "Error! Bad choice of m4 and mzprime for heavy Zprime and dirac case.\n",
      "\n",
      "\n",
      "Generating events for m4=0.5 GeV and mzprime=1\n",
      "Using: m4 = 0.5 mzprime=1.0\n",
      "\n",
      "\n",
      "Generating events for m4=0.5 GeV and mzprime=5\n",
      "Using: m4 = 0.5 mzprime=5.0\n",
      "\n",
      "\n",
      "** Running in scan mode **\n",
      "\n",
      "Umu4 = 2.1999999999999998e-07\n",
      "epsilon2 = 0.00046\n",
      "alpha_dark = 0.4\n",
      "chi = 0.024457707452583344\n",
      "TEST -- sum of weights =  4.706171591003061e-34\n",
      "TEST -- events/12t /13e20 POT =  1.3632749425311644e-08\n",
      "\n",
      "\n"
     ]
    }
   ],
   "source": [
    "#generation part\n",
    "if produce_samples:\n",
    "    from dark_nus_utils import produce_samples_without_scanning\n",
    "    produce_samples_without_scanning(case, D_or_M, neval=100000, exp=experiment)\n",
    "    \n",
    "if produce_scan_sample:\n",
    "    from dark_nus_utils import produce_scan_sample\n",
    "    produce_scan_sample(case, D_or_M, neval=1000000, exp=experiment)"
   ]
  },
  {
   "cell_type": "markdown",
   "metadata": {},
   "source": [
    "# Heavy Majorana case"
   ]
  },
  {
   "cell_type": "code",
   "execution_count": 1,
   "metadata": {},
   "outputs": [],
   "source": [
    "case = 'heavy'\n",
    "D_or_M = 'majorana'\n",
    "experiment = 'nd280_nubar'\n",
    "produce_samples = False\n",
    "produce_scan_sample = True"
   ]
  },
  {
   "cell_type": "code",
   "execution_count": 2,
   "metadata": {},
   "outputs": [
    {
     "name": "stdout",
     "output_type": "stream",
     "text": [
      "** Running in scan mode **\n",
      "\n",
      "Umu4 = 2.1999999999999998e-07\n",
      "epsilon2 = 0.00046\n",
      "alpha_dark = 0.4\n",
      "chi = 0.024457707452583344\n",
      "TEST -- sum of weights =  5.882053854116603e-32\n",
      "TEST -- events/12t /13e20 POT =  1.7039023067637251e-06\n",
      "\n",
      "\n"
     ]
    }
   ],
   "source": [
    "#generation part\n",
    "if produce_samples:\n",
    "    from dark_nus_utils import produce_samples_without_scanning\n",
    "    produce_samples_without_scanning(case, D_or_M, neval=100000, exp=experiment)\n",
    "\n",
    "if produce_scan_sample:\n",
    "    from dark_nus_utils import produce_scan_sample\n",
    "    produce_scan_sample(case, D_or_M, neval=1000000, exp=experiment)"
   ]
  },
  {
   "cell_type": "markdown",
   "metadata": {},
   "source": [
    "# Light Dirac case"
   ]
  },
  {
   "cell_type": "code",
   "execution_count": 11,
   "metadata": {},
   "outputs": [],
   "source": [
    "case = 'light'\n",
    "D_or_M = 'dirac'\n",
    "experiment = 'nd280_nubar'\n",
    "produce_samples = True\n",
    "produce_scan_sample = True"
   ]
  },
  {
   "cell_type": "code",
   "execution_count": 12,
   "metadata": {
    "scrolled": true
   },
   "outputs": [
    {
     "name": "stdout",
     "output_type": "stream",
     "text": [
      "Generating events for m4=0.01 GeV and mzprime=0.0075\n",
      "Using: m4 = 0.01 mzprime=0.0075\n",
      "\n",
      "\n",
      "Generating events for m4=0.01 GeV and mzprime=0.03\n",
      "Error! Bad choice of m4 and mzprime for light Zprime and dirac case.\n",
      "\n",
      "\n",
      "Generating events for m4=0.01 GeV and mzprime=0.1\n",
      "Error! Bad choice of m4 and mzprime for light Zprime and dirac case.\n",
      "\n",
      "\n",
      "Generating events for m4=0.01 GeV and mzprime=0.4\n",
      "Error! Bad choice of m4 and mzprime for light Zprime and dirac case.\n",
      "\n",
      "\n",
      "Generating events for m4=0.1 GeV and mzprime=0.0075\n",
      "Using: m4 = 0.1 mzprime=0.0075\n",
      "\n",
      "\n",
      "Generating events for m4=0.1 GeV and mzprime=0.03\n",
      "Using: m4 = 0.1 mzprime=0.03\n",
      "\n",
      "\n",
      "Generating events for m4=0.1 GeV and mzprime=0.1\n",
      "Error! Bad choice of m4 and mzprime for light Zprime and dirac case.\n",
      "\n",
      "\n",
      "Generating events for m4=0.1 GeV and mzprime=0.4\n",
      "Error! Bad choice of m4 and mzprime for light Zprime and dirac case.\n",
      "\n",
      "\n",
      "Generating events for m4=0.4 GeV and mzprime=0.0075\n",
      "Using: m4 = 0.4 mzprime=0.0075\n",
      "\n",
      "\n",
      "Generating events for m4=0.4 GeV and mzprime=0.03\n",
      "Using: m4 = 0.4 mzprime=0.03\n",
      "\n",
      "\n",
      "Generating events for m4=0.4 GeV and mzprime=0.1\n",
      "Using: m4 = 0.4 mzprime=0.1\n",
      "\n",
      "\n",
      "Generating events for m4=0.4 GeV and mzprime=0.4\n",
      "Error! Bad choice of m4 and mzprime for light Zprime and dirac case.\n",
      "\n",
      "\n",
      "Generating events for m4=0.8 GeV and mzprime=0.0075\n",
      "Using: m4 = 0.8 mzprime=0.0075\n",
      "\n",
      "\n",
      "Generating events for m4=0.8 GeV and mzprime=0.03\n",
      "Using: m4 = 0.8 mzprime=0.03\n",
      "\n",
      "\n",
      "Generating events for m4=0.8 GeV and mzprime=0.1\n",
      "Using: m4 = 0.8 mzprime=0.1\n",
      "\n",
      "\n",
      "Generating events for m4=0.8 GeV and mzprime=0.4\n",
      "Using: m4 = 0.8 mzprime=0.4\n",
      "\n",
      "\n",
      "** Running in scan mode **\n",
      "\n",
      "Umu4 = 2e-09\n",
      "epsilon2 = 2.74e-08\n",
      "alpha_dark = 0.4\n",
      "chi = 0.0001887609313569999\n",
      "TEST -- sum of weights =  3.178021419310387e-41\n",
      "TEST -- events/12t /13e20 POT =  9.206032725317093e-16\n",
      "\n",
      "\n"
     ]
    }
   ],
   "source": [
    "#generation part\n",
    "if produce_samples:\n",
    "    from dark_nus_utils import produce_samples_without_scanning\n",
    "    produce_samples_without_scanning(case, D_or_M, neval=100000, exp=experiment)\n",
    "\n",
    "if produce_scan_sample:\n",
    "    from dark_nus_utils import produce_scan_sample\n",
    "    produce_scan_sample(case, D_or_M, neval=1000000, exp=experiment)"
   ]
  },
  {
   "cell_type": "markdown",
   "metadata": {},
   "source": [
    "# Light Majorana case"
   ]
  },
  {
   "cell_type": "code",
   "execution_count": 2,
   "metadata": {},
   "outputs": [],
   "source": [
    "case = 'light'\n",
    "D_or_M = 'majorana'\n",
    "experiment = 'nd280_nubar'\n",
    "produce_samples = True\n",
    "produce_scan_sample = True"
   ]
  },
  {
   "cell_type": "code",
   "execution_count": 3,
   "metadata": {},
   "outputs": [
    {
     "name": "stdout",
     "output_type": "stream",
     "text": [
      "Generating events for m4=0.01 GeV and mzprime=0.0075\n",
      "Using: m4 = 0.01 mzprime=0.0075\n",
      "\n",
      "\n",
      "Generating events for m4=0.01 GeV and mzprime=0.03\n",
      "Error! Bad choice of m4 and mzprime for light Zprime and majorana case.\n",
      "\n",
      "\n",
      "Generating events for m4=0.01 GeV and mzprime=0.1\n",
      "Error! Bad choice of m4 and mzprime for light Zprime and majorana case.\n",
      "\n",
      "\n",
      "Generating events for m4=0.01 GeV and mzprime=0.4\n",
      "Error! Bad choice of m4 and mzprime for light Zprime and majorana case.\n",
      "\n",
      "\n",
      "Generating events for m4=0.1 GeV and mzprime=0.0075\n",
      "Using: m4 = 0.1 mzprime=0.0075\n",
      "\n",
      "\n",
      "Generating events for m4=0.1 GeV and mzprime=0.03\n",
      "Using: m4 = 0.1 mzprime=0.03\n",
      "\n",
      "\n",
      "Generating events for m4=0.1 GeV and mzprime=0.1\n",
      "Error! Bad choice of m4 and mzprime for light Zprime and majorana case.\n",
      "\n",
      "\n",
      "Generating events for m4=0.1 GeV and mzprime=0.4\n",
      "Error! Bad choice of m4 and mzprime for light Zprime and majorana case.\n",
      "\n",
      "\n",
      "Generating events for m4=0.4 GeV and mzprime=0.0075\n",
      "Using: m4 = 0.4 mzprime=0.0075\n",
      "\n",
      "\n",
      "Generating events for m4=0.4 GeV and mzprime=0.03\n",
      "Using: m4 = 0.4 mzprime=0.03\n",
      "\n",
      "\n",
      "Generating events for m4=0.4 GeV and mzprime=0.1\n",
      "Using: m4 = 0.4 mzprime=0.1\n",
      "\n",
      "\n",
      "Generating events for m4=0.4 GeV and mzprime=0.4\n",
      "Error! Bad choice of m4 and mzprime for light Zprime and majorana case.\n",
      "\n",
      "\n",
      "Generating events for m4=0.8 GeV and mzprime=0.0075\n",
      "Using: m4 = 0.8 mzprime=0.0075\n",
      "\n",
      "\n",
      "Generating events for m4=0.8 GeV and mzprime=0.03\n",
      "Using: m4 = 0.8 mzprime=0.03\n",
      "\n",
      "\n",
      "Generating events for m4=0.8 GeV and mzprime=0.1\n",
      "Using: m4 = 0.8 mzprime=0.1\n",
      "\n",
      "\n",
      "Generating events for m4=0.8 GeV and mzprime=0.4\n",
      "Using: m4 = 0.8 mzprime=0.4\n",
      "\n",
      "\n",
      "** Running in scan mode **\n",
      "\n",
      "Umu4 = 2e-09\n",
      "epsilon2 = 2.7407199816842002e-08\n",
      "alpha_dark = 0.4\n",
      "chi = 0.00018878572980346748\n",
      "TEST -- sum of weights =  2.697398663889144e-41\n",
      "TEST -- events/12t /13e20 POT =  7.813773759391004e-16\n",
      "\n",
      "\n"
     ]
    }
   ],
   "source": [
    "#generation part\n",
    "if produce_samples:\n",
    "    from dark_nus_utils import produce_samples_without_scanning\n",
    "    produce_samples_without_scanning(case, D_or_M, neval=100000, exp=experiment)\n",
    "    \n",
    "if produce_scan_sample:\n",
    "    from dark_nus_utils import produce_scan_sample\n",
    "    produce_scan_sample(case, D_or_M, neval=1000000, exp=experiment)"
   ]
  }
 ],
 "metadata": {
  "kernelspec": {
   "display_name": "Python [conda env:.conda-dark_nus]",
   "language": "python",
   "name": "conda-env-.conda-dark_nus-py"
  },
  "language_info": {
   "codemirror_mode": {
    "name": "ipython",
    "version": 3
   },
   "file_extension": ".py",
   "mimetype": "text/x-python",
   "name": "python",
   "nbconvert_exporter": "python",
   "pygments_lexer": "ipython3",
   "version": "3.8.8"
  }
 },
 "nbformat": 4,
 "nbformat_minor": 4
}
