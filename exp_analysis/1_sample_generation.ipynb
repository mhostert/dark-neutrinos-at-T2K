{
 "cells": [
  {
   "cell_type": "markdown",
   "metadata": {},
   "source": [
    "# This notebook generates the samples "
   ]
  },
  {
   "cell_type": "code",
   "execution_count": 1,
   "metadata": {},
   "outputs": [],
   "source": [
    "%load_ext autoreload\n",
    "%autoreload 2"
   ]
  },
  {
   "cell_type": "code",
   "execution_count": 7,
   "metadata": {},
   "outputs": [],
   "source": [
    "case = 'light'\n",
    "D_or_M = 'dirac'\n",
    "produce_samples = True\n",
    "produce_scan_sample = True"
   ]
  },
  {
   "cell_type": "code",
   "execution_count": 8,
   "metadata": {
    "scrolled": true
   },
   "outputs": [
    {
     "name": "stdout",
     "output_type": "stream",
     "text": [
      "Using: m4 = 0.01 mzprime=0.01\n",
      "\n",
      "Error! Wrong choice of m4 and mzprime for light Zprime case.\n",
      "\n",
      "Error! Wrong choice of m4 and mzprime for light Zprime case.\n",
      "\n",
      "Error! Wrong choice of m4 and mzprime for light Zprime case.\n",
      "\n",
      "Using: m4 = 0.1 mzprime=0.01\n",
      "\n",
      "Using: m4 = 0.1 mzprime=0.03\n",
      "\n",
      "Using: m4 = 0.1 mzprime=0.1\n",
      "\n",
      "Error! Wrong choice of m4 and mzprime for light Zprime case.\n",
      "\n",
      "Using: m4 = 0.4 mzprime=0.01\n",
      "\n",
      "Using: m4 = 0.4 mzprime=0.03\n",
      "\n",
      "Using: m4 = 0.4 mzprime=0.1\n",
      "\n",
      "Using: m4 = 0.4 mzprime=0.2\n",
      "\n",
      "Using: m4 = 0.8 mzprime=0.01\n",
      "\n",
      "Using: m4 = 0.8 mzprime=0.03\n",
      "\n",
      "Using: m4 = 0.8 mzprime=0.1\n",
      "\n",
      "Using: m4 = 0.8 mzprime=0.2\n",
      "\n",
      "** Running in scan mode **\n",
      "\n",
      "Umu4 = 8e-09\n",
      "epsilon2 = None\n",
      "alpha_dark = 0.25\n",
      "chi = 0.00018878572981434393\n",
      "TEST -- sum of weights =  1.5631148319731094e-49\n",
      "TEST -- events/12t /13e20 POT =  4.528001670830633e-24\n",
      "\n"
     ]
    }
   ],
   "source": [
    "#generation part\n",
    "if produce_samples:\n",
    "    from dark_nus_utils import produce_samples_without_scanning\n",
    "    produce_samples_without_scanning(case, D_or_M, neval=100000)\n",
    "    \n",
    "if produce_scan_sample:\n",
    "    from dark_nus_utils import produce_scan_sample\n",
    "    produce_scan_sample(case, D_or_M, neval=1000000)"
   ]
  },
  {
   "cell_type": "code",
   "execution_count": 2,
   "metadata": {},
   "outputs": [],
   "source": [
    "case = 'heavy'\n",
    "D_or_M = 'dirac'\n",
    "produce_samples = True\n",
    "produce_scan_sample = True"
   ]
  },
  {
   "cell_type": "code",
   "execution_count": 3,
   "metadata": {},
   "outputs": [
    {
     "name": "stdout",
     "output_type": "stream",
     "text": [
      "Using: m4 = 0.01 mzprime=0.01\n",
      "\n",
      "Using: m4 = 0.01 mzprime=0.1\n",
      "\n",
      "Using: m4 = 0.01 mzprime=1.0\n",
      "\n",
      "Using: m4 = 0.01 mzprime=5.0\n",
      "\n",
      "Error! Wrong choice of m4 and mzprime for heavy Zprime case.\n",
      "\n",
      "Using: m4 = 0.1 mzprime=0.1\n",
      "\n",
      "Using: m4 = 0.1 mzprime=1.0\n",
      "\n",
      "Using: m4 = 0.1 mzprime=5.0\n",
      "\n",
      "Error! Wrong choice of m4 and mzprime for heavy Zprime case.\n",
      "\n",
      "Error! Wrong choice of m4 and mzprime for heavy Zprime case.\n",
      "\n",
      "Using: m4 = 0.5 mzprime=1.0\n",
      "\n",
      "Using: m4 = 0.5 mzprime=5.0\n",
      "\n",
      "** Running in scan mode **\n",
      "\n",
      "Umu4 = 8e-09\n",
      "epsilon2 = None\n",
      "alpha_dark = 0.25\n",
      "chi = 0.00018878572981434393\n",
      "TEST -- sum of weights =  1.2976852451683883e-45\n",
      "TEST -- events/12t /13e20 POT =  3.7591102317912144e-20\n",
      "\n"
     ]
    }
   ],
   "source": [
    "#generation part\n",
    "if produce_samples:\n",
    "    from dark_nus_utils import produce_samples_without_scanning\n",
    "    produce_samples_without_scanning(case, D_or_M, neval=100000)\n",
    "    \n",
    "if produce_scan_sample:\n",
    "    from dark_nus_utils import produce_scan_sample\n",
    "    produce_scan_sample(case, D_or_M, neval=1000000)"
   ]
  },
  {
   "cell_type": "code",
   "execution_count": null,
   "metadata": {},
   "outputs": [],
   "source": []
  }
 ],
 "metadata": {
  "kernelspec": {
   "display_name": "Python [conda env:dark_nus]",
   "language": "python",
   "name": "conda-env-dark_nus-py"
  },
  "language_info": {
   "codemirror_mode": {
    "name": "ipython",
    "version": 3
   },
   "file_extension": ".py",
   "mimetype": "text/x-python",
   "name": "python",
   "nbconvert_exporter": "python",
   "pygments_lexer": "ipython3",
   "version": "3.8.8"
  }
 },
 "nbformat": 4,
 "nbformat_minor": 2
}
