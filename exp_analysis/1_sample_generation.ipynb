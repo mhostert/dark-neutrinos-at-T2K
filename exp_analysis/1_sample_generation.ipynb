{
 "cells": [
  {
   "cell_type": "markdown",
   "metadata": {},
   "source": [
    "# This notebook generates the samples "
   ]
  },
  {
   "cell_type": "code",
   "execution_count": 1,
   "metadata": {},
   "outputs": [],
   "source": [
    "%load_ext autoreload\n",
    "%autoreload 2"
   ]
  },
  {
   "cell_type": "code",
   "execution_count": 2,
   "metadata": {},
   "outputs": [],
   "source": [
    "from dark_nus_utils import produce_samples_without_scanning, produce_scan_sample"
   ]
  },
  {
   "cell_type": "code",
   "execution_count": 3,
   "metadata": {},
   "outputs": [],
   "source": [
    "def produce_sample(case, D_or_M, experiments, neval=1000000, scan=True):\n",
    "    if type(experiments) is not list:\n",
    "        experiments = [experiments]\n",
    "    for experiment in experiments:\n",
    "        print(experiment)\n",
    "        if scan:\n",
    "            produce_scan_sample(case, D_or_M, neval, exp=experiment)\n",
    "        else:\n",
    "            produce_samples_without_scanning(case, D_or_M, neval, exp=experiment)"
   ]
  },
  {
   "cell_type": "code",
   "execution_count": 4,
   "metadata": {},
   "outputs": [
    {
     "name": "stdout",
     "output_type": "stream",
     "text": [
      "nd280_nubar\n",
      "** Running in scan mode **\n",
      "\n",
      "Umu4 = 2.1999999999999998e-07\n",
      "epsilon2 = 0.00046000000000000007\n",
      "alpha_dark = 0.4\n",
      "chi = 0.024457707452583344\n",
      "TEST -- sum of weights =  4.332125136272089e-34\n",
      "TEST -- events/12t /13e20 POT =  1.2549218684417715e-08\n",
      "\n",
      "\n"
     ]
    }
   ],
   "source": [
    "produce_sample(case='heavy', D_or_M='dirac', experiments=['nd280_nu', 'nd280_nubar'])"
   ]
  },
  {
   "cell_type": "code",
   "execution_count": 4,
   "metadata": {},
   "outputs": [
    {
     "name": "stdout",
     "output_type": "stream",
     "text": [
      "nd280_nubar_light\n",
      "** Running in scan mode **\n",
      "\n",
      "Umu4 = 8e-09\n",
      "epsilon2 = 2.7407199816842002e-08\n",
      "alpha_dark = 0.25\n",
      "chi = 0.00018878572980346748\n",
      "TEST -- sum of weights =  5.5705060078152276e-42\n",
      "TEST -- events/12t /13e20 POT =  1.613653712115333e-16\n",
      "\n",
      "\n"
     ]
    }
   ],
   "source": [
    "produce_sample(case='light', D_or_M='dirac', experiments=['nd280_nubar_light'])"
   ]
  },
  {
   "cell_type": "code",
   "execution_count": null,
   "metadata": {},
   "outputs": [],
   "source": [
    "produce_sample(case='light', D_or_M='majorana', experiments=['nd280_nu_light', 'nd280_nubar_light'])"
   ]
  },
  {
   "cell_type": "code",
   "execution_count": null,
   "metadata": {},
   "outputs": [],
   "source": []
  }
 ],
 "metadata": {
  "interpreter": {
   "hash": "aee8b7b246df8f9039afb4144a1f6fd8d2ca17a180786b69acc140d282b71a49"
  },
  "kernelspec": {
   "display_name": "Python [conda env:.conda-dark_nus]",
   "language": "python",
   "name": "conda-env-.conda-dark_nus-py"
  },
  "language_info": {
   "codemirror_mode": {
    "name": "ipython",
    "version": 3
   },
   "file_extension": ".py",
   "mimetype": "text/x-python",
   "name": "python",
   "nbconvert_exporter": "python",
   "pygments_lexer": "ipython3",
   "version": "3.8.8"
  }
 },
 "nbformat": 4,
 "nbformat_minor": 4
}
