{
 "cells": [
  {
   "cell_type": "markdown",
   "metadata": {},
   "source": [
    "# This notebook generates the samples "
   ]
  },
  {
   "cell_type": "code",
   "execution_count": 1,
   "metadata": {},
   "outputs": [],
   "source": [
    "%load_ext autoreload\n",
    "%autoreload 2"
   ]
  },
  {
   "cell_type": "code",
   "execution_count": 2,
   "metadata": {},
   "outputs": [],
   "source": [
    "case = 'light'\n",
    "D_or_M = 'dirac'\n",
    "produce_samples = True\n",
    "produce_scan_sample = True"
   ]
  },
  {
   "cell_type": "code",
   "execution_count": 3,
   "metadata": {
    "scrolled": true
   },
   "outputs": [
    {
     "name": "stdout",
     "output_type": "stream",
     "text": [
      "Using: m4 = 0.01 mzprime=0.01\n",
      "\n",
      "Error! Wrong choice of m4 and mzprime for light Zprime case.\n",
      "\n",
      "Error! Wrong choice of m4 and mzprime for light Zprime case.\n",
      "\n",
      "Error! Wrong choice of m4 and mzprime for light Zprime case.\n",
      "\n",
      "Using: m4 = 0.1 mzprime=0.01\n",
      "\n",
      "Using: m4 = 0.1 mzprime=0.03\n",
      "\n",
      "Using: m4 = 0.1 mzprime=0.1\n",
      "\n",
      "Error! Wrong choice of m4 and mzprime for light Zprime case.\n",
      "\n",
      "Using: m4 = 0.4 mzprime=0.01\n",
      "\n",
      "Using: m4 = 0.4 mzprime=0.03\n",
      "\n",
      "Using: m4 = 0.4 mzprime=0.1\n",
      "\n",
      "Using: m4 = 0.4 mzprime=0.2\n",
      "\n",
      "Using: m4 = 0.8 mzprime=0.01\n",
      "\n",
      "Using: m4 = 0.8 mzprime=0.03\n",
      "\n",
      "Using: m4 = 0.8 mzprime=0.1\n",
      "\n",
      "Using: m4 = 0.8 mzprime=0.2\n",
      "\n",
      "** Running in scan mode **\n",
      "\n",
      "Umu4 = 8e-09\n",
      "epsilon2 = None\n",
      "alpha_dark = 0.25\n",
      "chi = 0.00018878572981434393\n",
      "TEST -- sum of weights =  2.2001491058588307e-48\n",
      "TEST -- events/12t /13e20 POT =  6.373350584121828e-23\n",
      "\n"
     ]
    }
   ],
   "source": [
    "#generation part\n",
    "if produce_samples:\n",
    "    from dark_nus_utils import produce_samples_without_scanning\n",
    "    produce_samples_without_scanning(case, D_or_M, neval=100000)\n",
    "    \n",
    "if produce_scan_sample:\n",
    "    from dark_nus_utils import produce_scan_sample\n",
    "    produce_scan_sample(case, D_or_M, neval=1000000)"
   ]
  },
  {
   "cell_type": "code",
   "execution_count": 9,
   "metadata": {},
   "outputs": [],
   "source": [
    "case = 'heavy'\n",
    "D_or_M = 'dirac'\n",
    "produce_samples = True\n",
    "produce_scan_sample = True"
   ]
  },
  {
   "cell_type": "code",
   "execution_count": null,
   "metadata": {},
   "outputs": [
    {
     "name": "stdout",
     "output_type": "stream",
     "text": [
      "['cd ..; python3 dark_gen.py --M4 0.01 --mzprime 0.01 --UMU4 2.2e-07 --alpha_dark 0.4 --epsilon2 0.00046 --neval 100000 --noplot --hierarchy heavy --D_or_M dirac']\n",
      "n Traceback (most recent call last):\n",
      "  File \"/Users/matheushostert/Repos/nicgen/dark_gen.py\", line 154, in <module>\n",
      "    main(sys.argv[1:])\n",
      "  File \"/Users/matheushostert/Repos/nicgen/dark_gen.py\", line 131, in main\n",
      "    bag = MC.run_MC(BSMparams, myexp, [pdg.numu], INCLUDE_DIF=False)\n",
      "  File \"/Users/matheushostert/Repos/nicgen/dark_news/MC.py\", line 323, in run_MC\n",
      "    cases_events = [cases[i].get_MC_events() for i in range(np.size(cases))]\n",
      "  File \"/Users/matheushostert/Repos/nicgen/dark_news/MC.py\", line 323, in <listcomp>\n",
      "    cases_events = [cases[i].get_MC_events() for i in range(np.size(cases))]\n",
      "  File \"/Users/matheushostert/Repos/nicgen/dark_news/MC.py\", line 169, in get_MC_events\n",
      "    integ(batch_f, nitn=NINT_warmup, neval=NEVAL_warmup)\n",
      "  File \"_vegas.pyx\", line 1378, in random_batch\n",
      "  File \"_vegas.pyx\", line 2223, in vegas._vegas.VegasIntegrand.__init__.eval\n",
      "  File \"/Users/matheushostert/Repos/nicgen/dark_news/integrands.py\", line 427, in __call__\n",
      "    dsigma = (cij*cji*(params.epsilon*params.epsilon)*(const.eQED*const.eQED)*Sqrt((-4*(M*M)*(mHNL*mHNL) + (M*M + mHNL*mHNL - s)*(M*M + mHNL*mHNL - s))/(s*s))*(2*(FFf2*FFf2)*(M*M)*((mHNL*mHNL - t)*(mHNL*mHNL - t)) + ((mHNL*mHNL - t)*(-16*(FFf1*FFf1)*(M*M*M*M) + 16*(FFga*FFga)*(M*M*M*M) - 6*(FFf2*FFf2)*(M*M)*(mHNL*mHNL) - 8*(FFgp*FFgp)*(M*M)*(mHNL*mHNL) + 8*FFf1*FFf2*(M*M)*(-(M*M) - mHNL*mHNL + s) + 8*FFf2*FFga*(M*M)*(-(M*M) - mHNL*mHNL + s) - 4*FFf1*FFf2*h*(M*M)*Sqrt((1 - (M*M)/s - (mHNL*mHNL)/s)*(1 - (M*M)/s - (mHNL*mHNL)/s) - (4*(M*M)*(mHNL*mHNL))/(s*s))*Sqrt(s)*((-(M*M) + s)/(2.*Sqrt(s)) + (M*M + s)/(2.*Sqrt(s))) - 8*FFf2*FFga*h*(M*M)*Sqrt((1 - (M*M)/s - (mHNL*mHNL)/s)*(1 - (M*M)/s - (mHNL*mHNL)/s) - (4*(M*M)*(mHNL*mHNL))/(s*s))*Sqrt(s)*((-(M*M) + s)/(2.*Sqrt(s)) + (M*M + s)/(2.*Sqrt(s))) - 8*FFga*FFgp*h*(M*M)*Sqrt((1 - (M*M)/s - (mHNL*mHNL)/s)*(1 - (M*M)/s - (mHNL*mHNL)/s) - (4*(M*M)*(mHNL*mHNL))/(s*s))*Sqrt(s)*((-(M*M) + s)/(2.*Sqrt(s)) + (M*M + s)/(2.*Sqrt(s))) - FFf2*FFf2*(mHNL*mHNL)*(2*(M*M) - t) + 4*(FFgp*FFgp)*(mHNL*mHNL)*(2*(M*M) - t) - 8*FFf1*FFf2*(M*M)*(-(M*M) + s + t) + 8*FFf2*FFga*(M*M)*(-(M*M) + s + t) + 2*(FFf2*FFf2)*(-(M*M) - mHNL*mHNL + s)*(-(M*M) + s + t) - FFf2*FFf2*h*Sqrt((1 - (M*M)/s - (mHNL*mHNL)/s)*(1 - (M*M)/s - (mHNL*mHNL)/s) - (4*(M*M)*(mHNL*mHNL))/(s*s))*Sqrt(s)*((-(M*M) + s)/(2.*Sqrt(s)) + (M*M + s)/(2.*Sqrt(s)))*(-(M*M) + s + t) - 2*FFf2*FFgp*h*Sqrt((1 - (M*M)/s - (mHNL*mHNL)/s)*(1 - (M*M)/s - (mHNL*mHNL)/s) - (4*(M*M)*(mHNL*mHNL))/(s*s))*Sqrt(s)*((-(M*M) + s)/(2.*Sqrt(s)) + (M*M + s)/(2.*Sqrt(s)))*(-(M*M) + s + t) - 8*FFf1*FFf2*(M*M)*(-(M*M) - mHNL*mHNL + s + t) + 8*FFf2*FFga*(M*M)*(-(M*M) - mHNL*mHNL + s + t) - 2*FFf2*(-(M*M) + s)*(-4*(FFf1 + FFga)*(M*M) + ((FFf2 + 2*FFgp)*h*Sqrt((1 - (M*M)/s - (mHNL*mHNL)/s)*(1 - (M*M)/s - (mHNL*mHNL)/s) - (4*(M*M)*(mHNL*mHNL))/(s*s))*Sqrt(s)*((-(M*M) + s)/(2.*Sqrt(s)) + (M*M + s)/(2.*Sqrt(s))))/2. - FFf2*(-(M*M) - mHNL*mHNL + s + t)) - 8*(FFf2*FFf2)*h*(M*M)*mHNL*((Sqrt((1 - (M*M)/s - (mHNL*mHNL)/s)*(1 - (M*M)/s - (mHNL*mHNL)/s) - (4*(M*M)*(mHNL*mHNL))/(s*s))*(-(M*M) + s))/(4.*mHNL) - ((-(M*M) + mHNL*mHNL + s)*(-(mHNL*mHNL) + ((-(M*M) + s)*(-(M*M) + mHNL*mHNL + s))/(2.*s) + t))/(2.*mHNL*Sqrt((1 - (M*M)/s - (mHNL*mHNL)/s)*(1 - (M*M)/s - (mHNL*mHNL)/s) - (4*(M*M)*(mHNL*mHNL))/(s*s))*s)) + 8*FFf1*FFf2*h*(M*M)*mHNL*((Sqrt((1 - (M*M)/s - (mHNL*mHNL)/s)*(1 - (M*M)/s - (mHNL*mHNL)/s) - (4*(M*M)*(mHNL*mHNL))/(s*s))*(M*M + s))/(4.*mHNL) + ((-(M*M) + mHNL*mHNL + s)*(-(mHNL*mHNL) + ((-(M*M) + s)*(-(M*M) + mHNL*mHNL + s))/(2.*s) + t))/(2.*mHNL*Sqrt((1 - (M*M)/s - (mHNL*mHNL)/s)*(1 - (M*M)/s - (mHNL*mHNL)/s) - (4*(M*M)*(mHNL*mHNL))/(s*s))*s)) - 16*FFf2*FFga*h*(M*M)*mHNL*((Sqrt((1 - (M*M)/s - (mHNL*mHNL)/s)*(1 - (M*M)/s - (mHNL*mHNL)/s) - (4*(M*M)*(mHNL*mHNL))/(s*s))*(M*M + s))/(4.*mHNL) + ((-(M*M) + mHNL*mHNL + s)*(-(mHNL*mHNL) + ((-(M*M) + s)*(-(M*M) + mHNL*mHNL + s))/(2.*s) + t))/(2.*mHNL*Sqrt((1 - (M*M)/s - (mHNL*mHNL)/s)*(1 - (M*M)/s - (mHNL*mHNL)/s) - (4*(M*M)*(mHNL*mHNL))/(s*s))*s)) + 16*FFga*FFgp*h*(M*M)*mHNL*((Sqrt((1 - (M*M)/s - (mHNL*mHNL)/s)*(1 - (M*M)/s - (mHNL*mHNL)/s) - (4*(M*M)*(mHNL*mHNL))/(s*s))*(M*M + s))/(4.*mHNL) + ((-(M*M) + mHNL*mHNL + s)*(-(mHNL*mHNL) + ((-(M*M) + s)*(-(M*M) + mHNL*mHNL + s))/(2.*s) + t))/(2.*mHNL*Sqrt((1 - (M*M)/s - (mHNL*mHNL)/s)*(1 - (M*M)/s - (mHNL*mHNL)/s) - (4*(M*M)*(mHNL*mHNL))/(s*s))*s)) - 2*(FFf2*FFf2)*h*mHNL*(-(M*M) - mHNL*mHNL + s)*((Sqrt((1 - (M*M)/s - (mHNL*mHNL)/s)*(1 - (M*M)/s - (mHNL*mHNL)/s) - (4*(M*M)*(mHNL*mHNL))/(s*s))*(M*M + s))/(4.*mHNL) + ((-(M*M) + mHNL*mHNL + s)*(-(mHNL*mHNL) + ((-(M*M) + s)*(-(M*M) + mHNL*mHNL + s))/(2.*s) + t))/(2.*mHNL*Sqrt((1 - (M*M)/s - (mHNL*mHNL)/s)*(1 - (M*M)/s - (mHNL*mHNL)/s) - (4*(M*M)*(mHNL*mHNL))/(s*s))*s)) + 4*FFf2*FFgp*h*mHNL*(-(M*M) - mHNL*mHNL + s)*((Sqrt((1 - (M*M)/s - (mHNL*mHNL)/s)*(1 - (M*M)/s - (mHNL*mHNL)/s) - (4*(M*M)*(mHNL*mHNL))/(s*s))*(M*M + s))/(4.*mHNL) + ((-(M*M) + mHNL*mHNL + s)*(-(mHNL*mHNL) + ((-(M*M) + s)*(-(M*M) + mHNL*mHNL + s))/(2.*s) + t))/(2.*mHNL*Sqrt((1 - (M*M)/s - (mHNL*mHNL)/s)*(1 - (M*M)/s - (mHNL*mHNL)/s) - (4*(M*M)*(mHNL*mHNL))/(s*s))*s)) - 2*(FFf2*FFf2)*h*mHNL*(-(M*M) - mHNL*mHNL + s + t)*((Sqrt((1 - (M*M)/s - (mHNL*mHNL)/s)*(1 - (M*M)/s - (mHNL*mHNL)/s) - (4*(M*M)*(mHNL*mHNL))/(s*s))*(M*M + s))/(4.*mHNL) + ((-(M*M) + mHNL*mHNL + s)*(-(mHNL*mHNL) + ((-(M*M) + s)*(-(M*M) + mHNL*mHNL + s))/(2.*s) + t))/(2.*mHNL*Sqrt((1 - (M*M)/s - (mHNL*mHNL)/s)*(1 - (M*M)/s - (mHNL*mHNL)/s) - (4*(M*M)*(mHNL*mHNL))/(s*s))*s)) + 4*FFf2*FFgp*h*mHNL*(-(M*M) - mHNL*mHNL + s + t)*((Sqrt((1 - (M*M)/s - (mHNL*mHNL)/s)*(1 - (M*M)/s - (mHNL*mHNL)/s) - (4*(M*M)*(mHNL*mHNL))/(s*s))*(M*M + s))/(4.*mHNL) + ((-(M*M) + mHNL*mHNL + s)*(-(mHNL*mHNL) + ((-(M*M) + s)*(-(M*M) + mHNL*mHNL + s))/(2.*s) + t))/(2.*mHNL*Sqrt((1 - (M*M)/s - (mHNL*mHNL)/s)*(1 - (M*M)/s - (mHNL*mHNL)/s) - (4*(M*M)*(mHNL*mHNL))/(s*s))*s))))/2. + 2*(h*mHNL*((Sqrt((1 - (M*M)/s - (mHNL*mHNL)/s)*(1 - (M*M)/s - (mHNL*mHNL)/s) - (4*(M*M)*(mHNL*mHNL))/(s*s))*(-(M*M) + s))/(4.*mHNL) - ((-(M*M) + mHNL*mHNL + s)*(-(mHNL*mHNL) + ((-(M*M) + s)*(-(M*M) + mHNL*mHNL + s))/(2.*s) + t))/(2.*mHNL*Sqrt((1 - (M*M)/s - (mHNL*mHNL)/s)*(1 - (M*M)/s - (mHNL*mHNL)/s) - (4*(M*M)*(mHNL*mHNL))/(s*s))*s))*(8*(FFf1*FFf1)*(M*M*M*M) - 8*(FFga*FFga)*(M*M*M*M) + FFf2*FFf2*(M*M)*(mHNL*mHNL) - 4*(FFgp*FFgp)*(M*M)*(mHNL*mHNL) - 2*FFf1*FFf2*(M*M)*(-(M*M) - mHNL*mHNL + s) + 4*FFga*FFgp*(M*M)*(-(M*M) - mHNL*mHNL + s) - (FFf2*FFf2*(mHNL*mHNL)*(2*(M*M) - t))/2. + 2*(FFgp*FFgp)*(mHNL*mHNL)*(2*(M*M) - t) + 2*FFf1*FFf2*(M*M)*(-(M*M) + s + t) - 4*FFga*FFgp*(M*M)*(-(M*M) + s + t) + 4*FFf1*FFf2*(M*M)*(-(M*M) - mHNL*mHNL + s + t) - 4*FFf2*FFga*(M*M)*(-(M*M) - mHNL*mHNL + s + t) + (FFf2*FFf2*(-(M*M) + s + t)*(-(M*M) - mHNL*mHNL + s + t))/2. - FFf2*FFgp*(-(M*M) + s + t)*(-(M*M) - mHNL*mHNL + s + t) + FFf2*(-(M*M) + s)*(-4*(FFf1 + FFga)*(M*M) + ((FFf2 + 2*FFgp)*(-(M*M) - mHNL*mHNL + s))/2. - FFf2*(-(M*M) - mHNL*mHNL + s + t))) - 2*(((-(M*M) + s)*(-2*((FFf1 + FFga)*(FFf1 + FFga))*(M*M)*(-(M*M) - mHNL*mHNL + s) + 2*((FFf1 + FFga)*(FFf1 + FFga))*h*(M*M)*Sqrt((1 - (M*M)/s - (mHNL*mHNL)/s)*(1 - (M*M)/s - (mHNL*mHNL)/s) - (4*(M*M)*(mHNL*mHNL))/(s*s))*Sqrt(s)*((-(M*M) + s)/(2.*Sqrt(s)) + (M*M + s)/(2.*Sqrt(s))) + mHNL*mHNL*(2*(FFf1*FFf2 + 2*FFga*(FFf2 + FFgp))*(M*M) - (FFf2*(FFf2 + 2*FFgp)*h*Sqrt((1 - (M*M)/s - (mHNL*mHNL)/s)*(1 - (M*M)/s - (mHNL*mHNL)/s) - (4*(M*M)*(mHNL*mHNL))/(s*s))*Sqrt(s)*((-(M*M) + s)/(2.*Sqrt(s)) + (M*M + s)/(2.*Sqrt(s))))/2.)))/2. + ((-(M*M) - mHNL*mHNL + s + t)*(-2*(mHNL*mHNL)*((FFf1*FFf2 + 2*FFga*(-FFf2 + FFgp))*(M*M) - (FFf2*FFf2*(-(M*M) + s))/2.) - 2*((FFf1 - FFga)*(FFf1 - FFga))*(M*M)*(-(M*M) + s + t) + h*mHNL*(4*((FFf1 - FFga)*(FFf1 - FFga))*(M*M) - FFf2*(FFf2 - 2*FFgp)*(mHNL*mHNL))*((Sqrt((1 - (M*M)/s - (mHNL*mHNL)/s)*(1 - (M*M)/s - (mHNL*mHNL)/s) - (4*(M*M)*(mHNL*mHNL))/(s*s))*(M*M + s))/(4.*mHNL) + ((-(M*M) + mHNL*mHNL + s)*(-(mHNL*mHNL) + ((-(M*M) + s)*(-(M*M) + mHNL*mHNL + s))/(2.*s) + t))/(2.*mHNL*Sqrt((1 - (M*M)/s - (mHNL*mHNL)/s)*(1 - (M*M)/s - (mHNL*mHNL)/s) - (4*(M*M)*(mHNL*mHNL))/(s*s))*s))))/2.))))/(64.*(M*M)*pi*Sqrt((1 - (M*M)/s - (mHNL*mHNL)/s)*(1 - (M*M)/s - (mHNL*mHNL)/s) - (4*(M*M)*(mHNL*mHNL))/(s*s))*Sqrt((1 - (M*M)/s)*(1 - (M*M)/s))*Sqrt((M*M - s)*(M*M - s))*s*((mzprime*mzprime - t)*(mzprime*mzprime - t)))\n",
      "NameError: name 'FFf2' is not defined\n",
      " m\n"
     ]
    },
    {
     "name": "stdout",
     "output_type": "stream",
     "text": [
      "['cd ..; python3 dark_gen.py --M4 0.01 --mzprime 0.1 --UMU4 2.2e-07 --alpha_dark 0.4 --epsilon2 0.00046 --neval 100000 --noplot --hierarchy heavy --D_or_M dirac']\n",
      "n Traceback (most recent call last):\n",
      "  File \"/Users/matheushostert/Repos/nicgen/dark_gen.py\", line 154, in <module>\n",
      "    main(sys.argv[1:])\n",
      "  File \"/Users/matheushostert/Repos/nicgen/dark_gen.py\", line 131, in main\n",
      "    bag = MC.run_MC(BSMparams, myexp, [pdg.numu], INCLUDE_DIF=False)\n",
      "  File \"/Users/matheushostert/Repos/nicgen/dark_news/MC.py\", line 323, in run_MC\n",
      "    cases_events = [cases[i].get_MC_events() for i in range(np.size(cases))]\n",
      "  File \"/Users/matheushostert/Repos/nicgen/dark_news/MC.py\", line 323, in <listcomp>\n",
      "    cases_events = [cases[i].get_MC_events() for i in range(np.size(cases))]\n",
      "  File \"/Users/matheushostert/Repos/nicgen/dark_news/MC.py\", line 169, in get_MC_events\n",
      "    integ(batch_f, nitn=NINT_warmup, neval=NEVAL_warmup)\n",
      "  File \"_vegas.pyx\", line 1378, in random_batch\n",
      "  File \"_vegas.pyx\", line 2223, in vegas._vegas.VegasIntegrand.__init__.eval\n",
      "  File \"/Users/matheushostert/Repos/nicgen/dark_news/integrands.py\", line 427, in __call__\n",
      "    dsigma = (cij*cji*(params.epsilon*params.epsilon)*(const.eQED*const.eQED)*Sqrt((-4*(M*M)*(mHNL*mHNL) + (M*M + mHNL*mHNL - s)*(M*M + mHNL*mHNL - s))/(s*s))*(2*(FFf2*FFf2)*(M*M)*((mHNL*mHNL - t)*(mHNL*mHNL - t)) + ((mHNL*mHNL - t)*(-16*(FFf1*FFf1)*(M*M*M*M) + 16*(FFga*FFga)*(M*M*M*M) - 6*(FFf2*FFf2)*(M*M)*(mHNL*mHNL) - 8*(FFgp*FFgp)*(M*M)*(mHNL*mHNL) + 8*FFf1*FFf2*(M*M)*(-(M*M) - mHNL*mHNL + s) + 8*FFf2*FFga*(M*M)*(-(M*M) - mHNL*mHNL + s) - 4*FFf1*FFf2*h*(M*M)*Sqrt((1 - (M*M)/s - (mHNL*mHNL)/s)*(1 - (M*M)/s - (mHNL*mHNL)/s) - (4*(M*M)*(mHNL*mHNL))/(s*s))*Sqrt(s)*((-(M*M) + s)/(2.*Sqrt(s)) + (M*M + s)/(2.*Sqrt(s))) - 8*FFf2*FFga*h*(M*M)*Sqrt((1 - (M*M)/s - (mHNL*mHNL)/s)*(1 - (M*M)/s - (mHNL*mHNL)/s) - (4*(M*M)*(mHNL*mHNL))/(s*s))*Sqrt(s)*((-(M*M) + s)/(2.*Sqrt(s)) + (M*M + s)/(2.*Sqrt(s))) - 8*FFga*FFgp*h*(M*M)*Sqrt((1 - (M*M)/s - (mHNL*mHNL)/s)*(1 - (M*M)/s - (mHNL*mHNL)/s) - (4*(M*M)*(mHNL*mHNL))/(s*s))*Sqrt(s)*((-(M*M) + s)/(2.*Sqrt(s)) + (M*M + s)/(2.*Sqrt(s))) - FFf2*FFf2*(mHNL*mHNL)*(2*(M*M) - t) + 4*(FFgp*FFgp)*(mHNL*mHNL)*(2*(M*M) - t) - 8*FFf1*FFf2*(M*M)*(-(M*M) + s + t) + 8*FFf2*FFga*(M*M)*(-(M*M) + s + t) + 2*(FFf2*FFf2)*(-(M*M) - mHNL*mHNL + s)*(-(M*M) + s + t) - FFf2*FFf2*h*Sqrt((1 - (M*M)/s - (mHNL*mHNL)/s)*(1 - (M*M)/s - (mHNL*mHNL)/s) - (4*(M*M)*(mHNL*mHNL))/(s*s))*Sqrt(s)*((-(M*M) + s)/(2.*Sqrt(s)) + (M*M + s)/(2.*Sqrt(s)))*(-(M*M) + s + t) - 2*FFf2*FFgp*h*Sqrt((1 - (M*M)/s - (mHNL*mHNL)/s)*(1 - (M*M)/s - (mHNL*mHNL)/s) - (4*(M*M)*(mHNL*mHNL))/(s*s))*Sqrt(s)*((-(M*M) + s)/(2.*Sqrt(s)) + (M*M + s)/(2.*Sqrt(s)))*(-(M*M) + s + t) - 8*FFf1*FFf2*(M*M)*(-(M*M) - mHNL*mHNL + s + t) + 8*FFf2*FFga*(M*M)*(-(M*M) - mHNL*mHNL + s + t) - 2*FFf2*(-(M*M) + s)*(-4*(FFf1 + FFga)*(M*M) + ((FFf2 + 2*FFgp)*h*Sqrt((1 - (M*M)/s - (mHNL*mHNL)/s)*(1 - (M*M)/s - (mHNL*mHNL)/s) - (4*(M*M)*(mHNL*mHNL))/(s*s))*Sqrt(s)*((-(M*M) + s)/(2.*Sqrt(s)) + (M*M + s)/(2.*Sqrt(s))))/2. - FFf2*(-(M*M) - mHNL*mHNL + s + t)) - 8*(FFf2*FFf2)*h*(M*M)*mHNL*((Sqrt((1 - (M*M)/s - (mHNL*mHNL)/s)*(1 - (M*M)/s - (mHNL*mHNL)/s) - (4*(M*M)*(mHNL*mHNL))/(s*s))*(-(M*M) + s))/(4.*mHNL) - ((-(M*M) + mHNL*mHNL + s)*(-(mHNL*mHNL) + ((-(M*M) + s)*(-(M*M) + mHNL*mHNL + s))/(2.*s) + t))/(2.*mHNL*Sqrt((1 - (M*M)/s - (mHNL*mHNL)/s)*(1 - (M*M)/s - (mHNL*mHNL)/s) - (4*(M*M)*(mHNL*mHNL))/(s*s))*s)) + 8*FFf1*FFf2*h*(M*M)*mHNL*((Sqrt((1 - (M*M)/s - (mHNL*mHNL)/s)*(1 - (M*M)/s - (mHNL*mHNL)/s) - (4*(M*M)*(mHNL*mHNL))/(s*s))*(M*M + s))/(4.*mHNL) + ((-(M*M) + mHNL*mHNL + s)*(-(mHNL*mHNL) + ((-(M*M) + s)*(-(M*M) + mHNL*mHNL + s))/(2.*s) + t))/(2.*mHNL*Sqrt((1 - (M*M)/s - (mHNL*mHNL)/s)*(1 - (M*M)/s - (mHNL*mHNL)/s) - (4*(M*M)*(mHNL*mHNL))/(s*s))*s)) - 16*FFf2*FFga*h*(M*M)*mHNL*((Sqrt((1 - (M*M)/s - (mHNL*mHNL)/s)*(1 - (M*M)/s - (mHNL*mHNL)/s) - (4*(M*M)*(mHNL*mHNL))/(s*s))*(M*M + s))/(4.*mHNL) + ((-(M*M) + mHNL*mHNL + s)*(-(mHNL*mHNL) + ((-(M*M) + s)*(-(M*M) + mHNL*mHNL + s))/(2.*s) + t))/(2.*mHNL*Sqrt((1 - (M*M)/s - (mHNL*mHNL)/s)*(1 - (M*M)/s - (mHNL*mHNL)/s) - (4*(M*M)*(mHNL*mHNL))/(s*s))*s)) + 16*FFga*FFgp*h*(M*M)*mHNL*((Sqrt((1 - (M*M)/s - (mHNL*mHNL)/s)*(1 - (M*M)/s - (mHNL*mHNL)/s) - (4*(M*M)*(mHNL*mHNL))/(s*s))*(M*M + s))/(4.*mHNL) + ((-(M*M) + mHNL*mHNL + s)*(-(mHNL*mHNL) + ((-(M*M) + s)*(-(M*M) + mHNL*mHNL + s))/(2.*s) + t))/(2.*mHNL*Sqrt((1 - (M*M)/s - (mHNL*mHNL)/s)*(1 - (M*M)/s - (mHNL*mHNL)/s) - (4*(M*M)*(mHNL*mHNL))/(s*s))*s)) - 2*(FFf2*FFf2)*h*mHNL*(-(M*M) - mHNL*mHNL + s)*((Sqrt((1 - (M*M)/s - (mHNL*mHNL)/s)*(1 - (M*M)/s - (mHNL*mHNL)/s) - (4*(M*M)*(mHNL*mHNL))/(s*s))*(M*M + s))/(4.*mHNL) + ((-(M*M) + mHNL*mHNL + s)*(-(mHNL*mHNL) + ((-(M*M) + s)*(-(M*M) + mHNL*mHNL + s))/(2.*s) + t))/(2.*mHNL*Sqrt((1 - (M*M)/s - (mHNL*mHNL)/s)*(1 - (M*M)/s - (mHNL*mHNL)/s) - (4*(M*M)*(mHNL*mHNL))/(s*s))*s)) + 4*FFf2*FFgp*h*mHNL*(-(M*M) - mHNL*mHNL + s)*((Sqrt((1 - (M*M)/s - (mHNL*mHNL)/s)*(1 - (M*M)/s - (mHNL*mHNL)/s) - (4*(M*M)*(mHNL*mHNL))/(s*s))*(M*M + s))/(4.*mHNL) + ((-(M*M) + mHNL*mHNL + s)*(-(mHNL*mHNL) + ((-(M*M) + s)*(-(M*M) + mHNL*mHNL + s))/(2.*s) + t))/(2.*mHNL*Sqrt((1 - (M*M)/s - (mHNL*mHNL)/s)*(1 - (M*M)/s - (mHNL*mHNL)/s) - (4*(M*M)*(mHNL*mHNL))/(s*s))*s)) - 2*(FFf2*FFf2)*h*mHNL*(-(M*M) - mHNL*mHNL + s + t)*((Sqrt((1 - (M*M)/s - (mHNL*mHNL)/s)*(1 - (M*M)/s - (mHNL*mHNL)/s) - (4*(M*M)*(mHNL*mHNL))/(s*s))*(M*M + s))/(4.*mHNL) + ((-(M*M) + mHNL*mHNL + s)*(-(mHNL*mHNL) + ((-(M*M) + s)*(-(M*M) + mHNL*mHNL + s))/(2.*s) + t))/(2.*mHNL*Sqrt((1 - (M*M)/s - (mHNL*mHNL)/s)*(1 - (M*M)/s - (mHNL*mHNL)/s) - (4*(M*M)*(mHNL*mHNL))/(s*s))*s)) + 4*FFf2*FFgp*h*mHNL*(-(M*M) - mHNL*mHNL + s + t)*((Sqrt((1 - (M*M)/s - (mHNL*mHNL)/s)*(1 - (M*M)/s - (mHNL*mHNL)/s) - (4*(M*M)*(mHNL*mHNL))/(s*s))*(M*M + s))/(4.*mHNL) + ((-(M*M) + mHNL*mHNL + s)*(-(mHNL*mHNL) + ((-(M*M) + s)*(-(M*M) + mHNL*mHNL + s))/(2.*s) + t))/(2.*mHNL*Sqrt((1 - (M*M)/s - (mHNL*mHNL)/s)*(1 - (M*M)/s - (mHNL*mHNL)/s) - (4*(M*M)*(mHNL*mHNL))/(s*s))*s))))/2. + 2*(h*mHNL*((Sqrt((1 - (M*M)/s - (mHNL*mHNL)/s)*(1 - (M*M)/s - (mHNL*mHNL)/s) - (4*(M*M)*(mHNL*mHNL))/(s*s))*(-(M*M) + s))/(4.*mHNL) - ((-(M*M) + mHNL*mHNL + s)*(-(mHNL*mHNL) + ((-(M*M) + s)*(-(M*M) + mHNL*mHNL + s))/(2.*s) + t))/(2.*mHNL*Sqrt((1 - (M*M)/s - (mHNL*mHNL)/s)*(1 - (M*M)/s - (mHNL*mHNL)/s) - (4*(M*M)*(mHNL*mHNL))/(s*s))*s))*(8*(FFf1*FFf1)*(M*M*M*M) - 8*(FFga*FFga)*(M*M*M*M) + FFf2*FFf2*(M*M)*(mHNL*mHNL) - 4*(FFgp*FFgp)*(M*M)*(mHNL*mHNL) - 2*FFf1*FFf2*(M*M)*(-(M*M) - mHNL*mHNL + s) + 4*FFga*FFgp*(M*M)*(-(M*M) - mHNL*mHNL + s) - (FFf2*FFf2*(mHNL*mHNL)*(2*(M*M) - t))/2. + 2*(FFgp*FFgp)*(mHNL*mHNL)*(2*(M*M) - t) + 2*FFf1*FFf2*(M*M)*(-(M*M) + s + t) - 4*FFga*FFgp*(M*M)*(-(M*M) + s + t) + 4*FFf1*FFf2*(M*M)*(-(M*M) - mHNL*mHNL + s + t) - 4*FFf2*FFga*(M*M)*(-(M*M) - mHNL*mHNL + s + t) + (FFf2*FFf2*(-(M*M) + s + t)*(-(M*M) - mHNL*mHNL + s + t))/2. - FFf2*FFgp*(-(M*M) + s + t)*(-(M*M) - mHNL*mHNL + s + t) + FFf2*(-(M*M) + s)*(-4*(FFf1 + FFga)*(M*M) + ((FFf2 + 2*FFgp)*(-(M*M) - mHNL*mHNL + s))/2. - FFf2*(-(M*M) - mHNL*mHNL + s + t))) - 2*(((-(M*M) + s)*(-2*((FFf1 + FFga)*(FFf1 + FFga))*(M*M)*(-(M*M) - mHNL*mHNL + s) + 2*((FFf1 + FFga)*(FFf1 + FFga))*h*(M*M)*Sqrt((1 - (M*M)/s - (mHNL*mHNL)/s)*(1 - (M*M)/s - (mHNL*mHNL)/s) - (4*(M*M)*(mHNL*mHNL))/(s*s))*Sqrt(s)*((-(M*M) + s)/(2.*Sqrt(s)) + (M*M + s)/(2.*Sqrt(s))) + mHNL*mHNL*(2*(FFf1*FFf2 + 2*FFga*(FFf2 + FFgp))*(M*M) - (FFf2*(FFf2 + 2*FFgp)*h*Sqrt((1 - (M*M)/s - (mHNL*mHNL)/s)*(1 - (M*M)/s - (mHNL*mHNL)/s) - (4*(M*M)*(mHNL*mHNL))/(s*s))*Sqrt(s)*((-(M*M) + s)/(2.*Sqrt(s)) + (M*M + s)/(2.*Sqrt(s))))/2.)))/2. + ((-(M*M) - mHNL*mHNL + s + t)*(-2*(mHNL*mHNL)*((FFf1*FFf2 + 2*FFga*(-FFf2 + FFgp))*(M*M) - (FFf2*FFf2*(-(M*M) + s))/2.) - 2*((FFf1 - FFga)*(FFf1 - FFga))*(M*M)*(-(M*M) + s + t) + h*mHNL*(4*((FFf1 - FFga)*(FFf1 - FFga))*(M*M) - FFf2*(FFf2 - 2*FFgp)*(mHNL*mHNL))*((Sqrt((1 - (M*M)/s - (mHNL*mHNL)/s)*(1 - (M*M)/s - (mHNL*mHNL)/s) - (4*(M*M)*(mHNL*mHNL))/(s*s))*(M*M + s))/(4.*mHNL) + ((-(M*M) + mHNL*mHNL + s)*(-(mHNL*mHNL) + ((-(M*M) + s)*(-(M*M) + mHNL*mHNL + s))/(2.*s) + t))/(2.*mHNL*Sqrt((1 - (M*M)/s - (mHNL*mHNL)/s)*(1 - (M*M)/s - (mHNL*mHNL)/s) - (4*(M*M)*(mHNL*mHNL))/(s*s))*s))))/2.))))/(64.*(M*M)*pi*Sqrt((1 - (M*M)/s - (mHNL*mHNL)/s)*(1 - (M*M)/s - (mHNL*mHNL)/s) - (4*(M*M)*(mHNL*mHNL))/(s*s))*Sqrt((1 - (M*M)/s)*(1 - (M*M)/s))*Sqrt((M*M - s)*(M*M - s))*s*((mzprime*mzprime - t)*(mzprime*mzprime - t)))\n",
      "NameError: name 'FFf2' is not defined\n",
      " m\n"
     ]
    },
    {
     "name": "stdout",
     "output_type": "stream",
     "text": [
      "['cd ..; python3 dark_gen.py --M4 0.01 --mzprime 1 --UMU4 2.2e-07 --alpha_dark 0.4 --epsilon2 0.00046 --neval 100000 --noplot --hierarchy heavy --D_or_M dirac']\n",
      "n Traceback (most recent call last):\n",
      "  File \"/Users/matheushostert/Repos/nicgen/dark_gen.py\", line 154, in <module>\n",
      "    main(sys.argv[1:])\n",
      "  File \"/Users/matheushostert/Repos/nicgen/dark_gen.py\", line 131, in main\n",
      "    bag = MC.run_MC(BSMparams, myexp, [pdg.numu], INCLUDE_DIF=False)\n",
      "  File \"/Users/matheushostert/Repos/nicgen/dark_news/MC.py\", line 323, in run_MC\n",
      "    cases_events = [cases[i].get_MC_events() for i in range(np.size(cases))]\n",
      "  File \"/Users/matheushostert/Repos/nicgen/dark_news/MC.py\", line 323, in <listcomp>\n",
      "    cases_events = [cases[i].get_MC_events() for i in range(np.size(cases))]\n",
      "  File \"/Users/matheushostert/Repos/nicgen/dark_news/MC.py\", line 169, in get_MC_events\n",
      "    integ(batch_f, nitn=NINT_warmup, neval=NEVAL_warmup)\n",
      "  File \"_vegas.pyx\", line 1378, in random_batch\n",
      "  File \"_vegas.pyx\", line 2223, in vegas._vegas.VegasIntegrand.__init__.eval\n",
      "  File \"/Users/matheushostert/Repos/nicgen/dark_news/integrands.py\", line 427, in __call__\n",
      "    dsigma = (cij*cji*(params.epsilon*params.epsilon)*(const.eQED*const.eQED)*Sqrt((-4*(M*M)*(mHNL*mHNL) + (M*M + mHNL*mHNL - s)*(M*M + mHNL*mHNL - s))/(s*s))*(2*(FFf2*FFf2)*(M*M)*((mHNL*mHNL - t)*(mHNL*mHNL - t)) + ((mHNL*mHNL - t)*(-16*(FFf1*FFf1)*(M*M*M*M) + 16*(FFga*FFga)*(M*M*M*M) - 6*(FFf2*FFf2)*(M*M)*(mHNL*mHNL) - 8*(FFgp*FFgp)*(M*M)*(mHNL*mHNL) + 8*FFf1*FFf2*(M*M)*(-(M*M) - mHNL*mHNL + s) + 8*FFf2*FFga*(M*M)*(-(M*M) - mHNL*mHNL + s) - 4*FFf1*FFf2*h*(M*M)*Sqrt((1 - (M*M)/s - (mHNL*mHNL)/s)*(1 - (M*M)/s - (mHNL*mHNL)/s) - (4*(M*M)*(mHNL*mHNL))/(s*s))*Sqrt(s)*((-(M*M) + s)/(2.*Sqrt(s)) + (M*M + s)/(2.*Sqrt(s))) - 8*FFf2*FFga*h*(M*M)*Sqrt((1 - (M*M)/s - (mHNL*mHNL)/s)*(1 - (M*M)/s - (mHNL*mHNL)/s) - (4*(M*M)*(mHNL*mHNL))/(s*s))*Sqrt(s)*((-(M*M) + s)/(2.*Sqrt(s)) + (M*M + s)/(2.*Sqrt(s))) - 8*FFga*FFgp*h*(M*M)*Sqrt((1 - (M*M)/s - (mHNL*mHNL)/s)*(1 - (M*M)/s - (mHNL*mHNL)/s) - (4*(M*M)*(mHNL*mHNL))/(s*s))*Sqrt(s)*((-(M*M) + s)/(2.*Sqrt(s)) + (M*M + s)/(2.*Sqrt(s))) - FFf2*FFf2*(mHNL*mHNL)*(2*(M*M) - t) + 4*(FFgp*FFgp)*(mHNL*mHNL)*(2*(M*M) - t) - 8*FFf1*FFf2*(M*M)*(-(M*M) + s + t) + 8*FFf2*FFga*(M*M)*(-(M*M) + s + t) + 2*(FFf2*FFf2)*(-(M*M) - mHNL*mHNL + s)*(-(M*M) + s + t) - FFf2*FFf2*h*Sqrt((1 - (M*M)/s - (mHNL*mHNL)/s)*(1 - (M*M)/s - (mHNL*mHNL)/s) - (4*(M*M)*(mHNL*mHNL))/(s*s))*Sqrt(s)*((-(M*M) + s)/(2.*Sqrt(s)) + (M*M + s)/(2.*Sqrt(s)))*(-(M*M) + s + t) - 2*FFf2*FFgp*h*Sqrt((1 - (M*M)/s - (mHNL*mHNL)/s)*(1 - (M*M)/s - (mHNL*mHNL)/s) - (4*(M*M)*(mHNL*mHNL))/(s*s))*Sqrt(s)*((-(M*M) + s)/(2.*Sqrt(s)) + (M*M + s)/(2.*Sqrt(s)))*(-(M*M) + s + t) - 8*FFf1*FFf2*(M*M)*(-(M*M) - mHNL*mHNL + s + t) + 8*FFf2*FFga*(M*M)*(-(M*M) - mHNL*mHNL + s + t) - 2*FFf2*(-(M*M) + s)*(-4*(FFf1 + FFga)*(M*M) + ((FFf2 + 2*FFgp)*h*Sqrt((1 - (M*M)/s - (mHNL*mHNL)/s)*(1 - (M*M)/s - (mHNL*mHNL)/s) - (4*(M*M)*(mHNL*mHNL))/(s*s))*Sqrt(s)*((-(M*M) + s)/(2.*Sqrt(s)) + (M*M + s)/(2.*Sqrt(s))))/2. - FFf2*(-(M*M) - mHNL*mHNL + s + t)) - 8*(FFf2*FFf2)*h*(M*M)*mHNL*((Sqrt((1 - (M*M)/s - (mHNL*mHNL)/s)*(1 - (M*M)/s - (mHNL*mHNL)/s) - (4*(M*M)*(mHNL*mHNL))/(s*s))*(-(M*M) + s))/(4.*mHNL) - ((-(M*M) + mHNL*mHNL + s)*(-(mHNL*mHNL) + ((-(M*M) + s)*(-(M*M) + mHNL*mHNL + s))/(2.*s) + t))/(2.*mHNL*Sqrt((1 - (M*M)/s - (mHNL*mHNL)/s)*(1 - (M*M)/s - (mHNL*mHNL)/s) - (4*(M*M)*(mHNL*mHNL))/(s*s))*s)) + 8*FFf1*FFf2*h*(M*M)*mHNL*((Sqrt((1 - (M*M)/s - (mHNL*mHNL)/s)*(1 - (M*M)/s - (mHNL*mHNL)/s) - (4*(M*M)*(mHNL*mHNL))/(s*s))*(M*M + s))/(4.*mHNL) + ((-(M*M) + mHNL*mHNL + s)*(-(mHNL*mHNL) + ((-(M*M) + s)*(-(M*M) + mHNL*mHNL + s))/(2.*s) + t))/(2.*mHNL*Sqrt((1 - (M*M)/s - (mHNL*mHNL)/s)*(1 - (M*M)/s - (mHNL*mHNL)/s) - (4*(M*M)*(mHNL*mHNL))/(s*s))*s)) - 16*FFf2*FFga*h*(M*M)*mHNL*((Sqrt((1 - (M*M)/s - (mHNL*mHNL)/s)*(1 - (M*M)/s - (mHNL*mHNL)/s) - (4*(M*M)*(mHNL*mHNL))/(s*s))*(M*M + s))/(4.*mHNL) + ((-(M*M) + mHNL*mHNL + s)*(-(mHNL*mHNL) + ((-(M*M) + s)*(-(M*M) + mHNL*mHNL + s))/(2.*s) + t))/(2.*mHNL*Sqrt((1 - (M*M)/s - (mHNL*mHNL)/s)*(1 - (M*M)/s - (mHNL*mHNL)/s) - (4*(M*M)*(mHNL*mHNL))/(s*s))*s)) + 16*FFga*FFgp*h*(M*M)*mHNL*((Sqrt((1 - (M*M)/s - (mHNL*mHNL)/s)*(1 - (M*M)/s - (mHNL*mHNL)/s) - (4*(M*M)*(mHNL*mHNL))/(s*s))*(M*M + s))/(4.*mHNL) + ((-(M*M) + mHNL*mHNL + s)*(-(mHNL*mHNL) + ((-(M*M) + s)*(-(M*M) + mHNL*mHNL + s))/(2.*s) + t))/(2.*mHNL*Sqrt((1 - (M*M)/s - (mHNL*mHNL)/s)*(1 - (M*M)/s - (mHNL*mHNL)/s) - (4*(M*M)*(mHNL*mHNL))/(s*s))*s)) - 2*(FFf2*FFf2)*h*mHNL*(-(M*M) - mHNL*mHNL + s)*((Sqrt((1 - (M*M)/s - (mHNL*mHNL)/s)*(1 - (M*M)/s - (mHNL*mHNL)/s) - (4*(M*M)*(mHNL*mHNL))/(s*s))*(M*M + s))/(4.*mHNL) + ((-(M*M) + mHNL*mHNL + s)*(-(mHNL*mHNL) + ((-(M*M) + s)*(-(M*M) + mHNL*mHNL + s))/(2.*s) + t))/(2.*mHNL*Sqrt((1 - (M*M)/s - (mHNL*mHNL)/s)*(1 - (M*M)/s - (mHNL*mHNL)/s) - (4*(M*M)*(mHNL*mHNL))/(s*s))*s)) + 4*FFf2*FFgp*h*mHNL*(-(M*M) - mHNL*mHNL + s)*((Sqrt((1 - (M*M)/s - (mHNL*mHNL)/s)*(1 - (M*M)/s - (mHNL*mHNL)/s) - (4*(M*M)*(mHNL*mHNL))/(s*s))*(M*M + s))/(4.*mHNL) + ((-(M*M) + mHNL*mHNL + s)*(-(mHNL*mHNL) + ((-(M*M) + s)*(-(M*M) + mHNL*mHNL + s))/(2.*s) + t))/(2.*mHNL*Sqrt((1 - (M*M)/s - (mHNL*mHNL)/s)*(1 - (M*M)/s - (mHNL*mHNL)/s) - (4*(M*M)*(mHNL*mHNL))/(s*s))*s)) - 2*(FFf2*FFf2)*h*mHNL*(-(M*M) - mHNL*mHNL + s + t)*((Sqrt((1 - (M*M)/s - (mHNL*mHNL)/s)*(1 - (M*M)/s - (mHNL*mHNL)/s) - (4*(M*M)*(mHNL*mHNL))/(s*s))*(M*M + s))/(4.*mHNL) + ((-(M*M) + mHNL*mHNL + s)*(-(mHNL*mHNL) + ((-(M*M) + s)*(-(M*M) + mHNL*mHNL + s))/(2.*s) + t))/(2.*mHNL*Sqrt((1 - (M*M)/s - (mHNL*mHNL)/s)*(1 - (M*M)/s - (mHNL*mHNL)/s) - (4*(M*M)*(mHNL*mHNL))/(s*s))*s)) + 4*FFf2*FFgp*h*mHNL*(-(M*M) - mHNL*mHNL + s + t)*((Sqrt((1 - (M*M)/s - (mHNL*mHNL)/s)*(1 - (M*M)/s - (mHNL*mHNL)/s) - (4*(M*M)*(mHNL*mHNL))/(s*s))*(M*M + s))/(4.*mHNL) + ((-(M*M) + mHNL*mHNL + s)*(-(mHNL*mHNL) + ((-(M*M) + s)*(-(M*M) + mHNL*mHNL + s))/(2.*s) + t))/(2.*mHNL*Sqrt((1 - (M*M)/s - (mHNL*mHNL)/s)*(1 - (M*M)/s - (mHNL*mHNL)/s) - (4*(M*M)*(mHNL*mHNL))/(s*s))*s))))/2. + 2*(h*mHNL*((Sqrt((1 - (M*M)/s - (mHNL*mHNL)/s)*(1 - (M*M)/s - (mHNL*mHNL)/s) - (4*(M*M)*(mHNL*mHNL))/(s*s))*(-(M*M) + s))/(4.*mHNL) - ((-(M*M) + mHNL*mHNL + s)*(-(mHNL*mHNL) + ((-(M*M) + s)*(-(M*M) + mHNL*mHNL + s))/(2.*s) + t))/(2.*mHNL*Sqrt((1 - (M*M)/s - (mHNL*mHNL)/s)*(1 - (M*M)/s - (mHNL*mHNL)/s) - (4*(M*M)*(mHNL*mHNL))/(s*s))*s))*(8*(FFf1*FFf1)*(M*M*M*M) - 8*(FFga*FFga)*(M*M*M*M) + FFf2*FFf2*(M*M)*(mHNL*mHNL) - 4*(FFgp*FFgp)*(M*M)*(mHNL*mHNL) - 2*FFf1*FFf2*(M*M)*(-(M*M) - mHNL*mHNL + s) + 4*FFga*FFgp*(M*M)*(-(M*M) - mHNL*mHNL + s) - (FFf2*FFf2*(mHNL*mHNL)*(2*(M*M) - t))/2. + 2*(FFgp*FFgp)*(mHNL*mHNL)*(2*(M*M) - t) + 2*FFf1*FFf2*(M*M)*(-(M*M) + s + t) - 4*FFga*FFgp*(M*M)*(-(M*M) + s + t) + 4*FFf1*FFf2*(M*M)*(-(M*M) - mHNL*mHNL + s + t) - 4*FFf2*FFga*(M*M)*(-(M*M) - mHNL*mHNL + s + t) + (FFf2*FFf2*(-(M*M) + s + t)*(-(M*M) - mHNL*mHNL + s + t))/2. - FFf2*FFgp*(-(M*M) + s + t)*(-(M*M) - mHNL*mHNL + s + t) + FFf2*(-(M*M) + s)*(-4*(FFf1 + FFga)*(M*M) + ((FFf2 + 2*FFgp)*(-(M*M) - mHNL*mHNL + s))/2. - FFf2*(-(M*M) - mHNL*mHNL + s + t))) - 2*(((-(M*M) + s)*(-2*((FFf1 + FFga)*(FFf1 + FFga))*(M*M)*(-(M*M) - mHNL*mHNL + s) + 2*((FFf1 + FFga)*(FFf1 + FFga))*h*(M*M)*Sqrt((1 - (M*M)/s - (mHNL*mHNL)/s)*(1 - (M*M)/s - (mHNL*mHNL)/s) - (4*(M*M)*(mHNL*mHNL))/(s*s))*Sqrt(s)*((-(M*M) + s)/(2.*Sqrt(s)) + (M*M + s)/(2.*Sqrt(s))) + mHNL*mHNL*(2*(FFf1*FFf2 + 2*FFga*(FFf2 + FFgp))*(M*M) - (FFf2*(FFf2 + 2*FFgp)*h*Sqrt((1 - (M*M)/s - (mHNL*mHNL)/s)*(1 - (M*M)/s - (mHNL*mHNL)/s) - (4*(M*M)*(mHNL*mHNL))/(s*s))*Sqrt(s)*((-(M*M) + s)/(2.*Sqrt(s)) + (M*M + s)/(2.*Sqrt(s))))/2.)))/2. + ((-(M*M) - mHNL*mHNL + s + t)*(-2*(mHNL*mHNL)*((FFf1*FFf2 + 2*FFga*(-FFf2 + FFgp))*(M*M) - (FFf2*FFf2*(-(M*M) + s))/2.) - 2*((FFf1 - FFga)*(FFf1 - FFga))*(M*M)*(-(M*M) + s + t) + h*mHNL*(4*((FFf1 - FFga)*(FFf1 - FFga))*(M*M) - FFf2*(FFf2 - 2*FFgp)*(mHNL*mHNL))*((Sqrt((1 - (M*M)/s - (mHNL*mHNL)/s)*(1 - (M*M)/s - (mHNL*mHNL)/s) - (4*(M*M)*(mHNL*mHNL))/(s*s))*(M*M + s))/(4.*mHNL) + ((-(M*M) + mHNL*mHNL + s)*(-(mHNL*mHNL) + ((-(M*M) + s)*(-(M*M) + mHNL*mHNL + s))/(2.*s) + t))/(2.*mHNL*Sqrt((1 - (M*M)/s - (mHNL*mHNL)/s)*(1 - (M*M)/s - (mHNL*mHNL)/s) - (4*(M*M)*(mHNL*mHNL))/(s*s))*s))))/2.))))/(64.*(M*M)*pi*Sqrt((1 - (M*M)/s - (mHNL*mHNL)/s)*(1 - (M*M)/s - (mHNL*mHNL)/s) - (4*(M*M)*(mHNL*mHNL))/(s*s))*Sqrt((1 - (M*M)/s)*(1 - (M*M)/s))*Sqrt((M*M - s)*(M*M - s))*s*((mzprime*mzprime - t)*(mzprime*mzprime - t)))\n",
      "NameError: name 'FFf2' is not defined\n",
      " m\n"
     ]
    },
    {
     "name": "stdout",
     "output_type": "stream",
     "text": [
      "['cd ..; python3 dark_gen.py --M4 0.01 --mzprime 5 --UMU4 2.2e-07 --alpha_dark 0.4 --epsilon2 0.00046 --neval 100000 --noplot --hierarchy heavy --D_or_M dirac']\n",
      "n Traceback (most recent call last):\n",
      "  File \"/Users/matheushostert/Repos/nicgen/dark_gen.py\", line 154, in <module>\n",
      "    main(sys.argv[1:])\n",
      "  File \"/Users/matheushostert/Repos/nicgen/dark_gen.py\", line 131, in main\n",
      "    bag = MC.run_MC(BSMparams, myexp, [pdg.numu], INCLUDE_DIF=False)\n",
      "  File \"/Users/matheushostert/Repos/nicgen/dark_news/MC.py\", line 323, in run_MC\n",
      "    cases_events = [cases[i].get_MC_events() for i in range(np.size(cases))]\n",
      "  File \"/Users/matheushostert/Repos/nicgen/dark_news/MC.py\", line 323, in <listcomp>\n",
      "    cases_events = [cases[i].get_MC_events() for i in range(np.size(cases))]\n",
      "  File \"/Users/matheushostert/Repos/nicgen/dark_news/MC.py\", line 169, in get_MC_events\n",
      "    integ(batch_f, nitn=NINT_warmup, neval=NEVAL_warmup)\n",
      "  File \"_vegas.pyx\", line 1378, in random_batch\n",
      "  File \"_vegas.pyx\", line 2223, in vegas._vegas.VegasIntegrand.__init__.eval\n",
      "  File \"/Users/matheushostert/Repos/nicgen/dark_news/integrands.py\", line 427, in __call__\n",
      "    dsigma = (cij*cji*(params.epsilon*params.epsilon)*(const.eQED*const.eQED)*Sqrt((-4*(M*M)*(mHNL*mHNL) + (M*M + mHNL*mHNL - s)*(M*M + mHNL*mHNL - s))/(s*s))*(2*(FFf2*FFf2)*(M*M)*((mHNL*mHNL - t)*(mHNL*mHNL - t)) + ((mHNL*mHNL - t)*(-16*(FFf1*FFf1)*(M*M*M*M) + 16*(FFga*FFga)*(M*M*M*M) - 6*(FFf2*FFf2)*(M*M)*(mHNL*mHNL) - 8*(FFgp*FFgp)*(M*M)*(mHNL*mHNL) + 8*FFf1*FFf2*(M*M)*(-(M*M) - mHNL*mHNL + s) + 8*FFf2*FFga*(M*M)*(-(M*M) - mHNL*mHNL + s) - 4*FFf1*FFf2*h*(M*M)*Sqrt((1 - (M*M)/s - (mHNL*mHNL)/s)*(1 - (M*M)/s - (mHNL*mHNL)/s) - (4*(M*M)*(mHNL*mHNL))/(s*s))*Sqrt(s)*((-(M*M) + s)/(2.*Sqrt(s)) + (M*M + s)/(2.*Sqrt(s))) - 8*FFf2*FFga*h*(M*M)*Sqrt((1 - (M*M)/s - (mHNL*mHNL)/s)*(1 - (M*M)/s - (mHNL*mHNL)/s) - (4*(M*M)*(mHNL*mHNL))/(s*s))*Sqrt(s)*((-(M*M) + s)/(2.*Sqrt(s)) + (M*M + s)/(2.*Sqrt(s))) - 8*FFga*FFgp*h*(M*M)*Sqrt((1 - (M*M)/s - (mHNL*mHNL)/s)*(1 - (M*M)/s - (mHNL*mHNL)/s) - (4*(M*M)*(mHNL*mHNL))/(s*s))*Sqrt(s)*((-(M*M) + s)/(2.*Sqrt(s)) + (M*M + s)/(2.*Sqrt(s))) - FFf2*FFf2*(mHNL*mHNL)*(2*(M*M) - t) + 4*(FFgp*FFgp)*(mHNL*mHNL)*(2*(M*M) - t) - 8*FFf1*FFf2*(M*M)*(-(M*M) + s + t) + 8*FFf2*FFga*(M*M)*(-(M*M) + s + t) + 2*(FFf2*FFf2)*(-(M*M) - mHNL*mHNL + s)*(-(M*M) + s + t) - FFf2*FFf2*h*Sqrt((1 - (M*M)/s - (mHNL*mHNL)/s)*(1 - (M*M)/s - (mHNL*mHNL)/s) - (4*(M*M)*(mHNL*mHNL))/(s*s))*Sqrt(s)*((-(M*M) + s)/(2.*Sqrt(s)) + (M*M + s)/(2.*Sqrt(s)))*(-(M*M) + s + t) - 2*FFf2*FFgp*h*Sqrt((1 - (M*M)/s - (mHNL*mHNL)/s)*(1 - (M*M)/s - (mHNL*mHNL)/s) - (4*(M*M)*(mHNL*mHNL))/(s*s))*Sqrt(s)*((-(M*M) + s)/(2.*Sqrt(s)) + (M*M + s)/(2.*Sqrt(s)))*(-(M*M) + s + t) - 8*FFf1*FFf2*(M*M)*(-(M*M) - mHNL*mHNL + s + t) + 8*FFf2*FFga*(M*M)*(-(M*M) - mHNL*mHNL + s + t) - 2*FFf2*(-(M*M) + s)*(-4*(FFf1 + FFga)*(M*M) + ((FFf2 + 2*FFgp)*h*Sqrt((1 - (M*M)/s - (mHNL*mHNL)/s)*(1 - (M*M)/s - (mHNL*mHNL)/s) - (4*(M*M)*(mHNL*mHNL))/(s*s))*Sqrt(s)*((-(M*M) + s)/(2.*Sqrt(s)) + (M*M + s)/(2.*Sqrt(s))))/2. - FFf2*(-(M*M) - mHNL*mHNL + s + t)) - 8*(FFf2*FFf2)*h*(M*M)*mHNL*((Sqrt((1 - (M*M)/s - (mHNL*mHNL)/s)*(1 - (M*M)/s - (mHNL*mHNL)/s) - (4*(M*M)*(mHNL*mHNL))/(s*s))*(-(M*M) + s))/(4.*mHNL) - ((-(M*M) + mHNL*mHNL + s)*(-(mHNL*mHNL) + ((-(M*M) + s)*(-(M*M) + mHNL*mHNL + s))/(2.*s) + t))/(2.*mHNL*Sqrt((1 - (M*M)/s - (mHNL*mHNL)/s)*(1 - (M*M)/s - (mHNL*mHNL)/s) - (4*(M*M)*(mHNL*mHNL))/(s*s))*s)) + 8*FFf1*FFf2*h*(M*M)*mHNL*((Sqrt((1 - (M*M)/s - (mHNL*mHNL)/s)*(1 - (M*M)/s - (mHNL*mHNL)/s) - (4*(M*M)*(mHNL*mHNL))/(s*s))*(M*M + s))/(4.*mHNL) + ((-(M*M) + mHNL*mHNL + s)*(-(mHNL*mHNL) + ((-(M*M) + s)*(-(M*M) + mHNL*mHNL + s))/(2.*s) + t))/(2.*mHNL*Sqrt((1 - (M*M)/s - (mHNL*mHNL)/s)*(1 - (M*M)/s - (mHNL*mHNL)/s) - (4*(M*M)*(mHNL*mHNL))/(s*s))*s)) - 16*FFf2*FFga*h*(M*M)*mHNL*((Sqrt((1 - (M*M)/s - (mHNL*mHNL)/s)*(1 - (M*M)/s - (mHNL*mHNL)/s) - (4*(M*M)*(mHNL*mHNL))/(s*s))*(M*M + s))/(4.*mHNL) + ((-(M*M) + mHNL*mHNL + s)*(-(mHNL*mHNL) + ((-(M*M) + s)*(-(M*M) + mHNL*mHNL + s))/(2.*s) + t))/(2.*mHNL*Sqrt((1 - (M*M)/s - (mHNL*mHNL)/s)*(1 - (M*M)/s - (mHNL*mHNL)/s) - (4*(M*M)*(mHNL*mHNL))/(s*s))*s)) + 16*FFga*FFgp*h*(M*M)*mHNL*((Sqrt((1 - (M*M)/s - (mHNL*mHNL)/s)*(1 - (M*M)/s - (mHNL*mHNL)/s) - (4*(M*M)*(mHNL*mHNL))/(s*s))*(M*M + s))/(4.*mHNL) + ((-(M*M) + mHNL*mHNL + s)*(-(mHNL*mHNL) + ((-(M*M) + s)*(-(M*M) + mHNL*mHNL + s))/(2.*s) + t))/(2.*mHNL*Sqrt((1 - (M*M)/s - (mHNL*mHNL)/s)*(1 - (M*M)/s - (mHNL*mHNL)/s) - (4*(M*M)*(mHNL*mHNL))/(s*s))*s)) - 2*(FFf2*FFf2)*h*mHNL*(-(M*M) - mHNL*mHNL + s)*((Sqrt((1 - (M*M)/s - (mHNL*mHNL)/s)*(1 - (M*M)/s - (mHNL*mHNL)/s) - (4*(M*M)*(mHNL*mHNL))/(s*s))*(M*M + s))/(4.*mHNL) + ((-(M*M) + mHNL*mHNL + s)*(-(mHNL*mHNL) + ((-(M*M) + s)*(-(M*M) + mHNL*mHNL + s))/(2.*s) + t))/(2.*mHNL*Sqrt((1 - (M*M)/s - (mHNL*mHNL)/s)*(1 - (M*M)/s - (mHNL*mHNL)/s) - (4*(M*M)*(mHNL*mHNL))/(s*s))*s)) + 4*FFf2*FFgp*h*mHNL*(-(M*M) - mHNL*mHNL + s)*((Sqrt((1 - (M*M)/s - (mHNL*mHNL)/s)*(1 - (M*M)/s - (mHNL*mHNL)/s) - (4*(M*M)*(mHNL*mHNL))/(s*s))*(M*M + s))/(4.*mHNL) + ((-(M*M) + mHNL*mHNL + s)*(-(mHNL*mHNL) + ((-(M*M) + s)*(-(M*M) + mHNL*mHNL + s))/(2.*s) + t))/(2.*mHNL*Sqrt((1 - (M*M)/s - (mHNL*mHNL)/s)*(1 - (M*M)/s - (mHNL*mHNL)/s) - (4*(M*M)*(mHNL*mHNL))/(s*s))*s)) - 2*(FFf2*FFf2)*h*mHNL*(-(M*M) - mHNL*mHNL + s + t)*((Sqrt((1 - (M*M)/s - (mHNL*mHNL)/s)*(1 - (M*M)/s - (mHNL*mHNL)/s) - (4*(M*M)*(mHNL*mHNL))/(s*s))*(M*M + s))/(4.*mHNL) + ((-(M*M) + mHNL*mHNL + s)*(-(mHNL*mHNL) + ((-(M*M) + s)*(-(M*M) + mHNL*mHNL + s))/(2.*s) + t))/(2.*mHNL*Sqrt((1 - (M*M)/s - (mHNL*mHNL)/s)*(1 - (M*M)/s - (mHNL*mHNL)/s) - (4*(M*M)*(mHNL*mHNL))/(s*s))*s)) + 4*FFf2*FFgp*h*mHNL*(-(M*M) - mHNL*mHNL + s + t)*((Sqrt((1 - (M*M)/s - (mHNL*mHNL)/s)*(1 - (M*M)/s - (mHNL*mHNL)/s) - (4*(M*M)*(mHNL*mHNL))/(s*s))*(M*M + s))/(4.*mHNL) + ((-(M*M) + mHNL*mHNL + s)*(-(mHNL*mHNL) + ((-(M*M) + s)*(-(M*M) + mHNL*mHNL + s))/(2.*s) + t))/(2.*mHNL*Sqrt((1 - (M*M)/s - (mHNL*mHNL)/s)*(1 - (M*M)/s - (mHNL*mHNL)/s) - (4*(M*M)*(mHNL*mHNL))/(s*s))*s))))/2. + 2*(h*mHNL*((Sqrt((1 - (M*M)/s - (mHNL*mHNL)/s)*(1 - (M*M)/s - (mHNL*mHNL)/s) - (4*(M*M)*(mHNL*mHNL))/(s*s))*(-(M*M) + s))/(4.*mHNL) - ((-(M*M) + mHNL*mHNL + s)*(-(mHNL*mHNL) + ((-(M*M) + s)*(-(M*M) + mHNL*mHNL + s))/(2.*s) + t))/(2.*mHNL*Sqrt((1 - (M*M)/s - (mHNL*mHNL)/s)*(1 - (M*M)/s - (mHNL*mHNL)/s) - (4*(M*M)*(mHNL*mHNL))/(s*s))*s))*(8*(FFf1*FFf1)*(M*M*M*M) - 8*(FFga*FFga)*(M*M*M*M) + FFf2*FFf2*(M*M)*(mHNL*mHNL) - 4*(FFgp*FFgp)*(M*M)*(mHNL*mHNL) - 2*FFf1*FFf2*(M*M)*(-(M*M) - mHNL*mHNL + s) + 4*FFga*FFgp*(M*M)*(-(M*M) - mHNL*mHNL + s) - (FFf2*FFf2*(mHNL*mHNL)*(2*(M*M) - t))/2. + 2*(FFgp*FFgp)*(mHNL*mHNL)*(2*(M*M) - t) + 2*FFf1*FFf2*(M*M)*(-(M*M) + s + t) - 4*FFga*FFgp*(M*M)*(-(M*M) + s + t) + 4*FFf1*FFf2*(M*M)*(-(M*M) - mHNL*mHNL + s + t) - 4*FFf2*FFga*(M*M)*(-(M*M) - mHNL*mHNL + s + t) + (FFf2*FFf2*(-(M*M) + s + t)*(-(M*M) - mHNL*mHNL + s + t))/2. - FFf2*FFgp*(-(M*M) + s + t)*(-(M*M) - mHNL*mHNL + s + t) + FFf2*(-(M*M) + s)*(-4*(FFf1 + FFga)*(M*M) + ((FFf2 + 2*FFgp)*(-(M*M) - mHNL*mHNL + s))/2. - FFf2*(-(M*M) - mHNL*mHNL + s + t))) - 2*(((-(M*M) + s)*(-2*((FFf1 + FFga)*(FFf1 + FFga))*(M*M)*(-(M*M) - mHNL*mHNL + s) + 2*((FFf1 + FFga)*(FFf1 + FFga))*h*(M*M)*Sqrt((1 - (M*M)/s - (mHNL*mHNL)/s)*(1 - (M*M)/s - (mHNL*mHNL)/s) - (4*(M*M)*(mHNL*mHNL))/(s*s))*Sqrt(s)*((-(M*M) + s)/(2.*Sqrt(s)) + (M*M + s)/(2.*Sqrt(s))) + mHNL*mHNL*(2*(FFf1*FFf2 + 2*FFga*(FFf2 + FFgp))*(M*M) - (FFf2*(FFf2 + 2*FFgp)*h*Sqrt((1 - (M*M)/s - (mHNL*mHNL)/s)*(1 - (M*M)/s - (mHNL*mHNL)/s) - (4*(M*M)*(mHNL*mHNL))/(s*s))*Sqrt(s)*((-(M*M) + s)/(2.*Sqrt(s)) + (M*M + s)/(2.*Sqrt(s))))/2.)))/2. + ((-(M*M) - mHNL*mHNL + s + t)*(-2*(mHNL*mHNL)*((FFf1*FFf2 + 2*FFga*(-FFf2 + FFgp))*(M*M) - (FFf2*FFf2*(-(M*M) + s))/2.) - 2*((FFf1 - FFga)*(FFf1 - FFga))*(M*M)*(-(M*M) + s + t) + h*mHNL*(4*((FFf1 - FFga)*(FFf1 - FFga))*(M*M) - FFf2*(FFf2 - 2*FFgp)*(mHNL*mHNL))*((Sqrt((1 - (M*M)/s - (mHNL*mHNL)/s)*(1 - (M*M)/s - (mHNL*mHNL)/s) - (4*(M*M)*(mHNL*mHNL))/(s*s))*(M*M + s))/(4.*mHNL) + ((-(M*M) + mHNL*mHNL + s)*(-(mHNL*mHNL) + ((-(M*M) + s)*(-(M*M) + mHNL*mHNL + s))/(2.*s) + t))/(2.*mHNL*Sqrt((1 - (M*M)/s - (mHNL*mHNL)/s)*(1 - (M*M)/s - (mHNL*mHNL)/s) - (4*(M*M)*(mHNL*mHNL))/(s*s))*s))))/2.))))/(64.*(M*M)*pi*Sqrt((1 - (M*M)/s - (mHNL*mHNL)/s)*(1 - (M*M)/s - (mHNL*mHNL)/s) - (4*(M*M)*(mHNL*mHNL))/(s*s))*Sqrt((1 - (M*M)/s)*(1 - (M*M)/s))*Sqrt((M*M - s)*(M*M - s))*s*((mzprime*mzprime - t)*(mzprime*mzprime - t)))\n",
      "NameError: name 'FFf2' is not defined\n",
      " m\n"
     ]
    },
    {
     "name": "stdout",
     "output_type": "stream",
     "text": [
      "['cd ..; python3 dark_gen.py --M4 0.1 --mzprime 0.1 --UMU4 2.2e-07 --alpha_dark 0.4 --epsilon2 0.00046 --neval 100000 --noplot --hierarchy heavy --D_or_M dirac']\n",
      "n Traceback (most recent call last):\n",
      "  File \"/Users/matheushostert/Repos/nicgen/dark_gen.py\", line 154, in <module>\n",
      "    main(sys.argv[1:])\n",
      "  File \"/Users/matheushostert/Repos/nicgen/dark_gen.py\", line 131, in main\n",
      "    bag = MC.run_MC(BSMparams, myexp, [pdg.numu], INCLUDE_DIF=False)\n",
      "  File \"/Users/matheushostert/Repos/nicgen/dark_news/MC.py\", line 323, in run_MC\n",
      "    cases_events = [cases[i].get_MC_events() for i in range(np.size(cases))]\n",
      "  File \"/Users/matheushostert/Repos/nicgen/dark_news/MC.py\", line 323, in <listcomp>\n",
      "    cases_events = [cases[i].get_MC_events() for i in range(np.size(cases))]\n",
      "  File \"/Users/matheushostert/Repos/nicgen/dark_news/MC.py\", line 169, in get_MC_events\n",
      "    integ(batch_f, nitn=NINT_warmup, neval=NEVAL_warmup)\n",
      "  File \"_vegas.pyx\", line 1378, in random_batch\n",
      "  File \"_vegas.pyx\", line 2223, in vegas._vegas.VegasIntegrand.__init__.eval\n",
      "  File \"/Users/matheushostert/Repos/nicgen/dark_news/integrands.py\", line 427, in __call__\n",
      "    dsigma = (cij*cji*(params.epsilon*params.epsilon)*(const.eQED*const.eQED)*Sqrt((-4*(M*M)*(mHNL*mHNL) + (M*M + mHNL*mHNL - s)*(M*M + mHNL*mHNL - s))/(s*s))*(2*(FFf2*FFf2)*(M*M)*((mHNL*mHNL - t)*(mHNL*mHNL - t)) + ((mHNL*mHNL - t)*(-16*(FFf1*FFf1)*(M*M*M*M) + 16*(FFga*FFga)*(M*M*M*M) - 6*(FFf2*FFf2)*(M*M)*(mHNL*mHNL) - 8*(FFgp*FFgp)*(M*M)*(mHNL*mHNL) + 8*FFf1*FFf2*(M*M)*(-(M*M) - mHNL*mHNL + s) + 8*FFf2*FFga*(M*M)*(-(M*M) - mHNL*mHNL + s) - 4*FFf1*FFf2*h*(M*M)*Sqrt((1 - (M*M)/s - (mHNL*mHNL)/s)*(1 - (M*M)/s - (mHNL*mHNL)/s) - (4*(M*M)*(mHNL*mHNL))/(s*s))*Sqrt(s)*((-(M*M) + s)/(2.*Sqrt(s)) + (M*M + s)/(2.*Sqrt(s))) - 8*FFf2*FFga*h*(M*M)*Sqrt((1 - (M*M)/s - (mHNL*mHNL)/s)*(1 - (M*M)/s - (mHNL*mHNL)/s) - (4*(M*M)*(mHNL*mHNL))/(s*s))*Sqrt(s)*((-(M*M) + s)/(2.*Sqrt(s)) + (M*M + s)/(2.*Sqrt(s))) - 8*FFga*FFgp*h*(M*M)*Sqrt((1 - (M*M)/s - (mHNL*mHNL)/s)*(1 - (M*M)/s - (mHNL*mHNL)/s) - (4*(M*M)*(mHNL*mHNL))/(s*s))*Sqrt(s)*((-(M*M) + s)/(2.*Sqrt(s)) + (M*M + s)/(2.*Sqrt(s))) - FFf2*FFf2*(mHNL*mHNL)*(2*(M*M) - t) + 4*(FFgp*FFgp)*(mHNL*mHNL)*(2*(M*M) - t) - 8*FFf1*FFf2*(M*M)*(-(M*M) + s + t) + 8*FFf2*FFga*(M*M)*(-(M*M) + s + t) + 2*(FFf2*FFf2)*(-(M*M) - mHNL*mHNL + s)*(-(M*M) + s + t) - FFf2*FFf2*h*Sqrt((1 - (M*M)/s - (mHNL*mHNL)/s)*(1 - (M*M)/s - (mHNL*mHNL)/s) - (4*(M*M)*(mHNL*mHNL))/(s*s))*Sqrt(s)*((-(M*M) + s)/(2.*Sqrt(s)) + (M*M + s)/(2.*Sqrt(s)))*(-(M*M) + s + t) - 2*FFf2*FFgp*h*Sqrt((1 - (M*M)/s - (mHNL*mHNL)/s)*(1 - (M*M)/s - (mHNL*mHNL)/s) - (4*(M*M)*(mHNL*mHNL))/(s*s))*Sqrt(s)*((-(M*M) + s)/(2.*Sqrt(s)) + (M*M + s)/(2.*Sqrt(s)))*(-(M*M) + s + t) - 8*FFf1*FFf2*(M*M)*(-(M*M) - mHNL*mHNL + s + t) + 8*FFf2*FFga*(M*M)*(-(M*M) - mHNL*mHNL + s + t) - 2*FFf2*(-(M*M) + s)*(-4*(FFf1 + FFga)*(M*M) + ((FFf2 + 2*FFgp)*h*Sqrt((1 - (M*M)/s - (mHNL*mHNL)/s)*(1 - (M*M)/s - (mHNL*mHNL)/s) - (4*(M*M)*(mHNL*mHNL))/(s*s))*Sqrt(s)*((-(M*M) + s)/(2.*Sqrt(s)) + (M*M + s)/(2.*Sqrt(s))))/2. - FFf2*(-(M*M) - mHNL*mHNL + s + t)) - 8*(FFf2*FFf2)*h*(M*M)*mHNL*((Sqrt((1 - (M*M)/s - (mHNL*mHNL)/s)*(1 - (M*M)/s - (mHNL*mHNL)/s) - (4*(M*M)*(mHNL*mHNL))/(s*s))*(-(M*M) + s))/(4.*mHNL) - ((-(M*M) + mHNL*mHNL + s)*(-(mHNL*mHNL) + ((-(M*M) + s)*(-(M*M) + mHNL*mHNL + s))/(2.*s) + t))/(2.*mHNL*Sqrt((1 - (M*M)/s - (mHNL*mHNL)/s)*(1 - (M*M)/s - (mHNL*mHNL)/s) - (4*(M*M)*(mHNL*mHNL))/(s*s))*s)) + 8*FFf1*FFf2*h*(M*M)*mHNL*((Sqrt((1 - (M*M)/s - (mHNL*mHNL)/s)*(1 - (M*M)/s - (mHNL*mHNL)/s) - (4*(M*M)*(mHNL*mHNL))/(s*s))*(M*M + s))/(4.*mHNL) + ((-(M*M) + mHNL*mHNL + s)*(-(mHNL*mHNL) + ((-(M*M) + s)*(-(M*M) + mHNL*mHNL + s))/(2.*s) + t))/(2.*mHNL*Sqrt((1 - (M*M)/s - (mHNL*mHNL)/s)*(1 - (M*M)/s - (mHNL*mHNL)/s) - (4*(M*M)*(mHNL*mHNL))/(s*s))*s)) - 16*FFf2*FFga*h*(M*M)*mHNL*((Sqrt((1 - (M*M)/s - (mHNL*mHNL)/s)*(1 - (M*M)/s - (mHNL*mHNL)/s) - (4*(M*M)*(mHNL*mHNL))/(s*s))*(M*M + s))/(4.*mHNL) + ((-(M*M) + mHNL*mHNL + s)*(-(mHNL*mHNL) + ((-(M*M) + s)*(-(M*M) + mHNL*mHNL + s))/(2.*s) + t))/(2.*mHNL*Sqrt((1 - (M*M)/s - (mHNL*mHNL)/s)*(1 - (M*M)/s - (mHNL*mHNL)/s) - (4*(M*M)*(mHNL*mHNL))/(s*s))*s)) + 16*FFga*FFgp*h*(M*M)*mHNL*((Sqrt((1 - (M*M)/s - (mHNL*mHNL)/s)*(1 - (M*M)/s - (mHNL*mHNL)/s) - (4*(M*M)*(mHNL*mHNL))/(s*s))*(M*M + s))/(4.*mHNL) + ((-(M*M) + mHNL*mHNL + s)*(-(mHNL*mHNL) + ((-(M*M) + s)*(-(M*M) + mHNL*mHNL + s))/(2.*s) + t))/(2.*mHNL*Sqrt((1 - (M*M)/s - (mHNL*mHNL)/s)*(1 - (M*M)/s - (mHNL*mHNL)/s) - (4*(M*M)*(mHNL*mHNL))/(s*s))*s)) - 2*(FFf2*FFf2)*h*mHNL*(-(M*M) - mHNL*mHNL + s)*((Sqrt((1 - (M*M)/s - (mHNL*mHNL)/s)*(1 - (M*M)/s - (mHNL*mHNL)/s) - (4*(M*M)*(mHNL*mHNL))/(s*s))*(M*M + s))/(4.*mHNL) + ((-(M*M) + mHNL*mHNL + s)*(-(mHNL*mHNL) + ((-(M*M) + s)*(-(M*M) + mHNL*mHNL + s))/(2.*s) + t))/(2.*mHNL*Sqrt((1 - (M*M)/s - (mHNL*mHNL)/s)*(1 - (M*M)/s - (mHNL*mHNL)/s) - (4*(M*M)*(mHNL*mHNL))/(s*s))*s)) + 4*FFf2*FFgp*h*mHNL*(-(M*M) - mHNL*mHNL + s)*((Sqrt((1 - (M*M)/s - (mHNL*mHNL)/s)*(1 - (M*M)/s - (mHNL*mHNL)/s) - (4*(M*M)*(mHNL*mHNL))/(s*s))*(M*M + s))/(4.*mHNL) + ((-(M*M) + mHNL*mHNL + s)*(-(mHNL*mHNL) + ((-(M*M) + s)*(-(M*M) + mHNL*mHNL + s))/(2.*s) + t))/(2.*mHNL*Sqrt((1 - (M*M)/s - (mHNL*mHNL)/s)*(1 - (M*M)/s - (mHNL*mHNL)/s) - (4*(M*M)*(mHNL*mHNL))/(s*s))*s)) - 2*(FFf2*FFf2)*h*mHNL*(-(M*M) - mHNL*mHNL + s + t)*((Sqrt((1 - (M*M)/s - (mHNL*mHNL)/s)*(1 - (M*M)/s - (mHNL*mHNL)/s) - (4*(M*M)*(mHNL*mHNL))/(s*s))*(M*M + s))/(4.*mHNL) + ((-(M*M) + mHNL*mHNL + s)*(-(mHNL*mHNL) + ((-(M*M) + s)*(-(M*M) + mHNL*mHNL + s))/(2.*s) + t))/(2.*mHNL*Sqrt((1 - (M*M)/s - (mHNL*mHNL)/s)*(1 - (M*M)/s - (mHNL*mHNL)/s) - (4*(M*M)*(mHNL*mHNL))/(s*s))*s)) + 4*FFf2*FFgp*h*mHNL*(-(M*M) - mHNL*mHNL + s + t)*((Sqrt((1 - (M*M)/s - (mHNL*mHNL)/s)*(1 - (M*M)/s - (mHNL*mHNL)/s) - (4*(M*M)*(mHNL*mHNL))/(s*s))*(M*M + s))/(4.*mHNL) + ((-(M*M) + mHNL*mHNL + s)*(-(mHNL*mHNL) + ((-(M*M) + s)*(-(M*M) + mHNL*mHNL + s))/(2.*s) + t))/(2.*mHNL*Sqrt((1 - (M*M)/s - (mHNL*mHNL)/s)*(1 - (M*M)/s - (mHNL*mHNL)/s) - (4*(M*M)*(mHNL*mHNL))/(s*s))*s))))/2. + 2*(h*mHNL*((Sqrt((1 - (M*M)/s - (mHNL*mHNL)/s)*(1 - (M*M)/s - (mHNL*mHNL)/s) - (4*(M*M)*(mHNL*mHNL))/(s*s))*(-(M*M) + s))/(4.*mHNL) - ((-(M*M) + mHNL*mHNL + s)*(-(mHNL*mHNL) + ((-(M*M) + s)*(-(M*M) + mHNL*mHNL + s))/(2.*s) + t))/(2.*mHNL*Sqrt((1 - (M*M)/s - (mHNL*mHNL)/s)*(1 - (M*M)/s - (mHNL*mHNL)/s) - (4*(M*M)*(mHNL*mHNL))/(s*s))*s))*(8*(FFf1*FFf1)*(M*M*M*M) - 8*(FFga*FFga)*(M*M*M*M) + FFf2*FFf2*(M*M)*(mHNL*mHNL) - 4*(FFgp*FFgp)*(M*M)*(mHNL*mHNL) - 2*FFf1*FFf2*(M*M)*(-(M*M) - mHNL*mHNL + s) + 4*FFga*FFgp*(M*M)*(-(M*M) - mHNL*mHNL + s) - (FFf2*FFf2*(mHNL*mHNL)*(2*(M*M) - t))/2. + 2*(FFgp*FFgp)*(mHNL*mHNL)*(2*(M*M) - t) + 2*FFf1*FFf2*(M*M)*(-(M*M) + s + t) - 4*FFga*FFgp*(M*M)*(-(M*M) + s + t) + 4*FFf1*FFf2*(M*M)*(-(M*M) - mHNL*mHNL + s + t) - 4*FFf2*FFga*(M*M)*(-(M*M) - mHNL*mHNL + s + t) + (FFf2*FFf2*(-(M*M) + s + t)*(-(M*M) - mHNL*mHNL + s + t))/2. - FFf2*FFgp*(-(M*M) + s + t)*(-(M*M) - mHNL*mHNL + s + t) + FFf2*(-(M*M) + s)*(-4*(FFf1 + FFga)*(M*M) + ((FFf2 + 2*FFgp)*(-(M*M) - mHNL*mHNL + s))/2. - FFf2*(-(M*M) - mHNL*mHNL + s + t))) - 2*(((-(M*M) + s)*(-2*((FFf1 + FFga)*(FFf1 + FFga))*(M*M)*(-(M*M) - mHNL*mHNL + s) + 2*((FFf1 + FFga)*(FFf1 + FFga))*h*(M*M)*Sqrt((1 - (M*M)/s - (mHNL*mHNL)/s)*(1 - (M*M)/s - (mHNL*mHNL)/s) - (4*(M*M)*(mHNL*mHNL))/(s*s))*Sqrt(s)*((-(M*M) + s)/(2.*Sqrt(s)) + (M*M + s)/(2.*Sqrt(s))) + mHNL*mHNL*(2*(FFf1*FFf2 + 2*FFga*(FFf2 + FFgp))*(M*M) - (FFf2*(FFf2 + 2*FFgp)*h*Sqrt((1 - (M*M)/s - (mHNL*mHNL)/s)*(1 - (M*M)/s - (mHNL*mHNL)/s) - (4*(M*M)*(mHNL*mHNL))/(s*s))*Sqrt(s)*((-(M*M) + s)/(2.*Sqrt(s)) + (M*M + s)/(2.*Sqrt(s))))/2.)))/2. + ((-(M*M) - mHNL*mHNL + s + t)*(-2*(mHNL*mHNL)*((FFf1*FFf2 + 2*FFga*(-FFf2 + FFgp))*(M*M) - (FFf2*FFf2*(-(M*M) + s))/2.) - 2*((FFf1 - FFga)*(FFf1 - FFga))*(M*M)*(-(M*M) + s + t) + h*mHNL*(4*((FFf1 - FFga)*(FFf1 - FFga))*(M*M) - FFf2*(FFf2 - 2*FFgp)*(mHNL*mHNL))*((Sqrt((1 - (M*M)/s - (mHNL*mHNL)/s)*(1 - (M*M)/s - (mHNL*mHNL)/s) - (4*(M*M)*(mHNL*mHNL))/(s*s))*(M*M + s))/(4.*mHNL) + ((-(M*M) + mHNL*mHNL + s)*(-(mHNL*mHNL) + ((-(M*M) + s)*(-(M*M) + mHNL*mHNL + s))/(2.*s) + t))/(2.*mHNL*Sqrt((1 - (M*M)/s - (mHNL*mHNL)/s)*(1 - (M*M)/s - (mHNL*mHNL)/s) - (4*(M*M)*(mHNL*mHNL))/(s*s))*s))))/2.))))/(64.*(M*M)*pi*Sqrt((1 - (M*M)/s - (mHNL*mHNL)/s)*(1 - (M*M)/s - (mHNL*mHNL)/s) - (4*(M*M)*(mHNL*mHNL))/(s*s))*Sqrt((1 - (M*M)/s)*(1 - (M*M)/s))*Sqrt((M*M - s)*(M*M - s))*s*((mzprime*mzprime - t)*(mzprime*mzprime - t)))\n",
      "NameError: name 'FFf2' is not defined\n",
      " m\n"
     ]
    },
    {
     "name": "stdout",
     "output_type": "stream",
     "text": [
      "['cd ..; python3 dark_gen.py --M4 0.1 --mzprime 1 --UMU4 2.2e-07 --alpha_dark 0.4 --epsilon2 0.00046 --neval 100000 --noplot --hierarchy heavy --D_or_M dirac']\n",
      "n Traceback (most recent call last):\n",
      "  File \"/Users/matheushostert/Repos/nicgen/dark_gen.py\", line 154, in <module>\n",
      "    main(sys.argv[1:])\n",
      "  File \"/Users/matheushostert/Repos/nicgen/dark_gen.py\", line 131, in main\n",
      "    bag = MC.run_MC(BSMparams, myexp, [pdg.numu], INCLUDE_DIF=False)\n",
      "  File \"/Users/matheushostert/Repos/nicgen/dark_news/MC.py\", line 323, in run_MC\n",
      "    cases_events = [cases[i].get_MC_events() for i in range(np.size(cases))]\n",
      "  File \"/Users/matheushostert/Repos/nicgen/dark_news/MC.py\", line 323, in <listcomp>\n",
      "    cases_events = [cases[i].get_MC_events() for i in range(np.size(cases))]\n",
      "  File \"/Users/matheushostert/Repos/nicgen/dark_news/MC.py\", line 169, in get_MC_events\n",
      "    integ(batch_f, nitn=NINT_warmup, neval=NEVAL_warmup)\n",
      "  File \"_vegas.pyx\", line 1378, in random_batch\n",
      "  File \"_vegas.pyx\", line 2223, in vegas._vegas.VegasIntegrand.__init__.eval\n",
      "  File \"/Users/matheushostert/Repos/nicgen/dark_news/integrands.py\", line 427, in __call__\n",
      "    dsigma = (cij*cji*(params.epsilon*params.epsilon)*(const.eQED*const.eQED)*Sqrt((-4*(M*M)*(mHNL*mHNL) + (M*M + mHNL*mHNL - s)*(M*M + mHNL*mHNL - s))/(s*s))*(2*(FFf2*FFf2)*(M*M)*((mHNL*mHNL - t)*(mHNL*mHNL - t)) + ((mHNL*mHNL - t)*(-16*(FFf1*FFf1)*(M*M*M*M) + 16*(FFga*FFga)*(M*M*M*M) - 6*(FFf2*FFf2)*(M*M)*(mHNL*mHNL) - 8*(FFgp*FFgp)*(M*M)*(mHNL*mHNL) + 8*FFf1*FFf2*(M*M)*(-(M*M) - mHNL*mHNL + s) + 8*FFf2*FFga*(M*M)*(-(M*M) - mHNL*mHNL + s) - 4*FFf1*FFf2*h*(M*M)*Sqrt((1 - (M*M)/s - (mHNL*mHNL)/s)*(1 - (M*M)/s - (mHNL*mHNL)/s) - (4*(M*M)*(mHNL*mHNL))/(s*s))*Sqrt(s)*((-(M*M) + s)/(2.*Sqrt(s)) + (M*M + s)/(2.*Sqrt(s))) - 8*FFf2*FFga*h*(M*M)*Sqrt((1 - (M*M)/s - (mHNL*mHNL)/s)*(1 - (M*M)/s - (mHNL*mHNL)/s) - (4*(M*M)*(mHNL*mHNL))/(s*s))*Sqrt(s)*((-(M*M) + s)/(2.*Sqrt(s)) + (M*M + s)/(2.*Sqrt(s))) - 8*FFga*FFgp*h*(M*M)*Sqrt((1 - (M*M)/s - (mHNL*mHNL)/s)*(1 - (M*M)/s - (mHNL*mHNL)/s) - (4*(M*M)*(mHNL*mHNL))/(s*s))*Sqrt(s)*((-(M*M) + s)/(2.*Sqrt(s)) + (M*M + s)/(2.*Sqrt(s))) - FFf2*FFf2*(mHNL*mHNL)*(2*(M*M) - t) + 4*(FFgp*FFgp)*(mHNL*mHNL)*(2*(M*M) - t) - 8*FFf1*FFf2*(M*M)*(-(M*M) + s + t) + 8*FFf2*FFga*(M*M)*(-(M*M) + s + t) + 2*(FFf2*FFf2)*(-(M*M) - mHNL*mHNL + s)*(-(M*M) + s + t) - FFf2*FFf2*h*Sqrt((1 - (M*M)/s - (mHNL*mHNL)/s)*(1 - (M*M)/s - (mHNL*mHNL)/s) - (4*(M*M)*(mHNL*mHNL))/(s*s))*Sqrt(s)*((-(M*M) + s)/(2.*Sqrt(s)) + (M*M + s)/(2.*Sqrt(s)))*(-(M*M) + s + t) - 2*FFf2*FFgp*h*Sqrt((1 - (M*M)/s - (mHNL*mHNL)/s)*(1 - (M*M)/s - (mHNL*mHNL)/s) - (4*(M*M)*(mHNL*mHNL))/(s*s))*Sqrt(s)*((-(M*M) + s)/(2.*Sqrt(s)) + (M*M + s)/(2.*Sqrt(s)))*(-(M*M) + s + t) - 8*FFf1*FFf2*(M*M)*(-(M*M) - mHNL*mHNL + s + t) + 8*FFf2*FFga*(M*M)*(-(M*M) - mHNL*mHNL + s + t) - 2*FFf2*(-(M*M) + s)*(-4*(FFf1 + FFga)*(M*M) + ((FFf2 + 2*FFgp)*h*Sqrt((1 - (M*M)/s - (mHNL*mHNL)/s)*(1 - (M*M)/s - (mHNL*mHNL)/s) - (4*(M*M)*(mHNL*mHNL))/(s*s))*Sqrt(s)*((-(M*M) + s)/(2.*Sqrt(s)) + (M*M + s)/(2.*Sqrt(s))))/2. - FFf2*(-(M*M) - mHNL*mHNL + s + t)) - 8*(FFf2*FFf2)*h*(M*M)*mHNL*((Sqrt((1 - (M*M)/s - (mHNL*mHNL)/s)*(1 - (M*M)/s - (mHNL*mHNL)/s) - (4*(M*M)*(mHNL*mHNL))/(s*s))*(-(M*M) + s))/(4.*mHNL) - ((-(M*M) + mHNL*mHNL + s)*(-(mHNL*mHNL) + ((-(M*M) + s)*(-(M*M) + mHNL*mHNL + s))/(2.*s) + t))/(2.*mHNL*Sqrt((1 - (M*M)/s - (mHNL*mHNL)/s)*(1 - (M*M)/s - (mHNL*mHNL)/s) - (4*(M*M)*(mHNL*mHNL))/(s*s))*s)) + 8*FFf1*FFf2*h*(M*M)*mHNL*((Sqrt((1 - (M*M)/s - (mHNL*mHNL)/s)*(1 - (M*M)/s - (mHNL*mHNL)/s) - (4*(M*M)*(mHNL*mHNL))/(s*s))*(M*M + s))/(4.*mHNL) + ((-(M*M) + mHNL*mHNL + s)*(-(mHNL*mHNL) + ((-(M*M) + s)*(-(M*M) + mHNL*mHNL + s))/(2.*s) + t))/(2.*mHNL*Sqrt((1 - (M*M)/s - (mHNL*mHNL)/s)*(1 - (M*M)/s - (mHNL*mHNL)/s) - (4*(M*M)*(mHNL*mHNL))/(s*s))*s)) - 16*FFf2*FFga*h*(M*M)*mHNL*((Sqrt((1 - (M*M)/s - (mHNL*mHNL)/s)*(1 - (M*M)/s - (mHNL*mHNL)/s) - (4*(M*M)*(mHNL*mHNL))/(s*s))*(M*M + s))/(4.*mHNL) + ((-(M*M) + mHNL*mHNL + s)*(-(mHNL*mHNL) + ((-(M*M) + s)*(-(M*M) + mHNL*mHNL + s))/(2.*s) + t))/(2.*mHNL*Sqrt((1 - (M*M)/s - (mHNL*mHNL)/s)*(1 - (M*M)/s - (mHNL*mHNL)/s) - (4*(M*M)*(mHNL*mHNL))/(s*s))*s)) + 16*FFga*FFgp*h*(M*M)*mHNL*((Sqrt((1 - (M*M)/s - (mHNL*mHNL)/s)*(1 - (M*M)/s - (mHNL*mHNL)/s) - (4*(M*M)*(mHNL*mHNL))/(s*s))*(M*M + s))/(4.*mHNL) + ((-(M*M) + mHNL*mHNL + s)*(-(mHNL*mHNL) + ((-(M*M) + s)*(-(M*M) + mHNL*mHNL + s))/(2.*s) + t))/(2.*mHNL*Sqrt((1 - (M*M)/s - (mHNL*mHNL)/s)*(1 - (M*M)/s - (mHNL*mHNL)/s) - (4*(M*M)*(mHNL*mHNL))/(s*s))*s)) - 2*(FFf2*FFf2)*h*mHNL*(-(M*M) - mHNL*mHNL + s)*((Sqrt((1 - (M*M)/s - (mHNL*mHNL)/s)*(1 - (M*M)/s - (mHNL*mHNL)/s) - (4*(M*M)*(mHNL*mHNL))/(s*s))*(M*M + s))/(4.*mHNL) + ((-(M*M) + mHNL*mHNL + s)*(-(mHNL*mHNL) + ((-(M*M) + s)*(-(M*M) + mHNL*mHNL + s))/(2.*s) + t))/(2.*mHNL*Sqrt((1 - (M*M)/s - (mHNL*mHNL)/s)*(1 - (M*M)/s - (mHNL*mHNL)/s) - (4*(M*M)*(mHNL*mHNL))/(s*s))*s)) + 4*FFf2*FFgp*h*mHNL*(-(M*M) - mHNL*mHNL + s)*((Sqrt((1 - (M*M)/s - (mHNL*mHNL)/s)*(1 - (M*M)/s - (mHNL*mHNL)/s) - (4*(M*M)*(mHNL*mHNL))/(s*s))*(M*M + s))/(4.*mHNL) + ((-(M*M) + mHNL*mHNL + s)*(-(mHNL*mHNL) + ((-(M*M) + s)*(-(M*M) + mHNL*mHNL + s))/(2.*s) + t))/(2.*mHNL*Sqrt((1 - (M*M)/s - (mHNL*mHNL)/s)*(1 - (M*M)/s - (mHNL*mHNL)/s) - (4*(M*M)*(mHNL*mHNL))/(s*s))*s)) - 2*(FFf2*FFf2)*h*mHNL*(-(M*M) - mHNL*mHNL + s + t)*((Sqrt((1 - (M*M)/s - (mHNL*mHNL)/s)*(1 - (M*M)/s - (mHNL*mHNL)/s) - (4*(M*M)*(mHNL*mHNL))/(s*s))*(M*M + s))/(4.*mHNL) + ((-(M*M) + mHNL*mHNL + s)*(-(mHNL*mHNL) + ((-(M*M) + s)*(-(M*M) + mHNL*mHNL + s))/(2.*s) + t))/(2.*mHNL*Sqrt((1 - (M*M)/s - (mHNL*mHNL)/s)*(1 - (M*M)/s - (mHNL*mHNL)/s) - (4*(M*M)*(mHNL*mHNL))/(s*s))*s)) + 4*FFf2*FFgp*h*mHNL*(-(M*M) - mHNL*mHNL + s + t)*((Sqrt((1 - (M*M)/s - (mHNL*mHNL)/s)*(1 - (M*M)/s - (mHNL*mHNL)/s) - (4*(M*M)*(mHNL*mHNL))/(s*s))*(M*M + s))/(4.*mHNL) + ((-(M*M) + mHNL*mHNL + s)*(-(mHNL*mHNL) + ((-(M*M) + s)*(-(M*M) + mHNL*mHNL + s))/(2.*s) + t))/(2.*mHNL*Sqrt((1 - (M*M)/s - (mHNL*mHNL)/s)*(1 - (M*M)/s - (mHNL*mHNL)/s) - (4*(M*M)*(mHNL*mHNL))/(s*s))*s))))/2. + 2*(h*mHNL*((Sqrt((1 - (M*M)/s - (mHNL*mHNL)/s)*(1 - (M*M)/s - (mHNL*mHNL)/s) - (4*(M*M)*(mHNL*mHNL))/(s*s))*(-(M*M) + s))/(4.*mHNL) - ((-(M*M) + mHNL*mHNL + s)*(-(mHNL*mHNL) + ((-(M*M) + s)*(-(M*M) + mHNL*mHNL + s))/(2.*s) + t))/(2.*mHNL*Sqrt((1 - (M*M)/s - (mHNL*mHNL)/s)*(1 - (M*M)/s - (mHNL*mHNL)/s) - (4*(M*M)*(mHNL*mHNL))/(s*s))*s))*(8*(FFf1*FFf1)*(M*M*M*M) - 8*(FFga*FFga)*(M*M*M*M) + FFf2*FFf2*(M*M)*(mHNL*mHNL) - 4*(FFgp*FFgp)*(M*M)*(mHNL*mHNL) - 2*FFf1*FFf2*(M*M)*(-(M*M) - mHNL*mHNL + s) + 4*FFga*FFgp*(M*M)*(-(M*M) - mHNL*mHNL + s) - (FFf2*FFf2*(mHNL*mHNL)*(2*(M*M) - t))/2. + 2*(FFgp*FFgp)*(mHNL*mHNL)*(2*(M*M) - t) + 2*FFf1*FFf2*(M*M)*(-(M*M) + s + t) - 4*FFga*FFgp*(M*M)*(-(M*M) + s + t) + 4*FFf1*FFf2*(M*M)*(-(M*M) - mHNL*mHNL + s + t) - 4*FFf2*FFga*(M*M)*(-(M*M) - mHNL*mHNL + s + t) + (FFf2*FFf2*(-(M*M) + s + t)*(-(M*M) - mHNL*mHNL + s + t))/2. - FFf2*FFgp*(-(M*M) + s + t)*(-(M*M) - mHNL*mHNL + s + t) + FFf2*(-(M*M) + s)*(-4*(FFf1 + FFga)*(M*M) + ((FFf2 + 2*FFgp)*(-(M*M) - mHNL*mHNL + s))/2. - FFf2*(-(M*M) - mHNL*mHNL + s + t))) - 2*(((-(M*M) + s)*(-2*((FFf1 + FFga)*(FFf1 + FFga))*(M*M)*(-(M*M) - mHNL*mHNL + s) + 2*((FFf1 + FFga)*(FFf1 + FFga))*h*(M*M)*Sqrt((1 - (M*M)/s - (mHNL*mHNL)/s)*(1 - (M*M)/s - (mHNL*mHNL)/s) - (4*(M*M)*(mHNL*mHNL))/(s*s))*Sqrt(s)*((-(M*M) + s)/(2.*Sqrt(s)) + (M*M + s)/(2.*Sqrt(s))) + mHNL*mHNL*(2*(FFf1*FFf2 + 2*FFga*(FFf2 + FFgp))*(M*M) - (FFf2*(FFf2 + 2*FFgp)*h*Sqrt((1 - (M*M)/s - (mHNL*mHNL)/s)*(1 - (M*M)/s - (mHNL*mHNL)/s) - (4*(M*M)*(mHNL*mHNL))/(s*s))*Sqrt(s)*((-(M*M) + s)/(2.*Sqrt(s)) + (M*M + s)/(2.*Sqrt(s))))/2.)))/2. + ((-(M*M) - mHNL*mHNL + s + t)*(-2*(mHNL*mHNL)*((FFf1*FFf2 + 2*FFga*(-FFf2 + FFgp))*(M*M) - (FFf2*FFf2*(-(M*M) + s))/2.) - 2*((FFf1 - FFga)*(FFf1 - FFga))*(M*M)*(-(M*M) + s + t) + h*mHNL*(4*((FFf1 - FFga)*(FFf1 - FFga))*(M*M) - FFf2*(FFf2 - 2*FFgp)*(mHNL*mHNL))*((Sqrt((1 - (M*M)/s - (mHNL*mHNL)/s)*(1 - (M*M)/s - (mHNL*mHNL)/s) - (4*(M*M)*(mHNL*mHNL))/(s*s))*(M*M + s))/(4.*mHNL) + ((-(M*M) + mHNL*mHNL + s)*(-(mHNL*mHNL) + ((-(M*M) + s)*(-(M*M) + mHNL*mHNL + s))/(2.*s) + t))/(2.*mHNL*Sqrt((1 - (M*M)/s - (mHNL*mHNL)/s)*(1 - (M*M)/s - (mHNL*mHNL)/s) - (4*(M*M)*(mHNL*mHNL))/(s*s))*s))))/2.))))/(64.*(M*M)*pi*Sqrt((1 - (M*M)/s - (mHNL*mHNL)/s)*(1 - (M*M)/s - (mHNL*mHNL)/s) - (4*(M*M)*(mHNL*mHNL))/(s*s))*Sqrt((1 - (M*M)/s)*(1 - (M*M)/s))*Sqrt((M*M - s)*(M*M - s))*s*((mzprime*mzprime - t)*(mzprime*mzprime - t)))\n",
      "NameError: name 'FFf2' is not defined\n",
      " m\n"
     ]
    },
    {
     "name": "stdout",
     "output_type": "stream",
     "text": [
      "['cd ..; python3 dark_gen.py --M4 0.1 --mzprime 5 --UMU4 2.2e-07 --alpha_dark 0.4 --epsilon2 0.00046 --neval 100000 --noplot --hierarchy heavy --D_or_M dirac']\n",
      "n Traceback (most recent call last):\n",
      "  File \"/Users/matheushostert/Repos/nicgen/dark_gen.py\", line 154, in <module>\n",
      "    main(sys.argv[1:])\n",
      "  File \"/Users/matheushostert/Repos/nicgen/dark_gen.py\", line 131, in main\n",
      "    bag = MC.run_MC(BSMparams, myexp, [pdg.numu], INCLUDE_DIF=False)\n",
      "  File \"/Users/matheushostert/Repos/nicgen/dark_news/MC.py\", line 323, in run_MC\n",
      "    cases_events = [cases[i].get_MC_events() for i in range(np.size(cases))]\n",
      "  File \"/Users/matheushostert/Repos/nicgen/dark_news/MC.py\", line 323, in <listcomp>\n",
      "    cases_events = [cases[i].get_MC_events() for i in range(np.size(cases))]\n",
      "  File \"/Users/matheushostert/Repos/nicgen/dark_news/MC.py\", line 169, in get_MC_events\n",
      "    integ(batch_f, nitn=NINT_warmup, neval=NEVAL_warmup)\n",
      "  File \"_vegas.pyx\", line 1378, in random_batch\n",
      "  File \"_vegas.pyx\", line 2223, in vegas._vegas.VegasIntegrand.__init__.eval\n",
      "  File \"/Users/matheushostert/Repos/nicgen/dark_news/integrands.py\", line 427, in __call__\n",
      "    dsigma = (cij*cji*(params.epsilon*params.epsilon)*(const.eQED*const.eQED)*Sqrt((-4*(M*M)*(mHNL*mHNL) + (M*M + mHNL*mHNL - s)*(M*M + mHNL*mHNL - s))/(s*s))*(2*(FFf2*FFf2)*(M*M)*((mHNL*mHNL - t)*(mHNL*mHNL - t)) + ((mHNL*mHNL - t)*(-16*(FFf1*FFf1)*(M*M*M*M) + 16*(FFga*FFga)*(M*M*M*M) - 6*(FFf2*FFf2)*(M*M)*(mHNL*mHNL) - 8*(FFgp*FFgp)*(M*M)*(mHNL*mHNL) + 8*FFf1*FFf2*(M*M)*(-(M*M) - mHNL*mHNL + s) + 8*FFf2*FFga*(M*M)*(-(M*M) - mHNL*mHNL + s) - 4*FFf1*FFf2*h*(M*M)*Sqrt((1 - (M*M)/s - (mHNL*mHNL)/s)*(1 - (M*M)/s - (mHNL*mHNL)/s) - (4*(M*M)*(mHNL*mHNL))/(s*s))*Sqrt(s)*((-(M*M) + s)/(2.*Sqrt(s)) + (M*M + s)/(2.*Sqrt(s))) - 8*FFf2*FFga*h*(M*M)*Sqrt((1 - (M*M)/s - (mHNL*mHNL)/s)*(1 - (M*M)/s - (mHNL*mHNL)/s) - (4*(M*M)*(mHNL*mHNL))/(s*s))*Sqrt(s)*((-(M*M) + s)/(2.*Sqrt(s)) + (M*M + s)/(2.*Sqrt(s))) - 8*FFga*FFgp*h*(M*M)*Sqrt((1 - (M*M)/s - (mHNL*mHNL)/s)*(1 - (M*M)/s - (mHNL*mHNL)/s) - (4*(M*M)*(mHNL*mHNL))/(s*s))*Sqrt(s)*((-(M*M) + s)/(2.*Sqrt(s)) + (M*M + s)/(2.*Sqrt(s))) - FFf2*FFf2*(mHNL*mHNL)*(2*(M*M) - t) + 4*(FFgp*FFgp)*(mHNL*mHNL)*(2*(M*M) - t) - 8*FFf1*FFf2*(M*M)*(-(M*M) + s + t) + 8*FFf2*FFga*(M*M)*(-(M*M) + s + t) + 2*(FFf2*FFf2)*(-(M*M) - mHNL*mHNL + s)*(-(M*M) + s + t) - FFf2*FFf2*h*Sqrt((1 - (M*M)/s - (mHNL*mHNL)/s)*(1 - (M*M)/s - (mHNL*mHNL)/s) - (4*(M*M)*(mHNL*mHNL))/(s*s))*Sqrt(s)*((-(M*M) + s)/(2.*Sqrt(s)) + (M*M + s)/(2.*Sqrt(s)))*(-(M*M) + s + t) - 2*FFf2*FFgp*h*Sqrt((1 - (M*M)/s - (mHNL*mHNL)/s)*(1 - (M*M)/s - (mHNL*mHNL)/s) - (4*(M*M)*(mHNL*mHNL))/(s*s))*Sqrt(s)*((-(M*M) + s)/(2.*Sqrt(s)) + (M*M + s)/(2.*Sqrt(s)))*(-(M*M) + s + t) - 8*FFf1*FFf2*(M*M)*(-(M*M) - mHNL*mHNL + s + t) + 8*FFf2*FFga*(M*M)*(-(M*M) - mHNL*mHNL + s + t) - 2*FFf2*(-(M*M) + s)*(-4*(FFf1 + FFga)*(M*M) + ((FFf2 + 2*FFgp)*h*Sqrt((1 - (M*M)/s - (mHNL*mHNL)/s)*(1 - (M*M)/s - (mHNL*mHNL)/s) - (4*(M*M)*(mHNL*mHNL))/(s*s))*Sqrt(s)*((-(M*M) + s)/(2.*Sqrt(s)) + (M*M + s)/(2.*Sqrt(s))))/2. - FFf2*(-(M*M) - mHNL*mHNL + s + t)) - 8*(FFf2*FFf2)*h*(M*M)*mHNL*((Sqrt((1 - (M*M)/s - (mHNL*mHNL)/s)*(1 - (M*M)/s - (mHNL*mHNL)/s) - (4*(M*M)*(mHNL*mHNL))/(s*s))*(-(M*M) + s))/(4.*mHNL) - ((-(M*M) + mHNL*mHNL + s)*(-(mHNL*mHNL) + ((-(M*M) + s)*(-(M*M) + mHNL*mHNL + s))/(2.*s) + t))/(2.*mHNL*Sqrt((1 - (M*M)/s - (mHNL*mHNL)/s)*(1 - (M*M)/s - (mHNL*mHNL)/s) - (4*(M*M)*(mHNL*mHNL))/(s*s))*s)) + 8*FFf1*FFf2*h*(M*M)*mHNL*((Sqrt((1 - (M*M)/s - (mHNL*mHNL)/s)*(1 - (M*M)/s - (mHNL*mHNL)/s) - (4*(M*M)*(mHNL*mHNL))/(s*s))*(M*M + s))/(4.*mHNL) + ((-(M*M) + mHNL*mHNL + s)*(-(mHNL*mHNL) + ((-(M*M) + s)*(-(M*M) + mHNL*mHNL + s))/(2.*s) + t))/(2.*mHNL*Sqrt((1 - (M*M)/s - (mHNL*mHNL)/s)*(1 - (M*M)/s - (mHNL*mHNL)/s) - (4*(M*M)*(mHNL*mHNL))/(s*s))*s)) - 16*FFf2*FFga*h*(M*M)*mHNL*((Sqrt((1 - (M*M)/s - (mHNL*mHNL)/s)*(1 - (M*M)/s - (mHNL*mHNL)/s) - (4*(M*M)*(mHNL*mHNL))/(s*s))*(M*M + s))/(4.*mHNL) + ((-(M*M) + mHNL*mHNL + s)*(-(mHNL*mHNL) + ((-(M*M) + s)*(-(M*M) + mHNL*mHNL + s))/(2.*s) + t))/(2.*mHNL*Sqrt((1 - (M*M)/s - (mHNL*mHNL)/s)*(1 - (M*M)/s - (mHNL*mHNL)/s) - (4*(M*M)*(mHNL*mHNL))/(s*s))*s)) + 16*FFga*FFgp*h*(M*M)*mHNL*((Sqrt((1 - (M*M)/s - (mHNL*mHNL)/s)*(1 - (M*M)/s - (mHNL*mHNL)/s) - (4*(M*M)*(mHNL*mHNL))/(s*s))*(M*M + s))/(4.*mHNL) + ((-(M*M) + mHNL*mHNL + s)*(-(mHNL*mHNL) + ((-(M*M) + s)*(-(M*M) + mHNL*mHNL + s))/(2.*s) + t))/(2.*mHNL*Sqrt((1 - (M*M)/s - (mHNL*mHNL)/s)*(1 - (M*M)/s - (mHNL*mHNL)/s) - (4*(M*M)*(mHNL*mHNL))/(s*s))*s)) - 2*(FFf2*FFf2)*h*mHNL*(-(M*M) - mHNL*mHNL + s)*((Sqrt((1 - (M*M)/s - (mHNL*mHNL)/s)*(1 - (M*M)/s - (mHNL*mHNL)/s) - (4*(M*M)*(mHNL*mHNL))/(s*s))*(M*M + s))/(4.*mHNL) + ((-(M*M) + mHNL*mHNL + s)*(-(mHNL*mHNL) + ((-(M*M) + s)*(-(M*M) + mHNL*mHNL + s))/(2.*s) + t))/(2.*mHNL*Sqrt((1 - (M*M)/s - (mHNL*mHNL)/s)*(1 - (M*M)/s - (mHNL*mHNL)/s) - (4*(M*M)*(mHNL*mHNL))/(s*s))*s)) + 4*FFf2*FFgp*h*mHNL*(-(M*M) - mHNL*mHNL + s)*((Sqrt((1 - (M*M)/s - (mHNL*mHNL)/s)*(1 - (M*M)/s - (mHNL*mHNL)/s) - (4*(M*M)*(mHNL*mHNL))/(s*s))*(M*M + s))/(4.*mHNL) + ((-(M*M) + mHNL*mHNL + s)*(-(mHNL*mHNL) + ((-(M*M) + s)*(-(M*M) + mHNL*mHNL + s))/(2.*s) + t))/(2.*mHNL*Sqrt((1 - (M*M)/s - (mHNL*mHNL)/s)*(1 - (M*M)/s - (mHNL*mHNL)/s) - (4*(M*M)*(mHNL*mHNL))/(s*s))*s)) - 2*(FFf2*FFf2)*h*mHNL*(-(M*M) - mHNL*mHNL + s + t)*((Sqrt((1 - (M*M)/s - (mHNL*mHNL)/s)*(1 - (M*M)/s - (mHNL*mHNL)/s) - (4*(M*M)*(mHNL*mHNL))/(s*s))*(M*M + s))/(4.*mHNL) + ((-(M*M) + mHNL*mHNL + s)*(-(mHNL*mHNL) + ((-(M*M) + s)*(-(M*M) + mHNL*mHNL + s))/(2.*s) + t))/(2.*mHNL*Sqrt((1 - (M*M)/s - (mHNL*mHNL)/s)*(1 - (M*M)/s - (mHNL*mHNL)/s) - (4*(M*M)*(mHNL*mHNL))/(s*s))*s)) + 4*FFf2*FFgp*h*mHNL*(-(M*M) - mHNL*mHNL + s + t)*((Sqrt((1 - (M*M)/s - (mHNL*mHNL)/s)*(1 - (M*M)/s - (mHNL*mHNL)/s) - (4*(M*M)*(mHNL*mHNL))/(s*s))*(M*M + s))/(4.*mHNL) + ((-(M*M) + mHNL*mHNL + s)*(-(mHNL*mHNL) + ((-(M*M) + s)*(-(M*M) + mHNL*mHNL + s))/(2.*s) + t))/(2.*mHNL*Sqrt((1 - (M*M)/s - (mHNL*mHNL)/s)*(1 - (M*M)/s - (mHNL*mHNL)/s) - (4*(M*M)*(mHNL*mHNL))/(s*s))*s))))/2. + 2*(h*mHNL*((Sqrt((1 - (M*M)/s - (mHNL*mHNL)/s)*(1 - (M*M)/s - (mHNL*mHNL)/s) - (4*(M*M)*(mHNL*mHNL))/(s*s))*(-(M*M) + s))/(4.*mHNL) - ((-(M*M) + mHNL*mHNL + s)*(-(mHNL*mHNL) + ((-(M*M) + s)*(-(M*M) + mHNL*mHNL + s))/(2.*s) + t))/(2.*mHNL*Sqrt((1 - (M*M)/s - (mHNL*mHNL)/s)*(1 - (M*M)/s - (mHNL*mHNL)/s) - (4*(M*M)*(mHNL*mHNL))/(s*s))*s))*(8*(FFf1*FFf1)*(M*M*M*M) - 8*(FFga*FFga)*(M*M*M*M) + FFf2*FFf2*(M*M)*(mHNL*mHNL) - 4*(FFgp*FFgp)*(M*M)*(mHNL*mHNL) - 2*FFf1*FFf2*(M*M)*(-(M*M) - mHNL*mHNL + s) + 4*FFga*FFgp*(M*M)*(-(M*M) - mHNL*mHNL + s) - (FFf2*FFf2*(mHNL*mHNL)*(2*(M*M) - t))/2. + 2*(FFgp*FFgp)*(mHNL*mHNL)*(2*(M*M) - t) + 2*FFf1*FFf2*(M*M)*(-(M*M) + s + t) - 4*FFga*FFgp*(M*M)*(-(M*M) + s + t) + 4*FFf1*FFf2*(M*M)*(-(M*M) - mHNL*mHNL + s + t) - 4*FFf2*FFga*(M*M)*(-(M*M) - mHNL*mHNL + s + t) + (FFf2*FFf2*(-(M*M) + s + t)*(-(M*M) - mHNL*mHNL + s + t))/2. - FFf2*FFgp*(-(M*M) + s + t)*(-(M*M) - mHNL*mHNL + s + t) + FFf2*(-(M*M) + s)*(-4*(FFf1 + FFga)*(M*M) + ((FFf2 + 2*FFgp)*(-(M*M) - mHNL*mHNL + s))/2. - FFf2*(-(M*M) - mHNL*mHNL + s + t))) - 2*(((-(M*M) + s)*(-2*((FFf1 + FFga)*(FFf1 + FFga))*(M*M)*(-(M*M) - mHNL*mHNL + s) + 2*((FFf1 + FFga)*(FFf1 + FFga))*h*(M*M)*Sqrt((1 - (M*M)/s - (mHNL*mHNL)/s)*(1 - (M*M)/s - (mHNL*mHNL)/s) - (4*(M*M)*(mHNL*mHNL))/(s*s))*Sqrt(s)*((-(M*M) + s)/(2.*Sqrt(s)) + (M*M + s)/(2.*Sqrt(s))) + mHNL*mHNL*(2*(FFf1*FFf2 + 2*FFga*(FFf2 + FFgp))*(M*M) - (FFf2*(FFf2 + 2*FFgp)*h*Sqrt((1 - (M*M)/s - (mHNL*mHNL)/s)*(1 - (M*M)/s - (mHNL*mHNL)/s) - (4*(M*M)*(mHNL*mHNL))/(s*s))*Sqrt(s)*((-(M*M) + s)/(2.*Sqrt(s)) + (M*M + s)/(2.*Sqrt(s))))/2.)))/2. + ((-(M*M) - mHNL*mHNL + s + t)*(-2*(mHNL*mHNL)*((FFf1*FFf2 + 2*FFga*(-FFf2 + FFgp))*(M*M) - (FFf2*FFf2*(-(M*M) + s))/2.) - 2*((FFf1 - FFga)*(FFf1 - FFga))*(M*M)*(-(M*M) + s + t) + h*mHNL*(4*((FFf1 - FFga)*(FFf1 - FFga))*(M*M) - FFf2*(FFf2 - 2*FFgp)*(mHNL*mHNL))*((Sqrt((1 - (M*M)/s - (mHNL*mHNL)/s)*(1 - (M*M)/s - (mHNL*mHNL)/s) - (4*(M*M)*(mHNL*mHNL))/(s*s))*(M*M + s))/(4.*mHNL) + ((-(M*M) + mHNL*mHNL + s)*(-(mHNL*mHNL) + ((-(M*M) + s)*(-(M*M) + mHNL*mHNL + s))/(2.*s) + t))/(2.*mHNL*Sqrt((1 - (M*M)/s - (mHNL*mHNL)/s)*(1 - (M*M)/s - (mHNL*mHNL)/s) - (4*(M*M)*(mHNL*mHNL))/(s*s))*s))))/2.))))/(64.*(M*M)*pi*Sqrt((1 - (M*M)/s - (mHNL*mHNL)/s)*(1 - (M*M)/s - (mHNL*mHNL)/s) - (4*(M*M)*(mHNL*mHNL))/(s*s))*Sqrt((1 - (M*M)/s)*(1 - (M*M)/s))*Sqrt((M*M - s)*(M*M - s))*s*((mzprime*mzprime - t)*(mzprime*mzprime - t)))\n",
      "NameError: name 'FFf2' is not defined\n",
      " m\n"
     ]
    }
   ],
   "source": [
    "#generation part\n",
    "if produce_samples:\n",
    "    from dark_nus_utils import produce_samples_without_scanning\n",
    "    produce_samples_without_scanning(case, D_or_M, neval=100000)\n",
    "    \n",
    "if produce_scan_sample:\n",
    "    from dark_nus_utils import produce_scan_sample\n",
    "    produce_scan_sample(case, D_or_M, neval=1000000)"
   ]
  },
  {
   "cell_type": "code",
   "execution_count": null,
   "metadata": {},
   "outputs": [],
   "source": []
  }
 ],
 "metadata": {
  "kernelspec": {
   "display_name": "Python 3",
   "language": "python",
   "name": "python3"
  },
  "language_info": {
   "codemirror_mode": {
    "name": "ipython",
    "version": 3
   },
   "file_extension": ".py",
   "mimetype": "text/x-python",
   "name": "python",
   "nbconvert_exporter": "python",
   "pygments_lexer": "ipython3",
   "version": "3.9.2"
  }
 },
 "nbformat": 4,
 "nbformat_minor": 2
}
