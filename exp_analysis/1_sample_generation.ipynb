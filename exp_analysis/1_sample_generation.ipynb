{
 "cells": [
  {
   "cell_type": "markdown",
   "metadata": {},
   "source": [
    "# This notebook generates the samples "
   ]
  },
  {
   "cell_type": "code",
   "execution_count": 1,
   "metadata": {},
   "outputs": [],
   "source": [
    "%load_ext autoreload\n",
    "%autoreload 2"
   ]
  },
  {
   "cell_type": "code",
   "execution_count": 2,
   "metadata": {},
   "outputs": [],
   "source": [
    "from parameters_dict import physics_parameters"
   ]
  },
  {
   "cell_type": "code",
   "execution_count": 3,
   "metadata": {},
   "outputs": [],
   "source": [
    "case = 'light'\n",
    "D_or_M = 'majorana'\n",
    "produce_samples = True\n",
    "produce_scan_sample = True"
   ]
  },
  {
   "cell_type": "code",
   "execution_count": 5,
   "metadata": {
    "scrolled": true
   },
   "outputs": [
    {
     "name": "stdout",
     "output_type": "stream",
     "text": [
      "ERROR! Mass spectrum not allowed.\n",
      "\n",
      "Model used 3+1\n",
      "\n",
      "Model used 3+1\n",
      "\n",
      "Model used 3+1\n",
      "\n",
      "Model used 3+1\n",
      "\n",
      "Model used 3+1\n",
      "\n",
      "ERROR! Mass spectrum not allowed.\n",
      "\n",
      "Model used 3+1\n",
      "\n",
      "Model used 3+1\n",
      "\n",
      "Model used 3+1\n",
      "\n",
      "Model used 3+1\n",
      "\n",
      "Model used 3+1\n",
      "\n",
      "Model used 3+1\n",
      "\n",
      "Model used 3+1\n",
      "\n",
      "Model used 3+1\n",
      "\n",
      "Model used 3+1\n",
      "\n",
      "** Running in scan mode **\n",
      "\n",
      "Umu4 = 8e-09\n",
      "epsilon2 = None\n",
      "alpha_dark = 0.25\n",
      "chi = 0.00018878572981434393\n",
      "TEST -- sum of weights =  -2.967887124617595e-39\n",
      "TEST -- events/12t /13e20 POT =  -8.597319649345108e-14\n",
      "\n"
     ]
    }
   ],
   "source": [
    "#generation part\n",
    "if produce_samples:\n",
    "    from dark_nus_utils import produce_samples_without_scanning\n",
    "    produce_samples_without_scanning(case, D_or_M, neval=100)\n",
    "\n",
    "if produce_scan_sample:\n",
    "    from dark_nus_utils import produce_scan_sample\n",
    "    produce_scan_sample(case, D_or_M, neval=1000)"
   ]
  },
  {
   "cell_type": "code",
   "execution_count": null,
   "metadata": {},
   "outputs": [],
   "source": []
  }
 ],
 "metadata": {
  "kernelspec": {
   "display_name": "Python 3",
   "language": "python",
   "name": "python3"
  },
  "language_info": {
   "codemirror_mode": {
    "name": "ipython",
    "version": 3
   },
   "file_extension": ".py",
   "mimetype": "text/x-python",
   "name": "python",
   "nbconvert_exporter": "python",
   "pygments_lexer": "ipython3",
   "version": "3.9.2"
  }
 },
 "nbformat": 4,
 "nbformat_minor": 2
}
