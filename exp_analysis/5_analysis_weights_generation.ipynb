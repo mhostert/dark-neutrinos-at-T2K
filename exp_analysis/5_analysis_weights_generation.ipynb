{
 "cells": [
  {
   "cell_type": "markdown",
   "metadata": {},
   "source": [
    "# Producing weights for likelihood grid calculation"
   ]
  },
  {
   "cell_type": "code",
   "execution_count": 1,
   "metadata": {},
   "outputs": [],
   "source": [
    "%load_ext autoreload\n",
    "%autoreload 2"
   ]
  },
  {
   "cell_type": "code",
   "execution_count": 2,
   "metadata": {},
   "outputs": [],
   "source": [
    "import matplotlib.pyplot as plt\n",
    "from matplotlib.colors import LogNorm\n",
    "import numpy as np\n",
    "import pandas as pd\n",
    "import pickle\n",
    "import gc\n",
    "from copy import deepcopy\n",
    "\n",
    "from exp_analysis_class import full_likelihood\n",
    "from dark_nus_utils import load_datasets\n",
    "from const import alphaQED\n",
    "from analyses_dict import analyses\n",
    "from parameters_dict import *\n",
    "from dark_nus_utils import store_events_weights, retrieve_events_weights"
   ]
  },
  {
   "cell_type": "code",
   "execution_count": 3,
   "metadata": {},
   "outputs": [],
   "source": [
    "D_or_M = 'dirac'\n",
    "hierarchy = 'heavy'"
   ]
  },
  {
   "cell_type": "code",
   "execution_count": 4,
   "metadata": {},
   "outputs": [],
   "source": [
    "# my_exp_analyses = load_datasets(hierarchies=['heavy', 'light'],\n",
    "#                                   D_or_Ms=D_or_M,\n",
    "#                                   fluxes=['FHC', 'RHC'],\n",
    "#                                 timeit=True, \n",
    "#                                 direct_load_objects=False,\n",
    "#                                 load_grid=False,\n",
    "#                                 dump=True,\n",
    "#                                 nentries=1000000)"
   ]
  },
  {
   "cell_type": "code",
   "execution_count": 5,
   "metadata": {},
   "outputs": [
    {
     "name": "stdout",
     "output_type": "stream",
     "text": [
      "heavy dirac FHC\n",
      "Wall time: 0.608635663986206 s, CPU time: 0.5961472859999999\n",
      "heavy dirac RHC\n",
      "Wall time: 0.5844032764434814 s, CPU time: 0.573378188\n"
     ]
    }
   ],
   "source": [
    "my_exp_analyses = load_datasets(\n",
    "                                hierarchies=hierarchy, \n",
    "                                D_or_Ms=D_or_M, \n",
    "                                fluxes=['FHC', 'RHC'],\n",
    "                                timeit=True, \n",
    "                                direct_load_objects=True,\n",
    "                                load_grid=False,\n",
    "                                dump=False,\n",
    "                                nentries=1000000)"
   ]
  },
  {
   "cell_type": "markdown",
   "metadata": {},
   "source": [
    "## Produce event weights on a grid"
   ]
  },
  {
   "cell_type": "code",
   "execution_count": 6,
   "metadata": {},
   "outputs": [
    {
     "name": "stdout",
     "output_type": "stream",
     "text": [
      "mz_epsilon tpc FHC\n",
      "mz_epsilon tpc RHC\n"
     ]
    }
   ],
   "source": [
    "for case_name, case in likelihood_calculation_pars.items():\n",
    "    if hierarchy in case_name:\n",
    "        name = case['name']\n",
    "        if name != 'mz_epsilon':\n",
    "            continue\n",
    "        hierarchy = case['hierarchy']\n",
    "        analysis_name = case['analysis_name']\n",
    "        pars = case['pars']\n",
    "        additional_vars = case['additional_vars']\n",
    "        for nu_mode in ['FHC', 'RHC']:\n",
    "        # for nu_mode in ['RHC']:\n",
    "            print(name, analysis_name, nu_mode)\n",
    "            out = my_exp_analyses[f'{hierarchy}_{D_or_M}_{nu_mode}'].compute_expectation(\n",
    "                                                                my_exp_analyses[f'{hierarchy}_{D_or_M}_{nu_mode}'].df_base, \n",
    "                                                                **pars,\n",
    "                                                                ntarget_per_material=None, \n",
    "                                                                pot=None,\n",
    "                                                                selection_query=analyses[analysis_name][nu_mode]['selection'],\n",
    "                                                                efficiency_factor=None,\n",
    "                                                                no_pot_efficiency=True)\n",
    "            store_events_weights(expectation_output=out, \n",
    "                                 analysis=analyses[analysis_name][nu_mode],\n",
    "                                 pars=pars,\n",
    "                                 name=f'{hierarchy}_{name}',\n",
    "                                 analysis_name=analysis_name,\n",
    "                                 nu_mode=nu_mode,\n",
    "                                 additional_vars=additional_vars)\n",
    "            del out\n",
    "            gc.collect()"
   ]
  },
  {
   "cell_type": "markdown",
   "metadata": {},
   "source": [
    "# Produce event weights on an arbitrary set of point"
   ]
  },
  {
   "cell_type": "markdown",
   "metadata": {},
   "source": [
    "## $M_{Z^\\prime}$ vs $\\varepsilon$"
   ]
  },
  {
   "cell_type": "code",
   "execution_count": 6,
   "metadata": {},
   "outputs": [
    {
     "data": {
      "text/plain": [
       "{'m4': 0.1,\n",
       " 'mz': array([ 0.13      ,  0.16338399,  0.20534098,  0.25807252,  0.32434552,\n",
       "         0.40763742,  0.51231868,  0.64388206,  0.80923092,  1.01704134,\n",
       "         1.27821746,  1.60646358,  2.01900328,  2.53748313,  3.18910856,\n",
       "         4.00807134,  5.03734368,  6.33093306,  7.95671607, 10.        ]),\n",
       " 'alpha_dark': 0.4,\n",
       " 'epsilon': array([1.00000000e-05, 1.46779927e-05, 2.15443469e-05, 3.16227766e-05,\n",
       "        4.64158883e-05, 6.81292069e-05, 1.00000000e-04, 1.46779927e-04,\n",
       "        2.15443469e-04, 3.16227766e-04, 4.64158883e-04, 6.81292069e-04,\n",
       "        1.00000000e-03, 1.46779927e-03, 2.15443469e-03, 3.16227766e-03,\n",
       "        4.64158883e-03, 6.81292069e-03, 1.00000000e-02, 1.46779927e-02,\n",
       "        2.15443469e-02, 3.16227766e-02, 4.64158883e-02, 6.81292069e-02,\n",
       "        1.00000000e-01]),\n",
       " 'Umu4_2': 2.2e-07,\n",
       " 'Ud4_2': 1}"
      ]
     },
     "execution_count": 6,
     "metadata": {},
     "output_type": "execute_result"
    }
   ],
   "source": [
    "likelihood_calculation_pars['heavy_mz_epsilon']['pars']"
   ]
  },
  {
   "cell_type": "code",
   "execution_count": 7,
   "metadata": {},
   "outputs": [],
   "source": [
    "xy_grid_base = np.exp(np.mgrid[np.log(likelihood_calculation_pars['heavy_mz_epsilon']['pars']['mz'][0]):np.log(likelihood_calculation_pars['heavy_mz_epsilon']['pars']['mz'][-1]):11j,\n",
    "         np.log(likelihood_calculation_pars['heavy_mz_epsilon']['pars']['epsilon'][0]):np.log(likelihood_calculation_pars['heavy_mz_epsilon']['pars']['epsilon'][-1]):10j])\n",
    "xy_grid_base = xy_grid_base.reshape(2, -1)"
   ]
  },
  {
   "cell_type": "code",
   "execution_count": 8,
   "metadata": {},
   "outputs": [],
   "source": [
    "xy_grid_fine = np.exp(np.mgrid[np.log(likelihood_calculation_pars['heavy_mz_epsilon']['pars']['mz'][0]):np.log(likelihood_calculation_pars['heavy_mz_epsilon']['pars']['mz'][-1]):32j,\n",
    "         np.log(likelihood_calculation_pars['heavy_mz_epsilon']['pars']['epsilon'][0]):np.log(likelihood_calculation_pars['heavy_mz_epsilon']['pars']['epsilon'][-1]):29j])\n",
    "xy_grid_fine = xy_grid_fine.reshape(2, -1)"
   ]
  },
  {
   "cell_type": "code",
   "execution_count": 9,
   "metadata": {
    "tags": []
   },
   "outputs": [],
   "source": [
    "def in_boundary(point_x, point_y, a, b):\n",
    "    return (np.log10(point_y) - a[1]) <= (np.log10(point_x)-a[0])*(b[1]-a[1])/(b[0]-a[0])"
   ]
  },
  {
   "cell_type": "code",
   "execution_count": 10,
   "metadata": {},
   "outputs": [],
   "source": [
    "in_boundary1 = in_boundary(xy_grid_fine[0], xy_grid_fine[1], a=np.log10([0.13, 3e-3]), b=np.log10([0.8, 1e-1]))\n",
    "in_boundary2 = in_boundary(xy_grid_fine[0], xy_grid_fine[1], a=np.log10([0.13, 1e-5]), b=np.log10([10, 1e-1]))\n",
    "mask = in_boundary1 & ~(in_boundary2)\n",
    "xy_grid_fine = xy_grid_fine[:, mask]"
   ]
  },
  {
   "cell_type": "code",
   "execution_count": 11,
   "metadata": {},
   "outputs": [],
   "source": [
    "xy_grid = np.concatenate((xy_grid_fine, xy_grid_base), axis=1)"
   ]
  },
  {
   "cell_type": "code",
   "execution_count": 12,
   "metadata": {},
   "outputs": [
    {
     "data": {
      "text/plain": [
       "[]"
      ]
     },
     "execution_count": 12,
     "metadata": {},
     "output_type": "execute_result"
    },
    {
     "data": {
      "image/png": "[encoded data removed]",
      "text/plain": [
       "<Figure size 432x288 with 1 Axes>"
      ]
     },
     "metadata": {
      "needs_background": "light"
     },
     "output_type": "display_data"
    }
   ],
   "source": [
    "plt.plot(xy_grid[0], xy_grid[1], '.')\n",
    "plt.plot(0.13, 3e-3, 'r*')\n",
    "plt.plot(0.8, 1e-1, 'r*')\n",
    "plt.plot(0.13, 1e-5, 'r*')\n",
    "plt.plot(10, 1e-1, 'r*')\n",
    "plt.loglog()"
   ]
  },
  {
   "cell_type": "code",
   "execution_count": 13,
   "metadata": {},
   "outputs": [
    {
     "data": {
      "text/plain": [
       "(2, 492)"
      ]
     },
     "execution_count": 13,
     "metadata": {},
     "output_type": "execute_result"
    }
   ],
   "source": [
    "xy_grid.shape"
   ]
  },
  {
   "cell_type": "code",
   "execution_count": 14,
   "metadata": {
    "collapsed": true,
    "jupyter": {
     "outputs_hidden": true
    },
    "tags": []
   },
   "outputs": [
    {
     "name": "stdout",
     "output_type": "stream",
     "text": [
      "FHC\n",
      "0\n",
      "10\n",
      "20\n",
      "30\n",
      "40\n",
      "50\n",
      "60\n",
      "70\n",
      "80\n",
      "90\n",
      "100\n",
      "110\n",
      "120\n",
      "130\n",
      "140\n",
      "150\n",
      "160\n",
      "170\n",
      "180\n",
      "190\n",
      "200\n",
      "210\n",
      "220\n",
      "230\n",
      "240\n",
      "250\n",
      "260\n",
      "270\n",
      "280\n",
      "290\n",
      "300\n",
      "310\n",
      "320\n",
      "330\n",
      "340\n",
      "350\n",
      "360\n",
      "370\n",
      "380\n",
      "390\n",
      "400\n",
      "410\n",
      "420\n",
      "430\n",
      "440\n",
      "450\n",
      "460\n",
      "470\n",
      "480\n",
      "490\n",
      "RHC\n",
      "0\n",
      "10\n",
      "20\n",
      "30\n",
      "40\n",
      "50\n",
      "60\n",
      "70\n",
      "80\n",
      "90\n",
      "100\n",
      "110\n",
      "120\n",
      "130\n",
      "140\n",
      "150\n",
      "160\n",
      "170\n",
      "180\n",
      "190\n",
      "200\n",
      "210\n",
      "220\n",
      "230\n",
      "240\n",
      "250\n",
      "260\n",
      "270\n",
      "280\n",
      "290\n",
      "300\n",
      "310\n",
      "320\n",
      "330\n",
      "340\n",
      "350\n",
      "360\n",
      "370\n",
      "380\n",
      "390\n",
      "400\n",
      "410\n",
      "420\n",
      "430\n",
      "440\n",
      "450\n",
      "460\n",
      "470\n",
      "480\n",
      "490\n"
     ]
    }
   ],
   "source": [
    "for case_name, case in likelihood_calculation_pars.items():\n",
    "    if hierarchy in case_name:\n",
    "        name = case['name']\n",
    "        if name != 'mz_epsilon':\n",
    "            continue\n",
    "        hierarchy = case['hierarchy']\n",
    "        analysis_name = case['analysis_name']\n",
    "        pars = deepcopy(case['pars'])\n",
    "        additional_vars = case['additional_vars']\n",
    "        for nu_mode in ['FHC', 'RHC']:\n",
    "            print(nu_mode)\n",
    "            aux_weights = []\n",
    "            aux_n_kde = []\n",
    "            for i, (x, y) in enumerate(xy_grid.T):\n",
    "                if i%100 == 0:\n",
    "                    print(i)\n",
    "                pars['mz'] = x\n",
    "                pars['epsilon'] = y\n",
    "                out = my_exp_analyses[f'{hierarchy}_{D_or_M}_{nu_mode}'].compute_expectation(\n",
    "                                                                        my_exp_analyses[f'{hierarchy}_{D_or_M}_{nu_mode}'].df_base, \n",
    "                                                                        **pars,\n",
    "                                                                        ntarget_per_material=None, \n",
    "                                                                        pot=None,\n",
    "                                                                        selection_query=analyses[analysis_name][nu_mode]['selection'],\n",
    "                                                                        efficiency_factor=None,\n",
    "                                                                        no_pot_efficiency=True)\n",
    "                if i == 0:\n",
    "                    aux_df = deepcopy(out[0])\n",
    "                    pars['mz'] = xy_grid[0]\n",
    "                    pars['epsilon'] = xy_grid[1]\n",
    "                    aux_pars = deepcopy(pars)\n",
    "                aux_weights.append(out[1])\n",
    "                aux_n_kde.append(out[2])\n",
    "                del out\n",
    "                gc.collect()\n",
    "            aux_weights = np.stack(aux_weights, axis=1)\n",
    "            aux_n_kde = np.stack(aux_n_kde)\n",
    "            store_events_weights(expectation_output=(aux_df, aux_weights, aux_n_kde),\n",
    "                                 analysis=analyses[analysis_name][nu_mode],\n",
    "                                 pars=aux_pars,\n",
    "                                 name=f'{hierarchy}_{name}',\n",
    "                                 analysis_name=analysis_name,\n",
    "                                 nu_mode=nu_mode,\n",
    "                                 additional_vars=additional_vars)"
   ]
  },
  {
   "cell_type": "code",
   "execution_count": null,
   "metadata": {},
   "outputs": [],
   "source": []
  }
 ],
 "metadata": {
  "kernelspec": {
   "display_name": "Python [conda env:.conda-dark_nus]",
   "language": "python",
   "name": "conda-env-.conda-dark_nus-py"
  },
  "language_info": {
   "codemirror_mode": {
    "name": "ipython",
    "version": 3
   },
   "file_extension": ".py",
   "mimetype": "text/x-python",
   "name": "python",
   "nbconvert_exporter": "python",
   "pygments_lexer": "ipython3",
   "version": "3.8.8"
  }
 },
 "nbformat": 4,
 "nbformat_minor": 4
}
