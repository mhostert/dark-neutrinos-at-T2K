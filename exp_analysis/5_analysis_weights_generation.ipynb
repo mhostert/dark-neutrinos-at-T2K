{
 "cells": [
  {
   "cell_type": "markdown",
   "metadata": {},
   "source": [
    "# Producing weights for likelihood grid calculation"
   ]
  },
  {
   "cell_type": "code",
   "execution_count": 1,
   "metadata": {},
   "outputs": [],
   "source": [
    "%load_ext autoreload\n",
    "%autoreload 2"
   ]
  },
  {
   "cell_type": "code",
   "execution_count": 2,
   "metadata": {},
   "outputs": [],
   "source": [
    "import matplotlib.pyplot as plt\n",
    "from matplotlib.colors import LogNorm\n",
    "import numpy as np\n",
    "import pandas as pd\n",
    "import pickle\n",
    "import gc\n",
    "\n",
    "from exp_analysis_class import full_likelihood\n",
    "from dark_nus_utils import load_datasets\n",
    "from const import alphaQED\n",
    "from analyses_dict import analyses\n",
    "from parameters_dict import *\n",
    "from dark_nus_utils import store_events_weights, retrieve_events_weights"
   ]
  },
  {
   "cell_type": "code",
   "execution_count": 3,
   "metadata": {},
   "outputs": [],
   "source": [
    "D_or_M = 'dirac'\n",
    "hierarchy = 'heavy'"
   ]
  },
  {
   "cell_type": "code",
   "execution_count": 4,
   "metadata": {},
   "outputs": [],
   "source": [
    "# my_exp_analyses = load_datasets(hierarchies=['heavy', 'light'],\n",
    "#                                   D_or_Ms=D_or_M,\n",
    "#                                   fluxes=['FHC', 'RHC'],\n",
    "#                                 timeit=True, \n",
    "#                                 direct_load_objects=False,\n",
    "#                                 load_grid=False,\n",
    "#                                 dump=True,\n",
    "#                                 nentries=1000000)"
   ]
  },
  {
   "cell_type": "code",
   "execution_count": 5,
   "metadata": {},
   "outputs": [
    {
     "name": "stdout",
     "output_type": "stream",
     "text": [
      "heavy dirac FHC\n",
      "Wall time: 11.374419689178467 s, CPU time: 1.2035632710000002\n",
      "heavy dirac RHC\n",
      "Wall time: 11.345589637756348 s, CPU time: 1.2306782749999998\n"
     ]
    }
   ],
   "source": [
    "my_exp_analyses = load_datasets(\n",
    "                                hierarchies=hierarchy, \n",
    "                                D_or_Ms=D_or_M, \n",
    "                                fluxes=['FHC', 'RHC'],\n",
    "                                timeit=True, \n",
    "                                direct_load_objects=True,\n",
    "                                load_grid=False,\n",
    "                                dump=False,\n",
    "                                nentries=1000000)"
   ]
  },
  {
   "cell_type": "markdown",
   "metadata": {},
   "source": [
    "## Produce event weights"
   ]
  },
  {
   "cell_type": "code",
   "execution_count": 6,
   "metadata": {},
   "outputs": [
    {
     "name": "stdout",
     "output_type": "stream",
     "text": [
      "mz_epsilon tpc FHC\n",
      "mz_epsilon tpc RHC\n",
      "m4_Umu4_2 tpc FHC\n",
      "m4_Umu4_2 tpc RHC\n"
     ]
    }
   ],
   "source": [
    "for case_name, case in likelihood_calculation_pars.items():\n",
    "    if hierarchy in case_name:\n",
    "        name = case['name']\n",
    "        # if name != 'm4_Umu4_2':\n",
    "        #     continue\n",
    "        hierarchy = case['hierarchy']\n",
    "        analysis_name = case['analysis_name']\n",
    "        pars = case['pars']\n",
    "        additional_vars = case['additional_vars']\n",
    "        for nu_mode in ['FHC', 'RHC']:\n",
    "        # for nu_mode in ['RHC']:\n",
    "            print(name, analysis_name, nu_mode)\n",
    "            out = my_exp_analyses[f'{hierarchy}_{D_or_M}_{nu_mode}'].compute_expectation(\n",
    "                                                                my_exp_analyses[f'{hierarchy}_{D_or_M}_{nu_mode}'].df_base, \n",
    "                                                                **pars,\n",
    "                                                                ntarget_per_material=None, \n",
    "                                                                pot=None,\n",
    "                                                                selection_query=analyses[analysis_name][nu_mode]['selection'],\n",
    "                                                                efficiency_factor=None,\n",
    "                                                                no_pot_efficiency=True)\n",
    "            store_events_weights(expectation_output=out, \n",
    "                                 analysis=analyses[analysis_name][nu_mode],\n",
    "                                 pars=pars,\n",
    "                                 name=f'{hierarchy}_{name}',\n",
    "                                 analysis_name=analysis_name,\n",
    "                                 nu_mode=nu_mode,\n",
    "                                 additional_vars=additional_vars)\n",
    "            del out\n",
    "            gc.collect()"
   ]
  },
  {
   "cell_type": "code",
   "execution_count": null,
   "metadata": {},
   "outputs": [],
   "source": []
  },
  {
   "cell_type": "code",
   "execution_count": null,
   "metadata": {},
   "outputs": [],
   "source": []
  }
 ],
 "metadata": {
  "kernelspec": {
   "display_name": "Python [conda env:.conda-dark_nus]",
   "language": "python",
   "name": "conda-env-.conda-dark_nus-py"
  },
  "language_info": {
   "codemirror_mode": {
    "name": "ipython",
    "version": 3
   },
   "file_extension": ".py",
   "mimetype": "text/x-python",
   "name": "python",
   "nbconvert_exporter": "python",
   "pygments_lexer": "ipython3",
   "version": "3.8.8"
  }
 },
 "nbformat": 4,
 "nbformat_minor": 4
}
