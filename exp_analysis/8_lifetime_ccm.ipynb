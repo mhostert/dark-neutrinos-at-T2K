{
 "cells": [
  {
   "cell_type": "code",
   "execution_count": 22,
   "id": "42135bf6-64e5-4d16-9ab1-3bf3bdfc4336",
   "metadata": {},
   "outputs": [],
   "source": [
    "import numpy as np\n",
    "from matplotlib import pyplot as plt\n",
    "from matplotlib.colors import LogNorm"
   ]
  },
  {
   "cell_type": "code",
   "execution_count": 2,
   "id": "6878bd95-0aae-4267-baf8-999458def2c7",
   "metadata": {},
   "outputs": [],
   "source": [
    "from ctau_utils import ctau_heavy"
   ]
  },
  {
   "cell_type": "code",
   "execution_count": 12,
   "id": "fd1d8582-7cd1-4412-aca3-9c1b3db32a7f",
   "metadata": {},
   "outputs": [],
   "source": [
    "from parameters_dict import *\n",
    "from const import alphaQED"
   ]
  },
  {
   "cell_type": "code",
   "execution_count": 6,
   "id": "d27284ac-42db-4e08-9f81-0086d30eaa1e",
   "metadata": {},
   "outputs": [
    {
     "data": {
      "text/plain": [
       "{'m4': 0.1,\n",
       " 'mz': 1.25,\n",
       " 'alpha_dark': 0.4,\n",
       " 'epsilon': 0.021447610589527218,\n",
       " 'Umu4_2': 2.2e-07,\n",
       " 'Ud4_2': 1}"
      ]
     },
     "execution_count": 6,
     "metadata": {},
     "output_type": "execute_result"
    }
   ],
   "source": [
    "physics_parameters['heavy']['bp']['Umu4_2']"
   ]
  },
  {
   "cell_type": "code",
   "execution_count": 26,
   "id": "78916b38-bf45-40c6-beb0-30f237f70ea3",
   "metadata": {},
   "outputs": [],
   "source": []
  },
  {
   "cell_type": "code",
   "execution_count": 27,
   "id": "7671566c-c2a7-4e23-a73d-8b1e242f47da",
   "metadata": {},
   "outputs": [],
   "source": [
    "m4 = 0.02"
   ]
  },
  {
   "cell_type": "code",
   "execution_count": 30,
   "id": "7c3656a9-72db-44dc-9ad9-18f38d01ef47",
   "metadata": {},
   "outputs": [],
   "source": [
    "Ud4_2s = np.geomspace(physics_parameters['heavy']['bp']['Umu4_2'], physics_parameters['heavy']['bp']['Ud4_2'], 10)\n",
    "m_zs = np.geomspace(0.05, 5, 11)\n",
    "Ud4_2s, m_zs = np.meshgrid(Ud4_2s, m_zs, indexing='ij')"
   ]
  },
  {
   "cell_type": "code",
   "execution_count": 31,
   "id": "133d8d9b-3f4e-4321-b7c8-b9c03b5b9f81",
   "metadata": {},
   "outputs": [],
   "source": [
    "out = ctau_heavy(m4, m_zs, \n",
    "           Ud4_2s * physics_parameters['heavy']['bp']['alpha_dark'] * alphaQED * physics_parameters['heavy']['bp']['epsilon']**2, D_or_M='dirac')"
   ]
  },
  {
   "cell_type": "code",
   "execution_count": 37,
   "id": "a138e544-1b8b-467f-b8fa-28a6fbe424f2",
   "metadata": {},
   "outputs": [
    {
     "name": "stderr",
     "output_type": "stream",
     "text": [
      "<ipython-input-37-32bccc1cc06f>:1: MatplotlibDeprecationWarning: shading='flat' when X and Y have the same dimensions as C is deprecated since 3.3.  Either specify the corners of the quadrilaterals with X and Y, or pass shading='auto', 'nearest' or 'gouraud', or set rcParams['pcolor.shading'].  This will become an error two minor releases later.\n",
      "  plt.pcolormesh(Ud4_2s, m_zs, out, norm=LogNorm())\n"
     ]
    },
    {
     "data": {
      "image/png": "[encoded data removed]",
      "text/plain": [
       "<Figure size 432x288 with 2 Axes>"
      ]
     },
     "metadata": {
      "needs_background": "light"
     },
     "output_type": "display_data"
    }
   ],
   "source": [
    "plt.pcolormesh(Ud4_2s, m_zs, out, norm=LogNorm())\n",
    "plt.loglog()\n",
    "plt.colorbar(label=r'c$\\tau^0$ [cm]')\n",
    "plt.title(f'Lifetime for dark neutrinos, $m_N$ = {m4}')\n",
    "plt.ylabel(r'$m_{Z^\\prime}$')\n",
    "plt.xlabel(r'$|V_N|^2$')\n",
    "plt.savefig('../fig/ccm_lifetime_study.pdf', bbox_inches='tight')"
   ]
  },
  {
   "cell_type": "code",
   "execution_count": null,
   "id": "057f891a-a2dc-4fe0-814c-48b9c2d42c0f",
   "metadata": {},
   "outputs": [],
   "source": []
  }
 ],
 "metadata": {
  "kernelspec": {
   "display_name": "Python [conda env:.conda-dark_nus]",
   "language": "python",
   "name": "conda-env-.conda-dark_nus-py"
  },
  "language_info": {
   "codemirror_mode": {
    "name": "ipython",
    "version": 3
   },
   "file_extension": ".py",
   "mimetype": "text/x-python",
   "name": "python",
   "nbconvert_exporter": "python",
   "pygments_lexer": "ipython3",
   "version": "3.8.8"
  }
 },
 "nbformat": 4,
 "nbformat_minor": 5
}
