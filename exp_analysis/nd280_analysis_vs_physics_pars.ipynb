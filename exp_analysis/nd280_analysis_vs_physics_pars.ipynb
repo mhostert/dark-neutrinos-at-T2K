{
 "cells": [
  {
   "cell_type": "code",
   "execution_count": 16,
   "metadata": {},
   "outputs": [
    {
     "name": "stdout",
     "output_type": "stream",
     "text": [
      "The autoreload extension is already loaded. To reload it, use:\n",
      "  %reload_ext autoreload\n"
     ]
    }
   ],
   "source": [
    "%load_ext autoreload\n",
    "%autoreload 2"
   ]
  },
  {
   "cell_type": "code",
   "execution_count": 17,
   "metadata": {},
   "outputs": [],
   "source": [
    "import os\n",
    "import itertools\n",
    "import matplotlib.pyplot as plt\n",
    "import numpy as np\n",
    "import pandas as pd\n",
    "from exp_analysis import *"
   ]
  },
  {
   "cell_type": "code",
   "execution_count": 18,
   "metadata": {},
   "outputs": [],
   "source": [
    "case = 'light'"
   ]
  },
  {
   "cell_type": "code",
   "execution_count": 19,
   "metadata": {},
   "outputs": [
    {
     "name": "stdout",
     "output_type": "stream",
     "text": [
      "mkdir: cannot create directory ‘../../fig/efficiency_vs_physics_pars2/’: File exists\n"
     ]
    }
   ],
   "source": [
    "pars = {}\n",
    "pars['heavy'] = {\n",
    "    'm4' : [0.1, 0.12, 0.14],\n",
    "    'mz_prime': [0.6, 1.25, 3],\n",
    "}\n",
    "pars['light'] = {\n",
    "    'm4' : [0.1, 0.2, 0.4],\n",
    "    'mz_prime': [0.03, 0.06, 0.09],\n",
    "}\n",
    "\n",
    "ctaus = [1, 5, 10, 20, 50, 100, 200]\n",
    "ctaus = [0.1, 1, 10, 100, 1000]\n",
    "!mkdir ../../fig/efficiency_vs_physics_pars2/\n",
    "save_folder = \"../../fig/efficiency_vs_physics_pars2/\""
   ]
  },
  {
   "cell_type": "code",
   "execution_count": 20,
   "metadata": {},
   "outputs": [
    {
     "name": "stdout",
     "output_type": "stream",
     "text": [
      "0.1 0.03\n",
      "Model used 3+1\n",
      "127.70051257843576\n",
      "\n",
      "0.1 0.06\n",
      "Model used 3+1\n",
      "23.78856819533013\n",
      "\n",
      "0.1 0.09\n",
      "Model used 3+1\n",
      "6.755615269969685\n",
      "\n",
      "0.2 0.03\n",
      "Model used 3+1\n",
      "56.01908311955379\n",
      "\n",
      "0.2 0.06\n",
      "Model used 3+1\n",
      "10.305762886618755\n",
      "\n",
      "0.2 0.09\n",
      "Model used 3+1\n",
      "4.711280458351253\n",
      "\n",
      "0.4 0.03\n",
      "Model used 3+1\n",
      "6.028369490229659\n",
      "\n",
      "0.4 0.06\n",
      "Model used 3+1\n",
      "1.5944727491151698\n",
      "\n",
      "0.4 0.09\n",
      "Model used 3+1\n",
      "0.6525314662899133\n",
      "\n"
     ]
    }
   ],
   "source": [
    "#generation part\n",
    "for m4, mz_prime in itertools.product(pars[case]['m4'], pars[case]['mz_prime']):\n",
    "    print(m4, mz_prime)\n",
    "    if case == 'light':\n",
    "        dark_gen_run = f'cd ..; ./dark_gen.py --M4 {m4} --mzprime {mz_prime} --neval 100000 --noplot --hierarchy light_mediator'\n",
    "    elif case == 'heavy':\n",
    "        dark_gen_run = f'cd ..; ./dark_gen.py --M4 {m4} --mzprime {mz_prime} --UMU4 2.2e-7 --alpha_dark 0.4 --epsilon2 4.6e-4 --neval 100000 --noplot --hierarchy heavy_mediator'\n",
    "    else:\n",
    "        print('No good case selected')\n",
    "    stream = os.popen(dark_gen_run)\n",
    "    print(stream.read())"
   ]
  },
  {
   "cell_type": "code",
   "execution_count": 21,
   "metadata": {},
   "outputs": [],
   "source": [
    "#efficiency plot\n",
    "for m4 in pars[case]['m4']:\n",
    "    for mz_prime in pars[case]['mz_prime']:\n",
    "        aux_eff = []\n",
    "        df = pd.read_pickle(f'../data/nd280_nu/3plus1/m4_{m4}_mzprime_{mz_prime}/MC_m4_{m4}_mzprime_{mz_prime}.pckl')\n",
    "        initialise_df(df, ctaus)\n",
    "        for ctau in ctaus:\n",
    "            aux_eff.append(100*df['actual_weight', ''][df[f'total_selected_{ctau}', '']].sum()/df['actual_weight', ''].sum())\n",
    "        plt.plot(ctaus, aux_eff, label=f\"$m_Z'$ = {mz_prime*1000:.0f} MeV\")\n",
    "    plt.xlabel('ctau [cm]')\n",
    "    plt.ylabel('efficiency [%]')\n",
    "    # plt.xscale('log')\n",
    "    plt.legend(loc='best', frameon=False)\n",
    "    plt.title(f\"{case} Z' case, $m_4$ = {m4*1000:.0f} MeV\")\n",
    "    plt.savefig(save_folder + f\"{case}_m_4_{m4*1000:.0f}.png\", dpi=250)\n",
    "    plt.close()"
   ]
  },
  {
   "cell_type": "code",
   "execution_count": 10,
   "metadata": {},
   "outputs": [],
   "source": [
    "# e+e- energy events histogram plot\n",
    "# !mkdir ../../fig/e+e-deposited_energy/\n",
    "this_save_folder = \"../../fig/e+e-deposited_energy/\"\n",
    "for m4 in pars[case]['m4']:\n",
    "    for mz_prime in pars[case]['mz_prime']:\n",
    "        df = pd.read_pickle(f'../data/nd280_nu/3plus1/m4_{m4}_mzprime_{mz_prime}/MC_m4_{m4}_mzprime_{mz_prime}.pckl')\n",
    "        initialise_df(df, ctaus)\n",
    "        for ctau in ctaus:\n",
    "            mask = df[f'total_selected_{ctau}', '']\n",
    "            plt.hist(df['pee', 't'][mask],\n",
    "                     bins=20, \n",
    "                     range=(0, 10),\n",
    "                     weights=df['actual_weight', ''][mask],\n",
    "                     histtype='step',\n",
    "                     label=f\"ctau = {ctau} cm, nevt = {df['actual_weight', ''][mask].sum():.2g}\")\n",
    "            # aux_eff.append(100*df['actual_weight', ''][df[f'total_selected_{ctau}', '']].sum()/df['actual_weight', ''].sum())\n",
    "        # plt.plot(ctaus, aux_eff, label=f\"$m_Z'$ = {mz_prime*1000:.0f} MeV\")\n",
    "        plt.xlabel('e=e- deposited energy [GeV]')\n",
    "        plt.ylabel('Expected number of events')\n",
    "        plt.ylim(bottom=0)\n",
    "        # plt.xscale('log')\n",
    "        plt.legend(loc='best', frameon=False)\n",
    "        plt.title(f\"{case} Z' case, $m_Z'$ = {mz_prime*1000:.0f}, $m_4$ = {m4*1000:.0f} MeV\")\n",
    "        plt.savefig(this_save_folder + f\"{case}_m_z_prime_{mz_prime*1000:.0f}_m_4_{m4*1000:.0f}.png\", dpi=250)\n",
    "        plt.close()"
   ]
  }
 ],
 "metadata": {
  "kernelspec": {
   "display_name": "Python 3",
   "language": "python",
   "name": "python3"
  },
  "language_info": {
   "codemirror_mode": {
    "name": "ipython",
    "version": 3
   },
   "file_extension": ".py",
   "mimetype": "text/x-python",
   "name": "python",
   "nbconvert_exporter": "python",
   "pygments_lexer": "ipython3",
   "version": "3.8.6"
  }
 },
 "nbformat": 4,
 "nbformat_minor": 4
}
