{
 "cells": [
  {
   "cell_type": "markdown",
   "metadata": {},
   "source": [
    "# This notebook provides a slider to compare different physics parameters"
   ]
  },
  {
   "cell_type": "code",
   "execution_count": 1,
   "metadata": {},
   "outputs": [],
   "source": [
    "%load_ext autoreload\n",
    "%autoreload 2"
   ]
  },
  {
   "cell_type": "code",
   "execution_count": 4,
   "metadata": {},
   "outputs": [],
   "source": [
    "from copy import deepcopy\n",
    "\n",
    "import matplotlib.pyplot as plt\n",
    "from matplotlib.legend_handler import HandlerLine2D, HandlerTuple\n",
    "from matplotlib.colors import LogNorm\n",
    "import numpy as np\n",
    "import pandas as pd\n",
    "\n",
    "import seaborn as sns\n",
    "from scipy.interpolate import griddata\n",
    "\n",
    "from ipywidgets import interact, interactive, fixed, interact_manual, FloatSlider, Dropdown\n",
    "import ipywidgets as widgets\n",
    "\n",
    "from parameters_dict import physics_parameters\n",
    "from dark_nus_utils import load_datasets\n",
    "from plot_utils import kde_variable_plot\n",
    "from ctau_utils import ctau_heavy\n",
    "from analyses_dict import analyses\n",
    "from const import alphaQED\n",
    "from likelihood_contours_plot import set_plot_style, set_canvas_basic, set_plot_title, plot_data_from_analysis"
   ]
  },
  {
   "cell_type": "code",
   "execution_count": 5,
   "metadata": {},
   "outputs": [],
   "source": [
    "hierarchy = 'heavy'\n",
    "D_or_M = ['dirac', 'majorana']\n",
    "\n",
    "set_plot_style()"
   ]
  },
  {
   "cell_type": "markdown",
   "metadata": {},
   "source": [
    "## Use this to load the datasets in the usual way and dump them in pickle files"
   ]
  },
  {
   "cell_type": "code",
   "execution_count": 6,
   "metadata": {},
   "outputs": [],
   "source": [
    "# my_exp_analyses = load_datasets(hierarchy, D_or_Ms, \n",
    "#                                 timeit=True, \n",
    "#                                 direct_load_objects=False,\n",
    "#                                 dump=True,\n",
    "#                                 load_grid=False)"
   ]
  },
  {
   "cell_type": "markdown",
   "metadata": {},
   "source": [
    "## Use the function this way to load the datasets from the pickle files"
   ]
  },
  {
   "cell_type": "code",
   "execution_count": 7,
   "metadata": {},
   "outputs": [
    {
     "name": "stdout",
     "output_type": "stream",
     "text": [
      "heavy dirac FHC\n",
      "Wall time: 0.7122011184692383 s, CPU time: 0.702224744\n",
      "heavy dirac RHC\n",
      "Wall time: 0.9414865970611572 s, CPU time: 0.9312569020000003\n",
      "heavy majorana FHC\n",
      "Wall time: 0.962085485458374 s, CPU time: 0.9593397150000005\n",
      "heavy majorana RHC\n",
      "Wall time: 0.902785062789917 s, CPU time: 0.9002680219999997\n"
     ]
    }
   ],
   "source": [
    "my_exp_analyses = load_datasets(hierarchy, D_or_M, \n",
    "                                timeit=True, \n",
    "                                direct_load_objects=True,\n",
    "                                load_grid=False)"
   ]
  },
  {
   "cell_type": "code",
   "execution_count": 8,
   "metadata": {},
   "outputs": [
    {
     "name": "stdout",
     "output_type": "stream",
     "text": [
      "dirac 377.24949361269313\n",
      "majorana 366.3589005028653\n",
      "ratio 0.9711315898517581\n"
     ]
    }
   ],
   "source": [
    "nu_mode = 'FHC'\n",
    "mu = {}\n",
    "this_point = deepcopy(physics_parameters[hierarchy]['bp'])\n",
    "this_analysis = analyses['tpc'][nu_mode]\n",
    "for DorM in D_or_M:\n",
    "    aux = my_exp_analyses[f'{hierarchy}_{DorM}_{nu_mode}'].compute_expectation(\n",
    "                                my_exp_analyses[f'{hierarchy}_{DorM}_{nu_mode}'].df_base, \n",
    "                                m4=this_point['m4'], \n",
    "                                mz=this_point['mz'], \n",
    "                                alpha_dark=this_point['alpha_dark'], \n",
    "                                epsilon=this_point['epsilon'], \n",
    "                                Umu4_2=this_point['Umu4_2'], \n",
    "                                Ud4_2=this_point['Ud4_2'],\n",
    "                                external_ctau=None,\n",
    "                                ntarget_per_material=this_analysis['n_target'], \n",
    "                                pot=this_analysis['pot'],\n",
    "                                selection_query='carbon',\n",
    "                                efficiency_factor=this_analysis['efficiency'])\n",
    "    mu[DorM] = aux[1].sum()\n",
    "    print(DorM, mu[DorM])\n",
    "\n",
    "print('ratio', mu['majorana']/mu['dirac'])"
   ]
  }
 ],
 "metadata": {
  "kernelspec": {
   "display_name": "Python [conda env:.conda-dark_nus]",
   "language": "python",
   "name": "conda-env-.conda-dark_nus-py"
  },
  "language_info": {
   "codemirror_mode": {
    "name": "ipython",
    "version": 3
   },
   "file_extension": ".py",
   "mimetype": "text/x-python",
   "name": "python",
   "nbconvert_exporter": "python",
   "pygments_lexer": "ipython3",
   "version": "3.8.8"
  }
 },
 "nbformat": 4,
 "nbformat_minor": 4
}
