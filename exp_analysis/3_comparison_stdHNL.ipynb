{
 "cells": [
  {
   "cell_type": "markdown",
   "id": "increased-dressing",
   "metadata": {},
   "source": [
    "# Comparing HNL distributions with the Dark nus one (using no_scan)"
   ]
  },
  {
   "cell_type": "code",
   "execution_count": 1,
   "id": "accomplished-chinese",
   "metadata": {},
   "outputs": [],
   "source": [
    "%load_ext autoreload\n",
    "%autoreload 2"
   ]
  },
  {
   "cell_type": "code",
   "execution_count": 2,
   "id": "architectural-lawyer",
   "metadata": {},
   "outputs": [
    {
     "name": "stdout",
     "output_type": "stream",
     "text": [
      "0.0009866349020787781\n"
     ]
    }
   ],
   "source": [
    "import matplotlib.pyplot as plt\n",
    "import numpy as np\n",
    "import pandas as pd\n",
    "from parameters_dict import physics_parameters\n",
    "from exp_analysis_class import exp_analysis\n",
    "from plot_utils import *\n",
    "from dark_nus_utils import *\n",
    "from fourvec import *\n",
    "from const import *"
   ]
  },
  {
   "cell_type": "markdown",
   "id": "endless-folks",
   "metadata": {},
   "source": [
    "## Get objects for all 4 cases "
   ]
  },
  {
   "cell_type": "code",
   "execution_count": 5,
   "id": "pediatric-position",
   "metadata": {},
   "outputs": [
    {
     "name": "stdout",
     "output_type": "stream",
     "text": [
      "Generating events for m4=0.15 GeV and mzprime=0.03\n",
      "\n",
      "Traceback (most recent call last):\n",
      "  File \"/Users/matheushostert/Repos/nicgen/dark_gen.py\", line 2, in <module>\n",
      "    import matplotlib\n",
      "ModuleNotFoundError: No module named 'matplotlib'\n",
      "\n",
      "Generating events for m4=0.15 GeV and mzprime=1.25\n",
      "\n",
      "Traceback (most recent call last):\n",
      "  File \"/Users/matheushostert/Repos/nicgen/dark_gen.py\", line 2, in <module>\n",
      "    import matplotlib\n",
      "ModuleNotFoundError: No module named 'matplotlib'\n",
      "\n"
     ]
    }
   ],
   "source": [
    "produce_samples_without_scanning_m4mz(case='light', D_or_M='majorana',  m4mz=[0.15,0.03])\n",
    "produce_samples_without_scanning_m4mz(case='heavy', D_or_M='majorana',  m4mz=[0.15,1.25])"
   ]
  },
  {
   "cell_type": "code",
   "execution_count": 3,
   "id": "forty-japan",
   "metadata": {
    "scrolled": true
   },
   "outputs": [
    {
     "name": "stdout",
     "output_type": "stream",
     "text": [
      "loading df 0.15, 1.25\n",
      "initialising df 0.15, 1.25\n",
      "loading df 0.15, 0.03\n",
      "initialising df 0.15, 0.03\n"
     ]
    }
   ],
   "source": [
    "heavy_file = 'm4_0.15_mzprime_1.25_heavy_majorana'\n",
    "light_file = 'm4_0.15_mzprime_1.25_heavy_majorana'\n",
    "\n",
    "\n",
    "heavy_exp_analyis = exp_analysis('heavy', 'majorana')\n",
    "light_exp_analyis = exp_analysis('light', 'majorana')\n",
    "\n",
    "heavy_exp_analyis.load_df(0.15,1.25)\n",
    "light_exp_analyis.load_df(0.15,0.03)"
   ]
  },
  {
   "cell_type": "code",
   "execution_count": 4,
   "id": "phantom-numbers",
   "metadata": {},
   "outputs": [],
   "source": [
    "df_std = pd.read_pickle(f'../standardHNL/data/MC_std_HNL_NCdecay_m4_0.15.pckl')"
   ]
  },
  {
   "cell_type": "code",
   "execution_count": 5,
   "id": "educational-programmer",
   "metadata": {},
   "outputs": [],
   "source": [
    "# compute useful variables\n",
    "for df in [df_std]:\n",
    "    for comp in ['t','x','y','z']:\n",
    "        df['pee', comp] = df['plm', comp] + df['plp', comp]\n",
    "        df['pdark', comp] = df['plm', comp] + df['plp', comp] + df['pnu', comp]\n",
    "    df['recoil_mass', ''] = inv_mass(df['pHad']).round(6)\n",
    "    df['ee_mass', ''] = inv_mass(df['pee'])\n",
    "    df['ee_costheta', ''] = costheta(df['plm'], df['plp'])\n",
    "    df['ee_beam_costheta', ''] = df['pee', 'z']/np.sqrt(dot3_df(df['pee'], df['pee']))\n",
    "    df['ee_momentum', ''] = np.sqrt(dot3_df(df['pee'], df['pee']))\n",
    "    df['experimental_t', ''] = (df['plm','t'] - df['plm','z'] + df['plp','t'] - df['plp','z'])**2 +\\\n",
    "                                   df['plm','x']**2 + df['plm','y']**2 + df['plp','x']**2 + df['plp','y']**2\n",
    "    \n",
    "wstd=df_std['weight', '']/np.sum(df_std['weight', ''])\n"
   ]
  },
  {
   "cell_type": "code",
   "execution_count": 6,
   "id": "satisfactory-region",
   "metadata": {},
   "outputs": [],
   "source": [
    "m4mz=(0.15,0.03)\n",
    "no_scan_light = light_exp_analyis.dfs[m4mz]\n",
    "actual_weights_light = no_scan_light.query('no_cuts')['actual_weight']"
   ]
  },
  {
   "cell_type": "code",
   "execution_count": 7,
   "id": "together-jumping",
   "metadata": {},
   "outputs": [],
   "source": [
    "m4mz=(0.15,1.25)\n",
    "no_scan_heavy = heavy_exp_analyis.dfs[m4mz]\n",
    "actual_weights_heavy = no_scan_heavy.query('no_cuts')['actual_weight']\n"
   ]
  },
  {
   "cell_type": "markdown",
   "id": "french-administration",
   "metadata": {},
   "source": [
    "# Energies"
   ]
  },
  {
   "cell_type": "code",
   "execution_count": 100,
   "id": "designing-holiday",
   "metadata": {},
   "outputs": [
    {
     "data": {
      "image/png": "[encoded data removed]",
      "text/plain": [
       "<Figure size 252x238.059 with 1 Axes>"
      ]
     },
     "metadata": {
      "needs_background": "light"
     },
     "output_type": "display_data"
    }
   ],
   "source": [
    "fsize = 11\n",
    "rc('text', usetex=True)\n",
    "params={'axes.labelsize':fsize,'xtick.labelsize':fsize,'ytick.labelsize':fsize,\\\n",
    "\t\t\t\t'figure.figsize':(3.5,1.4*2.3617)\t}\n",
    "rc('font',**{'family':'serif', 'serif': ['computer modern roman']})\n",
    "rcParams.update(params)\n",
    "axes_form  = [0.15,0.15,0.78,0.74]\n",
    "fig = plt.figure()\n",
    "ax = fig.add_axes(axes_form)\n",
    "\n",
    "bins = np.linspace(0,7,30)\n",
    "\n",
    "w_heavy = actual_weights_heavy/np.sum(actual_weights_heavy)\n",
    "w_light = actual_weights_light/np.sum(actual_weights_light)\n",
    "\n",
    "out = ax.hist(df_std['ee_momentum', ''],\n",
    "               bins=bins, \n",
    "#                range=(0.5, 1),\n",
    "               weights=wstd, \n",
    "               label='std N decays-in-flight',\n",
    "                facecolor='dodgerblue',\n",
    "              edgecolor='black',\n",
    "               histtype='step',\n",
    "             lw=1.5)\n",
    "\n",
    "\n",
    "out = ax.hist(no_scan_heavy['ee_energy'],\n",
    "               bins=bins, \n",
    "#                range=(0.5, 1),\n",
    "               weights=w_heavy, \n",
    "               label='heavy $Z^\\prime$, $m_{Z^\\prime} = 1.25$ GeV',\n",
    "                facecolor='darkorange',\n",
    "              alpha = 0.8, lw=0,\n",
    "              edgecolor='darkorange',\n",
    "               histtype='bar',\n",
    "             ls = '-')\n",
    "out = ax.hist(no_scan_heavy['ee_energy'],\n",
    "               bins=bins, \n",
    "#                range=(0.5, 1),\n",
    "               weights=w_heavy, \n",
    "                facecolor='darkorange',\n",
    "              alpha = 1, lw=1.,\n",
    "              edgecolor='darkorange',\n",
    "               histtype='step',\n",
    "             ls = '-')\n",
    "\n",
    "#################\n",
    "\n",
    "out = ax.hist(no_scan_light['ee_energy'],\n",
    "               bins=bins, \n",
    "#                range=(0.5, 1),\n",
    "               weights=w_light, \n",
    "               label='light $Z^\\prime$, $m_{Z^\\prime} = 30$ MeV',\n",
    "              facecolor='dodgerblue',\n",
    "              alpha = 0.8, lw= 0, \n",
    "              edgecolor='dodgerblue',\n",
    "               histtype='bar',\n",
    "             ls='-')\n",
    "out = ax.hist(no_scan_light['ee_energy'],\n",
    "               bins=bins, \n",
    "#                range=(0.5, 1),\n",
    "               weights=w_light, \n",
    "              facecolor='dodgerblue',\n",
    "              alpha = 1, lw= 1., \n",
    "              edgecolor='dodgerblue',\n",
    "               histtype='step',\n",
    "             ls='-')\n",
    "\n",
    "ax.annotate(r\"$m_N = 150$ MeV\", xy=(2.6, 0.25), fontsize=12, color=\"black\", rotation_mode='anchor')\n",
    "\n",
    "ax.legend(loc='upper right',frameon=False)\n",
    "ax.set_xlabel(r\"$e^+e^-$ energy / GeV\")\n",
    "ax.set_ylabel(r\"a.u.\")\n",
    "ax.set_xlim(0.0,6.0)\n",
    "ax.patch.set_visible(False)\n",
    "plt.savefig(\"paper_plots/energies.png\", dpi=400)\n",
    "\n"
   ]
  },
  {
   "cell_type": "markdown",
   "id": "split-sheet",
   "metadata": {},
   "source": [
    "# Energy asymmetry"
   ]
  },
  {
   "cell_type": "code",
   "execution_count": 104,
   "id": "latest-obligation",
   "metadata": {},
   "outputs": [
    {
     "data": {
      "image/png": "[encoded data removed]",
      "text/plain": [
       "<Figure size 252x238.059 with 1 Axes>"
      ]
     },
     "metadata": {
      "needs_background": "light"
     },
     "output_type": "display_data"
    }
   ],
   "source": [
    "fsize = 11\n",
    "rc('text', usetex=True)\n",
    "params={'axes.labelsize':fsize,'xtick.labelsize':fsize,'ytick.labelsize':fsize,\\\n",
    "\t\t\t\t'figure.figsize':(3.5,1.4*2.3617)\t}\n",
    "rc('font',**{'family':'serif', 'serif': ['computer modern roman']})\n",
    "rcParams.update(params)\n",
    "axes_form  = [0.15,0.15,0.78,0.74]\n",
    "fig = plt.figure()\n",
    "ax = fig.add_axes(axes_form)\n",
    "\n",
    "bins = np.linspace(-1,1,10)\n",
    "\n",
    "w_heavy = actual_weights_heavy/np.sum(actual_weights_heavy)\n",
    "w_light = actual_weights_light/np.sum(actual_weights_light)\n",
    "\n",
    "def e_asy(df):\n",
    "    return (df['plm', 't']-df['plp', 't'])/(df['plp', 't']+df['plm', 't'])\n",
    "out = ax.hist(e_asy(df_std),\n",
    "               bins=bins, \n",
    "#                range=(0.5, 1),\n",
    "               weights=wstd, \n",
    "               label='std N decays-in-flight',\n",
    "                facecolor='dodgerblue',\n",
    "              edgecolor='black',\n",
    "               histtype='step',\n",
    "             lw=1.5)\n",
    "\n",
    "\n",
    "out = ax.hist(no_scan_heavy['ee_energy_asymetry'],\n",
    "               bins=bins, \n",
    "#                range=(0.5, 1),\n",
    "               weights=w_heavy, \n",
    "               label='heavy $Z^\\prime$, $m_{Z^\\prime} = 1.25$ GeV',\n",
    "                facecolor='darkorange',\n",
    "              alpha = 0.8, lw=0,\n",
    "              edgecolor='darkorange',\n",
    "               histtype='bar',\n",
    "             ls = '-')\n",
    "out = ax.hist(no_scan_heavy['ee_energy_asymetry'],\n",
    "               bins=bins, \n",
    "#                range=(0.5, 1),\n",
    "               weights=w_heavy, \n",
    "                facecolor='darkorange',\n",
    "              alpha = 1, lw=1.,\n",
    "              edgecolor='darkorange',\n",
    "               histtype='step',\n",
    "             ls = '-')\n",
    "\n",
    "#################\n",
    "\n",
    "out = ax.hist(no_scan_light['ee_energy_asymetry'],\n",
    "               bins=bins, \n",
    "#                range=(0.5, 1),\n",
    "               weights=w_light, \n",
    "               label='light $Z^\\prime$, $m_{Z^\\prime} = 30$ MeV',\n",
    "              facecolor='dodgerblue',\n",
    "              alpha = 0.8, lw= 0, \n",
    "              edgecolor='dodgerblue',\n",
    "               histtype='bar',\n",
    "             ls='-')\n",
    "out = ax.hist(no_scan_light['ee_energy_asymetry'],\n",
    "               bins=bins, \n",
    "#                range=(0.5, 1),\n",
    "               weights=w_light, \n",
    "              facecolor='dodgerblue',\n",
    "              alpha = 1, lw= 1., \n",
    "              edgecolor='dodgerblue',\n",
    "               histtype='step',\n",
    "             ls='-')\n",
    "\n",
    "# ax.annotate(r\"$m_N = 150$ MeV\", xy=(0.5, 0.2), fontsize=12, color=\"black\", rotation_mode='anchor')\n",
    "# ax.legend(loc='upper right',frameon=False)\n",
    "\n",
    "ax.set_xlabel(r\"$(E_{e^-} - E_{e^+})/(E_{e^-} + E_{e^+})$\")\n",
    "ax.set_ylabel(r\"a.u.\")\n",
    "ax.set_xlim(-1,1)\n",
    "ax.set_ylim(0,0.15)\n",
    "ax.patch.set_visible(False)\n",
    "plt.savefig(\"paper_plots/energy_asymmetry.png\", dpi=400)\n",
    "\n"
   ]
  },
  {
   "cell_type": "markdown",
   "id": "demonstrated-talent",
   "metadata": {},
   "source": [
    "# opening angle"
   ]
  },
  {
   "cell_type": "code",
   "execution_count": 108,
   "id": "current-quick",
   "metadata": {},
   "outputs": [
    {
     "data": {
      "image/png": "[encoded data removed]",
      "text/plain": [
       "<Figure size 252x238.059 with 1 Axes>"
      ]
     },
     "metadata": {
      "needs_background": "light"
     },
     "output_type": "display_data"
    }
   ],
   "source": [
    "fsize = 11\n",
    "rc('text', usetex=True)\n",
    "params={'axes.labelsize':fsize,'xtick.labelsize':fsize,'ytick.labelsize':fsize,\\\n",
    "\t\t\t\t'figure.figsize':(3.5,1.4*2.3617)\t}\n",
    "rc('font',**{'family':'serif', 'serif': ['computer modern roman']})\n",
    "rcParams.update(params)\n",
    "axes_form  = [0.15,0.15,0.78,0.74]\n",
    "fig = plt.figure()\n",
    "ax = fig.add_axes(axes_form)\n",
    "\n",
    "bins = np.linspace(0,90,30)\n",
    "\n",
    "w_heavy = actual_weights_heavy/np.sum(actual_weights_heavy)\n",
    "w_light = actual_weights_light/np.sum(actual_weights_light)\n",
    "\n",
    "out = ax.hist(np.arccos(df_std['ee_costheta', ''])*rad_to_deg,\n",
    "               bins=bins, \n",
    "#                range=(0.5, 1),\n",
    "               weights=wstd, \n",
    "               label='std N decays-in-flight',\n",
    "                facecolor='dodgerblue',\n",
    "              edgecolor='black',\n",
    "               histtype='step',\n",
    "             lw=1.5)\n",
    "\n",
    "\n",
    "out = ax.hist(no_scan_heavy['ee_theta']*rad_to_deg,\n",
    "               bins=bins, \n",
    "#                range=(0.5, 1),\n",
    "               weights=w_heavy, \n",
    "               label='heavy $Z^\\prime$, $m_{Z^\\prime} = 1.25$ GeV',\n",
    "                facecolor='darkorange',\n",
    "              alpha = 0.8, lw=0,\n",
    "              edgecolor='darkorange',\n",
    "               histtype='bar',\n",
    "             ls = '-')\n",
    "out = ax.hist(no_scan_heavy['ee_theta']*rad_to_deg,\n",
    "               bins=bins, \n",
    "#                range=(0.5, 1),\n",
    "               weights=w_heavy, \n",
    "                facecolor='darkorange',\n",
    "              alpha = 1, lw=1.,\n",
    "              edgecolor='darkorange',\n",
    "               histtype='step',\n",
    "             ls = '-')\n",
    "\n",
    "#################\n",
    "\n",
    "out = ax.hist(no_scan_light['ee_theta']*rad_to_deg,\n",
    "               bins=bins, \n",
    "#                range=(0.5, 1),\n",
    "               weights=w_light, \n",
    "               label='light $Z^\\prime$, $m_{Z^\\prime} = 30$ MeV',\n",
    "              facecolor='dodgerblue',\n",
    "              alpha = 0.8, lw= 0, \n",
    "              edgecolor='dodgerblue',\n",
    "               histtype='bar',\n",
    "             ls='-')\n",
    "out = ax.hist(no_scan_light['ee_theta']*rad_to_deg,\n",
    "               bins=bins, \n",
    "#                range=(0.5, 1),\n",
    "               weights=w_light, \n",
    "              facecolor='dodgerblue',\n",
    "              alpha = 1, lw= 1., \n",
    "              edgecolor='dodgerblue',\n",
    "               histtype='step',\n",
    "             ls='-')\n",
    "\n",
    "# ax.annotate(r\"$m_N = 150$ MeV\", xy=(50, 0.3), fontsize=12, color=\"black\", rotation_mode='anchor')\n",
    "# ax.legend(loc='upper right',frameon=False)\n",
    "\n",
    "ax.set_xlabel(r\"$\\theta_{e^+e^-}$ (degrees)\")\n",
    "ax.set_ylabel(r\"a.u.\")\n",
    "ax.set_xlim(0.0,90)\n",
    "ax.patch.set_visible(False)\n",
    "plt.savefig(\"paper_plots/opening_angles.png\", dpi=400)"
   ]
  },
  {
   "cell_type": "markdown",
   "id": "metric-november",
   "metadata": {},
   "source": [
    "# Angle wrt the beam"
   ]
  },
  {
   "cell_type": "code",
   "execution_count": 119,
   "id": "australian-joyce",
   "metadata": {},
   "outputs": [
    {
     "data": {
      "image/png": "[encoded data removed]",
      "text/plain": [
       "<Figure size 252x238.059 with 1 Axes>"
      ]
     },
     "metadata": {
      "needs_background": "light"
     },
     "output_type": "display_data"
    }
   ],
   "source": [
    "fsize = 11\n",
    "rc('text', usetex=True)\n",
    "rcparams={'axes.labelsize':fsize,'xtick.labelsize':fsize,'ytick.labelsize':fsize,\\\n",
    "\t\t\t\t'figure.figsize':(3.5,1.4*2.3617)\t}\n",
    "rc('font',**{'family':'serif', 'serif': ['computer modern roman']})\n",
    "rcParams.update(rcparams)\n",
    "axes_form  = [0.15,0.15,0.78,0.74]\n",
    "fig = plt.figure()\n",
    "ax = fig.add_axes(axes_form)\n",
    "\n",
    "bins = np.linspace(0,60,30)\n",
    "\n",
    "w_heavy = actual_weights_heavy/np.sum(actual_weights_heavy)\n",
    "w_light = actual_weights_light/np.sum(actual_weights_light)\n",
    "\n",
    "out = ax.hist(np.arccos(df_std['ee_beam_costheta', ''])*rad_to_deg,\n",
    "               bins=bins, \n",
    "#                range=(0.5, 1),\n",
    "               weights=wstd, \n",
    "               label='std N decays-in-flight',\n",
    "                facecolor='dodgerblue',\n",
    "              edgecolor='black',\n",
    "               histtype='step',\n",
    "             lw=1.5)\n",
    "\n",
    "\n",
    "out = ax.hist(np.arccos(no_scan_heavy['ee_beam_costheta'])*rad_to_deg,\n",
    "               bins=bins, \n",
    "#                range=(0.5, 1),\n",
    "               weights=w_heavy, \n",
    "               label='heavy $Z^\\prime$, $m_{Z^\\prime} = 1.25$ GeV',\n",
    "                facecolor='darkorange',\n",
    "              alpha = 0.8, lw=0,\n",
    "              edgecolor='darkorange',\n",
    "               histtype='bar',\n",
    "             ls = '-')\n",
    "out = ax.hist(np.arccos(no_scan_heavy['ee_beam_costheta'])*rad_to_deg,\n",
    "               bins=bins, \n",
    "#                range=(0.5, 1),\n",
    "               weights=w_heavy, \n",
    "                facecolor='darkorange',\n",
    "              alpha = 1, lw=1.,\n",
    "              edgecolor='darkorange',\n",
    "               histtype='step',\n",
    "             ls = '-')\n",
    "\n",
    "#################\n",
    "\n",
    "out = ax.hist(np.arccos(no_scan_light['ee_beam_costheta'])*rad_to_deg,\n",
    "               bins=bins, \n",
    "#                range=(0.5, 1),\n",
    "               weights=w_light, \n",
    "               label='light $Z^\\prime$, $m_{Z^\\prime} = 30$ MeV',\n",
    "              facecolor='dodgerblue',\n",
    "              alpha = 0.8, lw= 0, \n",
    "              edgecolor='dodgerblue',\n",
    "               histtype='bar',\n",
    "             ls='-')\n",
    "out = ax.hist(np.arccos(no_scan_light['ee_beam_costheta'])*rad_to_deg,\n",
    "               bins=bins, \n",
    "#                range=(0.5, 1),\n",
    "               weights=w_light, \n",
    "              facecolor='dodgerblue',\n",
    "              alpha = 1, lw= 1., \n",
    "              edgecolor='dodgerblue',\n",
    "               histtype='step',\n",
    "             ls='-')\n",
    "\n",
    "# ax.annotate(r\"$m_N = 150$ MeV\", xy=(20, 0.35), fontsize=12, color=\"black\", rotation_mode='anchor')\n",
    "# ax.legend(loc='upper right',frameon=False)\n",
    "\n",
    "ax.set_xlabel(r\"$\\theta_{ee-{\\rm beam}}$ (degrees)\")\n",
    "ax.set_ylabel(r\"a.u.\")\n",
    "ax.set_xlim(0.0,60)\n",
    "ax.set_ylim(0.0,0.65)\n",
    "ax.patch.set_visible(False)\n",
    "plt.savefig(\"paper_plots/beam_angle.png\", dpi=400)"
   ]
  },
  {
   "cell_type": "markdown",
   "id": "tribal-earth",
   "metadata": {},
   "source": [
    "# experimental t"
   ]
  },
  {
   "cell_type": "code",
   "execution_count": 122,
   "id": "metropolitan-italy",
   "metadata": {},
   "outputs": [
    {
     "data": {
      "image/png": "[encoded data removed]",
      "text/plain": [
       "<Figure size 252x238.059 with 1 Axes>"
      ]
     },
     "metadata": {
      "needs_background": "light"
     },
     "output_type": "display_data"
    }
   ],
   "source": [
    "fsize = 11\n",
    "rc('text', usetex=True)\n",
    "rcparams={'axes.labelsize':fsize,'xtick.labelsize':fsize,'ytick.labelsize':fsize,\\\n",
    "\t\t\t\t'figure.figsize':(3.5,1.4*2.3617)\t}\n",
    "rc('font',**{'family':'serif', 'serif': ['computer modern roman']})\n",
    "rcParams.update(rcparams)\n",
    "axes_form  = [0.15,0.15,0.78,0.74]\n",
    "fig = plt.figure()\n",
    "ax = fig.add_axes(axes_form)\n",
    "\n",
    "bins = np.linspace(0,np.sqrt(0.05)*1e3,30)\n",
    "\n",
    "w_heavy = actual_weights_heavy/np.sum(actual_weights_heavy)\n",
    "w_light = actual_weights_light/np.sum(actual_weights_light)\n",
    "\n",
    "out = ax.hist(np.sqrt(df_std['experimental_t', ''])*1e3,\n",
    "               bins=bins, \n",
    "#                range=(0.5, 1),\n",
    "               weights=wstd, \n",
    "               label='std N decays-in-flight',\n",
    "                facecolor='dodgerblue',\n",
    "              edgecolor='black',\n",
    "               histtype='step',\n",
    "             lw=1.5)\n",
    "\n",
    "\n",
    "out = ax.hist(np.sqrt(no_scan_heavy['experimental_t'])*1e3,\n",
    "               bins=bins, \n",
    "#                range=(0.5, 1),\n",
    "               weights=w_heavy, \n",
    "               label='heavy $Z^\\prime$, $m_{Z^\\prime} = 1.25$ GeV',\n",
    "                facecolor='darkorange',\n",
    "              alpha = 0.8, lw=0,\n",
    "              edgecolor='darkorange',\n",
    "               histtype='bar',\n",
    "             ls = '-')\n",
    "out = ax.hist(np.sqrt(no_scan_heavy['experimental_t'])*1e3,\n",
    "               bins=bins, \n",
    "#                range=(0.5, 1),\n",
    "               weights=w_heavy, \n",
    "                facecolor='darkorange',\n",
    "              alpha = 1, lw=1.,\n",
    "              edgecolor='darkorange',\n",
    "               histtype='step',\n",
    "             ls = '-')\n",
    "\n",
    "#################\n",
    "\n",
    "out = ax.hist(np.sqrt(no_scan_light['experimental_t'])*1e3,\n",
    "               bins=bins, \n",
    "#                range=(0.5, 1),\n",
    "               weights=w_light, \n",
    "               label='light $Z^\\prime$, $m_{Z^\\prime} = 30$ MeV',\n",
    "              facecolor='dodgerblue',\n",
    "              alpha = 0.8, lw= 0, \n",
    "              edgecolor='dodgerblue',\n",
    "               histtype='bar',\n",
    "             ls='-')\n",
    "out = ax.hist(np.sqrt(no_scan_light['experimental_t'])*1e3,\n",
    "               bins=bins, \n",
    "#                range=(0.5, 1),\n",
    "               weights=w_light, \n",
    "              facecolor='dodgerblue',\n",
    "              alpha = 1, lw= 1., \n",
    "              edgecolor='dodgerblue',\n",
    "               histtype='step',\n",
    "             ls='-')\n",
    "\n",
    "# ax.annotate(r\"$m_N = 150$ MeV\", xy=(100, 0.2), fontsize=12, color=\"black\", rotation_mode='anchor')\n",
    "# ax.legend(loc='upper right',frameon=False)\n",
    "\n",
    "ax.set_xlabel(r\"$\\sqrt{|t|}/$ MeV\")\n",
    "ax.set_ylabel(r\"a.u.\") \n",
    "ax.set_xlim(0.0,200)\n",
    "ax.set_ylim(0.0,0.25)\n",
    "ax.patch.set_visible(False)\n",
    "plt.savefig(\"paper_plots/experimental_t.png\", dpi=400)"
   ]
  },
  {
   "cell_type": "markdown",
   "id": "engaging-operations",
   "metadata": {},
   "source": [
    "# invariant mass"
   ]
  },
  {
   "cell_type": "code",
   "execution_count": 126,
   "id": "dried-brief",
   "metadata": {},
   "outputs": [
    {
     "data": {
      "image/png": "[encoded data removed]",
      "text/plain": [
       "<Figure size 252x238.059 with 1 Axes>"
      ]
     },
     "metadata": {
      "needs_background": "light"
     },
     "output_type": "display_data"
    }
   ],
   "source": [
    "fsize = 11\n",
    "rc('text', usetex=True)\n",
    "rcparams={'axes.labelsize':fsize,'xtick.labelsize':fsize,'ytick.labelsize':fsize,\\\n",
    "\t\t\t\t'figure.figsize':(3.5,1.4*2.3617)\t}\n",
    "rc('font',**{'family':'serif', 'serif': ['computer modern roman']})\n",
    "rcParams.update(rcparams)\n",
    "axes_form  = [0.15,0.15,0.78,0.74]\n",
    "fig = plt.figure()\n",
    "ax = fig.add_axes(axes_form)\n",
    "\n",
    "bins = np.linspace(0,180,30)\n",
    "\n",
    "w_heavy = actual_weights_heavy/np.sum(actual_weights_heavy)\n",
    "w_light = actual_weights_light/np.sum(actual_weights_light)\n",
    "\n",
    "out = ax.hist(df_std['ee_mass', '']*1e3,\n",
    "               bins=bins, \n",
    "#                range=(0.5, 1),\n",
    "               weights=wstd, \n",
    "               label='std N decays-in-flight',\n",
    "                facecolor='dodgerblue',\n",
    "              edgecolor='black',\n",
    "               histtype='step',\n",
    "             lw=1.5)\n",
    "\n",
    "\n",
    "out = ax.hist(no_scan_heavy['ee_mass']*1e3,\n",
    "               bins=bins, \n",
    "#                range=(0.5, 1),\n",
    "               weights=w_heavy, \n",
    "               label='heavy $Z^\\prime$, $m_{Z^\\prime} = 1.25$ GeV',\n",
    "                facecolor='darkorange',\n",
    "              alpha = 0.8, lw=0,\n",
    "              edgecolor='darkorange',\n",
    "               histtype='bar',\n",
    "             ls = '-')\n",
    "out = ax.hist(no_scan_heavy['ee_mass']*1e3,\n",
    "               bins=bins, \n",
    "#                range=(0.5, 1),\n",
    "               weights=w_heavy, \n",
    "                facecolor='darkorange',\n",
    "              alpha = 1, lw=1.,\n",
    "              edgecolor='darkorange',\n",
    "               histtype='step',\n",
    "             ls = '-')\n",
    "\n",
    "#################\n",
    "\n",
    "out = ax.hist(no_scan_light['ee_mass']*1e3,\n",
    "               bins=bins, \n",
    "#                range=(0.5, 1),\n",
    "               weights=w_light, \n",
    "               label='light $Z^\\prime$, $m_{Z^\\prime} = 30$ MeV',\n",
    "              facecolor='dodgerblue',\n",
    "              alpha = 0.8, lw= 0, \n",
    "              edgecolor='dodgerblue',\n",
    "               histtype='bar',\n",
    "             ls='-')\n",
    "out = ax.hist(no_scan_light['ee_mass']*1e3,\n",
    "               bins=bins, \n",
    "#                range=(0.5, 1),\n",
    "               weights=w_light, \n",
    "              facecolor='dodgerblue',\n",
    "              alpha = 1, lw= 1., \n",
    "              edgecolor='dodgerblue',\n",
    "               histtype='step',\n",
    "             ls='-')\n",
    "\n",
    "# ax.annotate(r\"$m_N = 150$ MeV\", xy=(100, 0.2), fontsize=12, color=\"black\", rotation_mode='anchor')\n",
    "# ax.legend(loc='upper right',frameon=False)\n",
    "\n",
    "ax.set_xlabel(r\"$m_{e^+e^-}/$ MeV\")\n",
    "ax.set_ylabel(r\"a.u.\")\n",
    "ax.set_xlim(0.0,180)\n",
    "ax.set_ylim(0.0,0.120)\n",
    "ax.patch.set_visible(False)\n",
    "plt.savefig(\"paper_plots/invmass.png\", dpi=400)"
   ]
  },
  {
   "cell_type": "markdown",
   "id": "4fb81921-6a4d-4bc7-b47e-091ac2e8401f",
   "metadata": {},
   "source": [
    "# Standard HNL comparison"
   ]
  },
  {
   "cell_type": "code",
   "execution_count": null,
   "id": "93b4aa81-d19b-4cf8-bad0-522e3f18c2e1",
   "metadata": {},
   "outputs": [],
   "source": [
    "from fourvec import *"
   ]
  },
  {
   "cell_type": "code",
   "execution_count": null,
   "id": "320293cc-aba4-4488-9e46-9f8a0dec49fc",
   "metadata": {},
   "outputs": [],
   "source": [
    "df_std = pd.read_pickle(f'../standardHNL/data/MC_m4_0.15_mzprime_1.25.pckl')\n",
    "# compute useful variables\n",
    "for df in [df_std]:\n",
    "    for comp in ['t','x','y','z']:\n",
    "        df['pee', comp] = df['plm', comp] + df['plp', comp]\n",
    "        df['pdark', comp] = df['plm', comp] + df['plp', comp] + df['pnu', comp]\n",
    "    df['recoil_mass', ''] = inv_mass(df['pHad']).round(6)\n",
    "    df['ee_mass', ''] = inv_mass(df['pee'])\n",
    "    df['ee_costheta', ''] = costheta(df['plm'], df['plp'])\n",
    "    df['ee_beam_costheta', ''] = df['pee', 'z']/np.sqrt(dot3_df(df['pee'], df['pee']))\n",
    "    df['ee_momentum', ''] = np.sqrt(dot3_df(df['pee'], df['pee']))\n",
    "    df['experimental_t', ''] = (df['plm','t'] - df['plm','z'] + df['plp','t'] - df['plp','z'])**2 +\\\n",
    "                                   df['plm','x']**2 + df['plm','y']**2 + df['plp','x']**2 + df['plp','y']**2\n",
    "    \n",
    "# weights\n",
    "wstd=df_std['weight', '']/np.sum(df_std['weight', ''])\n"
   ]
  },
  {
   "cell_type": "code",
   "execution_count": null,
   "id": "21d149ab-3e24-4fa6-89e9-1302eec64836",
   "metadata": {},
   "outputs": [],
   "source": [
    "save_dir='../plots/stdHNL/'"
   ]
  },
  {
   "cell_type": "code",
   "execution_count": null,
   "id": "9254207c-8d4a-4af9-ab6b-246766013b7e",
   "metadata": {},
   "outputs": [],
   "source": [
    "case = 'heavy'\n",
    "D_or_M = 'majorana'\n",
    "m4mz=(0.15, 1.25)\n",
    "\n",
    "my_exp_analysis = exp_analysis(case, D_or_M)\n",
    "my_exp_analysis.load_df(0.15, 1.25)\n",
    "no_scan = my_exp_analysis.dfs[m4mz]\n",
    "selected_df = no_scan.query('cut_based')"
   ]
  },
  {
   "cell_type": "code",
   "execution_count": null,
   "id": "5d2b10a4-e3e7-41dc-a29a-962e1292e8bb",
   "metadata": {},
   "outputs": [],
   "source": [
    "ctau=0.1\n",
    "my_exp_analysis.decay_in_tpc(no_scan, ctau)\n",
    "weights_geometric = no_scan[f'decay_in_tpc_{ctau}']"
   ]
  },
  {
   "cell_type": "code",
   "execution_count": null,
   "id": "12f79329-0cd3-461d-a126-7685306dac21",
   "metadata": {},
   "outputs": [],
   "source": [
    "actual_weights = selected_df['actual_weight']\n",
    "actual_weights *= weights_geometric\n",
    "\n",
    "var='ee_momentum'\n",
    "\n",
    "no_scan_pred, bin_edges = np.histogram(selected_df[var],\n",
    "                            range=[0,5],\n",
    "                            bins=10,\n",
    "                            weights=actual_weights,\n",
    "                            )\n",
    "no_scan_pred_err = np.histogram(selected_df[var],\n",
    "                            range=[0,5],\n",
    "                            bins=10,\n",
    "                            weights=actual_weights**2,\n",
    "                            )[0] \n"
   ]
  },
  {
   "cell_type": "code",
   "execution_count": null,
   "id": "50d18439-4d37-48df-95bb-581852dec13b",
   "metadata": {},
   "outputs": [],
   "source": [
    "EMAX=8.0\n",
    "bins=8\n",
    "\n",
    "ctaus = [2, 10]\n",
    "m4 = 0.15\n",
    "mz = 1.25\n",
    "variable = ('ee_momentum')\n",
    "selection_step = 'cut_based'\n",
    "cut=0.150\n",
    "fig, ax = plot_var_postsel_and_cut(my_exp_analysis, 'ee_energy', m4, mz, ctaus, \n",
    "                                    selection_step, \n",
    "                                    smooth_m4=0.03, \n",
    "                                    smooth_mz=0.1, \n",
    "                                    right_cut=0.140,\n",
    "                                    normed=True,\n",
    "                                    bins=bins,\n",
    "                                   colors=['red','forestgreen'],\n",
    "                                    xrange=(0,EMAX))\n",
    "\n",
    "# now generated prediction\n",
    "ax.errorbar((bin_edges[1:]+bin_edges[:-1])/2, no_scan_pred, \n",
    "            yerr=np.sqrt(no_scan_pred_err),\n",
    "            fmt='k.',\n",
    "            label=f'no scanning: {no_scan_pred.sum():.2g} '\\\n",
    "            f'$\\pm$ {100*np.sqrt(no_scan_pred_err.sum())/no_scan_pred.sum():.2g}%')\n",
    "\n",
    "out = ax.hist(df_std['ee_momentum', ''], \n",
    "               bins=bins, \n",
    "               range=(0, EMAX),\n",
    "               weights=wstd, \n",
    "               label='standard decay-in-flight HNL',\n",
    "                facecolor='None',\n",
    "              edgecolor='royalblue',\n",
    "              lw=0.5,\n",
    "               histtype='bar',\n",
    "            hatch='////',\n",
    "             density=True)\n",
    "\n",
    "\n",
    "out = ax.hist(df_std['ee_momentum', ''], \n",
    "               bins=bins, \n",
    "               range=(0, EMAX),\n",
    "               weights=wstd, \n",
    "                facecolor='None',\n",
    "              edgecolor='royalblue',\n",
    "              lw=1.0,\n",
    "               histtype='bar',\n",
    "             density=True)\n",
    "\n",
    "ax.legend(loc='upper right',frameon=False)\n",
    "ax.set_xlabel(r\"$|\\vec{p}_{e^+e^-}|$ (GeV)\")\n",
    "ax.set_ylabel(r\"a.u.\")\n",
    "ax.set_xlim(0.,EMAX)\n",
    "ax.set_title(r\"$m_4 = 150$ MeV -- all inclusive\",fontsize=fsize)\n",
    "plt.savefig(f\"{save_dir}/ee_momentum.png\", dpi=400)"
   ]
  },
  {
   "cell_type": "code",
   "execution_count": null,
   "id": "8a94a166-8dab-4a66-8cf2-224d8e19e18d",
   "metadata": {},
   "outputs": [],
   "source": []
  }
 ],
 "metadata": {
  "kernelspec": {
   "display_name": "Python 3",
   "language": "python",
   "name": "python3"
  },
  "language_info": {
   "codemirror_mode": {
    "name": "ipython",
    "version": 3
   },
   "file_extension": ".py",
   "mimetype": "text/x-python",
   "name": "python",
   "nbconvert_exporter": "python",
   "pygments_lexer": "ipython3",
   "version": "3.8.8"
  }
 },
 "nbformat": 4,
 "nbformat_minor": 5
}
