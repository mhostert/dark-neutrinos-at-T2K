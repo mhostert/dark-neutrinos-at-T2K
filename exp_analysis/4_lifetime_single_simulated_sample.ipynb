{
 "cells": [
  {
   "cell_type": "markdown",
   "metadata": {},
   "source": [
    "# This notebook provides a slider to compare different physics parameters"
   ]
  },
  {
   "cell_type": "code",
   "execution_count": 1,
   "metadata": {},
   "outputs": [],
   "source": [
    "%load_ext autoreload\n",
    "%autoreload 2"
   ]
  },
  {
   "cell_type": "code",
   "execution_count": 2,
   "metadata": {},
   "outputs": [],
   "source": [
    "from copy import deepcopy\n",
    "\n",
    "import matplotlib.pyplot as plt\n",
    "from matplotlib.legend_handler import HandlerLine2D, HandlerTuple\n",
    "from matplotlib.colors import LogNorm\n",
    "import numpy as np\n",
    "from scipy.interpolate import interp1d\n",
    "from scipy.optimize import root_scalar\n",
    "import pandas as pd\n",
    "\n",
    "import seaborn as sns\n",
    "from scipy.interpolate import griddata\n",
    "\n",
    "from ipywidgets import interact, interactive, fixed, interact_manual, FloatSlider, Dropdown\n",
    "import ipywidgets as widgets\n",
    "\n",
    "from parameters_dict import physics_parameters, likelihood_levels_1d, detector_splitting_x, detector_splitting_z\n",
    "from dark_nus_utils import load_datasets\n",
    "from plot_utils import kde_variable_plot\n",
    "from ctau_utils import ctau_heavy\n",
    "from analyses_dict import analyses\n",
    "from const import alphaQED\n",
    "from likelihood_contours_plot import set_plot_style, set_canvas_basic, set_plot_title, plot_data_from_analysis\n",
    "from parameters_dict import *\n",
    "from exp_analysis_class import exp_analysis\n",
    "from ctau_utils import ctau_heavy\n",
    "from const import alphaQED\n",
    "from Likelihood import LEff"
   ]
  },
  {
   "cell_type": "code",
   "execution_count": 3,
   "metadata": {},
   "outputs": [],
   "source": [
    "hierarchy = 'heavy'\n",
    "D_or_M = 'dirac'\n",
    "save_folder = (f'../fig/4_analysis_variables_plots_single_simulated/')\n",
    "!mkdir -p $save_folder\n",
    "save_folder = (f'../fig/4_analysis_variables_plots_single_simulated/{hierarchy}_{D_or_M}_')\n",
    "\n",
    "set_plot_style()"
   ]
  },
  {
   "cell_type": "code",
   "execution_count": 4,
   "metadata": {},
   "outputs": [
    {
     "name": "stdout",
     "output_type": "stream",
     "text": [
      "loading df 0.1, 1.25\n",
      "initialising df 0.1, 1.25\n",
      "loading df 0.1, 1.25\n",
      "initialising df 0.1, 1.25\n"
     ]
    }
   ],
   "source": [
    "my_exp_analyses = {}\n",
    "base_pars = (physics_parameters[hierarchy]['bp']['m4'], physics_parameters[hierarchy]['bp']['mz'])\n",
    "for nu_mode, exp_code in zip(['FHC', 'RHC'], ['nd280_nu', 'nd280_nubar']):\n",
    "    my_exp_analyses[f'{hierarchy}_{D_or_M}_{nu_mode}'] = exp_analysis(hierarchy, D_or_M, nu_mode, base_folder='../data')\n",
    "    my_exp_analyses[f'{hierarchy}_{D_or_M}_{nu_mode}'].load_df(*base_pars)"
   ]
  },
  {
   "cell_type": "markdown",
   "metadata": {},
   "source": [
    "## Find the c$\\tau$ we exclude at minimum"
   ]
  },
  {
   "cell_type": "code",
   "execution_count": 5,
   "metadata": {},
   "outputs": [],
   "source": [
    "this_point = deepcopy(physics_parameters[hierarchy]['bp'])\n",
    "this_point['epsilon'] = 1e-20\n",
    "\n",
    "base_like = 0\n",
    "for nu_mode in ['FHC', 'RHC']:\n",
    "    aux = my_exp_analyses[f'{hierarchy}_{D_or_M}_FHC'].compute_likelihood_from_pars(\n",
    "                                     my_exp_analyses[f'{hierarchy}_{D_or_M}_FHC'].dfs[base_pars],\n",
    "                                     **this_point, \n",
    "                                     analysis=analyses['tpc']['FHC'], \n",
    "                                     like_normalized=False,\n",
    "                                     is_scan=False)\n",
    "    base_like += (-aux[0])"
   ]
  },
  {
   "cell_type": "code",
   "execution_count": 7,
   "metadata": {},
   "outputs": [],
   "source": [
    "ctaus = np.geomspace(1e-1, 2, 51)\n",
    "this_point = deepcopy(physics_parameters[hierarchy]['bp'])\n",
    "this_point['external_ctau'] = ctaus\n",
    "\n",
    "leff = np.zeros(ctaus.shape)\n",
    "mu_s = np.zeros(ctaus.shape)\n",
    "sigma2_s = np.zeros(ctaus.shape)\n",
    "for nu_mode in ['FHC', 'RHC']:\n",
    "    aux = my_exp_analyses[f'{hierarchy}_{D_or_M}_{nu_mode}'].compute_likelihood_from_pars(\n",
    "                                 my_exp_analyses[f'{hierarchy}_{D_or_M}_{nu_mode}'].dfs[base_pars],\n",
    "                                 **this_point, \n",
    "                                 analysis=analyses['tpc'][nu_mode], \n",
    "                                 like_normalized=False,\n",
    "                                 is_scan=False)\n",
    "    leff += aux[0]\n",
    "    mu_s += aux[1]\n",
    "    sigma2_s += aux[3]\n",
    "\n",
    "leff *= -1\n",
    "leff -= base_like"
   ]
  },
  {
   "cell_type": "code",
   "execution_count": 9,
   "metadata": {},
   "outputs": [],
   "source": [
    "like_interp = interp1d(ctaus, leff-likelihood_levels_1d[0.9], kind='cubic')\n",
    "r1 = root_scalar(like_interp, method='brentq', bracket=[1e-1, 2], \n",
    "                 fprime=None, fprime2=None, x0=0.2, x1=0.15)"
   ]
  },
  {
   "cell_type": "code",
   "execution_count": 10,
   "metadata": {},
   "outputs": [
    {
     "data": {
      "text/plain": [
       "0.2963160933013877"
      ]
     },
     "execution_count": 10,
     "metadata": {},
     "output_type": "execute_result"
    }
   ],
   "source": [
    "r1.root"
   ]
  },
  {
   "cell_type": "code",
   "execution_count": 11,
   "metadata": {},
   "outputs": [
    {
     "data": {
      "text/plain": [
       "<matplotlib.legend.Legend at 0x2ad961416e50>"
      ]
     },
     "execution_count": 11,
     "metadata": {},
     "output_type": "execute_result"
    },
    {
     "name": "stderr",
     "output_type": "stream",
     "text": [
      "findfont: Font family ['serif'] not found. Falling back to DejaVu Sans.\n"
     ]
    },
    {
     "data": {
      "image/png": "[encoded data removed]",
      "text/plain": [
       "<Figure size 319.68x204.051 with 2 Axes>"
      ]
     },
     "metadata": {
      "needs_background": "light"
     },
     "output_type": "display_data"
    }
   ],
   "source": [
    "ax = set_canvas_basic()\n",
    "ax.set_xlabel('$c\\\\tau^0$ [cm]')\n",
    "ax.set_ylabel('Expected events in Analysis-I')\n",
    "ax.set_xscale('log')\n",
    "ax.set_yscale('log')\n",
    "ax.set_ylim(mu_s[0], mu_s[-1])\n",
    "\n",
    "ax.fill_between(ctaus, mu_s-np.sqrt(sigma2_s), mu_s+np.sqrt(sigma2_s), \n",
    "                color='C0', alpha=0.3, label='number of events')\n",
    "ax.vlines(r1.root, 0, 1e4, color='darkgrey', ls='--')\n",
    "ax.annotate('Excluded region', color='dodgerblue', xy=(1, 1e-1))\n",
    "# ax.set_ylim(1e-2, 5e2)\n",
    "# ax.set_ylim(1e1, 5e2)\n",
    "\n",
    "ax2 = ax.twinx()\n",
    "ax2.plot(ctaus, leff, color='darkorange', ls='-', label='likelihood')\n",
    "ax2.set_yscale('log')\n",
    "ax2.set_ylabel('Likelihood')\n",
    "ax2.set_ylim(bottom=0.1)\n",
    "ax2.hlines(likelihood_levels_1d[0.9], ctaus[0], ctaus[-1], ls='--', color='orange')\n",
    "\n",
    "ax.legend()\n",
    "ax2.legend()\n",
    "# plt.savefig(save_folder+'n_events_vs_ctau.pdf', bbox_inches='tight')"
   ]
  },
  {
   "cell_type": "markdown",
   "metadata": {},
   "source": [
    "## Paper plot"
   ]
  },
  {
   "cell_type": "code",
   "execution_count": 12,
   "metadata": {},
   "outputs": [],
   "source": [
    "V_N_2_s = np.geomspace(physics_parameters['heavy']['bp']['Umu4_2'], 1e2, 25)\n",
    "this_point = deepcopy(physics_parameters[hierarchy]['bp'])\n",
    "this_point['Ud4_2'] = V_N_2_s\n",
    "\n",
    "ctaus = ctau_heavy(m4=this_point['m4'],\n",
    "                   mz=this_point['mz'], \n",
    "                   Valpha4_alphaepsilon2=this_point['alpha_dark'] * this_point['Ud4_2'] * alphaQED * this_point['epsilon']**2, \n",
    "                   D_or_M=D_or_M)\n",
    "\n",
    "leff = np.zeros(V_N_2_s.shape)\n",
    "mu_s = np.zeros(V_N_2_s.shape)\n",
    "sigma2_s = np.zeros(V_N_2_s.shape)\n",
    "for nu_mode in ['FHC', 'RHC']:\n",
    "    aux = my_exp_analyses[f'{hierarchy}_{D_or_M}_{nu_mode}'].compute_likelihood_from_pars(\n",
    "                                 my_exp_analyses[f'{hierarchy}_{D_or_M}_{nu_mode}'].dfs[base_pars],\n",
    "                                 **this_point, \n",
    "                                 analysis=analyses['tpc'][nu_mode], \n",
    "                                 like_normalized=False,\n",
    "                                 is_scan=False)\n",
    "    leff += aux[0]\n",
    "    mu_s += aux[1]\n",
    "    sigma2_s += aux[3]\n",
    "\n",
    "leff *= -1\n",
    "leff -= base_like"
   ]
  },
  {
   "cell_type": "code",
   "execution_count": 13,
   "metadata": {},
   "outputs": [],
   "source": [
    "like_interp = interp1d(ctaus, leff-likelihood_levels_1d[0.9], kind='cubic')\n",
    "r1 = root_scalar(like_interp, method='brentq', bracket=[1e-2, 1], \n",
    "                 fprime=None, fprime2=None, x0=0.2, x1=0.15)\n",
    "r2 = root_scalar(like_interp, method='brentq', bracket=[1e3, 1e5], \n",
    "                 fprime=None, fprime2=None, x0=1e4, x1=2e4)"
   ]
  },
  {
   "cell_type": "code",
   "execution_count": 14,
   "metadata": {},
   "outputs": [
    {
     "name": "stdout",
     "output_type": "stream",
     "text": [
      "0.29694610046288644 4227.091613797332\n"
     ]
    }
   ],
   "source": [
    "print(r1.root, r2.root)"
   ]
  },
  {
   "cell_type": "code",
   "execution_count": 15,
   "metadata": {},
   "outputs": [
    {
     "data": {
      "text/plain": [
       "(-1.0, 1.0)"
      ]
     },
     "execution_count": 15,
     "metadata": {},
     "output_type": "execute_result"
    },
    {
     "data": {
      "image/png": "[encoded data removed]",
      "text/plain": [
       "<Figure size 319.68x204.051 with 1 Axes>"
      ]
     },
     "metadata": {
      "needs_background": "light"
     },
     "output_type": "display_data"
    }
   ],
   "source": [
    "plt.plot(np.geomspace(1e-2, 1e5, 50), like_interp(np.geomspace(1e-2, 1e5, 50)))\n",
    "plt.plot(ctaus, leff-likelihood_levels_1d[0.9])\n",
    "plt.xscale('log')\n",
    "# plt.yscale('log')\n",
    "plt.ylim(-1, 1)"
   ]
  },
  {
   "cell_type": "code",
   "execution_count": 16,
   "metadata": {},
   "outputs": [
    {
     "name": "stderr",
     "output_type": "stream",
     "text": [
      "<ipython-input-16-2f8ab5999535>:18: RuntimeWarning: divide by zero encountered in log\n",
      "  return np.exp(backward_fun(np.log(x)))\n",
      "<ipython-input-16-2f8ab5999535>:18: RuntimeWarning: divide by zero encountered in log\n",
      "  return np.exp(backward_fun(np.log(x)))\n"
     ]
    },
    {
     "data": {
      "image/png": "[encoded data removed]",
      "text/plain": [
       "<Figure size 319.68x204.051 with 1 Axes>"
      ]
     },
     "metadata": {
      "needs_background": "light"
     },
     "output_type": "display_data"
    }
   ],
   "source": [
    "from scipy.interpolate import UnivariateSpline\n",
    "\n",
    "fig = plt.figure()\n",
    "axes_form = [0.17,0.19,0.81,0.64]\n",
    "ax = fig.add_axes(axes_form)\n",
    "ax.set_xlabel('$c\\\\tau^0$ [cm]')\n",
    "ax.set_ylabel('Expected events in Analysis-I')\n",
    "ax.set_xscale('log')\n",
    "ax.set_yscale('log')\n",
    "\n",
    "forward_fun = UnivariateSpline(np.log(ctaus[::-1]), np.log(V_N_2_s[::-1]), k=1)\n",
    "backward_fun = UnivariateSpline(np.log(V_N_2_s), np.log(ctaus), k=1)\n",
    "\n",
    "def forward(x):\n",
    "    return np.exp(forward_fun(np.log(x)))\n",
    "\n",
    "def backward(x):\n",
    "    return np.exp(backward_fun(np.log(x)))\n",
    "\n",
    "secax = ax.secondary_xaxis('top', functions=(forward, backward))\n",
    "secax.set_xlabel('$|V_N|^2$')\n",
    "secax.set_ticks\n",
    "\n",
    "ax.fill_betweenx([1e-2, 1e4], \n",
    "                 backward(physics_parameters['heavy']['bp']['Umu4_2']), backward(1), \n",
    "                 color='darkorange', alpha=0.1)\n",
    "ax.annotate('Physical\\n region', color='darkorange', xy=(5e4, 5e1))\n",
    "\n",
    "ax.fill_between(ctaus, mu_s-np.sqrt(sigma2_s), mu_s+np.sqrt(sigma2_s), \n",
    "                color='C0', alpha=0.3, label='number of events')\n",
    "ax.vlines(r1.root, 0, 1e4, color='dodgerblue', ls='--')\n",
    "ax.vlines(r2.root, 0, 1e4, color='dodgerblue', ls='--')\n",
    "ax.annotate('Excluded region', color='dodgerblue', xy=(1, 1e-1))\n",
    "ax.annotate('Benchmark\\npoint\\nheavy '+r'$Z^{\\prime}$', color='black', xy=(3e-3, 20))\n",
    "ax.set_ylim(1e-2, 5e2)\n",
    "\n",
    "plt.savefig(save_folder+'n_events_vs_ctau_vs_V_ND.pdf')\n",
    "plt.savefig(save_folder+'n_events_vs_ctau_vs_V_ND.png', bbox_inches='tight', transparent=True, dpi=500)"
   ]
  },
  {
   "cell_type": "markdown",
   "metadata": {},
   "source": [
    "## Additional check"
   ]
  },
  {
   "cell_type": "code",
   "execution_count": 17,
   "metadata": {},
   "outputs": [],
   "source": [
    "nu_mode = 'FHC'\n",
    "aux = my_exp_analyses[f'{hierarchy}_{D_or_M}_{nu_mode}'].compute_expectation(\n",
    "                        my_exp_analyses[f'{hierarchy}_{D_or_M}_{nu_mode}'].dfs[base_pars], \n",
    "                        m4=physics_parameters[hierarchy]['bp']['m4'], \n",
    "                        mz=physics_parameters[hierarchy]['bp']['mz'], \n",
    "                        alpha_dark=physics_parameters[hierarchy]['bp']['alpha_dark'], \n",
    "                        epsilon=physics_parameters[hierarchy]['bp']['epsilon'], \n",
    "                        Umu4_2=physics_parameters[hierarchy]['bp']['Umu4_2'], \n",
    "                        Ud4_2=None,\n",
    "                        external_ctau=[r1.root],\n",
    "                        ntarget_per_material=analyses['tpc'][nu_mode]['n_target'], \n",
    "                        pot=analyses['tpc'][nu_mode]['pot'],\n",
    "                        selection_query=analyses['tpc'][nu_mode]['selection'],\n",
    "                        efficiency_factor=analyses['tpc'][nu_mode]['efficiency'],\n",
    "                        is_scan=False)"
   ]
  },
  {
   "cell_type": "code",
   "execution_count": 18,
   "metadata": {},
   "outputs": [
    {
     "data": {
      "text/plain": [
       "661196"
      ]
     },
     "execution_count": 18,
     "metadata": {},
     "output_type": "execute_result"
    }
   ],
   "source": [
    "len(my_exp_analyses[f'{hierarchy}_{D_or_M}_{nu_mode}'].dfs[base_pars])"
   ]
  },
  {
   "cell_type": "code",
   "execution_count": 19,
   "metadata": {},
   "outputs": [
    {
     "data": {
      "text/plain": [
       "212889"
      ]
     },
     "execution_count": 19,
     "metadata": {},
     "output_type": "execute_result"
    }
   ],
   "source": [
    "len(aux[0])"
   ]
  },
  {
   "cell_type": "code",
   "execution_count": 20,
   "metadata": {},
   "outputs": [
    {
     "data": {
      "text/plain": [
       "(212889,)"
      ]
     },
     "execution_count": 20,
     "metadata": {},
     "output_type": "execute_result"
    }
   ],
   "source": [
    "aux[1].shape"
   ]
  },
  {
   "cell_type": "code",
   "execution_count": 21,
   "metadata": {},
   "outputs": [
    {
     "data": {
      "text/plain": [
       "array([[[[[[212889]]]]]])"
      ]
     },
     "execution_count": 21,
     "metadata": {},
     "output_type": "execute_result"
    }
   ],
   "source": [
    "aux[2]"
   ]
  },
  {
   "cell_type": "code",
   "execution_count": 22,
   "metadata": {},
   "outputs": [
    {
     "data": {
      "text/plain": [
       "0.07392335895800883"
      ]
     },
     "execution_count": 22,
     "metadata": {},
     "output_type": "execute_result"
    }
   ],
   "source": [
    "aux[1][aux[0]['hydrogen']].sum()"
   ]
  },
  {
   "cell_type": "code",
   "execution_count": 23,
   "metadata": {},
   "outputs": [
    {
     "data": {
      "text/plain": [
       "0.45230755208952883"
      ]
     },
     "execution_count": 23,
     "metadata": {},
     "output_type": "execute_result"
    }
   ],
   "source": [
    "aux[1][aux[0]['carbon']].sum()"
   ]
  },
  {
   "cell_type": "code",
   "execution_count": 24,
   "metadata": {},
   "outputs": [
    {
     "data": {
      "text/plain": [
       "0.7170972424118744"
      ]
     },
     "execution_count": 24,
     "metadata": {},
     "output_type": "execute_result"
    }
   ],
   "source": [
    "aux[1][aux[0]['lead']].sum()"
   ]
  },
  {
   "cell_type": "code",
   "execution_count": 25,
   "metadata": {},
   "outputs": [
    {
     "data": {
      "text/plain": [
       "0.20450387734855943"
      ]
     },
     "execution_count": 25,
     "metadata": {},
     "output_type": "execute_result"
    }
   ],
   "source": [
    "aux[1][aux[0].eval('carbon & (int_point_z < 240)')].sum()"
   ]
  },
  {
   "cell_type": "code",
   "execution_count": 26,
   "metadata": {},
   "outputs": [
    {
     "data": {
      "text/plain": [
       "0.2478036747409694"
      ]
     },
     "execution_count": 26,
     "metadata": {},
     "output_type": "execute_result"
    }
   ],
   "source": [
    "aux[1][aux[0].eval('carbon & (int_point_z > 240)')].sum()"
   ]
  },
  {
   "cell_type": "code",
   "execution_count": 27,
   "metadata": {},
   "outputs": [
    {
     "data": {
      "image/png": "[encoded data removed]",
      "text/plain": [
       "<Figure size 319.68x204.051 with 1 Axes>"
      ]
     },
     "metadata": {
      "needs_background": "light"
     },
     "output_type": "display_data"
    }
   ],
   "source": [
    "plt.hist(aux[0]['betagamma'], weights=aux[1], bins=30, range=(0,200), cumulative=True, histtype='step')\n",
    "# plt.yscale('log')\n",
    "plt.ylabel('Cumulative number of events')\n",
    "plt.xlabel(r'$\\beta \\gamma$')\n",
    "plt.title('BP-H1, Analysis-I, FHC')\n",
    "plt.savefig(save_folder+'n_events_vs_betagamma_test.pdf', bbox_inches='tight')"
   ]
  },
  {
   "cell_type": "markdown",
   "metadata": {},
   "source": [
    "# Geometrical acceptance"
   ]
  },
  {
   "cell_type": "code",
   "execution_count": 28,
   "metadata": {},
   "outputs": [],
   "source": [
    "ctaus = np.geomspace(1e-2, 1e4, 20)\n",
    "\n",
    "mu_s = {}\n",
    "sigma2_s = {}\n",
    "\n",
    "mu_s_noctau = {}\n",
    "sigma2_s_noctau = {}\n",
    "\n",
    "materials = ['lead', 'argon']\n",
    "for selection in materials:\n",
    "    mu_s[selection] = 0\n",
    "    sigma2_s[selection] = 0\n",
    "    mu_s_noctau[selection] = 0\n",
    "    sigma2_s_noctau[selection] = 0\n",
    "    for nu_mode in ['FHC', 'RHC']:\n",
    "        aux = my_exp_analyses[f'{hierarchy}_{D_or_M}_{nu_mode}'].compute_expectation(\n",
    "                                    my_exp_analyses[f'{hierarchy}_{D_or_M}_{nu_mode}'].dfs[base_pars], \n",
    "                                    m4=physics_parameters[hierarchy]['bp']['m4'], \n",
    "                                    mz=physics_parameters[hierarchy]['bp']['mz'], \n",
    "                                    alpha_dark=physics_parameters[hierarchy]['bp']['alpha_dark'], \n",
    "                                    epsilon=physics_parameters[hierarchy]['bp']['epsilon'], \n",
    "                                    Umu4_2=physics_parameters[hierarchy]['bp']['Umu4_2'], \n",
    "                                    Ud4_2=None,\n",
    "                                    external_ctau=ctaus,\n",
    "                                    ntarget_per_material=analyses['tpc'][nu_mode]['n_target'], \n",
    "                                    pot=analyses['tpc'][nu_mode]['pot'],\n",
    "                                    selection_query=analyses['tpc'][nu_mode]['selection'] + \" & \" + selection,\n",
    "                                    efficiency_factor=analyses['tpc'][nu_mode]['efficiency'],\n",
    "                                    is_scan=False)\n",
    "        mu_s[selection] += aux[1].sum(axis=0)\n",
    "        sigma2_s[selection] += (aux[1]**2).sum(axis=0)\n",
    "        \n",
    "        aux_noctau = my_exp_analyses[f'{hierarchy}_{D_or_M}_{nu_mode}'].compute_expectation(\n",
    "                                    my_exp_analyses[f'{hierarchy}_{D_or_M}_{nu_mode}'].dfs[base_pars], \n",
    "                                    m4=physics_parameters[hierarchy]['bp']['m4'], \n",
    "                                    mz=physics_parameters[hierarchy]['bp']['mz'], \n",
    "                                    alpha_dark=physics_parameters[hierarchy]['bp']['alpha_dark'], \n",
    "                                    epsilon=physics_parameters[hierarchy]['bp']['epsilon'], \n",
    "                                    Umu4_2=physics_parameters[hierarchy]['bp']['Umu4_2'], \n",
    "                                    Ud4_2=None,\n",
    "                                    external_ctau=None,\n",
    "                                    ntarget_per_material=analyses['tpc'][nu_mode]['n_target'], \n",
    "                                    pot=analyses['tpc'][nu_mode]['pot'],\n",
    "                                    selection_query=analyses['tpc'][nu_mode]['selection'] + \" & \" + selection,\n",
    "                                    efficiency_factor=analyses['tpc'][nu_mode]['efficiency'],\n",
    "                                    is_scan=False)\n",
    "        mu_s_noctau[selection] += aux_noctau[1].sum(axis=0)\n",
    "        sigma2_s_noctau[selection] += (aux_noctau[1]**2).sum(axis=0)"
   ]
  },
  {
   "cell_type": "code",
   "execution_count": 29,
   "metadata": {},
   "outputs": [
    {
     "data": {
      "image/png": "[encoded data removed]",
      "text/plain": [
       "<Figure size 319.68x204.051 with 1 Axes>"
      ]
     },
     "metadata": {
      "needs_background": "light"
     },
     "output_type": "display_data"
    }
   ],
   "source": [
    "ax = set_canvas_basic()\n",
    "\n",
    "for selection in materials:     \n",
    "    ax.plot(ctaus, mu_s[selection]/mu_s_noctau[selection], label=selection)\n",
    "\n",
    "ax.hlines(tpc_total_fiducial_volume/tpc_total_active_volume, ctaus[0], ctaus[-1], \n",
    "          ls='--', color='darkgrey',\n",
    "          label='fiducial-to-active TPC volume ratio')\n",
    "\n",
    "ax.set_xlabel('$c\\\\tau$ [cm]')\n",
    "ax.set_ylabel('Geometrical acceptance')\n",
    "ax.set_xscale('log')\n",
    "ax.legend(frameon=False, loc='upper left')\n",
    "\n",
    "ax.set_ylim(0, 1)\n",
    "\n",
    "plt.savefig(save_folder+'geometrical_acceptance.pdf', bbox_inches='tight', transparent=True)\n",
    "plt.savefig(save_folder+'geometrical_acceptance.png', bbox_inches='tight', dpi=500, transparent=True)"
   ]
  },
  {
   "cell_type": "markdown",
   "metadata": {
    "tags": []
   },
   "source": [
    "# 1d detector plot"
   ]
  },
  {
   "cell_type": "code",
   "execution_count": 30,
   "metadata": {},
   "outputs": [],
   "source": [
    "ctaus = np.array([100, 1, 0.01])\n",
    "\n",
    "aux = {}\n",
    "aux_noctau = {}\n",
    "for nu_mode in ['FHC', 'RHC']:\n",
    "    aux[nu_mode] = my_exp_analyses[f'{hierarchy}_{D_or_M}_{nu_mode}'].compute_expectation(\n",
    "                                my_exp_analyses[f'{hierarchy}_{D_or_M}_{nu_mode}'].dfs[base_pars], \n",
    "                                m4=physics_parameters[hierarchy]['bp']['m4'], \n",
    "                                mz=physics_parameters[hierarchy]['bp']['mz'], \n",
    "                                alpha_dark=physics_parameters[hierarchy]['bp']['alpha_dark'], \n",
    "                                epsilon=physics_parameters[hierarchy]['bp']['epsilon'], \n",
    "                                Umu4_2=physics_parameters[hierarchy]['bp']['Umu4_2'], \n",
    "                                Ud4_2=None,\n",
    "                                external_ctau=ctaus,\n",
    "                                ntarget_per_material=analyses['tpc'][nu_mode]['n_target'], \n",
    "                                pot=analyses['tpc'][nu_mode]['pot'],\n",
    "                                selection_query=analyses['tpc'][nu_mode]['selection'],\n",
    "                                efficiency_factor=analyses['tpc'][nu_mode]['efficiency'],\n",
    "                                is_scan=False)\n",
    "    aux_noctau[nu_mode] = my_exp_analyses[f'{hierarchy}_{D_or_M}_{nu_mode}'].compute_expectation(\n",
    "                                my_exp_analyses[f'{hierarchy}_{D_or_M}_{nu_mode}'].dfs[base_pars], \n",
    "                                m4=physics_parameters[hierarchy]['bp']['m4'], \n",
    "                                mz=physics_parameters[hierarchy]['bp']['mz'], \n",
    "                                alpha_dark=physics_parameters[hierarchy]['bp']['alpha_dark'], \n",
    "                                epsilon=physics_parameters[hierarchy]['bp']['epsilon'], \n",
    "                                Umu4_2=physics_parameters[hierarchy]['bp']['Umu4_2'], \n",
    "                                Ud4_2=None,\n",
    "                                external_ctau=None,\n",
    "                                ntarget_per_material=analyses['tpc'][nu_mode]['n_target'], \n",
    "                                pot=analyses['tpc'][nu_mode]['pot'],\n",
    "                                selection_query=analyses['tpc'][nu_mode]['selection'],\n",
    "                                efficiency_factor=analyses['tpc'][nu_mode]['efficiency'],\n",
    "                                is_scan=False)"
   ]
  },
  {
   "cell_type": "code",
   "execution_count": 31,
   "metadata": {},
   "outputs": [],
   "source": [
    "out_noctau = []\n",
    "out_noctau.append(pd.concat([aux_noctau['FHC'][0], aux_noctau['RHC'][0]]))\n",
    "out_noctau.append(np.concatenate([aux_noctau['FHC'][1], aux_noctau['RHC'][1]], axis=0))\n",
    "\n",
    "out = []\n",
    "out.append(pd.concat([aux['FHC'][0], aux['RHC'][0]]))\n",
    "out.append(np.concatenate([aux['FHC'][1], aux['RHC'][1]], axis=0))"
   ]
  },
  {
   "cell_type": "code",
   "execution_count": 32,
   "metadata": {},
   "outputs": [
    {
     "data": {
      "image/png": "[encoded data removed]",
      "text/plain": [
       "<Figure size 504x208.8 with 1 Axes>"
      ]
     },
     "metadata": {
      "needs_background": "light"
     },
     "output_type": "display_data"
    }
   ],
   "source": [
    "aux_binning = []\n",
    "for i_split, splits in detector_splitting_z.items():\n",
    "    if i_split in [3, 5, 7]:\n",
    "        aux_binning += np.linspace(splits[0], tpc_fiducial_volume_endpoints[2][0] + (tpc_outer_volume[2] + fgd_outer_volume[2])*(i_split-3)/2, 3).tolist()\n",
    "        aux_binning += np.linspace(tpc_fiducial_volume_endpoints[2][0] + (tpc_outer_volume[2] + fgd_outer_volume[2])*(i_split-3)/2, tpc_fiducial_volume_endpoints[2][1] + (tpc_outer_volume[2] + fgd_outer_volume[2])*(i_split-3)/2, 10).tolist()\n",
    "        aux_binning += np.linspace(tpc_fiducial_volume_endpoints[2][1] + (tpc_outer_volume[2] + fgd_outer_volume[2])*(i_split-3)/2, splits[1], 3).tolist()\n",
    "    else:\n",
    "        aux_binning += np.linspace(*splits, 10).tolist()\n",
    "binning_z = np.unique(np.array(aux_binning))\n",
    "bin_widths = (binning_z[1:] - binning_z[:-1])\n",
    "bin_centers = (binning_z[1:] + binning_z[:-1])/2\n",
    "\n",
    "fig = plt.figure(figsize=(7,2.9))\n",
    "\n",
    "hist, edges = np.histogram(out_noctau[0]['int_point_z'],\n",
    "         bins=binning_z,\n",
    "         weights=out_noctau[1])\n",
    "\n",
    "plt.plot(np.concatenate([[0], edges]),\n",
    "         np.concatenate([[0], hist/bin_widths, [0]]),\n",
    "         color='navy',\n",
    "         label='preselection',\n",
    "         ds='steps-post')\n",
    "colors = ['violet', 'dodgerblue', 'darkorange']\n",
    "for i, ctau in enumerate(ctaus):\n",
    "    hist, edges = np.histogram(out[0]['int_point_z'],\n",
    "                                 bins=binning_z,\n",
    "                                 weights=out[1][:, i])\n",
    "    plt.plot(np.concatenate([[0], edges]),\n",
    "         np.concatenate([[0], hist/bin_widths, [0]]),\n",
    "         color=colors[i],\n",
    "         label=f'c$\\\\tau^0$ = {ctau:.3g} cm',\n",
    "         ds='steps-post')\n",
    "\n",
    "plt.legend(frameon=False, ncol=2)\n",
    "plt.yscale('log')\n",
    "plt.ylim(1e-5, 30)\n",
    "plt.ylabel(f'Events / cm')\n",
    "plt.xlabel('Upscattering vertex [cm]')\n",
    "plt.xticks(np.linspace(0, 600, 13));\n",
    "plt.gca().spines[\"right\"].set_visible(False)\n",
    "plt.gca().spines[\"top\"].set_visible(False)\n",
    "plt.savefig(save_folder+f'int_vertex_z.pdf', bbox_inches='tight')"
   ]
  },
  {
   "cell_type": "markdown",
   "metadata": {
    "tags": []
   },
   "source": [
    "# Detector plot"
   ]
  },
  {
   "cell_type": "code",
   "execution_count": 43,
   "metadata": {},
   "outputs": [
    {
     "data": {
      "image/png": "[encoded data removed]",
      "text/plain": [
       "<Figure size 468x208.8 with 2 Axes>"
      ]
     },
     "metadata": {
      "needs_background": "light"
     },
     "output_type": "display_data"
    }
   ],
   "source": [
    "aux_binning = []\n",
    "for i_split, splits in detector_splitting_z.items():\n",
    "    if i_split in [3, 5, 7]:\n",
    "        aux_binning += np.linspace(splits[0], tpc_fiducial_volume_endpoints[2][0] + (tpc_outer_volume[2] + fgd_outer_volume[2])*(i_split-3)/2, 2).tolist()\n",
    "        aux_binning += np.linspace(tpc_fiducial_volume_endpoints[2][0] + (tpc_outer_volume[2] + fgd_outer_volume[2])*(i_split-3)/2, tpc_fiducial_volume_endpoints[2][1] + (tpc_outer_volume[2] + fgd_outer_volume[2])*(i_split-3)/2, 2).tolist()\n",
    "        aux_binning += np.linspace(tpc_fiducial_volume_endpoints[2][1] + (tpc_outer_volume[2] + fgd_outer_volume[2])*(i_split-3)/2, splits[1], 2).tolist()\n",
    "    else:\n",
    "        aux_binning += np.linspace(*splits, 2).tolist()\n",
    "binning_z = np.unique(np.array(aux_binning))\n",
    "binning_x = [-p0d_dimensions[0]/2, -tpc_active_volume[0]/2, -tpc_fiducial_volume[0]/2, tpc_fiducial_volume[0]/2, tpc_active_volume[0]/2, p0d_dimensions[0]/2]\n",
    "\n",
    "hist, edges_x, edges_y = np.histogram2d(out_noctau[0]['int_point_z'], out_noctau[0]['int_point_x'], \n",
    "               bins=(binning_z, binning_x), \n",
    "               weights=out_noctau[1])\n",
    "\n",
    "mesh_x, mesh_y = np.meshgrid(edges_x, edges_y)\n",
    "\n",
    "areas = np.outer((edges_x[1:] - edges_x[:-1]), (edges_y[1:] - edges_y[:-1]))\n",
    "\n",
    "fig = plt.figure(figsize=(6.5,2.9))\n",
    "plt.pcolormesh(edges_x, edges_y, (hist / areas).T, norm=LogNorm());\n",
    "plt.xlabel('Upscattering vertex z [cm]')\n",
    "plt.xticks(np.linspace(0, 600, 13))\n",
    "plt.ylabel('Upscattering vertex x [cm]')\n",
    "plt.yticks(np.linspace(-110, 110, 9))\n",
    "plt.colorbar(label=r'Events / cm$^2$')\n",
    "plt.savefig(save_folder + 'detector_vertex_2d.pdf', bbox_inches='tight')"
   ]
  },
  {
   "cell_type": "markdown",
   "metadata": {},
   "source": [
    "# N events without ctau"
   ]
  },
  {
   "cell_type": "code",
   "execution_count": 49,
   "metadata": {},
   "outputs": [],
   "source": [
    "aux_noctau = {}\n",
    "for nu_mode in ['FHC', 'RHC']:\n",
    "    aux_noctau[nu_mode] = my_exp_analyses[f'{hierarchy}_{D_or_M}_{nu_mode}'].compute_expectation(\n",
    "                                my_exp_analyses[f'{hierarchy}_{D_or_M}_{nu_mode}'].dfs[base_pars], \n",
    "                                m4=physics_parameters[hierarchy]['bp']['m4'], \n",
    "                                mz=physics_parameters[hierarchy]['bp']['mz'], \n",
    "                                alpha_dark=physics_parameters[hierarchy]['bp']['alpha_dark'], \n",
    "                                epsilon=physics_parameters[hierarchy]['bp']['epsilon'], \n",
    "                                Umu4_2=physics_parameters[hierarchy]['bp']['Umu4_2'], \n",
    "                                Ud4_2=None,\n",
    "                                external_ctau=None,\n",
    "                                ntarget_per_material=analyses['tpc'][nu_mode]['n_target'], \n",
    "                                pot=analyses['tpc'][nu_mode]['pot'],\n",
    "                                selection_query=None,\n",
    "                                efficiency_factor=1,\n",
    "                                is_scan=False)"
   ]
  },
  {
   "cell_type": "code",
   "execution_count": 50,
   "metadata": {},
   "outputs": [],
   "source": [
    "out_noctau = []\n",
    "out_noctau.append(pd.concat([aux_noctau['FHC'][0], aux_noctau['RHC'][0]]))\n",
    "out_noctau.append(np.concatenate([aux_noctau['FHC'][1], aux_noctau['RHC'][1]], axis=0))"
   ]
  },
  {
   "cell_type": "code",
   "execution_count": 52,
   "metadata": {},
   "outputs": [
    {
     "data": {
      "text/plain": [
       "16231.976987071988"
      ]
     },
     "execution_count": 52,
     "metadata": {},
     "output_type": "execute_result"
    }
   ],
   "source": [
    "out_noctau[1].sum()"
   ]
  },
  {
   "cell_type": "code",
   "execution_count": null,
   "metadata": {},
   "outputs": [],
   "source": []
  }
 ],
 "metadata": {
  "kernelspec": {
   "display_name": "Python [conda env:.conda-dark_nus]",
   "language": "python",
   "name": "conda-env-.conda-dark_nus-py"
  },
  "language_info": {
   "codemirror_mode": {
    "name": "ipython",
    "version": 3
   },
   "file_extension": ".py",
   "mimetype": "text/x-python",
   "name": "python",
   "nbconvert_exporter": "python",
   "pygments_lexer": "ipython3",
   "version": "3.8.8"
  }
 },
 "nbformat": 4,
 "nbformat_minor": 4
}
