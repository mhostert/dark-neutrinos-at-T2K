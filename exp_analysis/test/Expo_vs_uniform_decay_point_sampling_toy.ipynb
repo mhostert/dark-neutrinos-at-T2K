{
 "cells": [
  {
   "cell_type": "code",
   "execution_count": 2,
   "metadata": {},
   "outputs": [],
   "source": [
    "import numpy as np\n",
    "import matplotlib.pyplot as plt"
   ]
  },
  {
   "cell_type": "code",
   "execution_count": 72,
   "metadata": {},
   "outputs": [],
   "source": [
    "first_region = [1, 1.5]\n",
    "second_region = [3, 4]\n",
    "total_region = first_region[1]-first_region[0] + second_region[1]-second_region[0]\n",
    "scale = 3\n",
    "n_samples = 10000"
   ]
  },
  {
   "cell_type": "code",
   "execution_count": 73,
   "metadata": {},
   "outputs": [],
   "source": [
    "exp_samples = np.random.exponential(scale, n_samples)\n",
    "exp_samples = exp_samples[((exp_samples < first_region[1]) & (exp_samples > first_region[0])) |\n",
    "                          ((exp_samples < second_region[1]) & (exp_samples > second_region[0]))]"
   ]
  },
  {
   "cell_type": "code",
   "execution_count": 74,
   "metadata": {},
   "outputs": [],
   "source": [
    "unif_samples = np.asarray([np.random.choice([np.random.uniform(*first_region),\n",
    "                                 np.random.uniform(*second_region)],\n",
    "                                 p=[(first_region[1]-first_region[0])/total_region,\n",
    "                                    (second_region[1]-second_region[0])/total_region]\n",
    "                                 ) for _ in range(n_samples)])\n",
    "weights = 1/scale * np.exp(-unif_samples/scale) * total_region"
   ]
  },
  {
   "cell_type": "code",
   "execution_count": 82,
   "metadata": {},
   "outputs": [
    {
     "data": {
      "text/plain": [
       "Text(0, 0.5, 'number of entries (weighted)')"
      ]
     },
     "execution_count": 82,
     "metadata": {},
     "output_type": "execute_result"
    },
    {
     "data": {
      "image/png": "[encoded data removed]",
      "text/plain": [
       "<Figure size 432x288 with 1 Axes>"
      ]
     },
     "metadata": {
      "needs_background": "light"
     },
     "output_type": "display_data"
    }
   ],
   "source": [
    "plt.hist(exp_samples, \n",
    "         bins=50, \n",
    "         label=f'expo: {len(exp_samples):.2f} $\\pm$ {np.sqrt(len(exp_samples)):.2f}', \n",
    "         histtype='step');\n",
    "plt.hist(unif_samples, \n",
    "         weights=weights, \n",
    "         bins=50, \n",
    "         label=f'unif: {weights.sum():.2f} $\\pm$ {np.sqrt((weights**2).sum()):.2f}', \n",
    "         histtype='step');\n",
    "plt.legend(frameon=False)\n",
    "plt.xlabel('decay location')\n",
    "plt.ylabel('number of entries (weighted)')"
   ]
  },
  {
   "cell_type": "code",
   "execution_count": 80,
   "metadata": {},
   "outputs": [],
   "source": [
    "relative_uncertainty_expo = []\n",
    "relative_uncertainty_unif = []\n",
    "scales = [0.5, 1, 1.5, 3, 5]\n",
    "\n",
    "for scale in scales:\n",
    "    exp_samples = np.random.exponential(scale, n_samples)\n",
    "    exp_samples = exp_samples[((exp_samples < first_region[1]) & (exp_samples > first_region[0])) |\n",
    "                          ((exp_samples < second_region[1]) & (exp_samples > second_region[0]))]\n",
    "    relative_uncertainty_expo.append(1/np.sqrt(len(exp_samples)))\n",
    "    \n",
    "    unif_samples = np.asarray([np.random.choice([np.random.uniform(*first_region),\n",
    "                                 np.random.uniform(*second_region)],\n",
    "                                 p=[(first_region[1]-first_region[0])/total_region,\n",
    "                                    (second_region[1]-second_region[0])/total_region]\n",
    "                                 ) for _ in range(n_samples)])\n",
    "    weights = 1/scale * np.exp(-unif_samples/scale) * total_region\n",
    "    relative_uncertainty_unif.append(np.sqrt((weights**2).sum())/weights.sum())"
   ]
  },
  {
   "cell_type": "code",
   "execution_count": 83,
   "metadata": {},
   "outputs": [
    {
     "data": {
      "text/plain": [
       "Text(0, 0.5, 'relative uncertainty on the integral')"
      ]
     },
     "execution_count": 83,
     "metadata": {},
     "output_type": "execute_result"
    },
    {
     "data": {
      "image/png": "[encoded data removed]",
      "text/plain": [
       "<Figure size 432x288 with 1 Axes>"
      ]
     },
     "metadata": {
      "needs_background": "light"
     },
     "output_type": "display_data"
    }
   ],
   "source": [
    "plt.plot(scales, relative_uncertainty_expo, label='expo')\n",
    "plt.plot(scales, relative_uncertainty_unif, label='unif')\n",
    "plt.legend(frameon=False)\n",
    "plt.xlabel('particle lifetime')\n",
    "plt.ylabel('relative uncertainty on the integral')"
   ]
  },
  {
   "cell_type": "code",
   "execution_count": 84,
   "metadata": {},
   "outputs": [],
   "source": [
    "rng = np.random.default_rng()"
   ]
  },
  {
   "cell_type": "code",
   "execution_count": 93,
   "metadata": {},
   "outputs": [],
   "source": [
    "probabilities = rng.uniform(0, 1, (100, 3))\n",
    "probabilities /= probabilities.sum(axis=1)[:,np.newaxis]"
   ]
  },
  {
   "cell_type": "code",
   "execution_count": 95,
   "metadata": {},
   "outputs": [],
   "source": [
    "a = rng.uniform(2, 3, (100, 3))"
   ]
  },
  {
   "cell_type": "code",
   "execution_count": 98,
   "metadata": {},
   "outputs": [
    {
     "ename": "ValueError",
     "evalue": "p must be 1-dimensional",
     "output_type": "error",
     "traceback": [
      "\u001b[0;31m---------------------------------------------------------------------------\u001b[0m",
      "\u001b[0;31mValueError\u001b[0m                                Traceback (most recent call last)",
      "\u001b[0;32m<ipython-input-98-01bbff934775>\u001b[0m in \u001b[0;36m<module>\u001b[0;34m\u001b[0m\n\u001b[0;32m----> 1\u001b[0;31m \u001b[0mrng\u001b[0m\u001b[0;34m.\u001b[0m\u001b[0mchoice\u001b[0m\u001b[0;34m(\u001b[0m\u001b[0ma\u001b[0m\u001b[0;34m,\u001b[0m \u001b[0mp\u001b[0m\u001b[0;34m=\u001b[0m\u001b[0mprobabilities\u001b[0m\u001b[0;34m,\u001b[0m \u001b[0maxis\u001b[0m\u001b[0;34m=\u001b[0m\u001b[0;36m1\u001b[0m\u001b[0;34m)\u001b[0m\u001b[0;34m\u001b[0m\u001b[0;34m\u001b[0m\u001b[0m\n\u001b[0m",
      "\u001b[0;32m_generator.pyx\u001b[0m in \u001b[0;36mnumpy.random._generator.Generator.choice\u001b[0;34m()\u001b[0m\n",
      "\u001b[0;31mValueError\u001b[0m: p must be 1-dimensional"
     ]
    }
   ],
   "source": [
    "rng.choice(a, p=probabilities, axis=1)"
   ]
  },
  {
   "cell_type": "code",
   "execution_count": null,
   "metadata": {},
   "outputs": [],
   "source": []
  }
 ],
 "metadata": {
  "kernelspec": {
   "display_name": "Python [conda env:.conda-dark_nus]",
   "language": "python",
   "name": "conda-env-.conda-dark_nus-py"
  },
  "language_info": {
   "codemirror_mode": {
    "name": "ipython",
    "version": 3
   },
   "file_extension": ".py",
   "mimetype": "text/x-python",
   "name": "python",
   "nbconvert_exporter": "python",
   "pygments_lexer": "ipython3",
   "version": "3.8.8"
  }
 },
 "nbformat": 4,
 "nbformat_minor": 4
}
