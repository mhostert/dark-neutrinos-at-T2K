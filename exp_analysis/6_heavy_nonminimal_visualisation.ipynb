{
 "cells": [
  {
   "cell_type": "markdown",
   "metadata": {},
   "source": [
    "# Likelihood contourf with heavy nonminimal model"
   ]
  },
  {
   "cell_type": "code",
   "execution_count": 1,
   "metadata": {},
   "outputs": [],
   "source": [
    "%load_ext autoreload\n",
    "%autoreload 2"
   ]
  },
  {
   "cell_type": "code",
   "execution_count": 2,
   "metadata": {},
   "outputs": [],
   "source": [
    "import matplotlib.pyplot as plt\n",
    "from matplotlib.colors import LogNorm\n",
    "import numpy as np\n",
    "import pandas as pd\n",
    "\n",
    "from Likelihood import LEff\n",
    "from mcmc_utils import labels_fancy\n",
    "from dark_nus_utils import load_datasets\n",
    "from const import alphaQED"
   ]
  },
  {
   "cell_type": "code",
   "execution_count": 3,
   "metadata": {},
   "outputs": [],
   "source": [
    "hierarchy = 'heavy'\n",
    "D_or_M = 'majorana'\n",
    "distance = 'log'\n",
    "smoothing_pars = (0.1, 0.1)\n",
    "\n",
    "selection = 'cut_based'\n",
    "\n",
    "spec = 'non minimal'"
   ]
  },
  {
   "cell_type": "code",
   "execution_count": 4,
   "metadata": {},
   "outputs": [],
   "source": [
    "levels = {0.68: -2.3/2,\n",
    "          0.9: -4.61/2,\n",
    "          0.95: -5.99/2}"
   ]
  },
  {
   "cell_type": "code",
   "execution_count": 5,
   "metadata": {},
   "outputs": [
    {
     "name": "stdout",
     "output_type": "stream",
     "text": [
      "heavy majorana\n",
      "Wall time: 0.6105353832244873 s, CPU time: 0.5996631579999998\n"
     ]
    }
   ],
   "source": [
    "my_exp_analysis = load_datasets(hierarchy, D_or_M, timeit=True, direct_load_objects=True)[f'{hierarchy}_{D_or_M}']"
   ]
  },
  {
   "cell_type": "code",
   "execution_count": 6,
   "metadata": {},
   "outputs": [],
   "source": [
    "from ctau_utils import ctau_heavy\n",
    "def heavy_nonminimal_posterior(m4=0.1, mz=1.25, Umu4_2=2.2e-7, Ud4_2=0.01, alpha_d=0.4, epsilon=2.1e-2):\n",
    "    Vmu4_alpha_epsilon2 = alpha_d * Umu4_2 * alphaQED * epsilon**2\n",
    "    Valpha4_alpha_epsilon2 = alpha_d * Ud4_2 * alphaQED * epsilon**2\n",
    "    ctau = ctau_heavy(m4, \n",
    "                      mz, \n",
    "                      Valpha4_alpha_epsilon2, \n",
    "                      D_or_M)\n",
    "    this_mu = Vmu4_alpha_epsilon2/my_exp_analysis.Vmu4_alpha_epsilon2\n",
    "    mu, sigma2 = my_exp_analysis.kde_n_events(df=my_exp_analysis.df_base.query('cut_based'),\n",
    "                                                     m4mz=(m4, mz),\n",
    "                                                     ctau=ctau,\n",
    "                                                     mu=this_mu,\n",
    "                                                     distance=distance,\n",
    "                                                     smoothing=smoothing_pars)\n",
    "    return LEff(0, mu, sigma2), mu, sigma2, ctau"
   ]
  },
  {
   "cell_type": "code",
   "execution_count": 7,
   "metadata": {},
   "outputs": [],
   "source": [
    "heavy_nonminimal_posterior_v = np.vectorize(heavy_nonminimal_posterior)"
   ]
  },
  {
   "cell_type": "markdown",
   "metadata": {},
   "source": [
    "## Varying $|U_{D4}|^2$"
   ]
  },
  {
   "cell_type": "code",
   "execution_count": 8,
   "metadata": {},
   "outputs": [],
   "source": [
    "# setting\n",
    "m4 = np.geomspace(my_exp_analysis.m4_limits[0],\n",
    "                  my_exp_analysis.m4_limits[1],\n",
    "                  20)\n",
    "Umu4_2 = np.geomspace(1e-11,\n",
    "                      1e-6,\n",
    "                      25)\n",
    "m4, Umu4_2 = np.meshgrid(m4, Umu4_2)\n",
    "\n",
    "hnl_Ud4_2_s = [1, 1e-2, 1e-4]"
   ]
  },
  {
   "cell_type": "code",
   "execution_count": 10,
   "metadata": {},
   "outputs": [],
   "source": [
    "# calculation\n",
    "hnl_constraints = {}\n",
    "for Ud4_2 in hnl_Ud4_2_s:\n",
    "    hnl_constraints[Ud4_2] = heavy_nonminimal_posterior_v(m4=m4, Umu4_2=Umu4_2, Ud4_2=Ud4_2)"
   ]
  },
  {
   "cell_type": "code",
   "execution_count": 11,
   "metadata": {},
   "outputs": [
    {
     "data": {
      "text/plain": [
       "Text(0, 0.5, '$|U_{{\\\\mu 4}}|^2$')"
      ]
     },
     "execution_count": 11,
     "metadata": {},
     "output_type": "execute_result"
    },
    {
     "data": {
      "image/png": "[encoded data removed]",
      "text/plain": [
       "<Figure size 432x288 with 1 Axes>"
      ]
     },
     "metadata": {
      "needs_background": "light"
     },
     "output_type": "display_data"
    }
   ],
   "source": [
    "# plot\n",
    "colors = ['blue', 'orange', 'green']\n",
    "contours = {}\n",
    "for Ud4_2, color in zip(hnl_Ud4_2_s, colors):\n",
    "    contours[Ud4_2] = plt.contour(m4, Umu4_2, hnl_constraints[Ud4_2][0], levels=[levels[0.9]], colors=[color])\n",
    "plt.legend([cntr.legend_elements()[0][0] for cntr in contours.values()], \n",
    "           [f'$|U_{{D4}}|^2$ = {Ud4_2}' for Ud4_2 in contours.keys()],\n",
    "           frameon=False,\n",
    "           loc='lower left')\n",
    "plt.loglog()\n",
    "plt.xlabel(r'$m_4$ [GeV]')\n",
    "plt.ylabel(r'$|U_{{\\mu 4}}|^2$')"
   ]
  },
  {
   "cell_type": "markdown",
   "metadata": {},
   "source": [
    "## Dark photon plots"
   ]
  },
  {
   "cell_type": "code",
   "execution_count": null,
   "metadata": {},
   "outputs": [],
   "source": [
    "# setting\n",
    "mz = np.geomspace(0.11, my_exp_analysis.mz_limits[1], 10)\n",
    "epsilon = np.geomspace(1e-6, 1e-1, 8)\n",
    "mz, epsilon = np.meshgrid(mz, epsilon)\n",
    "\n",
    "dark_photons_Ud4_2_s = [1, 1e-2, 1e-4, 2.2e-7]"
   ]
  },
  {
   "cell_type": "code",
   "execution_count": null,
   "metadata": {},
   "outputs": [],
   "source": [
    "# calculation\n",
    "dark_photons_constraints = {}\n",
    "for Ud4_2 in dark_photons_Ud4_2_s:\n",
    "    dark_photons_constraints[Ud4_2] = heavy_nonminimal_posterior_v(mz=mz, epsilon=epsilon, Ud4_2=Ud4_2)"
   ]
  },
  {
   "cell_type": "code",
   "execution_count": null,
   "metadata": {},
   "outputs": [],
   "source": [
    "# plot\n",
    "colors = ['blue', 'orange', 'green', 'purple']\n",
    "contours = {}\n",
    "for Ud4_2, color in zip(dark_photons_Ud4_2_s, colors):\n",
    "    contours[Ud4_2] = plt.contour(mz, epsilon, dark_photons_constraints[Ud4_2][0], \n",
    "                                  levels=[levels[0.9]], colors=[color])\n",
    "plt.legend([cntr.legend_elements()[0][0] for cntr in contours.values()], \n",
    "           [f'$|U_{{D4}}|^2$ = {Ud4_2}' if Ud4_2!=2.2e-7 else f'$|U_{{D4}}|^2 = |U_{{\\mu4}}|^2$' for Ud4_2 in contours.keys()],\n",
    "           frameon=False,\n",
    "           loc='lower right')\n",
    "plt.loglog()\n",
    "plt.xlabel(r'$m_z$ [GeV]')\n",
    "plt.ylabel(r'$\\epsilon$')"
   ]
  },
  {
   "cell_type": "code",
   "execution_count": null,
   "metadata": {
    "scrolled": true
   },
   "outputs": [],
   "source": [
    "# plot\n",
    "lifetimes = [1, 10, 100]\n",
    "colors = ['blue', 'orange', 'green']\n",
    "contour = plt.contour(mz, epsilon, out[0.1][3], levels=lifetimes, colors=colors)\n",
    "plt.legend(contour.legend_elements()[0], \n",
    "           [f'$c \\\\tau$ = {lifetime} cm' for lifetime in lifetimes],\n",
    "           frameon=False,\n",
    "           loc='upper left')\n",
    "plt.loglog()\n",
    "plt.xlabel(r'$m_z$ [GeV]')\n",
    "plt.ylabel(r'$\\epsilon$')"
   ]
  }
 ],
 "metadata": {
  "kernelspec": {
   "display_name": "Python [conda env:.conda-dark_nus]",
   "language": "python",
   "name": "conda-env-.conda-dark_nus-py"
  },
  "language_info": {
   "codemirror_mode": {
    "name": "ipython",
    "version": 3
   },
   "file_extension": ".py",
   "mimetype": "text/x-python",
   "name": "python",
   "nbconvert_exporter": "python",
   "pygments_lexer": "ipython3",
   "version": "3.8.8"
  }
 },
 "nbformat": 4,
 "nbformat_minor": 4
}
