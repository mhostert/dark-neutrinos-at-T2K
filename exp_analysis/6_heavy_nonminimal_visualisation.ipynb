{
 "cells": [
  {
   "cell_type": "markdown",
   "metadata": {},
   "source": [
    "# Likelihood contourf with heavy nonminimal model"
   ]
  },
  {
   "cell_type": "code",
   "execution_count": null,
   "metadata": {},
   "outputs": [],
   "source": [
    "%load_ext autoreload\n",
    "%autoreload 2\n",
    "%load_ext line_profiler"
   ]
  },
  {
   "cell_type": "code",
   "execution_count": null,
   "metadata": {},
   "outputs": [],
   "source": [
    "import matplotlib.pyplot as plt\n",
    "from matplotlib.colors import LogNorm\n",
    "import numpy as np\n",
    "import pandas as pd\n",
    "\n",
    "from Likelihood import LEff\n",
    "from mcmc_utils import labels_fancy\n",
    "from dark_nus_utils import load_datasets\n",
    "from const import alphaQED"
   ]
  },
  {
   "cell_type": "code",
   "execution_count": null,
   "metadata": {},
   "outputs": [],
   "source": [
    "hierarchy = 'heavy'\n",
    "D_or_M = 'majorana'\n",
    "distance = 'log'\n",
    "smoothing_pars = (0.1, 0.1)\n",
    "\n",
    "selection = 'cut_based'\n",
    "\n",
    "spec = 'non minimal'"
   ]
  },
  {
   "cell_type": "code",
   "execution_count": null,
   "metadata": {},
   "outputs": [],
   "source": [
    "my_exp_analysis = load_datasets(hierarchy, D_or_M, timeit=True, direct_load_objects=True)[f'{hierarchy}_{D_or_M}']"
   ]
  },
  {
   "cell_type": "code",
   "execution_count": null,
   "metadata": {},
   "outputs": [],
   "source": [
    "from ctau_utils import ctau_heavy\n",
    "def heavy_nonminimal_posterior(m4=0.1, mz=1.25, Umu4_2=2.2e-7, Ud4_2=0.01, alpha_d=0.4, epsilon=2.1e-2):\n",
    "    Vmu4_alpha_epsilon2 = alpha_d * Umu4_2 * alphaQED * epsilon**2\n",
    "    Valpha4_alpha_epsilon2 = alpha_d * Ud4_2 * alphaQED * epsilon**2\n",
    "    ctau = ctau_heavy(m4, \n",
    "                      mz, \n",
    "                      Valpha4_alpha_epsilon2, \n",
    "                      D_or_M)\n",
    "    this_mu = Vmu4_alpha_epsilon2/my_exp_analysis.Vmu4_alpha_epsilon2\n",
    "    mu, sigma2 = my_exp_analysis.kde_n_events(df=my_exp_analysis.df_base.query('cut_based'),\n",
    "                                                     m4mz=(m4, mz),\n",
    "                                                     ctau=ctau,\n",
    "                                                     mu=this_mu,\n",
    "                                                     distance=distance,\n",
    "                                                     smoothing=smoothing_pars)\n",
    "    return LEff(0, mu, sigma2), mu, sigma2, ctau"
   ]
  },
  {
   "cell_type": "code",
   "execution_count": null,
   "metadata": {},
   "outputs": [],
   "source": [
    "heavy_nonminimal_posterior_v = np.vectorize(heavy_nonminimal_posterior)"
   ]
  },
  {
   "cell_type": "markdown",
   "metadata": {},
   "source": [
    "## Varying $|U_{D4}|^2$"
   ]
  },
  {
   "cell_type": "code",
   "execution_count": null,
   "metadata": {},
   "outputs": [],
   "source": [
    "# setting\n",
    "m4 = np.geomspace(my_exp_analysis.m4_limits[0],\n",
    "                  my_exp_analysis.m4_limits[1],\n",
    "                  20)\n",
    "Umu4_2 = np.geomspace(1e-11,\n",
    "                      1e-6,\n",
    "                      25)\n",
    "m4, Umu4_2 = np.meshgrid(m4, Umu4_2)\n",
    "\n",
    "Ud4_2_s = [1, 0.1, 1e-4]"
   ]
  },
  {
   "cell_type": "code",
   "execution_count": null,
   "metadata": {},
   "outputs": [],
   "source": [
    "# calculation\n",
    "out = {}\n",
    "for Ud4_2 in Ud4_2_s:\n",
    "    out[Ud4_2] = heavy_nonminimal_posterior_v(m4=m4, Umu4_2=Umu4_2, Ud4_2=Ud4_2)"
   ]
  },
  {
   "cell_type": "code",
   "execution_count": null,
   "metadata": {},
   "outputs": [],
   "source": [
    "# plot\n",
    "colors = ['blue', 'orange', 'green']\n",
    "contours = {}\n",
    "for Ud4_2, color in zip(Ud4_2_s, colors):\n",
    "    contours[Ud4_2] = plt.contour(m4, Umu4_2, out[Ud4_2][0], levels=[-1], colors=[color])\n",
    "plt.legend([cntr.legend_elements()[0][0] for cntr in contours.values()], \n",
    "           [f'$|U_{{D4}}|^2$ = {Ud4_2}' for Ud4_2 in contours.keys()],\n",
    "           frameon=False,\n",
    "           loc='lower left')\n",
    "plt.loglog()\n",
    "plt.xlabel(r'$m_4$ [GeV]')\n",
    "plt.ylabel(r'$|U_{{\\mu 4}}|^2$')"
   ]
  },
  {
   "cell_type": "markdown",
   "metadata": {},
   "source": [
    "## Dark photon plots"
   ]
  },
  {
   "cell_type": "code",
   "execution_count": null,
   "metadata": {},
   "outputs": [],
   "source": [
    "# setting\n",
    "mz = np.geomspace(0.11, my_exp_analysis.mz_limits[1], 10)\n",
    "epsilon = np.geomspace(1e-6, 1e-1, 8)\n",
    "mz, epsilon = np.meshgrid(mz, epsilon)\n",
    "\n",
    "Ud4_2_s = [1, 0.1, 1e-4, 2.2e-7]"
   ]
  },
  {
   "cell_type": "code",
   "execution_count": null,
   "metadata": {},
   "outputs": [],
   "source": [
    "# calculation\n",
    "out = {}\n",
    "for Ud4_2 in Ud4_2_s:\n",
    "    out[Ud4_2] = heavy_nonminimal_posterior_v(mz=mz, epsilon=epsilon, Ud4_2=Ud4_2)"
   ]
  },
  {
   "cell_type": "code",
   "execution_count": null,
   "metadata": {},
   "outputs": [],
   "source": [
    "# plot\n",
    "colors = ['blue', 'orange', 'green', 'purple']\n",
    "contours = {}\n",
    "for Ud4_2, color in zip(Ud4_2_s, colors):\n",
    "    contours[Ud4_2] = plt.contour(mz, epsilon, out[Ud4_2][0], levels=[-1], colors=[color])\n",
    "plt.legend([cntr.legend_elements()[0][0] for cntr in contours.values()], \n",
    "           [f'$|U_{{D4}}|^2$ = {Ud4_2}' for Ud4_2 in contours.keys()],\n",
    "           frameon=False,\n",
    "           loc='lower right')\n",
    "plt.loglog()\n",
    "plt.xlabel(r'$m_z$ [GeV]')\n",
    "plt.ylabel(r'$\\epsilon$')"
   ]
  },
  {
   "cell_type": "code",
   "execution_count": null,
   "metadata": {
    "scrolled": true
   },
   "outputs": [],
   "source": [
    "# plot\n",
    "lifetimes = [1, 10, 100]\n",
    "colors = ['blue', 'orange', 'green']\n",
    "contour = plt.contour(mz, epsilon, out[0.1][3], levels=lifetimes, colors=colors)\n",
    "plt.legend(contour.legend_elements()[0], \n",
    "           [f'$c \\\\tau$ = {lifetime} cm' for lifetime in lifetimes],\n",
    "           frameon=False,\n",
    "           loc='upper left')\n",
    "plt.loglog()\n",
    "plt.xlabel(r'$m_z$ [GeV]')\n",
    "plt.ylabel(r'$\\epsilon$')"
   ]
  }
 ],
 "metadata": {
  "kernelspec": {
   "display_name": "Python 3",
   "language": "python",
   "name": "python3"
  },
  "language_info": {
   "codemirror_mode": {
    "name": "ipython",
    "version": 3
   },
   "file_extension": ".py",
   "mimetype": "text/x-python",
   "name": "python",
   "nbconvert_exporter": "python",
   "pygments_lexer": "ipython3",
   "version": "3.9.2"
  }
 },
 "nbformat": 4,
 "nbformat_minor": 4
}
