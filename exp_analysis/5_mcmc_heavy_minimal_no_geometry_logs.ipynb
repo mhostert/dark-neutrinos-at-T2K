{
 "cells": [
  {
   "cell_type": "markdown",
   "metadata": {},
   "source": [
    "# Run MCMC sampling\n",
    "# Heavy minimal NO geometry, fitting log(m_4), log(m_z)"
   ]
  },
  {
   "cell_type": "code",
   "execution_count": 2,
   "metadata": {},
   "outputs": [],
   "source": [
    "%load_ext autoreload\n",
    "%autoreload 2\n",
    "%load_ext line_profiler"
   ]
  },
  {
   "cell_type": "code",
   "execution_count": 3,
   "metadata": {},
   "outputs": [],
   "source": [
    "import numpy as np\n",
    "\n",
    "from Likelihood import LEff\n",
    "from mcmc_utils import heavy_minimal_mcmc\n",
    "\n",
    "from multiprocessing import Pool\n",
    "import os\n",
    "os.environ[\"OMP_NUM_THREADS\"] = \"1\""
   ]
  },
  {
   "cell_type": "code",
   "execution_count": 10,
   "metadata": {},
   "outputs": [],
   "source": [
    "hierarchy = 'heavy'\n",
    "D_or_M = 'majorana'\n",
    "distance = 'log'\n",
    "smoothing_pars = (0.1, 0.1)\n",
    "\n",
    "selection = 'cut_based'\n",
    "set_backend = True\n",
    "reset_backend = False\n",
    "n_samples = 10000\n",
    "\n",
    "spec = 'minimal no geometry and logs'"
   ]
  },
  {
   "cell_type": "code",
   "execution_count": 5,
   "metadata": {},
   "outputs": [
    {
     "name": "stdout",
     "output_type": "stream",
     "text": [
      "heavy majorana\n"
     ]
    }
   ],
   "source": [
    "this_dark_nus_mcmc = heavy_minimal_mcmc(hierarchy, D_or_M, title_addition=spec,\n",
    "                                   distance=distance, smoothing_pars=smoothing_pars)\n",
    "df = this_dark_nus_mcmc.provide_df(selection)"
   ]
  },
  {
   "cell_type": "code",
   "execution_count": 6,
   "metadata": {},
   "outputs": [],
   "source": [
    "ndim = 3\n",
    "from ctau_utils import ctau_heavy\n",
    "def heavy_minimal_posterior_no_geometry_log_masses(parameters):\n",
    "    '''Posterior in the minimal model with geometry: parameters = [log10_m4, log10_mz, log10_mu_Vmu4_alpha_epsilon2]\n",
    "       It uses global pars to speed up parallel computation'''\n",
    "    if (parameters[0] < np.log10(this_dark_nus_mcmc.exp_analysis_obj.m4_limits[0])) or\\\n",
    "       (parameters[0] > np.log10(this_dark_nus_mcmc.exp_analysis_obj.m4_limits[1])) or\\\n",
    "       (parameters[1] < np.log10(this_dark_nus_mcmc.exp_analysis_obj.mz_limits[0])) or\\\n",
    "       (parameters[1] > np.log10(this_dark_nus_mcmc.exp_analysis_obj.mz_limits[1])) or\\\n",
    "       (parameters[0] >= parameters[1]) or\\\n",
    "       (parameters[2] <= np.log10(this_dark_nus_mcmc.exp_analysis_obj.lower_bound_Vmu4_alpha_epsilon2)) or\\\n",
    "       (parameters[2] > np.log10(this_dark_nus_mcmc.exp_analysis_obj.upper_bound_Vmu4_alpha_epsilon2)):\n",
    "        return -np.inf, -np.inf, -np.inf, -np.inf\n",
    "    else:\n",
    "        actual_m4 = 10**parameters[0]\n",
    "        actual_mz = 10**parameters[1]\n",
    "        actual_Vmu4_alpha_epsilon2 = 10**parameters[2]\n",
    "        ctau = ctau_heavy(actual_m4, \n",
    "                          actual_mz, \n",
    "                          actual_Vmu4_alpha_epsilon2, \n",
    "                          D_or_M)\n",
    "        this_mu = actual_Vmu4_alpha_epsilon2/this_dark_nus_mcmc.exp_analysis_obj.Vmu4_alpha_epsilon2\n",
    "        mu, sigma2 = this_dark_nus_mcmc.exp_analysis_obj.kde_n_events(df=df,\n",
    "                                                         m4mz=(actual_m4, actual_mz),\n",
    "                                                         ctau=None,\n",
    "                                                         mu=this_mu,\n",
    "                                                         distance=this_dark_nus_mcmc.distance,\n",
    "                                                         smoothing=this_dark_nus_mcmc.smoothing_pars)\n",
    "        return LEff(0, mu, sigma2), mu, sigma2, ctau\n",
    "\n",
    "labels = ['log10_m4', 'log10_mz', 'log10_Vmu4_alpha_epsilon2']\n",
    "blobs_dtype = [('mu', float), ('sigma2', float), ('ctau', float)]"
   ]
  },
  {
   "cell_type": "code",
   "execution_count": 8,
   "metadata": {},
   "outputs": [],
   "source": [
    "this_dark_nus_mcmc.set_posterior(heavy_minimal_posterior_no_geometry_log_masses, \n",
    "                                 ndim, \n",
    "                                 labels=labels)"
   ]
  },
  {
   "cell_type": "code",
   "execution_count": 12,
   "metadata": {},
   "outputs": [
    {
     "name": "stderr",
     "output_type": "stream",
     "text": [
      "100%|██████████| 10000/10000 [1:49:31<00:00,  1.52it/s]\n"
     ]
    }
   ],
   "source": [
    "n_walkers = ndim**2\n",
    "with Pool() as pool:\n",
    "    this_dark_nus_mcmc.initialise_mcmc(n_walkers, pool,\n",
    "                                       set_backend=set_backend, reset_backend=reset_backend, \n",
    "                                       blobs_dtype=blobs_dtype, log_ms=True)\n",
    "    this_dark_nus_mcmc.run_mcmc(n_samples)"
   ]
  },
  {
   "cell_type": "code",
   "execution_count": 11,
   "metadata": {},
   "outputs": [
    {
     "name": "stderr",
     "output_type": "stream",
     "text": [
      "/n/home00/nfoppiani/.conda/envs/dark_nus/lib/python3.8/site-packages/emcee/autocorr.py:36: RuntimeWarning: invalid value encountered in true_divide\n",
      "  acf /= acf[0]\n",
      "WARNING:root:The chain is shorter than 50 times the integrated autocorrelation time for 2 parameter(s). Use this estimate with caution and run a longer chain!\n",
      "N/50 = 0;\n",
      "tau: [       nan 0.88105746 0.77777778]\n",
      "WARNING:root:The chain is shorter than 50 times the integrated autocorrelation time for 3 parameter(s). Use this estimate with caution and run a longer chain!\n",
      "N/50 = 0;\n",
      "tau: [1.00896697 1.10876694 1.36811599]\n",
      "WARNING:root:The chain is shorter than 50 times the integrated autocorrelation time for 3 parameter(s). Use this estimate with caution and run a longer chain!\n",
      "N/50 = 1;\n",
      "tau: [3.13662856 2.89384009 2.72102673]\n",
      "WARNING:root:The chain is shorter than 50 times the integrated autocorrelation time for 3 parameter(s). Use this estimate with caution and run a longer chain!\n",
      "N/50 = 1;\n",
      "tau: [5.9153453  5.28473238 4.84014503]\n",
      "WARNING:root:The chain is shorter than 50 times the integrated autocorrelation time for 3 parameter(s). Use this estimate with caution and run a longer chain!\n",
      "N/50 = 2;\n",
      "tau: [9.78349437 9.97817795 9.2647162 ]\n",
      "WARNING:root:The chain is shorter than 50 times the integrated autocorrelation time for 3 parameter(s). Use this estimate with caution and run a longer chain!\n",
      "N/50 = 4;\n",
      "tau: [16.99699893 18.0791683  16.07799369]\n",
      "WARNING:root:The chain is shorter than 50 times the integrated autocorrelation time for 3 parameter(s). Use this estimate with caution and run a longer chain!\n",
      "N/50 = 7;\n",
      "tau: [27.44197573 32.1360545  32.63965925]\n",
      "WARNING:root:The chain is shorter than 50 times the integrated autocorrelation time for 3 parameter(s). Use this estimate with caution and run a longer chain!\n",
      "N/50 = 14;\n",
      "tau: [43.29986956 46.4325463  41.92937832]\n",
      "WARNING:root:The chain is shorter than 50 times the integrated autocorrelation time for 3 parameter(s). Use this estimate with caution and run a longer chain!\n",
      "N/50 = 28;\n",
      "tau: [53.03337584 53.15839151 55.15128956]\n",
      "WARNING:root:The chain is shorter than 50 times the integrated autocorrelation time for 2 parameter(s). Use this estimate with caution and run a longer chain!\n",
      "N/50 = 54;\n",
      "tau: [62.20870849 52.97212231 60.38153376]\n"
     ]
    },
    {
     "data": {
      "image/png": "[encoded data removed]",
      "text/plain": [
       "<Figure size 432x288 with 1 Axes>"
      ]
     },
     "metadata": {
      "needs_background": "light"
     },
     "output_type": "display_data"
    }
   ],
   "source": [
    "this_dark_nus_mcmc.compute_autocorrelation_time(store=True)"
   ]
  },
  {
   "cell_type": "code",
   "execution_count": null,
   "metadata": {},
   "outputs": [],
   "source": [
    "this_dark_nus_mcmc.get_samples(discard=0, thin=1)"
   ]
  },
  {
   "cell_type": "code",
   "execution_count": null,
   "metadata": {},
   "outputs": [],
   "source": [
    "this_dark_nus_mcmc.plot_chains(store=True)"
   ]
  },
  {
   "cell_type": "code",
   "execution_count": null,
   "metadata": {},
   "outputs": [],
   "source": [
    "this_dark_nus_mcmc.corner_plot_raw(savefile='raw_corner')"
   ]
  },
  {
   "cell_type": "code",
   "execution_count": null,
   "metadata": {},
   "outputs": [],
   "source": [
    "this_dark_nus_mcmc.corner_plot_physics(savefile='physics_corner')"
   ]
  },
  {
   "cell_type": "code",
   "execution_count": null,
   "metadata": {},
   "outputs": [],
   "source": [
    "print('Fraction of samples with null expectation =', (this_dark_nus_mcmc.samples['mu'] == 0).sum()/len(this_dark_nus_mcmc.samples))"
   ]
  },
  {
   "cell_type": "code",
   "execution_count": null,
   "metadata": {},
   "outputs": [],
   "source": [
    "this_dark_nus_mcmc.corner_plot_with_colour('log10_mu', savefile='corner_log10_mu')"
   ]
  },
  {
   "cell_type": "code",
   "execution_count": null,
   "metadata": {},
   "outputs": [],
   "source": [
    "this_dark_nus_mcmc.corner_plot_with_colour('log10_sigma/mu', savefile='corner_log10_sigma_mu')"
   ]
  },
  {
   "cell_type": "code",
   "execution_count": null,
   "metadata": {},
   "outputs": [],
   "source": [
    "this_dark_nus_mcmc.corner_plot_with_colour('log10_ctau', savefile='corner_log10_ctau')"
   ]
  }
 ],
 "metadata": {
  "kernelspec": {
   "display_name": "Python [conda env:.conda-dark_nus]",
   "language": "python",
   "name": "conda-env-.conda-dark_nus-py"
  },
  "language_info": {
   "codemirror_mode": {
    "name": "ipython",
    "version": 3
   },
   "file_extension": ".py",
   "mimetype": "text/x-python",
   "name": "python",
   "nbconvert_exporter": "python",
   "pygments_lexer": "ipython3",
   "version": "3.8.8"
  }
 },
 "nbformat": 4,
 "nbformat_minor": 4
}
