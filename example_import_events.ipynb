{
 "cells": [
  {
   "cell_type": "code",
   "execution_count": 1,
   "metadata": {},
   "outputs": [],
   "source": [
    "import matplotlib\n",
    "import matplotlib.pyplot as plt\n",
    "import numpy as np\n",
    "import os\n",
    "import sys, getopt\n",
    "\n",
    "# Dark Neutrino and MC stuff\n",
    "from dark_news import *"
   ]
  },
  {
   "cell_type": "markdown",
   "metadata": {},
   "source": [
    "# Import some events"
   ]
  },
  {
   "cell_type": "code",
   "execution_count": 5,
   "metadata": {},
   "outputs": [
    {
     "ename": "FileNotFoundError",
     "evalue": "[Errno 2] No such file or directory: 'data/ND280_nu/3plus1/m4_0.1_mzprime_1.25/MC_m4_0.1_mzprime_1.25.npy'",
     "output_type": "error",
     "traceback": [
      "\u001b[0;31m---------------------------------------------------------------------------\u001b[0m",
      "\u001b[0;31mFileNotFoundError\u001b[0m                         Traceback (most recent call last)",
      "\u001b[0;32m<ipython-input-5-c7b2ce82e4c8>\u001b[0m in \u001b[0;36m<module>\u001b[0;34m\u001b[0m\n\u001b[1;32m      1\u001b[0m \u001b[0;31m# X = np.load('data/miniboone/3plus1/m4_0.1_mzprime_1.25/MC_m4_0.1_mzprime_1.25.npy',allow_pickle=True)\u001b[0m\u001b[0;34m\u001b[0m\u001b[0;34m\u001b[0m\u001b[0;34m\u001b[0m\u001b[0m\n\u001b[0;32m----> 2\u001b[0;31m \u001b[0mX\u001b[0m \u001b[0;34m=\u001b[0m \u001b[0mnp\u001b[0m\u001b[0;34m.\u001b[0m\u001b[0mload\u001b[0m\u001b[0;34m(\u001b[0m\u001b[0;34m'data/ND280_nu/3plus1/m4_0.1_mzprime_1.25/MC_m4_0.1_mzprime_1.25.npy'\u001b[0m\u001b[0;34m,\u001b[0m\u001b[0mallow_pickle\u001b[0m\u001b[0;34m=\u001b[0m\u001b[0;32mTrue\u001b[0m\u001b[0;34m)\u001b[0m\u001b[0;34m\u001b[0m\u001b[0;34m\u001b[0m\u001b[0m\n\u001b[0m\u001b[1;32m      3\u001b[0m \u001b[0;34m\u001b[0m\u001b[0m\n\u001b[1;32m      4\u001b[0m \u001b[0mplm\u001b[0m\u001b[0;34m,\u001b[0m\u001b[0mplp\u001b[0m\u001b[0;34m,\u001b[0m\u001b[0mpnu\u001b[0m\u001b[0;34m,\u001b[0m\u001b[0mpHad\u001b[0m\u001b[0;34m,\u001b[0m\u001b[0mr_scatt\u001b[0m\u001b[0;34m,\u001b[0m\u001b[0mr_decay\u001b[0m \u001b[0;34m=\u001b[0m \u001b[0mX\u001b[0m\u001b[0;34m\u001b[0m\u001b[0;34m\u001b[0m\u001b[0m\n",
      "\u001b[0;32m/usr/local/lib/python3.7/dist-packages/numpy/lib/npyio.py\u001b[0m in \u001b[0;36mload\u001b[0;34m(file, mmap_mode, allow_pickle, fix_imports, encoding)\u001b[0m\n\u001b[1;32m    426\u001b[0m         \u001b[0mown_fid\u001b[0m \u001b[0;34m=\u001b[0m \u001b[0;32mFalse\u001b[0m\u001b[0;34m\u001b[0m\u001b[0;34m\u001b[0m\u001b[0m\n\u001b[1;32m    427\u001b[0m     \u001b[0;32melse\u001b[0m\u001b[0;34m:\u001b[0m\u001b[0;34m\u001b[0m\u001b[0;34m\u001b[0m\u001b[0m\n\u001b[0;32m--> 428\u001b[0;31m         \u001b[0mfid\u001b[0m \u001b[0;34m=\u001b[0m \u001b[0mopen\u001b[0m\u001b[0;34m(\u001b[0m\u001b[0mos_fspath\u001b[0m\u001b[0;34m(\u001b[0m\u001b[0mfile\u001b[0m\u001b[0;34m)\u001b[0m\u001b[0;34m,\u001b[0m \u001b[0;34m\"rb\"\u001b[0m\u001b[0;34m)\u001b[0m\u001b[0;34m\u001b[0m\u001b[0;34m\u001b[0m\u001b[0m\n\u001b[0m\u001b[1;32m    429\u001b[0m         \u001b[0mown_fid\u001b[0m \u001b[0;34m=\u001b[0m \u001b[0;32mTrue\u001b[0m\u001b[0;34m\u001b[0m\u001b[0;34m\u001b[0m\u001b[0m\n\u001b[1;32m    430\u001b[0m \u001b[0;34m\u001b[0m\u001b[0m\n",
      "\u001b[0;31mFileNotFoundError\u001b[0m: [Errno 2] No such file or directory: 'data/ND280_nu/3plus1/m4_0.1_mzprime_1.25/MC_m4_0.1_mzprime_1.25.npy'"
     ]
    }
   ],
   "source": [
    "# X = np.load('data/miniboone/3plus1/m4_0.1_mzprime_1.25/MC_m4_0.1_mzprime_1.25.npy',allow_pickle=True)\n",
    "X = np.load('data/ND280_nu/3plus1/m4_0.1_mzprime_1.25/MC_m4_0.1_mzprime_1.25.npy',allow_pickle=True)\n",
    "\n",
    "plm,plp,pnu,pHad,r_scatt,r_decay = X"
   ]
  },
  {
   "cell_type": "markdown",
   "metadata": {},
   "source": [
    "### check that variables are what I think they are"
   ]
  },
  {
   "cell_type": "code",
   "execution_count": 3,
   "metadata": {},
   "outputs": [
    {
     "name": "stdout",
     "output_type": "stream",
     "text": [
      "[1. 1. 1. 1. 1. 1. 1. 1. 1. 1. 1. 1. 1. 1. 1. 1. 1. 1. 1. 1. 1. 1. 1. 1.\n",
      " 1. 1. 1. 1. 1. 1. 1. 1. 1. 1. 1. 1. 1. 1. 1. 1. 1. 1. 1. 1. 1. 1. 1. 1.\n",
      " 1. 1. 1. 1. 1. 1. 1. 1. 1. 1. 1. 1. 1. 1. 1. 1. 1. 1. 1. 1. 1. 1. 1. 1.\n",
      " 1. 1. 1. 1. 1. 1. 1. 1. 1. 1. 1. 1. 1. 1. 1. 1. 1. 1. 1. 1. 1. 1. 1. 1.\n",
      " 1. 1. 1. 1.]\n",
      "[1. 1. 1. 1. 1. 1. 1. 1. 1. 1. 1. 1. 1. 1. 1. 1. 1. 1. 1. 1. 1. 1. 1. 1.\n",
      " 1. 1. 1. 1. 1. 1. 1. 1. 1. 1. 1. 1. 1. 1. 1. 1. 1. 1. 1. 1. 1. 1. 1. 1.\n",
      " 1. 1. 1. 1. 1. 1. 1. 1. 1. 1. 1. 1. 1. 1. 1. 1. 1. 1. 1. 1. 1. 1. 1. 1.\n",
      " 1. 1. 1. 1. 1. 1. 1. 1. 1. 1. 1. 1. 1. 1. 1. 1. 1. 1. 1. 1. 1. 1. 1. 1.\n",
      " 1. 1. 1. 1.]\n",
      "[-3.46944695e-18  1.38777878e-17  1.21430643e-17  2.77555756e-17\n",
      " -1.73472348e-18  0.00000000e+00 -1.38777878e-17 -2.77555756e-17\n",
      "  6.93889390e-18 -7.99599102e-19 -9.57200170e-19  9.97465999e-18\n",
      "  6.66133815e-16 -2.66518917e-18 -1.11022302e-16 -4.33680869e-18\n",
      "  3.46944695e-18  0.00000000e+00  2.77555756e-17 -1.73472348e-18\n",
      " -1.42301535e-18 -1.38777878e-17 -5.20417043e-18 -8.67361738e-19\n",
      " -6.81438006e-19 -5.55111512e-17  4.16333634e-17  2.16840434e-19\n",
      " -6.93889390e-18 -3.46944695e-18  0.00000000e+00 -4.16333634e-17\n",
      " -1.38777878e-17  2.22044605e-16  1.11022302e-16 -2.16840434e-18\n",
      " -2.77555756e-17 -2.77555756e-17  0.00000000e+00 -2.77555756e-17\n",
      "  1.11022302e-16  1.04083409e-17 -1.11022302e-16 -2.77555756e-17\n",
      " -1.38777878e-17  6.93889390e-18  1.38777878e-17  2.25514052e-17\n",
      " -3.33066907e-16 -1.29426634e-18 -1.11022302e-16 -5.20417043e-18\n",
      "  3.46944695e-18  0.00000000e+00 -6.93889390e-18  0.00000000e+00\n",
      "  4.33680869e-18  0.00000000e+00  6.93889390e-18 -1.38777878e-17\n",
      " -1.29426634e-18 -4.16333634e-17 -4.16333634e-17  0.00000000e+00\n",
      "  1.11022302e-16  1.38777878e-17  5.55111512e-17 -2.22044605e-16\n",
      "  0.00000000e+00 -2.77555756e-17  0.00000000e+00  0.00000000e+00\n",
      "  0.00000000e+00  0.00000000e+00 -2.22044605e-16  0.00000000e+00\n",
      " -5.55111512e-17 -6.07153217e-18  4.33680869e-19 -6.93889390e-18\n",
      "  0.00000000e+00  3.46944695e-18 -1.95156391e-18 -2.77555756e-17\n",
      "  0.00000000e+00 -5.55111512e-17 -2.22044605e-16 -8.65747081e-19\n",
      "  2.77555756e-17 -1.11022302e-16  1.11022302e-16 -1.73472348e-18\n",
      "  1.38777878e-17 -1.38777878e-17  0.00000000e+00 -2.77555756e-17\n",
      "  0.00000000e+00  5.55111512e-17  0.00000000e+00 -2.77555756e-16]\n",
      "[11.262 11.262 11.262 11.262 11.262 11.262 11.262 11.262 11.262 11.262\n",
      " 11.262 11.262 11.262 11.262 11.262 11.262 11.262 11.262 11.262 11.262\n",
      " 11.262 11.262 11.262 11.262 11.262 11.262 11.262 11.262 11.262 11.262\n",
      " 11.262 11.262 11.262 11.262 11.262 11.262 11.262 11.262 11.262 11.262\n",
      " 11.262 11.262 11.262 11.262 11.262 11.262 11.262 11.262 11.262 11.262\n",
      " 11.262 11.262 11.262 11.262 11.262 11.262 11.262 11.262 11.262 11.262\n",
      " 11.262 11.262 11.262 11.262 11.262 11.262 11.262 11.262 11.262 11.262\n",
      " 11.262 11.262 11.262 11.262 11.262 11.262 11.262 11.262 11.262 11.262\n",
      " 11.262 11.262 11.262 11.262 11.262 11.262 11.262 11.262 11.262 11.262\n",
      " 11.262 11.262 11.262 11.262 11.262 11.262 11.262 11.262 11.262 11.262]\n",
      "[ 15.46421161  60.24560825  46.88560694  81.61975681  16.75361745\n",
      "  40.56745524  15.35957454  99.3504766    1.14450472  43.54284514\n",
      " 129.58062748  57.44712028  64.83703368  73.40038458  22.27410289\n",
      "   8.4167639   61.08564354   1.83403041   6.10111913  11.73272581\n",
      "   4.84771196  67.52837608   7.43449627  41.61451005   4.37344809\n",
      "  22.47570117   0.39070092  10.87643186  26.28886578  30.72353571\n",
      "   5.81060577  13.15848257  10.09951245   1.57693112  27.65974717\n",
      "  12.39804134  29.74485386  62.28154533  22.8503677  116.75301638\n",
      "  31.19214074  41.42763309   5.24412322   7.24609768  54.31697784\n",
      "  11.75060711  13.41323493   1.10988639 158.22721932   2.84682621\n",
      " 260.84638354   2.33370207   9.53330892  23.71770854   8.57276653\n",
      "  32.97935127  16.45611946 147.81580064  10.16174048 112.28239591\n",
      "   6.34186659  10.6407326   21.00737176  20.47062364  52.71767191\n",
      "  54.44766244   5.41254456 113.99828912  16.84603237  10.46052145\n",
      "  23.35089868  57.39898876  89.6758295    8.16788061  13.44370317\n",
      "  73.68619314  80.81604152  17.97179793   7.5713202    4.55589562\n",
      "  99.04646859   0.63361995  14.88998208  13.09384081  44.13878618\n",
      "  10.78702858  75.17603641   8.94426766  46.41608425  20.54201415\n",
      "   0.76959213   6.85566047  56.46573632  23.7273066   66.51655918\n",
      "  58.45224175  47.28125048   7.71221173  13.15093968  44.73295396]\n"
     ]
    }
   ],
   "source": [
    "# masses\n",
    "print(np.sqrt(Cfv.dot4(plm,plm))/const.Me)\n",
    "print(np.sqrt(Cfv.dot4(plp,plp))/const.Me)\n",
    "print(Cfv.dot4(pnu,pnu))\n",
    "print(np.sqrt(Cfv.dot4(pHad,pHad)))\n",
    "\n",
    "# separation between scatt and decay position\n",
    "dr=r_scatt-r_decay\n",
    "sep=np.sqrt(Cfv.dot3(dr,dr))\n",
    "print(sep)"
   ]
  },
  {
   "cell_type": "code",
   "execution_count": 4,
   "metadata": {},
   "outputs": [
    {
     "data": {
      "image/png": "[encoded data removed]",
      "text/plain": [
       "<Figure size 432x288 with 1 Axes>"
      ]
     },
     "metadata": {
      "needs_background": "light"
     },
     "output_type": "display_data"
    }
   ],
   "source": [
    "plt.hist(sep,bins=20)\n",
    "plt.xlabel('scatt-decay gap (cm)')\n",
    "plt.show()"
   ]
  },
  {
   "cell_type": "code",
   "execution_count": 12,
   "metadata": {},
   "outputs": [],
   "source": [
    "# separation seems okay. I have input 0.5 cm as proper lifetime. \n",
    "# Given a boost of ~ 10 - 20 from the miniboone flux, this seems okay."
   ]
  },
  {
   "cell_type": "code",
   "execution_count": null,
   "metadata": {},
   "outputs": [],
   "source": []
  }
 ],
 "metadata": {
  "kernelspec": {
   "display_name": "Python 3",
   "language": "python",
   "name": "python3"
  },
  "language_info": {
   "codemirror_mode": {
    "name": "ipython",
    "version": 3
   },
   "file_extension": ".py",
   "mimetype": "text/x-python",
   "name": "python",
   "nbconvert_exporter": "python",
   "pygments_lexer": "ipython3",
   "version": "3.7.8"
  }
 },
 "nbformat": 4,
 "nbformat_minor": 2
}
