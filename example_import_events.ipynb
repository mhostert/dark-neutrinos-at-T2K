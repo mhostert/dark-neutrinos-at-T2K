{
 "cells": [
  {
   "cell_type": "code",
   "execution_count": 5,
   "metadata": {},
   "outputs": [],
   "source": [
    "import matplotlib\n",
    "import matplotlib.pyplot as plt\n",
    "import numpy as np\n",
    "import os\n",
    "import sys, getopt\n",
    "\n",
    "# Dark Neutrino and MC stuff\n",
    "from dark_news import *"
   ]
  },
  {
   "cell_type": "markdown",
   "metadata": {},
   "source": [
    "# Import some events"
   ]
  },
  {
   "cell_type": "code",
   "execution_count": 16,
   "metadata": {},
   "outputs": [],
   "source": [
    "X = np.load('data/miniboone/3plus1/m4_0.1_mzprime_1.25/MC_m4_0.1_mzprime_1.25.npy',allow_pickle=True)\n",
    "\n",
    "plm,plp,pnu,pHad,r_scatt,r_decay = X"
   ]
  },
  {
   "cell_type": "markdown",
   "metadata": {},
   "source": [
    "### check that variables are what I think they are"
   ]
  },
  {
   "cell_type": "code",
   "execution_count": 20,
   "metadata": {},
   "outputs": [
    {
     "name": "stdout",
     "output_type": "stream",
     "text": [
      "[1. 1. 1. 1. 1. 1. 1. 1. 1. 1. 1. 1. 1. 1. 1. 1. 1. 1. 1. 1. 1. 1. 1. 1.\n",
      " 1. 1. 1. 1. 1. 1. 1. 1. 1. 1. 1. 1. 1. 1. 1. 1. 1. 1. 1. 1. 1. 1. 1. 1.\n",
      " 1. 1. 1. 1. 1. 1. 1. 1. 1. 1. 1. 1. 1. 1. 1. 1. 1. 1. 1. 1. 1. 1. 1. 1.\n",
      " 1. 1. 1. 1. 1. 1. 1. 1. 1. 1. 1. 1. 1. 1. 1. 1. 1. 1. 1. 1. 1. 1. 1. 1.\n",
      " 1. 1. 1. 1.]\n",
      "[1. 1. 1. 1. 1. 1. 1. 1. 1. 1. 1. 1. 1. 1. 1. 1. 1. 1. 1. 1. 1. 1. 1. 1.\n",
      " 1. 1. 1. 1. 1. 1. 1. 1. 1. 1. 1. 1. 1. 1. 1. 1. 1. 1. 1. 1. 1. 1. 1. 1.\n",
      " 1. 1. 1. 1. 1. 1. 1. 1. 1. 1. 1. 1. 1. 1. 1. 1. 1. 1. 1. 1. 1. 1. 1. 1.\n",
      " 1. 1. 1. 1. 1. 1. 1. 1. 1. 1. 1. 1. 1. 1. 1. 1. 1. 1. 1. 1. 1. 1. 1. 1.\n",
      " 1. 1. 1. 1.]\n",
      "[-5.55111512e-17 -8.32667268e-17 -6.93889390e-18 -1.30104261e-17\n",
      " -1.78893358e-18  2.08166817e-17 -1.69135539e-17 -1.38777878e-17\n",
      " -1.30104261e-18  3.46944695e-18  5.55111512e-17  8.67361738e-19\n",
      " -1.12757026e-17  5.55111512e-17 -2.77555756e-17 -2.25514052e-17\n",
      "  6.93889390e-18  0.00000000e+00 -4.33680869e-18 -2.16840434e-19\n",
      " -3.46944695e-18  1.38777878e-17 -4.33680869e-19 -1.38777878e-17\n",
      "  3.46944695e-18  6.93889390e-18  4.85722573e-17 -1.11022302e-16\n",
      "  5.55111512e-17 -2.08166817e-17 -1.11022302e-16 -5.55111512e-17\n",
      "  6.93889390e-18 -2.95445092e-18 -1.38777878e-17 -3.46944695e-18\n",
      "  1.04083409e-17  0.00000000e+00 -1.38777878e-17  2.08166817e-17\n",
      " -3.03576608e-18 -3.93023288e-18 -3.33066907e-16 -3.25260652e-18\n",
      " -5.14996032e-19 -2.77555756e-17  5.96311195e-19  2.77555756e-17\n",
      "  0.00000000e+00 -1.12757026e-17  0.00000000e+00  2.22044605e-16\n",
      "  2.42861287e-17  2.16840434e-18  1.73472348e-18  6.93889390e-18\n",
      " -1.04083409e-17 -8.23993651e-18  0.00000000e+00 -1.04083409e-17\n",
      "  0.00000000e+00  0.00000000e+00  8.67361738e-18  5.55111512e-17\n",
      "  8.67361738e-19  6.93889390e-18  5.63785130e-18  1.04083409e-17\n",
      "  0.00000000e+00  3.25260652e-19 -1.38777878e-17 -6.93889390e-18\n",
      " -1.73472348e-18  1.11022302e-16 -4.33680869e-19  5.55111512e-17\n",
      " -1.11022302e-16 -7.58941521e-19 -2.60208521e-18 -3.55271368e-15\n",
      " -1.05709712e-18  1.08420217e-18 -2.77555756e-17  0.00000000e+00\n",
      "  5.55111512e-17 -6.50521303e-19 -4.98732999e-18  0.00000000e+00\n",
      " -8.67361738e-18  5.55111512e-17  0.00000000e+00  1.11022302e-16\n",
      " -5.20417043e-18  0.00000000e+00  0.00000000e+00 -8.67361738e-19\n",
      " -6.93889390e-18  0.00000000e+00 -2.22044605e-16  0.00000000e+00]\n",
      "[ 0.938  0.938  0.938  0.938  0.938  0.938  0.938  0.938 11.262  0.938\n",
      "  0.938  0.938 11.262 11.262  0.938 11.262  0.938 11.262 11.262  0.938\n",
      "  0.938 11.262  0.938  0.938 11.262 11.262 11.262 11.262  0.938  0.938\n",
      "  0.938 11.262  0.938 11.262  0.938 11.262 11.262  0.938  0.938  0.938\n",
      "  0.938  0.938  0.938  0.938 11.262  0.938 11.262 11.262 11.262  0.938\n",
      " 11.262 11.262 11.262  0.938 11.262  0.938 11.262  0.938  0.938  0.938\n",
      "  0.938  0.938  0.938 11.262  0.938  0.938  0.938  0.938 11.262 11.262\n",
      "  0.938 11.262 11.262 11.262 11.262 11.262 11.262  0.938  0.938  0.938\n",
      "  0.938  0.938  0.938  0.938  0.938  0.938  0.938 11.262  0.938  0.938\n",
      "  0.938 11.262  0.938 11.262 11.262 11.262  0.938  0.938  0.938 11.262]\n",
      "[ 69.15259426  22.49434187  17.76825489   2.39522643  14.98511973\n",
      "  28.88538674  44.74438836  40.7342771   39.98442628  12.26402276\n",
      "  11.40583275   8.951556   140.60259591  95.96609662  39.4104485\n",
      "   2.87799108  54.86464617   3.34789731  14.03244841   3.90554783\n",
      "   3.89841883   5.66408887   3.19889055  27.08724428  23.30663285\n",
      "   4.58728527  51.83428419  57.80421321  30.63560077  18.64391345\n",
      " 167.36014839  24.33373852  44.60008381   4.20099484 104.89186813\n",
      "  42.78802323  18.11202113   6.50354015   9.60622326  15.50523813\n",
      "  17.25957541   1.3678569  221.87669605  12.92241522  22.98038276\n",
      "  21.89853811   1.51204714  14.39634344   3.07664973  98.67718204\n",
      "  20.7465548    8.9924674    4.83939635  33.283681    41.74819132\n",
      "   9.71273124  41.84235031  12.16038849   8.00762339  13.72343432\n",
      "   4.86768049  82.5515542   19.41649336   6.64035324   5.72284196\n",
      "  11.15276227 122.32314755   1.08952631  55.29301384  56.02072089\n",
      "  62.79487787   8.41517947  87.27224093 123.82970959   0.23805029\n",
      "  30.09641737 150.26876746  62.30386266  52.03691065  82.38810544\n",
      "   4.71685515  29.15082424  42.93189389  86.84771587  55.05166667\n",
      "  53.48480073  31.51860978  13.03596582  19.29229094  11.64347675\n",
      "  18.23992451  49.76264875   3.71436763  32.33924178  27.82785058\n",
      "  26.32604392   5.53744959  33.8986832   15.45659252  59.12257096]\n"
     ]
    }
   ],
   "source": [
    "# masses\n",
    "print(np.sqrt(Cfv.dot4(plm,plm))/const.Me)\n",
    "print(np.sqrt(Cfv.dot4(plp,plp))/const.Me)\n",
    "print(Cfv.dot4(pnu,pnu))\n",
    "print(np.sqrt(Cfv.dot4(pHad,pHad)))\n",
    "\n",
    "# separation between scatt and decay position\n",
    "dr=r_scatt-r_decay\n",
    "sep=np.sqrt(Cfv.dot3(dr,dr))\n",
    "print(sep)"
   ]
  },
  {
   "cell_type": "code",
   "execution_count": 21,
   "metadata": {},
   "outputs": [
    {
     "data": {
      "image/png": "[encoded data removed]",
      "text/plain": [
       "<Figure size 432x288 with 1 Axes>"
      ]
     },
     "metadata": {
      "needs_background": "light"
     },
     "output_type": "display_data"
    }
   ],
   "source": [
    "plt.hist(sep,bins=20)\n",
    "plt.xlabel('scatt-decay gap (cm)')\n",
    "plt.show()"
   ]
  },
  {
   "cell_type": "code",
   "execution_count": 12,
   "metadata": {},
   "outputs": [],
   "source": [
    "# separation seems okay. I have input 0.5 cm as proper lifetime. \n",
    "# Given a boost of ~ 10 - 20 from the miniboone flux, this seems okay."
   ]
  },
  {
   "cell_type": "code",
   "execution_count": null,
   "metadata": {},
   "outputs": [],
   "source": []
  }
 ],
 "metadata": {
  "kernelspec": {
   "display_name": "Python 3",
   "language": "python",
   "name": "python3"
  },
  "language_info": {
   "codemirror_mode": {
    "name": "ipython",
    "version": 3
   },
   "file_extension": ".py",
   "mimetype": "text/x-python",
   "name": "python",
   "nbconvert_exporter": "python",
   "pygments_lexer": "ipython3",
   "version": "3.7.8"
  }
 },
 "nbformat": 4,
 "nbformat_minor": 2
}
