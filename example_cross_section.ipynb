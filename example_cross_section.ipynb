{
 "cells": [
  {
   "cell_type": "code",
   "execution_count": 1,
   "metadata": {},
   "outputs": [],
   "source": [
    "import matplotlib\n",
    "import matplotlib.pyplot as plt\n",
    "import numpy as np\n",
    "import os\n",
    "import sys, getopt\n",
    "\n",
    "# Dark Neutrino and MC stuff\n",
    "from dark_news import *"
   ]
  },
  {
   "cell_type": "markdown",
   "metadata": {},
   "source": [
    "## SET MODEL PARAMETERS"
   ]
  },
  {
   "cell_type": "code",
   "execution_count": 7,
   "metadata": {},
   "outputs": [],
   "source": [
    "MODEL = const.THREEPLUSONE\n",
    "\n",
    "#########################\n",
    "# Set BSM parameters\n",
    "BSMparams = model.model_params()\n",
    "\n",
    "# BP-L1\n",
    "BSMparams.gprime = np.sqrt(4*np.pi*1.0/4.0)\n",
    "BSMparams.chi = np.sqrt(2e-10/const.alphaQED)/const.cw # epsilon = chi * cW\n",
    "BSMparams.Ue4 = 0.0\n",
    "BSMparams.Umu4 =  np.sqrt(9e-7) \n",
    "BSMparams.Utau4 = 0.0\n",
    "BSMparams.UD4 = 1.0\n",
    "BSMparams.m4 = 0.420 # GeV\n",
    "BSMparams.Mzprime = 0.030 # GeV\n",
    "BSMparams.Dirac = const.MAJORANA\n",
    "\n",
    "BSMparams.set_high_level_variables()\n",
    "\n",
    "#########################\n",
    "# Choose experimental parameters\n",
    "FLUXFILE=\"fluxes/MiniBooNE_nu_mode_flux.dat\"\n",
    "A_NUMBER = 12.0\n",
    "Z_NUMBER = 6.0\n"
   ]
  },
  {
   "cell_type": "code",
   "execution_count": 8,
   "metadata": {},
   "outputs": [
    {
     "name": "stdout",
     "output_type": "stream",
     "text": [
      "1.7392032766615796e-39\n"
     ]
    }
   ],
   "source": [
    "\n",
    "##########################\n",
    "# Run MC and get events\n",
    "\n",
    "##################################################\n",
    "# This defines a given scattering process for given BSM parameters \n",
    "coh_events = MC.MC_events(BSMparams,\n",
    "                        FLUXFILE,\n",
    "                        None,\n",
    "                        MA=A_NUMBER*const.MAVG,\n",
    "                        Z=Z_NUMBER,\n",
    "                        nu_scatterer=pdg.numu,\n",
    "                        nu_produced=pdg.neutrino4,\n",
    "                        nu_outgoing=pdg.numu,\n",
    "                        final_lepton=pdg.electron,\n",
    "                        h_upscattered=-1) # helicity of HNL produced in upscattering \n",
    "\n",
    "\n",
    "print(xsecs.get_sigma_zprime(2.0, #GeV\n",
    "                            coh_events))\n",
    "\n"
   ]
  },
  {
   "cell_type": "code",
   "execution_count": null,
   "metadata": {},
   "outputs": [],
   "source": [
    "# the value above is matching our curve atm. \n",
    "# Nothing crazy seems to have happened to the code in 2 years..."
   ]
  }
 ],
 "metadata": {
  "kernelspec": {
   "display_name": "Python 3",
   "language": "python",
   "name": "python3"
  },
  "language_info": {
   "codemirror_mode": {
    "name": "ipython",
    "version": 3
   },
   "file_extension": ".py",
   "mimetype": "text/x-python",
   "name": "python",
   "nbconvert_exporter": "python",
   "pygments_lexer": "ipython3",
   "version": "3.7.8"
  }
 },
 "nbformat": 4,
 "nbformat_minor": 2
}
