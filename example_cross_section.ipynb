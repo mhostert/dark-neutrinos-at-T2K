{
 "cells": [
  {
   "cell_type": "code",
   "execution_count": 14,
   "metadata": {},
   "outputs": [],
   "source": [
    "import matplotlib\n",
    "import matplotlib.pyplot as plt\n",
    "import numpy as np\n",
    "import os\n",
    "import sys, getopt\n",
    "\n",
    "# Dark Neutrino and MC stuff\n",
    "from dark_news import *"
   ]
  },
  {
   "cell_type": "markdown",
   "metadata": {},
   "source": [
    "## SET MODEL PARAMETERS"
   ]
  },
  {
   "cell_type": "code",
   "execution_count": 15,
   "metadata": {},
   "outputs": [],
   "source": [
    "MODEL = const.THREEPLUSONE\n",
    "\n",
    "#########################\n",
    "# Set BSM parameters\n",
    "BSMparams = model.model_params()\n",
    "\n",
    "# BP-L1\n",
    "BSMparams.gprime = np.sqrt(4*np.pi*1.0/4.0)\n",
    "BSMparams.chi = np.sqrt(2e-10/const.alphaQED)/const.cw # epsilon = chi * cW\n",
    "BSMparams.Ue4 = 0.0\n",
    "BSMparams.Umu4 =  np.sqrt(9e-7) \n",
    "BSMparams.Utau4 = 0.0\n",
    "BSMparams.UD4 = 1.0\n",
    "BSMparams.m4 = 0.420 # GeV\n",
    "BSMparams.Mzprime = 0.030 # GeV\n",
    "BSMparams.Dirac = const.MAJORANA\n",
    "\n",
    "BSMparams.set_high_level_variables()\n",
    "\n",
    "\n"
   ]
  },
  {
   "cell_type": "code",
   "execution_count": 16,
   "metadata": {},
   "outputs": [
    {
     "name": "stdout",
     "output_type": "stream",
     "text": [
      "1.7392059496667546e-39\n"
     ]
    }
   ],
   "source": [
    "#########################\n",
    "# hadronic target\n",
    "A_NUMBER = 12.0\n",
    "Z_NUMBER = 6.0\n",
    "\n",
    "##################################################\n",
    "# This gets the upscattering cross section for a given process \n",
    "#get_sigma_zprime(params, Enu, MA, Z, nu_produced=pdg.neutrino4, h_upscattered=-1)\n",
    "print(xsecs.get_sigma_zprime(BSMparams, 2.0, A_NUMBER*const.MAVG, Z_NUMBER))\n",
    "\n"
   ]
  },
  {
   "cell_type": "markdown",
   "metadata": {},
   "source": [
    "### Great, the value above is matching our curve atm.\n",
    "\n",
    "#### It is quite slow, however. I may try to speed this up, but should be okay for now."
   ]
  },
  {
   "cell_type": "code",
   "execution_count": 25,
   "metadata": {},
   "outputs": [],
   "source": [
    "points=50\n",
    "E = np.linspace(0,10,points)\n",
    "sigmaCOH = [xsecs.get_sigma_zprime(BSMparams, E[i], A_NUMBER*const.MAVG, Z_NUMBER) for i in range(points)]\n",
    "sigmaDIF = [xsecs.get_sigma_zprime(BSMparams, E[i], const.mproton, 1.0) for i in range(points)]"
   ]
  },
  {
   "cell_type": "code",
   "execution_count": 41,
   "metadata": {},
   "outputs": [
    {
     "data": {
      "image/png": "[encoded data removed]",
      "text/plain": [
       "<Figure size 319.68x170.042 with 1 Axes>"
      ]
     },
     "metadata": {
      "needs_background": "light"
     },
     "output_type": "display_data"
    }
   ],
   "source": [
    "import numpy as np\n",
    "import scipy \n",
    "import matplotlib.pyplot as plt\n",
    "from matplotlib import rc, rcParams\n",
    "from matplotlib.pyplot import *\n",
    "from matplotlib.legend_handler import HandlerLine2D\n",
    "\n",
    "\n",
    "fsize=10\n",
    "rc('text', usetex=True)\n",
    "plt.rcParams['text.latex.preamble'] = [\n",
    "r'\\usepackage{amsmath}',\n",
    "r'\\usepackage{amssymb}']\n",
    "params={'axes.labelsize':fsize,'xtick.labelsize':fsize,'ytick.labelsize':fsize,\\\n",
    "            'figure.figsize':(1.2*3.7,2.3617)\t}\n",
    "rc('font',**{'family':'serif', 'serif': ['computer modern roman']})\n",
    "plt.rcParams['hatch.linewidth'] = 0.3\n",
    "rcParams.update(params)\n",
    "axes_form  = [0.17,0.17,0.78,0.74]\n",
    "fig = plt.figure()\n",
    "ax = fig.add_axes(axes_form)\n",
    "\n",
    "ax.plot(E,sigmaCOH, c='orange', ls='-', label=r'coh $^{12}C$')\n",
    "ax.plot(E,sigmaDIF, c='blue', ls='--', label=r'coh $p^+$')\n",
    "\n",
    "ax.set_yscale('log')\n",
    "\n",
    "ax.set_xlabel(r'$E_\\nu/$GeV')\n",
    "ax.set_ylabel(r'$\\sigma/$cm$^2$')\n",
    "ax.set_title(r'BP-L1',fontsize=fsize)\n",
    "ax.legend(loc='lower right',frameon=False)\n",
    "\n",
    "fig.savefig('plots/first_xsec_check.pdf')\n"
   ]
  },
  {
   "cell_type": "code",
   "execution_count": null,
   "metadata": {},
   "outputs": [],
   "source": []
  }
 ],
 "metadata": {
  "kernelspec": {
   "display_name": "Python 3",
   "language": "python",
   "name": "python3"
  },
  "language_info": {
   "codemirror_mode": {
    "name": "ipython",
    "version": 3
   },
   "file_extension": ".py",
   "mimetype": "text/x-python",
   "name": "python",
   "nbconvert_exporter": "python",
   "pygments_lexer": "ipython3",
   "version": "3.8.8"
  }
 },
 "nbformat": 4,
 "nbformat_minor": 4
}
