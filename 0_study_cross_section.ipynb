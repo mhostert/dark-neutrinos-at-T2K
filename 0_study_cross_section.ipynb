{
 "cells": [
  {
   "cell_type": "code",
   "execution_count": 1,
   "metadata": {},
   "outputs": [],
   "source": [
    "import matplotlib\n",
    "import matplotlib.pyplot as plt\n",
    "import numpy as np\n",
    "import os\n",
    "import sys, getopt\n",
    "\n",
    "# Dark Neutrino and MC stuff\n",
    "from dark_news import *"
   ]
  },
  {
   "cell_type": "code",
   "execution_count": 13,
   "metadata": {},
   "outputs": [],
   "source": [
    "from matplotlib import rcParams\n",
    "fsize = 12\n",
    "rcParams['text.usetex'] = True\n",
    "rcParams['font.family'] = 'serif'\n",
    "rcParams['font.serif'] = ['computer modern roman', 'serif']\n",
    "rcParams['figure.figsize'] = (1.2*3.7,1.2*2.3617)\n",
    "rcParams['hatch.linewidth'] = 0.3\n",
    "rcParams['axes.labelsize'] = fsize\n",
    "rcParams['xtick.labelsize'] = fsize\n",
    "rcParams['ytick.labelsize'] = fsize\n",
    "rcParams['axes.titlesize'] = 10\n",
    "rcParams['legend.frameon'] = False\n",
    "rcParams['legend.fontsize'] = 0.8*fsize\n",
    "rcParams['legend.loc'] = 'best'"
   ]
  },
  {
   "cell_type": "code",
   "execution_count": 14,
   "metadata": {},
   "outputs": [],
   "source": [
    "save_folder = 'fig/0_cross_section_checks/'"
   ]
  },
  {
   "cell_type": "markdown",
   "metadata": {},
   "source": [
    "## SET MODEL PARAMETERS"
   ]
  },
  {
   "cell_type": "code",
   "execution_count": 15,
   "metadata": {},
   "outputs": [],
   "source": [
    "# MODEL = const.THREEPLUSONE\n",
    "\n",
    "# #########################\n",
    "# # Set BSM parameters\n",
    "# BSMparams = model.model_params()\n",
    "\n",
    "# # BP-L1\n",
    "# BSMparams.gprime = np.sqrt(4*np.pi*1.0/4.0)\n",
    "# BSMparams.chi = np.sqrt(2e-10/const.alphaQED)/const.cw # epsilon = chi * cW\n",
    "# BSMparams.Ue4 = 0.0\n",
    "# BSMparams.Umu4 =  np.sqrt(9e-7) \n",
    "# BSMparams.Utau4 = 0.0\n",
    "# BSMparams.UD4 = 1.0\n",
    "# BSMparams.m4 = 0.420 # GeV\n",
    "# BSMparams.Mzprime = 0.030 # GeV\n",
    "# BSMparams.Dirac = const.MAJORANA\n",
    "\n",
    "# BSMparams.set_high_level_variables()"
   ]
  },
  {
   "cell_type": "code",
   "execution_count": 16,
   "metadata": {},
   "outputs": [],
   "source": [
    "MODEL = const.THREEPLUSONE\n",
    "BSMparams = model.model_params()\n",
    "\n",
    "BSMparams.gprime = np.sqrt(4*np.pi * 0.4)\n",
    "BSMparams.chi = np.sqrt(4.6e-4)/const.cw # epsilon = chi * cW\n",
    "BSMparams.m4 = 0.1\n",
    "BSMparams.Mzprime = 1.25\n",
    "BSMparams.Umu4 = np.sqrt(2.2e-7)\n",
    "BSMparams.Ue4 = 0.0\n",
    "BSMparams.Utau4 = 0.0\n",
    "BSMparams.UD4 = 1\n",
    "BSMparams.Dirac = const.DIRAC\n",
    "BSMparams.D_or_M = 'dirac'\n",
    "\n",
    "BSMparams.set_high_level_variables()"
   ]
  },
  {
   "cell_type": "code",
   "execution_count": 17,
   "metadata": {},
   "outputs": [
    {
     "name": "stdout",
     "output_type": "stream",
     "text": [
      "4.676223071429446e-42\n"
     ]
    }
   ],
   "source": [
    "print(xsecs.get_sigma_zprime(BSMparams, 1, 12*const.MAVG, 6))"
   ]
  },
  {
   "cell_type": "code",
   "execution_count": 22,
   "metadata": {},
   "outputs": [
    {
     "name": "stderr",
     "output_type": "stream",
     "text": [
      "<ipython-input-22-2623778e906a>:13: RuntimeWarning: invalid value encountered in true_divide\n",
      "  plt.plot(Z_s, sigma/Z_s**2/(sigma[0]/Z_s[0]**2), label=f'$E_\\\\nu$ = {E_beam} GeV')\n"
     ]
    },
    {
     "data": {
      "image/png": "[encoded data removed]",
      "text/plain": [
       "<Figure size 319.68x204.051 with 1 Axes>"
      ]
     },
     "metadata": {
      "needs_background": "light"
     },
     "output_type": "display_data"
    }
   ],
   "source": [
    "for E_beam in [0.1, 1, 10]:\n",
    "\n",
    "    A_s = np.array([1, 12, 16, 40, 63.546, 65.38, 207.2])\n",
    "    Z_s = np.array([1, 6, 8, 18, 29, 30, 82])\n",
    "\n",
    "    sigma = []\n",
    "\n",
    "    for A, Z in zip(A_s, Z_s):\n",
    "        sigma.append(xsecs.get_sigma_zprime(BSMparams, E_beam, A*const.MAVG, Z))\n",
    "\n",
    "    sigma = np.array(sigma)\n",
    "\n",
    "    plt.plot(Z_s, sigma/Z_s**2/(sigma[0]/Z_s[0]**2), label=f'$E_\\\\nu$ = {E_beam} GeV')\n",
    "plt.xlabel('Z')\n",
    "# plt.ylabel(r'$(\\sigma / Z^2) / (\\sigma_C / Z_C^2)$')\n",
    "plt.ylabel(r'$(\\sigma / Z^2) / \\sigma_H$')\n",
    "plt.yscale('log')\n",
    "plt.legend(frameon=False)\n",
    "\n",
    "# plt.savefig(save_folder + 'coh_xsec_vs_Z_diff_energy_start_C.pdf', bbox_inches='tight')\n",
    "plt.savefig(save_folder + 'coh_xsec_vs_Z_diff_energy_start_H.pdf', bbox_inches='tight')"
   ]
  },
  {
   "cell_type": "code",
   "execution_count": 24,
   "metadata": {},
   "outputs": [
    {
     "data": {
      "image/png": "[encoded data removed]",
      "text/plain": [
       "<Figure size 319.68x204.051 with 1 Axes>"
      ]
     },
     "metadata": {
      "needs_background": "light"
     },
     "output_type": "display_data"
    }
   ],
   "source": [
    "A_s = np.array([12, 16, 40, 63.546, 65.38, 207.2])\n",
    "Z_s = np.array([6, 8, 18, 29, 30, 82])\n",
    "\n",
    "sigma = []\n",
    "for A, Z in zip(A_s, Z_s):\n",
    "    sigma.append(xsecs.get_sigma_zprime(BSMparams, E_beam, A*const.MAVG, Z))\n",
    "sigma = np.array(sigma)\n",
    "plt.plot(Z_s, sigma/Z_s**2/(sigma[0]/Z_s[0]**2), label=f'true A, Z')\n",
    "\n",
    "sigma = []\n",
    "for A, Z in zip(A_s, Z_s):\n",
    "    A = Z\n",
    "    sigma.append(xsecs.get_sigma_zprime(BSMparams, E_beam, A*const.MAVG, Z))\n",
    "sigma = np.array(sigma)\n",
    "plt.plot(Z_s, sigma/Z_s**2/(sigma[0]/Z_s[0]**2), label=f'A = Z')\n",
    "\n",
    "sigma = []\n",
    "for A, Z in zip(Z_s, Z_s):\n",
    "    A = 1\n",
    "    sigma.append(xsecs.get_sigma_zprime(BSMparams, E_beam, A*const.MAVG, Z))\n",
    "sigma = np.array(sigma)\n",
    "plt.plot(Z_s, sigma/Z_s**2/(sigma[0]/Z_s[0]**2), label=f'A = 1')\n",
    "\n",
    "sigma = []\n",
    "for A, Z in zip(Z_s, Z_s):\n",
    "    A = 10\n",
    "    sigma.append(xsecs.get_sigma_zprime(BSMparams, E_beam, A*const.MAVG, Z))\n",
    "sigma = np.array(sigma)\n",
    "plt.plot(Z_s, sigma/Z_s**2/(sigma[0]/Z_s[0]**2), label=f'A = 10')\n",
    "\n",
    "sigma = []\n",
    "for A, Z in zip(Z_s, Z_s):\n",
    "    A = 100\n",
    "    sigma.append(xsecs.get_sigma_zprime(BSMparams, E_beam, A*const.MAVG, Z))\n",
    "sigma = np.array(sigma)\n",
    "plt.plot(Z_s, sigma/Z_s**2/(sigma[0]/Z_s[0]**2), label=f'A = 100')\n",
    "\n",
    "plt.xlabel('Z')\n",
    "plt.ylabel(r'$(\\sigma / Z^2) / (\\sigma_C / Z_C^2)$')\n",
    "# plt.ylabel(r'$(\\sigma / Z^2) / \\sigma_H$')\n",
    "plt.legend(frameon=False)\n",
    "plt.yscale('log')\n",
    "\n",
    "plt.savefig(save_folder + 'coh_xsec_vs_Z_diff_A_start_C.pdf', bbox_inches='tight')\n",
    "# plt.savefig(save_folder + 'coh_xsec_vs_Z_diff_A_start_H.pdf', bbox_inches='tight')"
   ]
  },
  {
   "cell_type": "markdown",
   "metadata": {},
   "source": [
    "## Check with different $m_N$"
   ]
  },
  {
   "cell_type": "code",
   "execution_count": 85,
   "metadata": {},
   "outputs": [
    {
     "data": {
      "image/png": "[encoded data removed]",
      "text/plain": [
       "<Figure size 432x288 with 1 Axes>"
      ]
     },
     "metadata": {
      "needs_background": "light"
     },
     "output_type": "display_data"
    }
   ],
   "source": [
    "E_beam = 1\n",
    "A = 12\n",
    "Z = 6\n",
    "m_N_s = np.linspace(0.05, 0.15, 15)\n",
    "\n",
    "sigma = []\n",
    "for m_N in m_N_s:\n",
    "    MODEL = const.THREEPLUSONE\n",
    "    BSMparams = model.model_params()\n",
    "\n",
    "    BSMparams.gprime = np.sqrt(4*np.pi * 0.4)\n",
    "    BSMparams.chi = np.sqrt(4.6e-4)/const.cw # epsilon = chi * cW\n",
    "    BSMparams.m4 = m_N\n",
    "    BSMparams.Mzprime = 1.25\n",
    "    BSMparams.Umu4 = np.sqrt(2.2e-7)\n",
    "    BSMparams.Ue4 = 0.0\n",
    "    BSMparams.Utau4 = 0.0\n",
    "    BSMparams.UD4 = 1\n",
    "    # BSMparams.Dirac = const.MAJORANA\n",
    "    BSMparams.D_or_M = 'majorana'\n",
    "\n",
    "    BSMparams.set_high_level_variables()\n",
    "    \n",
    "    sigma.append(xsecs.get_sigma_zprime(BSMparams, E_beam, A*const.MAVG, Z))\n",
    "\n",
    "sigma = np.array(sigma)\n",
    "plt.plot(m_N_s, sigma/sigma[7])\n",
    "plt.xlabel(r'$m_N$ [GeV]')\n",
    "plt.ylabel(f'$\\sigma_C(m_N) / \\sigma_C(m_N = {m_N_s[7]:.2f} GeV)$')\n",
    "# plt.yscale('log')\n",
    "\n",
    "plt.savefig(save_folder + 'coh_xsec_vs_m_N.pdf', bbox_inches='tight')"
   ]
  }
 ],
 "metadata": {
  "kernelspec": {
   "display_name": "Python [conda env:.conda-dark_nus]",
   "language": "python",
   "name": "conda-env-.conda-dark_nus-py"
  },
  "language_info": {
   "codemirror_mode": {
    "name": "ipython",
    "version": 3
   },
   "file_extension": ".py",
   "mimetype": "text/x-python",
   "name": "python",
   "nbconvert_exporter": "python",
   "pygments_lexer": "ipython3",
   "version": "3.8.8"
  }
 },
 "nbformat": 4,
 "nbformat_minor": 4
}
