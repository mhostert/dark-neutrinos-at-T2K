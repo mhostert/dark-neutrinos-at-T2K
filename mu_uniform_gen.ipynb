{
 "cells": [
  {
   "cell_type": "markdown",
   "metadata": {},
   "source": [
    "# Generate events by sampling uniformly"
   ]
  },
  {
   "cell_type": "code",
   "execution_count": 44,
   "metadata": {},
   "outputs": [
    {
     "name": "stdout",
     "output_type": "stream",
     "text": [
      "The autoreload extension is already loaded. To reload it, use:\n",
      "  %reload_ext autoreload\n"
     ]
    }
   ],
   "source": [
    "%load_ext autoreload\n",
    "%autoreload 2"
   ]
  },
  {
   "cell_type": "code",
   "execution_count": 45,
   "metadata": {},
   "outputs": [],
   "source": [
    "from exp_analysis import *\n",
    "from exp_analysis.exp_analysis import *"
   ]
  },
  {
   "cell_type": "code",
   "execution_count": 46,
   "metadata": {},
   "outputs": [],
   "source": [
    "from exp_analysis.parameters_dict import physics_parameters"
   ]
  },
  {
   "cell_type": "code",
   "execution_count": 47,
   "metadata": {},
   "outputs": [
    {
     "data": {
      "text/plain": [
       "{'heavy': {'m4_limits': (0.005, 1),\n",
       "  'mz_limits': (0.005, 10),\n",
       "  'm4_scan': [0.01, 0.1, 0.5],\n",
       "  'mz_scan': [0.01, 0.1, 1, 5],\n",
       "  'alpha_dark': 0.4,\n",
       "  'Umu4': 2.2e-07,\n",
       "  'epsilon2': 0.00046,\n",
       "  'alpha_em': 0.0072992700729927005,\n",
       "  'span_2d': 9.945025,\n",
       "  'Vmu4_alpha_epsilon2': 2.9547445255474454e-13}}"
      ]
     },
     "execution_count": 47,
     "metadata": {},
     "output_type": "execute_result"
    }
   ],
   "source": [
    "physics_parameters"
   ]
  },
  {
   "cell_type": "code",
   "execution_count": 48,
   "metadata": {},
   "outputs": [],
   "source": [
    "from dark_news import *"
   ]
  },
  {
   "cell_type": "code",
   "execution_count": 49,
   "metadata": {},
   "outputs": [],
   "source": [
    "import numpy as np\n",
    "from matplotlib import pyplot as plt"
   ]
  },
  {
   "cell_type": "code",
   "execution_count": 50,
   "metadata": {},
   "outputs": [],
   "source": [
    "case = 'heavy'\n",
    "save_folder = f'./data/nd280_nu/3plus1/uniform_scan/{case}_mediator/'"
   ]
  },
  {
   "cell_type": "code",
   "execution_count": 103,
   "metadata": {},
   "outputs": [],
   "source": [
    "BSMparams = model.model_params()\n",
    "     \n",
    "BSMparams.gprime = np.sqrt(4*np.pi*physics_parameters[case]['alpha_dark'])\n",
    "BSMparams.chi = np.sqrt(physics_parameters[case]['epsilon2'])/const.cw\n",
    "BSMparams.Ue4 = 0.0\n",
    "BSMparams.Umu4 = np.sqrt(physics_parameters[case]['Umu4'])\n",
    "BSMparams.Utau4 = 0\n",
    "BSMparams.Ue5 = 0.0\n",
    "BSMparams.Umu5 = np.sqrt(26.5e-8)\n",
    "BSMparams.Utau5 = 0\n",
    "BSMparams.Ue6 = 0.0\n",
    "BSMparams.Umu6 = np.sqrt(123.0e-8*0.0629)\n",
    "BSMparams.Utau6 = 0\n",
    "BSMparams.UD4 = 1\n",
    "BSMparams.UD5 = 0\n",
    "BSMparams.UD6 = 0\n",
    "BSMparams.m4 = 0.100\n",
    "BSMparams.m5 = 1e6\n",
    "BSMparams.m6 = 1e6\n",
    "BSMparams.Mzprime = 0.03\n",
    "BSMparams.Dirac = 0\n",
    "\n",
    "BSMparams.M4_min = physics_parameters[case]['m4_limits'][0]\n",
    "BSMparams.M4_max = physics_parameters[case]['m4_limits'][1]\n",
    "\n",
    "BSMparams.mzprime_min = physics_parameters[case]['mz_limits'][0]\n",
    "BSMparams.mzprime_max = physics_parameters[case]['mz_limits'][1]\n",
    "\n",
    "BSMparams.set_high_level_variables()\n",
    "\n",
    "BSMparams.hierarchy = f'{case}_mediator'\n",
    "BSMparams.scan = True\n",
    "BSMparams.number_of_scanned_params = 2\n",
    "\n",
    "myexp = exp.experiment(\"nd280_nu\")"
   ]
  },
  {
   "cell_type": "code",
   "execution_count": 104,
   "metadata": {},
   "outputs": [],
   "source": [
    "this_MC = MC.MC_events(\n",
    "                    BSMparams, \n",
    "                    myexp, \n",
    "                    datafile=None, \n",
    "                    MA=1*const.MAVG, \n",
    "                    Z=82, \n",
    "                    nu_scatterer=pdg.numu,\n",
    "                    nu_produced=pdg.neutrino4, \n",
    "                    nu_outgoing=pdg.numu, \n",
    "                    final_lepton=pdg.electron,\n",
    "                    h_upscattered=-1)"
   ]
  },
  {
   "cell_type": "code",
   "execution_count": 105,
   "metadata": {},
   "outputs": [],
   "source": [
    "if case == 'heavy':\n",
    "    DIM = 6\n",
    "    if BSMparams.scan:\n",
    "        DIM += BSMparams.number_of_scanned_params\n",
    "\n",
    "    batch_f = integrands.threebody(dim=DIM, Emin=this_MC.EMIN, Emax=this_MC.EMAX, MC_case=this_MC)"
   ]
  },
  {
   "cell_type": "code",
   "execution_count": 106,
   "metadata": {},
   "outputs": [],
   "source": [
    "rng = np.random.default_rng()"
   ]
  },
  {
   "cell_type": "code",
   "execution_count": 107,
   "metadata": {},
   "outputs": [],
   "source": [
    "nsamples = 1000000\n",
    "random_uniform_numbers = rng.uniform(0, 1, [nsamples, DIM])"
   ]
  },
  {
   "cell_type": "code",
   "execution_count": 108,
   "metadata": {},
   "outputs": [],
   "source": [
    "weights = batch_f.__call__(random_uniform_numbers)"
   ]
  },
  {
   "cell_type": "code",
   "execution_count": 109,
   "metadata": {},
   "outputs": [],
   "source": [
    "out = integrands.three_body_phase_space(samples=random_uniform_numbers.T, MC_case=this_MC)"
   ]
  },
  {
   "cell_type": "code",
   "execution_count": 110,
   "metadata": {},
   "outputs": [],
   "source": [
    "out['m4'] = out['m4_scan']\n",
    "out['mzprime'] = out['mzprime_scan']"
   ]
  },
  {
   "cell_type": "code",
   "execution_count": 111,
   "metadata": {},
   "outputs": [],
   "source": [
    "weights['decay rate N'] = (weights['decay rate N'] / (out['mzprime']**4 * nsamples))"
   ]
  },
  {
   "cell_type": "code",
   "execution_count": 112,
   "metadata": {},
   "outputs": [
    {
     "data": {
      "text/plain": [
       "Text(0.5, 1.0, 'Points randomly generated with the threebody integral function')"
      ]
     },
     "execution_count": 112,
     "metadata": {},
     "output_type": "execute_result"
    },
    {
     "data": {
      "image/png": "[encoded data removed]",
      "text/plain": [
       "<Figure size 432x288 with 2 Axes>"
      ]
     },
     "metadata": {
      "needs_background": "light"
     },
     "output_type": "display_data"
    }
   ],
   "source": [
    "from matplotlib.colors import LogNorm\n",
    "ranges = [[0,1], [0,10]]\n",
    "bins = (50, 50)\n",
    "bin_size = (ranges[0][1]-ranges[0][0]) * (ranges[1][1]-ranges[1][0]) / (bins[0]*bins[1])\n",
    "plt.hist2d(out['m4'], out['mzprime'], bins=bins, range=ranges,\n",
    "           weights=weights['decay rate N'] / bin_size, norm=LogNorm())\n",
    "plt.colorbar()\n",
    "plt.xlim(0, 1)\n",
    "plt.ylim(0, 10)\n",
    "plt.xlabel('m_4 [GeV]')\n",
    "plt.ylabel('m_Z [GeV]')\n",
    "plt.title('Points randomly generated with the threebody integral function')"
   ]
  },
  {
   "cell_type": "code",
   "execution_count": 113,
   "metadata": {},
   "outputs": [
    {
     "data": {
      "text/plain": [
       "Text(0.5, 1.0, 'Restricting to m_Z > 1 GeV')"
      ]
     },
     "execution_count": 113,
     "metadata": {},
     "output_type": "execute_result"
    },
    {
     "data": {
      "image/png": "[encoded data removed]",
      "text/plain": [
       "<Figure size 432x288 with 1 Axes>"
      ]
     },
     "metadata": {
      "needs_background": "light"
     },
     "output_type": "display_data"
    }
   ],
   "source": [
    "mask = out['mzprime_scan'] > 1\n",
    "plt.hist(out['m4_scan'][mask], bins=100)\n",
    "plt.xlabel('m_4 [GeV]')\n",
    "plt.title('Restricting to m_Z > 1 GeV')"
   ]
  },
  {
   "cell_type": "markdown",
   "metadata": {},
   "source": [
    "# Compare sum of the weights with the analytic function"
   ]
  },
  {
   "cell_type": "code",
   "execution_count": 114,
   "metadata": {},
   "outputs": [],
   "source": [
    "# def gamma_heavy(m4, mz, Valpha4_alphaepsilon2):\n",
    "#     return Valpha4_alphaepsilon2/(24 * np.pi) * m4**5/mz**4\n",
    "\n",
    "# def gamma_heavy_integrated(m4_s, mz_s, Valpha4_alphaepsilon2, normalised=True):\n",
    "#     aux = Valpha4_alphaepsilon2/(24 * np.pi) * (1/6) * (1/(-3))\n",
    "#     aux *= (m4_s[1]**6 - m4_s[0]**6)\n",
    "#     aux *= (mz_s[1]**(-3) - mz_s[0]**(-3))\n",
    "#     if normalised:\n",
    "#         aux /= ((m4_s[1] - m4_s[0])*(mz_s[1] - mz_s[0]))\n",
    "#     return aux"
   ]
  },
  {
   "cell_type": "code",
   "execution_count": 120,
   "metadata": {},
   "outputs": [],
   "source": [
    "def output_distrib(df, weights, binning_in, bins, hist_range, range_other_variable, type_of_truth):  \n",
    "    values_hist = df[binning_in]\n",
    "    hist_mask = (values_hist > hist_range[0]) &\\\n",
    "                (values_hist < hist_range[1])\n",
    "    if binning_in == 'm4':\n",
    "        other_variable = 'mzprime'\n",
    "    elif binning_in == 'mzprime':\n",
    "        other_variable = 'm4'\n",
    "    other_variable_mask = (df[other_variable] > range_other_variable[0]) &\\\n",
    "                          (df[other_variable] < range_other_variable[1])\n",
    "    total_mask = hist_mask & other_variable_mask\n",
    "    bin_size = (hist_range[1] - hist_range[0])/bins * (range_other_variable[1] - range_other_variable[0])\n",
    "    \n",
    "    bin_edges = np.linspace(*hist_range, bins+1)\n",
    "    hist_out = plt.hist(values_hist[total_mask],\n",
    "             bins=bin_edges,\n",
    "             weights=weights[total_mask]/bin_size,\n",
    "             histtype='step',\n",
    "             label=f'{range_other_variable[0]:.2g} < {other_variable} < {range_other_variable[1]:.2g}')\n",
    "    plt.xlabel(binning_in)\n",
    "    plt.ylabel('Decay rate [GeV]')\n",
    "    \n",
    "    bin_centers = (bin_edges[1:] + bin_edges[:-1])/2\n",
    "    if type_of_truth == 'function':\n",
    "        mid_other_variable = (range_other_variable[1] + range_other_variable[0])/2\n",
    "        if binning_in == 'm4':\n",
    "            aux_truth = gamma_heavy(bin_centers, mid_other_variable, physics_parameters[case]['Vmu4_alpha_epsilon2'])\n",
    "        elif binning_in == 'mzprime':\n",
    "            aux_truth = gamma_heavy(mid_other_variable, bin_centers, physics_parameters[case]['Vmu4_alpha_epsilon2'])\n",
    "    elif type_of_truth == 'average':\n",
    "        aux_truth = []\n",
    "        for aux_bin_edges in zip(bin_edges[:-1], bin_edges[1:]):\n",
    "            if binning_in == 'm4':\n",
    "                aux_truth.append(gamma_heavy_integrated(aux_bin_edges, \n",
    "                                                        range_other_variable, \n",
    "                                                        physics_parameters[case]['Vmu4_alpha_epsilon2'], \n",
    "                                                        normalised=True))\n",
    "            elif binning_in == 'mzprime':\n",
    "                aux_truth.append(gamma_heavy_integrated(range_other_variable, \n",
    "                                                        aux_bin_edges, \n",
    "                                                        physics_parameters[case]['Vmu4_alpha_epsilon2'], \n",
    "                                                        normalised=True))\n",
    "    aux_truth = np.array(aux_truth)\n",
    "    print(f'bin size = {bin_size:.2g}')\n",
    "    print(f'histogram_entries = {total_mask.sum():.2g}')\n",
    "#     print(f'Total integral from vegas = {weights[total_mask].sum():.2g}')\n",
    "    print(f'histogram integral = {hist_out[0].sum():.2g}')\n",
    "    print(f'Truth = {aux_truth.sum():.2g}')\n",
    "    print(f'Ratio = {(aux_truth.sum()/hist_out[0].sum()):.2g}')\n",
    "    plt.plot(bin_centers,\n",
    "            aux_truth,\n",
    "            '.',\n",
    "            label=f'truth {type_of_truth}')\n",
    "    plt.yscale('log')\n",
    "    plt.legend(loc='best', frameon=False)"
   ]
  },
  {
   "cell_type": "code",
   "execution_count": 121,
   "metadata": {},
   "outputs": [
    {
     "name": "stdout",
     "output_type": "stream",
     "text": [
      "bin size = 0.1\n",
      "histogram_entries = 9.2e+04\n",
      "histogram integral = 1.4e-19\n",
      "Truth = 1.4e-19\n",
      "Ratio = 0.98\n"
     ]
    },
    {
     "data": {
      "image/png": "[encoded data removed]",
      "text/plain": [
       "<Figure size 432x288 with 1 Axes>"
      ]
     },
     "metadata": {
      "needs_background": "light"
     },
     "output_type": "display_data"
    }
   ],
   "source": [
    "# normal call\n",
    "output_distrib(df=out, \n",
    "               weights=weights['decay rate N'],\n",
    "               binning_in='mzprime', #m4 or mzprime\n",
    "               bins=9, \n",
    "               hist_range=[1, 10], \n",
    "               range_other_variable=[0.1, 0.2], \n",
    "               type_of_truth='average')"
   ]
  },
  {
   "cell_type": "code",
   "execution_count": null,
   "metadata": {},
   "outputs": [],
   "source": []
  },
  {
   "cell_type": "code",
   "execution_count": 123,
   "metadata": {},
   "outputs": [
    {
     "name": "stdout",
     "output_type": "stream",
     "text": [
      "bin size = 0.1\n",
      "histogram_entries = 9.2e+04\n",
      "histogram integral = 1.4e-19\n",
      "Truth = 1.4e-19\n",
      "Ratio = 0.98\n"
     ]
    },
    {
     "data": {
      "image/png": "[encoded data removed]",
      "text/plain": [
       "<Figure size 432x288 with 1 Axes>"
      ]
     },
     "metadata": {
      "needs_background": "light"
     },
     "output_type": "display_data"
    }
   ],
   "source": [
    "# normal call\n",
    "output_distrib(df=out, \n",
    "               weights=weights['decay rate N'],\n",
    "               binning_in='mzprime', #m4 or mzprime\n",
    "               bins=9, \n",
    "               hist_range=[1, 10], \n",
    "               range_other_variable=[0.1, 0.2], \n",
    "               type_of_truth='average')"
   ]
  },
  {
   "cell_type": "code",
   "execution_count": null,
   "metadata": {},
   "outputs": [],
   "source": []
  },
  {
   "cell_type": "code",
   "execution_count": 124,
   "metadata": {},
   "outputs": [
    {
     "name": "stdout",
     "output_type": "stream",
     "text": [
      "bin size = 0.1\n",
      "histogram_entries = 9.9e+04\n",
      "histogram integral = 8.5e-16\n",
      "Truth = 8.4e-16\n",
      "Ratio = 0.99\n"
     ]
    },
    {
     "data": {
      "image/png": "[encoded data removed]",
      "text/plain": [
       "<Figure size 432x288 with 1 Axes>"
      ]
     },
     "metadata": {
      "needs_background": "light"
     },
     "output_type": "display_data"
    }
   ],
   "source": [
    "# normal call\n",
    "output_distrib(df=out, \n",
    "               weights=weights['decay rate N'],\n",
    "               binning_in='mzprime', #m4 or mzprime\n",
    "               bins=9, \n",
    "               hist_range=[1, 10], \n",
    "               range_other_variable=[0.8, 0.9], \n",
    "               type_of_truth='average')"
   ]
  },
  {
   "cell_type": "code",
   "execution_count": 125,
   "metadata": {},
   "outputs": [
    {
     "name": "stdout",
     "output_type": "stream",
     "text": [
      "bin size = 0.1\n",
      "histogram_entries = 9.6e+04\n",
      "histogram integral = 2.9e-15\n",
      "Truth = 3e-15\n",
      "Ratio = 1\n"
     ]
    },
    {
     "data": {
      "image/png": "[encoded data removed]",
      "text/plain": [
       "<Figure size 432x288 with 1 Axes>"
      ]
     },
     "metadata": {
      "needs_background": "light"
     },
     "output_type": "display_data"
    }
   ],
   "source": [
    "# normal call\n",
    "output_distrib(df=out, \n",
    "               weights=weights['decay rate N'],\n",
    "               binning_in='m4', #m4 or mzprime\n",
    "               bins=9, \n",
    "               hist_range=[0.1, 1], \n",
    "               range_other_variable=[1, 2], \n",
    "               type_of_truth='average')"
   ]
  },
  {
   "cell_type": "code",
   "execution_count": 32,
   "metadata": {},
   "outputs": [
    {
     "name": "stdout",
     "output_type": "stream",
     "text": [
      "bin size = 0.1\n",
      "histogram_entries = 9.6e+04\n",
      "histogram integral = 2.2e-16\n",
      "Truth = 1.9e-16\n",
      "Ratio = 0.86\n"
     ]
    },
    {
     "data": {
      "image/png": "[encoded data removed]",
      "text/plain": [
       "<Figure size 432x288 with 1 Axes>"
      ]
     },
     "metadata": {
      "needs_background": "light"
     },
     "output_type": "display_data"
    }
   ],
   "source": [
    "# normal call\n",
    "output_distrib(df=out, \n",
    "               weights=weights['decay rate N'],\n",
    "               binning_in='m4', #m4 or mzprime\n",
    "               bins=9, \n",
    "               hist_range=[0.1, 1], \n",
    "               range_other_variable=[2, 3], \n",
    "               type_of_truth='average')"
   ]
  },
  {
   "cell_type": "markdown",
   "metadata": {},
   "source": [
    "# A new test: sampling only in the physics variables"
   ]
  },
  {
   "cell_type": "code",
   "execution_count": 33,
   "metadata": {},
   "outputs": [],
   "source": [
    "BSMparams = model.model_params()\n",
    "     \n",
    "BSMparams.gprime = np.sqrt(4*np.pi*physics_parameters[case]['alpha_dark'])\n",
    "BSMparams.chi = np.sqrt(physics_parameters[case]['epsilon2'])/const.cw\n",
    "BSMparams.Ue4 = 0.0\n",
    "BSMparams.Umu4 = np.sqrt(physics_parameters[case]['Umu4'])\n",
    "BSMparams.Utau4 = 0\n",
    "BSMparams.Ue5 = 0.0\n",
    "BSMparams.Umu5 = np.sqrt(26.5e-8)\n",
    "BSMparams.Utau5 = 0\n",
    "BSMparams.Ue6 = 0.0\n",
    "BSMparams.Umu6 = np.sqrt(123.0e-8*0.0629)\n",
    "BSMparams.Utau6 = 0\n",
    "BSMparams.UD4 = 1\n",
    "BSMparams.UD5 = 1\n",
    "BSMparams.UD6 = 1\n",
    "BSMparams.m4 = 0.5\n",
    "BSMparams.m5 = 1e6\n",
    "BSMparams.m6 = 1e6\n",
    "BSMparams.Mzprime = 5\n",
    "BSMparams.Dirac = 0\n",
    "\n",
    "BSMparams.M4_min = physics_parameters[case]['m4_limits'][0]\n",
    "BSMparams.M4_max = physics_parameters[case]['m4_limits'][1]\n",
    "\n",
    "BSMparams.mzprime_min = physics_parameters[case]['mz_limits'][0]\n",
    "BSMparams.mzprime_max = physics_parameters[case]['mz_limits'][1]\n",
    "\n",
    "BSMparams.set_high_level_variables()\n",
    "\n",
    "BSMparams.hierarchy = f'{case}_mediator'\n",
    "BSMparams.scan = False\n",
    "BSMparams.number_of_scanned_params = 0\n",
    "\n",
    "myexp = exp.experiment(\"nd280_nu\")"
   ]
  },
  {
   "cell_type": "code",
   "execution_count": 34,
   "metadata": {},
   "outputs": [],
   "source": [
    "this_MC = MC.MC_events(\n",
    "                    BSMparams, \n",
    "                    myexp, \n",
    "                    datafile=None, \n",
    "                    MA=1*const.MAVG, \n",
    "                    Z=82, \n",
    "                    nu_scatterer=pdg.numu,\n",
    "                    nu_produced=pdg.neutrino4, \n",
    "                    nu_outgoing=pdg.numu, \n",
    "                    final_lepton=pdg.electron,\n",
    "                    h_upscattered=-1)"
   ]
  },
  {
   "cell_type": "code",
   "execution_count": 35,
   "metadata": {},
   "outputs": [],
   "source": [
    "if case == 'heavy':\n",
    "    DIM = 6\n",
    "    if BSMparams.scan:\n",
    "        DIM += BSMparams.number_of_scanned_params\n",
    "\n",
    "    batch_f = integrands.threebody(dim=DIM, Emin=this_MC.EMIN, Emax=this_MC.EMAX, MC_case=this_MC)"
   ]
  },
  {
   "cell_type": "code",
   "execution_count": 36,
   "metadata": {},
   "outputs": [],
   "source": [
    "rng = np.random.default_rng()"
   ]
  },
  {
   "cell_type": "code",
   "execution_count": 37,
   "metadata": {},
   "outputs": [],
   "source": [
    "nsamples = 1000000\n",
    "random_uniform_numbers = rng.uniform(0, 1, [nsamples, DIM])"
   ]
  },
  {
   "cell_type": "code",
   "execution_count": 38,
   "metadata": {},
   "outputs": [],
   "source": [
    "weights = batch_f.__call__(random_uniform_numbers)"
   ]
  },
  {
   "cell_type": "code",
   "execution_count": 39,
   "metadata": {},
   "outputs": [],
   "source": [
    "weights['decay rate N'] = (weights['decay rate N'] / (BSMparams.Mzprime**4 * nsamples))"
   ]
  },
  {
   "cell_type": "code",
   "execution_count": 40,
   "metadata": {},
   "outputs": [
    {
     "data": {
      "text/plain": [
       "2.1048335154974578e-19"
      ]
     },
     "execution_count": 40,
     "metadata": {},
     "output_type": "execute_result"
    }
   ],
   "source": [
    "weights['decay rate N'].sum()"
   ]
  },
  {
   "cell_type": "code",
   "execution_count": 41,
   "metadata": {},
   "outputs": [
    {
     "data": {
      "text/plain": [
       "1.959425820060804e-19"
      ]
     },
     "execution_count": 41,
     "metadata": {},
     "output_type": "execute_result"
    }
   ],
   "source": [
    "gamma_heavy(BSMparams.m4, BSMparams.Mzprime, physics_parameters[case]['Vmu4_alpha_epsilon2'])"
   ]
  },
  {
   "cell_type": "code",
   "execution_count": null,
   "metadata": {},
   "outputs": [],
   "source": []
  },
  {
   "cell_type": "code",
   "execution_count": null,
   "metadata": {},
   "outputs": [],
   "source": []
  }
 ],
 "metadata": {
  "kernelspec": {
   "display_name": "Python 3",
   "language": "python",
   "name": "python3"
  },
  "language_info": {
   "codemirror_mode": {
    "name": "ipython",
    "version": 3
   },
   "file_extension": ".py",
   "mimetype": "text/x-python",
   "name": "python",
   "nbconvert_exporter": "python",
   "pygments_lexer": "ipython3",
   "version": "3.9.2"
  }
 },
 "nbformat": 4,
 "nbformat_minor": 2
}
