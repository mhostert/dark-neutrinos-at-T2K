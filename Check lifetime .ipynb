{
 "cells": [
  {
   "cell_type": "markdown",
   "id": "armed-specific",
   "metadata": {},
   "source": [
    "# Generate events with fixed m4 and mzprime"
   ]
  },
  {
   "cell_type": "code",
   "execution_count": 57,
   "id": "crude-usage",
   "metadata": {},
   "outputs": [
    {
     "name": "stdout",
     "output_type": "stream",
     "text": [
      "The autoreload extension is already loaded. To reload it, use:\n",
      "  %reload_ext autoreload\n"
     ]
    }
   ],
   "source": [
    "%load_ext autoreload\n",
    "%autoreload 2"
   ]
  },
  {
   "cell_type": "code",
   "execution_count": 58,
   "id": "weird-greeting",
   "metadata": {},
   "outputs": [],
   "source": [
    "from exp_analysis import *\n",
    "from exp_analysis.exp_analysis import *"
   ]
  },
  {
   "cell_type": "code",
   "execution_count": 59,
   "id": "transparent-internship",
   "metadata": {},
   "outputs": [],
   "source": [
    "from exp_analysis import *"
   ]
  },
  {
   "cell_type": "code",
   "execution_count": 60,
   "id": "ordinary-parts",
   "metadata": {},
   "outputs": [],
   "source": [
    "from dark_news import *"
   ]
  },
  {
   "cell_type": "code",
   "execution_count": 61,
   "id": "corresponding-cleveland",
   "metadata": {},
   "outputs": [],
   "source": [
    "import numpy as np\n",
    "from matplotlib import pyplot as plt"
   ]
  },
  {
   "cell_type": "code",
   "execution_count": 62,
   "id": "departmental-assembly",
   "metadata": {},
   "outputs": [],
   "source": [
    "BSMparams = model.model_params()\n",
    "\n",
    "BSMparams.gprime = np.sqrt(0.1*np.pi*4)\n",
    "BSMparams.chi = np.sqrt(4.6e-4)/const.cw\n",
    "BSMparams.Ue4 = 0.0\n",
    "BSMparams.Umu4 = np.sqrt(2.2e-7)\n",
    "BSMparams.Utau4 = 0\n",
    "BSMparams.Ue5 = 0.0\n",
    "BSMparams.Umu5 = 0*np.sqrt(26.5e-8)\n",
    "BSMparams.Utau5 = 0\n",
    "BSMparams.Ue6 = 0.0\n",
    "BSMparams.Umu6 = 0*np.sqrt(123.0e-8*0.0629)\n",
    "BSMparams.Utau6 = 0\n",
    "BSMparams.UD4 = 1.0\n",
    "BSMparams.UD5 = 1.0\n",
    "BSMparams.UD6 = 1.0\n",
    "BSMparams.m4 = 0.5\n",
    "BSMparams.m5 = 1e6\n",
    "BSMparams.m6 = 1e6\n",
    "BSMparams.Mzprime = 10.0\n",
    "BSMparams.Dirac = 0\n",
    "\n",
    "BSMparams.set_high_level_variables()\n",
    "\n",
    "BSMparams.hierarchy = 'heavy_mediator'\n",
    "BSMparams.scan = False\n",
    "\n",
    "myexp = exp.experiment(\"miniboone\")"
   ]
  },
  {
   "cell_type": "markdown",
   "id": "reduced-pencil",
   "metadata": {},
   "source": [
    "## Getting integrals from VEGAS"
   ]
  },
  {
   "cell_type": "code",
   "execution_count": 68,
   "id": "aware-public",
   "metadata": {},
   "outputs": [],
   "source": [
    "bag = MC.run_MC(BSMparams, myexp, [pdg.numu], INCLUDE_DIF=False)\n",
    "\n",
    "vegasint = bag['I_decay']"
   ]
  },
  {
   "cell_type": "markdown",
   "id": "chinese-paragraph",
   "metadata": {},
   "source": [
    "## Analytical approximation"
   ]
  },
  {
   "cell_type": "code",
   "execution_count": 73,
   "id": "partial-backup",
   "metadata": {},
   "outputs": [],
   "source": [
    "Valpha4_alphaepsilon2 = BSMparams.gprime**2/4.0/np.pi*BSMparams.Umu4**2 *(BSMparams.chi*const.cw)**2*const.alphaQED\n",
    "\n",
    "analytical=gamma_heavy(BSMparams.m4, BSMparams.Mzprime, Valpha4_alphaepsilon2)\n",
    "analytical_contact=gamma_heavy_contact(BSMparams.m4, BSMparams.Mzprime, Valpha4_alphaepsilon2)\n",
    "analytical_general=gamma_general(BSMparams.m4, BSMparams.Mzprime, Valpha4_alphaepsilon2,1e-6)"
   ]
  },
  {
   "cell_type": "markdown",
   "id": "proof-egypt",
   "metadata": {},
   "source": [
    "## My own integration using qdlbquad"
   ]
  },
  {
   "cell_type": "code",
   "execution_count": 74,
   "id": "entertaining-tooth",
   "metadata": {},
   "outputs": [],
   "source": [
    "myint = decay_rates.nui_nuj_ell1_ell2(BSMparams, pdg.neutrino4, const.neutrino_muon, const.electron, const.electron, SM=False)"
   ]
  },
  {
   "cell_type": "code",
   "execution_count": 76,
   "id": "opened-stanford",
   "metadata": {},
   "outputs": [
    {
     "name": "stdout",
     "output_type": "stream",
     "text": [
      "vegasint =  3.1531087817738836e-21\n",
      "myint =  3.154015535763779e-21\n",
      "analytical =  3.0607985665189053e-21\n",
      "analytical_contact =  3.060798566518905e-21\n",
      "analytical_general =  3.0654617873303424e-21\n"
     ]
    }
   ],
   "source": [
    "print('vegasint = ', vegasint)\n",
    "print('myint = ', myint)\n",
    "print('analytical = ', analytical)\n",
    "print('analytical_contact = ', analytical_contact)\n",
    "print('analytical_general = ', analytical_general)"
   ]
  },
  {
   "cell_type": "markdown",
   "id": "random-while",
   "metadata": {},
   "source": [
    "## ps\n",
    "\n",
    "\n",
    "It is all consistent now. Note that if I set gprime <<<< 1, then analytical breaks down due to lack of SM contribution. "
   ]
  },
  {
   "cell_type": "code",
   "execution_count": 81,
   "id": "heated-spain",
   "metadata": {},
   "outputs": [
    {
     "name": "stdout",
     "output_type": "stream",
     "text": [
      "analytical =  1.9129991040743155e-26\n",
      "analytical_contact =  1.9129991040743155e-26\n"
     ]
    }
   ],
   "source": [
    "def gamma_heavy(m4, mz, Valpha4_alphaepsilon2):\n",
    "    r=(m4/mz)**2\n",
    "    gamma = Valpha4_alphaepsilon2/12.0/np.pi/r**2 * m4\n",
    "    piece = (6*(r -  r**2/2.0 - np.log((1.0/(1.0-r))**(1 - r)) )- r**3)*np.heaviside(r-0.01,0)\\\n",
    "    +r**4/2 * np.heaviside(0.01-r, 1)\n",
    "    gamma *=  piece\n",
    "    return gamma*np.heaviside(mz - m4,0)\n",
    "\n",
    "mz=200\n",
    "analytical=gamma_heavy(BSMparams.m4, mz, Valpha4_alphaepsilon2)\n",
    "analytical_contact=gamma_heavy_contact(BSMparams.m4, mz, Valpha4_alphaepsilon2)\n",
    "\n",
    "print('analytical = ', analytical)\n",
    "print('analytical_contact = ', analytical_contact)"
   ]
  },
  {
   "cell_type": "code",
   "execution_count": 95,
   "id": "competent-report",
   "metadata": {},
   "outputs": [
    {
     "name": "stderr",
     "output_type": "stream",
     "text": [
      "<ipython-input-81-c3d7403bd8a0>:4: RuntimeWarning: divide by zero encountered in true_divide\n",
      "  piece = (6*(r -  r**2/2.0 - np.log((1.0/(1.0-r))**(1 - r)) )- r**3)*np.heaviside(r-0.01,0)\\\n",
      "<ipython-input-81-c3d7403bd8a0>:4: RuntimeWarning: overflow encountered in power\n",
      "  piece = (6*(r -  r**2/2.0 - np.log((1.0/(1.0-r))**(1 - r)) )- r**3)*np.heaviside(r-0.01,0)\\\n",
      "<ipython-input-81-c3d7403bd8a0>:4: RuntimeWarning: invalid value encountered in power\n",
      "  piece = (6*(r -  r**2/2.0 - np.log((1.0/(1.0-r))**(1 - r)) )- r**3)*np.heaviside(r-0.01,0)\\\n",
      "<ipython-input-81-c3d7403bd8a0>:4: RuntimeWarning: invalid value encountered in log\n",
      "  piece = (6*(r -  r**2/2.0 - np.log((1.0/(1.0-r))**(1 - r)) )- r**3)*np.heaviside(r-0.01,0)\\\n",
      "/Users/matheushostert/Repos/nicgen/exp_analysis/exp_analysis.py:365: RuntimeWarning: divide by zero encountered in true_divide\n",
      "  def gamma_heavy_contact_integrated(m4_s, mz_s, Valpha4_alphaepsilon2, normalised=True):\n",
      "/Users/matheushostert/Repos/nicgen/exp_analysis/exp_analysis.py:365: RuntimeWarning: invalid value encountered in log\n",
      "  def gamma_heavy_contact_integrated(m4_s, mz_s, Valpha4_alphaepsilon2, normalised=True):\n"
     ]
    },
    {
     "data": {
      "text/plain": [
       "<matplotlib.legend.Legend at 0x129362220>"
      ]
     },
     "execution_count": 95,
     "metadata": {},
     "output_type": "execute_result"
    },
    {
     "data": {
      "image/png": "[encoded data removed]",
      "text/plain": [
       "<Figure size 432x288 with 1 Axes>"
      ]
     },
     "metadata": {
      "needs_background": "light"
     },
     "output_type": "display_data"
    }
   ],
   "source": [
    "x=np.logspace(-3,0,1000)\n",
    "M4 = 0.1\n",
    "plt.plot(x, gamma_heavy_contact(M4, x, Valpha4_alphaepsilon2),label='contact interaction')\n",
    "plt.plot(x, gamma_heavy(M4, x, Valpha4_alphaepsilon2),label='includig Q2 in propagator')\n",
    "plt.plot(x, gamma_general(M4, x, Valpha4_alphaepsilon2, Valpha4_alphaepsilon2*x/3.0),label='full BSM-only')\n",
    "plt.xlabel('mzprime/GeV')\n",
    "plt.ylabel('decay rate/GeV')\n",
    "# plt.yscale('log')\n",
    "# plt.xscale('log')\n",
    "plt.title(f'm4 = {BSMparams.m4}')\n",
    "plt.legend(frameon=False)"
   ]
  },
  {
   "cell_type": "code",
   "execution_count": null,
   "id": "judicial-prerequisite",
   "metadata": {},
   "outputs": [],
   "source": []
  }
 ],
 "metadata": {
  "kernelspec": {
   "display_name": "Python 3",
   "language": "python",
   "name": "python3"
  },
  "language_info": {
   "codemirror_mode": {
    "name": "ipython",
    "version": 3
   },
   "file_extension": ".py",
   "mimetype": "text/x-python",
   "name": "python",
   "nbconvert_exporter": "python",
   "pygments_lexer": "ipython3",
   "version": "3.9.2"
  }
 },
 "nbformat": 4,
 "nbformat_minor": 5
}
